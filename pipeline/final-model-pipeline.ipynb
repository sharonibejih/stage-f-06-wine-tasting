{
 "cells": [
  {
   "cell_type": "code",
   "execution_count": 1,
   "metadata": {
    "execution": {
     "iopub.execute_input": "2020-11-14T18:55:22.579505Z",
     "iopub.status.busy": "2020-11-14T18:55:22.578741Z",
     "iopub.status.idle": "2020-11-14T18:55:27.313444Z",
     "shell.execute_reply": "2020-11-14T18:55:27.311934Z"
    },
    "papermill": {
     "duration": 4.780391,
     "end_time": "2020-11-14T18:55:27.313613",
     "exception": false,
     "start_time": "2020-11-14T18:55:22.533222",
     "status": "completed"
    },
    "tags": []
   },
   "outputs": [],
   "source": [
    "import numpy as np\n",
    "import tensorflow as tf\n",
    "import random as python_random"
   ]
  },
  {
   "cell_type": "code",
   "execution_count": 2,
   "metadata": {
    "execution": {
     "iopub.execute_input": "2020-11-14T18:55:27.399327Z",
     "iopub.status.busy": "2020-11-14T18:55:27.398549Z",
     "iopub.status.idle": "2020-11-14T18:55:27.401603Z",
     "shell.execute_reply": "2020-11-14T18:55:27.400945Z"
    },
    "papermill": {
     "duration": 0.04865,
     "end_time": "2020-11-14T18:55:27.401713",
     "exception": false,
     "start_time": "2020-11-14T18:55:27.353063",
     "status": "completed"
    },
    "tags": []
   },
   "outputs": [],
   "source": [
    "np.random.seed(1)\n",
    "python_random.seed(12)\n",
    "tf.random.set_seed(123)"
   ]
  },
  {
   "cell_type": "code",
   "execution_count": 3,
   "metadata": {
    "execution": {
     "iopub.execute_input": "2020-11-14T18:55:27.489267Z",
     "iopub.status.busy": "2020-11-14T18:55:27.488661Z",
     "iopub.status.idle": "2020-11-14T18:55:31.150275Z",
     "shell.execute_reply": "2020-11-14T18:55:31.149177Z"
    },
    "papermill": {
     "duration": 3.709798,
     "end_time": "2020-11-14T18:55:31.150406",
     "exception": false,
     "start_time": "2020-11-14T18:55:27.440608",
     "status": "completed"
    },
    "tags": []
   },
   "outputs": [],
   "source": [
    "# importing useful libraries\n",
    "import pandas as pd\n",
    "import matplotlib.pyplot as plt\n",
    "import seaborn as sns\n",
    "import requests\n",
    "import re\n",
    "import gzip\n",
    "import dill\n",
    "\n",
    "import time \n",
    "\n",
    "import warnings\n",
    "warnings.filterwarnings('ignore')\n",
    "\n",
    "# importing ml libraries\n",
    "from sklearn.preprocessing import LabelEncoder, OneHotEncoder\n",
    "from sklearn.model_selection import train_test_split\n",
    "from sklearn.metrics import accuracy_score, f1_score\n",
    "from sklearn.utils import class_weight\n",
    "from sklearn.pipeline import Pipeline, FeatureUnion\n",
    "from sklearn.base import BaseEstimator, TransformerMixin, ClassifierMixin\n",
    "\n",
    "# import nlp libraries\n",
    "import spacy\n",
    "from nltk.tokenize import sent_tokenize \n",
    "from gensim.models import Word2Vec \n",
    "\n",
    "# importing deep learning libraries\n",
    "from tensorflow.keras.preprocessing.text import Tokenizer\n",
    "from tensorflow.keras.preprocessing.sequence import pad_sequences\n",
    "from tensorflow.keras.layers import Embedding, Dense, GlobalMaxPool1D, Conv1D, Dropout, LSTM, Bidirectional\n",
    "from tensorflow.keras.models import Sequential\n",
    "from tensorflow.keras.optimizers import Adam\n",
    "from tensorflow.keras.wrappers.scikit_learn import KerasClassifier"
   ]
  },
  {
   "cell_type": "markdown",
   "metadata": {
    "papermill": {
     "duration": 0.041393,
     "end_time": "2020-11-14T18:55:31.233271",
     "exception": false,
     "start_time": "2020-11-14T18:55:31.191878",
     "status": "completed"
    },
    "tags": []
   },
   "source": [
    "### Downloading the data from our github repository"
   ]
  },
  {
   "cell_type": "code",
   "execution_count": 4,
   "metadata": {
    "execution": {
     "iopub.execute_input": "2020-11-14T18:55:31.327356Z",
     "iopub.status.busy": "2020-11-14T18:55:31.326550Z",
     "iopub.status.idle": "2020-11-14T18:55:31.330218Z",
     "shell.execute_reply": "2020-11-14T18:55:31.329737Z"
    },
    "papermill": {
     "duration": 0.055413,
     "end_time": "2020-11-14T18:55:31.330398",
     "exception": false,
     "start_time": "2020-11-14T18:55:31.274985",
     "status": "completed"
    },
    "tags": []
   },
   "outputs": [],
   "source": [
    "url = 'https://raw.github.com/HamoyeHQ/stage-f-06-wine-tasting/master/data/top_20_varieties_df.zip'"
   ]
  },
  {
   "cell_type": "code",
   "execution_count": 5,
   "metadata": {
    "execution": {
     "iopub.execute_input": "2020-11-14T18:55:31.428075Z",
     "iopub.status.busy": "2020-11-14T18:55:31.427355Z",
     "iopub.status.idle": "2020-11-14T18:55:34.211510Z",
     "shell.execute_reply": "2020-11-14T18:55:34.210358Z"
    },
    "papermill": {
     "duration": 2.840417,
     "end_time": "2020-11-14T18:55:34.211650",
     "exception": false,
     "start_time": "2020-11-14T18:55:31.371233",
     "status": "completed"
    },
    "tags": []
   },
   "outputs": [],
   "source": [
    "df = pd.read_csv(url)"
   ]
  },
  {
   "cell_type": "code",
   "execution_count": 6,
   "metadata": {
    "execution": {
     "iopub.execute_input": "2020-11-14T18:55:34.332684Z",
     "iopub.status.busy": "2020-11-14T18:55:34.330905Z",
     "iopub.status.idle": "2020-11-14T18:55:34.333387Z",
     "shell.execute_reply": "2020-11-14T18:55:34.333878Z"
    },
    "papermill": {
     "duration": 0.082551,
     "end_time": "2020-11-14T18:55:34.334003",
     "exception": false,
     "start_time": "2020-11-14T18:55:34.251452",
     "status": "completed"
    },
    "tags": []
   },
   "outputs": [],
   "source": [
    "corpus = list(df['corpus'])"
   ]
  },
  {
   "cell_type": "code",
   "execution_count": 7,
   "metadata": {
    "execution": {
     "iopub.execute_input": "2020-11-14T18:55:34.436807Z",
     "iopub.status.busy": "2020-11-14T18:55:34.436097Z",
     "iopub.status.idle": "2020-11-14T18:55:34.440185Z",
     "shell.execute_reply": "2020-11-14T18:55:34.439672Z"
    },
    "papermill": {
     "duration": 0.066634,
     "end_time": "2020-11-14T18:55:34.440281",
     "exception": false,
     "start_time": "2020-11-14T18:55:34.373647",
     "status": "completed"
    },
    "tags": []
   },
   "outputs": [],
   "source": [
    "labels = list(df['variety'])"
   ]
  },
  {
   "cell_type": "markdown",
   "metadata": {
    "papermill": {
     "duration": 0.039392,
     "end_time": "2020-11-14T18:55:34.519360",
     "exception": false,
     "start_time": "2020-11-14T18:55:34.479968",
     "status": "completed"
    },
    "tags": []
   },
   "source": [
    "## Here is our workflow. It tells the whole story. (source: our github repo)"
   ]
  },
  {
   "cell_type": "markdown",
   "metadata": {
    "papermill": {
     "duration": 0.039268,
     "end_time": "2020-11-14T18:55:34.598219",
     "exception": false,
     "start_time": "2020-11-14T18:55:34.558951",
     "status": "completed"
    },
    "tags": []
   },
   "source": [
    "![workflow_image](https://raw.github.com/HamoyeHQ/stage-f-06-wine-tasting/master/images/final_model_workflow.png)"
   ]
  },
  {
   "cell_type": "markdown",
   "metadata": {
    "papermill": {
     "duration": 0.039443,
     "end_time": "2020-11-14T18:55:34.677496",
     "exception": false,
     "start_time": "2020-11-14T18:55:34.638053",
     "status": "completed"
    },
    "tags": []
   },
   "source": [
    "# 1.0 Data Preprocessing"
   ]
  },
  {
   "cell_type": "code",
   "execution_count": 8,
   "metadata": {
    "execution": {
     "iopub.execute_input": "2020-11-14T18:55:34.762312Z",
     "iopub.status.busy": "2020-11-14T18:55:34.761613Z",
     "iopub.status.idle": "2020-11-14T18:55:35.768911Z",
     "shell.execute_reply": "2020-11-14T18:55:35.768344Z"
    },
    "papermill": {
     "duration": 1.051638,
     "end_time": "2020-11-14T18:55:35.769019",
     "exception": false,
     "start_time": "2020-11-14T18:55:34.717381",
     "status": "completed"
    },
    "tags": []
   },
   "outputs": [],
   "source": [
    "# creating a spacy pipeline and disabling tagger, parser and ner to speed up tokenizer\n",
    "nlp = spacy.load('en', disable=['tagger', 'parser', 'ner']) "
   ]
  },
  {
   "cell_type": "code",
   "execution_count": 9,
   "metadata": {
    "execution": {
     "iopub.execute_input": "2020-11-14T18:55:35.854877Z",
     "iopub.status.busy": "2020-11-14T18:55:35.854064Z",
     "iopub.status.idle": "2020-11-14T18:55:35.857052Z",
     "shell.execute_reply": "2020-11-14T18:55:35.856584Z"
    },
    "papermill": {
     "duration": 0.046718,
     "end_time": "2020-11-14T18:55:35.857153",
     "exception": false,
     "start_time": "2020-11-14T18:55:35.810435",
     "status": "completed"
    },
    "tags": []
   },
   "outputs": [],
   "source": [
    "spacy_stop_words = spacy.lang.en.STOP_WORDS # getting spacy's stop-words"
   ]
  },
  {
   "cell_type": "code",
   "execution_count": 10,
   "metadata": {
    "execution": {
     "iopub.execute_input": "2020-11-14T18:55:35.942130Z",
     "iopub.status.busy": "2020-11-14T18:55:35.941365Z",
     "iopub.status.idle": "2020-11-14T18:55:36.934424Z",
     "shell.execute_reply": "2020-11-14T18:55:36.933012Z"
    },
    "papermill": {
     "duration": 1.037394,
     "end_time": "2020-11-14T18:55:36.934582",
     "exception": false,
     "start_time": "2020-11-14T18:55:35.897188",
     "status": "completed"
    },
    "tags": []
   },
   "outputs": [],
   "source": [
    "# downloading yoast_stop_words to be included to spacy's stop words to improve performance\n",
    "response = requests.get('https://raw.github.com/Yoast/YoastSEO.js/develop/src/config/stopwords.js')\n",
    "yoast_stop_words = response.content.decode()"
   ]
  },
  {
   "cell_type": "code",
   "execution_count": 11,
   "metadata": {
    "execution": {
     "iopub.execute_input": "2020-11-14T18:55:37.023973Z",
     "iopub.status.busy": "2020-11-14T18:55:37.023028Z",
     "iopub.status.idle": "2020-11-14T18:55:37.026823Z",
     "shell.execute_reply": "2020-11-14T18:55:37.027281Z"
    },
    "papermill": {
     "duration": 0.051126,
     "end_time": "2020-11-14T18:55:37.027404",
     "exception": false,
     "start_time": "2020-11-14T18:55:36.976278",
     "status": "completed"
    },
    "tags": []
   },
   "outputs": [
    {
     "data": {
      "text/plain": [
       "'/** @module config/stopwords */\\n\\n/**\\n * Returns an array with stopwords to be used by the analyzer.\\n *\\n * @returns {Array} stopwords The array filled with stopwords.\\n */\\nexport default function() {\\n\\treturn [ \"a\", \"about\", \"above\", \"after\", \"again\", \"against\", \"all\", \"am\", \"an\", \"and\", \"any\", \"are\", \"as\", \"at\", \"be\", \"because\", \"been\", \"before\", \"being\", \"below\", \"between\", \"both\", \"but\", \"by\", \"could\", \"did\", \"do\", \"does\", \"doing\", \"down\", \"during\", \"each\", \"few\", \"for\", \"from\", \"further\", \"had\", \"has\", \"have\", \"having\", \"he\", \"he\\'d\", \"he\\'ll\", \"he\\'s\", \"her\", \"here\", \"here\\'s\", \"hers\", \"herself\", \"him\", \"himself\", \"his\", \"how\", \"how\\'s\", \"i\", \"i\\'d\", \"i\\'ll\", \"i\\'m\", \"i\\'ve\", \"if\", \"in\", \"into\", \"is\", \"it\", \"it\\'s\", \"its\", \"itself\", \"let\\'s\", \"me\", \"more\", \"most\", \"my\", \"myself\", \"nor\", \"of\", \"on\", \"once\", \"only\", \"or\", \"other\", \"ought\", \"our\", \"ours\", \"ourselves\", \"out\", \"over\", \"own\", \"same\", \"she\", \"she\\'d\", \"she\\'ll\", \"she\\'s\", \"should\", \"so\", \"some\", \"such\", \"than\", \"that\", \"that\\'s\", \"the\", \"their\", \"theirs\", \"them\", \"themselves\", \"then\", \"there\", \"there\\'s\", \"these\", \"they\", \"they\\'d\", \"they\\'ll\", \"they\\'re\", \"they\\'ve\", \"this\", \"those\", \"through\", \"to\", \"too\", \"under\", \"until\", \"up\", \"very\", \"was\", \"we\", \"we\\'d\", \"we\\'ll\", \"we\\'re\", \"we\\'ve\", \"were\", \"what\", \"what\\'s\", \"when\", \"when\\'s\", \"where\", \"where\\'s\", \"which\", \"while\", \"who\", \"who\\'s\", \"whom\", \"why\", \"why\\'s\", \"with\", \"would\", \"you\", \"you\\'d\", \"you\\'ll\", \"you\\'re\", \"you\\'ve\", \"your\", \"yours\", \"yourself\", \"yourselves\" ];\\n};\\n'"
      ]
     },
     "execution_count": 11,
     "metadata": {},
     "output_type": "execute_result"
    }
   ],
   "source": [
    "yoast_stop_words"
   ]
  },
  {
   "cell_type": "code",
   "execution_count": 12,
   "metadata": {
    "execution": {
     "iopub.execute_input": "2020-11-14T18:55:37.117294Z",
     "iopub.status.busy": "2020-11-14T18:55:37.116346Z",
     "iopub.status.idle": "2020-11-14T18:55:37.121164Z",
     "shell.execute_reply": "2020-11-14T18:55:37.120640Z"
    },
    "papermill": {
     "duration": 0.052432,
     "end_time": "2020-11-14T18:55:37.121282",
     "exception": false,
     "start_time": "2020-11-14T18:55:37.068850",
     "status": "completed"
    },
    "tags": []
   },
   "outputs": [
    {
     "name": "stdout",
     "output_type": "stream",
     "text": [
      "length of yoast_stop_words is 153\n",
      "\n",
      "{'am', 'a', 'where', 'me', 'with', 'are', 'it', \"it's\", \"you've\", 'as', \"she'll\", \"they'd\", 'our', 'yourselves', 'because', \"we've\", \"they've\", \"she'd\", 'or', 'he', 'who', \"you'll\", \"let's\", \"how's\", 'both', \"we'll\", 'had', \"i'll\", 'nor', 'on', 'is', 'that', 'after', 'then', 'were', 'further', 'before', 'its', 'hers', 'have', 'of', 'my', 'how', \"why's\", 'being', 'out', 'all', 'whom', 'for', 'did', \"i'd\", 'herself', 'this', 'should', 'yourself', 'most', 'his', 'their', \"you're\", 'an', \"he'll\", 'few', 'if', 'during', 'why', 'these', \"they'll\", 'some', \"when's\", 'very', 'be', 'your', \"there's\", 'would', \"he'd\", 'theirs', 'down', 'too', \"that's\", 'but', 'until', 'themselves', 'from', \"he's\", 'them', \"she's\", 'same', 'which', 'than', 'to', 'doing', 'against', \"what's\", 'her', 'once', 'i', 'other', 'in', \"we're\", 'by', 'again', 'and', 'own', 'was', \"where's\", \"you'd\", 'does', 'myself', 'each', 'here', 'only', 'over', 'the', 'when', 'into', 'about', 'do', 'ours', 'him', 'ought', 'more', 'above', 'under', \"they're\", \"here's\", 'you', 'himself', 'through', 'they', 'below', 'so', 'having', 'been', 'such', \"who's\", 'has', 'what', 'those', \"we'd\", 'we', 'she', 'any', 'at', 'ourselves', 'itself', 'could', 'yours', \"i've\", \"i'm\", 'there', 'up', 'between', 'while'}\n"
     ]
    }
   ],
   "source": [
    "pattern = r'\\[.+\\]'\n",
    "match = re.search(pattern, yoast_stop_words)\n",
    "yoast_stop_words = set(match.group()[1:-1].replace('\"', '').replace(',', '').split())\n",
    "print(f'length of yoast_stop_words is {len(yoast_stop_words)}\\n')\n",
    "print(yoast_stop_words)"
   ]
  },
  {
   "cell_type": "code",
   "execution_count": 13,
   "metadata": {
    "execution": {
     "iopub.execute_input": "2020-11-14T18:55:37.225885Z",
     "iopub.status.busy": "2020-11-14T18:55:37.223293Z",
     "iopub.status.idle": "2020-11-14T18:55:37.228665Z",
     "shell.execute_reply": "2020-11-14T18:55:37.228107Z"
    },
    "papermill": {
     "duration": 0.065776,
     "end_time": "2020-11-14T18:55:37.228768",
     "exception": false,
     "start_time": "2020-11-14T18:55:37.162992",
     "status": "completed"
    },
    "tags": []
   },
   "outputs": [],
   "source": [
    "stop_words_lemma = {word.lemma_.lower() for word in nlp(' '.join(spacy_stop_words | yoast_stop_words))} | \\\n",
    "{'-pron-', '10', '12', 'aah', 'aa', 'ab', 'aaa', 'aand', '16', '2', '20', '30', '4', '40', '5', '6', '7', \\\n",
    " '8', '9'}"
   ]
  },
  {
   "cell_type": "markdown",
   "metadata": {
    "papermill": {
     "duration": 0.041274,
     "end_time": "2020-11-14T18:55:37.311521",
     "exception": false,
     "start_time": "2020-11-14T18:55:37.270247",
     "status": "completed"
    },
    "tags": []
   },
   "source": [
    "## Creating custom transformers to encapsulate our data preprocessing"
   ]
  },
  {
   "cell_type": "code",
   "execution_count": 14,
   "metadata": {
    "execution": {
     "iopub.execute_input": "2020-11-14T18:55:37.403793Z",
     "iopub.status.busy": "2020-11-14T18:55:37.402941Z",
     "iopub.status.idle": "2020-11-14T18:55:37.406376Z",
     "shell.execute_reply": "2020-11-14T18:55:37.405866Z"
    },
    "papermill": {
     "duration": 0.053244,
     "end_time": "2020-11-14T18:55:37.406489",
     "exception": false,
     "start_time": "2020-11-14T18:55:37.353245",
     "status": "completed"
    },
    "tags": []
   },
   "outputs": [],
   "source": [
    "class GetTokens(BaseEstimator, TransformerMixin):\n",
    "    def __init__(self, stop_words=stop_words_lemma):\n",
    "        self.stop_words = stop_words\n",
    "    \n",
    "    # defining tokenzer function to tokenize the lower case lemma of documents in a corpus and \n",
    "    # filter out stop-words  \n",
    "    def tokenize(self, text):\n",
    "        return [word.lemma_.lower() for word in nlp(text) if word.is_alpha and word.lemma_.lower() \\\n",
    "                not in self.stop_words]\n",
    "\n",
    "    def fit(self, X, y=None):\n",
    "        return self\n",
    "    \n",
    "    def transform(self, X):\n",
    "        self.tokens = [self.tokenize(doc) for doc in X]\n",
    "            \n",
    "        return self.tokens"
   ]
  },
  {
   "cell_type": "code",
   "execution_count": 15,
   "metadata": {
    "execution": {
     "iopub.execute_input": "2020-11-14T18:55:37.494563Z",
     "iopub.status.busy": "2020-11-14T18:55:37.493717Z",
     "iopub.status.idle": "2020-11-14T18:55:37.496731Z",
     "shell.execute_reply": "2020-11-14T18:55:37.496218Z"
    },
    "papermill": {
     "duration": 0.048623,
     "end_time": "2020-11-14T18:55:37.496839",
     "exception": false,
     "start_time": "2020-11-14T18:55:37.448216",
     "status": "completed"
    },
    "tags": []
   },
   "outputs": [],
   "source": [
    "tokens = GetTokens()"
   ]
  },
  {
   "cell_type": "code",
   "execution_count": null,
   "metadata": {
    "papermill": {
     "duration": 0.041501,
     "end_time": "2020-11-14T18:55:37.580042",
     "exception": false,
     "start_time": "2020-11-14T18:55:37.538541",
     "status": "completed"
    },
    "tags": []
   },
   "outputs": [],
   "source": []
  },
  {
   "cell_type": "code",
   "execution_count": 16,
   "metadata": {
    "execution": {
     "iopub.execute_input": "2020-11-14T18:55:37.671398Z",
     "iopub.status.busy": "2020-11-14T18:55:37.670504Z",
     "iopub.status.idle": "2020-11-14T18:55:37.672760Z",
     "shell.execute_reply": "2020-11-14T18:55:37.673245Z"
    },
    "papermill": {
     "duration": 0.051484,
     "end_time": "2020-11-14T18:55:37.673368",
     "exception": false,
     "start_time": "2020-11-14T18:55:37.621884",
     "status": "completed"
    },
    "tags": []
   },
   "outputs": [],
   "source": [
    "class Text2Sequence(BaseEstimator, TransformerMixin):\n",
    "    def __init__(self):\n",
    "        self.sequence_tokenizer = Tokenizer(oov_token='<oov>')\n",
    "\n",
    "    def fit(self, X, y=None):\n",
    "        self.sequence_tokenizer.fit_on_texts(X)\n",
    "        self.words_indices = self.sequence_tokenizer.word_index\n",
    "        return self\n",
    "    \n",
    "    def transform(self, X):\n",
    "        self.get_sequences = self.sequence_tokenizer.texts_to_sequences(X)\n",
    "        return self.get_sequences"
   ]
  },
  {
   "cell_type": "code",
   "execution_count": 17,
   "metadata": {
    "execution": {
     "iopub.execute_input": "2020-11-14T18:55:37.762982Z",
     "iopub.status.busy": "2020-11-14T18:55:37.762131Z",
     "iopub.status.idle": "2020-11-14T18:55:37.765166Z",
     "shell.execute_reply": "2020-11-14T18:55:37.764693Z"
    },
    "papermill": {
     "duration": 0.049431,
     "end_time": "2020-11-14T18:55:37.765268",
     "exception": false,
     "start_time": "2020-11-14T18:55:37.715837",
     "status": "completed"
    },
    "tags": []
   },
   "outputs": [],
   "source": [
    "text_2_seq = Text2Sequence()"
   ]
  },
  {
   "cell_type": "code",
   "execution_count": null,
   "metadata": {
    "papermill": {
     "duration": 0.041894,
     "end_time": "2020-11-14T18:55:37.849440",
     "exception": false,
     "start_time": "2020-11-14T18:55:37.807546",
     "status": "completed"
    },
    "tags": []
   },
   "outputs": [],
   "source": []
  },
  {
   "cell_type": "code",
   "execution_count": 18,
   "metadata": {
    "execution": {
     "iopub.execute_input": "2020-11-14T18:55:37.941674Z",
     "iopub.status.busy": "2020-11-14T18:55:37.940728Z",
     "iopub.status.idle": "2020-11-14T18:55:37.943442Z",
     "shell.execute_reply": "2020-11-14T18:55:37.942964Z"
    },
    "papermill": {
     "duration": 0.051926,
     "end_time": "2020-11-14T18:55:37.943559",
     "exception": false,
     "start_time": "2020-11-14T18:55:37.891633",
     "status": "completed"
    },
    "tags": []
   },
   "outputs": [],
   "source": [
    "class Padding(BaseEstimator, TransformerMixin):\n",
    "    def __init__(self, pad='post'):\n",
    "        self.pad = pad\n",
    "    \n",
    "    def fit(self, X, y=None):\n",
    "        return self\n",
    "    \n",
    "    def transform(self, X):\n",
    "        self.get_paddings = pad_sequences(X, padding=self.pad)\n",
    "        return self.get_paddings"
   ]
  },
  {
   "cell_type": "code",
   "execution_count": 19,
   "metadata": {
    "execution": {
     "iopub.execute_input": "2020-11-14T18:55:38.032730Z",
     "iopub.status.busy": "2020-11-14T18:55:38.031835Z",
     "iopub.status.idle": "2020-11-14T18:55:38.034569Z",
     "shell.execute_reply": "2020-11-14T18:55:38.034046Z"
    },
    "papermill": {
     "duration": 0.048965,
     "end_time": "2020-11-14T18:55:38.034668",
     "exception": false,
     "start_time": "2020-11-14T18:55:37.985703",
     "status": "completed"
    },
    "tags": []
   },
   "outputs": [],
   "source": [
    "pad = Padding()"
   ]
  },
  {
   "cell_type": "code",
   "execution_count": null,
   "metadata": {
    "papermill": {
     "duration": 0.041907,
     "end_time": "2020-11-14T18:55:38.118685",
     "exception": false,
     "start_time": "2020-11-14T18:55:38.076778",
     "status": "completed"
    },
    "tags": []
   },
   "outputs": [],
   "source": []
  },
  {
   "cell_type": "code",
   "execution_count": 20,
   "metadata": {
    "execution": {
     "iopub.execute_input": "2020-11-14T18:55:38.208897Z",
     "iopub.status.busy": "2020-11-14T18:55:38.208039Z",
     "iopub.status.idle": "2020-11-14T18:55:38.211062Z",
     "shell.execute_reply": "2020-11-14T18:55:38.210579Z"
    },
    "papermill": {
     "duration": 0.050295,
     "end_time": "2020-11-14T18:55:38.211164",
     "exception": false,
     "start_time": "2020-11-14T18:55:38.160869",
     "status": "completed"
    },
    "tags": []
   },
   "outputs": [],
   "source": [
    "data_prep_pipe = Pipeline([('get_tokens', tokens), ('text_2_sequence', text_2_seq), ('padding', pad)], verbose=1)"
   ]
  },
  {
   "cell_type": "code",
   "execution_count": 21,
   "metadata": {
    "execution": {
     "iopub.execute_input": "2020-11-14T18:55:38.336863Z",
     "iopub.status.busy": "2020-11-14T18:55:38.335871Z",
     "iopub.status.idle": "2020-11-14T18:55:38.451001Z",
     "shell.execute_reply": "2020-11-14T18:55:38.450442Z"
    },
    "papermill": {
     "duration": 0.197579,
     "end_time": "2020-11-14T18:55:38.451117",
     "exception": false,
     "start_time": "2020-11-14T18:55:38.253538",
     "status": "completed"
    },
    "tags": []
   },
   "outputs": [],
   "source": [
    "le = LabelEncoder()\n",
    "one_hot = OneHotEncoder(sparse=False) \n",
    "        \n",
    "encoded_labels = le.fit_transform(labels)\n",
    "one_hot_labels = one_hot.fit_transform(encoded_labels.reshape(-1, 1))"
   ]
  },
  {
   "cell_type": "code",
   "execution_count": 22,
   "metadata": {
    "execution": {
     "iopub.execute_input": "2020-11-14T18:55:38.575507Z",
     "iopub.status.busy": "2020-11-14T18:55:38.565115Z",
     "iopub.status.idle": "2020-11-14T18:56:49.979542Z",
     "shell.execute_reply": "2020-11-14T18:56:49.980331Z"
    },
    "papermill": {
     "duration": 71.486427,
     "end_time": "2020-11-14T18:56:49.980553",
     "exception": false,
     "start_time": "2020-11-14T18:55:38.494126",
     "status": "completed"
    },
    "tags": []
   },
   "outputs": [
    {
     "name": "stdout",
     "output_type": "stream",
     "text": [
      "[Pipeline] ........ (step 1 of 3) Processing get_tokens, total= 1.1min\n",
      "[Pipeline] ... (step 2 of 3) Processing text_2_sequence, total=   6.3s\n",
      "[Pipeline] ........... (step 3 of 3) Processing padding, total=   1.7s\n"
     ]
    }
   ],
   "source": [
    "X_prep = data_prep_pipe.fit_transform(corpus) # getting processed corpus"
   ]
  },
  {
   "cell_type": "code",
   "execution_count": 23,
   "metadata": {
    "execution": {
     "iopub.execute_input": "2020-11-14T18:56:50.079592Z",
     "iopub.status.busy": "2020-11-14T18:56:50.078895Z",
     "iopub.status.idle": "2020-11-14T18:59:24.974055Z",
     "shell.execute_reply": "2020-11-14T18:59:24.972910Z"
    },
    "papermill": {
     "duration": 154.947986,
     "end_time": "2020-11-14T18:59:24.974190",
     "exception": false,
     "start_time": "2020-11-14T18:56:50.026204",
     "status": "completed"
    },
    "tags": []
   },
   "outputs": [],
   "source": [
    "# saving data preparation pipeline\n",
    "with gzip.open(\"wine_tasting_data_prep.dill.gz\", \"wb\") as f:\n",
    "    dill.dump(data_prep_pipe, f, recurse=True)"
   ]
  },
  {
   "cell_type": "code",
   "execution_count": null,
   "metadata": {
    "papermill": {
     "duration": 0.043835,
     "end_time": "2020-11-14T18:59:25.062775",
     "exception": false,
     "start_time": "2020-11-14T18:59:25.018940",
     "status": "completed"
    },
    "tags": []
   },
   "outputs": [],
   "source": []
  },
  {
   "cell_type": "markdown",
   "metadata": {
    "papermill": {
     "duration": 0.043501,
     "end_time": "2020-11-14T18:59:25.150079",
     "exception": false,
     "start_time": "2020-11-14T18:59:25.106578",
     "status": "completed"
    },
    "tags": []
   },
   "source": [
    "# 2.0 Training"
   ]
  },
  {
   "cell_type": "code",
   "execution_count": 24,
   "metadata": {
    "execution": {
     "iopub.execute_input": "2020-11-14T18:59:25.244869Z",
     "iopub.status.busy": "2020-11-14T18:59:25.243966Z",
     "iopub.status.idle": "2020-11-14T18:59:25.246813Z",
     "shell.execute_reply": "2020-11-14T18:59:25.246305Z"
    },
    "papermill": {
     "duration": 0.052855,
     "end_time": "2020-11-14T18:59:25.246918",
     "exception": false,
     "start_time": "2020-11-14T18:59:25.194063",
     "status": "completed"
    },
    "tags": []
   },
   "outputs": [],
   "source": [
    "# defining a function to return the emdedding matrix of our word2vec\n",
    "def get_embedding_matrix(model, word_index):\n",
    "    vocab_size = len(word_index) + 1\n",
    "    embedding_dim = model.wv.vector_size\n",
    "    embedding_matrix = np.zeros((vocab_size, embedding_dim))\n",
    "    \n",
    "    for word in model.wv.vocab:\n",
    "        ind = word_index[word]\n",
    "        embedding_matrix[ind] = model[word]\n",
    "        \n",
    "    return embedding_matrix"
   ]
  },
  {
   "cell_type": "code",
   "execution_count": 25,
   "metadata": {
    "execution": {
     "iopub.execute_input": "2020-11-14T18:59:25.344535Z",
     "iopub.status.busy": "2020-11-14T18:59:25.343794Z",
     "iopub.status.idle": "2020-11-14T18:59:25.347328Z",
     "shell.execute_reply": "2020-11-14T18:59:25.346851Z"
    },
    "papermill": {
     "duration": 0.055697,
     "end_time": "2020-11-14T18:59:25.347430",
     "exception": false,
     "start_time": "2020-11-14T18:59:25.291733",
     "status": "completed"
    },
    "tags": []
   },
   "outputs": [],
   "source": [
    "def build_cnn_model(embedding_matrix, input_length):\n",
    "    model = Sequential()\n",
    "    model.add(Embedding(embedding_matrix.shape[0], embedding_matrix.shape[1], \n",
    "                           weights=[embedding_matrix], \n",
    "                           input_length=input_length,\n",
    "                           mask_zero=True,\n",
    "                           trainable=False))\n",
    "    \n",
    "    model.add(Conv1D(128, 3, activation='relu'))\n",
    "    model.add(Conv1D(128, 3, activation='relu'))\n",
    "    \n",
    "    model.add(GlobalMaxPool1D())\n",
    "    \n",
    "    model.add(Dropout(0.2))\n",
    "    \n",
    "    model.add(Dense(20, activation='softmax'))\n",
    "\n",
    "    model.compile(optimizer='adam',\n",
    "              loss='sparse_categorical_crossentropy')\n",
    "\n",
    "    return model"
   ]
  },
  {
   "cell_type": "code",
   "execution_count": 26,
   "metadata": {
    "execution": {
     "iopub.execute_input": "2020-11-14T18:59:25.445058Z",
     "iopub.status.busy": "2020-11-14T18:59:25.444272Z",
     "iopub.status.idle": "2020-11-14T18:59:25.446672Z",
     "shell.execute_reply": "2020-11-14T18:59:25.447260Z"
    },
    "papermill": {
     "duration": 0.055654,
     "end_time": "2020-11-14T18:59:25.447379",
     "exception": false,
     "start_time": "2020-11-14T18:59:25.391725",
     "status": "completed"
    },
    "tags": []
   },
   "outputs": [],
   "source": [
    "def build_lstm_model(embedding_matrix, input_length):\n",
    "    model = Sequential()\n",
    "    model.add(Embedding(embedding_matrix.shape[0], embedding_matrix.shape[1], \n",
    "                           weights=[embedding_matrix], \n",
    "                           input_length=input_length,\n",
    "                           mask_zero=True,\n",
    "                           trainable=False))\n",
    "    \n",
    "    model.add(Dropout(0.5))\n",
    "    model.add(Bidirectional(LSTM(300)))\n",
    "    model.add(Dropout(0.5))\n",
    "    model.add(Dense(20, activation='softmax'))\n",
    "\n",
    "    model.compile(loss='sparse_categorical_crossentropy', optimizer='adam')\n",
    "\n",
    "    return model"
   ]
  },
  {
   "cell_type": "code",
   "execution_count": 27,
   "metadata": {
    "execution": {
     "iopub.execute_input": "2020-11-14T18:59:25.586084Z",
     "iopub.status.busy": "2020-11-14T18:59:25.585139Z",
     "iopub.status.idle": "2020-11-14T18:59:25.596682Z",
     "shell.execute_reply": "2020-11-14T18:59:25.596145Z"
    },
    "papermill": {
     "duration": 0.105151,
     "end_time": "2020-11-14T18:59:25.596799",
     "exception": false,
     "start_time": "2020-11-14T18:59:25.491648",
     "status": "completed"
    },
    "tags": []
   },
   "outputs": [],
   "source": [
    "# setting class weights due to class imbalance\n",
    "class_weights = class_weight.compute_class_weight('balanced', np.arange(20), encoded_labels)\n",
    "class_weights = dict(enumerate(class_weights))"
   ]
  },
  {
   "cell_type": "markdown",
   "metadata": {
    "papermill": {
     "duration": 0.044422,
     "end_time": "2020-11-14T18:59:25.685878",
     "exception": false,
     "start_time": "2020-11-14T18:59:25.641456",
     "status": "completed"
    },
    "tags": []
   },
   "source": [
    "### Disguising CNN and LSTM models as transformers"
   ]
  },
  {
   "cell_type": "code",
   "execution_count": 28,
   "metadata": {
    "execution": {
     "iopub.execute_input": "2020-11-14T18:59:25.790219Z",
     "iopub.status.busy": "2020-11-14T18:59:25.789296Z",
     "iopub.status.idle": "2020-11-14T18:59:25.791719Z",
     "shell.execute_reply": "2020-11-14T18:59:25.792186Z"
    },
    "papermill": {
     "duration": 0.061957,
     "end_time": "2020-11-14T18:59:25.792319",
     "exception": false,
     "start_time": "2020-11-14T18:59:25.730362",
     "status": "completed"
    },
    "tags": []
   },
   "outputs": [],
   "source": [
    "class NLPModel(BaseEstimator, TransformerMixin):\n",
    "    def __init__(self, build_fn, name, epochs=7, batch_size=128, verbose=0):\n",
    "        self.build_fn = build_fn\n",
    "        self.name = name\n",
    "        self.epochs = epochs\n",
    "        self.batch_size = batch_size\n",
    "        self.verbose = verbose\n",
    "        \n",
    "    def fit(self, X, y):\n",
    "        self.corpus = data_prep_pipe.named_steps['get_tokens'].tokens\n",
    "        \n",
    "        t1 = time.time()\n",
    "        self.w2v_model = Word2Vec(self.corpus, size=300, min_count=1, iter=10)\n",
    "                \n",
    "        print('Done training Word2Vec for {}                    total: {}mins'.format(self.name, \\\n",
    "                                                                          round((time.time()-t1)/60, 1)))\n",
    "        \n",
    "        self.embedding_matrix = get_embedding_matrix(self.w2v_model, \\\n",
    "                                                     data_prep_pipe.named_steps['text_2_sequence'].words_indices)\n",
    "        \n",
    "        self.model = self.build_fn(self.embedding_matrix, X.shape[1])\n",
    "        \n",
    "        t2 = time.time()\n",
    "        \n",
    "        self.model.fit(X, y, epochs=self.epochs, batch_size=self.batch_size, \\\n",
    "                                      class_weight=class_weights, verbose=self.verbose)\n",
    "        \n",
    "        print('Done training {} model                           total: {}mins'.format(self.name, \\\n",
    "                                                                          round((time.time()-t2)/60, 1)))\n",
    "        \n",
    "        return self\n",
    "    \n",
    "    def transform(self, X):\n",
    "        self.pred = self.model.predict(X)\n",
    "        return self.pred   \n",
    "        "
   ]
  },
  {
   "cell_type": "code",
   "execution_count": 29,
   "metadata": {
    "execution": {
     "iopub.execute_input": "2020-11-14T18:59:25.886794Z",
     "iopub.status.busy": "2020-11-14T18:59:25.885883Z",
     "iopub.status.idle": "2020-11-14T18:59:25.888787Z",
     "shell.execute_reply": "2020-11-14T18:59:25.888290Z"
    },
    "papermill": {
     "duration": 0.051791,
     "end_time": "2020-11-14T18:59:25.888888",
     "exception": false,
     "start_time": "2020-11-14T18:59:25.837097",
     "status": "completed"
    },
    "tags": []
   },
   "outputs": [],
   "source": [
    "cnn_model = NLPModel(build_cnn_model, 'cnn_model', epochs=7) # instatiating cnn model object"
   ]
  },
  {
   "cell_type": "code",
   "execution_count": 30,
   "metadata": {
    "execution": {
     "iopub.execute_input": "2020-11-14T18:59:25.984192Z",
     "iopub.status.busy": "2020-11-14T18:59:25.983294Z",
     "iopub.status.idle": "2020-11-14T18:59:25.986260Z",
     "shell.execute_reply": "2020-11-14T18:59:25.985755Z"
    },
    "papermill": {
     "duration": 0.052136,
     "end_time": "2020-11-14T18:59:25.986356",
     "exception": false,
     "start_time": "2020-11-14T18:59:25.934220",
     "status": "completed"
    },
    "tags": []
   },
   "outputs": [],
   "source": [
    "lstm_model = NLPModel(build_lstm_model, 'lstm_model', epochs=10) # instatiating cnn model object"
   ]
  },
  {
   "cell_type": "code",
   "execution_count": 31,
   "metadata": {
    "execution": {
     "iopub.execute_input": "2020-11-14T18:59:26.082457Z",
     "iopub.status.busy": "2020-11-14T18:59:26.081619Z",
     "iopub.status.idle": "2020-11-14T18:59:26.084606Z",
     "shell.execute_reply": "2020-11-14T18:59:26.084089Z"
    },
    "papermill": {
     "duration": 0.052647,
     "end_time": "2020-11-14T18:59:26.084705",
     "exception": false,
     "start_time": "2020-11-14T18:59:26.032058",
     "status": "completed"
    },
    "tags": []
   },
   "outputs": [],
   "source": [
    "union = FeatureUnion([('cnn_model', cnn_model), ('lstm_model', lstm_model)]) # union of cnn and lstm"
   ]
  },
  {
   "cell_type": "code",
   "execution_count": null,
   "metadata": {
    "papermill": {
     "duration": 0.045221,
     "end_time": "2020-11-14T18:59:26.175284",
     "exception": false,
     "start_time": "2020-11-14T18:59:26.130063",
     "status": "completed"
    },
    "tags": []
   },
   "outputs": [],
   "source": []
  },
  {
   "cell_type": "code",
   "execution_count": 32,
   "metadata": {
    "execution": {
     "iopub.execute_input": "2020-11-14T18:59:26.272837Z",
     "iopub.status.busy": "2020-11-14T18:59:26.271909Z",
     "iopub.status.idle": "2020-11-14T18:59:26.274778Z",
     "shell.execute_reply": "2020-11-14T18:59:26.274252Z"
    },
    "papermill": {
     "duration": 0.054353,
     "end_time": "2020-11-14T18:59:26.274878",
     "exception": false,
     "start_time": "2020-11-14T18:59:26.220525",
     "status": "completed"
    },
    "tags": []
   },
   "outputs": [],
   "source": [
    "# building a MLP model as our blender\n",
    "def build_blender():\n",
    "    model = Sequential()\n",
    "\n",
    "    model.add(Dense(30, activation='relu')) # this layer will find the best combination of CNN and LSTM\n",
    "    model.add(Dense(20, activation='softmax')) \n",
    "    \n",
    "    model.compile(loss='sparse_categorical_crossentropy',optimizer=Adam(1e-2))\n",
    "\n",
    "    return model"
   ]
  },
  {
   "cell_type": "code",
   "execution_count": null,
   "metadata": {
    "papermill": {
     "duration": 0.048887,
     "end_time": "2020-11-14T18:59:26.369116",
     "exception": false,
     "start_time": "2020-11-14T18:59:26.320229",
     "status": "completed"
    },
    "tags": []
   },
   "outputs": [],
   "source": []
  },
  {
   "cell_type": "code",
   "execution_count": 33,
   "metadata": {
    "execution": {
     "iopub.execute_input": "2020-11-14T18:59:26.475855Z",
     "iopub.status.busy": "2020-11-14T18:59:26.474986Z",
     "iopub.status.idle": "2020-11-14T18:59:26.477603Z",
     "shell.execute_reply": "2020-11-14T18:59:26.478090Z"
    },
    "papermill": {
     "duration": 0.059319,
     "end_time": "2020-11-14T18:59:26.478215",
     "exception": false,
     "start_time": "2020-11-14T18:59:26.418896",
     "status": "completed"
    },
    "tags": []
   },
   "outputs": [],
   "source": [
    "# making the blender a scikit-learn classifier\n",
    "class BlenderModel(BaseEstimator, ClassifierMixin):\n",
    "    def __init__(self, build_fn, epochs=9, batch_size=128, verbose=0):\n",
    "        self.build_fn = build_fn\n",
    "        self.epochs = epochs\n",
    "        self.batch_size = batch_size\n",
    "        self.verbose = verbose\n",
    "        \n",
    "    def fit(self, X, y):\n",
    "        \n",
    "        self.model = self.build_fn()          \n",
    "        self.model.fit(X, y, epochs=self.epochs, \\\n",
    "                                         batch_size=self.batch_size, verbose=self.verbose)\n",
    "        \n",
    "        return self\n",
    "        \n",
    "    def predict(self, X):\n",
    "        self.ypred = self.model.predict_proba(X)\n",
    "        \n",
    "        return self.ypred"
   ]
  },
  {
   "cell_type": "code",
   "execution_count": 34,
   "metadata": {
    "execution": {
     "iopub.execute_input": "2020-11-14T18:59:26.573242Z",
     "iopub.status.busy": "2020-11-14T18:59:26.572351Z",
     "iopub.status.idle": "2020-11-14T18:59:26.575195Z",
     "shell.execute_reply": "2020-11-14T18:59:26.574727Z"
    },
    "papermill": {
     "duration": 0.051911,
     "end_time": "2020-11-14T18:59:26.575294",
     "exception": false,
     "start_time": "2020-11-14T18:59:26.523383",
     "status": "completed"
    },
    "tags": []
   },
   "outputs": [],
   "source": [
    "blender = BlenderModel(build_blender)"
   ]
  },
  {
   "cell_type": "code",
   "execution_count": 35,
   "metadata": {
    "execution": {
     "iopub.execute_input": "2020-11-14T18:59:26.672046Z",
     "iopub.status.busy": "2020-11-14T18:59:26.671239Z",
     "iopub.status.idle": "2020-11-14T18:59:26.673771Z",
     "shell.execute_reply": "2020-11-14T18:59:26.674207Z"
    },
    "papermill": {
     "duration": 0.052975,
     "end_time": "2020-11-14T18:59:26.674332",
     "exception": false,
     "start_time": "2020-11-14T18:59:26.621357",
     "status": "completed"
    },
    "tags": []
   },
   "outputs": [],
   "source": [
    "model_pipe = Pipeline([('union', union), ('blender', blender)], verbose=1)"
   ]
  },
  {
   "cell_type": "code",
   "execution_count": 36,
   "metadata": {
    "execution": {
     "iopub.execute_input": "2020-11-14T18:59:26.817417Z",
     "iopub.status.busy": "2020-11-14T18:59:26.802038Z",
     "iopub.status.idle": "2020-11-14T19:09:33.535361Z",
     "shell.execute_reply": "2020-11-14T19:09:33.535959Z"
    },
    "papermill": {
     "duration": 606.816106,
     "end_time": "2020-11-14T19:09:33.536109",
     "exception": false,
     "start_time": "2020-11-14T18:59:26.720003",
     "status": "completed"
    },
    "tags": []
   },
   "outputs": [
    {
     "name": "stdout",
     "output_type": "stream",
     "text": [
      "Done training Word2Vec for cnn_model                    total: 1.4mins\n",
      "Done training cnn_model model                           total: 0.9mins\n",
      "Done training Word2Vec for lstm_model                    total: 1.4mins\n",
      "Done training lstm_model model                           total: 5.5mins\n",
      "[Pipeline] ............. (step 1 of 2) Processing union, total= 9.9min\n",
      "[Pipeline] ........... (step 2 of 2) Processing blender, total=  13.5s\n"
     ]
    }
   ],
   "source": [
    "model_pipe.fit(X_prep, encoded_labels);"
   ]
  },
  {
   "cell_type": "code",
   "execution_count": 37,
   "metadata": {
    "execution": {
     "iopub.execute_input": "2020-11-14T19:09:33.675782Z",
     "iopub.status.busy": "2020-11-14T19:09:33.674830Z",
     "iopub.status.idle": "2020-11-14T19:11:26.361261Z",
     "shell.execute_reply": "2020-11-14T19:11:26.360231Z"
    },
    "papermill": {
     "duration": 112.740079,
     "end_time": "2020-11-14T19:11:26.361450",
     "exception": false,
     "start_time": "2020-11-14T19:09:33.621371",
     "status": "completed"
    },
    "tags": []
   },
   "outputs": [],
   "source": [
    "# saving embedding matrix\n",
    "with gzip.open('embedding_matrix.dill.gz', 'wb') as emb:\n",
    "    dill.dump(cnn_model.embedding_matrix, emb) "
   ]
  },
  {
   "cell_type": "code",
   "execution_count": null,
   "metadata": {
    "papermill": {
     "duration": 0.047868,
     "end_time": "2020-11-14T19:11:26.465918",
     "exception": false,
     "start_time": "2020-11-14T19:11:26.418050",
     "status": "completed"
    },
    "tags": []
   },
   "outputs": [],
   "source": []
  },
  {
   "cell_type": "code",
   "execution_count": 38,
   "metadata": {
    "execution": {
     "iopub.execute_input": "2020-11-14T19:11:26.573758Z",
     "iopub.status.busy": "2020-11-14T19:11:26.572731Z",
     "iopub.status.idle": "2020-11-14T19:11:26.730166Z",
     "shell.execute_reply": "2020-11-14T19:11:26.729280Z"
    },
    "papermill": {
     "duration": 0.216019,
     "end_time": "2020-11-14T19:11:26.730283",
     "exception": false,
     "start_time": "2020-11-14T19:11:26.514264",
     "status": "completed"
    },
    "tags": []
   },
   "outputs": [],
   "source": [
    "cnn_model.model.save_weights('cnn_model.hdf5') # saving cnn_model's weights"
   ]
  },
  {
   "cell_type": "code",
   "execution_count": 39,
   "metadata": {
    "execution": {
     "iopub.execute_input": "2020-11-14T19:11:26.835409Z",
     "iopub.status.busy": "2020-11-14T19:11:26.834352Z",
     "iopub.status.idle": "2020-11-14T19:11:26.985251Z",
     "shell.execute_reply": "2020-11-14T19:11:26.984135Z"
    },
    "papermill": {
     "duration": 0.206489,
     "end_time": "2020-11-14T19:11:26.985376",
     "exception": false,
     "start_time": "2020-11-14T19:11:26.778887",
     "status": "completed"
    },
    "tags": []
   },
   "outputs": [],
   "source": [
    "lstm_model.model.save_weights('lstm_model.hdf5') # saving lstm_model's weights"
   ]
  },
  {
   "cell_type": "code",
   "execution_count": null,
   "metadata": {
    "papermill": {
     "duration": 0.048586,
     "end_time": "2020-11-14T19:11:27.083580",
     "exception": false,
     "start_time": "2020-11-14T19:11:27.034994",
     "status": "completed"
    },
    "tags": []
   },
   "outputs": [],
   "source": []
  },
  {
   "cell_type": "code",
   "execution_count": 40,
   "metadata": {
    "execution": {
     "iopub.execute_input": "2020-11-14T19:11:27.189003Z",
     "iopub.status.busy": "2020-11-14T19:11:27.188078Z",
     "iopub.status.idle": "2020-11-14T19:11:27.203449Z",
     "shell.execute_reply": "2020-11-14T19:11:27.202890Z"
    },
    "papermill": {
     "duration": 0.0711,
     "end_time": "2020-11-14T19:11:27.203580",
     "exception": false,
     "start_time": "2020-11-14T19:11:27.132480",
     "status": "completed"
    },
    "tags": []
   },
   "outputs": [],
   "source": [
    "blender.model.save('blender.hdf5') # saving blender model"
   ]
  },
  {
   "cell_type": "code",
   "execution_count": null,
   "metadata": {
    "papermill": {
     "duration": 0.048853,
     "end_time": "2020-11-14T19:11:27.301561",
     "exception": false,
     "start_time": "2020-11-14T19:11:27.252708",
     "status": "completed"
    },
    "tags": []
   },
   "outputs": [],
   "source": []
  },
  {
   "cell_type": "markdown",
   "metadata": {},
   "source": [
    "# 3.0 Prediction"
   ]
  },
  {
   "cell_type": "code",
   "execution_count": 41,
   "metadata": {
    "execution": {
     "iopub.execute_input": "2020-11-14T19:11:27.405200Z",
     "iopub.status.busy": "2020-11-14T19:11:27.404314Z",
     "iopub.status.idle": "2020-11-14T19:11:27.418655Z",
     "shell.execute_reply": "2020-11-14T19:11:27.418160Z"
    },
    "papermill": {
     "duration": 0.068463,
     "end_time": "2020-11-14T19:11:27.418759",
     "exception": false,
     "start_time": "2020-11-14T19:11:27.350296",
     "status": "completed"
    },
    "tags": []
   },
   "outputs": [],
   "source": [
    "def get_prediction(inp):\n",
    "    input_length = 87\n",
    "    with gzip.open(\"wine_tasting_data_prep.dill.gz\", \"rb\") as prep:\n",
    "        d_prep = dill.load(prep)\n",
    "        \n",
    "    with gzip.open(\"embedding_matrix.dill.gz\", \"rb\") as emb:\n",
    "        emb_m = dill.load(emb)\n",
    "    \n",
    "    cnn = build_cnn_model(emb_m, input_length)\n",
    "    cnn.load_weights('cnn_model.hdf5')\n",
    "    \n",
    "    lstm = build_lstm_model(emb_m, input_length)\n",
    "    lstm.load_weights('lstm_model.hdf5')\n",
    "    \n",
    "    blender = tf.keras.models.load_model('blender.hdf5')\n",
    "    \n",
    "    X_prep = d_prep.transform([inp])\n",
    "    pred1 = cnn.predict(X_prep)\n",
    "    pred2 = lstm.predict(X_prep)\n",
    "    \n",
    "    final_pred = blender.predict(np.concatenate((pred1, pred2), axis=1))\n",
    "    \n",
    "    top_5_pred = np.argsort(final_pred[0])[-1:-6:-1]\n",
    "    \n",
    "    print(\"The wine's variety is most likely {} with a probability of {}%\".format(\\\n",
    "                                            le.inverse_transform(\\\n",
    "                                            [top_5_pred[0]])[0], round(final_pred[0][top_5_pred[0]]*100, 3)))\n",
    "        \n",
    "    print('\\nOther possible varieties are:\\n')\n",
    "\n",
    "    for i in range(1, len(top_5_pred)):\n",
    "        print('{} ==> {}%'.format(le.inverse_transform(\\\n",
    "                                [top_5_pred[i]])[0], round(final_pred[0][top_5_pred[i]]*100, 3)))"
   ]
  },
  {
   "cell_type": "code",
   "execution_count": null,
   "metadata": {},
   "outputs": [],
   "source": []
  },
  {
   "cell_type": "markdown",
   "metadata": {},
   "source": [
    "### Let's do a demo prediction of a majority class'Pinot Noir' wine variety from a recent review (published 12/1/2020) not in our training set from [wine ethusiast](https://www.winemag.com/buying-guide/albert-bichot-2018-domaine-du-pavilion-clos-des-marechaudes-grand-cru-corton/). As we know, adding info like country, designation, province, region1, region2, and winery as the last sentence of our wine description boosted our model's performance during training. We therefore advise users to input them also for best performance."
   ]
  },
  {
   "cell_type": "code",
   "execution_count": 42,
   "metadata": {
    "execution": {
     "iopub.execute_input": "2020-11-14T19:11:27.521090Z",
     "iopub.status.busy": "2020-11-14T19:11:27.520437Z",
     "iopub.status.idle": "2020-11-14T19:11:27.524683Z",
     "shell.execute_reply": "2020-11-14T19:11:27.524192Z"
    },
    "papermill": {
     "duration": 0.057121,
     "end_time": "2020-11-14T19:11:27.524786",
     "exception": false,
     "start_time": "2020-11-14T19:11:27.467665",
     "status": "completed"
    },
    "tags": []
   },
   "outputs": [],
   "source": [
    "user_input = \"A hint of woodsmoke combines with this wine's shy aromas of black cherry. The palate comes in \\\n",
    "with surprising grace and svelteness, presenting a filigreed but firm structure. Cherry aromas shimmering with \\\n",
    "Morello and Amarena are expressed against that frame, crunching slightly and heightened by vivid freshness. \\\n",
    "This wine has compact, elegant power and inherent conviction. Drink through 2050. France Domaine du Pavilion \\\n",
    "Clos des Maréchaudes Grand Cru Burgundy Corton Albert Bichot\""
   ]
  },
  {
   "cell_type": "code",
   "execution_count": 43,
   "metadata": {
    "execution": {
     "iopub.execute_input": "2020-11-14T19:11:27.628018Z",
     "iopub.status.busy": "2020-11-14T19:11:27.627144Z",
     "iopub.status.idle": "2020-11-14T19:11:36.193509Z",
     "shell.execute_reply": "2020-11-14T19:11:36.192735Z"
    },
    "papermill": {
     "duration": 8.619832,
     "end_time": "2020-11-14T19:11:36.193636",
     "exception": false,
     "start_time": "2020-11-14T19:11:27.573804",
     "status": "completed"
    },
    "tags": []
   },
   "outputs": [
    {
     "name": "stdout",
     "output_type": "stream",
     "text": [
      "The wine's variety is most likely Pinot Noir with a probability of 99.955%\n",
      "\n",
      "Other possible varieties are:\n",
      "\n",
      "Syrah ==> 0.027%\n",
      "Red Blend ==> 0.007%\n",
      "Malbec ==> 0.005%\n",
      "Chardonnay ==> 0.005%\n"
     ]
    }
   ],
   "source": [
    "get_prediction(user_input)"
   ]
  },
  {
   "cell_type": "code",
   "execution_count": null,
   "metadata": {
    "papermill": {
     "duration": 0.058831,
     "end_time": "2020-11-14T19:11:36.303076",
     "exception": false,
     "start_time": "2020-11-14T19:11:36.244245",
     "status": "completed"
    },
    "tags": []
   },
   "outputs": [],
   "source": []
  },
  {
   "cell_type": "markdown",
   "metadata": {},
   "source": [
    "### Let's consider predicting a miniority class 'Pinot Gris' wine variety from a recent review (published 12/1/2020) not in our training set from [wine ethusiast](https://www.winemag.com/buying-guide/antiquum-farm-2019-daisy-pinot-gris-willamette-valley/)"
   ]
  },
  {
   "cell_type": "code",
   "execution_count": 44,
   "metadata": {
    "execution": {
     "iopub.execute_input": "2020-11-14T19:11:36.438257Z",
     "iopub.status.busy": "2020-11-14T19:11:36.437064Z",
     "iopub.status.idle": "2020-11-14T19:11:36.443796Z",
     "shell.execute_reply": "2020-11-14T19:11:36.445040Z"
    },
    "papermill": {
     "duration": 0.091841,
     "end_time": "2020-11-14T19:11:36.445230",
     "exception": false,
     "start_time": "2020-11-14T19:11:36.353389",
     "status": "completed"
    },
    "tags": []
   },
   "outputs": [],
   "source": [
    "user_input2 = \"This breaks new ground for Oregon's signature white grape. It's rich and leesy, fragrant and \\\n",
    "full, a bonanza of apple, pear and melon fruits. There's a lingering trail of honeysuckle, and a lush \\\n",
    "minerality that underscores the freshness. A stunning wine. United States of America Diasy Oregon Willamette \\\n",
    "Valley Willamette Valley Antiquum Farm\""
   ]
  },
  {
   "cell_type": "code",
   "execution_count": 45,
   "metadata": {
    "execution": {
     "iopub.execute_input": "2020-11-14T19:11:36.613488Z",
     "iopub.status.busy": "2020-11-14T19:11:36.612529Z",
     "iopub.status.idle": "2020-11-14T19:11:36.616394Z",
     "shell.execute_reply": "2020-11-14T19:11:36.614300Z"
    },
    "papermill": {
     "duration": 0.095162,
     "end_time": "2020-11-14T19:11:36.616556",
     "exception": false,
     "start_time": "2020-11-14T19:11:36.521394",
     "status": "completed"
    },
    "tags": []
   },
   "outputs": [
    {
     "data": {
      "text/plain": [
       "\"This breaks new ground for Oregon's signature white grape. It's rich and leesy, fragrant and full, a bonanza of apple, pear and melon fruits. There's a lingering trail of honeysuckle, and a lush minerality that underscores the freshness. A stunning wine. United States of America Diasy Oregon Willamette Valley Willamette Valley Antiquum Farm\""
      ]
     },
     "execution_count": 45,
     "metadata": {},
     "output_type": "execute_result"
    }
   ],
   "source": [
    "user_input2"
   ]
  },
  {
   "cell_type": "code",
   "execution_count": 46,
   "metadata": {
    "execution": {
     "iopub.execute_input": "2020-11-14T19:11:36.771216Z",
     "iopub.status.busy": "2020-11-14T19:11:36.770376Z",
     "iopub.status.idle": "2020-11-14T19:11:44.979912Z",
     "shell.execute_reply": "2020-11-14T19:11:44.980359Z"
    },
    "papermill": {
     "duration": 8.291506,
     "end_time": "2020-11-14T19:11:44.980522",
     "exception": false,
     "start_time": "2020-11-14T19:11:36.689016",
     "status": "completed"
    },
    "tags": []
   },
   "outputs": [
    {
     "name": "stdout",
     "output_type": "stream",
     "text": [
      "The wine's variety is most likely Pinot Gris with a probability of 98.634%\n",
      "\n",
      "Other possible varieties are:\n",
      "\n",
      "Sauvignon Blanc ==> 0.646%\n",
      "Syrah ==> 0.232%\n",
      "Merlot ==> 0.212%\n",
      "Chardonnay ==> 0.156%\n"
     ]
    }
   ],
   "source": [
    "get_prediction(user_input2)"
   ]
  },
  {
   "cell_type": "code",
   "execution_count": null,
   "metadata": {
    "papermill": {
     "duration": 0.050918,
     "end_time": "2020-11-14T19:11:45.082953",
     "exception": false,
     "start_time": "2020-11-14T19:11:45.032035",
     "status": "completed"
    },
    "tags": []
   },
   "outputs": [],
   "source": []
  },
  {
   "cell_type": "markdown",
   "metadata": {
    "papermill": {
     "duration": 0.050863,
     "end_time": "2020-11-14T19:11:45.184573",
     "exception": false,
     "start_time": "2020-11-14T19:11:45.133710",
     "status": "completed"
    },
    "tags": []
   },
   "source": [
    "### ...and voila, our model's predictions were as good as right!"
   ]
  }
 ],
 "metadata": {
  "kernelspec": {
   "display_name": "Python 3",
   "language": "python",
   "name": "python3"
  },
  "language_info": {
   "codemirror_mode": {
    "name": "ipython",
    "version": 3
   },
   "file_extension": ".py",
   "mimetype": "text/x-python",
   "name": "python",
   "nbconvert_exporter": "python",
   "pygments_lexer": "ipython3",
   "version": "3.7.7"
  },
  "papermill": {
   "duration": 988.242823,
   "end_time": "2020-11-14T19:11:46.891732",
   "environment_variables": {},
   "exception": null,
   "input_path": "__notebook__.ipynb",
   "output_path": "__notebook__.ipynb",
   "parameters": {},
   "start_time": "2020-11-14T18:55:18.648909",
   "version": "2.1.0"
  }
 },
 "nbformat": 4,
 "nbformat_minor": 4
}
