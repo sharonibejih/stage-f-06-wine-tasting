{
 "cells": [
  {
   "cell_type": "markdown",
   "metadata": {
    "_cell_guid": "79c7e3d0-c299-4dcb-8224-4455121ee9b0",
    "_uuid": "d629ff2d2480ee46fbb7e2d37f6b5fab8052498a",
    "collapsed": true,
    "papermill": {
     "duration": 0.045563,
     "end_time": "2020-11-13T11:50:14.988332",
     "exception": false,
     "start_time": "2020-11-13T11:50:14.942769",
     "status": "completed"
    },
    "tags": []
   },
   "source": [
    "## 1.0 Getting Data"
   ]
  },
  {
   "cell_type": "code",
   "execution_count": 1,
   "metadata": {
    "execution": {
     "iopub.execute_input": "2020-11-13T11:50:15.084373Z",
     "iopub.status.busy": "2020-11-13T11:50:15.083475Z",
     "iopub.status.idle": "2020-11-13T11:50:20.099594Z",
     "shell.execute_reply": "2020-11-13T11:50:20.100595Z"
    },
    "papermill": {
     "duration": 5.067082,
     "end_time": "2020-11-13T11:50:20.100853",
     "exception": false,
     "start_time": "2020-11-13T11:50:15.033771",
     "status": "completed"
    },
    "tags": []
   },
   "outputs": [],
   "source": [
    "import numpy as np\n",
    "import tensorflow as tf\n",
    "import random as python_random"
   ]
  },
  {
   "cell_type": "code",
   "execution_count": 2,
   "metadata": {
    "execution": {
     "iopub.execute_input": "2020-11-13T11:50:20.245722Z",
     "iopub.status.busy": "2020-11-13T11:50:20.243887Z",
     "iopub.status.idle": "2020-11-13T11:50:20.247458Z",
     "shell.execute_reply": "2020-11-13T11:50:20.246720Z"
    },
    "papermill": {
     "duration": 0.077567,
     "end_time": "2020-11-13T11:50:20.247602",
     "exception": false,
     "start_time": "2020-11-13T11:50:20.170035",
     "status": "completed"
    },
    "tags": []
   },
   "outputs": [],
   "source": [
    "# setting seed for reproducibility of results\n",
    "np.random.seed(1)\n",
    "python_random.seed(12)\n",
    "tf.random.set_seed(123)"
   ]
  },
  {
   "cell_type": "code",
   "execution_count": 3,
   "metadata": {
    "execution": {
     "iopub.execute_input": "2020-11-13T11:50:20.392166Z",
     "iopub.status.busy": "2020-11-13T11:50:20.391353Z",
     "iopub.status.idle": "2020-11-13T11:50:21.206156Z",
     "shell.execute_reply": "2020-11-13T11:50:21.205259Z"
    },
    "papermill": {
     "duration": 0.892824,
     "end_time": "2020-11-13T11:50:21.206291",
     "exception": false,
     "start_time": "2020-11-13T11:50:20.313467",
     "status": "completed"
    },
    "tags": []
   },
   "outputs": [],
   "source": [
    "# importing useful libraries\n",
    "import pandas as pd\n",
    "import matplotlib.pyplot as plt\n",
    "import seaborn as sns\n",
    "\n",
    "import requests\n",
    "import re\n",
    "\n",
    "import warnings\n",
    "warnings.filterwarnings('ignore')\n",
    "\n",
    "%matplotlib inline"
   ]
  },
  {
   "cell_type": "markdown",
   "metadata": {
    "papermill": {
     "duration": 0.044804,
     "end_time": "2020-11-13T11:50:21.296146",
     "exception": false,
     "start_time": "2020-11-13T11:50:21.251342",
     "status": "completed"
    },
    "tags": []
   },
   "source": [
    "### Downloading the data from our github repository"
   ]
  },
  {
   "cell_type": "code",
   "execution_count": 4,
   "metadata": {
    "execution": {
     "iopub.execute_input": "2020-11-13T11:50:21.391964Z",
     "iopub.status.busy": "2020-11-13T11:50:21.391251Z",
     "iopub.status.idle": "2020-11-13T11:50:21.396395Z",
     "shell.execute_reply": "2020-11-13T11:50:21.395445Z"
    },
    "papermill": {
     "duration": 0.054805,
     "end_time": "2020-11-13T11:50:21.396512",
     "exception": false,
     "start_time": "2020-11-13T11:50:21.341707",
     "status": "completed"
    },
    "tags": []
   },
   "outputs": [],
   "source": [
    "url1 = 'https://raw.github.com/HamoyeHQ/stage-f-06-wine-tasting/master/data/top_40_varieties.zip'\n",
    "url2 = 'https://raw.github.com/HamoyeHQ/stage-f-06-wine-tasting/master/data/top_varieties_count.csv'"
   ]
  },
  {
   "cell_type": "code",
   "execution_count": 5,
   "metadata": {
    "execution": {
     "iopub.execute_input": "2020-11-13T11:50:21.508455Z",
     "iopub.status.busy": "2020-11-13T11:50:21.507330Z",
     "iopub.status.idle": "2020-11-13T11:50:26.646143Z",
     "shell.execute_reply": "2020-11-13T11:50:26.645560Z"
    },
    "papermill": {
     "duration": 5.203167,
     "end_time": "2020-11-13T11:50:26.646267",
     "exception": false,
     "start_time": "2020-11-13T11:50:21.443100",
     "status": "completed"
    },
    "tags": []
   },
   "outputs": [],
   "source": [
    "top_40_varieties = pd.read_csv(url1)\n",
    "top_varieties_count = pd.read_csv(url2)"
   ]
  },
  {
   "cell_type": "code",
   "execution_count": 6,
   "metadata": {
    "execution": {
     "iopub.execute_input": "2020-11-13T11:50:26.755539Z",
     "iopub.status.busy": "2020-11-13T11:50:26.754470Z",
     "iopub.status.idle": "2020-11-13T11:50:26.821582Z",
     "shell.execute_reply": "2020-11-13T11:50:26.821051Z"
    },
    "papermill": {
     "duration": 0.130958,
     "end_time": "2020-11-13T11:50:26.821722",
     "exception": false,
     "start_time": "2020-11-13T11:50:26.690764",
     "status": "completed"
    },
    "tags": []
   },
   "outputs": [],
   "source": [
    "# replacing every occurence of 'US' in country with 'United States of America'\n",
    "top_40_varieties['country'].replace('US', 'United States of America', inplace=True)\n",
    "\n",
    "# replacing every occurence of 'US' in not_vintage with 'United States of America'\n",
    "top_40_varieties['not_vintage'] = top_40_varieties['not_vintage'].apply(lambda x: x.replace(\\\n",
    "                                                                        'US', 'United States of America'))"
   ]
  },
  {
   "cell_type": "code",
   "execution_count": 7,
   "metadata": {
    "execution": {
     "iopub.execute_input": "2020-11-13T11:50:26.924833Z",
     "iopub.status.busy": "2020-11-13T11:50:26.922809Z",
     "iopub.status.idle": "2020-11-13T11:50:26.925710Z",
     "shell.execute_reply": "2020-11-13T11:50:26.926217Z"
    },
    "papermill": {
     "duration": 0.057518,
     "end_time": "2020-11-13T11:50:26.926338",
     "exception": false,
     "start_time": "2020-11-13T11:50:26.868820",
     "status": "completed"
    },
    "tags": []
   },
   "outputs": [],
   "source": [
    "# renaming the columns in top_varieties_count\n",
    "top_varieties_count = top_varieties_count.rename(columns={'variety': 'count', 'Unnamed: 0': 'variety'})\n",
    "top_varieties_count = top_varieties_count.set_index('variety') # setting the index\n",
    "top_varieties_count = top_varieties_count['count'] # making it a Series"
   ]
  },
  {
   "cell_type": "code",
   "execution_count": 8,
   "metadata": {
    "execution": {
     "iopub.execute_input": "2020-11-13T11:50:27.035010Z",
     "iopub.status.busy": "2020-11-13T11:50:27.034339Z",
     "iopub.status.idle": "2020-11-13T11:50:27.061449Z",
     "shell.execute_reply": "2020-11-13T11:50:27.060878Z"
    },
    "papermill": {
     "duration": 0.08982,
     "end_time": "2020-11-13T11:50:27.061593",
     "exception": false,
     "start_time": "2020-11-13T11:50:26.971773",
     "status": "completed"
    },
    "tags": []
   },
   "outputs": [],
   "source": [
    "top = 20 # selecting top 20 varities as our working varieties. note 1 < n <= 40\n",
    "\n",
    "# making a datframe of our selecting top n varieties\n",
    "top_df = top_40_varieties[top_40_varieties['variety'].isin(top_varieties_count.iloc[:top].index)]"
   ]
  },
  {
   "cell_type": "code",
   "execution_count": 9,
   "metadata": {
    "execution": {
     "iopub.execute_input": "2020-11-13T11:50:27.158065Z",
     "iopub.status.busy": "2020-11-13T11:50:27.157361Z",
     "iopub.status.idle": "2020-11-13T11:50:27.192724Z",
     "shell.execute_reply": "2020-11-13T11:50:27.191926Z"
    },
    "papermill": {
     "duration": 0.085782,
     "end_time": "2020-11-13T11:50:27.192892",
     "exception": false,
     "start_time": "2020-11-13T11:50:27.107110",
     "status": "completed"
    },
    "tags": []
   },
   "outputs": [],
   "source": [
    "# threshold of miniority variety to over sample (use sentences as document instead of the whole description)\n",
    "minority_threshold = 5000 \n",
    "\n",
    "# making a dataframe of the miniority classes\n",
    "minority_df = top_df[top_df['variety'].isin(top_varieties_count[top_varieties_count < \\\n",
    "                                                                      minority_threshold].index)]"
   ]
  },
  {
   "cell_type": "code",
   "execution_count": 10,
   "metadata": {
    "execution": {
     "iopub.execute_input": "2020-11-13T11:50:27.289810Z",
     "iopub.status.busy": "2020-11-13T11:50:27.289067Z",
     "iopub.status.idle": "2020-11-13T11:50:27.884806Z",
     "shell.execute_reply": "2020-11-13T11:50:27.883706Z"
    },
    "papermill": {
     "duration": 0.645948,
     "end_time": "2020-11-13T11:50:27.884938",
     "exception": false,
     "start_time": "2020-11-13T11:50:27.238990",
     "status": "completed"
    },
    "tags": []
   },
   "outputs": [],
   "source": [
    "from nltk.tokenize import sent_tokenize # importing useful library"
   ]
  },
  {
   "cell_type": "code",
   "execution_count": 11,
   "metadata": {
    "execution": {
     "iopub.execute_input": "2020-11-13T11:50:27.992035Z",
     "iopub.status.busy": "2020-11-13T11:50:27.990068Z",
     "iopub.status.idle": "2020-11-13T11:50:27.992726Z",
     "shell.execute_reply": "2020-11-13T11:50:27.993233Z"
    },
    "papermill": {
     "duration": 0.061857,
     "end_time": "2020-11-13T11:50:27.993368",
     "exception": false,
     "start_time": "2020-11-13T11:50:27.931511",
     "status": "completed"
    },
    "tags": []
   },
   "outputs": [],
   "source": [
    "oversampled_miniority_lst = [] # empty list to store sentences as tokens miniority corpus\n",
    "\n",
    "# creating a function to use sentences as tokens for the miniority classes\n",
    "def over_sample_miniority(row):\n",
    "    doc_list = sent_tokenize(row['description'])\n",
    "    for sent in doc_list:\n",
    "        row['description'] = sent\n",
    "        oversampled_miniority_lst.append(list(row))"
   ]
  },
  {
   "cell_type": "code",
   "execution_count": 12,
   "metadata": {
    "execution": {
     "iopub.execute_input": "2020-11-13T11:50:28.093206Z",
     "iopub.status.busy": "2020-11-13T11:50:28.092193Z",
     "iopub.status.idle": "2020-11-13T11:50:37.783996Z",
     "shell.execute_reply": "2020-11-13T11:50:37.783414Z"
    },
    "papermill": {
     "duration": 9.7434,
     "end_time": "2020-11-13T11:50:37.784127",
     "exception": false,
     "start_time": "2020-11-13T11:50:28.040727",
     "status": "completed"
    },
    "tags": []
   },
   "outputs": [],
   "source": [
    "minority_df.apply(over_sample_miniority, axis=1); # over sample the miniority classes"
   ]
  },
  {
   "cell_type": "code",
   "execution_count": 13,
   "metadata": {
    "execution": {
     "iopub.execute_input": "2020-11-13T11:50:37.891058Z",
     "iopub.status.busy": "2020-11-13T11:50:37.890173Z",
     "iopub.status.idle": "2020-11-13T11:50:38.105482Z",
     "shell.execute_reply": "2020-11-13T11:50:38.104934Z"
    },
    "papermill": {
     "duration": 0.265148,
     "end_time": "2020-11-13T11:50:38.105601",
     "exception": false,
     "start_time": "2020-11-13T11:50:37.840453",
     "status": "completed"
    },
    "tags": []
   },
   "outputs": [],
   "source": [
    "# converts oversampled_miniority_lst to a dataframe\n",
    "oversampled_miniority_df = pd.DataFrame(oversampled_miniority_lst, columns=minority_df.columns)"
   ]
  },
  {
   "cell_type": "code",
   "execution_count": 14,
   "metadata": {
    "execution": {
     "iopub.execute_input": "2020-11-13T11:50:38.218318Z",
     "iopub.status.busy": "2020-11-13T11:50:38.216971Z",
     "iopub.status.idle": "2020-11-13T11:50:38.449447Z",
     "shell.execute_reply": "2020-11-13T11:50:38.449933Z"
    },
    "papermill": {
     "duration": 0.296116,
     "end_time": "2020-11-13T11:50:38.450109",
     "exception": false,
     "start_time": "2020-11-13T11:50:38.153993",
     "status": "completed"
    },
    "tags": []
   },
   "outputs": [],
   "source": [
    "# selecting majority classes as a dataframe to concatenate to oversampled_miniority_lst\n",
    "majority_df = top_df[top_df['variety'].isin(\\\n",
    "                                top_varieties_count[top_varieties_count >= minority_threshold].index)]\n",
    "\n",
    "# concatenates majority_df to oversampled_miniority_lst\n",
    "balanced_df = pd.concat([majority_df, oversampled_miniority_df]) \n",
    "balanced_df = balanced_df.reset_index().drop('index', axis=1) # resets index"
   ]
  },
  {
   "cell_type": "code",
   "execution_count": 15,
   "metadata": {
    "execution": {
     "iopub.execute_input": "2020-11-13T11:50:38.584484Z",
     "iopub.status.busy": "2020-11-13T11:50:38.568742Z",
     "iopub.status.idle": "2020-11-13T11:50:38.588720Z",
     "shell.execute_reply": "2020-11-13T11:50:38.588235Z"
    },
    "papermill": {
     "duration": 0.091685,
     "end_time": "2020-11-13T11:50:38.588828",
     "exception": false,
     "start_time": "2020-11-13T11:50:38.497143",
     "status": "completed"
    },
    "tags": []
   },
   "outputs": [],
   "source": [
    "balanced_variety = balanced_df['variety'].value_counts() # gets a Series of the variety count in balanced_df"
   ]
  },
  {
   "cell_type": "code",
   "execution_count": 16,
   "metadata": {
    "execution": {
     "iopub.execute_input": "2020-11-13T11:50:38.689453Z",
     "iopub.status.busy": "2020-11-13T11:50:38.688683Z",
     "iopub.status.idle": "2020-11-13T11:50:38.693118Z",
     "shell.execute_reply": "2020-11-13T11:50:38.692552Z"
    },
    "papermill": {
     "duration": 0.056638,
     "end_time": "2020-11-13T11:50:38.693251",
     "exception": false,
     "start_time": "2020-11-13T11:50:38.636613",
     "status": "completed"
    },
    "tags": []
   },
   "outputs": [],
   "source": [
    "# importing useful libraries\n",
    "from sklearn.preprocessing import LabelEncoder, OneHotEncoder"
   ]
  },
  {
   "cell_type": "code",
   "execution_count": 17,
   "metadata": {
    "execution": {
     "iopub.execute_input": "2020-11-13T11:50:38.840089Z",
     "iopub.status.busy": "2020-11-13T11:50:38.835071Z",
     "iopub.status.idle": "2020-11-13T11:50:38.965065Z",
     "shell.execute_reply": "2020-11-13T11:50:38.966308Z"
    },
    "papermill": {
     "duration": 0.227047,
     "end_time": "2020-11-13T11:50:38.966518",
     "exception": false,
     "start_time": "2020-11-13T11:50:38.739471",
     "status": "completed"
    },
    "tags": []
   },
   "outputs": [],
   "source": [
    "# for sentence oversampling\n",
    "sent_oversample_corpus = [doc1 + ' ' + doc2 for doc1, doc2 in zip(\\\n",
    "                                                balanced_df['description'], balanced_df['not_vintage'])]"
   ]
  },
  {
   "cell_type": "code",
   "execution_count": 18,
   "metadata": {
    "execution": {
     "iopub.execute_input": "2020-11-13T11:50:39.098758Z",
     "iopub.status.busy": "2020-11-13T11:50:39.082829Z",
     "iopub.status.idle": "2020-11-13T11:50:39.101562Z",
     "shell.execute_reply": "2020-11-13T11:50:39.101002Z"
    },
    "papermill": {
     "duration": 0.08184,
     "end_time": "2020-11-13T11:50:39.101686",
     "exception": false,
     "start_time": "2020-11-13T11:50:39.019846",
     "status": "completed"
    },
    "tags": []
   },
   "outputs": [],
   "source": [
    "labels = [label for label in balanced_df['variety']]"
   ]
  },
  {
   "cell_type": "markdown",
   "metadata": {
    "papermill": {
     "duration": 0.046825,
     "end_time": "2020-11-13T11:50:39.196441",
     "exception": false,
     "start_time": "2020-11-13T11:50:39.149616",
     "status": "completed"
    },
    "tags": []
   },
   "source": [
    "## 2.0 Data Preprocessing"
   ]
  },
  {
   "cell_type": "code",
   "execution_count": 19,
   "metadata": {
    "execution": {
     "iopub.execute_input": "2020-11-13T11:50:39.297693Z",
     "iopub.status.busy": "2020-11-13T11:50:39.296864Z",
     "iopub.status.idle": "2020-11-13T11:50:41.419230Z",
     "shell.execute_reply": "2020-11-13T11:50:41.418281Z"
    },
    "papermill": {
     "duration": 2.174575,
     "end_time": "2020-11-13T11:50:41.419358",
     "exception": false,
     "start_time": "2020-11-13T11:50:39.244783",
     "status": "completed"
    },
    "tags": []
   },
   "outputs": [],
   "source": [
    "import spacy"
   ]
  },
  {
   "cell_type": "code",
   "execution_count": 20,
   "metadata": {
    "execution": {
     "iopub.execute_input": "2020-11-13T11:50:41.520842Z",
     "iopub.status.busy": "2020-11-13T11:50:41.520017Z",
     "iopub.status.idle": "2020-11-13T11:50:42.873265Z",
     "shell.execute_reply": "2020-11-13T11:50:42.872087Z"
    },
    "papermill": {
     "duration": 1.406266,
     "end_time": "2020-11-13T11:50:42.873398",
     "exception": false,
     "start_time": "2020-11-13T11:50:41.467132",
     "status": "completed"
    },
    "tags": []
   },
   "outputs": [],
   "source": [
    "# creating a spacy pipeline and disabling tagger, parser and ner to speed up tokenizer\n",
    "nlp = spacy.load('en', disable=['tagger', 'parser', 'ner']) "
   ]
  },
  {
   "cell_type": "code",
   "execution_count": 21,
   "metadata": {
    "execution": {
     "iopub.execute_input": "2020-11-13T11:50:43.006561Z",
     "iopub.status.busy": "2020-11-13T11:50:43.005625Z",
     "iopub.status.idle": "2020-11-13T11:50:43.008013Z",
     "shell.execute_reply": "2020-11-13T11:50:43.007322Z"
    },
    "papermill": {
     "duration": 0.076421,
     "end_time": "2020-11-13T11:50:43.008151",
     "exception": false,
     "start_time": "2020-11-13T11:50:42.931730",
     "status": "completed"
    },
    "tags": []
   },
   "outputs": [],
   "source": [
    "spacy_stop_words = spacy.lang.en.STOP_WORDS # getting spacy's stop-words"
   ]
  },
  {
   "cell_type": "code",
   "execution_count": 22,
   "metadata": {
    "execution": {
     "iopub.execute_input": "2020-11-13T11:50:43.148715Z",
     "iopub.status.busy": "2020-11-13T11:50:43.147873Z",
     "iopub.status.idle": "2020-11-13T11:50:44.008010Z",
     "shell.execute_reply": "2020-11-13T11:50:44.007430Z"
    },
    "papermill": {
     "duration": 0.932292,
     "end_time": "2020-11-13T11:50:44.008142",
     "exception": false,
     "start_time": "2020-11-13T11:50:43.075850",
     "status": "completed"
    },
    "tags": []
   },
   "outputs": [],
   "source": [
    "response = requests.get('https://raw.github.com/Yoast/YoastSEO.js/develop/src/config/stopwords.js')\n",
    "yoast_stop_words = response.content.decode()"
   ]
  },
  {
   "cell_type": "code",
   "execution_count": 23,
   "metadata": {
    "execution": {
     "iopub.execute_input": "2020-11-13T11:50:44.114470Z",
     "iopub.status.busy": "2020-11-13T11:50:44.113573Z",
     "iopub.status.idle": "2020-11-13T11:50:44.118857Z",
     "shell.execute_reply": "2020-11-13T11:50:44.119561Z"
    },
    "papermill": {
     "duration": 0.062412,
     "end_time": "2020-11-13T11:50:44.119743",
     "exception": false,
     "start_time": "2020-11-13T11:50:44.057331",
     "status": "completed"
    },
    "tags": []
   },
   "outputs": [
    {
     "name": "stdout",
     "output_type": "stream",
     "text": [
      "length of yoast_stop_words is 153\n",
      "\n",
      "{\"it's\", 'so', 'your', 'should', 'own', 'than', 'through', 'she', 'because', 'which', 'was', 'an', 'about', \"i'm\", 'by', 'under', \"she'll\", \"he's\", 'does', 'but', 'if', 'before', 'him', 'any', 'out', 'who', 'theirs', 'our', 'this', 'ours', 'did', 'after', \"he'd\", \"who's\", 'would', \"they'll\", 'most', 'at', 'we', 'above', 'their', 'both', 'whom', 'had', \"you'd\", 'his', 'with', \"let's\", \"there's\", 'has', 'them', 'against', \"they'd\", 'he', 'all', 'its', 'herself', 'having', 'what', \"i'd\", 'once', 'when', 'yours', \"here's\", 'myself', 'here', 'only', 'you', \"you'll\", 'yourselves', 'and', \"they've\", 'then', 'themselves', 'from', 'again', 'ourselves', 'there', \"that's\", 'while', \"we'd\", 'they', 'until', 'below', 'for', 'those', 'hers', \"he'll\", 'how', 'to', 'be', 'each', \"why's\", \"she's\", 'between', 'yourself', 'other', \"we'll\", 'could', 'been', \"how's\", 'very', \"when's\", \"i'll\", 'itself', 'of', 'being', 'that', \"you've\", 'during', 'me', 'do', 'into', 'down', 'nor', 'the', 'her', 'it', \"she'd\", 'my', 'these', 'were', \"we're\", \"what's\", 'too', \"you're\", 'as', 'have', 'where', 'doing', 'up', \"they're\", 'why', 'or', \"we've\", 'is', 'more', 'further', 'in', 'are', 'such', 'am', 'some', 'few', 'a', 'i', 'himself', 'over', 'ought', 'on', \"i've\", 'same', \"where's\"}\n"
     ]
    }
   ],
   "source": [
    "pattern = r'\\[.+\\]'\n",
    "match = re.search(pattern, yoast_stop_words)\n",
    "yoast_stop_words = set(match.group()[1:-1].replace('\"', '').replace(',', '').split())\n",
    "print(f'length of yoast_stop_words is {len(yoast_stop_words)}\\n')\n",
    "print(yoast_stop_words)"
   ]
  },
  {
   "cell_type": "code",
   "execution_count": 24,
   "metadata": {
    "execution": {
     "iopub.execute_input": "2020-11-13T11:50:44.238330Z",
     "iopub.status.busy": "2020-11-13T11:50:44.237502Z",
     "iopub.status.idle": "2020-11-13T11:50:44.240839Z",
     "shell.execute_reply": "2020-11-13T11:50:44.240352Z"
    },
    "papermill": {
     "duration": 0.073214,
     "end_time": "2020-11-13T11:50:44.240964",
     "exception": false,
     "start_time": "2020-11-13T11:50:44.167750",
     "status": "completed"
    },
    "tags": []
   },
   "outputs": [],
   "source": [
    "stop_words_lemma = {word.lemma_.lower() for word in nlp(' '.join(spacy_stop_words | yoast_stop_words))} | \\\n",
    "{'-pron-', '10', '12', 'aah', 'aa', 'ab', 'aaa', 'aand', '16', '2', '20', '30', '4', '40', '5', '6', '7', \\\n",
    " '8', '9'}"
   ]
  },
  {
   "cell_type": "code",
   "execution_count": null,
   "metadata": {
    "papermill": {
     "duration": 0.04852,
     "end_time": "2020-11-13T11:50:44.337411",
     "exception": false,
     "start_time": "2020-11-13T11:50:44.288891",
     "status": "completed"
    },
    "tags": []
   },
   "outputs": [],
   "source": []
  },
  {
   "cell_type": "markdown",
   "metadata": {
    "papermill": {
     "duration": 0.048589,
     "end_time": "2020-11-13T11:50:44.434970",
     "exception": false,
     "start_time": "2020-11-13T11:50:44.386381",
     "status": "completed"
    },
    "tags": []
   },
   "source": [
    "### creating custom transformers to encapsulate our preprocessing"
   ]
  },
  {
   "cell_type": "code",
   "execution_count": 25,
   "metadata": {
    "execution": {
     "iopub.execute_input": "2020-11-13T11:50:44.536258Z",
     "iopub.status.busy": "2020-11-13T11:50:44.535513Z",
     "iopub.status.idle": "2020-11-13T11:50:44.539848Z",
     "shell.execute_reply": "2020-11-13T11:50:44.539337Z"
    },
    "papermill": {
     "duration": 0.057007,
     "end_time": "2020-11-13T11:50:44.539971",
     "exception": false,
     "start_time": "2020-11-13T11:50:44.482964",
     "status": "completed"
    },
    "tags": []
   },
   "outputs": [],
   "source": [
    "from sklearn.base import BaseEstimator, TransformerMixin, ClassifierMixin"
   ]
  },
  {
   "cell_type": "code",
   "execution_count": 26,
   "metadata": {
    "execution": {
     "iopub.execute_input": "2020-11-13T11:50:44.649176Z",
     "iopub.status.busy": "2020-11-13T11:50:44.647107Z",
     "iopub.status.idle": "2020-11-13T11:50:44.649889Z",
     "shell.execute_reply": "2020-11-13T11:50:44.650458Z"
    },
    "papermill": {
     "duration": 0.062594,
     "end_time": "2020-11-13T11:50:44.650603",
     "exception": false,
     "start_time": "2020-11-13T11:50:44.588009",
     "status": "completed"
    },
    "tags": []
   },
   "outputs": [],
   "source": [
    "class GetTokens(BaseEstimator, TransformerMixin):\n",
    "    def __init__(self, stop_words=stop_words_lemma):\n",
    "        self.stop_words = stop_words\n",
    "    \n",
    "    # defining tokenzer function to tokenize the lower case lemma of documents in a corpus and \n",
    "    # filter out stop-words  \n",
    "    def tokenize(self, text):\n",
    "        return [word.lemma_.lower() for word in nlp(text) if word.is_alpha and word.lemma_.lower() \\\n",
    "                not in self.stop_words]\n",
    "\n",
    "    def fit(self, X, y=None):\n",
    "        return self\n",
    "    \n",
    "    def transform(self, X):\n",
    "        self.tokens = [self.tokenize(doc) for doc in X]\n",
    "            \n",
    "        return self.tokens"
   ]
  },
  {
   "cell_type": "code",
   "execution_count": 27,
   "metadata": {
    "execution": {
     "iopub.execute_input": "2020-11-13T11:50:44.757289Z",
     "iopub.status.busy": "2020-11-13T11:50:44.755461Z",
     "iopub.status.idle": "2020-11-13T11:50:44.758022Z",
     "shell.execute_reply": "2020-11-13T11:50:44.758595Z"
    },
    "papermill": {
     "duration": 0.057083,
     "end_time": "2020-11-13T11:50:44.758727",
     "exception": false,
     "start_time": "2020-11-13T11:50:44.701644",
     "status": "completed"
    },
    "tags": []
   },
   "outputs": [],
   "source": [
    "tokens = GetTokens()"
   ]
  },
  {
   "cell_type": "code",
   "execution_count": 28,
   "metadata": {
    "execution": {
     "iopub.execute_input": "2020-11-13T11:50:44.863198Z",
     "iopub.status.busy": "2020-11-13T11:50:44.861392Z",
     "iopub.status.idle": "2020-11-13T11:50:44.864051Z",
     "shell.execute_reply": "2020-11-13T11:50:44.864567Z"
    },
    "papermill": {
     "duration": 0.057134,
     "end_time": "2020-11-13T11:50:44.864701",
     "exception": false,
     "start_time": "2020-11-13T11:50:44.807567",
     "status": "completed"
    },
    "tags": []
   },
   "outputs": [],
   "source": [
    "from tensorflow.keras.preprocessing.text import Tokenizer"
   ]
  },
  {
   "cell_type": "code",
   "execution_count": 29,
   "metadata": {
    "execution": {
     "iopub.execute_input": "2020-11-13T11:50:44.971813Z",
     "iopub.status.busy": "2020-11-13T11:50:44.969777Z",
     "iopub.status.idle": "2020-11-13T11:50:44.972512Z",
     "shell.execute_reply": "2020-11-13T11:50:44.973013Z"
    },
    "papermill": {
     "duration": 0.060493,
     "end_time": "2020-11-13T11:50:44.973153",
     "exception": false,
     "start_time": "2020-11-13T11:50:44.912660",
     "status": "completed"
    },
    "tags": []
   },
   "outputs": [],
   "source": [
    "class Text2Sequence(BaseEstimator, TransformerMixin):\n",
    "    def __init__(self):\n",
    "        self.sequence_tokenizer = Tokenizer(oov_token='<oov>')\n",
    "\n",
    "    def fit(self, X, y=None):\n",
    "        self.sequence_tokenizer.fit_on_texts(X)\n",
    "        self.words_indices = self.sequence_tokenizer.word_index\n",
    "        return self\n",
    "    \n",
    "    def transform(self, X):\n",
    "        self.get_sequences = self.sequence_tokenizer.texts_to_sequences(X)\n",
    "        return self.get_sequences"
   ]
  },
  {
   "cell_type": "code",
   "execution_count": 30,
   "metadata": {
    "execution": {
     "iopub.execute_input": "2020-11-13T11:50:45.077391Z",
     "iopub.status.busy": "2020-11-13T11:50:45.076616Z",
     "iopub.status.idle": "2020-11-13T11:50:45.080877Z",
     "shell.execute_reply": "2020-11-13T11:50:45.080320Z"
    },
    "papermill": {
     "duration": 0.058282,
     "end_time": "2020-11-13T11:50:45.080997",
     "exception": false,
     "start_time": "2020-11-13T11:50:45.022715",
     "status": "completed"
    },
    "tags": []
   },
   "outputs": [],
   "source": [
    "text_2_seq = Text2Sequence()"
   ]
  },
  {
   "cell_type": "code",
   "execution_count": 31,
   "metadata": {
    "execution": {
     "iopub.execute_input": "2020-11-13T11:50:45.186221Z",
     "iopub.status.busy": "2020-11-13T11:50:45.185354Z",
     "iopub.status.idle": "2020-11-13T11:50:45.236838Z",
     "shell.execute_reply": "2020-11-13T11:50:45.236268Z"
    },
    "papermill": {
     "duration": 0.106434,
     "end_time": "2020-11-13T11:50:45.236993",
     "exception": false,
     "start_time": "2020-11-13T11:50:45.130559",
     "status": "completed"
    },
    "tags": []
   },
   "outputs": [],
   "source": [
    "from keras.preprocessing.sequence import pad_sequences"
   ]
  },
  {
   "cell_type": "code",
   "execution_count": 32,
   "metadata": {
    "execution": {
     "iopub.execute_input": "2020-11-13T11:50:45.391709Z",
     "iopub.status.busy": "2020-11-13T11:50:45.390851Z",
     "iopub.status.idle": "2020-11-13T11:50:45.395260Z",
     "shell.execute_reply": "2020-11-13T11:50:45.394713Z"
    },
    "papermill": {
     "duration": 0.105534,
     "end_time": "2020-11-13T11:50:45.395368",
     "exception": false,
     "start_time": "2020-11-13T11:50:45.289834",
     "status": "completed"
    },
    "tags": []
   },
   "outputs": [],
   "source": [
    "class Padding(BaseEstimator, TransformerMixin):\n",
    "    def __init__(self, pad='post'):\n",
    "        self.pad = pad\n",
    "    \n",
    "    def fit(self, X, y=None):\n",
    "        return self\n",
    "    \n",
    "    def transform(self, X):\n",
    "        self.get_paddings = pad_sequences(X, padding=self.pad)\n",
    "        return self.get_paddings"
   ]
  },
  {
   "cell_type": "code",
   "execution_count": 33,
   "metadata": {
    "execution": {
     "iopub.execute_input": "2020-11-13T11:50:45.499309Z",
     "iopub.status.busy": "2020-11-13T11:50:45.498644Z",
     "iopub.status.idle": "2020-11-13T11:50:45.503079Z",
     "shell.execute_reply": "2020-11-13T11:50:45.502391Z"
    },
    "papermill": {
     "duration": 0.058113,
     "end_time": "2020-11-13T11:50:45.503189",
     "exception": false,
     "start_time": "2020-11-13T11:50:45.445076",
     "status": "completed"
    },
    "tags": []
   },
   "outputs": [],
   "source": [
    "pad = Padding()"
   ]
  },
  {
   "cell_type": "code",
   "execution_count": 34,
   "metadata": {
    "execution": {
     "iopub.execute_input": "2020-11-13T11:50:45.606772Z",
     "iopub.status.busy": "2020-11-13T11:50:45.605839Z",
     "iopub.status.idle": "2020-11-13T11:50:45.608855Z",
     "shell.execute_reply": "2020-11-13T11:50:45.608335Z"
    },
    "papermill": {
     "duration": 0.057361,
     "end_time": "2020-11-13T11:50:45.608990",
     "exception": false,
     "start_time": "2020-11-13T11:50:45.551629",
     "status": "completed"
    },
    "tags": []
   },
   "outputs": [],
   "source": [
    "from sklearn.pipeline import Pipeline"
   ]
  },
  {
   "cell_type": "code",
   "execution_count": 35,
   "metadata": {
    "execution": {
     "iopub.execute_input": "2020-11-13T11:50:45.716498Z",
     "iopub.status.busy": "2020-11-13T11:50:45.715628Z",
     "iopub.status.idle": "2020-11-13T11:50:45.718582Z",
     "shell.execute_reply": "2020-11-13T11:50:45.718117Z"
    },
    "papermill": {
     "duration": 0.059378,
     "end_time": "2020-11-13T11:50:45.718691",
     "exception": false,
     "start_time": "2020-11-13T11:50:45.659313",
     "status": "completed"
    },
    "tags": []
   },
   "outputs": [],
   "source": [
    "data_prep_pipe = Pipeline([('get_tokens', tokens), ('text_2_sequence', text_2_seq), ('padding', pad)], verbose=1)"
   ]
  },
  {
   "cell_type": "markdown",
   "metadata": {
    "papermill": {
     "duration": 0.049547,
     "end_time": "2020-11-13T11:50:45.818390",
     "exception": false,
     "start_time": "2020-11-13T11:50:45.768843",
     "status": "completed"
    },
    "tags": []
   },
   "source": [
    "#### The above should return preprocessed X_train and y_train from data_prep_pipe.fit_transform(X_train, y_train)"
   ]
  },
  {
   "cell_type": "markdown",
   "metadata": {
    "papermill": {
     "duration": 0.048287,
     "end_time": "2020-11-13T11:50:45.915335",
     "exception": false,
     "start_time": "2020-11-13T11:50:45.867048",
     "status": "completed"
    },
    "tags": []
   },
   "source": [
    "## Training"
   ]
  },
  {
   "cell_type": "code",
   "execution_count": 36,
   "metadata": {
    "execution": {
     "iopub.execute_input": "2020-11-13T11:50:46.018448Z",
     "iopub.status.busy": "2020-11-13T11:50:46.017663Z",
     "iopub.status.idle": "2020-11-13T11:50:46.175213Z",
     "shell.execute_reply": "2020-11-13T11:50:46.174502Z"
    },
    "papermill": {
     "duration": 0.210983,
     "end_time": "2020-11-13T11:50:46.175341",
     "exception": false,
     "start_time": "2020-11-13T11:50:45.964358",
     "status": "completed"
    },
    "tags": []
   },
   "outputs": [],
   "source": [
    "from gensim.models import Word2Vec # importing Word2Vec"
   ]
  },
  {
   "cell_type": "code",
   "execution_count": 37,
   "metadata": {
    "execution": {
     "iopub.execute_input": "2020-11-13T11:50:46.294875Z",
     "iopub.status.busy": "2020-11-13T11:50:46.294044Z",
     "iopub.status.idle": "2020-11-13T11:50:46.297403Z",
     "shell.execute_reply": "2020-11-13T11:50:46.297958Z"
    },
    "papermill": {
     "duration": 0.066651,
     "end_time": "2020-11-13T11:50:46.298104",
     "exception": false,
     "start_time": "2020-11-13T11:50:46.231453",
     "status": "completed"
    },
    "tags": []
   },
   "outputs": [],
   "source": [
    "def get_embedding_matrix(model, word_index):\n",
    "    vocab_size = len(word_index) + 1\n",
    "    embedding_dim = model.wv.vector_size\n",
    "    embedding_matrix = np.zeros((vocab_size, embedding_dim))\n",
    "    \n",
    "    for word in model.wv.vocab:\n",
    "        ind = word_index[word]\n",
    "        embedding_matrix[ind] = model[word]\n",
    "        \n",
    "    return embedding_matrix"
   ]
  },
  {
   "cell_type": "code",
   "execution_count": 38,
   "metadata": {
    "execution": {
     "iopub.execute_input": "2020-11-13T11:50:46.413509Z",
     "iopub.status.busy": "2020-11-13T11:50:46.412658Z",
     "iopub.status.idle": "2020-11-13T11:50:46.417062Z",
     "shell.execute_reply": "2020-11-13T11:50:46.416494Z"
    },
    "papermill": {
     "duration": 0.064119,
     "end_time": "2020-11-13T11:50:46.417179",
     "exception": false,
     "start_time": "2020-11-13T11:50:46.353060",
     "status": "completed"
    },
    "tags": []
   },
   "outputs": [],
   "source": [
    "from sklearn.utils import class_weight"
   ]
  },
  {
   "cell_type": "code",
   "execution_count": 39,
   "metadata": {
    "execution": {
     "iopub.execute_input": "2020-11-13T11:50:46.536685Z",
     "iopub.status.busy": "2020-11-13T11:50:46.535281Z",
     "iopub.status.idle": "2020-11-13T11:50:46.537454Z",
     "shell.execute_reply": "2020-11-13T11:50:46.537981Z"
    },
    "papermill": {
     "duration": 0.06582,
     "end_time": "2020-11-13T11:50:46.538125",
     "exception": false,
     "start_time": "2020-11-13T11:50:46.472305",
     "status": "completed"
    },
    "tags": []
   },
   "outputs": [],
   "source": [
    "# importing deep learning libraries\n",
    "from tensorflow.keras.layers import Embedding, Dense, GlobalMaxPool1D, Conv1D, Dropout\n",
    "from tensorflow.keras.models import Sequential"
   ]
  },
  {
   "cell_type": "code",
   "execution_count": 40,
   "metadata": {
    "execution": {
     "iopub.execute_input": "2020-11-13T11:50:46.665660Z",
     "iopub.status.busy": "2020-11-13T11:50:46.664637Z",
     "iopub.status.idle": "2020-11-13T11:50:46.667333Z",
     "shell.execute_reply": "2020-11-13T11:50:46.667779Z"
    },
    "papermill": {
     "duration": 0.073665,
     "end_time": "2020-11-13T11:50:46.667918",
     "exception": false,
     "start_time": "2020-11-13T11:50:46.594253",
     "status": "completed"
    },
    "tags": []
   },
   "outputs": [],
   "source": [
    "def multi_class_fbeta(ytrue , ypred, beta=1, weighted=True, raw=False, epsilon=1e-7):\n",
    "    beta_squared = beta**2\n",
    "\n",
    "    ytrue = tf.cast(ytrue, tf.float32)\n",
    "    ypred= tf.cast(ypred, tf.float32)\n",
    "    \n",
    "    max_prob = tf.reduce_max(ypred, axis=-1, keepdims=True)\n",
    "    ypred = tf.cast(tf.equal(ypred, max_prob), tf.float32)\n",
    "        \n",
    "    tp = tf.reduce_sum(ytrue*ypred, axis=0)\n",
    "    predicted_positive = tf.reduce_sum(ypred, axis=0)\n",
    "    actual_positive = tf.reduce_sum(ytrue, axis=0)\n",
    "    \n",
    "    precision = tp/(predicted_positive+epsilon)\n",
    "    recall = tp/(actual_positive+epsilon)\n",
    "    \n",
    "    fb = (1+beta_squared)*precision*recall / (beta_squared*precision + recall + epsilon)\n",
    "    \n",
    "    if raw:\n",
    "        return fb\n",
    "    \n",
    "    if weighted:\n",
    "        supports = tf.reduce_sum(ytrue, axis=0)\n",
    "        return tf.reduce_sum(fb*supports / tf.reduce_sum(supports))\n",
    "\n",
    "    return tf.reduce_mean(fb)"
   ]
  },
  {
   "cell_type": "code",
   "execution_count": 41,
   "metadata": {
    "execution": {
     "iopub.execute_input": "2020-11-13T11:50:46.785226Z",
     "iopub.status.busy": "2020-11-13T11:50:46.784169Z",
     "iopub.status.idle": "2020-11-13T11:50:46.787290Z",
     "shell.execute_reply": "2020-11-13T11:50:46.786761Z"
    },
    "papermill": {
     "duration": 0.066375,
     "end_time": "2020-11-13T11:50:46.787415",
     "exception": false,
     "start_time": "2020-11-13T11:50:46.721040",
     "status": "completed"
    },
    "tags": []
   },
   "outputs": [],
   "source": [
    "def build_cnn_model(embedding_matrix, input_length):\n",
    "    model = Sequential()\n",
    "    model.add(Embedding(embedding_matrix.shape[0], embedding_matrix.shape[1], \n",
    "                           weights=[embedding_matrix], \n",
    "                           input_length=input_length,\n",
    "                           mask_zero=True,\n",
    "                           trainable=False))\n",
    "    \n",
    "    model.add(Conv1D(128, 3, activation='relu'))\n",
    "    model.add(Conv1D(128, 3, activation='relu'))\n",
    "    \n",
    "    model.add(GlobalMaxPool1D())\n",
    "    \n",
    "    model.add(Dropout(0.2))\n",
    "    \n",
    "    model.add(Dense(20, activation='softmax'))\n",
    "\n",
    "    model.compile(optimizer='adam',\n",
    "              loss='categorical_crossentropy',\n",
    "              metrics=['accuracy', multi_class_fbeta])\n",
    "\n",
    "    return model"
   ]
  },
  {
   "cell_type": "code",
   "execution_count": 42,
   "metadata": {
    "execution": {
     "iopub.execute_input": "2020-11-13T11:50:46.907422Z",
     "iopub.status.busy": "2020-11-13T11:50:46.906359Z",
     "iopub.status.idle": "2020-11-13T11:50:46.908805Z",
     "shell.execute_reply": "2020-11-13T11:50:46.909420Z"
    },
    "papermill": {
     "duration": 0.069519,
     "end_time": "2020-11-13T11:50:46.909569",
     "exception": false,
     "start_time": "2020-11-13T11:50:46.840050",
     "status": "completed"
    },
    "tags": []
   },
   "outputs": [],
   "source": [
    "class CNNModel(BaseEstimator, ClassifierMixin):\n",
    "    def __init__(self, epochs=7, batch_size=128, verbose=1):\n",
    "        self.epochs = epochs\n",
    "        self.batch_size = batch_size\n",
    "        self.verbose = verbose\n",
    "        \n",
    "    def fit(self, X, y):\n",
    "        self.corpus = data_prep_pipe.named_steps['get_tokens'].tokens\n",
    "        self.w2v_model = Word2Vec(self.corpus, size=300, min_count=1, iter=10)\n",
    "        self.embedding_matrix = get_embedding_matrix(self.w2v_model, \\\n",
    "                                                     data_prep_pipe.named_steps['text_2_sequence'].words_indices)\n",
    "        \n",
    "        self.model = build_cnn_model(self.embedding_matrix, X.shape[1])\n",
    "        \n",
    "        self.le = LabelEncoder()\n",
    "        self.one_hot = OneHotEncoder(sparse=False) # initializes a LabelEncoder object\n",
    "        \n",
    "        encoded_labels = self.le.fit_transform(y)\n",
    "        \n",
    "        self.class_weights = class_weight.compute_class_weight('balanced', np.arange(20), encoded_labels)\n",
    "        self.class_weights = dict(enumerate(self.class_weights))\n",
    "\n",
    "        one_hot_labels = self.one_hot.fit_transform(encoded_labels.reshape(-1, 1))\n",
    "        \n",
    "        self.history = self.model.fit(X, one_hot_labels, epochs=self.epochs, batch_size=self.batch_size, \\\n",
    "                                      class_weight=self.class_weights, verbose=self.verbose)\n",
    "        \n",
    "        return self\n",
    "    \n",
    "    def predict(self, X):\n",
    "        self.pred = self.model.predict(X)\n",
    "        return self.pred \n",
    "        "
   ]
  },
  {
   "cell_type": "code",
   "execution_count": 43,
   "metadata": {
    "execution": {
     "iopub.execute_input": "2020-11-13T11:50:47.019403Z",
     "iopub.status.busy": "2020-11-13T11:50:47.018485Z",
     "iopub.status.idle": "2020-11-13T11:50:47.021595Z",
     "shell.execute_reply": "2020-11-13T11:50:47.021082Z"
    },
    "papermill": {
     "duration": 0.05974,
     "end_time": "2020-11-13T11:50:47.021705",
     "exception": false,
     "start_time": "2020-11-13T11:50:46.961965",
     "status": "completed"
    },
    "tags": []
   },
   "outputs": [],
   "source": [
    "cnn_model = CNNModel()"
   ]
  },
  {
   "cell_type": "markdown",
   "metadata": {
    "papermill": {
     "duration": 0.05046,
     "end_time": "2020-11-13T11:50:47.123789",
     "exception": false,
     "start_time": "2020-11-13T11:50:47.073329",
     "status": "completed"
    },
    "tags": []
   },
   "source": [
    "#### The above should be fitted on the preprocessed X_train and y_train from data_prep_pipe.fit_transform(X_train, y_train)."
   ]
  },
  {
   "cell_type": "markdown",
   "metadata": {
    "papermill": {
     "duration": 0.049948,
     "end_time": "2020-11-13T11:50:47.225864",
     "exception": false,
     "start_time": "2020-11-13T11:50:47.175916",
     "status": "completed"
    },
    "tags": []
   },
   "source": [
    "## Prediction"
   ]
  },
  {
   "cell_type": "markdown",
   "metadata": {
    "papermill": {
     "duration": 0.049755,
     "end_time": "2020-11-13T11:50:47.327038",
     "exception": false,
     "start_time": "2020-11-13T11:50:47.277283",
     "status": "completed"
    },
    "tags": []
   },
   "source": [
    "#### the user's input to be predicted will be transformed by being fed into the preprocessor by actually doing somehing like prep_input = data_prep_pipe.transform(user_input) and then be fed into the model by doing something like pred = cnn_model.predict(prep_input)"
   ]
  },
  {
   "cell_type": "markdown",
   "metadata": {
    "papermill": {
     "duration": 0.061829,
     "end_time": "2020-11-13T11:50:47.443096",
     "exception": false,
     "start_time": "2020-11-13T11:50:47.381267",
     "status": "completed"
    },
    "tags": []
   },
   "source": [
    "# Note: lines of code below are for demostration purposes and should not be included in our deployment."
   ]
  },
  {
   "cell_type": "markdown",
   "metadata": {
    "papermill": {
     "duration": 0.050454,
     "end_time": "2020-11-13T11:50:47.547176",
     "exception": false,
     "start_time": "2020-11-13T11:50:47.496722",
     "status": "completed"
    },
    "tags": []
   },
   "source": [
    "### Our model only predicts the top 20 varieties and they are as listed below"
   ]
  },
  {
   "cell_type": "code",
   "execution_count": 44,
   "metadata": {
    "execution": {
     "iopub.execute_input": "2020-11-13T11:50:47.666362Z",
     "iopub.status.busy": "2020-11-13T11:50:47.665536Z",
     "iopub.status.idle": "2020-11-13T11:50:47.675965Z",
     "shell.execute_reply": "2020-11-13T11:50:47.675450Z"
    },
    "papermill": {
     "duration": 0.07767,
     "end_time": "2020-11-13T11:50:47.676070",
     "exception": false,
     "start_time": "2020-11-13T11:50:47.598400",
     "status": "completed"
    },
    "tags": []
   },
   "outputs": [
    {
     "data": {
      "text/plain": [
       "array(['Riesling', 'Pinot Noir', 'Cabernet Sauvignon', 'Chardonnay',\n",
       "       'Red Blend', 'Bordeaux-style Red Blend', 'White Blend',\n",
       "       'Portuguese Red', 'Pinot Gris', 'Malbec', 'Merlot',\n",
       "       'Sauvignon Blanc', 'Sangiovese', 'Rosé', 'Zinfandel', 'Syrah',\n",
       "       'Nebbiolo', 'Rhône-style Red Blend', 'Sparkling Blend',\n",
       "       'Tempranillo'], dtype=object)"
      ]
     },
     "execution_count": 44,
     "metadata": {},
     "output_type": "execute_result"
    }
   ],
   "source": [
    "balanced_df['variety'].unique()"
   ]
  },
  {
   "cell_type": "code",
   "execution_count": 45,
   "metadata": {
    "execution": {
     "iopub.execute_input": "2020-11-13T11:50:47.826168Z",
     "iopub.status.busy": "2020-11-13T11:50:47.825181Z",
     "iopub.status.idle": "2020-11-13T11:50:47.836351Z",
     "shell.execute_reply": "2020-11-13T11:50:47.835681Z"
    },
    "papermill": {
     "duration": 0.109452,
     "end_time": "2020-11-13T11:50:47.836474",
     "exception": false,
     "start_time": "2020-11-13T11:50:47.727022",
     "status": "completed"
    },
    "tags": []
   },
   "outputs": [
    {
     "data": {
      "text/plain": [
       "Pinot Noir                  13272\n",
       "Sauvignon Blanc             12801\n",
       "Chardonnay                  11753\n",
       "Syrah                       11128\n",
       "Cabernet Sauvignon           9472\n",
       "Rosé                         9207\n",
       "Red Blend                    8946\n",
       "Nebbiolo                     8107\n",
       "Malbec                       8047\n",
       "Merlot                       7874\n",
       "Portuguese Red               7734\n",
       "Sangiovese                   7432\n",
       "Bordeaux-style Red Blend     6915\n",
       "Zinfandel                    6512\n",
       "White Blend                  6034\n",
       "Sparkling Blend              5740\n",
       "Tempranillo                  5552\n",
       "Riesling                     5189\n",
       "Rhône-style Red Blend        3972\n",
       "Pinot Gris                   3961\n",
       "Name: variety, dtype: int64"
      ]
     },
     "execution_count": 45,
     "metadata": {},
     "output_type": "execute_result"
    }
   ],
   "source": [
    "balanced_df['variety'].value_counts() # checking for miniority and majority classes"
   ]
  },
  {
   "cell_type": "code",
   "execution_count": 46,
   "metadata": {
    "execution": {
     "iopub.execute_input": "2020-11-13T11:50:47.945567Z",
     "iopub.status.busy": "2020-11-13T11:50:47.944615Z",
     "iopub.status.idle": "2020-11-13T11:50:47.946883Z",
     "shell.execute_reply": "2020-11-13T11:50:47.947509Z"
    },
    "papermill": {
     "duration": 0.059043,
     "end_time": "2020-11-13T11:50:47.947638",
     "exception": false,
     "start_time": "2020-11-13T11:50:47.888595",
     "status": "completed"
    },
    "tags": []
   },
   "outputs": [],
   "source": [
    "model_pipe = Pipeline([('data_prep', data_prep_pipe), ('model', cnn_model)])"
   ]
  },
  {
   "cell_type": "code",
   "execution_count": 47,
   "metadata": {
    "execution": {
     "iopub.execute_input": "2020-11-13T11:50:48.097456Z",
     "iopub.status.busy": "2020-11-13T11:50:48.092493Z",
     "iopub.status.idle": "2020-11-13T11:55:14.103334Z",
     "shell.execute_reply": "2020-11-13T11:55:14.102674Z"
    },
    "papermill": {
     "duration": 266.103207,
     "end_time": "2020-11-13T11:55:14.103490",
     "exception": false,
     "start_time": "2020-11-13T11:50:48.000283",
     "status": "completed"
    },
    "tags": []
   },
   "outputs": [
    {
     "name": "stdout",
     "output_type": "stream",
     "text": [
      "[Pipeline] ........ (step 1 of 3) Processing get_tokens, total= 1.1min\n",
      "[Pipeline] ... (step 2 of 3) Processing text_2_sequence, total=   5.9s\n",
      "[Pipeline] ........... (step 3 of 3) Processing padding, total=   2.1s\n",
      "Epoch 1/7\n",
      "1248/1248 [==============================] - 11s 9ms/step - loss: 0.8254 - accuracy: 0.7346 - multi_class_fbeta: 0.7346\n",
      "Epoch 2/7\n",
      "1248/1248 [==============================] - 11s 9ms/step - loss: 0.5988 - accuracy: 0.7994 - multi_class_fbeta: 0.8005\n",
      "Epoch 3/7\n",
      "1248/1248 [==============================] - 11s 9ms/step - loss: 0.5421 - accuracy: 0.8138 - multi_class_fbeta: 0.8150\n",
      "Epoch 4/7\n",
      "1248/1248 [==============================] - 11s 9ms/step - loss: 0.5048 - accuracy: 0.8252 - multi_class_fbeta: 0.8263\n",
      "Epoch 5/7\n",
      "1248/1248 [==============================] - 11s 9ms/step - loss: 0.4753 - accuracy: 0.8347 - multi_class_fbeta: 0.8356\n",
      "Epoch 6/7\n",
      "1248/1248 [==============================] - 11s 9ms/step - loss: 0.4523 - accuracy: 0.8405 - multi_class_fbeta: 0.8412\n",
      "Epoch 7/7\n",
      "1248/1248 [==============================] - 11s 8ms/step - loss: 0.4305 - accuracy: 0.8469 - multi_class_fbeta: 0.8480\n"
     ]
    },
    {
     "data": {
      "text/plain": [
       "Pipeline(steps=[('data_prep',\n",
       "                 Pipeline(steps=[('get_tokens', GetTokens()),\n",
       "                                 ('text_2_sequence', Text2Sequence()),\n",
       "                                 ('padding', Padding())],\n",
       "                          verbose=1)),\n",
       "                ('model', CNNModel())])"
      ]
     },
     "execution_count": 47,
     "metadata": {},
     "output_type": "execute_result"
    }
   ],
   "source": [
    "model_pipe.fit(sent_oversample_corpus, labels)"
   ]
  },
  {
   "cell_type": "code",
   "execution_count": null,
   "metadata": {
    "papermill": {
     "duration": 0.561974,
     "end_time": "2020-11-13T11:55:15.215697",
     "exception": false,
     "start_time": "2020-11-13T11:55:14.653723",
     "status": "completed"
    },
    "tags": []
   },
   "outputs": [],
   "source": []
  },
  {
   "cell_type": "markdown",
   "metadata": {
    "papermill": {
     "duration": 0.671496,
     "end_time": "2020-11-13T11:55:16.681042",
     "exception": false,
     "start_time": "2020-11-13T11:55:16.009546",
     "status": "completed"
    },
    "tags": []
   },
   "source": [
    "### Let's do a demo prediction of a majority class'Pinot Noir' wine variety from a recent review (published 12/1/2020) not in our training set from [wine ethusiast](https://www.winemag.com/buying-guide/albert-bichot-2018-domaine-du-pavilion-clos-des-marechaudes-grand-cru-corton/). As we know, adding info like country, designation, province, region1, region2, and winery as the last sentence of our wine description boosted our model's performance during training. We therefore advise users to input them also for best performance."
   ]
  },
  {
   "cell_type": "code",
   "execution_count": 48,
   "metadata": {
    "execution": {
     "iopub.execute_input": "2020-11-13T11:55:18.007975Z",
     "iopub.status.busy": "2020-11-13T11:55:18.006871Z",
     "iopub.status.idle": "2020-11-13T11:55:18.008924Z",
     "shell.execute_reply": "2020-11-13T11:55:18.009574Z"
    },
    "papermill": {
     "duration": 0.555598,
     "end_time": "2020-11-13T11:55:18.009711",
     "exception": false,
     "start_time": "2020-11-13T11:55:17.454113",
     "status": "completed"
    },
    "tags": []
   },
   "outputs": [],
   "source": [
    "user_input = \"A hint of woodsmoke combines with this wine's shy aromas of black cherry. \" + \\\n",
    "              \"The palate comes in with surprising grace and svelteness, presenting a filigreed but \" + \\\n",
    "              \"firm structure. Cherry aromas shimmering with Morello and Amarena are expressed against \" + \\\n",
    "              \"that frame, crunching slightly and heightened by vivid freshness. This wine has compact, \" + \\\n",
    "              \"elegant power and inherent conviction. Drink through 2050. France Domaine du Pavilion Clos \" + \\\n",
    "              \"des Maréchaudes Grand Cru Burgundy Corton Albert Bichot\""
   ]
  },
  {
   "cell_type": "markdown",
   "metadata": {
    "papermill": {
     "duration": 0.538333,
     "end_time": "2020-11-13T11:55:19.101337",
     "exception": false,
     "start_time": "2020-11-13T11:55:18.563004",
     "status": "completed"
    },
    "tags": []
   },
   "source": [
    "### Notice the double quotes we used. This is to prevent error should the user's input contain apostrophe."
   ]
  },
  {
   "cell_type": "code",
   "execution_count": 49,
   "metadata": {
    "execution": {
     "iopub.execute_input": "2020-11-13T11:55:20.210257Z",
     "iopub.status.busy": "2020-11-13T11:55:20.209043Z",
     "iopub.status.idle": "2020-11-13T11:55:20.214632Z",
     "shell.execute_reply": "2020-11-13T11:55:20.214050Z"
    },
    "papermill": {
     "duration": 0.564289,
     "end_time": "2020-11-13T11:55:20.214756",
     "exception": false,
     "start_time": "2020-11-13T11:55:19.650467",
     "status": "completed"
    },
    "tags": []
   },
   "outputs": [
    {
     "data": {
      "text/plain": [
       "\"A hint of woodsmoke combines with this wine's shy aromas of black cherry. The palate comes in with surprising grace and svelteness, presenting a filigreed but firm structure. Cherry aromas shimmering with Morello and Amarena are expressed against that frame, crunching slightly and heightened by vivid freshness. This wine has compact, elegant power and inherent conviction. Drink through 2050. France Domaine du Pavilion Clos des Maréchaudes Grand Cru Burgundy Corton Albert Bichot\""
      ]
     },
     "execution_count": 49,
     "metadata": {},
     "output_type": "execute_result"
    }
   ],
   "source": [
    "user_input"
   ]
  },
  {
   "cell_type": "code",
   "execution_count": 50,
   "metadata": {
    "execution": {
     "iopub.execute_input": "2020-11-13T11:55:21.326491Z",
     "iopub.status.busy": "2020-11-13T11:55:21.324643Z",
     "iopub.status.idle": "2020-11-13T11:55:21.327140Z",
     "shell.execute_reply": "2020-11-13T11:55:21.327609Z"
    },
    "papermill": {
     "duration": 0.559917,
     "end_time": "2020-11-13T11:55:21.327736",
     "exception": false,
     "start_time": "2020-11-13T11:55:20.767819",
     "status": "completed"
    },
    "tags": []
   },
   "outputs": [],
   "source": [
    "# predicting user's description\n",
    "def get_prediction(user_inp):\n",
    "    pred = model_pipe.predict([user_inp])\n",
    "    top_5_pred = np.argsort(pred[0])[-1:-6:-1]\n",
    "    \n",
    "    print(\"The wine's variety is most likely {} with a probability of {}%\".format(\\\n",
    "                                            model_pipe.named_steps['model'].le.inverse_transform(\\\n",
    "                                            [top_5_pred[0]])[0], round(pred[0][top_5_pred[0]]*100, 3)))\n",
    "        \n",
    "    print('\\nOther possible varieties are:\\n')\n",
    "\n",
    "    for i in range(1, len(top_5_pred)):\n",
    "        print('{} ==> {}%'.format(model_pipe.named_steps['model'].le.inverse_transform(\\\n",
    "                                [top_5_pred[i]])[0], round(pred[0][top_5_pred[i]]*100, 3)))"
   ]
  },
  {
   "cell_type": "code",
   "execution_count": null,
   "metadata": {
    "papermill": {
     "duration": 0.554733,
     "end_time": "2020-11-13T11:55:22.424617",
     "exception": false,
     "start_time": "2020-11-13T11:55:21.869884",
     "status": "completed"
    },
    "tags": []
   },
   "outputs": [],
   "source": []
  },
  {
   "cell_type": "code",
   "execution_count": 51,
   "metadata": {
    "execution": {
     "iopub.execute_input": "2020-11-13T11:55:23.577916Z",
     "iopub.status.busy": "2020-11-13T11:55:23.576999Z",
     "iopub.status.idle": "2020-11-13T11:55:23.745087Z",
     "shell.execute_reply": "2020-11-13T11:55:23.743490Z"
    },
    "papermill": {
     "duration": 0.77018,
     "end_time": "2020-11-13T11:55:23.745209",
     "exception": false,
     "start_time": "2020-11-13T11:55:22.975029",
     "status": "completed"
    },
    "tags": []
   },
   "outputs": [
    {
     "name": "stdout",
     "output_type": "stream",
     "text": [
      "The wine's variety is most likely Pinot Noir with a probability of 99.936%\n",
      "\n",
      "Other possible varieties are:\n",
      "\n",
      "Chardonnay ==> 0.061%\n",
      "Red Blend ==> 0.002%\n",
      "Cabernet Sauvignon ==> 0.0%\n",
      "Bordeaux-style Red Blend ==> 0.0%\n"
     ]
    }
   ],
   "source": [
    "get_prediction(user_input)"
   ]
  },
  {
   "cell_type": "markdown",
   "metadata": {
    "papermill": {
     "duration": 0.556693,
     "end_time": "2020-11-13T11:55:24.846216",
     "exception": false,
     "start_time": "2020-11-13T11:55:24.289523",
     "status": "completed"
    },
    "tags": []
   },
   "source": [
    "### Let's consider predicting a miniority class 'Pinot Gris' wine variety from a recent review (published 12/1/2020) not in our training set from [wine ethusiast](https://www.winemag.com/buying-guide/antiquum-farm-2019-daisy-pinot-gris-willamette-valley/)."
   ]
  },
  {
   "cell_type": "code",
   "execution_count": 52,
   "metadata": {
    "execution": {
     "iopub.execute_input": "2020-11-13T11:55:25.944309Z",
     "iopub.status.busy": "2020-11-13T11:55:25.943336Z",
     "iopub.status.idle": "2020-11-13T11:55:25.945314Z",
     "shell.execute_reply": "2020-11-13T11:55:25.945795Z"
    },
    "papermill": {
     "duration": 0.542027,
     "end_time": "2020-11-13T11:55:25.945924",
     "exception": false,
     "start_time": "2020-11-13T11:55:25.403897",
     "status": "completed"
    },
    "tags": []
   },
   "outputs": [],
   "source": [
    "user_input2 = \"This breaks new ground for Oregon's signature white grape. It's rich and leesy, fragrant \" + \\\n",
    "              \"and full, a bonanza of apple, pear and melon fruits. There's a lingering trail of honeysuckle, \" + \\\n",
    "              \"and a lush minerality that underscores the freshness. A stunning wine. United States of America \" + \\\n",
    "              \"Diasy Oregon Willamette Valley Willamette Valley Antiquum Farm\""
   ]
  },
  {
   "cell_type": "code",
   "execution_count": 53,
   "metadata": {
    "execution": {
     "iopub.execute_input": "2020-11-13T11:55:27.065679Z",
     "iopub.status.busy": "2020-11-13T11:55:27.064860Z",
     "iopub.status.idle": "2020-11-13T11:55:27.069071Z",
     "shell.execute_reply": "2020-11-13T11:55:27.069556Z"
    },
    "papermill": {
     "duration": 0.561865,
     "end_time": "2020-11-13T11:55:27.069699",
     "exception": false,
     "start_time": "2020-11-13T11:55:26.507834",
     "status": "completed"
    },
    "tags": []
   },
   "outputs": [
    {
     "data": {
      "text/plain": [
       "\"This breaks new ground for Oregon's signature white grape. It's rich and leesy, fragrant and full, a bonanza of apple, pear and melon fruits. There's a lingering trail of honeysuckle, and a lush minerality that underscores the freshness. A stunning wine. United States of America Diasy Oregon Willamette Valley Willamette Valley Antiquum Farm\""
      ]
     },
     "execution_count": 53,
     "metadata": {},
     "output_type": "execute_result"
    }
   ],
   "source": [
    "user_input2"
   ]
  },
  {
   "cell_type": "code",
   "execution_count": 54,
   "metadata": {
    "execution": {
     "iopub.execute_input": "2020-11-13T11:55:28.514234Z",
     "iopub.status.busy": "2020-11-13T11:55:28.513228Z",
     "iopub.status.idle": "2020-11-13T11:55:28.630524Z",
     "shell.execute_reply": "2020-11-13T11:55:28.629888Z"
    },
    "papermill": {
     "duration": 0.973368,
     "end_time": "2020-11-13T11:55:28.630648",
     "exception": false,
     "start_time": "2020-11-13T11:55:27.657280",
     "status": "completed"
    },
    "tags": []
   },
   "outputs": [
    {
     "name": "stdout",
     "output_type": "stream",
     "text": [
      "The wine's variety is most likely Pinot Gris with a probability of 71.881%\n",
      "\n",
      "Other possible varieties are:\n",
      "\n",
      "Chardonnay ==> 14.623%\n",
      "Riesling ==> 10.832%\n",
      "White Blend ==> 2.596%\n",
      "Sauvignon Blanc ==> 0.023%\n"
     ]
    }
   ],
   "source": [
    "get_prediction(user_input2)"
   ]
  },
  {
   "cell_type": "markdown",
   "metadata": {
    "papermill": {
     "duration": 0.560564,
     "end_time": "2020-11-13T11:55:29.759868",
     "exception": false,
     "start_time": "2020-11-13T11:55:29.199304",
     "status": "completed"
    },
    "tags": []
   },
   "source": [
    "### ...and voila, our model's predictions were as good as right!"
   ]
  },
  {
   "cell_type": "code",
   "execution_count": null,
   "metadata": {
    "papermill": {
     "duration": 0.566234,
     "end_time": "2020-11-13T11:55:30.885398",
     "exception": false,
     "start_time": "2020-11-13T11:55:30.319164",
     "status": "completed"
    },
    "tags": []
   },
   "outputs": [],
   "source": []
  }
 ],
 "metadata": {
  "kernelspec": {
   "display_name": "Python 3",
   "language": "python",
   "name": "python3"
  },
  "language_info": {
   "codemirror_mode": {
    "name": "ipython",
    "version": 3
   },
   "file_extension": ".py",
   "mimetype": "text/x-python",
   "name": "python",
   "nbconvert_exporter": "python",
   "pygments_lexer": "ipython3",
   "version": "3.7.6"
  },
  "papermill": {
   "duration": 322.236892,
   "end_time": "2020-11-13T11:55:33.113333",
   "environment_variables": {},
   "exception": null,
   "input_path": "__notebook__.ipynb",
   "output_path": "__notebook__.ipynb",
   "parameters": {},
   "start_time": "2020-11-13T11:50:10.876441",
   "version": "2.1.0"
  }
 },
 "nbformat": 4,
 "nbformat_minor": 4
}
