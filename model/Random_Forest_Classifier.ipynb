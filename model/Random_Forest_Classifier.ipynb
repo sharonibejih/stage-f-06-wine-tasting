{
  "nbformat": 4,
  "nbformat_minor": 0,
  "metadata": {
    "colab": {
      "name": "Random_Forest_Classifier.ipynb",
      "provenance": [],
      "collapsed_sections": []
    },
    "kernelspec": {
      "display_name": "Python 3",
      "language": "python",
      "name": "python3"
    },
    "language_info": {
      "codemirror_mode": {
        "name": "ipython",
        "version": 3
      },
      "file_extension": ".py",
      "mimetype": "text/x-python",
      "name": "python",
      "nbconvert_exporter": "python",
      "pygments_lexer": "ipython3",
      "version": "3.7.6"
    }
  },
  "cells": [
    {
      "cell_type": "code",
      "metadata": {
        "id": "Rai_4W7lsZJl"
      },
      "source": [
        "# importing useful libraries\n",
        "import numpy as np\n",
        "import pandas as pd\n",
        "import matplotlib.pyplot as plt\n",
        "import seaborn as sns\n",
        "\n",
        "import warnings\n",
        "warnings.filterwarnings('ignore')\n",
        "\n",
        "%matplotlib inline"
      ],
      "execution_count": null,
      "outputs": []
    },
    {
      "cell_type": "markdown",
      "metadata": {
        "id": "sRfcM1IHsZJs"
      },
      "source": [
        "__Loading in our selected top varieties data__"
      ]
    },
    {
      "cell_type": "code",
      "metadata": {
        "id": "9NtNQe1FuAWo"
      },
      "source": [
        "url = 'https://raw.github.com/HamoyeHQ/stage-f-06-wine-tasting/master/data/top_40_varieties.zip'\n",
        "top_40_varieties = pd.read_csv(url)"
      ],
      "execution_count": null,
      "outputs": []
    },
    {
      "cell_type": "code",
      "metadata": {
        "id": "WZoOBtCZyiDC"
      },
      "source": [
        "url1 = 'https://raw.github.com/HamoyeHQ/stage-f-06-wine-tasting/master/data/top_varieties_count.csv'\n",
        "top_varieties_count = pd.read_csv(url1)"
      ],
      "execution_count": null,
      "outputs": []
    },
    {
      "cell_type": "code",
      "metadata": {
        "id": "HpPEnx07zNM9"
      },
      "source": [
        "url2 = 'https://raw.github.com/HamoyeHQ/stage-f-06-wine-tasting/master/data/winemag-data-130k-v2.csv'\n",
        "df2 = pd.read_csv(url2)"
      ],
      "execution_count": null,
      "outputs": []
    },
    {
      "cell_type": "code",
      "metadata": {
        "id": "O73q1zTCsZJt",
        "outputId": "7f28f710-7534-4ea1-afc7-7bfe817cd8ed",
        "colab": {
          "base_uri": "https://localhost:8080/",
          "height": 301
        }
      },
      "source": [
        "# df2 = pd.read_csv('./winemag-data-130k-v2.csv')\n",
        "# top_varieties_count = pd.read_csv('./top_varieties_count.csv')\n",
        "# top_40_varieties = pd.read_csv('./top_40_varieties.csv')\n",
        "top_40_varieties.head(2)\n",
        "# top_varieties_count.head(2)\n",
        "# df2.head(2)"
      ],
      "execution_count": null,
      "outputs": [
        {
          "output_type": "execute_result",
          "data": {
            "text/html": [
              "<div>\n",
              "<style scoped>\n",
              "    .dataframe tbody tr th:only-of-type {\n",
              "        vertical-align: middle;\n",
              "    }\n",
              "\n",
              "    .dataframe tbody tr th {\n",
              "        vertical-align: top;\n",
              "    }\n",
              "\n",
              "    .dataframe thead th {\n",
              "        text-align: right;\n",
              "    }\n",
              "</style>\n",
              "<table border=\"1\" class=\"dataframe\">\n",
              "  <thead>\n",
              "    <tr style=\"text-align: right;\">\n",
              "      <th></th>\n",
              "      <th>country</th>\n",
              "      <th>description</th>\n",
              "      <th>designation</th>\n",
              "      <th>points</th>\n",
              "      <th>price</th>\n",
              "      <th>province</th>\n",
              "      <th>region_1</th>\n",
              "      <th>region_2</th>\n",
              "      <th>taster_name</th>\n",
              "      <th>taster_twitter_handle</th>\n",
              "      <th>title</th>\n",
              "      <th>variety</th>\n",
              "      <th>winery</th>\n",
              "      <th>not_vintage</th>\n",
              "      <th>vintage</th>\n",
              "    </tr>\n",
              "  </thead>\n",
              "  <tbody>\n",
              "    <tr>\n",
              "      <th>0</th>\n",
              "      <td>Italy</td>\n",
              "      <td>Aromas include tropical fruit, broom, brimston...</td>\n",
              "      <td>Vulkà Bianco</td>\n",
              "      <td>87</td>\n",
              "      <td>NaN</td>\n",
              "      <td>Sicily &amp; Sardinia</td>\n",
              "      <td>Etna</td>\n",
              "      <td>NaN</td>\n",
              "      <td>Kerin O’Keefe</td>\n",
              "      <td>@kerinokeefe</td>\n",
              "      <td>Nicosia 2013 Vulkà Bianco  (Etna)</td>\n",
              "      <td>White Blend</td>\n",
              "      <td>Nicosia</td>\n",
              "      <td>Italy Vulkà Bianco Sicily &amp; Sardinia Etna Nicosia</td>\n",
              "      <td>2013.0</td>\n",
              "    </tr>\n",
              "    <tr>\n",
              "      <th>1</th>\n",
              "      <td>Portugal</td>\n",
              "      <td>This is ripe and fruity, a wine that is smooth...</td>\n",
              "      <td>Avidagos</td>\n",
              "      <td>87</td>\n",
              "      <td>15.0</td>\n",
              "      <td>Douro</td>\n",
              "      <td>NaN</td>\n",
              "      <td>NaN</td>\n",
              "      <td>Roger Voss</td>\n",
              "      <td>@vossroger</td>\n",
              "      <td>Quinta dos Avidagos 2011 Avidagos Red (Douro)</td>\n",
              "      <td>Portuguese Red</td>\n",
              "      <td>Quinta dos Avidagos</td>\n",
              "      <td>Portugal Avidagos Douro Quinta dos Avidagos</td>\n",
              "      <td>2011.0</td>\n",
              "    </tr>\n",
              "  </tbody>\n",
              "</table>\n",
              "</div>"
            ],
            "text/plain": [
              "    country  ... vintage\n",
              "0     Italy  ...  2013.0\n",
              "1  Portugal  ...  2011.0\n",
              "\n",
              "[2 rows x 15 columns]"
            ]
          },
          "metadata": {
            "tags": []
          },
          "execution_count": 5
        }
      ]
    },
    {
      "cell_type": "markdown",
      "metadata": {
        "id": "gHutaQMAsZJy"
      },
      "source": [
        "__We know that in our dataset, 'United States of America' is abrreviated as 'US' and this will make our model to find it difficult to differentiate between the word 'us' as a first person plural and as a country (after converting to lower case). We will solve this issue by replacing every occurence of 'US' in country and not_vintage with 'United States of America'.__"
      ]
    },
    {
      "cell_type": "code",
      "metadata": {
        "id": "NtweyIlSsZJz",
        "outputId": "7acd397d-c510-483d-c9df-0fb4c9eccd28",
        "colab": {
          "base_uri": "https://localhost:8080/",
          "height": 284
        }
      },
      "source": [
        "top_40_varieties[top_40_varieties['country'] == 'US'].head(2) # a view of wine review data of US"
      ],
      "execution_count": null,
      "outputs": [
        {
          "output_type": "execute_result",
          "data": {
            "text/html": [
              "<div>\n",
              "<style scoped>\n",
              "    .dataframe tbody tr th:only-of-type {\n",
              "        vertical-align: middle;\n",
              "    }\n",
              "\n",
              "    .dataframe tbody tr th {\n",
              "        vertical-align: top;\n",
              "    }\n",
              "\n",
              "    .dataframe thead th {\n",
              "        text-align: right;\n",
              "    }\n",
              "</style>\n",
              "<table border=\"1\" class=\"dataframe\">\n",
              "  <thead>\n",
              "    <tr style=\"text-align: right;\">\n",
              "      <th></th>\n",
              "      <th>country</th>\n",
              "      <th>description</th>\n",
              "      <th>designation</th>\n",
              "      <th>points</th>\n",
              "      <th>price</th>\n",
              "      <th>province</th>\n",
              "      <th>region_1</th>\n",
              "      <th>region_2</th>\n",
              "      <th>taster_name</th>\n",
              "      <th>taster_twitter_handle</th>\n",
              "      <th>title</th>\n",
              "      <th>variety</th>\n",
              "      <th>winery</th>\n",
              "      <th>not_vintage</th>\n",
              "      <th>vintage</th>\n",
              "    </tr>\n",
              "  </thead>\n",
              "  <tbody>\n",
              "    <tr>\n",
              "      <th>2</th>\n",
              "      <td>US</td>\n",
              "      <td>Tart and snappy, the flavors of lime flesh and...</td>\n",
              "      <td>NaN</td>\n",
              "      <td>87</td>\n",
              "      <td>14.0</td>\n",
              "      <td>Oregon</td>\n",
              "      <td>Willamette Valley</td>\n",
              "      <td>Willamette Valley</td>\n",
              "      <td>Paul Gregutt</td>\n",
              "      <td>@paulgwine</td>\n",
              "      <td>Rainstorm 2013 Pinot Gris (Willamette Valley)</td>\n",
              "      <td>Pinot Gris</td>\n",
              "      <td>Rainstorm</td>\n",
              "      <td>US Oregon Willamette Valley Willamette Valley ...</td>\n",
              "      <td>2013.0</td>\n",
              "    </tr>\n",
              "    <tr>\n",
              "      <th>3</th>\n",
              "      <td>US</td>\n",
              "      <td>Pineapple rind, lemon pith and orange blossom ...</td>\n",
              "      <td>Reserve Late Harvest</td>\n",
              "      <td>87</td>\n",
              "      <td>13.0</td>\n",
              "      <td>Michigan</td>\n",
              "      <td>Lake Michigan Shore</td>\n",
              "      <td>NaN</td>\n",
              "      <td>Alexander Peartree</td>\n",
              "      <td>NaN</td>\n",
              "      <td>St. Julian 2013 Reserve Late Harvest Riesling ...</td>\n",
              "      <td>Riesling</td>\n",
              "      <td>St. Julian</td>\n",
              "      <td>US Reserve Late Harvest Michigan Lake Michigan...</td>\n",
              "      <td>2013.0</td>\n",
              "    </tr>\n",
              "  </tbody>\n",
              "</table>\n",
              "</div>"
            ],
            "text/plain": [
              "  country  ... vintage\n",
              "2      US  ...  2013.0\n",
              "3      US  ...  2013.0\n",
              "\n",
              "[2 rows x 15 columns]"
            ]
          },
          "metadata": {
            "tags": []
          },
          "execution_count": 6
        }
      ]
    },
    {
      "cell_type": "code",
      "metadata": {
        "id": "cSh-L0qPsZJ3",
        "outputId": "6bcc803a-55df-4585-f42d-e49bc370cde7",
        "colab": {
          "base_uri": "https://localhost:8080/"
        }
      },
      "source": [
        "top_40_varieties['not_vintage'].apply(lambda x: 'US' in x).sum() # checks the number of rows with US"
      ],
      "execution_count": null,
      "outputs": [
        {
          "output_type": "execute_result",
          "data": {
            "text/plain": [
              "50734"
            ]
          },
          "metadata": {
            "tags": []
          },
          "execution_count": 7
        }
      ]
    },
    {
      "cell_type": "code",
      "metadata": {
        "id": "mgHqOZSVsZJ6"
      },
      "source": [
        "# replacing every occurence of 'US' in country with 'United States of America'\n",
        "top_40_varieties['country'].replace('US', 'United States of America', inplace=True)\n",
        "\n",
        "# replacing every occurence of 'US' in not_vintage with 'United States of America'\n",
        "top_40_varieties['not_vintage'] = top_40_varieties['not_vintage'].apply(lambda x: x.replace(\\\n",
        "                                                                        'US', 'United States of America'))"
      ],
      "execution_count": null,
      "outputs": []
    },
    {
      "cell_type": "code",
      "metadata": {
        "id": "Hx4ZZbvYsZJ-",
        "outputId": "e3309af1-1873-45d6-88cc-95d62d54c521",
        "colab": {
          "base_uri": "https://localhost:8080/",
          "height": 284
        }
      },
      "source": [
        "top_40_varieties[top_40_varieties['country'] == 'United States of America'].head(2) # a view of the dataset\n"
      ],
      "execution_count": null,
      "outputs": [
        {
          "output_type": "execute_result",
          "data": {
            "text/html": [
              "<div>\n",
              "<style scoped>\n",
              "    .dataframe tbody tr th:only-of-type {\n",
              "        vertical-align: middle;\n",
              "    }\n",
              "\n",
              "    .dataframe tbody tr th {\n",
              "        vertical-align: top;\n",
              "    }\n",
              "\n",
              "    .dataframe thead th {\n",
              "        text-align: right;\n",
              "    }\n",
              "</style>\n",
              "<table border=\"1\" class=\"dataframe\">\n",
              "  <thead>\n",
              "    <tr style=\"text-align: right;\">\n",
              "      <th></th>\n",
              "      <th>country</th>\n",
              "      <th>description</th>\n",
              "      <th>designation</th>\n",
              "      <th>points</th>\n",
              "      <th>price</th>\n",
              "      <th>province</th>\n",
              "      <th>region_1</th>\n",
              "      <th>region_2</th>\n",
              "      <th>taster_name</th>\n",
              "      <th>taster_twitter_handle</th>\n",
              "      <th>title</th>\n",
              "      <th>variety</th>\n",
              "      <th>winery</th>\n",
              "      <th>not_vintage</th>\n",
              "      <th>vintage</th>\n",
              "    </tr>\n",
              "  </thead>\n",
              "  <tbody>\n",
              "    <tr>\n",
              "      <th>2</th>\n",
              "      <td>United States of America</td>\n",
              "      <td>Tart and snappy, the flavors of lime flesh and...</td>\n",
              "      <td>NaN</td>\n",
              "      <td>87</td>\n",
              "      <td>14.0</td>\n",
              "      <td>Oregon</td>\n",
              "      <td>Willamette Valley</td>\n",
              "      <td>Willamette Valley</td>\n",
              "      <td>Paul Gregutt</td>\n",
              "      <td>@paulgwine</td>\n",
              "      <td>Rainstorm 2013 Pinot Gris (Willamette Valley)</td>\n",
              "      <td>Pinot Gris</td>\n",
              "      <td>Rainstorm</td>\n",
              "      <td>United States of America Oregon Willamette Val...</td>\n",
              "      <td>2013.0</td>\n",
              "    </tr>\n",
              "    <tr>\n",
              "      <th>3</th>\n",
              "      <td>United States of America</td>\n",
              "      <td>Pineapple rind, lemon pith and orange blossom ...</td>\n",
              "      <td>Reserve Late Harvest</td>\n",
              "      <td>87</td>\n",
              "      <td>13.0</td>\n",
              "      <td>Michigan</td>\n",
              "      <td>Lake Michigan Shore</td>\n",
              "      <td>NaN</td>\n",
              "      <td>Alexander Peartree</td>\n",
              "      <td>NaN</td>\n",
              "      <td>St. Julian 2013 Reserve Late Harvest Riesling ...</td>\n",
              "      <td>Riesling</td>\n",
              "      <td>St. Julian</td>\n",
              "      <td>United States of America Reserve Late Harvest ...</td>\n",
              "      <td>2013.0</td>\n",
              "    </tr>\n",
              "  </tbody>\n",
              "</table>\n",
              "</div>"
            ],
            "text/plain": [
              "                    country  ... vintage\n",
              "2  United States of America  ...  2013.0\n",
              "3  United States of America  ...  2013.0\n",
              "\n",
              "[2 rows x 15 columns]"
            ]
          },
          "metadata": {
            "tags": []
          },
          "execution_count": 9
        }
      ]
    },
    {
      "cell_type": "code",
      "metadata": {
        "id": "ooyGHIzMsZKB"
      },
      "source": [
        "# asserting that there is no occurence of 'US' in country and not_vintage\n",
        "assert 'US' not in top_40_varieties['country']\n",
        "assert top_40_varieties['not_vintage'].apply(lambda x: 'US' in x).sum() == 0"
      ],
      "execution_count": null,
      "outputs": []
    },
    {
      "cell_type": "code",
      "metadata": {
        "id": "v4aabrE4sZKH",
        "outputId": "76a3d53a-125d-4052-df4e-7b37e1f08f3a",
        "colab": {
          "base_uri": "https://localhost:8080/"
        }
      },
      "source": [
        "# renaming the columns in top_varieties_count\n",
        "top_varieties_count = top_varieties_count.rename(columns={'variety': 'count', 'Unnamed: 0': 'variety'})\n",
        "top_varieties_count = top_varieties_count.set_index('variety') # setting the index\n",
        "top_varieties_count = top_varieties_count['count'] # making it a Series\n",
        "top_varieties_count"
      ],
      "execution_count": null,
      "outputs": [
        {
          "output_type": "execute_result",
          "data": {
            "text/plain": [
              "variety\n",
              "Pinot Noir                       13272\n",
              "Chardonnay                       11753\n",
              "Cabernet Sauvignon                9472\n",
              "Red Blend                         8946\n",
              "Bordeaux-style Red Blend          6915\n",
              "Riesling                          5189\n",
              "Sauvignon Blanc                   4967\n",
              "Syrah                             4142\n",
              "Rosé                              3564\n",
              "Merlot                            3102\n",
              "Nebbiolo                          2804\n",
              "Zinfandel                         2714\n",
              "Sangiovese                        2707\n",
              "Malbec                            2652\n",
              "Portuguese Red                    2466\n",
              "White Blend                       2360\n",
              "Sparkling Blend                   2153\n",
              "Tempranillo                       1810\n",
              "Rhône-style Red Blend             1471\n",
              "Pinot Gris                        1455\n",
              "Champagne Blend                   1396\n",
              "Cabernet Franc                    1353\n",
              "Grüner Veltliner                  1345\n",
              "Portuguese White                  1159\n",
              "Bordeaux-style White Blend        1066\n",
              "Pinot Grigio                      1052\n",
              "Gamay                             1025\n",
              "Gewürztraminer                    1012\n",
              "Viognier                           996\n",
              "Shiraz                             836\n",
              "Petite Sirah                       770\n",
              "Sangiovese Grosso                  751\n",
              "Barbera                            721\n",
              "Glera                              709\n",
              "Port                               668\n",
              "Grenache                           651\n",
              "Corvina, Rondinella, Molinara      619\n",
              "Chenin Blanc                       591\n",
              "Tempranillo Blend                  588\n",
              "Carmenère                          575\n",
              "Name: count, dtype: int64"
            ]
          },
          "metadata": {
            "tags": []
          },
          "execution_count": 11
        }
      ]
    },
    {
      "cell_type": "code",
      "metadata": {
        "id": "ftaZr9xUsZKL",
        "outputId": "5d451cfc-dc18-410e-e7ba-dcdfb009aa07",
        "colab": {
          "base_uri": "https://localhost:8080/",
          "height": 335
        }
      },
      "source": [
        "top = 20 # selecting top 20 varities as our working varieties. note 1 < n <= 40\n",
        "\n",
        "# making a datframe of our selecting top n varieties\n",
        "top_df = top_40_varieties[top_40_varieties['variety'].isin(top_varieties_count.iloc[:top].index)]\n",
        "print('percentage of initial 130k dataframe is {}%'.format(round(100*top_df.shape[0] / df2.shape[0]), 3))\n",
        "print(len(top_df['variety'].unique()))\n",
        "top_df.head(2)"
      ],
      "execution_count": null,
      "outputs": [
        {
          "output_type": "stream",
          "text": [
            "percentage of initial 130k dataframe is 72%\n",
            "20\n"
          ],
          "name": "stdout"
        },
        {
          "output_type": "execute_result",
          "data": {
            "text/html": [
              "<div>\n",
              "<style scoped>\n",
              "    .dataframe tbody tr th:only-of-type {\n",
              "        vertical-align: middle;\n",
              "    }\n",
              "\n",
              "    .dataframe tbody tr th {\n",
              "        vertical-align: top;\n",
              "    }\n",
              "\n",
              "    .dataframe thead th {\n",
              "        text-align: right;\n",
              "    }\n",
              "</style>\n",
              "<table border=\"1\" class=\"dataframe\">\n",
              "  <thead>\n",
              "    <tr style=\"text-align: right;\">\n",
              "      <th></th>\n",
              "      <th>country</th>\n",
              "      <th>description</th>\n",
              "      <th>designation</th>\n",
              "      <th>points</th>\n",
              "      <th>price</th>\n",
              "      <th>province</th>\n",
              "      <th>region_1</th>\n",
              "      <th>region_2</th>\n",
              "      <th>taster_name</th>\n",
              "      <th>taster_twitter_handle</th>\n",
              "      <th>title</th>\n",
              "      <th>variety</th>\n",
              "      <th>winery</th>\n",
              "      <th>not_vintage</th>\n",
              "      <th>vintage</th>\n",
              "    </tr>\n",
              "  </thead>\n",
              "  <tbody>\n",
              "    <tr>\n",
              "      <th>0</th>\n",
              "      <td>Italy</td>\n",
              "      <td>Aromas include tropical fruit, broom, brimston...</td>\n",
              "      <td>Vulkà Bianco</td>\n",
              "      <td>87</td>\n",
              "      <td>NaN</td>\n",
              "      <td>Sicily &amp; Sardinia</td>\n",
              "      <td>Etna</td>\n",
              "      <td>NaN</td>\n",
              "      <td>Kerin O’Keefe</td>\n",
              "      <td>@kerinokeefe</td>\n",
              "      <td>Nicosia 2013 Vulkà Bianco  (Etna)</td>\n",
              "      <td>White Blend</td>\n",
              "      <td>Nicosia</td>\n",
              "      <td>Italy Vulkà Bianco Sicily &amp; Sardinia Etna Nicosia</td>\n",
              "      <td>2013.0</td>\n",
              "    </tr>\n",
              "    <tr>\n",
              "      <th>1</th>\n",
              "      <td>Portugal</td>\n",
              "      <td>This is ripe and fruity, a wine that is smooth...</td>\n",
              "      <td>Avidagos</td>\n",
              "      <td>87</td>\n",
              "      <td>15.0</td>\n",
              "      <td>Douro</td>\n",
              "      <td>NaN</td>\n",
              "      <td>NaN</td>\n",
              "      <td>Roger Voss</td>\n",
              "      <td>@vossroger</td>\n",
              "      <td>Quinta dos Avidagos 2011 Avidagos Red (Douro)</td>\n",
              "      <td>Portuguese Red</td>\n",
              "      <td>Quinta dos Avidagos</td>\n",
              "      <td>Portugal Avidagos Douro Quinta dos Avidagos</td>\n",
              "      <td>2011.0</td>\n",
              "    </tr>\n",
              "  </tbody>\n",
              "</table>\n",
              "</div>"
            ],
            "text/plain": [
              "    country  ... vintage\n",
              "0     Italy  ...  2013.0\n",
              "1  Portugal  ...  2011.0\n",
              "\n",
              "[2 rows x 15 columns]"
            ]
          },
          "metadata": {
            "tags": []
          },
          "execution_count": 12
        }
      ]
    },
    {
      "cell_type": "code",
      "metadata": {
        "id": "eZeIvj1CsZKO",
        "outputId": "7ced173d-fe7f-413a-8e26-454be5621ddd",
        "colab": {
          "base_uri": "https://localhost:8080/",
          "height": 335
        }
      },
      "source": [
        "# threshold of miniority variety to over sample (use sentences as document instead of the whole description)\n",
        "minority_threshold = 5000 \n",
        "\n",
        "# making a dataframe of the miniority classes\n",
        "minority_df = top_df[top_df['variety'].isin(top_varieties_count[top_varieties_count < \\\n",
        "                                                                      minority_threshold].index)]\n",
        "print(minority_df.shape)\n",
        "print(len(minority_df['variety'].unique()))\n",
        "minority_df.head(2)"
      ],
      "execution_count": null,
      "outputs": [
        {
          "output_type": "stream",
          "text": [
            "(38367, 15)\n",
            "14\n"
          ],
          "name": "stdout"
        },
        {
          "output_type": "execute_result",
          "data": {
            "text/html": [
              "<div>\n",
              "<style scoped>\n",
              "    .dataframe tbody tr th:only-of-type {\n",
              "        vertical-align: middle;\n",
              "    }\n",
              "\n",
              "    .dataframe tbody tr th {\n",
              "        vertical-align: top;\n",
              "    }\n",
              "\n",
              "    .dataframe thead th {\n",
              "        text-align: right;\n",
              "    }\n",
              "</style>\n",
              "<table border=\"1\" class=\"dataframe\">\n",
              "  <thead>\n",
              "    <tr style=\"text-align: right;\">\n",
              "      <th></th>\n",
              "      <th>country</th>\n",
              "      <th>description</th>\n",
              "      <th>designation</th>\n",
              "      <th>points</th>\n",
              "      <th>price</th>\n",
              "      <th>province</th>\n",
              "      <th>region_1</th>\n",
              "      <th>region_2</th>\n",
              "      <th>taster_name</th>\n",
              "      <th>taster_twitter_handle</th>\n",
              "      <th>title</th>\n",
              "      <th>variety</th>\n",
              "      <th>winery</th>\n",
              "      <th>not_vintage</th>\n",
              "      <th>vintage</th>\n",
              "    </tr>\n",
              "  </thead>\n",
              "  <tbody>\n",
              "    <tr>\n",
              "      <th>0</th>\n",
              "      <td>Italy</td>\n",
              "      <td>Aromas include tropical fruit, broom, brimston...</td>\n",
              "      <td>Vulkà Bianco</td>\n",
              "      <td>87</td>\n",
              "      <td>NaN</td>\n",
              "      <td>Sicily &amp; Sardinia</td>\n",
              "      <td>Etna</td>\n",
              "      <td>NaN</td>\n",
              "      <td>Kerin O’Keefe</td>\n",
              "      <td>@kerinokeefe</td>\n",
              "      <td>Nicosia 2013 Vulkà Bianco  (Etna)</td>\n",
              "      <td>White Blend</td>\n",
              "      <td>Nicosia</td>\n",
              "      <td>Italy Vulkà Bianco Sicily &amp; Sardinia Etna Nicosia</td>\n",
              "      <td>2013.0</td>\n",
              "    </tr>\n",
              "    <tr>\n",
              "      <th>1</th>\n",
              "      <td>Portugal</td>\n",
              "      <td>This is ripe and fruity, a wine that is smooth...</td>\n",
              "      <td>Avidagos</td>\n",
              "      <td>87</td>\n",
              "      <td>15.0</td>\n",
              "      <td>Douro</td>\n",
              "      <td>NaN</td>\n",
              "      <td>NaN</td>\n",
              "      <td>Roger Voss</td>\n",
              "      <td>@vossroger</td>\n",
              "      <td>Quinta dos Avidagos 2011 Avidagos Red (Douro)</td>\n",
              "      <td>Portuguese Red</td>\n",
              "      <td>Quinta dos Avidagos</td>\n",
              "      <td>Portugal Avidagos Douro Quinta dos Avidagos</td>\n",
              "      <td>2011.0</td>\n",
              "    </tr>\n",
              "  </tbody>\n",
              "</table>\n",
              "</div>"
            ],
            "text/plain": [
              "    country  ... vintage\n",
              "0     Italy  ...  2013.0\n",
              "1  Portugal  ...  2011.0\n",
              "\n",
              "[2 rows x 15 columns]"
            ]
          },
          "metadata": {
            "tags": []
          },
          "execution_count": 13
        }
      ]
    },
    {
      "cell_type": "markdown",
      "metadata": {
        "id": "pdIclahfsZKR"
      },
      "source": [
        "__nltk and spacy are the two most popular libraries in NLP. We will just use nltk to tokenize sentences in our miniority class but for our heavy weight preprocessing, we will use spacy because it is mostly used in industries and has wealth of functionalities.__"
      ]
    },
    {
      "cell_type": "code",
      "metadata": {
        "id": "g090cQ1M2s5b",
        "outputId": "d60584ea-b9d8-4d8c-8ee0-6ba9b3108d5c",
        "colab": {
          "base_uri": "https://localhost:8080/"
        }
      },
      "source": [
        "import nltk\n",
        "nltk.download('punkt')"
      ],
      "execution_count": null,
      "outputs": [
        {
          "output_type": "stream",
          "text": [
            "[nltk_data] Downloading package punkt to /root/nltk_data...\n",
            "[nltk_data]   Unzipping tokenizers/punkt.zip.\n"
          ],
          "name": "stdout"
        },
        {
          "output_type": "execute_result",
          "data": {
            "text/plain": [
              "True"
            ]
          },
          "metadata": {
            "tags": []
          },
          "execution_count": 14
        }
      ]
    },
    {
      "cell_type": "code",
      "metadata": {
        "id": "bMU3AsXOsZKS"
      },
      "source": [
        "from nltk.tokenize import sent_tokenize # importing useful library"
      ],
      "execution_count": null,
      "outputs": []
    },
    {
      "cell_type": "code",
      "metadata": {
        "id": "KPLSm0ChsZKV"
      },
      "source": [
        "oversampled_miniority_lst = [] # empty list to store sentences as tokens miniority corpus\n",
        "\n",
        "# creating a function to use sentences as tokens for the miniority classes\n",
        "def over_sample_miniority(row):\n",
        "    doc_list = sent_tokenize(row['description'])\n",
        "    for sent in doc_list:\n",
        "        row['description'] = sent\n",
        "        oversampled_miniority_lst.append(list(row))"
      ],
      "execution_count": null,
      "outputs": []
    },
    {
      "cell_type": "code",
      "metadata": {
        "id": "ChB9jzE5sZKZ"
      },
      "source": [
        "minority_df.apply(over_sample_miniority, axis=1); # over sample the miniority classes"
      ],
      "execution_count": null,
      "outputs": []
    },
    {
      "cell_type": "code",
      "metadata": {
        "id": "2nTg5063sZKd",
        "outputId": "f2e0f7b8-9973-42a7-fcc9-63c7fcd8a398",
        "colab": {
          "base_uri": "https://localhost:8080/",
          "height": 284
        }
      },
      "source": [
        "# converts oversampled_miniority_lst to a dataframe\n",
        "oversampled_miniority_df = pd.DataFrame(oversampled_miniority_lst, columns=minority_df.columns)\n",
        "print(oversampled_miniority_df.shape)\n",
        "oversampled_miniority_df.head(2)"
      ],
      "execution_count": null,
      "outputs": [
        {
          "output_type": "stream",
          "text": [
            "(104101, 15)\n"
          ],
          "name": "stdout"
        },
        {
          "output_type": "execute_result",
          "data": {
            "text/html": [
              "<div>\n",
              "<style scoped>\n",
              "    .dataframe tbody tr th:only-of-type {\n",
              "        vertical-align: middle;\n",
              "    }\n",
              "\n",
              "    .dataframe tbody tr th {\n",
              "        vertical-align: top;\n",
              "    }\n",
              "\n",
              "    .dataframe thead th {\n",
              "        text-align: right;\n",
              "    }\n",
              "</style>\n",
              "<table border=\"1\" class=\"dataframe\">\n",
              "  <thead>\n",
              "    <tr style=\"text-align: right;\">\n",
              "      <th></th>\n",
              "      <th>country</th>\n",
              "      <th>description</th>\n",
              "      <th>designation</th>\n",
              "      <th>points</th>\n",
              "      <th>price</th>\n",
              "      <th>province</th>\n",
              "      <th>region_1</th>\n",
              "      <th>region_2</th>\n",
              "      <th>taster_name</th>\n",
              "      <th>taster_twitter_handle</th>\n",
              "      <th>title</th>\n",
              "      <th>variety</th>\n",
              "      <th>winery</th>\n",
              "      <th>not_vintage</th>\n",
              "      <th>vintage</th>\n",
              "    </tr>\n",
              "  </thead>\n",
              "  <tbody>\n",
              "    <tr>\n",
              "      <th>0</th>\n",
              "      <td>Italy</td>\n",
              "      <td>Aromas include tropical fruit, broom, brimston...</td>\n",
              "      <td>Vulkà Bianco</td>\n",
              "      <td>87</td>\n",
              "      <td>NaN</td>\n",
              "      <td>Sicily &amp; Sardinia</td>\n",
              "      <td>Etna</td>\n",
              "      <td>NaN</td>\n",
              "      <td>Kerin O’Keefe</td>\n",
              "      <td>@kerinokeefe</td>\n",
              "      <td>Nicosia 2013 Vulkà Bianco  (Etna)</td>\n",
              "      <td>White Blend</td>\n",
              "      <td>Nicosia</td>\n",
              "      <td>Italy Vulkà Bianco Sicily &amp; Sardinia Etna Nicosia</td>\n",
              "      <td>2013.0</td>\n",
              "    </tr>\n",
              "    <tr>\n",
              "      <th>1</th>\n",
              "      <td>Italy</td>\n",
              "      <td>The palate isn't overly expressive, offering u...</td>\n",
              "      <td>Vulkà Bianco</td>\n",
              "      <td>87</td>\n",
              "      <td>NaN</td>\n",
              "      <td>Sicily &amp; Sardinia</td>\n",
              "      <td>Etna</td>\n",
              "      <td>NaN</td>\n",
              "      <td>Kerin O’Keefe</td>\n",
              "      <td>@kerinokeefe</td>\n",
              "      <td>Nicosia 2013 Vulkà Bianco  (Etna)</td>\n",
              "      <td>White Blend</td>\n",
              "      <td>Nicosia</td>\n",
              "      <td>Italy Vulkà Bianco Sicily &amp; Sardinia Etna Nicosia</td>\n",
              "      <td>2013.0</td>\n",
              "    </tr>\n",
              "  </tbody>\n",
              "</table>\n",
              "</div>"
            ],
            "text/plain": [
              "  country  ... vintage\n",
              "0   Italy  ...  2013.0\n",
              "1   Italy  ...  2013.0\n",
              "\n",
              "[2 rows x 15 columns]"
            ]
          },
          "metadata": {
            "tags": []
          },
          "execution_count": 18
        }
      ]
    },
    {
      "cell_type": "code",
      "metadata": {
        "id": "Opt8AHlqsZKh",
        "outputId": "b0c7edb5-3922-4a3c-df67-2bb096c8a359",
        "colab": {
          "base_uri": "https://localhost:8080/"
        }
      },
      "source": [
        "# a view at the new descriptions of the oversampled miniority classes\n",
        "oversampled_miniority_df['description'][:5].values"
      ],
      "execution_count": null,
      "outputs": [
        {
          "output_type": "execute_result",
          "data": {
            "text/plain": [
              "array(['Aromas include tropical fruit, broom, brimstone and dried herb.',\n",
              "       \"The palate isn't overly expressive, offering unripened apple, citrus and dried sage alongside brisk acidity.\",\n",
              "       'This is ripe and fruity, a wine that is smooth while still structured.',\n",
              "       'Firm tannins are filled out with juicy red berry fruits and freshened with acidity.',\n",
              "       \"It's  already drinkable, although it will certainly be better from 2016.\"],\n",
              "      dtype=object)"
            ]
          },
          "metadata": {
            "tags": []
          },
          "execution_count": 19
        }
      ]
    },
    {
      "cell_type": "markdown",
      "metadata": {
        "id": "sCtx_WrTsZKm"
      },
      "source": [
        "__we see that sentences are counted as tokens instead of the whole review__"
      ]
    },
    {
      "cell_type": "code",
      "metadata": {
        "id": "pycpsnYWsZKm",
        "outputId": "9912ffdd-d5eb-4249-c390-9f05e01e0942",
        "colab": {
          "base_uri": "https://localhost:8080/",
          "height": 369
        }
      },
      "source": [
        "\n",
        "# selecting majority classes as a dataframe to concatenate to oversampled_miniority_lst\n",
        "majority_df = top_df[top_df['variety'].isin(\\\n",
        "                                        top_varieties_count[top_varieties_count >= minority_threshold].index)]\n",
        "\n",
        "# concatenates majority_df to oversampled_miniority_lst\n",
        "balanced_df = pd.concat([majority_df, oversampled_miniority_df]) \n",
        "balanced_df = balanced_df.reset_index().drop('index', axis=1) # resets index\n",
        "print(balanced_df.shape)\n",
        "balanced_df.head(2)"
      ],
      "execution_count": null,
      "outputs": [
        {
          "output_type": "stream",
          "text": [
            "(159648, 15)\n"
          ],
          "name": "stdout"
        },
        {
          "output_type": "execute_result",
          "data": {
            "text/html": [
              "<div>\n",
              "<style scoped>\n",
              "    .dataframe tbody tr th:only-of-type {\n",
              "        vertical-align: middle;\n",
              "    }\n",
              "\n",
              "    .dataframe tbody tr th {\n",
              "        vertical-align: top;\n",
              "    }\n",
              "\n",
              "    .dataframe thead th {\n",
              "        text-align: right;\n",
              "    }\n",
              "</style>\n",
              "<table border=\"1\" class=\"dataframe\">\n",
              "  <thead>\n",
              "    <tr style=\"text-align: right;\">\n",
              "      <th></th>\n",
              "      <th>country</th>\n",
              "      <th>description</th>\n",
              "      <th>designation</th>\n",
              "      <th>points</th>\n",
              "      <th>price</th>\n",
              "      <th>province</th>\n",
              "      <th>region_1</th>\n",
              "      <th>region_2</th>\n",
              "      <th>taster_name</th>\n",
              "      <th>taster_twitter_handle</th>\n",
              "      <th>title</th>\n",
              "      <th>variety</th>\n",
              "      <th>winery</th>\n",
              "      <th>not_vintage</th>\n",
              "      <th>vintage</th>\n",
              "    </tr>\n",
              "  </thead>\n",
              "  <tbody>\n",
              "    <tr>\n",
              "      <th>0</th>\n",
              "      <td>United States of America</td>\n",
              "      <td>Pineapple rind, lemon pith and orange blossom ...</td>\n",
              "      <td>Reserve Late Harvest</td>\n",
              "      <td>87</td>\n",
              "      <td>13.0</td>\n",
              "      <td>Michigan</td>\n",
              "      <td>Lake Michigan Shore</td>\n",
              "      <td>NaN</td>\n",
              "      <td>Alexander Peartree</td>\n",
              "      <td>NaN</td>\n",
              "      <td>St. Julian 2013 Reserve Late Harvest Riesling ...</td>\n",
              "      <td>Riesling</td>\n",
              "      <td>St. Julian</td>\n",
              "      <td>United States of America Reserve Late Harvest ...</td>\n",
              "      <td>2013.0</td>\n",
              "    </tr>\n",
              "    <tr>\n",
              "      <th>1</th>\n",
              "      <td>United States of America</td>\n",
              "      <td>Much like the regular bottling from 2012, this...</td>\n",
              "      <td>Vintner's Reserve Wild Child Block</td>\n",
              "      <td>87</td>\n",
              "      <td>65.0</td>\n",
              "      <td>Oregon</td>\n",
              "      <td>Willamette Valley</td>\n",
              "      <td>Willamette Valley</td>\n",
              "      <td>Paul Gregutt</td>\n",
              "      <td>@paulgwine</td>\n",
              "      <td>Sweet Cheeks 2012 Vintner's Reserve Wild Child...</td>\n",
              "      <td>Pinot Noir</td>\n",
              "      <td>Sweet Cheeks</td>\n",
              "      <td>United States of America Vintner's Reserve Wil...</td>\n",
              "      <td>2012.0</td>\n",
              "    </tr>\n",
              "  </tbody>\n",
              "</table>\n",
              "</div>"
            ],
            "text/plain": [
              "                    country  ... vintage\n",
              "0  United States of America  ...  2013.0\n",
              "1  United States of America  ...  2012.0\n",
              "\n",
              "[2 rows x 15 columns]"
            ]
          },
          "metadata": {
            "tags": []
          },
          "execution_count": 20
        }
      ]
    },
    {
      "cell_type": "code",
      "metadata": {
        "id": "6rnMV4DSsZKp",
        "outputId": "1abc368b-3292-4111-c518-4afed8130c4a",
        "colab": {
          "base_uri": "https://localhost:8080/"
        }
      },
      "source": [
        "balanced_variety = balanced_df['variety'].value_counts() # gets a Series of the variety count in balanced_df\n",
        "balanced_variety"
      ],
      "execution_count": null,
      "outputs": [
        {
          "output_type": "execute_result",
          "data": {
            "text/plain": [
              "Pinot Noir                  13272\n",
              "Sauvignon Blanc             12801\n",
              "Chardonnay                  11753\n",
              "Syrah                       11128\n",
              "Cabernet Sauvignon           9472\n",
              "Rosé                         9207\n",
              "Red Blend                    8946\n",
              "Nebbiolo                     8107\n",
              "Malbec                       8047\n",
              "Merlot                       7874\n",
              "Portuguese Red               7734\n",
              "Sangiovese                   7432\n",
              "Bordeaux-style Red Blend     6915\n",
              "Zinfandel                    6512\n",
              "White Blend                  6034\n",
              "Sparkling Blend              5740\n",
              "Tempranillo                  5552\n",
              "Riesling                     5189\n",
              "Rhône-style Red Blend        3972\n",
              "Pinot Gris                   3961\n",
              "Name: variety, dtype: int64"
            ]
          },
          "metadata": {
            "tags": []
          },
          "execution_count": 21
        }
      ]
    },
    {
      "cell_type": "code",
      "metadata": {
        "id": "eNPLyCWrsZKs",
        "outputId": "4751f080-9c8f-499b-a1c4-889c08fa65b9",
        "colab": {
          "base_uri": "https://localhost:8080/"
        }
      },
      "source": [
        "print('before sentence oversampling, highest class ratio was {}'.format(\\\n",
        "                                        top_varieties_count.iloc[0] / top_varieties_count.iloc[top]))"
      ],
      "execution_count": null,
      "outputs": [
        {
          "output_type": "stream",
          "text": [
            "before sentence oversampling, highest class ratio was 9.507163323782235\n"
          ],
          "name": "stdout"
        }
      ]
    },
    {
      "cell_type": "code",
      "metadata": {
        "id": "agoOK5arsZKv",
        "outputId": "adec7a21-6a50-43aa-9f6e-6f8d599b1f34",
        "colab": {
          "base_uri": "https://localhost:8080/",
          "height": 414
        }
      },
      "source": [
        "fig = plt.figure(figsize=(18, 4))\n",
        "plt.bar(top_varieties_count[:top].index, top_varieties_count[:top].values)\n",
        "plt.xticks(rotation=90)\n",
        "plt.xlabel('variety')\n",
        "plt.ylabel('count')\n",
        "plt.title('Counts of varieties before sentence oversampling')\n",
        "plt.show()"
      ],
      "execution_count": null,
      "outputs": [
        {
          "output_type": "display_data",
          "data": {
            "image/png": "[encoded data removed]",
            "text/plain": [
              "<Figure size 1296x288 with 1 Axes>"
            ]
          },
          "metadata": {
            "tags": []
          }
        }
      ]
    },
    {
      "cell_type": "code",
      "metadata": {
        "id": "gmyRECYGsZKz",
        "outputId": "49f47898-e0c3-45e4-bdac-2b307c8e3632",
        "colab": {
          "base_uri": "https://localhost:8080/"
        }
      },
      "source": [
        "print('after sentence oversampling, highest class ratio is {}'.format(\\\n",
        "                                                    balanced_variety.iloc[0] / balanced_variety.iloc[-1]))"
      ],
      "execution_count": null,
      "outputs": [
        {
          "output_type": "stream",
          "text": [
            "after sentence oversampling, highest class ratio is 3.3506690229739964\n"
          ],
          "name": "stdout"
        }
      ]
    },
    {
      "cell_type": "markdown",
      "metadata": {
        "id": "tE5FCtxssZK3"
      },
      "source": [
        "fig = plt.figure(figsize=(18, 4))\n",
        "plt.bar(balanced_variety.index, balanced_variety.values)\n",
        "plt.xticks(rotation=90)\n",
        "plt.xlabel('variety')\n",
        "plt.ylabel('count')\n",
        "plt.title('Counts of varieties after sentence oversampling')\n",
        "plt.show()"
      ]
    },
    {
      "cell_type": "code",
      "metadata": {
        "id": "zmue2Y_EsZK4"
      },
      "source": [
        "# importing useful libraries\n",
        "import spacy\n",
        "from imblearn.over_sampling import SMOTE\n",
        "from imblearn.pipeline import Pipeline\n",
        "from sklearn.ensemble import RandomForestClassifier\n",
        "from sklearn.preprocessing import LabelEncoder\n",
        "from sklearn.model_selection import RepeatedStratifiedKFold, cross_val_score"
      ],
      "execution_count": null,
      "outputs": []
    },
    {
      "cell_type": "markdown",
      "metadata": {
        "id": "68sPSFn3sZK8"
      },
      "source": [
        "__Let's check for Nan values__"
      ]
    },
    {
      "cell_type": "code",
      "metadata": {
        "id": "XXUQJ2H3sZK9",
        "outputId": "e990a779-3e5f-410b-e32a-1a3852faffc2",
        "colab": {
          "base_uri": "https://localhost:8080/",
          "height": 514
        }
      },
      "source": [
        "nan_df = top_df.isnull().sum().to_frame()\n",
        "nan_df.rename(columns={0: 'n_Nan'}, inplace=True)\n",
        "nan_df['%missing'] = 100*nan_df['n_Nan'] / top_df.shape[0]\n",
        "nan_df"
      ],
      "execution_count": null,
      "outputs": [
        {
          "output_type": "execute_result",
          "data": {
            "text/html": [
              "<div>\n",
              "<style scoped>\n",
              "    .dataframe tbody tr th:only-of-type {\n",
              "        vertical-align: middle;\n",
              "    }\n",
              "\n",
              "    .dataframe tbody tr th {\n",
              "        vertical-align: top;\n",
              "    }\n",
              "\n",
              "    .dataframe thead th {\n",
              "        text-align: right;\n",
              "    }\n",
              "</style>\n",
              "<table border=\"1\" class=\"dataframe\">\n",
              "  <thead>\n",
              "    <tr style=\"text-align: right;\">\n",
              "      <th></th>\n",
              "      <th>n_Nan</th>\n",
              "      <th>%missing</th>\n",
              "    </tr>\n",
              "  </thead>\n",
              "  <tbody>\n",
              "    <tr>\n",
              "      <th>country</th>\n",
              "      <td>37</td>\n",
              "      <td>0.039398</td>\n",
              "    </tr>\n",
              "    <tr>\n",
              "      <th>description</th>\n",
              "      <td>0</td>\n",
              "      <td>0.000000</td>\n",
              "    </tr>\n",
              "    <tr>\n",
              "      <th>designation</th>\n",
              "      <td>26985</td>\n",
              "      <td>28.733735</td>\n",
              "    </tr>\n",
              "    <tr>\n",
              "      <th>points</th>\n",
              "      <td>0</td>\n",
              "      <td>0.000000</td>\n",
              "    </tr>\n",
              "    <tr>\n",
              "      <th>price</th>\n",
              "      <td>5691</td>\n",
              "      <td>6.059799</td>\n",
              "    </tr>\n",
              "    <tr>\n",
              "      <th>province</th>\n",
              "      <td>37</td>\n",
              "      <td>0.039398</td>\n",
              "    </tr>\n",
              "    <tr>\n",
              "      <th>region_1</th>\n",
              "      <td>13466</td>\n",
              "      <td>14.338650</td>\n",
              "    </tr>\n",
              "    <tr>\n",
              "      <th>region_2</th>\n",
              "      <td>50804</td>\n",
              "      <td>54.096301</td>\n",
              "    </tr>\n",
              "    <tr>\n",
              "      <th>taster_name</th>\n",
              "      <td>18863</td>\n",
              "      <td>20.085397</td>\n",
              "    </tr>\n",
              "    <tr>\n",
              "      <th>taster_twitter_handle</th>\n",
              "      <td>22626</td>\n",
              "      <td>24.092255</td>\n",
              "    </tr>\n",
              "    <tr>\n",
              "      <th>title</th>\n",
              "      <td>0</td>\n",
              "      <td>0.000000</td>\n",
              "    </tr>\n",
              "    <tr>\n",
              "      <th>variety</th>\n",
              "      <td>0</td>\n",
              "      <td>0.000000</td>\n",
              "    </tr>\n",
              "    <tr>\n",
              "      <th>winery</th>\n",
              "      <td>0</td>\n",
              "      <td>0.000000</td>\n",
              "    </tr>\n",
              "    <tr>\n",
              "      <th>not_vintage</th>\n",
              "      <td>0</td>\n",
              "      <td>0.000000</td>\n",
              "    </tr>\n",
              "    <tr>\n",
              "      <th>vintage</th>\n",
              "      <td>2202</td>\n",
              "      <td>2.344698</td>\n",
              "    </tr>\n",
              "  </tbody>\n",
              "</table>\n",
              "</div>"
            ],
            "text/plain": [
              "                       n_Nan   %missing\n",
              "country                   37   0.039398\n",
              "description                0   0.000000\n",
              "designation            26985  28.733735\n",
              "points                     0   0.000000\n",
              "price                   5691   6.059799\n",
              "province                  37   0.039398\n",
              "region_1               13466  14.338650\n",
              "region_2               50804  54.096301\n",
              "taster_name            18863  20.085397\n",
              "taster_twitter_handle  22626  24.092255\n",
              "title                      0   0.000000\n",
              "variety                    0   0.000000\n",
              "winery                     0   0.000000\n",
              "not_vintage                0   0.000000\n",
              "vintage                 2202   2.344698"
            ]
          },
          "metadata": {
            "tags": []
          },
          "execution_count": 26
        }
      ]
    },
    {
      "cell_type": "code",
      "metadata": {
        "id": "tkWEf1iDsZLA"
      },
      "source": [
        "# creating a spacy pipeline and disabling tagger, parser and ner to speed up tokenizer\n",
        "nlp = spacy.load('en', disable=['tagger', 'parser', 'ner'])"
      ],
      "execution_count": null,
      "outputs": []
    },
    {
      "cell_type": "markdown",
      "metadata": {
        "id": "u4eWeoK5sZLE"
      },
      "source": [
        "This is the approach we'll be using: sentence oversampling including 'not_vintage'.\n",
        "Remember, not_vintage is the combination of non-numeric categorical features of country, province, region1, region2, winery, and designation"
      ]
    },
    {
      "cell_type": "code",
      "metadata": {
        "id": "4xIFdQFEsZLE"
      },
      "source": [
        "# getting corpus of sentence oversampling\n",
        "sent_oversample_corpus = [doc for doc in balanced_df['description']]\n",
        "sent_oversample_le = LabelEncoder() # initializes a LabelEncoder object\n",
        "# encodes the labels\n",
        "sent_oversample_labels = sent_oversample_le.fit_transform([label for label in balanced_df['variety']])\n",
        "\n",
        "# getting corpus of no oversampling\n",
        "no_oversample_corpus = [doc for doc in top_df['description']]\n",
        "no_oversample_le = LabelEncoder() # initializes a LabelEncoder object\n",
        "# encodes the labels\n",
        "no_oversample_label = no_oversample_le.fit_transform([label for label in top_df['variety']])"
      ],
      "execution_count": null,
      "outputs": []
    },
    {
      "cell_type": "markdown",
      "metadata": {
        "id": "918lWSV_sZLJ"
      },
      "source": [
        "__Let's have a view of sent_oversample_corpus and no_oversample_corpus__"
      ]
    },
    {
      "cell_type": "code",
      "metadata": {
        "id": "dW6dvWnksZLJ",
        "outputId": "d8bcd7cc-9d65-4f30-f1d4-be050b509de3",
        "colab": {
          "base_uri": "https://localhost:8080/"
        }
      },
      "source": [
        "sent_oversample_corpus[-3:]"
      ],
      "execution_count": null,
      "outputs": [
        {
          "output_type": "execute_result",
          "data": {
            "text/plain": [
              "['It also has weight and a solid, powerful core of spice and baked apple flavors.',\n",
              " 'With its structure still developing, the wine needs to age.',\n",
              " 'Drink from 2015.']"
            ]
          },
          "metadata": {
            "tags": []
          },
          "execution_count": 29
        }
      ]
    },
    {
      "cell_type": "code",
      "metadata": {
        "id": "Rq3Fcn_5sZLN",
        "outputId": "5cc04fe9-414b-4dff-cf92-a451ce49c9fc",
        "colab": {
          "base_uri": "https://localhost:8080/"
        }
      },
      "source": [
        "no_oversample_corpus[-3:]"
      ],
      "execution_count": null,
      "outputs": [
        {
          "output_type": "execute_result",
          "data": {
            "text/plain": [
              "[\"Notes of honeysuckle and cantaloupe sweeten this deliciously feather-light spätlese. It's intensely juicy, quenching the palate with streams of tart tangerine and grapefruit acidity, yet wraps up with a kiss of honey and peach.\",\n",
              " 'Citation is given as much as a decade of bottle age prior to release, which means it is pre-cellared and drinking at its peak. Baked cherry, cocoa and coconut flavors combine gracefully, with soft, secondary fruit compote highlights.',\n",
              " 'A dry style of Pinot Gris, this is crisp with some acidity. It also has weight and a solid, powerful core of spice and baked apple flavors. With its structure still developing, the wine needs to age. Drink from 2015.']"
            ]
          },
          "metadata": {
            "tags": []
          },
          "execution_count": 30
        }
      ]
    },
    {
      "cell_type": "code",
      "metadata": {
        "id": "Fj_VkSH6sZLR"
      },
      "source": [
        "# creating a dictionary to decode the encoded labels (we could also use the inverse_transform method of the \n",
        "# LabelEncoder object)\n",
        "sent_oversample_map = {v: k for k, v in enumerate(sent_oversample_le.classes_)}\n",
        "no_oversample_map = {v: k for k, v in enumerate(no_oversample_le.classes_)}"
      ],
      "execution_count": null,
      "outputs": []
    },
    {
      "cell_type": "code",
      "metadata": {
        "id": "fB6SdevIsZLT",
        "outputId": "0b97d296-976d-4c35-96f8-46b406dc3602",
        "colab": {
          "base_uri": "https://localhost:8080/"
        }
      },
      "source": [
        "sample_text = \"Please! é don't Do isn't? runs honey-well ran: lo50 it did, 0.5 doiNg he 100 #fr @h... +234 me3.\"\n",
        "lst = []\n",
        "for p in nlp(sample_text):\n",
        "    if p.is_alpha:\n",
        "        lst.append(p.lower_)\n",
        "print(lst)"
      ],
      "execution_count": null,
      "outputs": [
        {
          "output_type": "stream",
          "text": [
            "['please', 'é', 'do', 'do', 'is', 'runs', 'honey', 'well', 'ran', 'it', 'did', 'doing', 'he', 'fr']\n"
          ],
          "name": "stdout"
        }
      ]
    },
    {
      "cell_type": "markdown",
      "metadata": {
        "id": "B0DOS95jsZLW"
      },
      "source": [
        "__we will encapsulate the above code in a list comprehension, and that will be our tokenizer function.__"
      ]
    },
    {
      "cell_type": "code",
      "metadata": {
        "id": "yFOhpydqsZLW"
      },
      "source": [
        "stop_words = spacy.lang.en.STOP_WORDS # getting spacy's stop-words"
      ],
      "execution_count": null,
      "outputs": []
    },
    {
      "cell_type": "markdown",
      "metadata": {
        "id": "WQhfUeAKsZLb"
      },
      "source": [
        "__After tokenizer, there is a weird word '-pron-' that appears probably because spacy lemmatizers some pronouns as '-pron-'. So numbers strangely still appeared after tokenizing (and double tokenizing)...it may be due to a bug in spacy. We wil include these to our stop-words. and lemmatize our stop words since we are lemmatizing our tokens.__"
      ]
    },
    {
      "cell_type": "code",
      "metadata": {
        "id": "CCrNn3dMsZLb"
      },
      "source": [
        "stop_words_lemma = {word.lemma_.lower() for word in nlp(' '.join(stop_words))} | {'-pron-', '10', '12', \n",
        "                    'aah', 'aa', 'ab', 'aaa', 'aand', '16', '2', '20', '30', '4', '40', '5', '6', '7', '8', '9'}"
      ],
      "execution_count": null,
      "outputs": []
    },
    {
      "cell_type": "code",
      "metadata": {
        "id": "exXLJ-tZsZLe"
      },
      "source": [
        "# defining tokenzer function to tokenize the lower case lemma of documents in a corpus and \n",
        "# filter out stop-words  \n",
        "def tokenizer(text):\n",
        "    return [word.lemma_.lower() for word in nlp(text) if word.is_alpha and word.lemma_.lower() \\\n",
        "                not in stop_words_lemma]"
      ],
      "execution_count": null,
      "outputs": []
    },
    {
      "cell_type": "code",
      "metadata": {
        "id": "l7hTAvyEsZLh"
      },
      "source": [
        "# creating a RepeatedStratifiedKFold object. Since we plan using 25% as our test-size, we will use 4 fold cv.\n",
        "# to have a level plain ground for comparing different models, we will be using random state of 1 through out.\n",
        "cv = RepeatedStratifiedKFold(n_splits=4, n_repeats=3, random_state=1)"
      ],
      "execution_count": null,
      "outputs": []
    },
    {
      "cell_type": "markdown",
      "metadata": {
        "id": "OnQZnA_VsZLk"
      },
      "source": [
        "### Word2vec\n",
        "\n",
        "#### Word2vec converts each word to an n-dimensional vector by using neural network to encode the context usage of words in a sentence. It is advantageous than Tfidf because it takes context into consideration. For this notebook, we will encoding into a 300 dimensional vector with the continuous bag of words (CBOW) strategy (default) on a window size of 5 (default) which seems to be the best for our data."
      ]
    },
    {
      "cell_type": "code",
      "metadata": {
        "id": "ujsuZ4gPsZLk"
      },
      "source": [
        "from gensim.models import Word2Vec # importing Word2Vec"
      ],
      "execution_count": null,
      "outputs": []
    },
    {
      "cell_type": "code",
      "metadata": {
        "id": "W_Gbe_qZsZLn"
      },
      "source": [
        "\n",
        "# defining a function to return the mean word2vec vectors of words in a review (document) as the document vector \n",
        "def get_doc_vector(model, doc):\n",
        "    return np.mean([model[word] for word in doc if word in model.wv.vocab], axis=0)"
      ],
      "execution_count": null,
      "outputs": []
    },
    {
      "cell_type": "markdown",
      "metadata": {
        "id": "oCDUEjyxsZMl"
      },
      "source": [
        "### Description plus not_vintage\n",
        "\n",
        "#### First, let's make a corpus where each document is description plus not_vintage"
      ]
    },
    {
      "cell_type": "code",
      "metadata": {
        "id": "yvdSGGqFsZMl"
      },
      "source": [
        "# for sentence oversampling\n",
        "sent_oversample_corpus2 = [doc1 + ' ' + doc2 for doc1, doc2 in zip(\\\n",
        "                                                        balanced_df['description'], balanced_df['not_vintage'])]\n",
        "\n",
        "# for no oversampling\n",
        "no_oversample_corpus2 = [doc1 + ' ' + doc2 for doc1, doc2 in zip(\\\n",
        "                                                        top_df['description'], top_df['not_vintage'])]"
      ],
      "execution_count": null,
      "outputs": []
    },
    {
      "cell_type": "markdown",
      "metadata": {
        "id": "74Y0Iop_sZMo"
      },
      "source": [
        "__let's see how the combination of description and not_vintage is like__"
      ]
    },
    {
      "cell_type": "code",
      "metadata": {
        "id": "y1RMcC7fsZMs",
        "outputId": "84c260c2-9f1f-4492-fd2a-97e7be2d0eb3",
        "colab": {
          "base_uri": "https://localhost:8080/"
        }
      },
      "source": [
        "sent_oversample_corpus2[-3:]"
      ],
      "execution_count": null,
      "outputs": [
        {
          "output_type": "execute_result",
          "data": {
            "text/plain": [
              "['It also has weight and a solid, powerful core of spice and baked apple flavors. France Alsace Alsace Domaine Marcel Deiss',\n",
              " 'With its structure still developing, the wine needs to age. France Alsace Alsace Domaine Marcel Deiss',\n",
              " 'Drink from 2015. France Alsace Alsace Domaine Marcel Deiss']"
            ]
          },
          "metadata": {
            "tags": []
          },
          "execution_count": 62
        }
      ]
    },
    {
      "cell_type": "code",
      "metadata": {
        "id": "ar5ctAO3sZMx",
        "outputId": "7bc6d101-2065-490c-e52e-35bf46498f1a",
        "colab": {
          "base_uri": "https://localhost:8080/"
        }
      },
      "source": [
        "no_oversample_corpus2[:3]"
      ],
      "execution_count": null,
      "outputs": [
        {
          "output_type": "execute_result",
          "data": {
            "text/plain": [
              "[\"Aromas include tropical fruit, broom, brimstone and dried herb. The palate isn't overly expressive, offering unripened apple, citrus and dried sage alongside brisk acidity. Italy Vulkà Bianco Sicily & Sardinia Etna Nicosia\",\n",
              " \"This is ripe and fruity, a wine that is smooth while still structured. Firm tannins are filled out with juicy red berry fruits and freshened with acidity. It's  already drinkable, although it will certainly be better from 2016. Portugal Avidagos Douro Quinta dos Avidagos\",\n",
              " 'Tart and snappy, the flavors of lime flesh and rind dominate. Some green pineapple pokes through, with crisp acidity underscoring the flavors. The wine was all stainless-steel fermented. United States of America Oregon Willamette Valley Willamette Valley Rainstorm']"
            ]
          },
          "metadata": {
            "tags": []
          },
          "execution_count": 63
        }
      ]
    },
    {
      "cell_type": "markdown",
      "metadata": {
        "id": "G38qRLdksZM1"
      },
      "source": [
        "### Sentence oversampling including 'not_vintage' Method "
      ]
    },
    {
      "cell_type": "code",
      "metadata": {
        "id": "2uYA0qSHsZM2",
        "outputId": "f4f16730-da9c-4e96-cf60-3d98cfcd4bbc",
        "colab": {
          "base_uri": "https://localhost:8080/"
        }
      },
      "source": [
        "\n",
        "sent_oversample_corpus2 = [tokenizer(doc) for doc in sent_oversample_corpus2] # gets corpus as a list of lists\n",
        "print(sent_oversample_corpus2[:2])"
      ],
      "execution_count": null,
      "outputs": [
        {
          "output_type": "stream",
          "text": [
            "[['pineapple', 'rind', 'lemon', 'pith', 'orange', 'blossom', 'start', 'aroma', 'palate', 'bite', 'opulent', 'note', 'honey', 'drizzle', 'guava', 'mango', 'way', 'slightly', 'astringent', 'semidry', 'finish', 'united', 'states', 'america', 'reserve', 'late', 'harvest', 'michigan', 'lake', 'michigan', 'shore', 'julian'], ['like', 'regular', 'bottle', 'come', 'rough', 'tannic', 'rustic', 'earthy', 'herbal', 'characteristic', 'nonetheless', 'think', 'pleasantly', 'unfussy', 'country', 'wine', 'companion', 'hearty', 'winter', 'stew', 'united', 'states', 'america', 'vintner', 'reserve', 'wild', 'child', 'block', 'oregon', 'willamette', 'valley', 'willamette', 'valley', 'sweet', 'cheeks']]\n"
          ],
          "name": "stdout"
        }
      ]
    },
    {
      "cell_type": "code",
      "metadata": {
        "id": "1dMv25w6sZM7",
        "outputId": "f4ef17ea-414e-409a-c44d-90817596bf3a",
        "colab": {
          "base_uri": "https://localhost:8080/"
        }
      },
      "source": [
        "\n",
        "# trains sent_oversample_corpus2 on Word2Vec. For sent_oversample_corpus2, min_count of 5 and iter (epoch) of 10 \n",
        "# seems to be the best\n",
        "sent_w2v_model2 = Word2Vec(sent_oversample_corpus2, size=300, min_count=5, iter=10)\n",
        "\n",
        "print(sent_w2v_model2) # sumarizes the word2vec"
      ],
      "execution_count": null,
      "outputs": [
        {
          "output_type": "stream",
          "text": [
            "Word2Vec(vocab=19825, size=300, alpha=0.025)\n"
          ],
          "name": "stdout"
        }
      ]
    },
    {
      "cell_type": "code",
      "metadata": {
        "id": "cYpUzCNnsZM-"
      },
      "source": [
        "# getting the word2vec embeddings (vectors) of the corpus as input array\n",
        "sent_x2 = np.array([get_doc_vector(sent_w2v_model2, doc) for doc in sent_oversample_corpus2])"
      ],
      "execution_count": null,
      "outputs": []
    },
    {
      "cell_type": "code",
      "metadata": {
        "id": "4ALnsuqisZNC",
        "outputId": "e576450c-303b-4b8f-d8ac-9e71d83c98ca",
        "colab": {
          "base_uri": "https://localhost:8080/"
        }
      },
      "source": [
        "# initializes a classifier object\n",
        "sent_oversample_model2 = RandomForestClassifier(class_weight='balanced', max_depth=10, random_state=1)\n",
        "\n",
        "# getting the cross validation scores\n",
        "sent_scores2 = cross_val_score(sent_oversample_model2, sent_x2, sent_oversample_labels, \\\n",
        "                         scoring='f1_weighted', cv=cv, n_jobs=4, verbose=True)"
      ],
      "execution_count": null,
      "outputs": [
        {
          "output_type": "stream",
          "text": [
            "[Parallel(n_jobs=4)]: Using backend LokyBackend with 4 concurrent workers.\n",
            "[Parallel(n_jobs=4)]: Done  12 out of  12 | elapsed: 37.3min finished\n"
          ],
          "name": "stderr"
        }
      ]
    },
    {
      "cell_type": "code",
      "metadata": {
        "id": "XOU53WQysZNE",
        "outputId": "51ed20a1-5a10-4d70-cdd5-07dba40bfe19",
        "colab": {
          "background_save": true,
          "base_uri": "https://localhost:8080/"
        }
      },
      "source": [
        "np.mean(sent_scores2)"
      ],
      "execution_count": null,
      "outputs": [
        {
          "output_type": "execute_result",
          "data": {
            "text/plain": [
              "0.6675642571127233"
            ]
          },
          "metadata": {
            "tags": []
          },
          "execution_count": 0
        }
      ]
    },
    {
      "cell_type": "code",
      "metadata": {
        "id": "2rFKPJ8lrdNT"
      },
      "source": [
        ""
      ],
      "execution_count": null,
      "outputs": []
    }
  ]
}