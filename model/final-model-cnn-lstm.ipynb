{
 "cells": [
  {
   "cell_type": "markdown",
   "metadata": {
    "papermill": {
     "duration": 0.051539,
     "end_time": "2020-11-14T07:16:08.925701",
     "exception": false,
     "start_time": "2020-11-14T07:16:08.874162",
     "status": "completed"
    },
    "tags": []
   },
   "source": [
    "# Blending CNN and LSTM"
   ]
  },
  {
   "cell_type": "code",
   "execution_count": 1,
   "metadata": {
    "execution": {
     "iopub.execute_input": "2020-11-14T07:16:09.036501Z",
     "iopub.status.busy": "2020-11-14T07:16:09.035708Z",
     "iopub.status.idle": "2020-11-14T07:16:14.377850Z",
     "shell.execute_reply": "2020-11-14T07:16:14.381700Z"
    },
    "papermill": {
     "duration": 5.403605,
     "end_time": "2020-11-14T07:16:14.381948",
     "exception": false,
     "start_time": "2020-11-14T07:16:08.978343",
     "status": "completed"
    },
    "tags": []
   },
   "outputs": [],
   "source": [
    "import numpy as np\n",
    "import tensorflow as tf\n",
    "import random as python_random"
   ]
  },
  {
   "cell_type": "code",
   "execution_count": 2,
   "metadata": {
    "execution": {
     "iopub.execute_input": "2020-11-14T07:16:14.585840Z",
     "iopub.status.busy": "2020-11-14T07:16:14.584569Z",
     "iopub.status.idle": "2020-11-14T07:16:14.589442Z",
     "shell.execute_reply": "2020-11-14T07:16:14.590237Z"
    },
    "papermill": {
     "duration": 0.098857,
     "end_time": "2020-11-14T07:16:14.590463",
     "exception": false,
     "start_time": "2020-11-14T07:16:14.491606",
     "status": "completed"
    },
    "tags": []
   },
   "outputs": [],
   "source": [
    "np.random.seed(1)\n",
    "python_random.seed(12)\n",
    "tf.random.set_seed(123)"
   ]
  },
  {
   "cell_type": "code",
   "execution_count": 3,
   "metadata": {
    "execution": {
     "iopub.execute_input": "2020-11-14T07:16:14.775761Z",
     "iopub.status.busy": "2020-11-14T07:16:14.774645Z",
     "iopub.status.idle": "2020-11-14T07:16:15.784573Z",
     "shell.execute_reply": "2020-11-14T07:16:15.783615Z"
    },
    "papermill": {
     "duration": 1.107158,
     "end_time": "2020-11-14T07:16:15.784705",
     "exception": false,
     "start_time": "2020-11-14T07:16:14.677547",
     "status": "completed"
    },
    "tags": []
   },
   "outputs": [],
   "source": [
    "# importing useful libraries\n",
    "import pandas as pd\n",
    "import matplotlib.pyplot as plt\n",
    "import seaborn as sns\n",
    "import requests\n",
    "import re\n",
    "\n",
    "import time \n",
    "\n",
    "import warnings\n",
    "warnings.filterwarnings('ignore')\n",
    "\n",
    "from sklearn.preprocessing import LabelEncoder, OneHotEncoder\n",
    "from sklearn.model_selection import train_test_split\n",
    "from sklearn.metrics import accuracy_score, f1_score\n",
    "from sklearn.utils import class_weight\n",
    "from sklearn.pipeline import Pipeline, FeatureUnion\n",
    "from sklearn.base import BaseEstimator, TransformerMixin, ClassifierMixin\n",
    "\n",
    "# importing deep learning libraries\n",
    "from tensorflow.keras.preprocessing.text import Tokenizer\n",
    "from tensorflow.keras.preprocessing.sequence import pad_sequences\n",
    "from tensorflow.keras.layers import Embedding, Dense, GlobalMaxPool1D, Conv1D, Dropout, LSTM, Bidirectional\n",
    "from tensorflow.keras.models import Sequential\n",
    "from tensorflow.keras.optimizers import Adam\n",
    "from tensorflow.keras.wrappers.scikit_learn import KerasClassifier\n",
    "\n",
    "from gensim.models import Word2Vec # importing Word2Vec"
   ]
  },
  {
   "cell_type": "markdown",
   "metadata": {
    "papermill": {
     "duration": 0.050333,
     "end_time": "2020-11-14T07:16:15.884654",
     "exception": false,
     "start_time": "2020-11-14T07:16:15.834321",
     "status": "completed"
    },
    "tags": []
   },
   "source": [
    "### Downloading the data from our github repository"
   ]
  },
  {
   "cell_type": "code",
   "execution_count": 4,
   "metadata": {
    "execution": {
     "iopub.execute_input": "2020-11-14T07:16:15.991838Z",
     "iopub.status.busy": "2020-11-14T07:16:15.991025Z",
     "iopub.status.idle": "2020-11-14T07:16:15.995409Z",
     "shell.execute_reply": "2020-11-14T07:16:15.994845Z"
    },
    "papermill": {
     "duration": 0.060266,
     "end_time": "2020-11-14T07:16:15.995513",
     "exception": false,
     "start_time": "2020-11-14T07:16:15.935247",
     "status": "completed"
    },
    "tags": []
   },
   "outputs": [],
   "source": [
    "url1 = 'https://raw.github.com/HamoyeHQ/stage-f-06-wine-tasting/master/data/top_40_varieties.zip'\n",
    "url2 = 'https://raw.github.com/HamoyeHQ/stage-f-06-wine-tasting/master/data/top_varieties_count.csv'"
   ]
  },
  {
   "cell_type": "code",
   "execution_count": 5,
   "metadata": {
    "execution": {
     "iopub.execute_input": "2020-11-14T07:16:16.117760Z",
     "iopub.status.busy": "2020-11-14T07:16:16.116989Z",
     "iopub.status.idle": "2020-11-14T07:16:20.585689Z",
     "shell.execute_reply": "2020-11-14T07:16:20.585078Z"
    },
    "papermill": {
     "duration": 4.537467,
     "end_time": "2020-11-14T07:16:20.585810",
     "exception": false,
     "start_time": "2020-11-14T07:16:16.048343",
     "status": "completed"
    },
    "tags": []
   },
   "outputs": [],
   "source": [
    "top_40_varieties = pd.read_csv(url1)\n",
    "top_varieties_count = pd.read_csv(url2)"
   ]
  },
  {
   "cell_type": "code",
   "execution_count": 6,
   "metadata": {
    "execution": {
     "iopub.execute_input": "2020-11-14T07:16:20.708696Z",
     "iopub.status.busy": "2020-11-14T07:16:20.707551Z",
     "iopub.status.idle": "2020-11-14T07:16:20.772719Z",
     "shell.execute_reply": "2020-11-14T07:16:20.772153Z"
    },
    "papermill": {
     "duration": 0.13584,
     "end_time": "2020-11-14T07:16:20.772841",
     "exception": false,
     "start_time": "2020-11-14T07:16:20.637001",
     "status": "completed"
    },
    "tags": []
   },
   "outputs": [],
   "source": [
    "# replacing every occurence of 'US' in country with 'United States of America'\n",
    "top_40_varieties['country'].replace('US', 'United States of America', inplace=True)\n",
    "\n",
    "# replacing every occurence of 'US' in not_vintage with 'United States of America'\n",
    "top_40_varieties['not_vintage'] = top_40_varieties['not_vintage'].apply(lambda x: x.replace(\\\n",
    "                                                                        'US', 'United States of America'))"
   ]
  },
  {
   "cell_type": "code",
   "execution_count": 7,
   "metadata": {
    "execution": {
     "iopub.execute_input": "2020-11-14T07:16:20.884696Z",
     "iopub.status.busy": "2020-11-14T07:16:20.883743Z",
     "iopub.status.idle": "2020-11-14T07:16:20.886928Z",
     "shell.execute_reply": "2020-11-14T07:16:20.886405Z"
    },
    "papermill": {
     "duration": 0.063953,
     "end_time": "2020-11-14T07:16:20.887038",
     "exception": false,
     "start_time": "2020-11-14T07:16:20.823085",
     "status": "completed"
    },
    "tags": []
   },
   "outputs": [],
   "source": [
    "# renaming the columns in top_varieties_count\n",
    "top_varieties_count = top_varieties_count.rename(columns={'variety': 'count', 'Unnamed: 0': 'variety'})\n",
    "top_varieties_count = top_varieties_count.set_index('variety') # setting the index\n",
    "top_varieties_count = top_varieties_count['count'] # making it a Series"
   ]
  },
  {
   "cell_type": "code",
   "execution_count": 8,
   "metadata": {
    "execution": {
     "iopub.execute_input": "2020-11-14T07:16:21.004518Z",
     "iopub.status.busy": "2020-11-14T07:16:21.003729Z",
     "iopub.status.idle": "2020-11-14T07:16:21.029227Z",
     "shell.execute_reply": "2020-11-14T07:16:21.029761Z"
    },
    "papermill": {
     "duration": 0.09347,
     "end_time": "2020-11-14T07:16:21.029908",
     "exception": false,
     "start_time": "2020-11-14T07:16:20.936438",
     "status": "completed"
    },
    "tags": []
   },
   "outputs": [],
   "source": [
    "top = 20 # selecting top 20 varities as our working varieties. note 1 < n <= 40\n",
    "\n",
    "# making a datframe of our selecting top n varieties\n",
    "top_df = top_40_varieties[top_40_varieties['variety'].isin(top_varieties_count.iloc[:top].index)]"
   ]
  },
  {
   "cell_type": "code",
   "execution_count": 9,
   "metadata": {
    "execution": {
     "iopub.execute_input": "2020-11-14T07:16:21.148612Z",
     "iopub.status.busy": "2020-11-14T07:16:21.147669Z",
     "iopub.status.idle": "2020-11-14T07:16:21.182158Z",
     "shell.execute_reply": "2020-11-14T07:16:21.181662Z"
    },
    "papermill": {
     "duration": 0.093022,
     "end_time": "2020-11-14T07:16:21.182290",
     "exception": false,
     "start_time": "2020-11-14T07:16:21.089268",
     "status": "completed"
    },
    "tags": []
   },
   "outputs": [],
   "source": [
    "# threshold of miniority variety to over sample (use sentences as document instead of the whole description)\n",
    "minority_threshold = 5000 \n",
    "\n",
    "# making a dataframe of the miniority classes\n",
    "minority_df = top_df[top_df['variety'].isin(top_varieties_count[top_varieties_count < \\\n",
    "                                                                      minority_threshold].index)]"
   ]
  },
  {
   "cell_type": "code",
   "execution_count": 10,
   "metadata": {
    "execution": {
     "iopub.execute_input": "2020-11-14T07:16:21.293112Z",
     "iopub.status.busy": "2020-11-14T07:16:21.291022Z",
     "iopub.status.idle": "2020-11-14T07:16:21.814613Z",
     "shell.execute_reply": "2020-11-14T07:16:21.813981Z"
    },
    "papermill": {
     "duration": 0.580282,
     "end_time": "2020-11-14T07:16:21.814744",
     "exception": false,
     "start_time": "2020-11-14T07:16:21.234462",
     "status": "completed"
    },
    "tags": []
   },
   "outputs": [],
   "source": [
    "from nltk.tokenize import sent_tokenize # importing useful library"
   ]
  },
  {
   "cell_type": "code",
   "execution_count": 11,
   "metadata": {
    "execution": {
     "iopub.execute_input": "2020-11-14T07:16:21.926646Z",
     "iopub.status.busy": "2020-11-14T07:16:21.925904Z",
     "iopub.status.idle": "2020-11-14T07:16:21.930036Z",
     "shell.execute_reply": "2020-11-14T07:16:21.930568Z"
    },
    "papermill": {
     "duration": 0.065652,
     "end_time": "2020-11-14T07:16:21.930716",
     "exception": false,
     "start_time": "2020-11-14T07:16:21.865064",
     "status": "completed"
    },
    "tags": []
   },
   "outputs": [],
   "source": [
    "oversampled_miniority_lst = [] # empty list to store sentences as tokens miniority corpus\n",
    "\n",
    "# creating a function to use sentences as tokens for the miniority classes\n",
    "def over_sample_miniority(row):\n",
    "    doc_list = sent_tokenize(row['description'])\n",
    "    for sent in doc_list:\n",
    "        row['description'] = sent\n",
    "        oversampled_miniority_lst.append(list(row))"
   ]
  },
  {
   "cell_type": "code",
   "execution_count": 12,
   "metadata": {
    "execution": {
     "iopub.execute_input": "2020-11-14T07:16:22.039802Z",
     "iopub.status.busy": "2020-11-14T07:16:22.038997Z",
     "iopub.status.idle": "2020-11-14T07:16:31.413498Z",
     "shell.execute_reply": "2020-11-14T07:16:31.412566Z"
    },
    "papermill": {
     "duration": 9.430947,
     "end_time": "2020-11-14T07:16:31.413618",
     "exception": false,
     "start_time": "2020-11-14T07:16:21.982671",
     "status": "completed"
    },
    "tags": []
   },
   "outputs": [],
   "source": [
    "minority_df.apply(over_sample_miniority, axis=1); # over sample the miniority classes"
   ]
  },
  {
   "cell_type": "code",
   "execution_count": 13,
   "metadata": {
    "execution": {
     "iopub.execute_input": "2020-11-14T07:16:31.524485Z",
     "iopub.status.busy": "2020-11-14T07:16:31.523807Z",
     "iopub.status.idle": "2020-11-14T07:16:31.733602Z",
     "shell.execute_reply": "2020-11-14T07:16:31.732951Z"
    },
    "papermill": {
     "duration": 0.267949,
     "end_time": "2020-11-14T07:16:31.733731",
     "exception": false,
     "start_time": "2020-11-14T07:16:31.465782",
     "status": "completed"
    },
    "tags": []
   },
   "outputs": [],
   "source": [
    "# converts oversampled_miniority_lst to a dataframe\n",
    "oversampled_miniority_df = pd.DataFrame(oversampled_miniority_lst, columns=minority_df.columns)"
   ]
  },
  {
   "cell_type": "code",
   "execution_count": 14,
   "metadata": {
    "execution": {
     "iopub.execute_input": "2020-11-14T07:16:31.857211Z",
     "iopub.status.busy": "2020-11-14T07:16:31.856055Z",
     "iopub.status.idle": "2020-11-14T07:16:32.084412Z",
     "shell.execute_reply": "2020-11-14T07:16:32.083782Z"
    },
    "papermill": {
     "duration": 0.297417,
     "end_time": "2020-11-14T07:16:32.084536",
     "exception": false,
     "start_time": "2020-11-14T07:16:31.787119",
     "status": "completed"
    },
    "tags": []
   },
   "outputs": [],
   "source": [
    "# selecting majority classes as a dataframe to concatenate to oversampled_miniority_lst\n",
    "majority_df = top_df[top_df['variety'].isin(\\\n",
    "                                        top_varieties_count[top_varieties_count >= minority_threshold].index)]\n",
    "\n",
    "# concatenates majority_df to oversampled_miniority_lst\n",
    "balanced_df = pd.concat([majority_df, oversampled_miniority_df]) \n",
    "balanced_df = balanced_df.reset_index().drop('index', axis=1) # resets index"
   ]
  },
  {
   "cell_type": "code",
   "execution_count": 15,
   "metadata": {
    "execution": {
     "iopub.execute_input": "2020-11-14T07:16:32.241189Z",
     "iopub.status.busy": "2020-11-14T07:16:32.239126Z",
     "iopub.status.idle": "2020-11-14T07:16:32.241889Z",
     "shell.execute_reply": "2020-11-14T07:16:32.242418Z"
    },
    "papermill": {
     "duration": 0.102889,
     "end_time": "2020-11-14T07:16:32.242552",
     "exception": false,
     "start_time": "2020-11-14T07:16:32.139663",
     "status": "completed"
    },
    "tags": []
   },
   "outputs": [],
   "source": [
    "balanced_variety = balanced_df['variety'].value_counts() # gets a Series of the variety count in balanced_df"
   ]
  },
  {
   "cell_type": "code",
   "execution_count": 16,
   "metadata": {
    "execution": {
     "iopub.execute_input": "2020-11-14T07:16:32.376688Z",
     "iopub.status.busy": "2020-11-14T07:16:32.371527Z",
     "iopub.status.idle": "2020-11-14T07:16:32.506823Z",
     "shell.execute_reply": "2020-11-14T07:16:32.506213Z"
    },
    "papermill": {
     "duration": 0.208352,
     "end_time": "2020-11-14T07:16:32.506945",
     "exception": false,
     "start_time": "2020-11-14T07:16:32.298593",
     "status": "completed"
    },
    "tags": []
   },
   "outputs": [],
   "source": [
    "# for sentence oversampling\n",
    "sent_oversample_corpus = [doc1 + ' ' + doc2 for doc1, doc2 in zip(\\\n",
    "                                                        balanced_df['description'], balanced_df['not_vintage'])]"
   ]
  },
  {
   "cell_type": "code",
   "execution_count": 17,
   "metadata": {
    "execution": {
     "iopub.execute_input": "2020-11-14T07:16:32.645719Z",
     "iopub.status.busy": "2020-11-14T07:16:32.633218Z",
     "iopub.status.idle": "2020-11-14T07:16:32.648478Z",
     "shell.execute_reply": "2020-11-14T07:16:32.648973Z"
    },
    "papermill": {
     "duration": 0.087068,
     "end_time": "2020-11-14T07:16:32.649110",
     "exception": false,
     "start_time": "2020-11-14T07:16:32.562042",
     "status": "completed"
    },
    "tags": []
   },
   "outputs": [],
   "source": [
    "labels = [label for label in balanced_df['variety']]"
   ]
  },
  {
   "cell_type": "markdown",
   "metadata": {
    "papermill": {
     "duration": 0.053578,
     "end_time": "2020-11-14T07:16:32.757812",
     "exception": false,
     "start_time": "2020-11-14T07:16:32.704234",
     "status": "completed"
    },
    "tags": []
   },
   "source": [
    "## Here is our workflow. It tells the whole story. (source: our github repo)"
   ]
  },
  {
   "attachments": {
    "final_model_workflow.png": {
     "image/png": "[encoded data removed]"
    }
   },
   "cell_type": "markdown",
   "metadata": {},
   "source": [
    "![final_model_workflow.png](attachment:final_model_workflow.png)"
   ]
  },
  {
   "cell_type": "markdown",
   "metadata": {
    "papermill": {
     "duration": 0.052736,
     "end_time": "2020-11-14T07:16:32.973866",
     "exception": false,
     "start_time": "2020-11-14T07:16:32.921130",
     "status": "completed"
    },
    "tags": []
   },
   "source": [
    "## 2.0 Data Preprocessing"
   ]
  },
  {
   "cell_type": "code",
   "execution_count": 18,
   "metadata": {
    "execution": {
     "iopub.execute_input": "2020-11-14T07:16:33.088802Z",
     "iopub.status.busy": "2020-11-14T07:16:33.088006Z",
     "iopub.status.idle": "2020-11-14T07:16:35.282028Z",
     "shell.execute_reply": "2020-11-14T07:16:35.282879Z"
    },
    "papermill": {
     "duration": 2.254509,
     "end_time": "2020-11-14T07:16:35.283092",
     "exception": false,
     "start_time": "2020-11-14T07:16:33.028583",
     "status": "completed"
    },
    "tags": []
   },
   "outputs": [],
   "source": [
    "import spacy"
   ]
  },
  {
   "cell_type": "code",
   "execution_count": 19,
   "metadata": {
    "execution": {
     "iopub.execute_input": "2020-11-14T07:16:35.488768Z",
     "iopub.status.busy": "2020-11-14T07:16:35.487763Z",
     "iopub.status.idle": "2020-11-14T07:16:36.933536Z",
     "shell.execute_reply": "2020-11-14T07:16:36.932943Z"
    },
    "papermill": {
     "duration": 1.531913,
     "end_time": "2020-11-14T07:16:36.933669",
     "exception": false,
     "start_time": "2020-11-14T07:16:35.401756",
     "status": "completed"
    },
    "tags": []
   },
   "outputs": [],
   "source": [
    "# creating a spacy pipeline and disabling tagger, parser and ner to speed up tokenizer\n",
    "nlp = spacy.load('en', disable=['tagger', 'parser', 'ner']) "
   ]
  },
  {
   "cell_type": "code",
   "execution_count": 20,
   "metadata": {
    "execution": {
     "iopub.execute_input": "2020-11-14T07:16:37.050094Z",
     "iopub.status.busy": "2020-11-14T07:16:37.049269Z",
     "iopub.status.idle": "2020-11-14T07:16:37.053491Z",
     "shell.execute_reply": "2020-11-14T07:16:37.052930Z"
    },
    "papermill": {
     "duration": 0.06368,
     "end_time": "2020-11-14T07:16:37.053609",
     "exception": false,
     "start_time": "2020-11-14T07:16:36.989929",
     "status": "completed"
    },
    "tags": []
   },
   "outputs": [],
   "source": [
    "spacy_stop_words = spacy.lang.en.STOP_WORDS # getting spacy's stop-words"
   ]
  },
  {
   "cell_type": "code",
   "execution_count": 21,
   "metadata": {
    "execution": {
     "iopub.execute_input": "2020-11-14T07:16:37.168143Z",
     "iopub.status.busy": "2020-11-14T07:16:37.167109Z",
     "iopub.status.idle": "2020-11-14T07:16:37.905300Z",
     "shell.execute_reply": "2020-11-14T07:16:37.906575Z"
    },
    "papermill": {
     "duration": 0.798289,
     "end_time": "2020-11-14T07:16:37.906760",
     "exception": false,
     "start_time": "2020-11-14T07:16:37.108471",
     "status": "completed"
    },
    "tags": []
   },
   "outputs": [],
   "source": [
    "# downloading yoast_stop_words to be included to spacy's stop words to improve performance\n",
    "response = requests.get('https://raw.github.com/Yoast/YoastSEO.js/develop/src/config/stopwords.js')\n",
    "yoast_stop_words = response.content.decode()"
   ]
  },
  {
   "cell_type": "code",
   "execution_count": 22,
   "metadata": {
    "execution": {
     "iopub.execute_input": "2020-11-14T07:16:38.070550Z",
     "iopub.status.busy": "2020-11-14T07:16:38.069609Z",
     "iopub.status.idle": "2020-11-14T07:16:38.077257Z",
     "shell.execute_reply": "2020-11-14T07:16:38.078018Z"
    },
    "papermill": {
     "duration": 0.094878,
     "end_time": "2020-11-14T07:16:38.078257",
     "exception": false,
     "start_time": "2020-11-14T07:16:37.983379",
     "status": "completed"
    },
    "tags": []
   },
   "outputs": [
    {
     "data": {
      "text/plain": [
       "'/** @module config/stopwords */\\n\\n/**\\n * Returns an array with stopwords to be used by the analyzer.\\n *\\n * @returns {Array} stopwords The array filled with stopwords.\\n */\\nexport default function() {\\n\\treturn [ \"a\", \"about\", \"above\", \"after\", \"again\", \"against\", \"all\", \"am\", \"an\", \"and\", \"any\", \"are\", \"as\", \"at\", \"be\", \"because\", \"been\", \"before\", \"being\", \"below\", \"between\", \"both\", \"but\", \"by\", \"could\", \"did\", \"do\", \"does\", \"doing\", \"down\", \"during\", \"each\", \"few\", \"for\", \"from\", \"further\", \"had\", \"has\", \"have\", \"having\", \"he\", \"he\\'d\", \"he\\'ll\", \"he\\'s\", \"her\", \"here\", \"here\\'s\", \"hers\", \"herself\", \"him\", \"himself\", \"his\", \"how\", \"how\\'s\", \"i\", \"i\\'d\", \"i\\'ll\", \"i\\'m\", \"i\\'ve\", \"if\", \"in\", \"into\", \"is\", \"it\", \"it\\'s\", \"its\", \"itself\", \"let\\'s\", \"me\", \"more\", \"most\", \"my\", \"myself\", \"nor\", \"of\", \"on\", \"once\", \"only\", \"or\", \"other\", \"ought\", \"our\", \"ours\", \"ourselves\", \"out\", \"over\", \"own\", \"same\", \"she\", \"she\\'d\", \"she\\'ll\", \"she\\'s\", \"should\", \"so\", \"some\", \"such\", \"than\", \"that\", \"that\\'s\", \"the\", \"their\", \"theirs\", \"them\", \"themselves\", \"then\", \"there\", \"there\\'s\", \"these\", \"they\", \"they\\'d\", \"they\\'ll\", \"they\\'re\", \"they\\'ve\", \"this\", \"those\", \"through\", \"to\", \"too\", \"under\", \"until\", \"up\", \"very\", \"was\", \"we\", \"we\\'d\", \"we\\'ll\", \"we\\'re\", \"we\\'ve\", \"were\", \"what\", \"what\\'s\", \"when\", \"when\\'s\", \"where\", \"where\\'s\", \"which\", \"while\", \"who\", \"who\\'s\", \"whom\", \"why\", \"why\\'s\", \"with\", \"would\", \"you\", \"you\\'d\", \"you\\'ll\", \"you\\'re\", \"you\\'ve\", \"your\", \"yours\", \"yourself\", \"yourselves\" ];\\n};\\n'"
      ]
     },
     "execution_count": 22,
     "metadata": {},
     "output_type": "execute_result"
    }
   ],
   "source": [
    "yoast_stop_words"
   ]
  },
  {
   "cell_type": "code",
   "execution_count": 23,
   "metadata": {
    "execution": {
     "iopub.execute_input": "2020-11-14T07:16:38.247024Z",
     "iopub.status.busy": "2020-11-14T07:16:38.246057Z",
     "iopub.status.idle": "2020-11-14T07:16:38.255578Z",
     "shell.execute_reply": "2020-11-14T07:16:38.256338Z"
    },
    "papermill": {
     "duration": 0.097452,
     "end_time": "2020-11-14T07:16:38.256538",
     "exception": false,
     "start_time": "2020-11-14T07:16:38.159086",
     "status": "completed"
    },
    "tags": []
   },
   "outputs": [
    {
     "name": "stdout",
     "output_type": "stream",
     "text": [
      "length of yoast_stop_words is 153\n",
      "\n",
      "{'own', 'down', 'only', 'and', 'than', 'after', 'themselves', 'of', 'could', \"i'll\", 'itself', 'this', 'while', 'they', 'with', 'once', 'she', 'as', 'nor', 'himself', 'more', 'then', 'being', 'your', \"they'll\", 'into', 'here', \"he'd\", 'against', 'on', 'whom', \"you'll\", 'ourselves', 'such', \"here's\", 'theirs', 'ours', \"who's\", \"you're\", 'these', 'were', 'yours', 'few', 'from', \"how's\", 'its', 'is', \"you'd\", 'between', \"he's\", \"that's\", 'it', 'very', 'yourselves', \"they've\", 'where', \"i'm\", 'because', 'their', 'does', 'did', 'that', 'an', 'ought', 'other', 'the', \"she'd\", 'what', 'would', 'be', 'have', 'are', 'same', 'my', \"he'll\", \"i'd\", 'below', 'in', \"they're\", 'or', 'when', 'should', 'each', 'who', 'to', 'doing', 'too', 'so', 'had', 'our', 'some', 'herself', 'been', 'out', 'by', 'further', 'her', 'how', 'about', 'but', 'he', \"we've\", 'both', 'having', 'above', \"she's\", 'his', \"there's\", 'over', \"why's\", 'am', 'do', 'before', 'under', \"you've\", \"it's\", 'up', 'him', \"we'll\", 'until', 'yourself', 'at', 'through', \"where's\", \"she'll\", 'which', \"when's\", 'hers', 'has', 'was', 'any', 'during', 'them', 'we', \"what's\", 'a', 'i', 'for', \"we're\", \"we'd\", 'those', \"i've\", 'myself', 'me', \"they'd\", 'again', \"let's\", 'you', 'most', 'why', 'all', 'if', 'there'}\n"
     ]
    }
   ],
   "source": [
    "pattern = r'\\[.+\\]'\n",
    "match = re.search(pattern, yoast_stop_words)\n",
    "yoast_stop_words = set(match.group()[1:-1].replace('\"', '').replace(',', '').split())\n",
    "print(f'length of yoast_stop_words is {len(yoast_stop_words)}\\n')\n",
    "print(yoast_stop_words)"
   ]
  },
  {
   "cell_type": "code",
   "execution_count": 24,
   "metadata": {
    "execution": {
     "iopub.execute_input": "2020-11-14T07:16:38.421188Z",
     "iopub.status.busy": "2020-11-14T07:16:38.405891Z",
     "iopub.status.idle": "2020-11-14T07:16:38.423608Z",
     "shell.execute_reply": "2020-11-14T07:16:38.424069Z"
    },
    "papermill": {
     "duration": 0.089621,
     "end_time": "2020-11-14T07:16:38.424218",
     "exception": false,
     "start_time": "2020-11-14T07:16:38.334597",
     "status": "completed"
    },
    "tags": []
   },
   "outputs": [],
   "source": [
    "stop_words_lemma = {word.lemma_.lower() for word in nlp(' '.join(spacy_stop_words | yoast_stop_words))} | \\\n",
    "{'-pron-', '10', '12', 'aah', 'aa', 'ab', 'aaa', 'aand', '16', '2', '20', '30', '4', '40', '5', '6', '7', \\\n",
    " '8', '9'}"
   ]
  },
  {
   "cell_type": "markdown",
   "metadata": {
    "papermill": {
     "duration": 0.054957,
     "end_time": "2020-11-14T07:16:38.533669",
     "exception": false,
     "start_time": "2020-11-14T07:16:38.478712",
     "status": "completed"
    },
    "tags": []
   },
   "source": [
    "## Creating custom transformers to encapsulate our data preprocessing"
   ]
  },
  {
   "cell_type": "code",
   "execution_count": 25,
   "metadata": {
    "execution": {
     "iopub.execute_input": "2020-11-14T07:16:38.655640Z",
     "iopub.status.busy": "2020-11-14T07:16:38.654831Z",
     "iopub.status.idle": "2020-11-14T07:16:38.658509Z",
     "shell.execute_reply": "2020-11-14T07:16:38.657917Z"
    },
    "papermill": {
     "duration": 0.068061,
     "end_time": "2020-11-14T07:16:38.658618",
     "exception": false,
     "start_time": "2020-11-14T07:16:38.590557",
     "status": "completed"
    },
    "tags": []
   },
   "outputs": [],
   "source": [
    "class GetTokens(BaseEstimator, TransformerMixin):\n",
    "    def __init__(self, stop_words=stop_words_lemma):\n",
    "        self.stop_words = stop_words\n",
    "    \n",
    "    # defining tokenzer function to tokenize the lower case lemma of documents in a corpus and \n",
    "    # filter out stop-words  \n",
    "    def tokenize(self, text):\n",
    "        return [word.lemma_.lower() for word in nlp(text) if word.is_alpha and word.lemma_.lower() \\\n",
    "                not in self.stop_words]\n",
    "\n",
    "    def fit(self, X, y=None):\n",
    "        return self\n",
    "    \n",
    "    def transform(self, X):\n",
    "        self.tokens = [self.tokenize(doc) for doc in X]\n",
    "            \n",
    "        return self.tokens"
   ]
  },
  {
   "cell_type": "code",
   "execution_count": 26,
   "metadata": {
    "execution": {
     "iopub.execute_input": "2020-11-14T07:16:38.774599Z",
     "iopub.status.busy": "2020-11-14T07:16:38.772987Z",
     "iopub.status.idle": "2020-11-14T07:16:38.775707Z",
     "shell.execute_reply": "2020-11-14T07:16:38.776249Z"
    },
    "papermill": {
     "duration": 0.062337,
     "end_time": "2020-11-14T07:16:38.776409",
     "exception": false,
     "start_time": "2020-11-14T07:16:38.714072",
     "status": "completed"
    },
    "tags": []
   },
   "outputs": [],
   "source": [
    "tokens = GetTokens()"
   ]
  },
  {
   "cell_type": "code",
   "execution_count": null,
   "metadata": {
    "papermill": {
     "duration": 0.05586,
     "end_time": "2020-11-14T07:16:38.887419",
     "exception": false,
     "start_time": "2020-11-14T07:16:38.831559",
     "status": "completed"
    },
    "tags": []
   },
   "outputs": [],
   "source": []
  },
  {
   "cell_type": "code",
   "execution_count": 27,
   "metadata": {
    "execution": {
     "iopub.execute_input": "2020-11-14T07:16:39.007485Z",
     "iopub.status.busy": "2020-11-14T07:16:39.006591Z",
     "iopub.status.idle": "2020-11-14T07:16:39.009177Z",
     "shell.execute_reply": "2020-11-14T07:16:39.009707Z"
    },
    "papermill": {
     "duration": 0.066876,
     "end_time": "2020-11-14T07:16:39.009848",
     "exception": false,
     "start_time": "2020-11-14T07:16:38.942972",
     "status": "completed"
    },
    "tags": []
   },
   "outputs": [],
   "source": [
    "class Text2Sequence(BaseEstimator, TransformerMixin):\n",
    "    def __init__(self):\n",
    "        self.sequence_tokenizer = Tokenizer(oov_token='<oov>')\n",
    "\n",
    "    def fit(self, X, y=None):\n",
    "        self.sequence_tokenizer.fit_on_texts(X)\n",
    "        self.words_indices = self.sequence_tokenizer.word_index\n",
    "        return self\n",
    "    \n",
    "    def transform(self, X):\n",
    "        self.get_sequences = self.sequence_tokenizer.texts_to_sequences(X)\n",
    "        return self.get_sequences"
   ]
  },
  {
   "cell_type": "code",
   "execution_count": 28,
   "metadata": {
    "execution": {
     "iopub.execute_input": "2020-11-14T07:16:39.128126Z",
     "iopub.status.busy": "2020-11-14T07:16:39.127248Z",
     "iopub.status.idle": "2020-11-14T07:16:39.131524Z",
     "shell.execute_reply": "2020-11-14T07:16:39.130930Z"
    },
    "papermill": {
     "duration": 0.063939,
     "end_time": "2020-11-14T07:16:39.131636",
     "exception": false,
     "start_time": "2020-11-14T07:16:39.067697",
     "status": "completed"
    },
    "tags": []
   },
   "outputs": [],
   "source": [
    "text_2_seq = Text2Sequence()"
   ]
  },
  {
   "cell_type": "code",
   "execution_count": null,
   "metadata": {
    "papermill": {
     "duration": 0.099082,
     "end_time": "2020-11-14T07:16:39.286767",
     "exception": false,
     "start_time": "2020-11-14T07:16:39.187685",
     "status": "completed"
    },
    "tags": []
   },
   "outputs": [],
   "source": []
  },
  {
   "cell_type": "code",
   "execution_count": 29,
   "metadata": {
    "execution": {
     "iopub.execute_input": "2020-11-14T07:16:39.411138Z",
     "iopub.status.busy": "2020-11-14T07:16:39.410239Z",
     "iopub.status.idle": "2020-11-14T07:16:39.414330Z",
     "shell.execute_reply": "2020-11-14T07:16:39.413785Z"
    },
    "papermill": {
     "duration": 0.068186,
     "end_time": "2020-11-14T07:16:39.414453",
     "exception": false,
     "start_time": "2020-11-14T07:16:39.346267",
     "status": "completed"
    },
    "tags": []
   },
   "outputs": [],
   "source": [
    "class Padding(BaseEstimator, TransformerMixin):\n",
    "    def __init__(self, pad='post'):\n",
    "        self.pad = pad\n",
    "    \n",
    "    def fit(self, X, y=None):\n",
    "        return self\n",
    "    \n",
    "    def transform(self, X):\n",
    "        self.get_paddings = pad_sequences(X, padding=self.pad)\n",
    "        return self.get_paddings"
   ]
  },
  {
   "cell_type": "code",
   "execution_count": 30,
   "metadata": {
    "execution": {
     "iopub.execute_input": "2020-11-14T07:16:39.535092Z",
     "iopub.status.busy": "2020-11-14T07:16:39.533027Z",
     "iopub.status.idle": "2020-11-14T07:16:39.535903Z",
     "shell.execute_reply": "2020-11-14T07:16:39.536450Z"
    },
    "papermill": {
     "duration": 0.064796,
     "end_time": "2020-11-14T07:16:39.536584",
     "exception": false,
     "start_time": "2020-11-14T07:16:39.471788",
     "status": "completed"
    },
    "tags": []
   },
   "outputs": [],
   "source": [
    "pad = Padding()"
   ]
  },
  {
   "cell_type": "code",
   "execution_count": null,
   "metadata": {
    "papermill": {
     "duration": 0.058075,
     "end_time": "2020-11-14T07:16:39.651083",
     "exception": false,
     "start_time": "2020-11-14T07:16:39.593008",
     "status": "completed"
    },
    "tags": []
   },
   "outputs": [],
   "source": []
  },
  {
   "cell_type": "code",
   "execution_count": 31,
   "metadata": {
    "execution": {
     "iopub.execute_input": "2020-11-14T07:16:39.773323Z",
     "iopub.status.busy": "2020-11-14T07:16:39.771308Z",
     "iopub.status.idle": "2020-11-14T07:16:39.774327Z",
     "shell.execute_reply": "2020-11-14T07:16:39.774896Z"
    },
    "papermill": {
     "duration": 0.06594,
     "end_time": "2020-11-14T07:16:39.775030",
     "exception": false,
     "start_time": "2020-11-14T07:16:39.709090",
     "status": "completed"
    },
    "tags": []
   },
   "outputs": [],
   "source": [
    "data_prep_pipe = Pipeline([('get_tokens', tokens), ('text_2_sequence', text_2_seq), ('padding', pad)], verbose=1)"
   ]
  },
  {
   "cell_type": "code",
   "execution_count": 32,
   "metadata": {
    "execution": {
     "iopub.execute_input": "2020-11-14T07:16:39.916743Z",
     "iopub.status.busy": "2020-11-14T07:16:39.915655Z",
     "iopub.status.idle": "2020-11-14T07:16:40.014696Z",
     "shell.execute_reply": "2020-11-14T07:16:40.014090Z"
    },
    "papermill": {
     "duration": 0.182177,
     "end_time": "2020-11-14T07:16:40.014822",
     "exception": false,
     "start_time": "2020-11-14T07:16:39.832645",
     "status": "completed"
    },
    "tags": []
   },
   "outputs": [],
   "source": [
    "le = LabelEncoder()\n",
    "one_hot = OneHotEncoder(sparse=False) \n",
    "        \n",
    "encoded_labels = le.fit_transform(labels)\n",
    "one_hot_labels = one_hot.fit_transform(encoded_labels.reshape(-1, 1))"
   ]
  },
  {
   "cell_type": "code",
   "execution_count": 33,
   "metadata": {
    "execution": {
     "iopub.execute_input": "2020-11-14T07:16:40.159199Z",
     "iopub.status.busy": "2020-11-14T07:16:40.143751Z",
     "iopub.status.idle": "2020-11-14T07:17:58.331804Z",
     "shell.execute_reply": "2020-11-14T07:17:58.330799Z"
    },
    "papermill": {
     "duration": 78.259564,
     "end_time": "2020-11-14T07:17:58.331977",
     "exception": false,
     "start_time": "2020-11-14T07:16:40.072413",
     "status": "completed"
    },
    "tags": []
   },
   "outputs": [
    {
     "name": "stdout",
     "output_type": "stream",
     "text": [
      "[Pipeline] ........ (step 1 of 3) Processing get_tokens, total= 1.2min\n",
      "[Pipeline] ... (step 2 of 3) Processing text_2_sequence, total=   6.4s\n",
      "[Pipeline] ........... (step 3 of 3) Processing padding, total=   1.8s\n"
     ]
    }
   ],
   "source": [
    "X_prep = data_prep_pipe.fit_transform(sent_oversample_corpus) # getting processed corpus"
   ]
  },
  {
   "cell_type": "markdown",
   "metadata": {
    "papermill": {
     "duration": 0.060684,
     "end_time": "2020-11-14T07:17:58.456443",
     "exception": false,
     "start_time": "2020-11-14T07:17:58.395759",
     "status": "completed"
    },
    "tags": []
   },
   "source": [
    "## Training"
   ]
  },
  {
   "cell_type": "code",
   "execution_count": 34,
   "metadata": {
    "execution": {
     "iopub.execute_input": "2020-11-14T07:17:58.579337Z",
     "iopub.status.busy": "2020-11-14T07:17:58.578491Z",
     "iopub.status.idle": "2020-11-14T07:17:58.582554Z",
     "shell.execute_reply": "2020-11-14T07:17:58.581920Z"
    },
    "papermill": {
     "duration": 0.068715,
     "end_time": "2020-11-14T07:17:58.582669",
     "exception": false,
     "start_time": "2020-11-14T07:17:58.513954",
     "status": "completed"
    },
    "tags": []
   },
   "outputs": [],
   "source": [
    "# defining a function to return the emdedding matrix of our word2vec\n",
    "def get_embedding_matrix(model, word_index):\n",
    "    vocab_size = len(word_index) + 1\n",
    "    embedding_dim = model.wv.vector_size\n",
    "    embedding_matrix = np.zeros((vocab_size, embedding_dim))\n",
    "    \n",
    "    for word in model.wv.vocab:\n",
    "        ind = word_index[word]\n",
    "        embedding_matrix[ind] = model[word]\n",
    "        \n",
    "    return embedding_matrix"
   ]
  },
  {
   "cell_type": "code",
   "execution_count": 35,
   "metadata": {
    "execution": {
     "iopub.execute_input": "2020-11-14T07:17:58.717662Z",
     "iopub.status.busy": "2020-11-14T07:17:58.715537Z",
     "iopub.status.idle": "2020-11-14T07:17:58.718399Z",
     "shell.execute_reply": "2020-11-14T07:17:58.718905Z"
    },
    "papermill": {
     "duration": 0.077192,
     "end_time": "2020-11-14T07:17:58.719029",
     "exception": false,
     "start_time": "2020-11-14T07:17:58.641837",
     "status": "completed"
    },
    "tags": []
   },
   "outputs": [],
   "source": [
    "# defining a custom keras multi-class fbeta function\n",
    "def multi_class_fbeta(ytrue , ypred, beta=1, weighted=True, raw=False, epsilon=1e-7):\n",
    "    beta_squared = beta**2\n",
    "\n",
    "    ytrue = tf.cast(ytrue, tf.float32)\n",
    "    ypred= tf.cast(ypred, tf.float32)\n",
    "    \n",
    "    max_prob = tf.reduce_max(ypred, axis=-1, keepdims=True)\n",
    "    ypred = tf.cast(tf.equal(ypred, max_prob), tf.float32)\n",
    "        \n",
    "    tp = tf.reduce_sum(ytrue*ypred, axis=0)\n",
    "    predicted_positive = tf.reduce_sum(ypred, axis=0)\n",
    "    actual_positive = tf.reduce_sum(ytrue, axis=0)\n",
    "    \n",
    "    precision = tp/(predicted_positive+epsilon)\n",
    "    recall = tp/(actual_positive+epsilon)\n",
    "    \n",
    "    fb = (1+beta_squared)*precision*recall / (beta_squared*precision + recall + epsilon)\n",
    "    \n",
    "    if raw:\n",
    "        return fb\n",
    "    \n",
    "    if weighted:\n",
    "        supports = tf.reduce_sum(ytrue, axis=0)\n",
    "        return tf.reduce_sum(fb*supports / tf.reduce_sum(supports))\n",
    "\n",
    "    return tf.reduce_mean(fb)"
   ]
  },
  {
   "cell_type": "code",
   "execution_count": 36,
   "metadata": {
    "execution": {
     "iopub.execute_input": "2020-11-14T07:17:58.846855Z",
     "iopub.status.busy": "2020-11-14T07:17:58.845915Z",
     "iopub.status.idle": "2020-11-14T07:17:58.849708Z",
     "shell.execute_reply": "2020-11-14T07:17:58.849035Z"
    },
    "papermill": {
     "duration": 0.071064,
     "end_time": "2020-11-14T07:17:58.849826",
     "exception": false,
     "start_time": "2020-11-14T07:17:58.778762",
     "status": "completed"
    },
    "tags": []
   },
   "outputs": [],
   "source": [
    "def build_cnn_model(embedding_matrix, input_length):\n",
    "    model = Sequential()\n",
    "    model.add(Embedding(embedding_matrix.shape[0], embedding_matrix.shape[1], \n",
    "                           weights=[embedding_matrix], \n",
    "                           input_length=input_length,\n",
    "                           mask_zero=True,\n",
    "                           trainable=False))\n",
    "    \n",
    "    model.add(Conv1D(128, 3, activation='relu'))\n",
    "    model.add(Conv1D(128, 3, activation='relu'))\n",
    "    \n",
    "    model.add(GlobalMaxPool1D())\n",
    "    \n",
    "    model.add(Dropout(0.2))\n",
    "    \n",
    "    model.add(Dense(20, activation='softmax'))\n",
    "\n",
    "    model.compile(optimizer='adam',\n",
    "              loss='sparse_categorical_crossentropy',\n",
    "              metrics=['accuracy', multi_class_fbeta])\n",
    "\n",
    "    return model"
   ]
  },
  {
   "cell_type": "code",
   "execution_count": 37,
   "metadata": {
    "execution": {
     "iopub.execute_input": "2020-11-14T07:17:58.974467Z",
     "iopub.status.busy": "2020-11-14T07:17:58.973595Z",
     "iopub.status.idle": "2020-11-14T07:17:58.977438Z",
     "shell.execute_reply": "2020-11-14T07:17:58.976896Z"
    },
    "papermill": {
     "duration": 0.070876,
     "end_time": "2020-11-14T07:17:58.977550",
     "exception": false,
     "start_time": "2020-11-14T07:17:58.906674",
     "status": "completed"
    },
    "tags": []
   },
   "outputs": [],
   "source": [
    "def build_lstm_model(embedding_matrix, input_length):\n",
    "    model = Sequential()\n",
    "    model.add(Embedding(embedding_matrix.shape[0], embedding_matrix.shape[1], \n",
    "                           weights=[embedding_matrix], \n",
    "                           input_length=input_length,\n",
    "                           mask_zero=True,\n",
    "                           trainable=False))\n",
    "    \n",
    "    model.add(Dropout(0.5))\n",
    "    model.add(Bidirectional(LSTM(300)))\n",
    "    model.add(Dropout(0.5))\n",
    "    model.add(Dense(20, activation='softmax'))\n",
    "\n",
    "    model.compile(loss='sparse_categorical_crossentropy', optimizer='adam', \\\n",
    "                  metrics=['accuracy', multi_class_fbeta])\n",
    "\n",
    "    return model"
   ]
  },
  {
   "cell_type": "code",
   "execution_count": 38,
   "metadata": {
    "execution": {
     "iopub.execute_input": "2020-11-14T07:17:59.150231Z",
     "iopub.status.busy": "2020-11-14T07:17:59.149185Z",
     "iopub.status.idle": "2020-11-14T07:17:59.163507Z",
     "shell.execute_reply": "2020-11-14T07:17:59.162923Z"
    },
    "papermill": {
     "duration": 0.126982,
     "end_time": "2020-11-14T07:17:59.163635",
     "exception": false,
     "start_time": "2020-11-14T07:17:59.036653",
     "status": "completed"
    },
    "tags": []
   },
   "outputs": [],
   "source": [
    "# setting class weights due to class imbalance\n",
    "class_weights = class_weight.compute_class_weight('balanced', np.arange(20), encoded_labels)\n",
    "class_weights = dict(enumerate(class_weights))"
   ]
  },
  {
   "cell_type": "markdown",
   "metadata": {
    "papermill": {
     "duration": 0.058848,
     "end_time": "2020-11-14T07:17:59.283563",
     "exception": false,
     "start_time": "2020-11-14T07:17:59.224715",
     "status": "completed"
    },
    "tags": []
   },
   "source": [
    "### Disguising CNN and LSTM models as transformers"
   ]
  },
  {
   "cell_type": "code",
   "execution_count": 39,
   "metadata": {
    "execution": {
     "iopub.execute_input": "2020-11-14T07:17:59.421162Z",
     "iopub.status.busy": "2020-11-14T07:17:59.420253Z",
     "iopub.status.idle": "2020-11-14T07:17:59.423731Z",
     "shell.execute_reply": "2020-11-14T07:17:59.423136Z"
    },
    "papermill": {
     "duration": 0.078923,
     "end_time": "2020-11-14T07:17:59.423853",
     "exception": false,
     "start_time": "2020-11-14T07:17:59.344930",
     "status": "completed"
    },
    "tags": []
   },
   "outputs": [],
   "source": [
    "class NLPModel(BaseEstimator, TransformerMixin):\n",
    "    def __init__(self, build_fn, name, epochs=7, batch_size=128, verbose=0):\n",
    "        self.build_fn = build_fn\n",
    "        self.name = name\n",
    "        self.epochs = epochs\n",
    "        self.batch_size = batch_size\n",
    "        self.verbose = verbose\n",
    "        \n",
    "    def fit(self, X, y):\n",
    "        self.corpus = data_prep_pipe.named_steps['get_tokens'].tokens\n",
    "        \n",
    "        t1 = time.time()\n",
    "        self.w2v_model = Word2Vec(self.corpus, size=300, min_count=1, iter=10)\n",
    "                \n",
    "        print('Done training Word2Vec for {}                    total: {}mins'.format(self.name, \\\n",
    "                                                                          round((time.time()-t1)/60, 1)))\n",
    "        \n",
    "        self.embedding_matrix = get_embedding_matrix(self.w2v_model, \\\n",
    "                                                     data_prep_pipe.named_steps['text_2_sequence'].words_indices)\n",
    "        \n",
    "        self.model = self.build_fn(self.embedding_matrix, X.shape[1])\n",
    "        \n",
    "        t2 = time.time()\n",
    "        \n",
    "        self.history = self.model.fit(X, y, epochs=self.epochs, batch_size=self.batch_size, \\\n",
    "                                      class_weight=class_weights, verbose=self.verbose)\n",
    "        \n",
    "        print('Done training {} model                           total: {}mins'.format(self.name, \\\n",
    "                                                                          round((time.time()-t2)/60, 1)))\n",
    "        \n",
    "        return self\n",
    "    \n",
    "    def transform(self, X):\n",
    "        self.pred = self.model.predict(X)\n",
    "        return self.pred   \n",
    "        "
   ]
  },
  {
   "cell_type": "code",
   "execution_count": 40,
   "metadata": {
    "execution": {
     "iopub.execute_input": "2020-11-14T07:17:59.547037Z",
     "iopub.status.busy": "2020-11-14T07:17:59.546298Z",
     "iopub.status.idle": "2020-11-14T07:17:59.550857Z",
     "shell.execute_reply": "2020-11-14T07:17:59.550137Z"
    },
    "papermill": {
     "duration": 0.067444,
     "end_time": "2020-11-14T07:17:59.550978",
     "exception": false,
     "start_time": "2020-11-14T07:17:59.483534",
     "status": "completed"
    },
    "tags": []
   },
   "outputs": [],
   "source": [
    "cnn_model = NLPModel(build_cnn_model, 'cnn_model', epochs=7) # instatiating cnn model object"
   ]
  },
  {
   "cell_type": "code",
   "execution_count": 41,
   "metadata": {
    "execution": {
     "iopub.execute_input": "2020-11-14T07:17:59.677591Z",
     "iopub.status.busy": "2020-11-14T07:17:59.675693Z",
     "iopub.status.idle": "2020-11-14T07:17:59.678314Z",
     "shell.execute_reply": "2020-11-14T07:17:59.678876Z"
    },
    "papermill": {
     "duration": 0.06795,
     "end_time": "2020-11-14T07:17:59.679007",
     "exception": false,
     "start_time": "2020-11-14T07:17:59.611057",
     "status": "completed"
    },
    "tags": []
   },
   "outputs": [],
   "source": [
    "lstm_model = NLPModel(build_lstm_model, 'lstm_model', epochs=10) # instatiating cnn model object"
   ]
  },
  {
   "cell_type": "code",
   "execution_count": 42,
   "metadata": {
    "execution": {
     "iopub.execute_input": "2020-11-14T07:17:59.805720Z",
     "iopub.status.busy": "2020-11-14T07:17:59.803848Z",
     "iopub.status.idle": "2020-11-14T07:17:59.806542Z",
     "shell.execute_reply": "2020-11-14T07:17:59.807043Z"
    },
    "papermill": {
     "duration": 0.067755,
     "end_time": "2020-11-14T07:17:59.807166",
     "exception": false,
     "start_time": "2020-11-14T07:17:59.739411",
     "status": "completed"
    },
    "tags": []
   },
   "outputs": [],
   "source": [
    "union = FeatureUnion([('cnn_model', cnn_model), ('lstm_model', lstm_model)]) # union of cnn and lstm"
   ]
  },
  {
   "cell_type": "code",
   "execution_count": null,
   "metadata": {
    "papermill": {
     "duration": 0.059576,
     "end_time": "2020-11-14T07:17:59.926427",
     "exception": false,
     "start_time": "2020-11-14T07:17:59.866851",
     "status": "completed"
    },
    "tags": []
   },
   "outputs": [],
   "source": []
  },
  {
   "cell_type": "code",
   "execution_count": 43,
   "metadata": {
    "execution": {
     "iopub.execute_input": "2020-11-14T07:18:00.054567Z",
     "iopub.status.busy": "2020-11-14T07:18:00.052942Z",
     "iopub.status.idle": "2020-11-14T07:18:00.055290Z",
     "shell.execute_reply": "2020-11-14T07:18:00.055868Z"
    },
    "papermill": {
     "duration": 0.070481,
     "end_time": "2020-11-14T07:18:00.056003",
     "exception": false,
     "start_time": "2020-11-14T07:17:59.985522",
     "status": "completed"
    },
    "tags": []
   },
   "outputs": [],
   "source": [
    "# building a MLP model as our blender\n",
    "def build_blender():\n",
    "    model = Sequential()\n",
    "\n",
    "    model.add(Dense(30, activation='relu')) # this layer will find the best combination of CNN and LSTM\n",
    "    model.add(Dense(20, activation='softmax')) \n",
    "    \n",
    "    model.compile(loss='categorical_crossentropy',optimizer=Adam(1e-2) ,metrics=['accuracy', multi_class_fbeta])\n",
    "\n",
    "    return model"
   ]
  },
  {
   "cell_type": "code",
   "execution_count": null,
   "metadata": {
    "papermill": {
     "duration": 0.060923,
     "end_time": "2020-11-14T07:18:00.178161",
     "exception": false,
     "start_time": "2020-11-14T07:18:00.117238",
     "status": "completed"
    },
    "tags": []
   },
   "outputs": [],
   "source": []
  },
  {
   "cell_type": "code",
   "execution_count": 44,
   "metadata": {
    "execution": {
     "iopub.execute_input": "2020-11-14T07:18:00.316440Z",
     "iopub.status.busy": "2020-11-14T07:18:00.314286Z",
     "iopub.status.idle": "2020-11-14T07:18:00.317229Z",
     "shell.execute_reply": "2020-11-14T07:18:00.317802Z"
    },
    "papermill": {
     "duration": 0.078272,
     "end_time": "2020-11-14T07:18:00.317940",
     "exception": false,
     "start_time": "2020-11-14T07:18:00.239668",
     "status": "completed"
    },
    "tags": []
   },
   "outputs": [],
   "source": [
    "# making the blender a scikit-learn classifier\n",
    "class BlenderModel(BaseEstimator, ClassifierMixin):\n",
    "    def __init__(self, build_fn, epochs=20, batch_size=128, verbose=1, validation_split=0):\n",
    "        self.build_fn = build_fn\n",
    "        self.epochs = epochs\n",
    "        self.batch_size = batch_size\n",
    "        self.verbose = verbose\n",
    "        self.validate = validation_split\n",
    "        \n",
    "    def fit(self, X, y):\n",
    "        if self.validate:\n",
    "            self.model = KerasClassifier(build_fn=self.build_fn, epochs=self.epochs, \\\n",
    "                                         batch_size=self.batch_size, validation_split=self.validate, \\\n",
    "                                         verbose=self.verbose)\n",
    "        else:\n",
    "            self.model = KerasClassifier(build_fn=self.build_fn, epochs=self.epochs, \\\n",
    "                                         batch_size=self.batch_size, verbose=self.verbose)\n",
    "                    \n",
    "        self.history = self.model.fit(X, y)\n",
    "        \n",
    "        return self\n",
    "        \n",
    "    def predict(self, X):\n",
    "        self.ypred = self.model.predict(X)\n",
    "        \n",
    "        return self.ypred"
   ]
  },
  {
   "cell_type": "code",
   "execution_count": 45,
   "metadata": {
    "execution": {
     "iopub.execute_input": "2020-11-14T07:18:00.447078Z",
     "iopub.status.busy": "2020-11-14T07:18:00.446204Z",
     "iopub.status.idle": "2020-11-14T07:18:00.450492Z",
     "shell.execute_reply": "2020-11-14T07:18:00.449886Z"
    },
    "papermill": {
     "duration": 0.070736,
     "end_time": "2020-11-14T07:18:00.450614",
     "exception": false,
     "start_time": "2020-11-14T07:18:00.379878",
     "status": "completed"
    },
    "tags": []
   },
   "outputs": [],
   "source": [
    "model = BlenderModel(build_blender, validation_split=0.25) # creating an instance of the blender"
   ]
  },
  {
   "cell_type": "code",
   "execution_count": 46,
   "metadata": {
    "execution": {
     "iopub.execute_input": "2020-11-14T07:18:00.588482Z",
     "iopub.status.busy": "2020-11-14T07:18:00.586470Z",
     "iopub.status.idle": "2020-11-14T07:18:00.589156Z",
     "shell.execute_reply": "2020-11-14T07:18:00.589676Z"
    },
    "papermill": {
     "duration": 0.069437,
     "end_time": "2020-11-14T07:18:00.589802",
     "exception": false,
     "start_time": "2020-11-14T07:18:00.520365",
     "status": "completed"
    },
    "tags": []
   },
   "outputs": [],
   "source": [
    "model_pipe = Pipeline([('union', union), ('blender', model)], verbose=1) # blender CNN and LSTM with MLP"
   ]
  },
  {
   "cell_type": "code",
   "execution_count": 47,
   "metadata": {
    "execution": {
     "iopub.execute_input": "2020-11-14T07:18:00.750690Z",
     "iopub.status.busy": "2020-11-14T07:18:00.735371Z",
     "iopub.status.idle": "2020-11-14T07:30:10.758113Z",
     "shell.execute_reply": "2020-11-14T07:30:10.757516Z"
    },
    "papermill": {
     "duration": 730.108153,
     "end_time": "2020-11-14T07:30:10.758227",
     "exception": false,
     "start_time": "2020-11-14T07:18:00.650074",
     "status": "completed"
    },
    "tags": []
   },
   "outputs": [
    {
     "name": "stdout",
     "output_type": "stream",
     "text": [
      "Done training Word2Vec for cnn_model                    total: 1.9mins\n",
      "Done training cnn_model model                           total: 1.0mins\n",
      "Done training Word2Vec for lstm_model                    total: 1.8mins\n",
      "Done training lstm_model model                           total: 5.8mins\n",
      "[Pipeline] ............. (step 1 of 2) Processing union, total=11.1min\n",
      "Epoch 1/20\n",
      "936/936 [==============================] - 3s 3ms/step - loss: 0.3034 - accuracy: 0.9218 - multi_class_fbeta: 0.9215 - val_loss: 0.3236 - val_accuracy: 0.9041 - val_multi_class_fbeta: 0.9083\n",
      "Epoch 2/20\n",
      "936/936 [==============================] - 3s 3ms/step - loss: 0.2387 - accuracy: 0.9281 - multi_class_fbeta: 0.9286 - val_loss: 0.3187 - val_accuracy: 0.9037 - val_multi_class_fbeta: 0.9079\n",
      "Epoch 3/20\n",
      "936/936 [==============================] - 4s 4ms/step - loss: 0.2302 - accuracy: 0.9292 - multi_class_fbeta: 0.9293 - val_loss: 0.3097 - val_accuracy: 0.9032 - val_multi_class_fbeta: 0.9080\n",
      "Epoch 4/20\n",
      "936/936 [==============================] - 4s 4ms/step - loss: 0.2224 - accuracy: 0.9292 - multi_class_fbeta: 0.9295 - val_loss: 0.2936 - val_accuracy: 0.9048 - val_multi_class_fbeta: 0.9082\n",
      "Epoch 5/20\n",
      "936/936 [==============================] - 3s 4ms/step - loss: 0.2167 - accuracy: 0.9295 - multi_class_fbeta: 0.9296 - val_loss: 0.2885 - val_accuracy: 0.9039 - val_multi_class_fbeta: 0.9087\n",
      "Epoch 6/20\n",
      "936/936 [==============================] - 3s 4ms/step - loss: 0.2128 - accuracy: 0.9300 - multi_class_fbeta: 0.9302 - val_loss: 0.2908 - val_accuracy: 0.9042 - val_multi_class_fbeta: 0.9092\n",
      "Epoch 7/20\n",
      "936/936 [==============================] - 3s 3ms/step - loss: 0.2103 - accuracy: 0.9303 - multi_class_fbeta: 0.9303 - val_loss: 0.2905 - val_accuracy: 0.9033 - val_multi_class_fbeta: 0.9076\n",
      "Epoch 8/20\n",
      "936/936 [==============================] - 3s 3ms/step - loss: 0.2088 - accuracy: 0.9304 - multi_class_fbeta: 0.9305 - val_loss: 0.2876 - val_accuracy: 0.9009 - val_multi_class_fbeta: 0.9053\n",
      "Epoch 9/20\n",
      "936/936 [==============================] - 3s 3ms/step - loss: 0.2074 - accuracy: 0.9305 - multi_class_fbeta: 0.9306 - val_loss: 0.2870 - val_accuracy: 0.9028 - val_multi_class_fbeta: 0.9077\n",
      "Epoch 10/20\n",
      "936/936 [==============================] - 3s 4ms/step - loss: 0.2063 - accuracy: 0.9307 - multi_class_fbeta: 0.9308 - val_loss: 0.2869 - val_accuracy: 0.9014 - val_multi_class_fbeta: 0.9059\n",
      "Epoch 11/20\n",
      "936/936 [==============================] - 3s 3ms/step - loss: 0.2059 - accuracy: 0.9304 - multi_class_fbeta: 0.9305 - val_loss: 0.2870 - val_accuracy: 0.9023 - val_multi_class_fbeta: 0.9067\n",
      "Epoch 12/20\n",
      "936/936 [==============================] - 3s 3ms/step - loss: 0.2045 - accuracy: 0.9312 - multi_class_fbeta: 0.9312 - val_loss: 0.2911 - val_accuracy: 0.8995 - val_multi_class_fbeta: 0.9040\n",
      "Epoch 13/20\n",
      "936/936 [==============================] - 3s 4ms/step - loss: 0.2043 - accuracy: 0.9306 - multi_class_fbeta: 0.9306 - val_loss: 0.2908 - val_accuracy: 0.9013 - val_multi_class_fbeta: 0.9058\n",
      "Epoch 14/20\n",
      "936/936 [==============================] - 3s 4ms/step - loss: 0.2035 - accuracy: 0.9305 - multi_class_fbeta: 0.9306 - val_loss: 0.2890 - val_accuracy: 0.9023 - val_multi_class_fbeta: 0.9070\n",
      "Epoch 15/20\n",
      "936/936 [==============================] - 3s 3ms/step - loss: 0.2028 - accuracy: 0.9308 - multi_class_fbeta: 0.9309 - val_loss: 0.2868 - val_accuracy: 0.9017 - val_multi_class_fbeta: 0.9069\n",
      "Epoch 16/20\n",
      "936/936 [==============================] - 3s 3ms/step - loss: 0.2027 - accuracy: 0.9312 - multi_class_fbeta: 0.9312 - val_loss: 0.2831 - val_accuracy: 0.9041 - val_multi_class_fbeta: 0.9082\n",
      "Epoch 17/20\n",
      "936/936 [==============================] - 3s 4ms/step - loss: 0.2028 - accuracy: 0.9310 - multi_class_fbeta: 0.9311 - val_loss: 0.2880 - val_accuracy: 0.9027 - val_multi_class_fbeta: 0.9075\n",
      "Epoch 18/20\n",
      "936/936 [==============================] - 3s 3ms/step - loss: 0.2019 - accuracy: 0.9309 - multi_class_fbeta: 0.9309 - val_loss: 0.2842 - val_accuracy: 0.9032 - val_multi_class_fbeta: 0.9081\n",
      "Epoch 19/20\n",
      "936/936 [==============================] - 3s 3ms/step - loss: 0.2019 - accuracy: 0.9314 - multi_class_fbeta: 0.9314 - val_loss: 0.2859 - val_accuracy: 0.9032 - val_multi_class_fbeta: 0.9072\n",
      "Epoch 20/20\n",
      "936/936 [==============================] - 3s 4ms/step - loss: 0.2016 - accuracy: 0.9315 - multi_class_fbeta: 0.9315 - val_loss: 0.2931 - val_accuracy: 0.9019 - val_multi_class_fbeta: 0.9061\n",
      "[Pipeline] ........... (step 2 of 2) Processing blender, total= 1.1min\n"
     ]
    }
   ],
   "source": [
    "model_pipe.fit(X_prep, encoded_labels);"
   ]
  },
  {
   "cell_type": "markdown",
   "metadata": {
    "papermill": {
     "duration": 0.450594,
     "end_time": "2020-11-14T07:30:11.649484",
     "exception": false,
     "start_time": "2020-11-14T07:30:11.198890",
     "status": "completed"
    },
    "tags": []
   },
   "source": [
    "## Learning Curve"
   ]
  },
  {
   "cell_type": "code",
   "execution_count": 48,
   "metadata": {
    "execution": {
     "iopub.execute_input": "2020-11-14T07:30:12.553247Z",
     "iopub.status.busy": "2020-11-14T07:30:12.551181Z",
     "iopub.status.idle": "2020-11-14T07:30:12.553994Z",
     "shell.execute_reply": "2020-11-14T07:30:12.554549Z"
    },
    "papermill": {
     "duration": 0.459357,
     "end_time": "2020-11-14T07:30:12.554684",
     "exception": false,
     "start_time": "2020-11-14T07:30:12.095327",
     "status": "completed"
    },
    "tags": []
   },
   "outputs": [],
   "source": [
    "plt.style.use('ggplot')\n",
    "\n",
    "def plot_history(history):\n",
    "    acc = history.history['accuracy']\n",
    "    val_acc = history.history['val_accuracy']\n",
    "    fbeta = history.history['multi_class_fbeta']\n",
    "    val_fbeta = history.history['val_multi_class_fbeta']\n",
    "    loss = history.history['loss']\n",
    "    val_loss = history.history['val_loss']\n",
    "    epochs = range(1, len(acc)+1)\n",
    "\n",
    "    metrics = {'loss': (loss, val_loss)}\n",
    "    \n",
    "    plt.figure(figsize=(18, 5))\n",
    "    \n",
    "    for i, metric in zip(range(1, len(list(metrics.keys()))+1), list(metrics.keys())):\n",
    "        plt.plot(epochs, metrics[metric][0], 'b', label='Training ' + metric)\n",
    "        plt.plot(epochs, metrics[metric][1], 'r', label='Validation ' + metric)\n",
    "        plt.title('Training and validation ' + metric)\n",
    "        plt.legend()"
   ]
  },
  {
   "cell_type": "code",
   "execution_count": 49,
   "metadata": {
    "execution": {
     "iopub.execute_input": "2020-11-14T07:30:13.447958Z",
     "iopub.status.busy": "2020-11-14T07:30:13.447113Z",
     "iopub.status.idle": "2020-11-14T07:30:13.717861Z",
     "shell.execute_reply": "2020-11-14T07:30:13.717173Z"
    },
    "papermill": {
     "duration": 0.725143,
     "end_time": "2020-11-14T07:30:13.717989",
     "exception": false,
     "start_time": "2020-11-14T07:30:12.992846",
     "status": "completed"
    },
    "tags": []
   },
   "outputs": [
    {
     "data": {
      "image/png": "[encoded data removed]",
      "text/plain": [
       "<Figure size 1296x360 with 1 Axes>"
      ]
     },
     "metadata": {},
     "output_type": "display_data"
    }
   ],
   "source": [
    "plot_history(model_pipe.named_steps['blender'].history)"
   ]
  },
  {
   "cell_type": "markdown",
   "metadata": {
    "papermill": {
     "duration": 0.431924,
     "end_time": "2020-11-14T07:30:15.808024",
     "exception": false,
     "start_time": "2020-11-14T07:30:15.376100",
     "status": "completed"
    },
    "tags": []
   },
   "source": [
    "## We will not do cross validation due to the high time complexity but only evaluate on stratisfied train_test_split."
   ]
  },
  {
   "cell_type": "code",
   "execution_count": null,
   "metadata": {
    "papermill": {
     "duration": 0.531268,
     "end_time": "2020-11-14T07:30:16.772316",
     "exception": false,
     "start_time": "2020-11-14T07:30:16.241048",
     "status": "completed"
    },
    "tags": []
   },
   "outputs": [],
   "source": []
  },
  {
   "cell_type": "code",
   "execution_count": 50,
   "metadata": {
    "execution": {
     "iopub.execute_input": "2020-11-14T07:30:17.746857Z",
     "iopub.status.busy": "2020-11-14T07:30:17.745825Z",
     "iopub.status.idle": "2020-11-14T07:30:17.888017Z",
     "shell.execute_reply": "2020-11-14T07:30:17.887288Z"
    },
    "papermill": {
     "duration": 0.589637,
     "end_time": "2020-11-14T07:30:17.888145",
     "exception": false,
     "start_time": "2020-11-14T07:30:17.298508",
     "status": "completed"
    },
    "tags": []
   },
   "outputs": [],
   "source": [
    "X_train, X_test, y_train, y_test = train_test_split(X_prep, encoded_labels, test_size=0.25, \\\n",
    "                                                    stratify=encoded_labels, random_state=1)"
   ]
  },
  {
   "cell_type": "code",
   "execution_count": 51,
   "metadata": {
    "execution": {
     "iopub.execute_input": "2020-11-14T07:30:18.751100Z",
     "iopub.status.busy": "2020-11-14T07:30:18.749158Z",
     "iopub.status.idle": "2020-11-14T07:30:18.751921Z",
     "shell.execute_reply": "2020-11-14T07:30:18.752468Z"
    },
    "papermill": {
     "duration": 0.435443,
     "end_time": "2020-11-14T07:30:18.752603",
     "exception": false,
     "start_time": "2020-11-14T07:30:18.317160",
     "status": "completed"
    },
    "tags": []
   },
   "outputs": [],
   "source": [
    "cnn_model2 = NLPModel(build_cnn_model, 'cnn_model', epochs=7)"
   ]
  },
  {
   "cell_type": "code",
   "execution_count": 52,
   "metadata": {
    "execution": {
     "iopub.execute_input": "2020-11-14T07:30:19.732548Z",
     "iopub.status.busy": "2020-11-14T07:30:19.731655Z",
     "iopub.status.idle": "2020-11-14T07:30:19.734296Z",
     "shell.execute_reply": "2020-11-14T07:30:19.734883Z"
    },
    "papermill": {
     "duration": 0.542858,
     "end_time": "2020-11-14T07:30:19.735029",
     "exception": false,
     "start_time": "2020-11-14T07:30:19.192171",
     "status": "completed"
    },
    "tags": []
   },
   "outputs": [],
   "source": [
    "lstm_model2 = NLPModel(build_lstm_model, 'lstm_model', epochs=10)"
   ]
  },
  {
   "cell_type": "code",
   "execution_count": 53,
   "metadata": {
    "execution": {
     "iopub.execute_input": "2020-11-14T07:30:20.924299Z",
     "iopub.status.busy": "2020-11-14T07:30:20.922555Z",
     "iopub.status.idle": "2020-11-14T07:30:20.927628Z",
     "shell.execute_reply": "2020-11-14T07:30:20.928365Z"
    },
    "papermill": {
     "duration": 0.714733,
     "end_time": "2020-11-14T07:30:20.928566",
     "exception": false,
     "start_time": "2020-11-14T07:30:20.213833",
     "status": "completed"
    },
    "tags": []
   },
   "outputs": [],
   "source": [
    "union2 = FeatureUnion([('cnn_model', cnn_model2), ('lstm_model', lstm_model2)])"
   ]
  },
  {
   "cell_type": "code",
   "execution_count": 54,
   "metadata": {
    "execution": {
     "iopub.execute_input": "2020-11-14T07:30:21.921894Z",
     "iopub.status.busy": "2020-11-14T07:30:21.919987Z",
     "iopub.status.idle": "2020-11-14T07:30:21.922663Z",
     "shell.execute_reply": "2020-11-14T07:30:21.923155Z"
    },
    "papermill": {
     "duration": 0.482227,
     "end_time": "2020-11-14T07:30:21.923297",
     "exception": false,
     "start_time": "2020-11-14T07:30:21.441070",
     "status": "completed"
    },
    "tags": []
   },
   "outputs": [],
   "source": [
    "model2 = BlenderModel(build_blender, epochs=9) # best epoch from model"
   ]
  },
  {
   "cell_type": "code",
   "execution_count": 55,
   "metadata": {
    "execution": {
     "iopub.execute_input": "2020-11-14T07:30:23.151735Z",
     "iopub.status.busy": "2020-11-14T07:30:23.150843Z",
     "iopub.status.idle": "2020-11-14T07:30:23.157389Z",
     "shell.execute_reply": "2020-11-14T07:30:23.155872Z"
    },
    "papermill": {
     "duration": 0.794694,
     "end_time": "2020-11-14T07:30:23.157548",
     "exception": false,
     "start_time": "2020-11-14T07:30:22.362854",
     "status": "completed"
    },
    "tags": []
   },
   "outputs": [],
   "source": [
    "model_pipe2 = Pipeline([('union', union2), ('blender', model2)], verbose=1)"
   ]
  },
  {
   "cell_type": "code",
   "execution_count": 56,
   "metadata": {
    "execution": {
     "iopub.execute_input": "2020-11-14T07:30:24.353082Z",
     "iopub.status.busy": "2020-11-14T07:30:24.327465Z",
     "iopub.status.idle": "2020-11-14T07:39:59.786859Z",
     "shell.execute_reply": "2020-11-14T07:39:59.787435Z"
    },
    "papermill": {
     "duration": 575.95371,
     "end_time": "2020-11-14T07:39:59.787621",
     "exception": false,
     "start_time": "2020-11-14T07:30:23.833911",
     "status": "completed"
    },
    "tags": []
   },
   "outputs": [
    {
     "name": "stdout",
     "output_type": "stream",
     "text": [
      "Done training Word2Vec for cnn_model                    total: 1.8mins\n",
      "Done training cnn_model model                           total: 0.7mins\n",
      "Done training Word2Vec for lstm_model                    total: 1.8mins\n",
      "Done training lstm_model model                           total: 4.4mins\n",
      "[Pipeline] ............. (step 1 of 2) Processing union, total= 9.2min\n",
      "Epoch 1/9\n",
      "936/936 [==============================] - 2s 3ms/step - loss: 0.3172 - accuracy: 0.9162 - multi_class_fbeta: 0.9159\n",
      "Epoch 2/9\n",
      "936/936 [==============================] - 3s 3ms/step - loss: 0.2483 - accuracy: 0.9236 - multi_class_fbeta: 0.9237\n",
      "Epoch 3/9\n",
      "936/936 [==============================] - 3s 4ms/step - loss: 0.2401 - accuracy: 0.9240 - multi_class_fbeta: 0.9240\n",
      "Epoch 4/9\n",
      "936/936 [==============================] - 3s 3ms/step - loss: 0.2343 - accuracy: 0.9245 - multi_class_fbeta: 0.9247\n",
      "Epoch 5/9\n",
      "936/936 [==============================] - 2s 3ms/step - loss: 0.2295 - accuracy: 0.9249 - multi_class_fbeta: 0.9249\n",
      "Epoch 6/9\n",
      "936/936 [==============================] - 2s 3ms/step - loss: 0.2268 - accuracy: 0.9252 - multi_class_fbeta: 0.9252\n",
      "Epoch 7/9\n",
      "936/936 [==============================] - 3s 3ms/step - loss: 0.2233 - accuracy: 0.9254 - multi_class_fbeta: 0.9254\n",
      "Epoch 8/9\n",
      "936/936 [==============================] - 2s 3ms/step - loss: 0.2229 - accuracy: 0.9251 - multi_class_fbeta: 0.9251\n",
      "Epoch 9/9\n",
      "936/936 [==============================] - 2s 3ms/step - loss: 0.2206 - accuracy: 0.9255 - multi_class_fbeta: 0.9253\n",
      "[Pipeline] ........... (step 2 of 2) Processing blender, total=  24.1s\n"
     ]
    }
   ],
   "source": [
    "model_pipe2.fit(X_train, y_train);"
   ]
  },
  {
   "cell_type": "code",
   "execution_count": 57,
   "metadata": {
    "execution": {
     "iopub.execute_input": "2020-11-14T07:40:01.033269Z",
     "iopub.status.busy": "2020-11-14T07:40:01.032151Z",
     "iopub.status.idle": "2020-11-14T07:40:40.631973Z",
     "shell.execute_reply": "2020-11-14T07:40:40.623307Z"
    },
    "papermill": {
     "duration": 40.237156,
     "end_time": "2020-11-14T07:40:40.632135",
     "exception": false,
     "start_time": "2020-11-14T07:40:00.394979",
     "status": "completed"
    },
    "tags": []
   },
   "outputs": [
    {
     "name": "stdout",
     "output_type": "stream",
     "text": [
      "936/936 [==============================] - 1s 1ms/step\n",
      "312/312 [==============================] - 0s 1ms/step\n"
     ]
    }
   ],
   "source": [
    "y_pred_train = model_pipe2.predict(X_train)\n",
    "y_pred_test = model_pipe2.predict(X_test)"
   ]
  },
  {
   "cell_type": "code",
   "execution_count": 58,
   "metadata": {
    "execution": {
     "iopub.execute_input": "2020-11-14T07:40:41.892933Z",
     "iopub.status.busy": "2020-11-14T07:40:41.891939Z",
     "iopub.status.idle": "2020-11-14T07:40:41.992707Z",
     "shell.execute_reply": "2020-11-14T07:40:41.992093Z"
    },
    "papermill": {
     "duration": 0.73992,
     "end_time": "2020-11-14T07:40:41.992833",
     "exception": false,
     "start_time": "2020-11-14T07:40:41.252913",
     "status": "completed"
    },
    "tags": []
   },
   "outputs": [],
   "source": [
    "acc_train = accuracy_score(y_train, y_pred_train)\n",
    "f1_train = f1_score(y_train, y_pred_train, average='weighted')\n",
    "\n",
    "acc_test = accuracy_score(y_test, y_pred_test)\n",
    "f1_test = f1_score(y_test, y_pred_test, average='weighted')"
   ]
  },
  {
   "cell_type": "code",
   "execution_count": 59,
   "metadata": {
    "execution": {
     "iopub.execute_input": "2020-11-14T07:40:43.252886Z",
     "iopub.status.busy": "2020-11-14T07:40:43.252020Z",
     "iopub.status.idle": "2020-11-14T07:40:43.257130Z",
     "shell.execute_reply": "2020-11-14T07:40:43.257748Z"
    },
    "papermill": {
     "duration": 0.633239,
     "end_time": "2020-11-14T07:40:43.257888",
     "exception": false,
     "start_time": "2020-11-14T07:40:42.624649",
     "status": "completed"
    },
    "tags": []
   },
   "outputs": [
    {
     "name": "stdout",
     "output_type": "stream",
     "text": [
      "Training accuracy: 0.9258\n",
      "Training f1_score: 0.9259\n",
      "\n",
      "Testing accuracy: 0.8794\n",
      "Testing f1_score: 0.8796\n"
     ]
    }
   ],
   "source": [
    "print('Training accuracy: {:.4f}\\nTraining f1_score: {:.4f}'.format(acc_train, f1_train))\n",
    "print()\n",
    "print('Testing accuracy: {:.4f}\\nTesting f1_score: {:.4f}'.format(acc_test, f1_test))"
   ]
  },
  {
   "cell_type": "code",
   "execution_count": null,
   "metadata": {
    "papermill": {
     "duration": 0.62442,
     "end_time": "2020-11-14T07:40:44.517420",
     "exception": false,
     "start_time": "2020-11-14T07:40:43.893000",
     "status": "completed"
    },
    "tags": []
   },
   "outputs": [],
   "source": []
  },
  {
   "cell_type": "markdown",
   "metadata": {
    "papermill": {
     "duration": 0.633924,
     "end_time": "2020-11-14T07:40:45.768692",
     "exception": false,
     "start_time": "2020-11-14T07:40:45.134768",
     "status": "completed"
    },
    "tags": []
   },
   "source": [
    "## Our blended model seem to slightly perform better both CNN and LSTM whose f1_scores for the testting set are 0.85 and 0.876 repectively. Improved the LSTM's f1_score by 0.03."
   ]
  },
  {
   "cell_type": "code",
   "execution_count": null,
   "metadata": {
    "papermill": {
     "duration": 0.649227,
     "end_time": "2020-11-14T07:40:47.048247",
     "exception": false,
     "start_time": "2020-11-14T07:40:46.399020",
     "status": "completed"
    },
    "tags": []
   },
   "outputs": [],
   "source": []
  }
 ],
 "metadata": {
  "kernelspec": {
   "display_name": "Python 3",
   "language": "python",
   "name": "python3"
  },
  "language_info": {
   "codemirror_mode": {
    "name": "ipython",
    "version": 3
   },
   "file_extension": ".py",
   "mimetype": "text/x-python",
   "name": "python",
   "nbconvert_exporter": "python",
   "pygments_lexer": "ipython3",
   "version": "3.7.7"
  },
  "papermill": {
   "duration": 1484.916647,
   "end_time": "2020-11-14T07:40:49.231394",
   "environment_variables": {},
   "exception": null,
   "input_path": "__notebook__.ipynb",
   "output_path": "__notebook__.ipynb",
   "parameters": {},
   "start_time": "2020-11-14T07:16:04.314747",
   "version": "2.1.0"
  }
 },
 "nbformat": 4,
 "nbformat_minor": 4
}
