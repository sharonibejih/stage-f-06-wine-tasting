{
 "cells": [
  {
   "cell_type": "markdown",
   "metadata": {
    "papermill": {
     "duration": 0.091797,
     "end_time": "2020-11-08T02:18:00.245122",
     "exception": false,
     "start_time": "2020-11-08T02:18:00.153325",
     "status": "completed"
    },
    "tags": []
   },
   "source": [
    "# Modelling with MLP"
   ]
  },
  {
   "cell_type": "code",
   "execution_count": 1,
   "metadata": {
    "execution": {
     "iopub.execute_input": "2020-11-08T02:18:00.425545Z",
     "iopub.status.busy": "2020-11-08T02:18:00.424499Z",
     "iopub.status.idle": "2020-11-08T02:18:01.577787Z",
     "shell.execute_reply": "2020-11-08T02:18:01.577014Z"
    },
    "papermill": {
     "duration": 1.249364,
     "end_time": "2020-11-08T02:18:01.577928",
     "exception": false,
     "start_time": "2020-11-08T02:18:00.328564",
     "status": "completed"
    },
    "tags": []
   },
   "outputs": [],
   "source": [
    "# importing useful libraries\n",
    "import numpy as np\n",
    "import pandas as pd\n",
    "import matplotlib.pyplot as plt\n",
    "import seaborn as sns\n",
    "\n",
    "import warnings\n",
    "warnings.filterwarnings('ignore')\n",
    "\n",
    "%matplotlib inline"
   ]
  },
  {
   "cell_type": "markdown",
   "metadata": {
    "papermill": {
     "duration": 0.081003,
     "end_time": "2020-11-08T02:18:01.743803",
     "exception": false,
     "start_time": "2020-11-08T02:18:01.662800",
     "status": "completed"
    },
    "tags": []
   },
   "source": [
    "## Loading in our selected top varieties data "
   ]
  },
  {
   "cell_type": "code",
   "execution_count": 2,
   "metadata": {
    "execution": {
     "iopub.execute_input": "2020-11-08T02:18:01.918543Z",
     "iopub.status.busy": "2020-11-08T02:18:01.917462Z",
     "iopub.status.idle": "2020-11-08T02:18:03.231028Z",
     "shell.execute_reply": "2020-11-08T02:18:03.231755Z"
    },
    "papermill": {
     "duration": 1.406462,
     "end_time": "2020-11-08T02:18:03.231930",
     "exception": false,
     "start_time": "2020-11-08T02:18:01.825468",
     "status": "completed"
    },
    "tags": []
   },
   "outputs": [
    {
     "data": {
      "text/html": [
       "<div>\n",
       "<style scoped>\n",
       "    .dataframe tbody tr th:only-of-type {\n",
       "        vertical-align: middle;\n",
       "    }\n",
       "\n",
       "    .dataframe tbody tr th {\n",
       "        vertical-align: top;\n",
       "    }\n",
       "\n",
       "    .dataframe thead th {\n",
       "        text-align: right;\n",
       "    }\n",
       "</style>\n",
       "<table border=\"1\" class=\"dataframe\">\n",
       "  <thead>\n",
       "    <tr style=\"text-align: right;\">\n",
       "      <th></th>\n",
       "      <th>country</th>\n",
       "      <th>description</th>\n",
       "      <th>designation</th>\n",
       "      <th>points</th>\n",
       "      <th>price</th>\n",
       "      <th>province</th>\n",
       "      <th>region_1</th>\n",
       "      <th>region_2</th>\n",
       "      <th>taster_name</th>\n",
       "      <th>taster_twitter_handle</th>\n",
       "      <th>title</th>\n",
       "      <th>variety</th>\n",
       "      <th>winery</th>\n",
       "      <th>not_vintage</th>\n",
       "      <th>vintage</th>\n",
       "    </tr>\n",
       "  </thead>\n",
       "  <tbody>\n",
       "    <tr>\n",
       "      <th>0</th>\n",
       "      <td>Italy</td>\n",
       "      <td>Aromas include tropical fruit, broom, brimston...</td>\n",
       "      <td>Vulkà Bianco</td>\n",
       "      <td>87</td>\n",
       "      <td>NaN</td>\n",
       "      <td>Sicily &amp; Sardinia</td>\n",
       "      <td>Etna</td>\n",
       "      <td>NaN</td>\n",
       "      <td>Kerin O’Keefe</td>\n",
       "      <td>@kerinokeefe</td>\n",
       "      <td>Nicosia 2013 Vulkà Bianco  (Etna)</td>\n",
       "      <td>White Blend</td>\n",
       "      <td>Nicosia</td>\n",
       "      <td>Italy Vulkà Bianco Sicily &amp; Sardinia Etna Nicosia</td>\n",
       "      <td>2013.0</td>\n",
       "    </tr>\n",
       "    <tr>\n",
       "      <th>1</th>\n",
       "      <td>Portugal</td>\n",
       "      <td>This is ripe and fruity, a wine that is smooth...</td>\n",
       "      <td>Avidagos</td>\n",
       "      <td>87</td>\n",
       "      <td>15.0</td>\n",
       "      <td>Douro</td>\n",
       "      <td>NaN</td>\n",
       "      <td>NaN</td>\n",
       "      <td>Roger Voss</td>\n",
       "      <td>@vossroger</td>\n",
       "      <td>Quinta dos Avidagos 2011 Avidagos Red (Douro)</td>\n",
       "      <td>Portuguese Red</td>\n",
       "      <td>Quinta dos Avidagos</td>\n",
       "      <td>Portugal Avidagos Douro Quinta dos Avidagos</td>\n",
       "      <td>2011.0</td>\n",
       "    </tr>\n",
       "  </tbody>\n",
       "</table>\n",
       "</div>"
      ],
      "text/plain": [
       "    country                                        description   designation  \\\n",
       "0     Italy  Aromas include tropical fruit, broom, brimston...  Vulkà Bianco   \n",
       "1  Portugal  This is ripe and fruity, a wine that is smooth...      Avidagos   \n",
       "\n",
       "   points  price           province region_1 region_2    taster_name  \\\n",
       "0      87    NaN  Sicily & Sardinia     Etna      NaN  Kerin O’Keefe   \n",
       "1      87   15.0              Douro      NaN      NaN     Roger Voss   \n",
       "\n",
       "  taster_twitter_handle                                          title  \\\n",
       "0          @kerinokeefe              Nicosia 2013 Vulkà Bianco  (Etna)   \n",
       "1            @vossroger  Quinta dos Avidagos 2011 Avidagos Red (Douro)   \n",
       "\n",
       "          variety               winery  \\\n",
       "0     White Blend              Nicosia   \n",
       "1  Portuguese Red  Quinta dos Avidagos   \n",
       "\n",
       "                                         not_vintage  vintage  \n",
       "0  Italy Vulkà Bianco Sicily & Sardinia Etna Nicosia   2013.0  \n",
       "1        Portugal Avidagos Douro Quinta dos Avidagos   2011.0  "
      ]
     },
     "execution_count": 2,
     "metadata": {},
     "output_type": "execute_result"
    }
   ],
   "source": [
    "top_varieties_count = pd.read_csv('../input/wine-review-data-top-varieties/top_varieties_count.csv')\n",
    "top_40_varieties = pd.read_csv('../input/wine-review-data-top-varieties/top_40_varieties.csv')\n",
    "top_40_varieties.head(2)"
   ]
  },
  {
   "cell_type": "markdown",
   "metadata": {
    "papermill": {
     "duration": 0.082006,
     "end_time": "2020-11-08T02:18:03.398722",
     "exception": false,
     "start_time": "2020-11-08T02:18:03.316716",
     "status": "completed"
    },
    "tags": []
   },
   "source": [
    "### We know that in our dataset, *'United States of America'* is abrreviated as *'US'* and this will make our model to find it difficult to differentiate between the word *'us'* as a first person plural and as a country (after converting to lower case). We will solve this issue by replacing every occurence of *'US'* in ````country```` and ````not_vintage```` with *'United States of America'*."
   ]
  },
  {
   "cell_type": "code",
   "execution_count": 3,
   "metadata": {
    "execution": {
     "iopub.execute_input": "2020-11-08T02:18:03.588070Z",
     "iopub.status.busy": "2020-11-08T02:18:03.587249Z",
     "iopub.status.idle": "2020-11-08T02:18:03.623471Z",
     "shell.execute_reply": "2020-11-08T02:18:03.622657Z"
    },
    "papermill": {
     "duration": 0.142988,
     "end_time": "2020-11-08T02:18:03.623603",
     "exception": false,
     "start_time": "2020-11-08T02:18:03.480615",
     "status": "completed"
    },
    "tags": []
   },
   "outputs": [
    {
     "data": {
      "text/html": [
       "<div>\n",
       "<style scoped>\n",
       "    .dataframe tbody tr th:only-of-type {\n",
       "        vertical-align: middle;\n",
       "    }\n",
       "\n",
       "    .dataframe tbody tr th {\n",
       "        vertical-align: top;\n",
       "    }\n",
       "\n",
       "    .dataframe thead th {\n",
       "        text-align: right;\n",
       "    }\n",
       "</style>\n",
       "<table border=\"1\" class=\"dataframe\">\n",
       "  <thead>\n",
       "    <tr style=\"text-align: right;\">\n",
       "      <th></th>\n",
       "      <th>country</th>\n",
       "      <th>description</th>\n",
       "      <th>designation</th>\n",
       "      <th>points</th>\n",
       "      <th>price</th>\n",
       "      <th>province</th>\n",
       "      <th>region_1</th>\n",
       "      <th>region_2</th>\n",
       "      <th>taster_name</th>\n",
       "      <th>taster_twitter_handle</th>\n",
       "      <th>title</th>\n",
       "      <th>variety</th>\n",
       "      <th>winery</th>\n",
       "      <th>not_vintage</th>\n",
       "      <th>vintage</th>\n",
       "    </tr>\n",
       "  </thead>\n",
       "  <tbody>\n",
       "    <tr>\n",
       "      <th>2</th>\n",
       "      <td>US</td>\n",
       "      <td>Tart and snappy, the flavors of lime flesh and...</td>\n",
       "      <td>NaN</td>\n",
       "      <td>87</td>\n",
       "      <td>14.0</td>\n",
       "      <td>Oregon</td>\n",
       "      <td>Willamette Valley</td>\n",
       "      <td>Willamette Valley</td>\n",
       "      <td>Paul Gregutt</td>\n",
       "      <td>@paulgwine</td>\n",
       "      <td>Rainstorm 2013 Pinot Gris (Willamette Valley)</td>\n",
       "      <td>Pinot Gris</td>\n",
       "      <td>Rainstorm</td>\n",
       "      <td>US Oregon Willamette Valley Willamette Valley ...</td>\n",
       "      <td>2013.0</td>\n",
       "    </tr>\n",
       "    <tr>\n",
       "      <th>3</th>\n",
       "      <td>US</td>\n",
       "      <td>Pineapple rind, lemon pith and orange blossom ...</td>\n",
       "      <td>Reserve Late Harvest</td>\n",
       "      <td>87</td>\n",
       "      <td>13.0</td>\n",
       "      <td>Michigan</td>\n",
       "      <td>Lake Michigan Shore</td>\n",
       "      <td>NaN</td>\n",
       "      <td>Alexander Peartree</td>\n",
       "      <td>NaN</td>\n",
       "      <td>St. Julian 2013 Reserve Late Harvest Riesling ...</td>\n",
       "      <td>Riesling</td>\n",
       "      <td>St. Julian</td>\n",
       "      <td>US Reserve Late Harvest Michigan Lake Michigan...</td>\n",
       "      <td>2013.0</td>\n",
       "    </tr>\n",
       "  </tbody>\n",
       "</table>\n",
       "</div>"
      ],
      "text/plain": [
       "  country                                        description  \\\n",
       "2      US  Tart and snappy, the flavors of lime flesh and...   \n",
       "3      US  Pineapple rind, lemon pith and orange blossom ...   \n",
       "\n",
       "            designation  points  price  province             region_1  \\\n",
       "2                   NaN      87   14.0    Oregon    Willamette Valley   \n",
       "3  Reserve Late Harvest      87   13.0  Michigan  Lake Michigan Shore   \n",
       "\n",
       "            region_2         taster_name taster_twitter_handle  \\\n",
       "2  Willamette Valley        Paul Gregutt           @paulgwine    \n",
       "3                NaN  Alexander Peartree                   NaN   \n",
       "\n",
       "                                               title     variety      winery  \\\n",
       "2      Rainstorm 2013 Pinot Gris (Willamette Valley)  Pinot Gris   Rainstorm   \n",
       "3  St. Julian 2013 Reserve Late Harvest Riesling ...    Riesling  St. Julian   \n",
       "\n",
       "                                         not_vintage  vintage  \n",
       "2  US Oregon Willamette Valley Willamette Valley ...   2013.0  \n",
       "3  US Reserve Late Harvest Michigan Lake Michigan...   2013.0  "
      ]
     },
     "execution_count": 3,
     "metadata": {},
     "output_type": "execute_result"
    }
   ],
   "source": [
    "top_40_varieties[top_40_varieties['country'] == 'US'].head(2) # a view of wine review data of US"
   ]
  },
  {
   "cell_type": "code",
   "execution_count": 4,
   "metadata": {
    "execution": {
     "iopub.execute_input": "2020-11-08T02:18:03.797853Z",
     "iopub.status.busy": "2020-11-08T02:18:03.796984Z",
     "iopub.status.idle": "2020-11-08T02:18:03.847277Z",
     "shell.execute_reply": "2020-11-08T02:18:03.846481Z"
    },
    "papermill": {
     "duration": 0.140117,
     "end_time": "2020-11-08T02:18:03.847411",
     "exception": false,
     "start_time": "2020-11-08T02:18:03.707294",
     "status": "completed"
    },
    "tags": []
   },
   "outputs": [
    {
     "data": {
      "text/plain": [
       "50734"
      ]
     },
     "execution_count": 4,
     "metadata": {},
     "output_type": "execute_result"
    }
   ],
   "source": [
    "top_40_varieties['not_vintage'].apply(lambda x: 'US' in x).sum() # checks the number of rows with US"
   ]
  },
  {
   "cell_type": "code",
   "execution_count": 5,
   "metadata": {
    "execution": {
     "iopub.execute_input": "2020-11-08T02:18:04.043875Z",
     "iopub.status.busy": "2020-11-08T02:18:04.036951Z",
     "iopub.status.idle": "2020-11-08T02:18:04.115035Z",
     "shell.execute_reply": "2020-11-08T02:18:04.114346Z"
    },
    "papermill": {
     "duration": 0.182091,
     "end_time": "2020-11-08T02:18:04.115166",
     "exception": false,
     "start_time": "2020-11-08T02:18:03.933075",
     "status": "completed"
    },
    "tags": []
   },
   "outputs": [],
   "source": [
    "# replacing every occurence of 'US' in country with 'United States of America'\n",
    "top_40_varieties['country'].replace('US', 'United States of America', inplace=True)\n",
    "\n",
    "# replacing every occurence of 'US' in not_vintage with 'United States of America'\n",
    "top_40_varieties['not_vintage'] = top_40_varieties['not_vintage'].apply(lambda x: x.replace(\\\n",
    "                                                                        'US', 'United States of America'))"
   ]
  },
  {
   "cell_type": "code",
   "execution_count": 6,
   "metadata": {
    "execution": {
     "iopub.execute_input": "2020-11-08T02:18:04.312659Z",
     "iopub.status.busy": "2020-11-08T02:18:04.311802Z",
     "iopub.status.idle": "2020-11-08T02:18:04.346513Z",
     "shell.execute_reply": "2020-11-08T02:18:04.345853Z"
    },
    "papermill": {
     "duration": 0.147274,
     "end_time": "2020-11-08T02:18:04.346651",
     "exception": false,
     "start_time": "2020-11-08T02:18:04.199377",
     "status": "completed"
    },
    "tags": []
   },
   "outputs": [
    {
     "data": {
      "text/html": [
       "<div>\n",
       "<style scoped>\n",
       "    .dataframe tbody tr th:only-of-type {\n",
       "        vertical-align: middle;\n",
       "    }\n",
       "\n",
       "    .dataframe tbody tr th {\n",
       "        vertical-align: top;\n",
       "    }\n",
       "\n",
       "    .dataframe thead th {\n",
       "        text-align: right;\n",
       "    }\n",
       "</style>\n",
       "<table border=\"1\" class=\"dataframe\">\n",
       "  <thead>\n",
       "    <tr style=\"text-align: right;\">\n",
       "      <th></th>\n",
       "      <th>country</th>\n",
       "      <th>description</th>\n",
       "      <th>designation</th>\n",
       "      <th>points</th>\n",
       "      <th>price</th>\n",
       "      <th>province</th>\n",
       "      <th>region_1</th>\n",
       "      <th>region_2</th>\n",
       "      <th>taster_name</th>\n",
       "      <th>taster_twitter_handle</th>\n",
       "      <th>title</th>\n",
       "      <th>variety</th>\n",
       "      <th>winery</th>\n",
       "      <th>not_vintage</th>\n",
       "      <th>vintage</th>\n",
       "    </tr>\n",
       "  </thead>\n",
       "  <tbody>\n",
       "    <tr>\n",
       "      <th>2</th>\n",
       "      <td>United States of America</td>\n",
       "      <td>Tart and snappy, the flavors of lime flesh and...</td>\n",
       "      <td>NaN</td>\n",
       "      <td>87</td>\n",
       "      <td>14.0</td>\n",
       "      <td>Oregon</td>\n",
       "      <td>Willamette Valley</td>\n",
       "      <td>Willamette Valley</td>\n",
       "      <td>Paul Gregutt</td>\n",
       "      <td>@paulgwine</td>\n",
       "      <td>Rainstorm 2013 Pinot Gris (Willamette Valley)</td>\n",
       "      <td>Pinot Gris</td>\n",
       "      <td>Rainstorm</td>\n",
       "      <td>United States of America Oregon Willamette Val...</td>\n",
       "      <td>2013.0</td>\n",
       "    </tr>\n",
       "    <tr>\n",
       "      <th>3</th>\n",
       "      <td>United States of America</td>\n",
       "      <td>Pineapple rind, lemon pith and orange blossom ...</td>\n",
       "      <td>Reserve Late Harvest</td>\n",
       "      <td>87</td>\n",
       "      <td>13.0</td>\n",
       "      <td>Michigan</td>\n",
       "      <td>Lake Michigan Shore</td>\n",
       "      <td>NaN</td>\n",
       "      <td>Alexander Peartree</td>\n",
       "      <td>NaN</td>\n",
       "      <td>St. Julian 2013 Reserve Late Harvest Riesling ...</td>\n",
       "      <td>Riesling</td>\n",
       "      <td>St. Julian</td>\n",
       "      <td>United States of America Reserve Late Harvest ...</td>\n",
       "      <td>2013.0</td>\n",
       "    </tr>\n",
       "  </tbody>\n",
       "</table>\n",
       "</div>"
      ],
      "text/plain": [
       "                    country  \\\n",
       "2  United States of America   \n",
       "3  United States of America   \n",
       "\n",
       "                                         description           designation  \\\n",
       "2  Tart and snappy, the flavors of lime flesh and...                   NaN   \n",
       "3  Pineapple rind, lemon pith and orange blossom ...  Reserve Late Harvest   \n",
       "\n",
       "   points  price  province             region_1           region_2  \\\n",
       "2      87   14.0    Oregon    Willamette Valley  Willamette Valley   \n",
       "3      87   13.0  Michigan  Lake Michigan Shore                NaN   \n",
       "\n",
       "          taster_name taster_twitter_handle  \\\n",
       "2        Paul Gregutt           @paulgwine    \n",
       "3  Alexander Peartree                   NaN   \n",
       "\n",
       "                                               title     variety      winery  \\\n",
       "2      Rainstorm 2013 Pinot Gris (Willamette Valley)  Pinot Gris   Rainstorm   \n",
       "3  St. Julian 2013 Reserve Late Harvest Riesling ...    Riesling  St. Julian   \n",
       "\n",
       "                                         not_vintage  vintage  \n",
       "2  United States of America Oregon Willamette Val...   2013.0  \n",
       "3  United States of America Reserve Late Harvest ...   2013.0  "
      ]
     },
     "execution_count": 6,
     "metadata": {},
     "output_type": "execute_result"
    }
   ],
   "source": [
    "top_40_varieties[top_40_varieties['country'] == 'United States of America'].head(2) # a view of the dataset"
   ]
  },
  {
   "cell_type": "code",
   "execution_count": 7,
   "metadata": {
    "execution": {
     "iopub.execute_input": "2020-11-08T02:18:04.525590Z",
     "iopub.status.busy": "2020-11-08T02:18:04.524783Z",
     "iopub.status.idle": "2020-11-08T02:18:04.576552Z",
     "shell.execute_reply": "2020-11-08T02:18:04.575739Z"
    },
    "papermill": {
     "duration": 0.144428,
     "end_time": "2020-11-08T02:18:04.576680",
     "exception": false,
     "start_time": "2020-11-08T02:18:04.432252",
     "status": "completed"
    },
    "tags": []
   },
   "outputs": [],
   "source": [
    "# asserting that there is no occurence of 'US' in country and not_vintage\n",
    "assert 'US' not in top_40_varieties['country']\n",
    "assert top_40_varieties['not_vintage'].apply(lambda x: 'US' in x).sum() == 0  "
   ]
  },
  {
   "cell_type": "code",
   "execution_count": 8,
   "metadata": {
    "execution": {
     "iopub.execute_input": "2020-11-08T02:18:04.760501Z",
     "iopub.status.busy": "2020-11-08T02:18:04.759640Z",
     "iopub.status.idle": "2020-11-08T02:18:04.764602Z",
     "shell.execute_reply": "2020-11-08T02:18:04.763926Z"
    },
    "papermill": {
     "duration": 0.102361,
     "end_time": "2020-11-08T02:18:04.764733",
     "exception": false,
     "start_time": "2020-11-08T02:18:04.662372",
     "status": "completed"
    },
    "tags": []
   },
   "outputs": [
    {
     "data": {
      "text/plain": [
       "variety\n",
       "Pinot Noir                       13272\n",
       "Chardonnay                       11753\n",
       "Cabernet Sauvignon                9472\n",
       "Red Blend                         8946\n",
       "Bordeaux-style Red Blend          6915\n",
       "Riesling                          5189\n",
       "Sauvignon Blanc                   4967\n",
       "Syrah                             4142\n",
       "Rosé                              3564\n",
       "Merlot                            3102\n",
       "Nebbiolo                          2804\n",
       "Zinfandel                         2714\n",
       "Sangiovese                        2707\n",
       "Malbec                            2652\n",
       "Portuguese Red                    2466\n",
       "White Blend                       2360\n",
       "Sparkling Blend                   2153\n",
       "Tempranillo                       1810\n",
       "Rhône-style Red Blend             1471\n",
       "Pinot Gris                        1455\n",
       "Champagne Blend                   1396\n",
       "Cabernet Franc                    1353\n",
       "Grüner Veltliner                  1345\n",
       "Portuguese White                  1159\n",
       "Bordeaux-style White Blend        1066\n",
       "Pinot Grigio                      1052\n",
       "Gamay                             1025\n",
       "Gewürztraminer                    1012\n",
       "Viognier                           996\n",
       "Shiraz                             836\n",
       "Petite Sirah                       770\n",
       "Sangiovese Grosso                  751\n",
       "Barbera                            721\n",
       "Glera                              709\n",
       "Port                               668\n",
       "Grenache                           651\n",
       "Corvina, Rondinella, Molinara      619\n",
       "Chenin Blanc                       591\n",
       "Tempranillo Blend                  588\n",
       "Carmenère                          575\n",
       "Name: count, dtype: int64"
      ]
     },
     "execution_count": 8,
     "metadata": {},
     "output_type": "execute_result"
    }
   ],
   "source": [
    "# renaming the columns in top_varieties_count\n",
    "top_varieties_count = top_varieties_count.rename(columns={'variety': 'count', 'Unnamed: 0': 'variety'})\n",
    "top_varieties_count = top_varieties_count.set_index('variety') # setting the index\n",
    "top_varieties_count = top_varieties_count['count'] # making it a Series\n",
    "top_varieties_count"
   ]
  },
  {
   "cell_type": "code",
   "execution_count": 9,
   "metadata": {
    "execution": {
     "iopub.execute_input": "2020-11-08T02:18:04.959020Z",
     "iopub.status.busy": "2020-11-08T02:18:04.958203Z",
     "iopub.status.idle": "2020-11-08T02:18:05.030384Z",
     "shell.execute_reply": "2020-11-08T02:18:05.031052Z"
    },
    "papermill": {
     "duration": 0.180465,
     "end_time": "2020-11-08T02:18:05.031245",
     "exception": false,
     "start_time": "2020-11-08T02:18:04.850780",
     "status": "completed"
    },
    "tags": []
   },
   "outputs": [
    {
     "name": "stdout",
     "output_type": "stream",
     "text": [
      "percentage of initial 130k dataframe is 72%\n",
      "20\n"
     ]
    },
    {
     "data": {
      "text/html": [
       "<div>\n",
       "<style scoped>\n",
       "    .dataframe tbody tr th:only-of-type {\n",
       "        vertical-align: middle;\n",
       "    }\n",
       "\n",
       "    .dataframe tbody tr th {\n",
       "        vertical-align: top;\n",
       "    }\n",
       "\n",
       "    .dataframe thead th {\n",
       "        text-align: right;\n",
       "    }\n",
       "</style>\n",
       "<table border=\"1\" class=\"dataframe\">\n",
       "  <thead>\n",
       "    <tr style=\"text-align: right;\">\n",
       "      <th></th>\n",
       "      <th>country</th>\n",
       "      <th>description</th>\n",
       "      <th>designation</th>\n",
       "      <th>points</th>\n",
       "      <th>price</th>\n",
       "      <th>province</th>\n",
       "      <th>region_1</th>\n",
       "      <th>region_2</th>\n",
       "      <th>taster_name</th>\n",
       "      <th>taster_twitter_handle</th>\n",
       "      <th>title</th>\n",
       "      <th>variety</th>\n",
       "      <th>winery</th>\n",
       "      <th>not_vintage</th>\n",
       "      <th>vintage</th>\n",
       "    </tr>\n",
       "  </thead>\n",
       "  <tbody>\n",
       "    <tr>\n",
       "      <th>0</th>\n",
       "      <td>Italy</td>\n",
       "      <td>Aromas include tropical fruit, broom, brimston...</td>\n",
       "      <td>Vulkà Bianco</td>\n",
       "      <td>87</td>\n",
       "      <td>NaN</td>\n",
       "      <td>Sicily &amp; Sardinia</td>\n",
       "      <td>Etna</td>\n",
       "      <td>NaN</td>\n",
       "      <td>Kerin O’Keefe</td>\n",
       "      <td>@kerinokeefe</td>\n",
       "      <td>Nicosia 2013 Vulkà Bianco  (Etna)</td>\n",
       "      <td>White Blend</td>\n",
       "      <td>Nicosia</td>\n",
       "      <td>Italy Vulkà Bianco Sicily &amp; Sardinia Etna Nicosia</td>\n",
       "      <td>2013.0</td>\n",
       "    </tr>\n",
       "    <tr>\n",
       "      <th>1</th>\n",
       "      <td>Portugal</td>\n",
       "      <td>This is ripe and fruity, a wine that is smooth...</td>\n",
       "      <td>Avidagos</td>\n",
       "      <td>87</td>\n",
       "      <td>15.0</td>\n",
       "      <td>Douro</td>\n",
       "      <td>NaN</td>\n",
       "      <td>NaN</td>\n",
       "      <td>Roger Voss</td>\n",
       "      <td>@vossroger</td>\n",
       "      <td>Quinta dos Avidagos 2011 Avidagos Red (Douro)</td>\n",
       "      <td>Portuguese Red</td>\n",
       "      <td>Quinta dos Avidagos</td>\n",
       "      <td>Portugal Avidagos Douro Quinta dos Avidagos</td>\n",
       "      <td>2011.0</td>\n",
       "    </tr>\n",
       "  </tbody>\n",
       "</table>\n",
       "</div>"
      ],
      "text/plain": [
       "    country                                        description   designation  \\\n",
       "0     Italy  Aromas include tropical fruit, broom, brimston...  Vulkà Bianco   \n",
       "1  Portugal  This is ripe and fruity, a wine that is smooth...      Avidagos   \n",
       "\n",
       "   points  price           province region_1 region_2    taster_name  \\\n",
       "0      87    NaN  Sicily & Sardinia     Etna      NaN  Kerin O’Keefe   \n",
       "1      87   15.0              Douro      NaN      NaN     Roger Voss   \n",
       "\n",
       "  taster_twitter_handle                                          title  \\\n",
       "0          @kerinokeefe              Nicosia 2013 Vulkà Bianco  (Etna)   \n",
       "1            @vossroger  Quinta dos Avidagos 2011 Avidagos Red (Douro)   \n",
       "\n",
       "          variety               winery  \\\n",
       "0     White Blend              Nicosia   \n",
       "1  Portuguese Red  Quinta dos Avidagos   \n",
       "\n",
       "                                         not_vintage  vintage  \n",
       "0  Italy Vulkà Bianco Sicily & Sardinia Etna Nicosia   2013.0  \n",
       "1        Portugal Avidagos Douro Quinta dos Avidagos   2011.0  "
      ]
     },
     "execution_count": 9,
     "metadata": {},
     "output_type": "execute_result"
    }
   ],
   "source": [
    "top = 20 # selecting top 20 varities as our working varieties. note 1 < n <= 40\n",
    "\n",
    "# making a datframe of our selecting top n varieties\n",
    "top_df = top_40_varieties[top_40_varieties['variety'].isin(top_varieties_count.iloc[:top].index)]\n",
    "print('percentage of initial 130k dataframe is {}%'.format(72))\n",
    "print(len(top_df['variety'].unique()))\n",
    "top_df.head(2)"
   ]
  },
  {
   "cell_type": "code",
   "execution_count": 10,
   "metadata": {
    "execution": {
     "iopub.execute_input": "2020-11-08T02:18:05.237346Z",
     "iopub.status.busy": "2020-11-08T02:18:05.236372Z",
     "iopub.status.idle": "2020-11-08T02:18:05.308427Z",
     "shell.execute_reply": "2020-11-08T02:18:05.307761Z"
    },
    "papermill": {
     "duration": 0.173162,
     "end_time": "2020-11-08T02:18:05.308562",
     "exception": false,
     "start_time": "2020-11-08T02:18:05.135400",
     "status": "completed"
    },
    "tags": []
   },
   "outputs": [
    {
     "name": "stdout",
     "output_type": "stream",
     "text": [
      "(38367, 15)\n",
      "14\n"
     ]
    },
    {
     "data": {
      "text/html": [
       "<div>\n",
       "<style scoped>\n",
       "    .dataframe tbody tr th:only-of-type {\n",
       "        vertical-align: middle;\n",
       "    }\n",
       "\n",
       "    .dataframe tbody tr th {\n",
       "        vertical-align: top;\n",
       "    }\n",
       "\n",
       "    .dataframe thead th {\n",
       "        text-align: right;\n",
       "    }\n",
       "</style>\n",
       "<table border=\"1\" class=\"dataframe\">\n",
       "  <thead>\n",
       "    <tr style=\"text-align: right;\">\n",
       "      <th></th>\n",
       "      <th>country</th>\n",
       "      <th>description</th>\n",
       "      <th>designation</th>\n",
       "      <th>points</th>\n",
       "      <th>price</th>\n",
       "      <th>province</th>\n",
       "      <th>region_1</th>\n",
       "      <th>region_2</th>\n",
       "      <th>taster_name</th>\n",
       "      <th>taster_twitter_handle</th>\n",
       "      <th>title</th>\n",
       "      <th>variety</th>\n",
       "      <th>winery</th>\n",
       "      <th>not_vintage</th>\n",
       "      <th>vintage</th>\n",
       "    </tr>\n",
       "  </thead>\n",
       "  <tbody>\n",
       "    <tr>\n",
       "      <th>0</th>\n",
       "      <td>Italy</td>\n",
       "      <td>Aromas include tropical fruit, broom, brimston...</td>\n",
       "      <td>Vulkà Bianco</td>\n",
       "      <td>87</td>\n",
       "      <td>NaN</td>\n",
       "      <td>Sicily &amp; Sardinia</td>\n",
       "      <td>Etna</td>\n",
       "      <td>NaN</td>\n",
       "      <td>Kerin O’Keefe</td>\n",
       "      <td>@kerinokeefe</td>\n",
       "      <td>Nicosia 2013 Vulkà Bianco  (Etna)</td>\n",
       "      <td>White Blend</td>\n",
       "      <td>Nicosia</td>\n",
       "      <td>Italy Vulkà Bianco Sicily &amp; Sardinia Etna Nicosia</td>\n",
       "      <td>2013.0</td>\n",
       "    </tr>\n",
       "    <tr>\n",
       "      <th>1</th>\n",
       "      <td>Portugal</td>\n",
       "      <td>This is ripe and fruity, a wine that is smooth...</td>\n",
       "      <td>Avidagos</td>\n",
       "      <td>87</td>\n",
       "      <td>15.0</td>\n",
       "      <td>Douro</td>\n",
       "      <td>NaN</td>\n",
       "      <td>NaN</td>\n",
       "      <td>Roger Voss</td>\n",
       "      <td>@vossroger</td>\n",
       "      <td>Quinta dos Avidagos 2011 Avidagos Red (Douro)</td>\n",
       "      <td>Portuguese Red</td>\n",
       "      <td>Quinta dos Avidagos</td>\n",
       "      <td>Portugal Avidagos Douro Quinta dos Avidagos</td>\n",
       "      <td>2011.0</td>\n",
       "    </tr>\n",
       "  </tbody>\n",
       "</table>\n",
       "</div>"
      ],
      "text/plain": [
       "    country                                        description   designation  \\\n",
       "0     Italy  Aromas include tropical fruit, broom, brimston...  Vulkà Bianco   \n",
       "1  Portugal  This is ripe and fruity, a wine that is smooth...      Avidagos   \n",
       "\n",
       "   points  price           province region_1 region_2    taster_name  \\\n",
       "0      87    NaN  Sicily & Sardinia     Etna      NaN  Kerin O’Keefe   \n",
       "1      87   15.0              Douro      NaN      NaN     Roger Voss   \n",
       "\n",
       "  taster_twitter_handle                                          title  \\\n",
       "0          @kerinokeefe              Nicosia 2013 Vulkà Bianco  (Etna)   \n",
       "1            @vossroger  Quinta dos Avidagos 2011 Avidagos Red (Douro)   \n",
       "\n",
       "          variety               winery  \\\n",
       "0     White Blend              Nicosia   \n",
       "1  Portuguese Red  Quinta dos Avidagos   \n",
       "\n",
       "                                         not_vintage  vintage  \n",
       "0  Italy Vulkà Bianco Sicily & Sardinia Etna Nicosia   2013.0  \n",
       "1        Portugal Avidagos Douro Quinta dos Avidagos   2011.0  "
      ]
     },
     "execution_count": 10,
     "metadata": {},
     "output_type": "execute_result"
    }
   ],
   "source": [
    "# threshold of miniority variety to over sample (use sentences as document instead of the whole description)\n",
    "minority_threshold = 5000 \n",
    "\n",
    "# making a dataframe of the miniority classes\n",
    "minority_df = top_df[top_df['variety'].isin(top_varieties_count[top_varieties_count < \\\n",
    "                                                                      minority_threshold].index)]\n",
    "print(minority_df.shape)\n",
    "print(len(minority_df['variety'].unique()))\n",
    "minority_df.head(2)"
   ]
  },
  {
   "cell_type": "markdown",
   "metadata": {
    "papermill": {
     "duration": 0.090081,
     "end_time": "2020-11-08T02:18:05.486804",
     "exception": false,
     "start_time": "2020-11-08T02:18:05.396723",
     "status": "completed"
    },
    "tags": []
   },
   "source": [
    "### nltk and spacy are the two most popular libraries in NLP. We will just use nltk to tokenize sentences in our miniority class but for our heavy weight preprocessing, we will use spacy because it is mostly used in industries and has wealth of functionalities."
   ]
  },
  {
   "cell_type": "code",
   "execution_count": 11,
   "metadata": {
    "execution": {
     "iopub.execute_input": "2020-11-08T02:18:05.674071Z",
     "iopub.status.busy": "2020-11-08T02:18:05.673191Z",
     "iopub.status.idle": "2020-11-08T02:18:06.591657Z",
     "shell.execute_reply": "2020-11-08T02:18:06.590842Z"
    },
    "papermill": {
     "duration": 1.012914,
     "end_time": "2020-11-08T02:18:06.591784",
     "exception": false,
     "start_time": "2020-11-08T02:18:05.578870",
     "status": "completed"
    },
    "tags": []
   },
   "outputs": [],
   "source": [
    "from nltk.tokenize import sent_tokenize # importing useful library"
   ]
  },
  {
   "cell_type": "code",
   "execution_count": 12,
   "metadata": {
    "execution": {
     "iopub.execute_input": "2020-11-08T02:18:06.787063Z",
     "iopub.status.busy": "2020-11-08T02:18:06.786073Z",
     "iopub.status.idle": "2020-11-08T02:18:06.789547Z",
     "shell.execute_reply": "2020-11-08T02:18:06.788795Z"
    },
    "papermill": {
     "duration": 0.106974,
     "end_time": "2020-11-08T02:18:06.789678",
     "exception": false,
     "start_time": "2020-11-08T02:18:06.682704",
     "status": "completed"
    },
    "tags": []
   },
   "outputs": [],
   "source": [
    "oversampled_miniority_lst = [] # empty list to store sentences as tokens miniority corpus\n",
    "\n",
    "# creating a function to use sentences as tokens for the miniority classes\n",
    "def over_sample_miniority(row):\n",
    "    doc_list = sent_tokenize(row['description'])\n",
    "    for sent in doc_list:\n",
    "        row['description'] = sent\n",
    "        oversampled_miniority_lst.append(list(row))"
   ]
  },
  {
   "cell_type": "code",
   "execution_count": 13,
   "metadata": {
    "execution": {
     "iopub.execute_input": "2020-11-08T02:18:06.979578Z",
     "iopub.status.busy": "2020-11-08T02:18:06.978697Z",
     "iopub.status.idle": "2020-11-08T02:18:17.662042Z",
     "shell.execute_reply": "2020-11-08T02:18:17.661196Z"
    },
    "papermill": {
     "duration": 10.780798,
     "end_time": "2020-11-08T02:18:17.662179",
     "exception": false,
     "start_time": "2020-11-08T02:18:06.881381",
     "status": "completed"
    },
    "tags": []
   },
   "outputs": [],
   "source": [
    "minority_df.apply(over_sample_miniority, axis=1); # over sample the miniority classes"
   ]
  },
  {
   "cell_type": "code",
   "execution_count": 14,
   "metadata": {
    "execution": {
     "iopub.execute_input": "2020-11-08T02:18:17.849295Z",
     "iopub.status.busy": "2020-11-08T02:18:17.848437Z",
     "iopub.status.idle": "2020-11-08T02:18:18.133433Z",
     "shell.execute_reply": "2020-11-08T02:18:18.134055Z"
    },
    "papermill": {
     "duration": 0.380749,
     "end_time": "2020-11-08T02:18:18.134214",
     "exception": false,
     "start_time": "2020-11-08T02:18:17.753465",
     "status": "completed"
    },
    "tags": []
   },
   "outputs": [
    {
     "name": "stdout",
     "output_type": "stream",
     "text": [
      "(104101, 15)\n"
     ]
    },
    {
     "data": {
      "text/html": [
       "<div>\n",
       "<style scoped>\n",
       "    .dataframe tbody tr th:only-of-type {\n",
       "        vertical-align: middle;\n",
       "    }\n",
       "\n",
       "    .dataframe tbody tr th {\n",
       "        vertical-align: top;\n",
       "    }\n",
       "\n",
       "    .dataframe thead th {\n",
       "        text-align: right;\n",
       "    }\n",
       "</style>\n",
       "<table border=\"1\" class=\"dataframe\">\n",
       "  <thead>\n",
       "    <tr style=\"text-align: right;\">\n",
       "      <th></th>\n",
       "      <th>country</th>\n",
       "      <th>description</th>\n",
       "      <th>designation</th>\n",
       "      <th>points</th>\n",
       "      <th>price</th>\n",
       "      <th>province</th>\n",
       "      <th>region_1</th>\n",
       "      <th>region_2</th>\n",
       "      <th>taster_name</th>\n",
       "      <th>taster_twitter_handle</th>\n",
       "      <th>title</th>\n",
       "      <th>variety</th>\n",
       "      <th>winery</th>\n",
       "      <th>not_vintage</th>\n",
       "      <th>vintage</th>\n",
       "    </tr>\n",
       "  </thead>\n",
       "  <tbody>\n",
       "    <tr>\n",
       "      <th>0</th>\n",
       "      <td>Italy</td>\n",
       "      <td>Aromas include tropical fruit, broom, brimston...</td>\n",
       "      <td>Vulkà Bianco</td>\n",
       "      <td>87</td>\n",
       "      <td>NaN</td>\n",
       "      <td>Sicily &amp; Sardinia</td>\n",
       "      <td>Etna</td>\n",
       "      <td>NaN</td>\n",
       "      <td>Kerin O’Keefe</td>\n",
       "      <td>@kerinokeefe</td>\n",
       "      <td>Nicosia 2013 Vulkà Bianco  (Etna)</td>\n",
       "      <td>White Blend</td>\n",
       "      <td>Nicosia</td>\n",
       "      <td>Italy Vulkà Bianco Sicily &amp; Sardinia Etna Nicosia</td>\n",
       "      <td>2013.0</td>\n",
       "    </tr>\n",
       "    <tr>\n",
       "      <th>1</th>\n",
       "      <td>Italy</td>\n",
       "      <td>The palate isn't overly expressive, offering u...</td>\n",
       "      <td>Vulkà Bianco</td>\n",
       "      <td>87</td>\n",
       "      <td>NaN</td>\n",
       "      <td>Sicily &amp; Sardinia</td>\n",
       "      <td>Etna</td>\n",
       "      <td>NaN</td>\n",
       "      <td>Kerin O’Keefe</td>\n",
       "      <td>@kerinokeefe</td>\n",
       "      <td>Nicosia 2013 Vulkà Bianco  (Etna)</td>\n",
       "      <td>White Blend</td>\n",
       "      <td>Nicosia</td>\n",
       "      <td>Italy Vulkà Bianco Sicily &amp; Sardinia Etna Nicosia</td>\n",
       "      <td>2013.0</td>\n",
       "    </tr>\n",
       "  </tbody>\n",
       "</table>\n",
       "</div>"
      ],
      "text/plain": [
       "  country                                        description   designation  \\\n",
       "0   Italy  Aromas include tropical fruit, broom, brimston...  Vulkà Bianco   \n",
       "1   Italy  The palate isn't overly expressive, offering u...  Vulkà Bianco   \n",
       "\n",
       "   points  price           province region_1 region_2    taster_name  \\\n",
       "0      87    NaN  Sicily & Sardinia     Etna      NaN  Kerin O’Keefe   \n",
       "1      87    NaN  Sicily & Sardinia     Etna      NaN  Kerin O’Keefe   \n",
       "\n",
       "  taster_twitter_handle                              title      variety  \\\n",
       "0          @kerinokeefe  Nicosia 2013 Vulkà Bianco  (Etna)  White Blend   \n",
       "1          @kerinokeefe  Nicosia 2013 Vulkà Bianco  (Etna)  White Blend   \n",
       "\n",
       "    winery                                        not_vintage  vintage  \n",
       "0  Nicosia  Italy Vulkà Bianco Sicily & Sardinia Etna Nicosia   2013.0  \n",
       "1  Nicosia  Italy Vulkà Bianco Sicily & Sardinia Etna Nicosia   2013.0  "
      ]
     },
     "execution_count": 14,
     "metadata": {},
     "output_type": "execute_result"
    }
   ],
   "source": [
    "# converts oversampled_miniority_lst to a dataframe\n",
    "oversampled_miniority_df = pd.DataFrame(oversampled_miniority_lst, columns=minority_df.columns)\n",
    "print(oversampled_miniority_df.shape)\n",
    "oversampled_miniority_df.head(2)"
   ]
  },
  {
   "cell_type": "code",
   "execution_count": 15,
   "metadata": {
    "execution": {
     "iopub.execute_input": "2020-11-08T02:18:18.325753Z",
     "iopub.status.busy": "2020-11-08T02:18:18.324626Z",
     "iopub.status.idle": "2020-11-08T02:18:18.329346Z",
     "shell.execute_reply": "2020-11-08T02:18:18.328688Z"
    },
    "papermill": {
     "duration": 0.102871,
     "end_time": "2020-11-08T02:18:18.329488",
     "exception": false,
     "start_time": "2020-11-08T02:18:18.226617",
     "status": "completed"
    },
    "tags": []
   },
   "outputs": [
    {
     "data": {
      "text/plain": [
       "array(['Aromas include tropical fruit, broom, brimstone and dried herb.',\n",
       "       \"The palate isn't overly expressive, offering unripened apple, citrus and dried sage alongside brisk acidity.\",\n",
       "       'This is ripe and fruity, a wine that is smooth while still structured.',\n",
       "       'Firm tannins are filled out with juicy red berry fruits and freshened with acidity.',\n",
       "       \"It's  already drinkable, although it will certainly be better from 2016.\"],\n",
       "      dtype=object)"
      ]
     },
     "execution_count": 15,
     "metadata": {},
     "output_type": "execute_result"
    }
   ],
   "source": [
    "# a view at the new descriptions of the oversampled miniority classes\n",
    "oversampled_miniority_df['description'][:5].values"
   ]
  },
  {
   "cell_type": "markdown",
   "metadata": {
    "papermill": {
     "duration": 0.090004,
     "end_time": "2020-11-08T02:18:18.511127",
     "exception": false,
     "start_time": "2020-11-08T02:18:18.421123",
     "status": "completed"
    },
    "tags": []
   },
   "source": [
    "### we see that sentences are counted as tokens instead of the whole review"
   ]
  },
  {
   "cell_type": "code",
   "execution_count": 16,
   "metadata": {
    "execution": {
     "iopub.execute_input": "2020-11-08T02:18:18.709600Z",
     "iopub.status.busy": "2020-11-08T02:18:18.708814Z",
     "iopub.status.idle": "2020-11-08T02:18:19.026479Z",
     "shell.execute_reply": "2020-11-08T02:18:19.025283Z"
    },
    "papermill": {
     "duration": 0.425253,
     "end_time": "2020-11-08T02:18:19.026658",
     "exception": false,
     "start_time": "2020-11-08T02:18:18.601405",
     "status": "completed"
    },
    "tags": []
   },
   "outputs": [
    {
     "name": "stdout",
     "output_type": "stream",
     "text": [
      "(159648, 15)\n"
     ]
    },
    {
     "data": {
      "text/html": [
       "<div>\n",
       "<style scoped>\n",
       "    .dataframe tbody tr th:only-of-type {\n",
       "        vertical-align: middle;\n",
       "    }\n",
       "\n",
       "    .dataframe tbody tr th {\n",
       "        vertical-align: top;\n",
       "    }\n",
       "\n",
       "    .dataframe thead th {\n",
       "        text-align: right;\n",
       "    }\n",
       "</style>\n",
       "<table border=\"1\" class=\"dataframe\">\n",
       "  <thead>\n",
       "    <tr style=\"text-align: right;\">\n",
       "      <th></th>\n",
       "      <th>country</th>\n",
       "      <th>description</th>\n",
       "      <th>designation</th>\n",
       "      <th>points</th>\n",
       "      <th>price</th>\n",
       "      <th>province</th>\n",
       "      <th>region_1</th>\n",
       "      <th>region_2</th>\n",
       "      <th>taster_name</th>\n",
       "      <th>taster_twitter_handle</th>\n",
       "      <th>title</th>\n",
       "      <th>variety</th>\n",
       "      <th>winery</th>\n",
       "      <th>not_vintage</th>\n",
       "      <th>vintage</th>\n",
       "    </tr>\n",
       "  </thead>\n",
       "  <tbody>\n",
       "    <tr>\n",
       "      <th>0</th>\n",
       "      <td>United States of America</td>\n",
       "      <td>Pineapple rind, lemon pith and orange blossom ...</td>\n",
       "      <td>Reserve Late Harvest</td>\n",
       "      <td>87</td>\n",
       "      <td>13.0</td>\n",
       "      <td>Michigan</td>\n",
       "      <td>Lake Michigan Shore</td>\n",
       "      <td>NaN</td>\n",
       "      <td>Alexander Peartree</td>\n",
       "      <td>NaN</td>\n",
       "      <td>St. Julian 2013 Reserve Late Harvest Riesling ...</td>\n",
       "      <td>Riesling</td>\n",
       "      <td>St. Julian</td>\n",
       "      <td>United States of America Reserve Late Harvest ...</td>\n",
       "      <td>2013.0</td>\n",
       "    </tr>\n",
       "    <tr>\n",
       "      <th>1</th>\n",
       "      <td>United States of America</td>\n",
       "      <td>Much like the regular bottling from 2012, this...</td>\n",
       "      <td>Vintner's Reserve Wild Child Block</td>\n",
       "      <td>87</td>\n",
       "      <td>65.0</td>\n",
       "      <td>Oregon</td>\n",
       "      <td>Willamette Valley</td>\n",
       "      <td>Willamette Valley</td>\n",
       "      <td>Paul Gregutt</td>\n",
       "      <td>@paulgwine</td>\n",
       "      <td>Sweet Cheeks 2012 Vintner's Reserve Wild Child...</td>\n",
       "      <td>Pinot Noir</td>\n",
       "      <td>Sweet Cheeks</td>\n",
       "      <td>United States of America Vintner's Reserve Wil...</td>\n",
       "      <td>2012.0</td>\n",
       "    </tr>\n",
       "  </tbody>\n",
       "</table>\n",
       "</div>"
      ],
      "text/plain": [
       "                    country  \\\n",
       "0  United States of America   \n",
       "1  United States of America   \n",
       "\n",
       "                                         description  \\\n",
       "0  Pineapple rind, lemon pith and orange blossom ...   \n",
       "1  Much like the regular bottling from 2012, this...   \n",
       "\n",
       "                          designation  points  price  province  \\\n",
       "0                Reserve Late Harvest      87   13.0  Michigan   \n",
       "1  Vintner's Reserve Wild Child Block      87   65.0    Oregon   \n",
       "\n",
       "              region_1           region_2         taster_name  \\\n",
       "0  Lake Michigan Shore                NaN  Alexander Peartree   \n",
       "1    Willamette Valley  Willamette Valley        Paul Gregutt   \n",
       "\n",
       "  taster_twitter_handle                                              title  \\\n",
       "0                   NaN  St. Julian 2013 Reserve Late Harvest Riesling ...   \n",
       "1           @paulgwine   Sweet Cheeks 2012 Vintner's Reserve Wild Child...   \n",
       "\n",
       "      variety        winery  \\\n",
       "0    Riesling    St. Julian   \n",
       "1  Pinot Noir  Sweet Cheeks   \n",
       "\n",
       "                                         not_vintage  vintage  \n",
       "0  United States of America Reserve Late Harvest ...   2013.0  \n",
       "1  United States of America Vintner's Reserve Wil...   2012.0  "
      ]
     },
     "execution_count": 16,
     "metadata": {},
     "output_type": "execute_result"
    }
   ],
   "source": [
    "# selecting majority classes as a dataframe to concatenate to oversampled_miniority_lst\n",
    "majority_df = top_df[top_df['variety'].isin(\\\n",
    "                                        top_varieties_count[top_varieties_count >= minority_threshold].index)]\n",
    "\n",
    "# concatenates majority_df to oversampled_miniority_lst\n",
    "balanced_df = pd.concat([majority_df, oversampled_miniority_df]) \n",
    "balanced_df = balanced_df.reset_index().drop('index', axis=1) # resets index\n",
    "print(balanced_df.shape)\n",
    "balanced_df.head(2)"
   ]
  },
  {
   "cell_type": "code",
   "execution_count": 17,
   "metadata": {
    "execution": {
     "iopub.execute_input": "2020-11-08T02:18:19.259844Z",
     "iopub.status.busy": "2020-11-08T02:18:19.258635Z",
     "iopub.status.idle": "2020-11-08T02:18:19.268058Z",
     "shell.execute_reply": "2020-11-08T02:18:19.268698Z"
    },
    "papermill": {
     "duration": 0.148162,
     "end_time": "2020-11-08T02:18:19.268897",
     "exception": false,
     "start_time": "2020-11-08T02:18:19.120735",
     "status": "completed"
    },
    "tags": []
   },
   "outputs": [
    {
     "data": {
      "text/plain": [
       "Pinot Noir                  13272\n",
       "Sauvignon Blanc             12801\n",
       "Chardonnay                  11753\n",
       "Syrah                       11128\n",
       "Cabernet Sauvignon           9472\n",
       "Rosé                         9207\n",
       "Red Blend                    8946\n",
       "Nebbiolo                     8107\n",
       "Malbec                       8047\n",
       "Merlot                       7874\n",
       "Portuguese Red               7734\n",
       "Sangiovese                   7432\n",
       "Bordeaux-style Red Blend     6915\n",
       "Zinfandel                    6512\n",
       "White Blend                  6034\n",
       "Sparkling Blend              5740\n",
       "Tempranillo                  5552\n",
       "Riesling                     5189\n",
       "Rhône-style Red Blend        3972\n",
       "Pinot Gris                   3961\n",
       "Name: variety, dtype: int64"
      ]
     },
     "execution_count": 17,
     "metadata": {},
     "output_type": "execute_result"
    }
   ],
   "source": [
    "balanced_variety = balanced_df['variety'].value_counts() # gets a Series of the variety count in balanced_df\n",
    "balanced_variety"
   ]
  },
  {
   "cell_type": "code",
   "execution_count": 18,
   "metadata": {
    "execution": {
     "iopub.execute_input": "2020-11-08T02:18:19.461748Z",
     "iopub.status.busy": "2020-11-08T02:18:19.460762Z",
     "iopub.status.idle": "2020-11-08T02:18:19.465937Z",
     "shell.execute_reply": "2020-11-08T02:18:19.465287Z"
    },
    "papermill": {
     "duration": 0.103209,
     "end_time": "2020-11-08T02:18:19.466079",
     "exception": false,
     "start_time": "2020-11-08T02:18:19.362870",
     "status": "completed"
    },
    "tags": []
   },
   "outputs": [
    {
     "name": "stdout",
     "output_type": "stream",
     "text": [
      "before sentence oversampling, highest class ratio was 9.507163323782235\n"
     ]
    }
   ],
   "source": [
    "print('before sentence oversampling, highest class ratio was {}'.format(\\\n",
    "                                        top_varieties_count.iloc[0] / top_varieties_count.iloc[top]))"
   ]
  },
  {
   "cell_type": "code",
   "execution_count": 19,
   "metadata": {
    "execution": {
     "iopub.execute_input": "2020-11-08T02:18:19.661452Z",
     "iopub.status.busy": "2020-11-08T02:18:19.660565Z",
     "iopub.status.idle": "2020-11-08T02:18:19.985106Z",
     "shell.execute_reply": "2020-11-08T02:18:19.984322Z"
    },
    "papermill": {
     "duration": 0.425071,
     "end_time": "2020-11-08T02:18:19.985253",
     "exception": false,
     "start_time": "2020-11-08T02:18:19.560182",
     "status": "completed"
    },
    "tags": []
   },
   "outputs": [
    {
     "data": {
      "image/png": "[encoded data removed]",
      "text/plain": [
       "<Figure size 1296x288 with 1 Axes>"
      ]
     },
     "metadata": {
      "needs_background": "light"
     },
     "output_type": "display_data"
    }
   ],
   "source": [
    "fig = plt.figure(figsize=(18, 4))\n",
    "plt.bar(top_varieties_count[:top].index, top_varieties_count[:top].values)\n",
    "plt.xticks(rotation=90)\n",
    "plt.xlabel('variety')\n",
    "plt.ylabel('count')\n",
    "plt.title('Counts of varieties before sentence oversampling')\n",
    "plt.show()"
   ]
  },
  {
   "cell_type": "code",
   "execution_count": 20,
   "metadata": {
    "execution": {
     "iopub.execute_input": "2020-11-08T02:18:20.196394Z",
     "iopub.status.busy": "2020-11-08T02:18:20.195423Z",
     "iopub.status.idle": "2020-11-08T02:18:20.198908Z",
     "shell.execute_reply": "2020-11-08T02:18:20.199507Z"
    },
    "papermill": {
     "duration": 0.106937,
     "end_time": "2020-11-08T02:18:20.199662",
     "exception": false,
     "start_time": "2020-11-08T02:18:20.092725",
     "status": "completed"
    },
    "tags": []
   },
   "outputs": [
    {
     "name": "stdout",
     "output_type": "stream",
     "text": [
      "after sentence oversampling, highest class ratio is 3.3506690229739964\n"
     ]
    }
   ],
   "source": [
    "print('after sentence oversampling, highest class ratio is {}'.format(\\\n",
    "                                                    balanced_variety.iloc[0] / balanced_variety.iloc[-1]))"
   ]
  },
  {
   "cell_type": "code",
   "execution_count": 21,
   "metadata": {
    "execution": {
     "iopub.execute_input": "2020-11-08T02:18:20.409542Z",
     "iopub.status.busy": "2020-11-08T02:18:20.408614Z",
     "iopub.status.idle": "2020-11-08T02:18:20.678681Z",
     "shell.execute_reply": "2020-11-08T02:18:20.677899Z"
    },
    "papermill": {
     "duration": 0.378813,
     "end_time": "2020-11-08T02:18:20.678811",
     "exception": false,
     "start_time": "2020-11-08T02:18:20.299998",
     "status": "completed"
    },
    "tags": []
   },
   "outputs": [
    {
     "data": {
      "image/png": "[encoded data removed]",
      "text/plain": [
       "<Figure size 1296x288 with 1 Axes>"
      ]
     },
     "metadata": {
      "needs_background": "light"
     },
     "output_type": "display_data"
    }
   ],
   "source": [
    "fig = plt.figure(figsize=(18, 4))\n",
    "plt.bar(balanced_variety.index, balanced_variety.values)\n",
    "plt.xticks(rotation=90)\n",
    "plt.xlabel('variety')\n",
    "plt.ylabel('count')\n",
    "plt.title('Counts of varieties after sentence oversampling')\n",
    "plt.show()"
   ]
  },
  {
   "cell_type": "code",
   "execution_count": 22,
   "metadata": {
    "execution": {
     "iopub.execute_input": "2020-11-08T02:18:20.886191Z",
     "iopub.status.busy": "2020-11-08T02:18:20.885358Z",
     "iopub.status.idle": "2020-11-08T02:18:21.888100Z",
     "shell.execute_reply": "2020-11-08T02:18:21.887266Z"
    },
    "papermill": {
     "duration": 1.110299,
     "end_time": "2020-11-08T02:18:21.888250",
     "exception": false,
     "start_time": "2020-11-08T02:18:20.777951",
     "status": "completed"
    },
    "tags": []
   },
   "outputs": [],
   "source": [
    "# importing useful libraries\n",
    "import spacy\n",
    "from imblearn.over_sampling import SMOTE\n",
    "from imblearn.pipeline import Pipeline\n",
    "from sklearn.tree import DecisionTreeClassifier\n",
    "from sklearn.preprocessing import LabelEncoder, OneHotEncoder\n",
    "from sklearn.model_selection import RepeatedStratifiedKFold, cross_val_score"
   ]
  },
  {
   "cell_type": "markdown",
   "metadata": {
    "papermill": {
     "duration": 0.101925,
     "end_time": "2020-11-08T02:18:22.087654",
     "exception": false,
     "start_time": "2020-11-08T02:18:21.985729",
     "status": "completed"
    },
    "tags": []
   },
   "source": [
    "### Let's check for Nan values"
   ]
  },
  {
   "cell_type": "code",
   "execution_count": 23,
   "metadata": {
    "execution": {
     "iopub.execute_input": "2020-11-08T02:18:22.461084Z",
     "iopub.status.busy": "2020-11-08T02:18:22.460292Z",
     "iopub.status.idle": "2020-11-08T02:18:22.479937Z",
     "shell.execute_reply": "2020-11-08T02:18:22.479133Z"
    },
    "papermill": {
     "duration": 0.295703,
     "end_time": "2020-11-08T02:18:22.480076",
     "exception": false,
     "start_time": "2020-11-08T02:18:22.184373",
     "status": "completed"
    },
    "tags": []
   },
   "outputs": [
    {
     "data": {
      "text/html": [
       "<div>\n",
       "<style scoped>\n",
       "    .dataframe tbody tr th:only-of-type {\n",
       "        vertical-align: middle;\n",
       "    }\n",
       "\n",
       "    .dataframe tbody tr th {\n",
       "        vertical-align: top;\n",
       "    }\n",
       "\n",
       "    .dataframe thead th {\n",
       "        text-align: right;\n",
       "    }\n",
       "</style>\n",
       "<table border=\"1\" class=\"dataframe\">\n",
       "  <thead>\n",
       "    <tr style=\"text-align: right;\">\n",
       "      <th></th>\n",
       "      <th>n_Nan</th>\n",
       "      <th>%missing</th>\n",
       "    </tr>\n",
       "  </thead>\n",
       "  <tbody>\n",
       "    <tr>\n",
       "      <th>country</th>\n",
       "      <td>37</td>\n",
       "      <td>0.039398</td>\n",
       "    </tr>\n",
       "    <tr>\n",
       "      <th>description</th>\n",
       "      <td>0</td>\n",
       "      <td>0.000000</td>\n",
       "    </tr>\n",
       "    <tr>\n",
       "      <th>designation</th>\n",
       "      <td>26985</td>\n",
       "      <td>28.733735</td>\n",
       "    </tr>\n",
       "    <tr>\n",
       "      <th>points</th>\n",
       "      <td>0</td>\n",
       "      <td>0.000000</td>\n",
       "    </tr>\n",
       "    <tr>\n",
       "      <th>price</th>\n",
       "      <td>5691</td>\n",
       "      <td>6.059799</td>\n",
       "    </tr>\n",
       "    <tr>\n",
       "      <th>province</th>\n",
       "      <td>37</td>\n",
       "      <td>0.039398</td>\n",
       "    </tr>\n",
       "    <tr>\n",
       "      <th>region_1</th>\n",
       "      <td>13466</td>\n",
       "      <td>14.338650</td>\n",
       "    </tr>\n",
       "    <tr>\n",
       "      <th>region_2</th>\n",
       "      <td>50804</td>\n",
       "      <td>54.096301</td>\n",
       "    </tr>\n",
       "    <tr>\n",
       "      <th>taster_name</th>\n",
       "      <td>18863</td>\n",
       "      <td>20.085397</td>\n",
       "    </tr>\n",
       "    <tr>\n",
       "      <th>taster_twitter_handle</th>\n",
       "      <td>22626</td>\n",
       "      <td>24.092255</td>\n",
       "    </tr>\n",
       "    <tr>\n",
       "      <th>title</th>\n",
       "      <td>0</td>\n",
       "      <td>0.000000</td>\n",
       "    </tr>\n",
       "    <tr>\n",
       "      <th>variety</th>\n",
       "      <td>0</td>\n",
       "      <td>0.000000</td>\n",
       "    </tr>\n",
       "    <tr>\n",
       "      <th>winery</th>\n",
       "      <td>0</td>\n",
       "      <td>0.000000</td>\n",
       "    </tr>\n",
       "    <tr>\n",
       "      <th>not_vintage</th>\n",
       "      <td>0</td>\n",
       "      <td>0.000000</td>\n",
       "    </tr>\n",
       "    <tr>\n",
       "      <th>vintage</th>\n",
       "      <td>2202</td>\n",
       "      <td>2.344698</td>\n",
       "    </tr>\n",
       "  </tbody>\n",
       "</table>\n",
       "</div>"
      ],
      "text/plain": [
       "                       n_Nan   %missing\n",
       "country                   37   0.039398\n",
       "description                0   0.000000\n",
       "designation            26985  28.733735\n",
       "points                     0   0.000000\n",
       "price                   5691   6.059799\n",
       "province                  37   0.039398\n",
       "region_1               13466  14.338650\n",
       "region_2               50804  54.096301\n",
       "taster_name            18863  20.085397\n",
       "taster_twitter_handle  22626  24.092255\n",
       "title                      0   0.000000\n",
       "variety                    0   0.000000\n",
       "winery                     0   0.000000\n",
       "not_vintage                0   0.000000\n",
       "vintage                 2202   2.344698"
      ]
     },
     "execution_count": 23,
     "metadata": {},
     "output_type": "execute_result"
    }
   ],
   "source": [
    "nan_df = top_df.isnull().sum().to_frame()\n",
    "nan_df.rename(columns={0: 'n_Nan'}, inplace=True)\n",
    "nan_df['%missing'] = 100*nan_df['n_Nan'] / top_df.shape[0]\n",
    "nan_df"
   ]
  },
  {
   "cell_type": "code",
   "execution_count": 24,
   "metadata": {
    "execution": {
     "iopub.execute_input": "2020-11-08T02:18:22.684614Z",
     "iopub.status.busy": "2020-11-08T02:18:22.683754Z",
     "iopub.status.idle": "2020-11-08T02:18:23.904537Z",
     "shell.execute_reply": "2020-11-08T02:18:23.903817Z"
    },
    "papermill": {
     "duration": 1.325799,
     "end_time": "2020-11-08T02:18:23.904676",
     "exception": false,
     "start_time": "2020-11-08T02:18:22.578877",
     "status": "completed"
    },
    "tags": []
   },
   "outputs": [],
   "source": [
    "# creating a spacy pipeline and disabling tagger, parser and ner to speed up tokenizer\n",
    "nlp = spacy.load('en', disable=['tagger', 'parser', 'ner']) "
   ]
  },
  {
   "cell_type": "markdown",
   "metadata": {
    "papermill": {
     "duration": 0.100518,
     "end_time": "2020-11-08T02:18:24.106161",
     "exception": false,
     "start_time": "2020-11-08T02:18:24.005643",
     "status": "completed"
    },
    "tags": []
   },
   "source": [
    "### We will be evaluating six preprocessing approaches to choose the best one.\n",
    "\n",
    "1. sentence oversampling without including 'not_vintage'\n",
    "2. no oversampling without including 'not_vintage'\n",
    "3. SMOTE oversampling without including 'not_vintage'\n",
    "4. sentence oversampling including 'not_vintage'\n",
    "5. no oversampling including 'not_vintage'\n",
    "6. SMOTE oversampling without including 'not_vintage'"
   ]
  },
  {
   "cell_type": "markdown",
   "metadata": {
    "papermill": {
     "duration": 0.120235,
     "end_time": "2020-11-08T02:18:24.324139",
     "exception": false,
     "start_time": "2020-11-08T02:18:24.203904",
     "status": "completed"
    },
    "tags": []
   },
   "source": [
    "- Remeber, ````not_vintage```` is the combination of non-numeric categorical features of ````country, province, region1, region2, winery, and designation````"
   ]
  },
  {
   "cell_type": "markdown",
   "metadata": {
    "papermill": {
     "duration": 0.097637,
     "end_time": "2020-11-08T02:18:24.532247",
     "exception": false,
     "start_time": "2020-11-08T02:18:24.434610",
     "status": "completed"
    },
    "tags": []
   },
   "source": [
    "### First, let's make a corpus where each document is ````description```` plus ````not_vintage````"
   ]
  },
  {
   "cell_type": "code",
   "execution_count": 25,
   "metadata": {
    "execution": {
     "iopub.execute_input": "2020-11-08T02:18:24.743823Z",
     "iopub.status.busy": "2020-11-08T02:18:24.738570Z",
     "iopub.status.idle": "2020-11-08T02:18:25.008864Z",
     "shell.execute_reply": "2020-11-08T02:18:25.007958Z"
    },
    "papermill": {
     "duration": 0.376847,
     "end_time": "2020-11-08T02:18:25.009029",
     "exception": false,
     "start_time": "2020-11-08T02:18:24.632182",
     "status": "completed"
    },
    "tags": []
   },
   "outputs": [],
   "source": [
    "# for sentence oversampling\n",
    "sent_oversample_corpus = [doc1 + ' ' + doc2 for doc1, doc2 in zip(\\\n",
    "                                                        balanced_df['description'], balanced_df['not_vintage'])]\n",
    "\n",
    "# for no oversampling\n",
    "no_oversample_corpus = [doc1 + ' ' + doc2 for doc1, doc2 in zip(\\\n",
    "                                                        top_df['description'], top_df['not_vintage'])]"
   ]
  },
  {
   "cell_type": "markdown",
   "metadata": {
    "papermill": {
     "duration": 0.09746,
     "end_time": "2020-11-08T02:18:25.211649",
     "exception": false,
     "start_time": "2020-11-08T02:18:25.114189",
     "status": "completed"
    },
    "tags": []
   },
   "source": [
    "### let's see how the combination of ````description```` and ````not_vintage```` is like"
   ]
  },
  {
   "cell_type": "code",
   "execution_count": 26,
   "metadata": {
    "execution": {
     "iopub.execute_input": "2020-11-08T02:18:25.418334Z",
     "iopub.status.busy": "2020-11-08T02:18:25.416987Z",
     "iopub.status.idle": "2020-11-08T02:18:25.421738Z",
     "shell.execute_reply": "2020-11-08T02:18:25.420975Z"
    },
    "papermill": {
     "duration": 0.10982,
     "end_time": "2020-11-08T02:18:25.421867",
     "exception": false,
     "start_time": "2020-11-08T02:18:25.312047",
     "status": "completed"
    },
    "tags": []
   },
   "outputs": [
    {
     "data": {
      "text/plain": [
       "['It also has weight and a solid, powerful core of spice and baked apple flavors. France Alsace Alsace Domaine Marcel Deiss',\n",
       " 'With its structure still developing, the wine needs to age. France Alsace Alsace Domaine Marcel Deiss',\n",
       " 'Drink from 2015. France Alsace Alsace Domaine Marcel Deiss']"
      ]
     },
     "execution_count": 26,
     "metadata": {},
     "output_type": "execute_result"
    }
   ],
   "source": [
    "sent_oversample_corpus[-3:]"
   ]
  },
  {
   "cell_type": "code",
   "execution_count": 27,
   "metadata": {
    "execution": {
     "iopub.execute_input": "2020-11-08T02:18:25.625791Z",
     "iopub.status.busy": "2020-11-08T02:18:25.624821Z",
     "iopub.status.idle": "2020-11-08T02:18:25.629593Z",
     "shell.execute_reply": "2020-11-08T02:18:25.628827Z"
    },
    "papermill": {
     "duration": 0.109519,
     "end_time": "2020-11-08T02:18:25.629728",
     "exception": false,
     "start_time": "2020-11-08T02:18:25.520209",
     "status": "completed"
    },
    "tags": []
   },
   "outputs": [
    {
     "data": {
      "text/plain": [
       "[\"Aromas include tropical fruit, broom, brimstone and dried herb. The palate isn't overly expressive, offering unripened apple, citrus and dried sage alongside brisk acidity. Italy Vulkà Bianco Sicily & Sardinia Etna Nicosia\",\n",
       " \"This is ripe and fruity, a wine that is smooth while still structured. Firm tannins are filled out with juicy red berry fruits and freshened with acidity. It's  already drinkable, although it will certainly be better from 2016. Portugal Avidagos Douro Quinta dos Avidagos\",\n",
       " 'Tart and snappy, the flavors of lime flesh and rind dominate. Some green pineapple pokes through, with crisp acidity underscoring the flavors. The wine was all stainless-steel fermented. United States of America Oregon Willamette Valley Willamette Valley Rainstorm']"
      ]
     },
     "execution_count": 27,
     "metadata": {},
     "output_type": "execute_result"
    }
   ],
   "source": [
    "no_oversample_corpus[:3] "
   ]
  },
  {
   "cell_type": "code",
   "execution_count": null,
   "metadata": {
    "papermill": {
     "duration": 0.10031,
     "end_time": "2020-11-08T02:18:25.829944",
     "exception": false,
     "start_time": "2020-11-08T02:18:25.729634",
     "status": "completed"
    },
    "tags": []
   },
   "outputs": [],
   "source": []
  },
  {
   "cell_type": "code",
   "execution_count": 28,
   "metadata": {
    "execution": {
     "iopub.execute_input": "2020-11-08T02:18:26.059709Z",
     "iopub.status.busy": "2020-11-08T02:18:26.049492Z",
     "iopub.status.idle": "2020-11-08T02:18:26.281973Z",
     "shell.execute_reply": "2020-11-08T02:18:26.281323Z"
    },
    "papermill": {
     "duration": 0.352485,
     "end_time": "2020-11-08T02:18:26.282131",
     "exception": false,
     "start_time": "2020-11-08T02:18:25.929646",
     "status": "completed"
    },
    "tags": []
   },
   "outputs": [],
   "source": [
    "sent_oversample_le = LabelEncoder() # initializes a LabelEncoder object\n",
    "# encodes the labels\n",
    "sent_oversample_labels = sent_oversample_le.fit_transform([label for label in balanced_df['variety']])\n",
    "\n",
    "no_oversample_le = LabelEncoder() # initializes a LabelEncoder object\n",
    "# encodes the labels\n",
    "no_oversample_label = no_oversample_le.fit_transform([label for label in top_df['variety']])"
   ]
  },
  {
   "cell_type": "markdown",
   "metadata": {
    "papermill": {
     "duration": 0.099928,
     "end_time": "2020-11-08T02:18:26.482959",
     "exception": false,
     "start_time": "2020-11-08T02:18:26.383031",
     "status": "completed"
    },
    "tags": []
   },
   "source": [
    "### Let's have a view of ````sent_oversample_corpus```` and ````no_oversample_corpus````"
   ]
  },
  {
   "cell_type": "code",
   "execution_count": 29,
   "metadata": {
    "execution": {
     "iopub.execute_input": "2020-11-08T02:18:26.693518Z",
     "iopub.status.busy": "2020-11-08T02:18:26.692523Z",
     "iopub.status.idle": "2020-11-08T02:18:26.697946Z",
     "shell.execute_reply": "2020-11-08T02:18:26.697126Z"
    },
    "papermill": {
     "duration": 0.11236,
     "end_time": "2020-11-08T02:18:26.698089",
     "exception": false,
     "start_time": "2020-11-08T02:18:26.585729",
     "status": "completed"
    },
    "tags": []
   },
   "outputs": [
    {
     "data": {
      "text/plain": [
       "['It also has weight and a solid, powerful core of spice and baked apple flavors. France Alsace Alsace Domaine Marcel Deiss',\n",
       " 'With its structure still developing, the wine needs to age. France Alsace Alsace Domaine Marcel Deiss',\n",
       " 'Drink from 2015. France Alsace Alsace Domaine Marcel Deiss']"
      ]
     },
     "execution_count": 29,
     "metadata": {},
     "output_type": "execute_result"
    }
   ],
   "source": [
    "sent_oversample_corpus[-3:]"
   ]
  },
  {
   "cell_type": "code",
   "execution_count": 30,
   "metadata": {
    "execution": {
     "iopub.execute_input": "2020-11-08T02:18:26.906615Z",
     "iopub.status.busy": "2020-11-08T02:18:26.905437Z",
     "iopub.status.idle": "2020-11-08T02:18:26.909811Z",
     "shell.execute_reply": "2020-11-08T02:18:26.909150Z"
    },
    "papermill": {
     "duration": 0.111273,
     "end_time": "2020-11-08T02:18:26.909936",
     "exception": false,
     "start_time": "2020-11-08T02:18:26.798663",
     "status": "completed"
    },
    "tags": []
   },
   "outputs": [
    {
     "data": {
      "text/plain": [
       "[\"Notes of honeysuckle and cantaloupe sweeten this deliciously feather-light spätlese. It's intensely juicy, quenching the palate with streams of tart tangerine and grapefruit acidity, yet wraps up with a kiss of honey and peach. Germany Brauneberger Juffer-Sonnenuhr Spätlese Mosel Dr. H. Thanisch (Erben Müller-Burggraef)\",\n",
       " 'Citation is given as much as a decade of bottle age prior to release, which means it is pre-cellared and drinking at its peak. Baked cherry, cocoa and coconut flavors combine gracefully, with soft, secondary fruit compote highlights. United States of America Oregon Oregon Oregon Other Citation',\n",
       " 'A dry style of Pinot Gris, this is crisp with some acidity. It also has weight and a solid, powerful core of spice and baked apple flavors. With its structure still developing, the wine needs to age. Drink from 2015. France Alsace Alsace Domaine Marcel Deiss']"
      ]
     },
     "execution_count": 30,
     "metadata": {},
     "output_type": "execute_result"
    }
   ],
   "source": [
    "no_oversample_corpus[-3:]"
   ]
  },
  {
   "cell_type": "code",
   "execution_count": 31,
   "metadata": {
    "execution": {
     "iopub.execute_input": "2020-11-08T02:18:27.131913Z",
     "iopub.status.busy": "2020-11-08T02:18:27.130785Z",
     "iopub.status.idle": "2020-11-08T02:18:27.133425Z",
     "shell.execute_reply": "2020-11-08T02:18:27.134127Z"
    },
    "papermill": {
     "duration": 0.120523,
     "end_time": "2020-11-08T02:18:27.134303",
     "exception": false,
     "start_time": "2020-11-08T02:18:27.013780",
     "status": "completed"
    },
    "tags": []
   },
   "outputs": [],
   "source": [
    "# creating a dictionary to decode the encoded labels (we could also use the inverse_transform method of the \n",
    "# LabelEncoder object)\n",
    "sent_oversample_map = {v: k for k, v in enumerate(sent_oversample_le.classes_)}\n",
    "no_oversample_map = {v: k for k, v in enumerate(no_oversample_le.classes_)}"
   ]
  },
  {
   "cell_type": "code",
   "execution_count": 32,
   "metadata": {
    "execution": {
     "iopub.execute_input": "2020-11-08T02:18:27.345988Z",
     "iopub.status.busy": "2020-11-08T02:18:27.345110Z",
     "iopub.status.idle": "2020-11-08T02:18:27.349189Z",
     "shell.execute_reply": "2020-11-08T02:18:27.348465Z"
    },
    "papermill": {
     "duration": 0.111519,
     "end_time": "2020-11-08T02:18:27.349333",
     "exception": false,
     "start_time": "2020-11-08T02:18:27.237814",
     "status": "completed"
    },
    "tags": []
   },
   "outputs": [
    {
     "data": {
      "text/plain": [
       "array([11,  7,  1])"
      ]
     },
     "execution_count": 32,
     "metadata": {},
     "output_type": "execute_result"
    }
   ],
   "source": [
    "sent_oversample_labels[:3]"
   ]
  },
  {
   "cell_type": "code",
   "execution_count": 33,
   "metadata": {
    "execution": {
     "iopub.execute_input": "2020-11-08T02:18:27.561051Z",
     "iopub.status.busy": "2020-11-08T02:18:27.560170Z",
     "iopub.status.idle": "2020-11-08T02:18:27.614334Z",
     "shell.execute_reply": "2020-11-08T02:18:27.613531Z"
    },
    "papermill": {
     "duration": 0.162118,
     "end_time": "2020-11-08T02:18:27.614465",
     "exception": false,
     "start_time": "2020-11-08T02:18:27.452347",
     "status": "completed"
    },
    "tags": []
   },
   "outputs": [],
   "source": [
    "sent_oversample_one_hot = OneHotEncoder(sparse=False)\n",
    "sent_oversample_labels2 = sent_oversample_one_hot.fit_transform(sent_oversample_labels.reshape(-1, 1))"
   ]
  },
  {
   "cell_type": "code",
   "execution_count": 34,
   "metadata": {
    "execution": {
     "iopub.execute_input": "2020-11-08T02:18:27.826550Z",
     "iopub.status.busy": "2020-11-08T02:18:27.825706Z",
     "iopub.status.idle": "2020-11-08T02:18:27.829827Z",
     "shell.execute_reply": "2020-11-08T02:18:27.829165Z"
    },
    "papermill": {
     "duration": 0.1118,
     "end_time": "2020-11-08T02:18:27.829966",
     "exception": false,
     "start_time": "2020-11-08T02:18:27.718166",
     "status": "completed"
    },
    "tags": []
   },
   "outputs": [
    {
     "data": {
      "text/plain": [
       "array([[0., 0., 0., 0., 0., 0., 0., 0., 0., 0., 0., 1., 0., 0., 0., 0.,\n",
       "        0., 0., 0., 0.],\n",
       "       [0., 0., 0., 0., 0., 0., 0., 1., 0., 0., 0., 0., 0., 0., 0., 0.,\n",
       "        0., 0., 0., 0.],\n",
       "       [0., 1., 0., 0., 0., 0., 0., 0., 0., 0., 0., 0., 0., 0., 0., 0.,\n",
       "        0., 0., 0., 0.]])"
      ]
     },
     "execution_count": 34,
     "metadata": {},
     "output_type": "execute_result"
    }
   ],
   "source": [
    "sent_oversample_labels2[:3]"
   ]
  },
  {
   "cell_type": "code",
   "execution_count": 35,
   "metadata": {
    "execution": {
     "iopub.execute_input": "2020-11-08T02:18:28.046098Z",
     "iopub.status.busy": "2020-11-08T02:18:28.045240Z",
     "iopub.status.idle": "2020-11-08T02:18:28.049822Z",
     "shell.execute_reply": "2020-11-08T02:18:28.048244Z"
    },
    "papermill": {
     "duration": 0.118267,
     "end_time": "2020-11-08T02:18:28.049959",
     "exception": false,
     "start_time": "2020-11-08T02:18:27.931692",
     "status": "completed"
    },
    "tags": []
   },
   "outputs": [
    {
     "name": "stdout",
     "output_type": "stream",
     "text": [
      "['please', 'é', 'do', 'do', 'is', 'runs', 'honey', 'well', 'ran', 'it', 'did', 'doing', 'he', 'fr', 'erben', 'müller', 'burggraef']\n"
     ]
    }
   ],
   "source": [
    "sample_text = \"Please! é don't Do isn't? runs honey-well ran: lo50 it did, 0.5 doiNg he 100 #fr @h... +234 \" + \\\n",
    "                \"me3 (Erben Müller-Burggraef).\"\n",
    "lst = []\n",
    "for p in nlp(sample_text):\n",
    "    if p.is_alpha:\n",
    "        lst.append(p.lower_)\n",
    "print(lst)"
   ]
  },
  {
   "cell_type": "markdown",
   "metadata": {
    "papermill": {
     "duration": 0.104547,
     "end_time": "2020-11-08T02:18:28.259573",
     "exception": false,
     "start_time": "2020-11-08T02:18:28.155026",
     "status": "completed"
    },
    "tags": []
   },
   "source": [
    "### we will encapsulate the above code in a list comprehension, and that will be our tokenizer function."
   ]
  },
  {
   "cell_type": "code",
   "execution_count": 36,
   "metadata": {
    "execution": {
     "iopub.execute_input": "2020-11-08T02:18:28.474428Z",
     "iopub.status.busy": "2020-11-08T02:18:28.473283Z",
     "iopub.status.idle": "2020-11-08T02:18:28.476854Z",
     "shell.execute_reply": "2020-11-08T02:18:28.476256Z"
    },
    "papermill": {
     "duration": 0.112119,
     "end_time": "2020-11-08T02:18:28.476997",
     "exception": false,
     "start_time": "2020-11-08T02:18:28.364878",
     "status": "completed"
    },
    "tags": []
   },
   "outputs": [],
   "source": [
    "stop_words = spacy.lang.en.STOP_WORDS # getting spacy's stop-words"
   ]
  },
  {
   "cell_type": "markdown",
   "metadata": {
    "papermill": {
     "duration": 0.104031,
     "end_time": "2020-11-08T02:18:28.684393",
     "exception": false,
     "start_time": "2020-11-08T02:18:28.580362",
     "status": "completed"
    },
    "tags": []
   },
   "source": [
    "### After tokenizer, there is a weird word '-pron-' that appears probably because spacy lemmatizers some pronouns as '-pron-'. So numbers strangely still appeared after tokenizing (and double tokenizing)...it may be due to a bug in spacy. We wil include these to our stop-words. and lemmatize our stop words since we are lemmatizing our tokens."
   ]
  },
  {
   "cell_type": "code",
   "execution_count": 37,
   "metadata": {
    "execution": {
     "iopub.execute_input": "2020-11-08T02:18:28.916427Z",
     "iopub.status.busy": "2020-11-08T02:18:28.905590Z",
     "iopub.status.idle": "2020-11-08T02:18:28.920588Z",
     "shell.execute_reply": "2020-11-08T02:18:28.919868Z"
    },
    "papermill": {
     "duration": 0.132841,
     "end_time": "2020-11-08T02:18:28.920739",
     "exception": false,
     "start_time": "2020-11-08T02:18:28.787898",
     "status": "completed"
    },
    "tags": []
   },
   "outputs": [],
   "source": [
    "stop_words_lemma = {word.lemma_.lower() for word in nlp(' '.join(stop_words))} | {'-pron-', '10', '12', \n",
    "                    'aah', 'aa', 'ab', 'aaa', 'aand', '16', '2', '20', '30', '4', '40', '5', '6', '7', '8', '9'}"
   ]
  },
  {
   "cell_type": "code",
   "execution_count": 38,
   "metadata": {
    "execution": {
     "iopub.execute_input": "2020-11-08T02:18:29.140451Z",
     "iopub.status.busy": "2020-11-08T02:18:29.139474Z",
     "iopub.status.idle": "2020-11-08T02:18:29.141952Z",
     "shell.execute_reply": "2020-11-08T02:18:29.142575Z"
    },
    "papermill": {
     "duration": 0.116123,
     "end_time": "2020-11-08T02:18:29.142746",
     "exception": false,
     "start_time": "2020-11-08T02:18:29.026623",
     "status": "completed"
    },
    "tags": []
   },
   "outputs": [],
   "source": [
    "# defining tokenzer function to tokenize the lower case lemma of documents in a corpus and \n",
    "# filter out stop-words  \n",
    "def tokenizer(text):\n",
    "    return [word.lemma_.lower() for word in nlp(text) if word.is_alpha and word.lemma_.lower() \\\n",
    "                not in stop_words_lemma]"
   ]
  },
  {
   "cell_type": "markdown",
   "metadata": {
    "papermill": {
     "duration": 0.103909,
     "end_time": "2020-11-08T02:18:29.351625",
     "exception": false,
     "start_time": "2020-11-08T02:18:29.247716",
     "status": "completed"
    },
    "tags": []
   },
   "source": [
    "## Word2vec"
   ]
  },
  {
   "cell_type": "markdown",
   "metadata": {
    "papermill": {
     "duration": 0.103792,
     "end_time": "2020-11-08T02:18:29.560819",
     "exception": false,
     "start_time": "2020-11-08T02:18:29.457027",
     "status": "completed"
    },
    "tags": []
   },
   "source": [
    "### Word2vec converts each word to an n-dimensional vector by using neural network to encode the context usage of words in a sentence. It is advantageous than Tfidf because it takes context into consideration. For this notebook, we will encoding into a 300 dimensional vector with the continuous bag of words (CBOW) strategy (default) on a window size of 5 (default) which seems to be the best for our data."
   ]
  },
  {
   "cell_type": "code",
   "execution_count": 39,
   "metadata": {
    "execution": {
     "iopub.execute_input": "2020-11-08T02:18:29.773447Z",
     "iopub.status.busy": "2020-11-08T02:18:29.772608Z",
     "iopub.status.idle": "2020-11-08T02:18:30.254387Z",
     "shell.execute_reply": "2020-11-08T02:18:30.253549Z"
    },
    "papermill": {
     "duration": 0.590215,
     "end_time": "2020-11-08T02:18:30.254530",
     "exception": false,
     "start_time": "2020-11-08T02:18:29.664315",
     "status": "completed"
    },
    "tags": []
   },
   "outputs": [],
   "source": [
    "from gensim.models import Word2Vec # importing Word2Vec"
   ]
  },
  {
   "cell_type": "code",
   "execution_count": 40,
   "metadata": {
    "execution": {
     "iopub.execute_input": "2020-11-08T02:18:30.473238Z",
     "iopub.status.busy": "2020-11-08T02:18:30.472146Z",
     "iopub.status.idle": "2020-11-08T02:18:30.475536Z",
     "shell.execute_reply": "2020-11-08T02:18:30.474800Z"
    },
    "papermill": {
     "duration": 0.114023,
     "end_time": "2020-11-08T02:18:30.475670",
     "exception": false,
     "start_time": "2020-11-08T02:18:30.361647",
     "status": "completed"
    },
    "tags": []
   },
   "outputs": [],
   "source": [
    "# defining a function to return the mean word2vec vectors of words in a review (document) as the document vector \n",
    "def get_doc_vector(model, doc):\n",
    "    return np.mean([model[word] for word in doc if word in model.wv.vocab], axis=0)"
   ]
  },
  {
   "cell_type": "markdown",
   "metadata": {
    "papermill": {
     "duration": 0.105548,
     "end_time": "2020-11-08T02:18:30.685924",
     "exception": false,
     "start_time": "2020-11-08T02:18:30.580376",
     "status": "completed"
    },
    "tags": []
   },
   "source": [
    "### First, let's make a corpus where each document is ````description```` plus ````not_vintage````"
   ]
  },
  {
   "cell_type": "markdown",
   "metadata": {
    "papermill": {
     "duration": 0.105119,
     "end_time": "2020-11-08T02:18:30.896001",
     "exception": false,
     "start_time": "2020-11-08T02:18:30.790882",
     "status": "completed"
    },
    "tags": []
   },
   "source": [
    "## Step 4"
   ]
  },
  {
   "cell_type": "code",
   "execution_count": 41,
   "metadata": {
    "execution": {
     "iopub.execute_input": "2020-11-08T02:18:31.118528Z",
     "iopub.status.busy": "2020-11-08T02:18:31.117337Z",
     "iopub.status.idle": "2020-11-08T02:18:37.497300Z",
     "shell.execute_reply": "2020-11-08T02:18:37.496481Z"
    },
    "papermill": {
     "duration": 6.495995,
     "end_time": "2020-11-08T02:18:37.497447",
     "exception": false,
     "start_time": "2020-11-08T02:18:31.001452",
     "status": "completed"
    },
    "tags": []
   },
   "outputs": [],
   "source": [
    "import tensorflow as tf\n",
    "from tensorflow.keras.preprocessing.text import Tokenizer"
   ]
  },
  {
   "cell_type": "code",
   "execution_count": 42,
   "metadata": {
    "execution": {
     "iopub.execute_input": "2020-11-08T02:18:37.735929Z",
     "iopub.status.busy": "2020-11-08T02:18:37.720175Z",
     "iopub.status.idle": "2020-11-08T02:19:51.701187Z",
     "shell.execute_reply": "2020-11-08T02:19:51.701854Z"
    },
    "papermill": {
     "duration": 74.100286,
     "end_time": "2020-11-08T02:19:51.702040",
     "exception": false,
     "start_time": "2020-11-08T02:18:37.601754",
     "status": "completed"
    },
    "tags": []
   },
   "outputs": [
    {
     "name": "stdout",
     "output_type": "stream",
     "text": [
      "['weight solid powerful core spice bake apple flavor france alsace alsace domaine marcel deiss', 'structure develope wine need age france alsace alsace domaine marcel deiss', 'drink france alsace alsace domaine marcel deiss']\n"
     ]
    }
   ],
   "source": [
    "# tokenize (lemmatize and filter stop words) corpus \n",
    "sent_oversample_corpus1 = [' '.join(tokenizer(doc)) for doc in sent_oversample_corpus] \n",
    "print(sent_oversample_corpus1[-3:])"
   ]
  },
  {
   "cell_type": "code",
   "execution_count": 43,
   "metadata": {
    "execution": {
     "iopub.execute_input": "2020-11-08T02:19:51.950947Z",
     "iopub.status.busy": "2020-11-08T02:19:51.935359Z",
     "iopub.status.idle": "2020-11-08T02:19:58.285345Z",
     "shell.execute_reply": "2020-11-08T02:19:58.284167Z"
    },
    "papermill": {
     "duration": 6.479096,
     "end_time": "2020-11-08T02:19:58.285494",
     "exception": false,
     "start_time": "2020-11-08T02:19:51.806398",
     "status": "completed"
    },
    "tags": []
   },
   "outputs": [
    {
     "name": "stdout",
     "output_type": "stream",
     "text": [
      "vocab size (number of unique words + 1) is 39565\n"
     ]
    }
   ],
   "source": [
    "sequence_tokenizer = Tokenizer()\n",
    "sequence_tokenizer.fit_on_texts(sent_oversample_corpus1)\n",
    "\n",
    "words_indices = sequence_tokenizer.word_index\n",
    "\n",
    "print('vocab size (number of unique words + 1) is {}'.format(len(words_indices) + 1))  \n",
    "# Adding 1 because of reserved 0 index"
   ]
  },
  {
   "cell_type": "code",
   "execution_count": null,
   "metadata": {
    "papermill": {
     "duration": 0.10425,
     "end_time": "2020-11-08T02:19:58.497420",
     "exception": false,
     "start_time": "2020-11-08T02:19:58.393170",
     "status": "completed"
    },
    "tags": []
   },
   "outputs": [],
   "source": []
  },
  {
   "cell_type": "code",
   "execution_count": 44,
   "metadata": {
    "execution": {
     "iopub.execute_input": "2020-11-08T02:19:58.726164Z",
     "iopub.status.busy": "2020-11-08T02:19:58.720882Z",
     "iopub.status.idle": "2020-11-08T02:20:04.129627Z",
     "shell.execute_reply": "2020-11-08T02:20:04.130360Z"
    },
    "papermill": {
     "duration": 5.528544,
     "end_time": "2020-11-08T02:20:04.130525",
     "exception": false,
     "start_time": "2020-11-08T02:19:58.601981",
     "status": "completed"
    },
    "tags": []
   },
   "outputs": [
    {
     "name": "stdout",
     "output_type": "stream",
     "text": [
      "weight solid powerful core spice bake apple flavor france alsace alsace domaine marcel deiss\n",
      "\n",
      "[211, 209, 280, 212, 30, 133, 52, 7, 9, 99, 99, 80, 4050, 7438]\n"
     ]
    }
   ],
   "source": [
    "sent_oversample_corpus2 = sequence_tokenizer.texts_to_sequences(sent_oversample_corpus1)\n",
    "print(sent_oversample_corpus1[-3])\n",
    "print()\n",
    "print(sent_oversample_corpus2[-3])"
   ]
  },
  {
   "cell_type": "markdown",
   "metadata": {
    "papermill": {
     "duration": 0.108479,
     "end_time": "2020-11-08T02:20:04.347389",
     "exception": false,
     "start_time": "2020-11-08T02:20:04.238910",
     "status": "completed"
    },
    "tags": []
   },
   "source": [
    "## Padding: All wine review won't have the same number of words, for this reason, we will use a sequence length equal to the number of words the review with the maximum number of words has. For review word count lesser than this, we will fill (pad) with zeros."
   ]
  },
  {
   "cell_type": "code",
   "execution_count": 45,
   "metadata": {
    "execution": {
     "iopub.execute_input": "2020-11-08T02:20:04.565699Z",
     "iopub.status.busy": "2020-11-08T02:20:04.564729Z",
     "iopub.status.idle": "2020-11-08T02:20:04.636131Z",
     "shell.execute_reply": "2020-11-08T02:20:04.635320Z"
    },
    "papermill": {
     "duration": 0.182136,
     "end_time": "2020-11-08T02:20:04.636297",
     "exception": false,
     "start_time": "2020-11-08T02:20:04.454161",
     "status": "completed"
    },
    "tags": []
   },
   "outputs": [],
   "source": [
    "from keras.preprocessing.sequence import pad_sequences"
   ]
  },
  {
   "cell_type": "code",
   "execution_count": 46,
   "metadata": {
    "execution": {
     "iopub.execute_input": "2020-11-08T02:20:04.928248Z",
     "iopub.status.busy": "2020-11-08T02:20:04.864175Z",
     "iopub.status.idle": "2020-11-08T02:20:06.772617Z",
     "shell.execute_reply": "2020-11-08T02:20:06.771832Z"
    },
    "papermill": {
     "duration": 2.029491,
     "end_time": "2020-11-08T02:20:06.772746",
     "exception": false,
     "start_time": "2020-11-08T02:20:04.743255",
     "status": "completed"
    },
    "tags": []
   },
   "outputs": [
    {
     "data": {
      "text/plain": [
       "array([ 211,  209,  280,  212,   30,  133,   52,    7,    9,   99,   99,\n",
       "         80, 4050, 7438,    0,    0,    0,    0,    0,    0,    0,    0,\n",
       "          0,    0,    0,    0,    0,    0,    0,    0,    0,    0,    0,\n",
       "          0,    0,    0,    0,    0,    0,    0,    0,    0,    0,    0,\n",
       "          0,    0,    0,    0,    0,    0,    0,    0,    0,    0,    0,\n",
       "          0,    0,    0,    0,    0,    0,    0,    0,    0,    0,    0,\n",
       "          0,    0,    0,    0,    0,    0,    0,    0,    0,    0,    0,\n",
       "          0,    0,    0,    0,    0,    0,    0,    0,    0,    0],\n",
       "      dtype=int32)"
      ]
     },
     "execution_count": 46,
     "metadata": {},
     "output_type": "execute_result"
    }
   ],
   "source": [
    "sent_oversample_corpus3 = pad_sequences(sent_oversample_corpus2, padding='post')\n",
    "sent_oversample_corpus3[-3]"
   ]
  },
  {
   "cell_type": "code",
   "execution_count": null,
   "metadata": {
    "papermill": {
     "duration": 0.106059,
     "end_time": "2020-11-08T02:20:06.986781",
     "exception": false,
     "start_time": "2020-11-08T02:20:06.880722",
     "status": "completed"
    },
    "tags": []
   },
   "outputs": [],
   "source": []
  },
  {
   "cell_type": "markdown",
   "metadata": {
    "papermill": {
     "duration": 0.105851,
     "end_time": "2020-11-08T02:20:07.206846",
     "exception": false,
     "start_time": "2020-11-08T02:20:07.100995",
     "status": "completed"
    },
    "tags": []
   },
   "source": [
    "## Training word2vec"
   ]
  },
  {
   "cell_type": "code",
   "execution_count": 47,
   "metadata": {
    "execution": {
     "iopub.execute_input": "2020-11-08T02:20:07.435743Z",
     "iopub.status.busy": "2020-11-08T02:20:07.430422Z",
     "iopub.status.idle": "2020-11-08T02:21:21.632174Z",
     "shell.execute_reply": "2020-11-08T02:21:21.632863Z"
    },
    "papermill": {
     "duration": 74.31766,
     "end_time": "2020-11-08T02:21:21.633032",
     "exception": false,
     "start_time": "2020-11-08T02:20:07.315372",
     "status": "completed"
    },
    "tags": []
   },
   "outputs": [
    {
     "name": "stdout",
     "output_type": "stream",
     "text": [
      "[['pineapple', 'rind', 'lemon', 'pith', 'orange', 'blossom', 'start', 'aroma', 'palate', 'bite', 'opulent', 'note', 'honey', 'drizzle', 'guava', 'mango', 'way', 'slightly', 'astringent', 'semidry', 'finish', 'united', 'states', 'america', 'reserve', 'late', 'harvest', 'michigan', 'lake', 'michigan', 'shore', 'julian'], ['like', 'regular', 'bottle', 'come', 'rough', 'tannic', 'rustic', 'earthy', 'herbal', 'characteristic', 'nonetheless', 'think', 'pleasantly', 'unfussy', 'country', 'wine', 'companion', 'hearty', 'winter', 'stew', 'united', 'states', 'america', 'vintner', 'reserve', 'wild', 'child', 'block', 'oregon', 'willamette', 'valley', 'willamette', 'valley', 'sweet', 'cheeks']]\n"
     ]
    }
   ],
   "source": [
    "sent_oversample_corpus4 = [tokenizer(doc) for doc in sent_oversample_corpus] # gets corpus as a list of lists\n",
    "print(sent_oversample_corpus4[:2])"
   ]
  },
  {
   "cell_type": "code",
   "execution_count": 48,
   "metadata": {
    "execution": {
     "iopub.execute_input": "2020-11-08T02:21:21.864749Z",
     "iopub.status.busy": "2020-11-08T02:21:21.859542Z",
     "iopub.status.idle": "2020-11-08T02:22:41.059921Z",
     "shell.execute_reply": "2020-11-08T02:22:41.060678Z"
    },
    "papermill": {
     "duration": 79.320155,
     "end_time": "2020-11-08T02:22:41.060874",
     "exception": false,
     "start_time": "2020-11-08T02:21:21.740719",
     "status": "completed"
    },
    "tags": []
   },
   "outputs": [
    {
     "name": "stdout",
     "output_type": "stream",
     "text": [
      "Word2Vec(vocab=39564, size=300, alpha=0.025)\n"
     ]
    }
   ],
   "source": [
    "# trains sent_oversample_corpus2 on Word2Vec. For sent_oversample_corpus2, min_count of 5 and iter (epoch) of 10 \n",
    "# seems to be the best\n",
    "sent_w2v_model = Word2Vec(sent_oversample_corpus4, size=300, min_count=1, iter=10)\n",
    "\n",
    "print(sent_w2v_model) # sumarizes the word2vec"
   ]
  },
  {
   "cell_type": "code",
   "execution_count": 49,
   "metadata": {
    "execution": {
     "iopub.execute_input": "2020-11-08T02:22:41.295308Z",
     "iopub.status.busy": "2020-11-08T02:22:41.294286Z",
     "iopub.status.idle": "2020-11-08T02:22:41.296944Z",
     "shell.execute_reply": "2020-11-08T02:22:41.297548Z"
    },
    "papermill": {
     "duration": 0.11821,
     "end_time": "2020-11-08T02:22:41.297723",
     "exception": false,
     "start_time": "2020-11-08T02:22:41.179513",
     "status": "completed"
    },
    "tags": []
   },
   "outputs": [],
   "source": [
    "# getting the word2vec embeddings (vectors) of the corpus as input array\n",
    "#words_vectors = np.array([get_doc_vector(sent_w2v_model, doc) for doc in sent_oversample_corpus2])"
   ]
  },
  {
   "cell_type": "code",
   "execution_count": 50,
   "metadata": {
    "execution": {
     "iopub.execute_input": "2020-11-08T02:22:41.522034Z",
     "iopub.status.busy": "2020-11-08T02:22:41.520931Z",
     "iopub.status.idle": "2020-11-08T02:22:41.526464Z",
     "shell.execute_reply": "2020-11-08T02:22:41.525693Z"
    },
    "papermill": {
     "duration": 0.119655,
     "end_time": "2020-11-08T02:22:41.526593",
     "exception": false,
     "start_time": "2020-11-08T02:22:41.406938",
     "status": "completed"
    },
    "tags": []
   },
   "outputs": [
    {
     "data": {
      "text/plain": [
       "(300,)"
      ]
     },
     "execution_count": 50,
     "metadata": {},
     "output_type": "execute_result"
    }
   ],
   "source": [
    "sent_w2v_model['pineapple'].shape # confirms the dimension of our embedding"
   ]
  },
  {
   "cell_type": "markdown",
   "metadata": {
    "papermill": {
     "duration": 0.110967,
     "end_time": "2020-11-08T02:22:41.749316",
     "exception": false,
     "start_time": "2020-11-08T02:22:41.638349",
     "status": "completed"
    },
    "tags": []
   },
   "source": [
    "### Let's see some Word2Vec magic to boost our confidence in our trained word2vec model"
   ]
  },
  {
   "cell_type": "code",
   "execution_count": 51,
   "metadata": {
    "execution": {
     "iopub.execute_input": "2020-11-08T02:22:41.979818Z",
     "iopub.status.busy": "2020-11-08T02:22:41.978343Z",
     "iopub.status.idle": "2020-11-08T02:22:42.077179Z",
     "shell.execute_reply": "2020-11-08T02:22:42.076409Z"
    },
    "papermill": {
     "duration": 0.216644,
     "end_time": "2020-11-08T02:22:42.077329",
     "exception": false,
     "start_time": "2020-11-08T02:22:41.860685",
     "status": "completed"
    },
    "tags": []
   },
   "outputs": [
    {
     "data": {
      "text/plain": [
       "'italy'"
      ]
     },
     "execution_count": 51,
     "metadata": {},
     "output_type": "execute_result"
    }
   ],
   "source": [
    "# picking out the odd word\n",
    "sent_w2v_model.wv.doesnt_match(['cherry', 'italy', 'apple', 'pineapple', 'tangerine'])"
   ]
  },
  {
   "cell_type": "code",
   "execution_count": 52,
   "metadata": {
    "execution": {
     "iopub.execute_input": "2020-11-08T02:22:42.310471Z",
     "iopub.status.busy": "2020-11-08T02:22:42.309479Z",
     "iopub.status.idle": "2020-11-08T02:22:42.314684Z",
     "shell.execute_reply": "2020-11-08T02:22:42.314066Z"
    },
    "papermill": {
     "duration": 0.122438,
     "end_time": "2020-11-08T02:22:42.314823",
     "exception": false,
     "start_time": "2020-11-08T02:22:42.192385",
     "status": "completed"
    },
    "tags": []
   },
   "outputs": [
    {
     "data": {
      "text/plain": [
       "'france'"
      ]
     },
     "execution_count": 52,
     "metadata": {},
     "output_type": "execute_result"
    }
   ],
   "source": [
    "# picking out the odd word\n",
    "sent_w2v_model.wv.doesnt_match(['arizona', 'france', 'michigan', 'texas', 'pennsylvania'])"
   ]
  },
  {
   "cell_type": "code",
   "execution_count": 53,
   "metadata": {
    "execution": {
     "iopub.execute_input": "2020-11-08T02:22:42.570029Z",
     "iopub.status.busy": "2020-11-08T02:22:42.568864Z",
     "iopub.status.idle": "2020-11-08T02:22:42.582463Z",
     "shell.execute_reply": "2020-11-08T02:22:42.581633Z"
    },
    "papermill": {
     "duration": 0.156985,
     "end_time": "2020-11-08T02:22:42.582595",
     "exception": false,
     "start_time": "2020-11-08T02:22:42.425610",
     "status": "completed"
    },
    "tags": []
   },
   "outputs": [
    {
     "data": {
      "text/plain": [
       "'Estremadura'"
      ]
     },
     "execution_count": 53,
     "metadata": {},
     "output_type": "execute_result"
    }
   ],
   "source": [
    "# let's see a random province in Portugal\n",
    "balanced_df[balanced_df['country'] == 'Portugal']['province'].unique()[0]"
   ]
  },
  {
   "cell_type": "code",
   "execution_count": 54,
   "metadata": {
    "execution": {
     "iopub.execute_input": "2020-11-08T02:22:42.835278Z",
     "iopub.status.busy": "2020-11-08T02:22:42.834136Z",
     "iopub.status.idle": "2020-11-08T02:22:42.841698Z",
     "shell.execute_reply": "2020-11-08T02:22:42.840871Z"
    },
    "papermill": {
     "duration": 0.149174,
     "end_time": "2020-11-08T02:22:42.841829",
     "exception": false,
     "start_time": "2020-11-08T02:22:42.692655",
     "status": "completed"
    },
    "tags": []
   },
   "outputs": [
    {
     "data": {
      "text/plain": [
       "array(['British Columbia', 'Ontario'], dtype=object)"
      ]
     },
     "execution_count": 54,
     "metadata": {},
     "output_type": "execute_result"
    }
   ],
   "source": [
    "#provinces in Canada\n",
    "balanced_df[balanced_df['country'] == 'Canada']['province'].unique()"
   ]
  },
  {
   "cell_type": "code",
   "execution_count": 55,
   "metadata": {
    "execution": {
     "iopub.execute_input": "2020-11-08T02:22:43.079837Z",
     "iopub.status.busy": "2020-11-08T02:22:43.078842Z",
     "iopub.status.idle": "2020-11-08T02:22:43.093199Z",
     "shell.execute_reply": "2020-11-08T02:22:43.092452Z"
    },
    "papermill": {
     "duration": 0.138931,
     "end_time": "2020-11-08T02:22:43.093350",
     "exception": false,
     "start_time": "2020-11-08T02:22:42.954419",
     "status": "completed"
    },
    "tags": []
   },
   "outputs": [
    {
     "name": "stdout",
     "output_type": "stream",
     "text": [
      "[('canada', 0.5139081478118896), ('germany', 0.4165194034576416), ('balanced', 0.40944036841392517), ('lushly', 0.3760748505592346), ('emphasize', 0.3657227158546448), ('hedgerow', 0.3549306392669678), ('moderately', 0.35130345821380615), ('austria', 0.3455900549888611), ('france', 0.3389981687068939), ('stylish', 0.3361882269382477)]\n"
     ]
    }
   ],
   "source": [
    "# just like king - man + woman = queen, we want to prove that portugal - estremadura + ontario = canada\n",
    "print(sent_w2v_model.wv.most_similar(positive=['portugal', 'ontario'], negative=['estremadura']))"
   ]
  },
  {
   "cell_type": "markdown",
   "metadata": {
    "papermill": {
     "duration": 0.114988,
     "end_time": "2020-11-08T02:22:43.321088",
     "exception": false,
     "start_time": "2020-11-08T02:22:43.206100",
     "status": "completed"
    },
    "tags": []
   },
   "source": [
    "### From the result above, 'Canada' is our model's best answer"
   ]
  },
  {
   "cell_type": "code",
   "execution_count": 56,
   "metadata": {
    "execution": {
     "iopub.execute_input": "2020-11-08T02:22:43.553119Z",
     "iopub.status.busy": "2020-11-08T02:22:43.551768Z",
     "iopub.status.idle": "2020-11-08T02:22:43.567063Z",
     "shell.execute_reply": "2020-11-08T02:22:43.566045Z"
    },
    "papermill": {
     "duration": 0.133897,
     "end_time": "2020-11-08T02:22:43.567315",
     "exception": false,
     "start_time": "2020-11-08T02:22:43.433418",
     "status": "completed"
    },
    "tags": []
   },
   "outputs": [
    {
     "name": "stdout",
     "output_type": "stream",
     "text": [
      "[('scent', 0.786121666431427), ('aromas', 0.757851243019104), ('bouquet', 0.6815969944000244), ('note', 0.6237744092941284), ('nose', 0.601752758026123), ('smell', 0.584201991558075), ('flavors', 0.5783513784408569), ('whiff', 0.5566468834877014), ('fragrance', 0.5479871034622192), ('mix', 0.5331001281738281)]\n"
     ]
    }
   ],
   "source": [
    "# let's see the most similar words to 'aroma'\n",
    "print(sent_w2v_model.wv.most_similar('aroma'))"
   ]
  },
  {
   "cell_type": "code",
   "execution_count": 57,
   "metadata": {
    "execution": {
     "iopub.execute_input": "2020-11-08T02:22:43.805735Z",
     "iopub.status.busy": "2020-11-08T02:22:43.804374Z",
     "iopub.status.idle": "2020-11-08T02:22:43.813091Z",
     "shell.execute_reply": "2020-11-08T02:22:43.812410Z"
    },
    "papermill": {
     "duration": 0.130209,
     "end_time": "2020-11-08T02:22:43.813238",
     "exception": false,
     "start_time": "2020-11-08T02:22:43.683029",
     "status": "completed"
    },
    "tags": []
   },
   "outputs": [
    {
     "name": "stdout",
     "output_type": "stream",
     "text": [
      "[('tangerine', 0.6758991479873657), ('lemon', 0.5944236516952515), ('nasturtium', 0.5890825390815735), ('citrus', 0.5851237177848816), ('wakeup', 0.5508060455322266), ('nectarine', 0.5145564675331116), ('watermelon', 0.5117220878601074), ('grapefruit', 0.4962870478630066), ('lemongrass', 0.46861645579338074), ('bergamot', 0.46300625801086426)]\n"
     ]
    }
   ],
   "source": [
    "# let's see the most similar words to 'orange'\n",
    "print(sent_w2v_model.wv.most_similar('orange'))"
   ]
  },
  {
   "cell_type": "markdown",
   "metadata": {
    "papermill": {
     "duration": 0.120695,
     "end_time": "2020-11-08T02:22:44.048740",
     "exception": false,
     "start_time": "2020-11-08T02:22:43.928045",
     "status": "completed"
    },
    "tags": []
   },
   "source": [
    "### Word2Vec is powerful in capturing contexual semantics of words. Our Word2Vec model is doing that just right to a large extent."
   ]
  },
  {
   "cell_type": "code",
   "execution_count": null,
   "metadata": {
    "papermill": {
     "duration": 0.113251,
     "end_time": "2020-11-08T02:22:44.277642",
     "exception": false,
     "start_time": "2020-11-08T02:22:44.164391",
     "status": "completed"
    },
    "tags": []
   },
   "outputs": [],
   "source": []
  },
  {
   "cell_type": "code",
   "execution_count": 58,
   "metadata": {
    "execution": {
     "iopub.execute_input": "2020-11-08T02:22:44.513378Z",
     "iopub.status.busy": "2020-11-08T02:22:44.512281Z",
     "iopub.status.idle": "2020-11-08T02:22:44.516088Z",
     "shell.execute_reply": "2020-11-08T02:22:44.515306Z"
    },
    "papermill": {
     "duration": 0.124585,
     "end_time": "2020-11-08T02:22:44.516248",
     "exception": false,
     "start_time": "2020-11-08T02:22:44.391663",
     "status": "completed"
    },
    "tags": []
   },
   "outputs": [],
   "source": [
    "assert len(words_indices) == len(sent_w2v_model.wv.vocab)"
   ]
  },
  {
   "cell_type": "markdown",
   "metadata": {
    "papermill": {
     "duration": 0.114123,
     "end_time": "2020-11-08T02:22:44.743900",
     "exception": false,
     "start_time": "2020-11-08T02:22:44.629777",
     "status": "completed"
    },
    "tags": []
   },
   "source": [
    "## Modelling"
   ]
  },
  {
   "cell_type": "markdown",
   "metadata": {
    "papermill": {
     "duration": 0.11537,
     "end_time": "2020-11-08T02:22:44.973917",
     "exception": false,
     "start_time": "2020-11-08T02:22:44.858547",
     "status": "completed"
    },
    "tags": []
   },
   "source": [
    "### Defining a function that creates an embedding matrix"
   ]
  },
  {
   "cell_type": "code",
   "execution_count": 59,
   "metadata": {
    "execution": {
     "iopub.execute_input": "2020-11-08T02:22:45.223343Z",
     "iopub.status.busy": "2020-11-08T02:22:45.222435Z",
     "iopub.status.idle": "2020-11-08T02:22:45.225014Z",
     "shell.execute_reply": "2020-11-08T02:22:45.225776Z"
    },
    "papermill": {
     "duration": 0.125522,
     "end_time": "2020-11-08T02:22:45.225938",
     "exception": false,
     "start_time": "2020-11-08T02:22:45.100416",
     "status": "completed"
    },
    "tags": []
   },
   "outputs": [],
   "source": [
    "def get_embedding_matrix(model, word_index):\n",
    "    vocab_size = len(word_index) + 1\n",
    "    embedding_dim = model.wv.vector_size\n",
    "    embedding_matrix = np.zeros((vocab_size, embedding_dim))\n",
    "    \n",
    "    for word in model.wv.vocab:\n",
    "        ind = word_index[word]\n",
    "        embedding_matrix[ind] = model[word]\n",
    "        \n",
    "    return embedding_matrix"
   ]
  },
  {
   "cell_type": "code",
   "execution_count": 60,
   "metadata": {
    "execution": {
     "iopub.execute_input": "2020-11-08T02:22:45.460761Z",
     "iopub.status.busy": "2020-11-08T02:22:45.459600Z",
     "iopub.status.idle": "2020-11-08T02:22:45.992417Z",
     "shell.execute_reply": "2020-11-08T02:22:45.991698Z"
    },
    "papermill": {
     "duration": 0.651527,
     "end_time": "2020-11-08T02:22:45.992566",
     "exception": false,
     "start_time": "2020-11-08T02:22:45.341039",
     "status": "completed"
    },
    "tags": []
   },
   "outputs": [],
   "source": [
    "embedding_matrix = get_embedding_matrix(sent_w2v_model, words_indices)"
   ]
  },
  {
   "cell_type": "code",
   "execution_count": 61,
   "metadata": {
    "execution": {
     "iopub.execute_input": "2020-11-08T02:22:46.233992Z",
     "iopub.status.busy": "2020-11-08T02:22:46.232940Z",
     "iopub.status.idle": "2020-11-08T02:22:46.237919Z",
     "shell.execute_reply": "2020-11-08T02:22:46.237288Z"
    },
    "papermill": {
     "duration": 0.127038,
     "end_time": "2020-11-08T02:22:46.238040",
     "exception": false,
     "start_time": "2020-11-08T02:22:46.111002",
     "status": "completed"
    },
    "tags": []
   },
   "outputs": [
    {
     "data": {
      "text/plain": [
       "(39565, 300)"
      ]
     },
     "execution_count": 61,
     "metadata": {},
     "output_type": "execute_result"
    }
   ],
   "source": [
    "embedding_matrix.shape"
   ]
  },
  {
   "cell_type": "markdown",
   "metadata": {
    "papermill": {
     "duration": 0.114511,
     "end_time": "2020-11-08T02:22:46.466986",
     "exception": false,
     "start_time": "2020-11-08T02:22:46.352475",
     "status": "completed"
    },
    "tags": []
   },
   "source": [
    "### defining custom fbeta function"
   ]
  },
  {
   "cell_type": "code",
   "execution_count": 62,
   "metadata": {
    "execution": {
     "iopub.execute_input": "2020-11-08T02:22:46.711840Z",
     "iopub.status.busy": "2020-11-08T02:22:46.706799Z",
     "iopub.status.idle": "2020-11-08T02:22:46.715684Z",
     "shell.execute_reply": "2020-11-08T02:22:46.714848Z"
    },
    "papermill": {
     "duration": 0.133663,
     "end_time": "2020-11-08T02:22:46.715844",
     "exception": false,
     "start_time": "2020-11-08T02:22:46.582181",
     "status": "completed"
    },
    "tags": []
   },
   "outputs": [],
   "source": [
    "def multi_class_fbeta(ytrue , ypred, beta=1, weighted=True, epsilon=1e-7):\n",
    "    beta_squared = beta**2\n",
    "\n",
    "    ytrue = tf.cast(ytrue, tf.float32)\n",
    "    ypred= tf.cast(ypred, tf.float32)\n",
    "    \n",
    "    max_prob = tf.reduce_max(ypred, axis=-1, keepdims=True)\n",
    "    ypred = tf.cast(tf.equal(ypred, max_prob), tf.float32)\n",
    "        \n",
    "    tp = tf.reduce_sum(ytrue*ypred, axis=0)\n",
    "    predicted_positive = tf.reduce_sum(ypred, axis=0)\n",
    "    actual_positive = tf.reduce_sum(ytrue, axis=0)\n",
    "    \n",
    "    precision = tp/(predicted_positive+epsilon)\n",
    "    recall = tp/(actual_positive+epsilon)\n",
    "\n",
    "    fb = (1+beta_squared)*precision*recall / (beta_squared*precision + recall + epsilon)\n",
    "\n",
    "    if weighted:\n",
    "        supports = tf.reduce_sum(ytrue, axis=0)\n",
    "        return tf.reduce_sum(fb*supports / tf.reduce_sum(supports))\n",
    "\n",
    "    return tf.reduce_mean(fb)"
   ]
  },
  {
   "cell_type": "markdown",
   "metadata": {
    "papermill": {
     "duration": 0.113784,
     "end_time": "2020-11-08T02:22:46.943794",
     "exception": false,
     "start_time": "2020-11-08T02:22:46.830010",
     "status": "completed"
    },
    "tags": []
   },
   "source": [
    "### setting class weights"
   ]
  },
  {
   "cell_type": "code",
   "execution_count": 63,
   "metadata": {
    "execution": {
     "iopub.execute_input": "2020-11-08T02:22:47.194324Z",
     "iopub.status.busy": "2020-11-08T02:22:47.193353Z",
     "iopub.status.idle": "2020-11-08T02:22:47.196266Z",
     "shell.execute_reply": "2020-11-08T02:22:47.195517Z"
    },
    "papermill": {
     "duration": 0.130502,
     "end_time": "2020-11-08T02:22:47.196392",
     "exception": false,
     "start_time": "2020-11-08T02:22:47.065890",
     "status": "completed"
    },
    "tags": []
   },
   "outputs": [],
   "source": [
    "from sklearn.utils import class_weight"
   ]
  },
  {
   "cell_type": "code",
   "execution_count": 64,
   "metadata": {
    "execution": {
     "iopub.execute_input": "2020-11-08T02:22:47.487930Z",
     "iopub.status.busy": "2020-11-08T02:22:47.486735Z",
     "iopub.status.idle": "2020-11-08T02:22:47.505339Z",
     "shell.execute_reply": "2020-11-08T02:22:47.504705Z"
    },
    "papermill": {
     "duration": 0.190523,
     "end_time": "2020-11-08T02:22:47.505474",
     "exception": false,
     "start_time": "2020-11-08T02:22:47.314951",
     "status": "completed"
    },
    "tags": []
   },
   "outputs": [],
   "source": [
    "class_weights = class_weight.compute_class_weight('balanced', np.arange(20), sent_oversample_labels)\n",
    "class_weights = {k: v for k, v in enumerate(class_weights)}"
   ]
  },
  {
   "cell_type": "code",
   "execution_count": 65,
   "metadata": {
    "execution": {
     "iopub.execute_input": "2020-11-08T02:22:47.739978Z",
     "iopub.status.busy": "2020-11-08T02:22:47.739006Z",
     "iopub.status.idle": "2020-11-08T02:22:47.743125Z",
     "shell.execute_reply": "2020-11-08T02:22:47.743786Z"
    },
    "papermill": {
     "duration": 0.124436,
     "end_time": "2020-11-08T02:22:47.743949",
     "exception": false,
     "start_time": "2020-11-08T02:22:47.619513",
     "status": "completed"
    },
    "tags": []
   },
   "outputs": [
    {
     "name": "stdout",
     "output_type": "stream",
     "text": [
      "{0: 1.1543600867678958, 1: 0.8427364864864865, 2: 0.6791797838849656, 3: 0.9919721635392071, 4: 1.013766827533655, 5: 0.9846305661773775, 6: 2.015248674577127, 7: 0.6014466546112116, 8: 1.0321179208688906, 9: 0.8922870556673373, 10: 2.009667673716012, 11: 1.5383310849874734, 12: 0.8669925057021831, 13: 1.0740581270182992, 14: 0.6235762831028826, 15: 1.3906620209059233, 16: 0.7173256649892163, 17: 1.4377521613832853, 18: 1.3229035465694399, 19: 1.2257985257985258}\n"
     ]
    }
   ],
   "source": [
    "print(class_weights)"
   ]
  },
  {
   "cell_type": "code",
   "execution_count": null,
   "metadata": {
    "papermill": {
     "duration": 0.116548,
     "end_time": "2020-11-08T02:22:47.976582",
     "exception": false,
     "start_time": "2020-11-08T02:22:47.860034",
     "status": "completed"
    },
    "tags": []
   },
   "outputs": [],
   "source": []
  },
  {
   "cell_type": "code",
   "execution_count": 66,
   "metadata": {
    "execution": {
     "iopub.execute_input": "2020-11-08T02:22:48.279473Z",
     "iopub.status.busy": "2020-11-08T02:22:48.278087Z",
     "iopub.status.idle": "2020-11-08T02:22:48.286206Z",
     "shell.execute_reply": "2020-11-08T02:22:48.285281Z"
    },
    "papermill": {
     "duration": 0.186148,
     "end_time": "2020-11-08T02:22:48.287396",
     "exception": false,
     "start_time": "2020-11-08T02:22:48.101248",
     "status": "completed"
    },
    "tags": []
   },
   "outputs": [],
   "source": [
    "from tensorflow.keras.layers import Embedding, Dense, GlobalMaxPool1D, GlobalAvgPool1D, Dropout\n",
    "from tensorflow.keras.models import Sequential\n",
    "from tensorflow.keras.wrappers.scikit_learn import KerasClassifier\n",
    "from sklearn.model_selection import cross_val_score, RepeatedStratifiedKFold"
   ]
  },
  {
   "cell_type": "markdown",
   "metadata": {
    "papermill": {
     "duration": 0.120062,
     "end_time": "2020-11-08T02:22:48.574440",
     "exception": false,
     "start_time": "2020-11-08T02:22:48.454378",
     "status": "completed"
    },
    "tags": []
   },
   "source": [
    "### setting class weights"
   ]
  },
  {
   "cell_type": "code",
   "execution_count": 67,
   "metadata": {
    "execution": {
     "iopub.execute_input": "2020-11-08T02:22:48.823788Z",
     "iopub.status.busy": "2020-11-08T02:22:48.819542Z",
     "iopub.status.idle": "2020-11-08T02:22:48.827045Z",
     "shell.execute_reply": "2020-11-08T02:22:48.826386Z"
    },
    "papermill": {
     "duration": 0.133818,
     "end_time": "2020-11-08T02:22:48.827174",
     "exception": false,
     "start_time": "2020-11-08T02:22:48.693356",
     "status": "completed"
    },
    "tags": []
   },
   "outputs": [],
   "source": [
    "def build_mlp_model():\n",
    "    model = Sequential()\n",
    "    model.add(Embedding(embedding_matrix.shape[0], embedding_matrix.shape[1], \n",
    "                           weights=[embedding_matrix], \n",
    "                           input_length=sent_oversample_corpus3.shape[1], \n",
    "                           trainable=False))\n",
    "\n",
    "    model.add(GlobalMaxPool1D())\n",
    "\n",
    "    model.add(Dense(512, activation='relu'))\n",
    "    model.add(Dropout(0.2))\n",
    "    model.add(Dense(256, activation='relu'))\n",
    "    model.add(Dropout(0.2))\n",
    "    model.add(Dense(128, activation='relu'))\n",
    "    model.add(Dropout(0.2))\n",
    "    model.add(Dense(20, activation='softmax'))\n",
    "\n",
    "    model.compile(optimizer='adam',\n",
    "              loss='categorical_crossentropy',\n",
    "              metrics=['accuracy', multi_class_fbeta])\n",
    "\n",
    "    return model"
   ]
  },
  {
   "cell_type": "code",
   "execution_count": 68,
   "metadata": {
    "execution": {
     "iopub.execute_input": "2020-11-08T02:22:49.072620Z",
     "iopub.status.busy": "2020-11-08T02:22:49.071702Z",
     "iopub.status.idle": "2020-11-08T02:22:49.482200Z",
     "shell.execute_reply": "2020-11-08T02:22:49.483103Z"
    },
    "papermill": {
     "duration": 0.538186,
     "end_time": "2020-11-08T02:22:49.483442",
     "exception": false,
     "start_time": "2020-11-08T02:22:48.945256",
     "status": "completed"
    },
    "tags": []
   },
   "outputs": [
    {
     "name": "stdout",
     "output_type": "stream",
     "text": [
      "Model: \"sequential\"\n",
      "_________________________________________________________________\n",
      "Layer (type)                 Output Shape              Param #   \n",
      "=================================================================\n",
      "embedding (Embedding)        (None, 87, 300)           11869500  \n",
      "_________________________________________________________________\n",
      "global_max_pooling1d (Global (None, 300)               0         \n",
      "_________________________________________________________________\n",
      "dense (Dense)                (None, 512)               154112    \n",
      "_________________________________________________________________\n",
      "dropout (Dropout)            (None, 512)               0         \n",
      "_________________________________________________________________\n",
      "dense_1 (Dense)              (None, 256)               131328    \n",
      "_________________________________________________________________\n",
      "dropout_1 (Dropout)          (None, 256)               0         \n",
      "_________________________________________________________________\n",
      "dense_2 (Dense)              (None, 128)               32896     \n",
      "_________________________________________________________________\n",
      "dropout_2 (Dropout)          (None, 128)               0         \n",
      "_________________________________________________________________\n",
      "dense_3 (Dense)              (None, 20)                2580      \n",
      "=================================================================\n",
      "Total params: 12,190,416\n",
      "Trainable params: 320,916\n",
      "Non-trainable params: 11,869,500\n",
      "_________________________________________________________________\n"
     ]
    }
   ],
   "source": [
    "model = build_mlp_model()\n",
    "model.summary()"
   ]
  },
  {
   "cell_type": "code",
   "execution_count": 69,
   "metadata": {
    "execution": {
     "iopub.execute_input": "2020-11-08T02:22:49.731723Z",
     "iopub.status.busy": "2020-11-08T02:22:49.730900Z",
     "iopub.status.idle": "2020-11-08T02:28:42.295588Z",
     "shell.execute_reply": "2020-11-08T02:28:42.280716Z"
    },
    "papermill": {
     "duration": 352.689134,
     "end_time": "2020-11-08T02:28:42.295771",
     "exception": false,
     "start_time": "2020-11-08T02:22:49.606637",
     "status": "completed"
    },
    "tags": []
   },
   "outputs": [
    {
     "name": "stdout",
     "output_type": "stream",
     "text": [
      "Epoch 1/30\n",
      "936/936 [==============================] - 12s 13ms/step - loss: 1.2465 - accuracy: 0.5949 - multi_class_fbeta: 0.5881 - val_loss: 1.1111 - val_accuracy: 0.6430 - val_multi_class_fbeta: 0.6604\n",
      "Epoch 2/30\n",
      "936/936 [==============================] - 11s 12ms/step - loss: 0.9613 - accuracy: 0.6832 - multi_class_fbeta: 0.6815 - val_loss: 1.1172 - val_accuracy: 0.6417 - val_multi_class_fbeta: 0.6585\n",
      "Epoch 3/30\n",
      "936/936 [==============================] - 13s 14ms/step - loss: 0.9036 - accuracy: 0.7026 - multi_class_fbeta: 0.7014 - val_loss: 1.0995 - val_accuracy: 0.6571 - val_multi_class_fbeta: 0.6787\n",
      "Epoch 4/30\n",
      "936/936 [==============================] - 11s 12ms/step - loss: 0.8714 - accuracy: 0.7131 - multi_class_fbeta: 0.7126 - val_loss: 1.0186 - val_accuracy: 0.6684 - val_multi_class_fbeta: 0.6778\n",
      "Epoch 5/30\n",
      "936/936 [==============================] - 11s 12ms/step - loss: 0.8427 - accuracy: 0.7202 - multi_class_fbeta: 0.7201 - val_loss: 1.0010 - val_accuracy: 0.6732 - val_multi_class_fbeta: 0.6888\n",
      "Epoch 6/30\n",
      "936/936 [==============================] - 12s 12ms/step - loss: 0.8280 - accuracy: 0.7264 - multi_class_fbeta: 0.7256 - val_loss: 0.9504 - val_accuracy: 0.6940 - val_multi_class_fbeta: 0.7090\n",
      "Epoch 7/30\n",
      "936/936 [==============================] - 11s 12ms/step - loss: 0.8143 - accuracy: 0.7303 - multi_class_fbeta: 0.7300 - val_loss: 0.9717 - val_accuracy: 0.6858 - val_multi_class_fbeta: 0.7050\n",
      "Epoch 8/30\n",
      "936/936 [==============================] - 11s 12ms/step - loss: 0.8040 - accuracy: 0.7315 - multi_class_fbeta: 0.7313 - val_loss: 1.0048 - val_accuracy: 0.6719 - val_multi_class_fbeta: 0.6917\n",
      "Epoch 9/30\n",
      "936/936 [==============================] - 11s 12ms/step - loss: 0.7935 - accuracy: 0.7345 - multi_class_fbeta: 0.7343 - val_loss: 0.9228 - val_accuracy: 0.7010 - val_multi_class_fbeta: 0.7175\n",
      "Epoch 10/30\n",
      "936/936 [==============================] - 11s 12ms/step - loss: 0.7891 - accuracy: 0.7370 - multi_class_fbeta: 0.7369 - val_loss: 0.9845 - val_accuracy: 0.6823 - val_multi_class_fbeta: 0.6995\n",
      "Epoch 11/30\n",
      "936/936 [==============================] - 12s 12ms/step - loss: 0.7780 - accuracy: 0.7389 - multi_class_fbeta: 0.7390 - val_loss: 0.9141 - val_accuracy: 0.7032 - val_multi_class_fbeta: 0.7169\n",
      "Epoch 12/30\n",
      "936/936 [==============================] - 11s 12ms/step - loss: 0.7689 - accuracy: 0.7417 - multi_class_fbeta: 0.7417 - val_loss: 0.9168 - val_accuracy: 0.7020 - val_multi_class_fbeta: 0.7188\n",
      "Epoch 13/30\n",
      "936/936 [==============================] - 11s 12ms/step - loss: 0.7607 - accuracy: 0.7444 - multi_class_fbeta: 0.7443 - val_loss: 0.9243 - val_accuracy: 0.7014 - val_multi_class_fbeta: 0.7186\n",
      "Epoch 14/30\n",
      "936/936 [==============================] - 11s 12ms/step - loss: 0.7623 - accuracy: 0.7431 - multi_class_fbeta: 0.7430 - val_loss: 0.8888 - val_accuracy: 0.7096 - val_multi_class_fbeta: 0.7230\n",
      "Epoch 15/30\n",
      "936/936 [==============================] - 11s 12ms/step - loss: 0.7537 - accuracy: 0.7456 - multi_class_fbeta: 0.7454 - val_loss: 0.9050 - val_accuracy: 0.7123 - val_multi_class_fbeta: 0.7258\n",
      "Epoch 16/30\n",
      "936/936 [==============================] - 12s 13ms/step - loss: 0.7519 - accuracy: 0.7466 - multi_class_fbeta: 0.7464 - val_loss: 0.9696 - val_accuracy: 0.6872 - val_multi_class_fbeta: 0.7101\n",
      "Epoch 17/30\n",
      "936/936 [==============================] - 12s 12ms/step - loss: 0.7414 - accuracy: 0.7492 - multi_class_fbeta: 0.7499 - val_loss: 0.8910 - val_accuracy: 0.7124 - val_multi_class_fbeta: 0.7271\n",
      "Epoch 18/30\n",
      "936/936 [==============================] - 11s 12ms/step - loss: 0.7412 - accuracy: 0.7502 - multi_class_fbeta: 0.7504 - val_loss: 0.9690 - val_accuracy: 0.6900 - val_multi_class_fbeta: 0.7141\n",
      "Epoch 19/30\n",
      "936/936 [==============================] - 11s 12ms/step - loss: 0.7402 - accuracy: 0.7508 - multi_class_fbeta: 0.7508 - val_loss: 0.9099 - val_accuracy: 0.7053 - val_multi_class_fbeta: 0.7201\n",
      "Epoch 20/30\n",
      "936/936 [==============================] - 11s 12ms/step - loss: 0.7316 - accuracy: 0.7537 - multi_class_fbeta: 0.7539 - val_loss: 0.9165 - val_accuracy: 0.7050 - val_multi_class_fbeta: 0.7214\n",
      "Epoch 21/30\n",
      "936/936 [==============================] - 12s 12ms/step - loss: 0.7283 - accuracy: 0.7527 - multi_class_fbeta: 0.7530 - val_loss: 0.8608 - val_accuracy: 0.7219 - val_multi_class_fbeta: 0.7349\n",
      "Epoch 22/30\n",
      "936/936 [==============================] - 12s 12ms/step - loss: 0.7256 - accuracy: 0.7529 - multi_class_fbeta: 0.7530 - val_loss: 0.8918 - val_accuracy: 0.7065 - val_multi_class_fbeta: 0.7175\n",
      "Epoch 23/30\n",
      "936/936 [==============================] - 11s 12ms/step - loss: 0.7172 - accuracy: 0.7565 - multi_class_fbeta: 0.7566 - val_loss: 0.9104 - val_accuracy: 0.7089 - val_multi_class_fbeta: 0.7239\n",
      "Epoch 24/30\n",
      "936/936 [==============================] - 11s 12ms/step - loss: 0.7196 - accuracy: 0.7543 - multi_class_fbeta: 0.7542 - val_loss: 0.9007 - val_accuracy: 0.7088 - val_multi_class_fbeta: 0.7243\n",
      "Epoch 25/30\n",
      "936/936 [==============================] - 12s 13ms/step - loss: 0.7178 - accuracy: 0.7563 - multi_class_fbeta: 0.7568 - val_loss: 0.8429 - val_accuracy: 0.7309 - val_multi_class_fbeta: 0.7385\n",
      "Epoch 26/30\n",
      "936/936 [==============================] - 15s 16ms/step - loss: 0.7139 - accuracy: 0.7584 - multi_class_fbeta: 0.7587 - val_loss: 0.9108 - val_accuracy: 0.7088 - val_multi_class_fbeta: 0.7227\n",
      "Epoch 27/30\n",
      "936/936 [==============================] - 12s 13ms/step - loss: 0.7085 - accuracy: 0.7588 - multi_class_fbeta: 0.7588 - val_loss: 0.8812 - val_accuracy: 0.7139 - val_multi_class_fbeta: 0.7306\n",
      "Epoch 28/30\n",
      "936/936 [==============================] - 11s 12ms/step - loss: 0.7080 - accuracy: 0.7597 - multi_class_fbeta: 0.7598 - val_loss: 0.9219 - val_accuracy: 0.7017 - val_multi_class_fbeta: 0.7181\n",
      "Epoch 29/30\n",
      "936/936 [==============================] - 13s 14ms/step - loss: 0.7096 - accuracy: 0.7594 - multi_class_fbeta: 0.7601 - val_loss: 0.9100 - val_accuracy: 0.7044 - val_multi_class_fbeta: 0.7233\n",
      "Epoch 30/30\n",
      "936/936 [==============================] - 11s 12ms/step - loss: 0.7030 - accuracy: 0.7603 - multi_class_fbeta: 0.7605 - val_loss: 0.8632 - val_accuracy: 0.7207 - val_multi_class_fbeta: 0.7366\n"
     ]
    }
   ],
   "source": [
    "history = model.fit(sent_oversample_corpus3, sent_oversample_labels2,\n",
    "                    epochs=30,\n",
    "                    verbose=True,\n",
    "                    validation_split=0.25,\n",
    "                    batch_size=128,\n",
    "                    class_weight=class_weights)"
   ]
  },
  {
   "cell_type": "markdown",
   "metadata": {
    "papermill": {
     "duration": 2.345814,
     "end_time": "2020-11-08T02:28:46.967067",
     "exception": false,
     "start_time": "2020-11-08T02:28:44.621253",
     "status": "completed"
    },
    "tags": []
   },
   "source": [
    "### defining a function to plot useful metrics"
   ]
  },
  {
   "cell_type": "code",
   "execution_count": 70,
   "metadata": {
    "execution": {
     "iopub.execute_input": "2020-11-08T02:28:51.807477Z",
     "iopub.status.busy": "2020-11-08T02:28:51.806414Z",
     "iopub.status.idle": "2020-11-08T02:28:51.810527Z",
     "shell.execute_reply": "2020-11-08T02:28:51.809735Z"
    },
    "papermill": {
     "duration": 2.397509,
     "end_time": "2020-11-08T02:28:51.810660",
     "exception": false,
     "start_time": "2020-11-08T02:28:49.413151",
     "status": "completed"
    },
    "tags": []
   },
   "outputs": [],
   "source": [
    "plt.style.use('ggplot')\n",
    "\n",
    "def plot_history(history):\n",
    "    acc = history.history['accuracy']\n",
    "    val_acc = history.history['val_accuracy']\n",
    "    fbeta = history.history['multi_class_fbeta']\n",
    "    val_fbeta = history.history['val_multi_class_fbeta']\n",
    "    loss = history.history['loss']\n",
    "    val_loss = history.history['val_loss']\n",
    "    epochs = range(1, len(acc) + 1)\n",
    "\n",
    "    metrics = {'loss': (loss, val_loss), 'accuracy': (acc, val_acc), 'fbeta': (fbeta, val_fbeta)}\n",
    "    \n",
    "    plt.figure(figsize=(18, 5))\n",
    "    \n",
    "    for i, metric in zip(range(1, 4), list(metrics.keys())):\n",
    "        plt.subplot(1, 3, i)\n",
    "        plt.plot(epochs, metrics[metric][0], 'b', label='Training ' + metric)\n",
    "        plt.plot(epochs, metrics[metric][1], 'r', label='Validation ' + metric)\n",
    "        plt.title('Training and validation ' + metric)\n",
    "        plt.legend()"
   ]
  },
  {
   "cell_type": "code",
   "execution_count": 71,
   "metadata": {
    "execution": {
     "iopub.execute_input": "2020-11-08T02:28:56.537560Z",
     "iopub.status.busy": "2020-11-08T02:28:56.536723Z",
     "iopub.status.idle": "2020-11-08T02:28:57.113311Z",
     "shell.execute_reply": "2020-11-08T02:28:57.112499Z"
    },
    "papermill": {
     "duration": 2.932977,
     "end_time": "2020-11-08T02:28:57.113456",
     "exception": false,
     "start_time": "2020-11-08T02:28:54.180479",
     "status": "completed"
    },
    "tags": []
   },
   "outputs": [
    {
     "data": {
      "image/png": "[encoded data removed]",
      "text/plain": [
       "<Figure size 1296x360 with 3 Axes>"
      ]
     },
     "metadata": {},
     "output_type": "display_data"
    }
   ],
   "source": [
    "plot_history(history)"
   ]
  },
  {
   "cell_type": "markdown",
   "metadata": {
    "papermill": {
     "duration": 2.358745,
     "end_time": "2020-11-08T02:29:01.847826",
     "exception": false,
     "start_time": "2020-11-08T02:28:59.489081",
     "status": "completed"
    },
    "tags": []
   },
   "source": [
    "### from the plots, the best number of epoch seems to be 25 (where the validation loss function is minimal)"
   ]
  },
  {
   "cell_type": "markdown",
   "metadata": {
    "papermill": {
     "duration": 2.324005,
     "end_time": "2020-11-08T02:29:06.543422",
     "exception": false,
     "start_time": "2020-11-08T02:29:04.219417",
     "status": "completed"
    },
    "tags": []
   },
   "source": [
    "### cross validation score (important score to report that is less affected by overfitting)"
   ]
  },
  {
   "cell_type": "code",
   "execution_count": 72,
   "metadata": {
    "execution": {
     "iopub.execute_input": "2020-11-08T02:29:11.235461Z",
     "iopub.status.busy": "2020-11-08T02:29:11.234403Z",
     "iopub.status.idle": "2020-11-08T02:29:11.237055Z",
     "shell.execute_reply": "2020-11-08T02:29:11.237636Z"
    },
    "papermill": {
     "duration": 2.32674,
     "end_time": "2020-11-08T02:29:11.237805",
     "exception": false,
     "start_time": "2020-11-08T02:29:08.911065",
     "status": "completed"
    },
    "tags": []
   },
   "outputs": [],
   "source": [
    "model2 = KerasClassifier(build_fn=build_mlp_model)"
   ]
  },
  {
   "cell_type": "code",
   "execution_count": 73,
   "metadata": {
    "execution": {
     "iopub.execute_input": "2020-11-08T02:29:15.916716Z",
     "iopub.status.busy": "2020-11-08T02:29:15.915494Z",
     "iopub.status.idle": "2020-11-08T02:29:15.919312Z",
     "shell.execute_reply": "2020-11-08T02:29:15.918559Z"
    },
    "papermill": {
     "duration": 2.330022,
     "end_time": "2020-11-08T02:29:15.919440",
     "exception": false,
     "start_time": "2020-11-08T02:29:13.589418",
     "status": "completed"
    },
    "tags": []
   },
   "outputs": [],
   "source": [
    "# creating a RepeatedStratifiedKFold object. Since we plan using 25% as our test-size, we will use 4 fold cv.\n",
    "# to have a level plain ground for comparing different models, we will be using random state of 1 through out.\n",
    "cv = RepeatedStratifiedKFold(n_splits=4, n_repeats=3, random_state=1)"
   ]
  },
  {
   "cell_type": "markdown",
   "metadata": {
    "papermill": {
     "duration": 2.327118,
     "end_time": "2020-11-08T02:29:20.630721",
     "exception": false,
     "start_time": "2020-11-08T02:29:18.303603",
     "status": "completed"
    },
    "tags": []
   },
   "source": [
    "### setting n_jobs greater than 1 always throw error. After looking up keras and sklearn's related issues in their github repo, it seems it is a bug that needs to be fixed. We have no option but to use njobs=1, although, it will run for long."
   ]
  },
  {
   "cell_type": "code",
   "execution_count": 74,
   "metadata": {
    "execution": {
     "iopub.execute_input": "2020-11-08T02:29:25.405418Z",
     "iopub.status.busy": "2020-11-08T02:29:25.404561Z",
     "iopub.status.idle": "2020-11-08T03:16:35.662801Z",
     "shell.execute_reply": "2020-11-08T03:16:35.663538Z"
    },
    "papermill": {
     "duration": 2832.715138,
     "end_time": "2020-11-08T03:16:35.663717",
     "exception": false,
     "start_time": "2020-11-08T02:29:22.948579",
     "status": "completed"
    },
    "tags": []
   },
   "outputs": [
    {
     "name": "stderr",
     "output_type": "stream",
     "text": [
      "[Parallel(n_jobs=1)]: Using backend SequentialBackend with 1 concurrent workers.\n",
      "[Parallel(n_jobs=1)]: Done  12 out of  12 | elapsed: 47.1min finished\n"
     ]
    }
   ],
   "source": [
    "score = cross_val_score(model2, sent_oversample_corpus3, sent_oversample_labels, scoring='f1_weighted', cv=cv,\\\n",
    "                        n_jobs=1, verbose=1, fit_params={\\\n",
    "                        'epochs': 25, 'batch_size': 128, 'class_weight': class_weights, 'verbose': 0})"
   ]
  },
  {
   "cell_type": "code",
   "execution_count": 75,
   "metadata": {
    "execution": {
     "iopub.execute_input": "2020-11-08T03:16:40.323185Z",
     "iopub.status.busy": "2020-11-08T03:16:40.322124Z",
     "iopub.status.idle": "2020-11-08T03:16:40.326827Z",
     "shell.execute_reply": "2020-11-08T03:16:40.326006Z"
    },
    "papermill": {
     "duration": 2.335246,
     "end_time": "2020-11-08T03:16:40.326959",
     "exception": false,
     "start_time": "2020-11-08T03:16:37.991713",
     "status": "completed"
    },
    "tags": []
   },
   "outputs": [
    {
     "data": {
      "text/plain": [
       "0.7582619545812436"
      ]
     },
     "execution_count": 75,
     "metadata": {},
     "output_type": "execute_result"
    }
   ],
   "source": [
    "np.mean(score)"
   ]
  },
  {
   "cell_type": "markdown",
   "metadata": {
    "papermill": {
     "duration": 2.331534,
     "end_time": "2020-11-08T03:16:45.074418",
     "exception": false,
     "start_time": "2020-11-08T03:16:42.742884",
     "status": "completed"
    },
    "tags": []
   },
   "source": [
    "## Reporting other useful results"
   ]
  },
  {
   "cell_type": "code",
   "execution_count": 76,
   "metadata": {
    "execution": {
     "iopub.execute_input": "2020-11-08T03:16:49.839475Z",
     "iopub.status.busy": "2020-11-08T03:16:49.838738Z",
     "iopub.status.idle": "2020-11-08T03:16:49.842110Z",
     "shell.execute_reply": "2020-11-08T03:16:49.841421Z"
    },
    "papermill": {
     "duration": 2.454349,
     "end_time": "2020-11-08T03:16:49.842261",
     "exception": false,
     "start_time": "2020-11-08T03:16:47.387912",
     "status": "completed"
    },
    "tags": []
   },
   "outputs": [],
   "source": [
    "from sklearn.model_selection import train_test_split\n",
    "from sklearn.metrics import roc_auc_score"
   ]
  },
  {
   "cell_type": "code",
   "execution_count": 77,
   "metadata": {
    "execution": {
     "iopub.execute_input": "2020-11-08T03:16:54.565640Z",
     "iopub.status.busy": "2020-11-08T03:16:54.564853Z",
     "iopub.status.idle": "2020-11-08T03:16:54.628043Z",
     "shell.execute_reply": "2020-11-08T03:16:54.627396Z"
    },
    "papermill": {
     "duration": 2.45652,
     "end_time": "2020-11-08T03:16:54.628187",
     "exception": false,
     "start_time": "2020-11-08T03:16:52.171667",
     "status": "completed"
    },
    "tags": []
   },
   "outputs": [],
   "source": [
    "X_train, X_test, y_train, y_test = train_test_split(sent_oversample_corpus3, sent_oversample_labels2, \\\n",
    "                                                    test_size=0.25, random_state=1)"
   ]
  },
  {
   "cell_type": "markdown",
   "metadata": {
    "papermill": {
     "duration": 2.405063,
     "end_time": "2020-11-08T03:16:59.365371",
     "exception": false,
     "start_time": "2020-11-08T03:16:56.960308",
     "status": "completed"
    },
    "tags": []
   },
   "source": [
    "### We don't want to use either model 1 or model 2 to predict the test set because both must have somehow be trained on the test set. So we need to rebuild another model that won't see the test set."
   ]
  },
  {
   "cell_type": "code",
   "execution_count": 78,
   "metadata": {
    "execution": {
     "iopub.execute_input": "2020-11-08T03:17:04.103938Z",
     "iopub.status.busy": "2020-11-08T03:17:04.103143Z",
     "iopub.status.idle": "2020-11-08T03:17:04.410678Z",
     "shell.execute_reply": "2020-11-08T03:17:04.409877Z"
    },
    "papermill": {
     "duration": 2.719881,
     "end_time": "2020-11-08T03:17:04.410808",
     "exception": false,
     "start_time": "2020-11-08T03:17:01.690927",
     "status": "completed"
    },
    "tags": []
   },
   "outputs": [],
   "source": [
    "model3 = build_mlp_model() # builds model"
   ]
  },
  {
   "cell_type": "code",
   "execution_count": 79,
   "metadata": {
    "execution": {
     "iopub.execute_input": "2020-11-08T03:17:09.104581Z",
     "iopub.status.busy": "2020-11-08T03:17:09.103211Z",
     "iopub.status.idle": "2020-11-08T03:21:21.632304Z",
     "shell.execute_reply": "2020-11-08T03:21:21.631505Z"
    },
    "papermill": {
     "duration": 254.859431,
     "end_time": "2020-11-08T03:21:21.632465",
     "exception": false,
     "start_time": "2020-11-08T03:17:06.773034",
     "status": "completed"
    },
    "tags": []
   },
   "outputs": [
    {
     "name": "stdout",
     "output_type": "stream",
     "text": [
      "Epoch 1/25\n",
      "936/936 [==============================] - 10s 11ms/step - loss: 1.3163 - accuracy: 0.5790 - multi_class_fbeta: 0.5746\n",
      "Epoch 2/25\n",
      "936/936 [==============================] - 10s 10ms/step - loss: 1.0192 - accuracy: 0.6682 - multi_class_fbeta: 0.6668\n",
      "Epoch 3/25\n",
      "936/936 [==============================] - 10s 11ms/step - loss: 0.9607 - accuracy: 0.6858 - multi_class_fbeta: 0.6852\n",
      "Epoch 4/25\n",
      "936/936 [==============================] - 10s 11ms/step - loss: 0.9207 - accuracy: 0.6987 - multi_class_fbeta: 0.6987\n",
      "Epoch 5/25\n",
      "936/936 [==============================] - 10s 11ms/step - loss: 0.8998 - accuracy: 0.7043 - multi_class_fbeta: 0.7039\n",
      "Epoch 6/25\n",
      "936/936 [==============================] - 10s 10ms/step - loss: 0.8868 - accuracy: 0.7085 - multi_class_fbeta: 0.7084\n",
      "Epoch 7/25\n",
      "936/936 [==============================] - 10s 11ms/step - loss: 0.8702 - accuracy: 0.7122 - multi_class_fbeta: 0.7121\n",
      "Epoch 8/25\n",
      "936/936 [==============================] - 9s 10ms/step - loss: 0.8595 - accuracy: 0.7149 - multi_class_fbeta: 0.7154\n",
      "Epoch 9/25\n",
      "936/936 [==============================] - 10s 10ms/step - loss: 0.8407 - accuracy: 0.7213 - multi_class_fbeta: 0.7212\n",
      "Epoch 10/25\n",
      "936/936 [==============================] - 10s 11ms/step - loss: 0.8381 - accuracy: 0.7207 - multi_class_fbeta: 0.7205\n",
      "Epoch 11/25\n",
      "936/936 [==============================] - 10s 11ms/step - loss: 0.8281 - accuracy: 0.7237 - multi_class_fbeta: 0.7239\n",
      "Epoch 12/25\n",
      "936/936 [==============================] - 10s 10ms/step - loss: 0.8197 - accuracy: 0.7269 - multi_class_fbeta: 0.7277\n",
      "Epoch 13/25\n",
      "936/936 [==============================] - 10s 10ms/step - loss: 0.8165 - accuracy: 0.7269 - multi_class_fbeta: 0.7272\n",
      "Epoch 14/25\n",
      "936/936 [==============================] - 10s 11ms/step - loss: 0.8070 - accuracy: 0.7299 - multi_class_fbeta: 0.7311\n",
      "Epoch 15/25\n",
      "936/936 [==============================] - 10s 10ms/step - loss: 0.7987 - accuracy: 0.7334 - multi_class_fbeta: 0.7339\n",
      "Epoch 16/25\n",
      "936/936 [==============================] - 10s 10ms/step - loss: 0.8020 - accuracy: 0.7320 - multi_class_fbeta: 0.7327\n",
      "Epoch 17/25\n",
      "936/936 [==============================] - 12s 13ms/step - loss: 0.7921 - accuracy: 0.7338 - multi_class_fbeta: 0.7348\n",
      "Epoch 18/25\n",
      "936/936 [==============================] - 10s 10ms/step - loss: 0.7933 - accuracy: 0.7342 - multi_class_fbeta: 0.7350\n",
      "Epoch 19/25\n",
      "936/936 [==============================] - 10s 10ms/step - loss: 0.7902 - accuracy: 0.7342 - multi_class_fbeta: 0.7345\n",
      "Epoch 20/25\n",
      "936/936 [==============================] - 10s 10ms/step - loss: 0.7799 - accuracy: 0.7390 - multi_class_fbeta: 0.7394\n",
      "Epoch 21/25\n",
      "936/936 [==============================] - 10s 11ms/step - loss: 0.7775 - accuracy: 0.7377 - multi_class_fbeta: 0.7383\n",
      "Epoch 22/25\n",
      "936/936 [==============================] - 10s 11ms/step - loss: 0.7767 - accuracy: 0.7397 - multi_class_fbeta: 0.7408\n",
      "Epoch 23/25\n",
      "936/936 [==============================] - 12s 13ms/step - loss: 0.7721 - accuracy: 0.7403 - multi_class_fbeta: 0.7411\n",
      "Epoch 24/25\n",
      "936/936 [==============================] - 10s 11ms/step - loss: 0.7702 - accuracy: 0.7400 - multi_class_fbeta: 0.7409\n",
      "Epoch 25/25\n",
      "936/936 [==============================] - 10s 11ms/step - loss: 0.7652 - accuracy: 0.7422 - multi_class_fbeta: 0.7428\n"
     ]
    },
    {
     "data": {
      "text/plain": [
       "<tensorflow.python.keras.callbacks.History at 0x7ff563d4c910>"
      ]
     },
     "execution_count": 79,
     "metadata": {},
     "output_type": "execute_result"
    }
   ],
   "source": [
    "model3.fit(X_train, y_train,\n",
    "                    epochs=25, # using the best epoch from model1\n",
    "                    verbose=True,\n",
    "                    batch_size=128,\n",
    "                    class_weight=class_weights)"
   ]
  },
  {
   "cell_type": "code",
   "execution_count": 80,
   "metadata": {
    "execution": {
     "iopub.execute_input": "2020-11-08T03:21:30.201694Z",
     "iopub.status.busy": "2020-11-08T03:21:30.200763Z",
     "iopub.status.idle": "2020-11-08T03:21:37.823100Z",
     "shell.execute_reply": "2020-11-08T03:21:37.823783Z"
    },
    "papermill": {
     "duration": 11.992617,
     "end_time": "2020-11-08T03:21:37.823952",
     "exception": false,
     "start_time": "2020-11-08T03:21:25.831335",
     "status": "completed"
    },
    "tags": []
   },
   "outputs": [
    {
     "name": "stdout",
     "output_type": "stream",
     "text": [
      "Training Accuracy: 0.7734\n",
      "Training Fbeta: 0.7742\n",
      "\n",
      "Testing Accuracy: 0.7766\n",
      "Testing Fbeta: 0.7772\n"
     ]
    }
   ],
   "source": [
    "loss, accuracy, fbeta = model.evaluate(X_train, y_train, batch_size=128, verbose=False)\n",
    "print('Training Accuracy: {:.4f}\\nTraining Fbeta: {:.4f}'.format(accuracy, fbeta))\n",
    "print()\n",
    "loss, accuracy, fbeta = model.evaluate(X_test, y_test, batch_size=128, verbose=False)\n",
    "print('Testing Accuracy: {:.4f}\\nTesting Fbeta: {:.4f}'.format(accuracy, fbeta))\n"
   ]
  },
  {
   "cell_type": "code",
   "execution_count": 81,
   "metadata": {
    "execution": {
     "iopub.execute_input": "2020-11-08T03:21:46.371740Z",
     "iopub.status.busy": "2020-11-08T03:21:46.370906Z",
     "iopub.status.idle": "2020-11-08T03:21:57.753623Z",
     "shell.execute_reply": "2020-11-08T03:21:57.752943Z"
    },
    "papermill": {
     "duration": 15.673114,
     "end_time": "2020-11-08T03:21:57.753778",
     "exception": false,
     "start_time": "2020-11-08T03:21:42.080664",
     "status": "completed"
    },
    "tags": []
   },
   "outputs": [],
   "source": [
    "y_pred_train = model.predict(X_train)\n",
    "y_pred_test = model.predict(X_test)"
   ]
  },
  {
   "cell_type": "code",
   "execution_count": 82,
   "metadata": {
    "execution": {
     "iopub.execute_input": "2020-11-08T03:22:06.263539Z",
     "iopub.status.busy": "2020-11-08T03:22:06.262640Z",
     "iopub.status.idle": "2020-11-08T03:22:07.282374Z",
     "shell.execute_reply": "2020-11-08T03:22:07.281669Z"
    },
    "papermill": {
     "duration": 5.252137,
     "end_time": "2020-11-08T03:22:07.282501",
     "exception": false,
     "start_time": "2020-11-08T03:22:02.030364",
     "status": "completed"
    },
    "tags": []
   },
   "outputs": [
    {
     "name": "stdout",
     "output_type": "stream",
     "text": [
      "Training AUC: 0.9825\n",
      "Testing AUC: 0.9829\n"
     ]
    }
   ],
   "source": [
    "print('Training AUC: {:.4f}'.format(\\\n",
    "    roc_auc_score(y_train, y_pred_train, average='weighted', multi_class='ovr')))\n",
    "      \n",
    "print('Testing AUC: {:.4f}'.format(\\\n",
    "    roc_auc_score(y_test, y_pred_test, average='weighted', multi_class='ovr')))"
   ]
  },
  {
   "cell_type": "code",
   "execution_count": null,
   "metadata": {
    "papermill": {
     "duration": 4.205706,
     "end_time": "2020-11-08T03:22:15.730920",
     "exception": false,
     "start_time": "2020-11-08T03:22:11.525214",
     "status": "completed"
    },
    "tags": []
   },
   "outputs": [],
   "source": []
  }
 ],
 "metadata": {
  "kernelspec": {
   "display_name": "Python 3",
   "language": "python",
   "name": "python3"
  },
  "language_info": {
   "codemirror_mode": {
    "name": "ipython",
    "version": 3
   },
   "file_extension": ".py",
   "mimetype": "text/x-python",
   "name": "python",
   "nbconvert_exporter": "python",
   "pygments_lexer": "ipython3",
   "version": "3.7.6"
  },
  "papermill": {
   "duration": 3865.442784,
   "end_time": "2020-11-08T03:22:20.197048",
   "environment_variables": {},
   "exception": null,
   "input_path": "__notebook__.ipynb",
   "output_path": "__notebook__.ipynb",
   "parameters": {},
   "start_time": "2020-11-08T02:17:54.754264",
   "version": "2.1.0"
  }
 },
 "nbformat": 4,
 "nbformat_minor": 4
}
