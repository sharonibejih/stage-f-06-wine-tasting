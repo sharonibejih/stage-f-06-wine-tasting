{
  "nbformat": 4,
  "nbformat_minor": 0,
  "metadata": {
    "accelerator": "GPU",
    "colab": {
      "name": "LSTM 3 wine review.ipynb",
      "provenance": [],
      "collapsed_sections": []
    },
    "kernelspec": {
      "display_name": "Python 3",
      "name": "python3"
    }
  },
  "cells": [
    {
      "cell_type": "code",
      "metadata": {
        "id": "AeLg7YhlvR7w",
        "outputId": "0b539dde-dc53-4b4c-f098-dd1904a88e6d",
        "colab": {
          "resources": {
            "http://localhost:8080/nbextensions/google.colab/files.js": {
              "data": "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",
              "ok": true,
              "headers": [
                [
                  "content-type",
                  "application/javascript"
                ]
              ],
              "status": 200,
              "status_text": "OK"
            }
          },
          "base_uri": "https://localhost:8080/",
          "height": 94
        }
      },
      "source": [
        "from google.colab import files\n",
        "files.upload()"
      ],
      "execution_count": 11,
      "outputs": [
        {
          "output_type": "display_data",
          "data": {
            "text/html": [
              "\n",
              "     <input type=\"file\" id=\"files-a3f90bf2-00c3-421c-b734-17e1ea8ae1ff\" name=\"files[]\" multiple disabled\n",
              "        style=\"border:none\" />\n",
              "     <output id=\"result-a3f90bf2-00c3-421c-b734-17e1ea8ae1ff\">\n",
              "      Upload widget is only available when the cell has been executed in the\n",
              "      current browser session. Please rerun this cell to enable.\n",
              "      </output>\n",
              "      <script src=\"/nbextensions/google.colab/files.js\"></script> "
            ],
            "text/plain": [
              "<IPython.core.display.HTML object>"
            ]
          },
          "metadata": {
            "tags": []
          }
        },
        {
          "output_type": "stream",
          "text": [
            "Saving kaggle(2).json to kaggle(2).json\n"
          ],
          "name": "stdout"
        },
        {
          "output_type": "execute_result",
          "data": {
            "text/plain": [
              "{'kaggle(2).json': b'{\"username\":\"olaidejoseph10\",\"key\":\"5572249a5ed92c437edf44cfe3b69f4e\"}'}"
            ]
          },
          "metadata": {
            "tags": []
          },
          "execution_count": 11
        }
      ]
    },
    {
      "cell_type": "code",
      "metadata": {
        "id": "XJfBDLLPktKd"
      },
      "source": [
        "import os\n",
        "os.environ['KAGGLE_CONFIG_DIR'] = \"/content\""
      ],
      "execution_count": null,
      "outputs": []
    },
    {
      "cell_type": "code",
      "metadata": {
        "id": "dZVZOBO1kwC1"
      },
      "source": [
        "#changing the working directory\n",
        "%cd /content\n",
        "\n",
        "#Check the present working directory using pwd command"
      ],
      "execution_count": null,
      "outputs": []
    },
    {
      "cell_type": "code",
      "metadata": {
        "id": "yj4qmTiikjzk",
        "outputId": "39a1b92b-c379-4bde-9796-9dd9dfce9a64",
        "colab": {
          "base_uri": "https://localhost:8080/"
        }
      },
      "source": [
        "!kaggle datasets download -d zynicide/wine-reviews"
      ],
      "execution_count": 15,
      "outputs": [
        {
          "output_type": "stream",
          "text": [
            "Warning: Your Kaggle API key is readable by other users on this system! To fix this, you can run 'chmod 600 /content/kaggle.json'\n",
            "Downloading wine-reviews.zip to /content\n",
            " 81% 41.0M/50.9M [00:00<00:00, 63.8MB/s]\n",
            "100% 50.9M/50.9M [00:00<00:00, 104MB/s] \n"
          ],
          "name": "stdout"
        }
      ]
    },
    {
      "cell_type": "code",
      "metadata": {
        "id": "f-MAav7Jj8IM",
        "outputId": "28ba3ff6-e31f-4f10-eb4d-481a9c1a49a1",
        "colab": {
          "base_uri": "https://localhost:8080/"
        }
      },
      "source": [
        "!unzip /content/wine-reviews.zip"
      ],
      "execution_count": 16,
      "outputs": [
        {
          "output_type": "stream",
          "text": [
            "Archive:  /content/wine-reviews.zip\n",
            "  inflating: winemag-data-130k-v2.csv  \n",
            "  inflating: winemag-data-130k-v2.json  \n",
            "  inflating: winemag-data_first150k.csv  \n"
          ],
          "name": "stdout"
        }
      ]
    },
    {
      "cell_type": "code",
      "metadata": {
        "id": "p6lsqKZtkDAW",
        "outputId": "c235c1bc-acdb-433c-a6cc-b5120678b9dd",
        "colab": {
          "base_uri": "https://localhost:8080/"
        }
      },
      "source": [
        "!ls"
      ],
      "execution_count": 17,
      "outputs": [
        {
          "output_type": "stream",
          "text": [
            "drive\t     winemag-data-130k-v2.csv\t wine-reviews.zip\n",
            "kaggle.json  winemag-data-130k-v2.json\n",
            "sample_data  winemag-data_first150k.csv\n"
          ],
          "name": "stdout"
        }
      ]
    },
    {
      "cell_type": "markdown",
      "metadata": {
        "id": "KiBmAE3A-fD7"
      },
      "source": [
        "Importing relevant libraries"
      ]
    },
    {
      "cell_type": "code",
      "metadata": {
        "id": "QRSP8JGtkE9U"
      },
      "source": [
        "import pandas as pd\n",
        "import numpy as np\n",
        "import matplotlib.pyplot as plt\n",
        "import seaborn as sns\n",
        "\n",
        "import spacy\n",
        "from gensim.models import Word2Vec # importing Word2Vec\n",
        "\n",
        "import tensorflow as tf\n",
        "from tensorflow.keras.optimizers import Adam, SGD\n",
        "from tensorflow.keras.models import Sequential\n",
        "from tensorflow.keras.layers import Dense, GlobalAveragePooling1D, Conv1D, Dropout, SpatialDropout1D, LSTM, Embedding, GlobalMaxPool1D\n",
        "from tensorflow.keras.callbacks import ModelCheckpoint, EarlyStopping, ReduceLROnPlateau, LearningRateScheduler\n",
        "from tensorflow.keras.preprocessing.text import Tokenizer\n",
        "from tensorflow.keras.preprocessing.sequence import pad_sequences\n",
        "\n",
        "\n",
        "import warnings\n",
        "warnings.filterwarnings('ignore')"
      ],
      "execution_count": 18,
      "outputs": []
    },
    {
      "cell_type": "code",
      "metadata": {
        "id": "3UbYsEvOkYGL"
      },
      "source": [
        "df = pd.read_csv('/content/winemag-data-130k-v2.csv')"
      ],
      "execution_count": 19,
      "outputs": []
    },
    {
      "cell_type": "code",
      "metadata": {
        "id": "QMpRxxmAk6hq",
        "outputId": "f3ab723b-ac11-472d-8efc-18359c544bf9",
        "colab": {
          "base_uri": "https://localhost:8080/",
          "height": 571
        }
      },
      "source": [
        "df.head()"
      ],
      "execution_count": 20,
      "outputs": [
        {
          "output_type": "execute_result",
          "data": {
            "text/html": [
              "<div>\n",
              "<style scoped>\n",
              "    .dataframe tbody tr th:only-of-type {\n",
              "        vertical-align: middle;\n",
              "    }\n",
              "\n",
              "    .dataframe tbody tr th {\n",
              "        vertical-align: top;\n",
              "    }\n",
              "\n",
              "    .dataframe thead th {\n",
              "        text-align: right;\n",
              "    }\n",
              "</style>\n",
              "<table border=\"1\" class=\"dataframe\">\n",
              "  <thead>\n",
              "    <tr style=\"text-align: right;\">\n",
              "      <th></th>\n",
              "      <th>Unnamed: 0</th>\n",
              "      <th>country</th>\n",
              "      <th>description</th>\n",
              "      <th>designation</th>\n",
              "      <th>points</th>\n",
              "      <th>price</th>\n",
              "      <th>province</th>\n",
              "      <th>region_1</th>\n",
              "      <th>region_2</th>\n",
              "      <th>taster_name</th>\n",
              "      <th>taster_twitter_handle</th>\n",
              "      <th>title</th>\n",
              "      <th>variety</th>\n",
              "      <th>winery</th>\n",
              "    </tr>\n",
              "  </thead>\n",
              "  <tbody>\n",
              "    <tr>\n",
              "      <th>0</th>\n",
              "      <td>0</td>\n",
              "      <td>Italy</td>\n",
              "      <td>Aromas include tropical fruit, broom, brimston...</td>\n",
              "      <td>Vulkà Bianco</td>\n",
              "      <td>87</td>\n",
              "      <td>NaN</td>\n",
              "      <td>Sicily &amp; Sardinia</td>\n",
              "      <td>Etna</td>\n",
              "      <td>NaN</td>\n",
              "      <td>Kerin O’Keefe</td>\n",
              "      <td>@kerinokeefe</td>\n",
              "      <td>Nicosia 2013 Vulkà Bianco  (Etna)</td>\n",
              "      <td>White Blend</td>\n",
              "      <td>Nicosia</td>\n",
              "    </tr>\n",
              "    <tr>\n",
              "      <th>1</th>\n",
              "      <td>1</td>\n",
              "      <td>Portugal</td>\n",
              "      <td>This is ripe and fruity, a wine that is smooth...</td>\n",
              "      <td>Avidagos</td>\n",
              "      <td>87</td>\n",
              "      <td>15.0</td>\n",
              "      <td>Douro</td>\n",
              "      <td>NaN</td>\n",
              "      <td>NaN</td>\n",
              "      <td>Roger Voss</td>\n",
              "      <td>@vossroger</td>\n",
              "      <td>Quinta dos Avidagos 2011 Avidagos Red (Douro)</td>\n",
              "      <td>Portuguese Red</td>\n",
              "      <td>Quinta dos Avidagos</td>\n",
              "    </tr>\n",
              "    <tr>\n",
              "      <th>2</th>\n",
              "      <td>2</td>\n",
              "      <td>US</td>\n",
              "      <td>Tart and snappy, the flavors of lime flesh and...</td>\n",
              "      <td>NaN</td>\n",
              "      <td>87</td>\n",
              "      <td>14.0</td>\n",
              "      <td>Oregon</td>\n",
              "      <td>Willamette Valley</td>\n",
              "      <td>Willamette Valley</td>\n",
              "      <td>Paul Gregutt</td>\n",
              "      <td>@paulgwine</td>\n",
              "      <td>Rainstorm 2013 Pinot Gris (Willamette Valley)</td>\n",
              "      <td>Pinot Gris</td>\n",
              "      <td>Rainstorm</td>\n",
              "    </tr>\n",
              "    <tr>\n",
              "      <th>3</th>\n",
              "      <td>3</td>\n",
              "      <td>US</td>\n",
              "      <td>Pineapple rind, lemon pith and orange blossom ...</td>\n",
              "      <td>Reserve Late Harvest</td>\n",
              "      <td>87</td>\n",
              "      <td>13.0</td>\n",
              "      <td>Michigan</td>\n",
              "      <td>Lake Michigan Shore</td>\n",
              "      <td>NaN</td>\n",
              "      <td>Alexander Peartree</td>\n",
              "      <td>NaN</td>\n",
              "      <td>St. Julian 2013 Reserve Late Harvest Riesling ...</td>\n",
              "      <td>Riesling</td>\n",
              "      <td>St. Julian</td>\n",
              "    </tr>\n",
              "    <tr>\n",
              "      <th>4</th>\n",
              "      <td>4</td>\n",
              "      <td>US</td>\n",
              "      <td>Much like the regular bottling from 2012, this...</td>\n",
              "      <td>Vintner's Reserve Wild Child Block</td>\n",
              "      <td>87</td>\n",
              "      <td>65.0</td>\n",
              "      <td>Oregon</td>\n",
              "      <td>Willamette Valley</td>\n",
              "      <td>Willamette Valley</td>\n",
              "      <td>Paul Gregutt</td>\n",
              "      <td>@paulgwine</td>\n",
              "      <td>Sweet Cheeks 2012 Vintner's Reserve Wild Child...</td>\n",
              "      <td>Pinot Noir</td>\n",
              "      <td>Sweet Cheeks</td>\n",
              "    </tr>\n",
              "  </tbody>\n",
              "</table>\n",
              "</div>"
            ],
            "text/plain": [
              "   Unnamed: 0   country  ...         variety               winery\n",
              "0           0     Italy  ...     White Blend              Nicosia\n",
              "1           1  Portugal  ...  Portuguese Red  Quinta dos Avidagos\n",
              "2           2        US  ...      Pinot Gris            Rainstorm\n",
              "3           3        US  ...        Riesling           St. Julian\n",
              "4           4        US  ...      Pinot Noir         Sweet Cheeks\n",
              "\n",
              "[5 rows x 14 columns]"
            ]
          },
          "metadata": {
            "tags": []
          },
          "execution_count": 20
        }
      ]
    },
    {
      "cell_type": "code",
      "metadata": {
        "id": "KqsL5vdWnRL3",
        "outputId": "95834c9c-e3f7-46d0-a29f-cb47588e220d",
        "colab": {
          "base_uri": "https://localhost:8080/"
        }
      },
      "source": [
        "df.shape"
      ],
      "execution_count": 21,
      "outputs": [
        {
          "output_type": "execute_result",
          "data": {
            "text/plain": [
              "(129971, 14)"
            ]
          },
          "metadata": {
            "tags": []
          },
          "execution_count": 21
        }
      ]
    },
    {
      "cell_type": "code",
      "metadata": {
        "id": "ZgWBMskak8wT",
        "outputId": "e89addd6-8569-4648-aa68-f6820b6e374a",
        "colab": {
          "base_uri": "https://localhost:8080/"
        }
      },
      "source": [
        "df['description'].nunique()"
      ],
      "execution_count": 22,
      "outputs": [
        {
          "output_type": "execute_result",
          "data": {
            "text/plain": [
              "119955"
            ]
          },
          "metadata": {
            "tags": []
          },
          "execution_count": 22
        }
      ]
    },
    {
      "cell_type": "code",
      "metadata": {
        "id": "xuAnbgJTmKKh"
      },
      "source": [
        "# checking for duplicates\n",
        "duplicate = df[df.duplicated('description', keep=False)]"
      ],
      "execution_count": 23,
      "outputs": []
    },
    {
      "cell_type": "code",
      "metadata": {
        "id": "ArwmN6ssptaj",
        "outputId": "5307dff4-d39f-41b0-dec6-509d4c472d0c",
        "colab": {
          "base_uri": "https://localhost:8080/"
        }
      },
      "source": [
        "duplicate.shape"
      ],
      "execution_count": 24,
      "outputs": [
        {
          "output_type": "execute_result",
          "data": {
            "text/plain": [
              "(20026, 14)"
            ]
          },
          "metadata": {
            "tags": []
          },
          "execution_count": 24
        }
      ]
    },
    {
      "cell_type": "code",
      "metadata": {
        "id": "-E1-2qY8m9sl",
        "outputId": "e76baf20-c683-4ff1-9b10-48e15b9e4263",
        "colab": {
          "base_uri": "https://localhost:8080/"
        }
      },
      "source": [
        "duplicate['description'].value_counts()"
      ],
      "execution_count": 25,
      "outputs": [
        {
          "output_type": "execute_result",
          "data": {
            "text/plain": [
              "Stalky aromas suggest hay and green herbs, with raspberry in the backdrop. It's hot and short in terms of mouthfeel, with herbal flavors leading the way and berry fruit running behind. Dry red fruit and herbal notes dominate the finish.                                                                                                                            3\n",
              "Seductively tart in lemon pith, cranberry and pomegranate, this refreshing, light-bodied quaff is infinitely enjoyable, both on its own or at the table. It continues to expand on the palate into an increasing array of fresh flavors, finishing in cherry and orange.                                                                                                3\n",
              "Ripe plum, game, truffle, leather and menthol are some of the aromas you'll find on this earthy wine. The tightly wound palate offers dried black cherry, chopped sage, mint and roasted coffee bean alongside raspy tannins that leave a mouth-drying finish.                                                                                                          3\n",
              "Gravenstein apple, honeysuckle and jasmine aromas show on the relatively boisterous nose of this bottling from a large vineyard on Highway 46 east of Paso Robles. There is compellingly grippy texture to the sip, with ripe flavors of pear and honeydew melon. A salty acidity takes it to the next level.                                                           3\n",
              "Cigar box, café au lait, and dried tobacco aromas are followed by coffee and cherry flavors, with barrel spices lingering on the finish. The wood gets a bit out front but it still delivers enjoyment.                                                                                                                                                                 3\n",
              "                                                                                                                                                                                                                                                                                                                                                                       ..\n",
              "Chocolate-wrapped stogie comes to mind aromatically and in terms of taste in this reserve wine, which is otherwise roundly voluptuous. Peppercorn, cedar and plum mingle on the palate before a tannic finish closes things out.                                                                                                                                        2\n",
              "So ripe and lush with fruit, this could only be from California. It assaults the palate with blackberries, cherries and mocha, but with an interesting, earthy green olive note. Oak adds predictable but rich notes of buttered toast. The tannins are soft enough for you to drink this lovely wine now, but you can age it for 6–8 years if you want.                2\n",
              "A buttery style, this bottling offers popcorn, sea salt caramel and vanilla cookies on the nose alongside tropical coconut, ripe peach and banana fruit, all judiciously presented. There's an immediate sizzle of acidity to cut through the butter on the palate, where pan-fried apples, squeezed lemons and almonds make for an excellent California Chardonnay.    2\n",
              "Montes' first Alpha Malbec is serious and healthy, with rubbery, leathery berry aromas and crusty, dark oak scents. This is full and fairly oaky on the tongue, with herbal black-fruit flavors, raw wood notes, espresso-like bitterness and heat on the finish.                                                                                                       2\n",
              "The delicious, fresh character of the 2014 vintage shows to great advantage in this fruity wine. Apples and peaches dominate the fruit character, while a more mineral edge shows strongly, giving the wine structure and the chance to age. Drink from 2017.                                                                                                           2\n",
              "Name: description, Length: 10010, dtype: int64"
            ]
          },
          "metadata": {
            "tags": []
          },
          "execution_count": 25
        }
      ]
    },
    {
      "cell_type": "code",
      "metadata": {
        "id": "zcENAVlLofSj"
      },
      "source": [
        "# checking for duplicates in the description and variety column\n",
        "vardescr = df[df.duplicated(['description', 'variety'],keep=False)]"
      ],
      "execution_count": 26,
      "outputs": []
    },
    {
      "cell_type": "code",
      "metadata": {
        "id": "gsF6QzUXpnlZ",
        "outputId": "81dbef08-2fb3-4e8a-aecc-f6cc78be8b56",
        "colab": {
          "base_uri": "https://localhost:8080/"
        }
      },
      "source": [
        "vardescr.shape"
      ],
      "execution_count": 27,
      "outputs": [
        {
          "output_type": "execute_result",
          "data": {
            "text/plain": [
              "(20008, 14)"
            ]
          },
          "metadata": {
            "tags": []
          },
          "execution_count": 27
        }
      ]
    },
    {
      "cell_type": "code",
      "metadata": {
        "id": "L6Q-E-ajpqP2",
        "outputId": "b20fd0c4-04b8-489e-c01f-54047e3209bf",
        "colab": {
          "base_uri": "https://localhost:8080/",
          "height": 1000
        }
      },
      "source": [
        "# rows with duplicates\n",
        "duplicate[duplicate[['description', 'variety']].eq(vardescr[['description', 'variety']]).all(axis=1)==False]"
      ],
      "execution_count": 28,
      "outputs": [
        {
          "output_type": "execute_result",
          "data": {
            "text/html": [
              "<div>\n",
              "<style scoped>\n",
              "    .dataframe tbody tr th:only-of-type {\n",
              "        vertical-align: middle;\n",
              "    }\n",
              "\n",
              "    .dataframe tbody tr th {\n",
              "        vertical-align: top;\n",
              "    }\n",
              "\n",
              "    .dataframe thead th {\n",
              "        text-align: right;\n",
              "    }\n",
              "</style>\n",
              "<table border=\"1\" class=\"dataframe\">\n",
              "  <thead>\n",
              "    <tr style=\"text-align: right;\">\n",
              "      <th></th>\n",
              "      <th>Unnamed: 0</th>\n",
              "      <th>country</th>\n",
              "      <th>description</th>\n",
              "      <th>designation</th>\n",
              "      <th>points</th>\n",
              "      <th>price</th>\n",
              "      <th>province</th>\n",
              "      <th>region_1</th>\n",
              "      <th>region_2</th>\n",
              "      <th>taster_name</th>\n",
              "      <th>taster_twitter_handle</th>\n",
              "      <th>title</th>\n",
              "      <th>variety</th>\n",
              "      <th>winery</th>\n",
              "    </tr>\n",
              "  </thead>\n",
              "  <tbody>\n",
              "    <tr>\n",
              "      <th>16162</th>\n",
              "      <td>16162</td>\n",
              "      <td>Italy</td>\n",
              "      <td>This opens with subtle aromas of wild flower a...</td>\n",
              "      <td>Ventidue</td>\n",
              "      <td>93</td>\n",
              "      <td>35.0</td>\n",
              "      <td>Southern Italy</td>\n",
              "      <td>Fiano di Avellino</td>\n",
              "      <td>NaN</td>\n",
              "      <td>Kerin O’Keefe</td>\n",
              "      <td>@kerinokeefe</td>\n",
              "      <td>Villa Raiano 2014 Ventidue  (Fiano di Avellino)</td>\n",
              "      <td>Fiano</td>\n",
              "      <td>Villa Raiano</td>\n",
              "    </tr>\n",
              "    <tr>\n",
              "      <th>21810</th>\n",
              "      <td>21810</td>\n",
              "      <td>Italy</td>\n",
              "      <td>Vibrant and spicy, this savory red delivers ar...</td>\n",
              "      <td>Grotta Rossa</td>\n",
              "      <td>89</td>\n",
              "      <td>14.0</td>\n",
              "      <td>Sicily &amp; Sardinia</td>\n",
              "      <td>Carignano del Sulcis</td>\n",
              "      <td>NaN</td>\n",
              "      <td>Kerin O’Keefe</td>\n",
              "      <td>@kerinokeefe</td>\n",
              "      <td>Cantina Santadi 2012 Grotta Rossa  (Carignano ...</td>\n",
              "      <td>Carignano</td>\n",
              "      <td>Cantina Santadi</td>\n",
              "    </tr>\n",
              "    <tr>\n",
              "      <th>26490</th>\n",
              "      <td>26490</td>\n",
              "      <td>Italy</td>\n",
              "      <td>This opens with subtle aromas of wild flower a...</td>\n",
              "      <td>Vigne di Sande</td>\n",
              "      <td>87</td>\n",
              "      <td>NaN</td>\n",
              "      <td>Veneto</td>\n",
              "      <td>Soave</td>\n",
              "      <td>NaN</td>\n",
              "      <td>Kerin O’Keefe</td>\n",
              "      <td>@kerinokeefe</td>\n",
              "      <td>Villa Canestrari 2016 Vigne di Sande  (Soave)</td>\n",
              "      <td>Garganega</td>\n",
              "      <td>Villa Canestrari</td>\n",
              "    </tr>\n",
              "    <tr>\n",
              "      <th>31584</th>\n",
              "      <td>31584</td>\n",
              "      <td>Italy</td>\n",
              "      <td>Vibrant and spicy, this savory red delivers ar...</td>\n",
              "      <td>Costera</td>\n",
              "      <td>90</td>\n",
              "      <td>18.0</td>\n",
              "      <td>Sicily &amp; Sardinia</td>\n",
              "      <td>Cannonau di Sardegna</td>\n",
              "      <td>NaN</td>\n",
              "      <td>Kerin O’Keefe</td>\n",
              "      <td>@kerinokeefe</td>\n",
              "      <td>Argiolas 2013 Costera  (Cannonau di Sardegna)</td>\n",
              "      <td>Red Blend</td>\n",
              "      <td>Argiolas</td>\n",
              "    </tr>\n",
              "    <tr>\n",
              "      <th>33110</th>\n",
              "      <td>33110</td>\n",
              "      <td>Argentina</td>\n",
              "      <td>Stalky aromas suggest hay and green herbs, wit...</td>\n",
              "      <td>Finca La Niña</td>\n",
              "      <td>84</td>\n",
              "      <td>10.0</td>\n",
              "      <td>Mendoza Province</td>\n",
              "      <td>Mendoza</td>\n",
              "      <td>NaN</td>\n",
              "      <td>Michael Schachner</td>\n",
              "      <td>@wineschach</td>\n",
              "      <td>Don Cristobal 1492 2010 Finca La Niña Cabernet...</td>\n",
              "      <td>Cabernet Sauvignon</td>\n",
              "      <td>Don Cristobal 1492</td>\n",
              "    </tr>\n",
              "    <tr>\n",
              "      <th>33463</th>\n",
              "      <td>33463</td>\n",
              "      <td>Greece</td>\n",
              "      <td>Aromas of citrus, melon and orange blossom sta...</td>\n",
              "      <td>NaN</td>\n",
              "      <td>88</td>\n",
              "      <td>15.0</td>\n",
              "      <td>Atalanti Valley</td>\n",
              "      <td>NaN</td>\n",
              "      <td>NaN</td>\n",
              "      <td>Susan Kostrzewa</td>\n",
              "      <td>@suskostrzewa</td>\n",
              "      <td>Hatzimichalis 2015 Chardonnay (Atalanti Valley)</td>\n",
              "      <td>Chardonnay</td>\n",
              "      <td>Hatzimichalis</td>\n",
              "    </tr>\n",
              "    <tr>\n",
              "      <th>36475</th>\n",
              "      <td>36475</td>\n",
              "      <td>Italy</td>\n",
              "      <td>Green bell pepper, red currant and dark spice ...</td>\n",
              "      <td>NaN</td>\n",
              "      <td>85</td>\n",
              "      <td>NaN</td>\n",
              "      <td>Northeastern Italy</td>\n",
              "      <td>Collio</td>\n",
              "      <td>NaN</td>\n",
              "      <td>Kerin O’Keefe</td>\n",
              "      <td>@kerinokeefe</td>\n",
              "      <td>Ca'Ronesca 2013 Pinot Nero (Collio)</td>\n",
              "      <td>Pinot Nero</td>\n",
              "      <td>Ca'Ronesca</td>\n",
              "    </tr>\n",
              "    <tr>\n",
              "      <th>37160</th>\n",
              "      <td>37160</td>\n",
              "      <td>Italy</td>\n",
              "      <td>The subdued nose eventually reveals black cher...</td>\n",
              "      <td>Marchese Montefusco</td>\n",
              "      <td>85</td>\n",
              "      <td>10.0</td>\n",
              "      <td>Sicily &amp; Sardinia</td>\n",
              "      <td>Terre Siciliane</td>\n",
              "      <td>NaN</td>\n",
              "      <td>Kerin O’Keefe</td>\n",
              "      <td>@kerinokeefe</td>\n",
              "      <td>Cantine Ermes 2014 Marchese Montefusco Nero d'...</td>\n",
              "      <td>Nero d'Avola</td>\n",
              "      <td>Cantine Ermes</td>\n",
              "    </tr>\n",
              "    <tr>\n",
              "      <th>51315</th>\n",
              "      <td>51315</td>\n",
              "      <td>Australia</td>\n",
              "      <td>In 2009 this single vineyard offering includes...</td>\n",
              "      <td>Noble Baron</td>\n",
              "      <td>90</td>\n",
              "      <td>50.0</td>\n",
              "      <td>South Australia</td>\n",
              "      <td>Barossa</td>\n",
              "      <td>NaN</td>\n",
              "      <td>Joe Czerwinski</td>\n",
              "      <td>@JoeCz</td>\n",
              "      <td>Château Tanunda 2007 Noble Baron Cabernet Sauv...</td>\n",
              "      <td>Cabernet Sauvignon</td>\n",
              "      <td>Château Tanunda</td>\n",
              "    </tr>\n",
              "    <tr>\n",
              "      <th>52601</th>\n",
              "      <td>52601</td>\n",
              "      <td>Italy</td>\n",
              "      <td>This offers aromas and flavors suggesting unri...</td>\n",
              "      <td>Vermentino del marchese</td>\n",
              "      <td>85</td>\n",
              "      <td>20.0</td>\n",
              "      <td>Sicily &amp; Sardinia</td>\n",
              "      <td>Sicilia</td>\n",
              "      <td>NaN</td>\n",
              "      <td>Kerin O’Keefe</td>\n",
              "      <td>@kerinokeefe</td>\n",
              "      <td>Marchesi De Gregorio 2015 Vermentino del march...</td>\n",
              "      <td>White Blend</td>\n",
              "      <td>Marchesi De Gregorio</td>\n",
              "    </tr>\n",
              "    <tr>\n",
              "      <th>59358</th>\n",
              "      <td>59358</td>\n",
              "      <td>US</td>\n",
              "      <td>In 2009 this single vineyard offering includes...</td>\n",
              "      <td>Horse Heaven Vineyard</td>\n",
              "      <td>90</td>\n",
              "      <td>15.0</td>\n",
              "      <td>Washington</td>\n",
              "      <td>Horse Heaven Hills</td>\n",
              "      <td>Columbia Valley</td>\n",
              "      <td>Paul Gregutt</td>\n",
              "      <td>@paulgwine</td>\n",
              "      <td>Chateau Ste. Michelle 2009 Horse Heaven Vineya...</td>\n",
              "      <td>Sauvignon Blanc</td>\n",
              "      <td>Chateau Ste. Michelle</td>\n",
              "    </tr>\n",
              "    <tr>\n",
              "      <th>62186</th>\n",
              "      <td>62186</td>\n",
              "      <td>Italy</td>\n",
              "      <td>The subdued nose eventually reveals black cher...</td>\n",
              "      <td>Poggionotte</td>\n",
              "      <td>86</td>\n",
              "      <td>18.0</td>\n",
              "      <td>Sicily &amp; Sardinia</td>\n",
              "      <td>Terre Siciliane</td>\n",
              "      <td>NaN</td>\n",
              "      <td>Kerin O’Keefe</td>\n",
              "      <td>@kerinokeefe</td>\n",
              "      <td>Di Giovanna 2013 Poggionotte Red (Terre Sicili...</td>\n",
              "      <td>Red Blend</td>\n",
              "      <td>Di Giovanna</td>\n",
              "    </tr>\n",
              "    <tr>\n",
              "      <th>87797</th>\n",
              "      <td>87797</td>\n",
              "      <td>Italy</td>\n",
              "      <td>Green bell pepper, red currant and dark spice ...</td>\n",
              "      <td>NaN</td>\n",
              "      <td>90</td>\n",
              "      <td>NaN</td>\n",
              "      <td>Northeastern Italy</td>\n",
              "      <td>Collio</td>\n",
              "      <td>NaN</td>\n",
              "      <td>Kerin O’Keefe</td>\n",
              "      <td>@kerinokeefe</td>\n",
              "      <td>Zorzon 2013 Cabernet Franc (Collio)</td>\n",
              "      <td>Cabernet Franc</td>\n",
              "      <td>Zorzon</td>\n",
              "    </tr>\n",
              "    <tr>\n",
              "      <th>93839</th>\n",
              "      <td>93839</td>\n",
              "      <td>Italy</td>\n",
              "      <td>This offers aromas and flavors suggesting unri...</td>\n",
              "      <td>NaN</td>\n",
              "      <td>87</td>\n",
              "      <td>NaN</td>\n",
              "      <td>Sicily &amp; Sardinia</td>\n",
              "      <td>Terre Siciliane</td>\n",
              "      <td>NaN</td>\n",
              "      <td>Kerin O’Keefe</td>\n",
              "      <td>@kerinokeefe</td>\n",
              "      <td>MandraRossa 2015 Zibibbo (Terre Siciliane)</td>\n",
              "      <td>Zibibbo</td>\n",
              "      <td>MandraRossa</td>\n",
              "    </tr>\n",
              "    <tr>\n",
              "      <th>103115</th>\n",
              "      <td>103115</td>\n",
              "      <td>US</td>\n",
              "      <td>The tannins are so fierce on this baby Caberne...</td>\n",
              "      <td>NaN</td>\n",
              "      <td>95</td>\n",
              "      <td>65.0</td>\n",
              "      <td>California</td>\n",
              "      <td>Howell Mountain</td>\n",
              "      <td>Napa</td>\n",
              "      <td>NaN</td>\n",
              "      <td>NaN</td>\n",
              "      <td>La Jota Vineyard 2009 Cabernet Sauvignon (Howe...</td>\n",
              "      <td>Cabernet Sauvignon</td>\n",
              "      <td>La Jota Vineyard</td>\n",
              "    </tr>\n",
              "    <tr>\n",
              "      <th>113218</th>\n",
              "      <td>113218</td>\n",
              "      <td>US</td>\n",
              "      <td>Gravenstein apple, honeysuckle and jasmine aro...</td>\n",
              "      <td>NaN</td>\n",
              "      <td>89</td>\n",
              "      <td>24.0</td>\n",
              "      <td>California</td>\n",
              "      <td>Paso Robles</td>\n",
              "      <td>Central Coast</td>\n",
              "      <td>Matt Kettmann</td>\n",
              "      <td>@mattkettmann</td>\n",
              "      <td>Broken Earth 2015 Grenache Blanc (Paso Robles)</td>\n",
              "      <td>Grenache Blanc</td>\n",
              "      <td>Broken Earth</td>\n",
              "    </tr>\n",
              "    <tr>\n",
              "      <th>118069</th>\n",
              "      <td>118069</td>\n",
              "      <td>US</td>\n",
              "      <td>The tannins are so fierce on this baby Caberne...</td>\n",
              "      <td>NaN</td>\n",
              "      <td>95</td>\n",
              "      <td>55.0</td>\n",
              "      <td>California</td>\n",
              "      <td>Howell Mountain</td>\n",
              "      <td>Napa</td>\n",
              "      <td>NaN</td>\n",
              "      <td>NaN</td>\n",
              "      <td>La Jota Vineyard 2009 Merlot (Howell Mountain)</td>\n",
              "      <td>Merlot</td>\n",
              "      <td>La Jota Vineyard</td>\n",
              "    </tr>\n",
              "    <tr>\n",
              "      <th>124931</th>\n",
              "      <td>124931</td>\n",
              "      <td>Greece</td>\n",
              "      <td>Aromas of citrus, melon and orange blossom sta...</td>\n",
              "      <td>NaN</td>\n",
              "      <td>89</td>\n",
              "      <td>22.0</td>\n",
              "      <td>Cephalonia</td>\n",
              "      <td>NaN</td>\n",
              "      <td>NaN</td>\n",
              "      <td>Susan Kostrzewa</td>\n",
              "      <td>@suskostrzewa</td>\n",
              "      <td>Gentilini 2015 Robola (Cephalonia)</td>\n",
              "      <td>Robola</td>\n",
              "      <td>Gentilini</td>\n",
              "    </tr>\n",
              "  </tbody>\n",
              "</table>\n",
              "</div>"
            ],
            "text/plain": [
              "        Unnamed: 0    country  ...             variety                 winery\n",
              "16162        16162      Italy  ...               Fiano           Villa Raiano\n",
              "21810        21810      Italy  ...           Carignano        Cantina Santadi\n",
              "26490        26490      Italy  ...           Garganega       Villa Canestrari\n",
              "31584        31584      Italy  ...           Red Blend               Argiolas\n",
              "33110        33110  Argentina  ...  Cabernet Sauvignon     Don Cristobal 1492\n",
              "33463        33463     Greece  ...          Chardonnay          Hatzimichalis\n",
              "36475        36475      Italy  ...          Pinot Nero             Ca'Ronesca\n",
              "37160        37160      Italy  ...        Nero d'Avola          Cantine Ermes\n",
              "51315        51315  Australia  ...  Cabernet Sauvignon        Château Tanunda\n",
              "52601        52601      Italy  ...         White Blend   Marchesi De Gregorio\n",
              "59358        59358         US  ...     Sauvignon Blanc  Chateau Ste. Michelle\n",
              "62186        62186      Italy  ...           Red Blend            Di Giovanna\n",
              "87797        87797      Italy  ...      Cabernet Franc                 Zorzon\n",
              "93839        93839      Italy  ...             Zibibbo            MandraRossa\n",
              "103115      103115         US  ...  Cabernet Sauvignon       La Jota Vineyard\n",
              "113218      113218         US  ...      Grenache Blanc           Broken Earth\n",
              "118069      118069         US  ...              Merlot       La Jota Vineyard\n",
              "124931      124931     Greece  ...              Robola              Gentilini\n",
              "\n",
              "[18 rows x 14 columns]"
            ]
          },
          "metadata": {
            "tags": []
          },
          "execution_count": 28
        }
      ]
    },
    {
      "cell_type": "code",
      "metadata": {
        "id": "RI0mdUDjqK4r",
        "outputId": "6fbc1a58-111c-43f9-ecd9-ff8f6d7268eb",
        "colab": {
          "base_uri": "https://localhost:8080/"
        }
      },
      "source": [
        "df.isna().sum()"
      ],
      "execution_count": 29,
      "outputs": [
        {
          "output_type": "execute_result",
          "data": {
            "text/plain": [
              "Unnamed: 0                   0\n",
              "country                     63\n",
              "description                  0\n",
              "designation              37465\n",
              "points                       0\n",
              "price                     8996\n",
              "province                    63\n",
              "region_1                 21247\n",
              "region_2                 79460\n",
              "taster_name              26244\n",
              "taster_twitter_handle    31213\n",
              "title                        0\n",
              "variety                      1\n",
              "winery                       0\n",
              "dtype: int64"
            ]
          },
          "metadata": {
            "tags": []
          },
          "execution_count": 29
        }
      ]
    },
    {
      "cell_type": "code",
      "metadata": {
        "id": "OXs7vETAx3C-"
      },
      "source": [
        "# top 20 varieties\n",
        "top20df = pd.DataFrame(df['variety'].value_counts().head(20))"
      ],
      "execution_count": 163,
      "outputs": []
    },
    {
      "cell_type": "code",
      "metadata": {
        "id": "kDoF-qH40xYx",
        "outputId": "0a5f7344-a6bf-440e-eec5-1fa242df7924",
        "colab": {
          "base_uri": "https://localhost:8080/",
          "height": 677
        }
      },
      "source": [
        "top20df"
      ],
      "execution_count": 164,
      "outputs": [
        {
          "output_type": "execute_result",
          "data": {
            "text/html": [
              "<div>\n",
              "<style scoped>\n",
              "    .dataframe tbody tr th:only-of-type {\n",
              "        vertical-align: middle;\n",
              "    }\n",
              "\n",
              "    .dataframe tbody tr th {\n",
              "        vertical-align: top;\n",
              "    }\n",
              "\n",
              "    .dataframe thead th {\n",
              "        text-align: right;\n",
              "    }\n",
              "</style>\n",
              "<table border=\"1\" class=\"dataframe\">\n",
              "  <thead>\n",
              "    <tr style=\"text-align: right;\">\n",
              "      <th></th>\n",
              "      <th>variety</th>\n",
              "    </tr>\n",
              "  </thead>\n",
              "  <tbody>\n",
              "    <tr>\n",
              "      <th>Pinot Noir</th>\n",
              "      <td>13272</td>\n",
              "    </tr>\n",
              "    <tr>\n",
              "      <th>Chardonnay</th>\n",
              "      <td>11753</td>\n",
              "    </tr>\n",
              "    <tr>\n",
              "      <th>Cabernet Sauvignon</th>\n",
              "      <td>9472</td>\n",
              "    </tr>\n",
              "    <tr>\n",
              "      <th>Red Blend</th>\n",
              "      <td>8946</td>\n",
              "    </tr>\n",
              "    <tr>\n",
              "      <th>Bordeaux-style Red Blend</th>\n",
              "      <td>6915</td>\n",
              "    </tr>\n",
              "    <tr>\n",
              "      <th>Riesling</th>\n",
              "      <td>5189</td>\n",
              "    </tr>\n",
              "    <tr>\n",
              "      <th>Sauvignon Blanc</th>\n",
              "      <td>4967</td>\n",
              "    </tr>\n",
              "    <tr>\n",
              "      <th>Syrah</th>\n",
              "      <td>4142</td>\n",
              "    </tr>\n",
              "    <tr>\n",
              "      <th>Rosé</th>\n",
              "      <td>3564</td>\n",
              "    </tr>\n",
              "    <tr>\n",
              "      <th>Merlot</th>\n",
              "      <td>3102</td>\n",
              "    </tr>\n",
              "    <tr>\n",
              "      <th>Nebbiolo</th>\n",
              "      <td>2804</td>\n",
              "    </tr>\n",
              "    <tr>\n",
              "      <th>Zinfandel</th>\n",
              "      <td>2714</td>\n",
              "    </tr>\n",
              "    <tr>\n",
              "      <th>Sangiovese</th>\n",
              "      <td>2707</td>\n",
              "    </tr>\n",
              "    <tr>\n",
              "      <th>Malbec</th>\n",
              "      <td>2652</td>\n",
              "    </tr>\n",
              "    <tr>\n",
              "      <th>Portuguese Red</th>\n",
              "      <td>2466</td>\n",
              "    </tr>\n",
              "    <tr>\n",
              "      <th>White Blend</th>\n",
              "      <td>2360</td>\n",
              "    </tr>\n",
              "    <tr>\n",
              "      <th>Sparkling Blend</th>\n",
              "      <td>2153</td>\n",
              "    </tr>\n",
              "    <tr>\n",
              "      <th>Tempranillo</th>\n",
              "      <td>1810</td>\n",
              "    </tr>\n",
              "    <tr>\n",
              "      <th>Rhône-style Red Blend</th>\n",
              "      <td>1471</td>\n",
              "    </tr>\n",
              "    <tr>\n",
              "      <th>Pinot Gris</th>\n",
              "      <td>1455</td>\n",
              "    </tr>\n",
              "  </tbody>\n",
              "</table>\n",
              "</div>"
            ],
            "text/plain": [
              "                          variety\n",
              "Pinot Noir                  13272\n",
              "Chardonnay                  11753\n",
              "Cabernet Sauvignon           9472\n",
              "Red Blend                    8946\n",
              "Bordeaux-style Red Blend     6915\n",
              "Riesling                     5189\n",
              "Sauvignon Blanc              4967\n",
              "Syrah                        4142\n",
              "Rosé                         3564\n",
              "Merlot                       3102\n",
              "Nebbiolo                     2804\n",
              "Zinfandel                    2714\n",
              "Sangiovese                   2707\n",
              "Malbec                       2652\n",
              "Portuguese Red               2466\n",
              "White Blend                  2360\n",
              "Sparkling Blend              2153\n",
              "Tempranillo                  1810\n",
              "Rhône-style Red Blend        1471\n",
              "Pinot Gris                   1455"
            ]
          },
          "metadata": {
            "tags": []
          },
          "execution_count": 164
        }
      ]
    },
    {
      "cell_type": "code",
      "metadata": {
        "id": "QSsRKfWwJjpq"
      },
      "source": [
        "# creating dataframe with the top 20 varieties\n",
        "newdf = df[df['variety'].isin(top20df.index)]"
      ],
      "execution_count": 165,
      "outputs": []
    },
    {
      "cell_type": "code",
      "metadata": {
        "id": "QZt28twL11VG",
        "outputId": "d03585a8-7254-43f3-ba2c-c8f515a1a36b",
        "colab": {
          "base_uri": "https://localhost:8080/",
          "height": 288
        }
      },
      "source": [
        "# threshold of miniority variety to over sample (use sentences as document instead of the whole description)\n",
        "minority_threshold = 5000 \n",
        "\n",
        "# making a dataframe of the miniority classes\n",
        "minority_df = newdf[newdf['variety'].isin(top20df[top20df <  minority_threshold].dropna().index)]\n",
        "print(minority_df.shape)\n",
        "print(len(minority_df['variety'].unique()))\n",
        "minority_df.head(2)"
      ],
      "execution_count": 166,
      "outputs": [
        {
          "output_type": "stream",
          "text": [
            "(38367, 14)\n",
            "14\n"
          ],
          "name": "stdout"
        },
        {
          "output_type": "execute_result",
          "data": {
            "text/html": [
              "<div>\n",
              "<style scoped>\n",
              "    .dataframe tbody tr th:only-of-type {\n",
              "        vertical-align: middle;\n",
              "    }\n",
              "\n",
              "    .dataframe tbody tr th {\n",
              "        vertical-align: top;\n",
              "    }\n",
              "\n",
              "    .dataframe thead th {\n",
              "        text-align: right;\n",
              "    }\n",
              "</style>\n",
              "<table border=\"1\" class=\"dataframe\">\n",
              "  <thead>\n",
              "    <tr style=\"text-align: right;\">\n",
              "      <th></th>\n",
              "      <th>Unnamed: 0</th>\n",
              "      <th>country</th>\n",
              "      <th>description</th>\n",
              "      <th>designation</th>\n",
              "      <th>points</th>\n",
              "      <th>price</th>\n",
              "      <th>province</th>\n",
              "      <th>region_1</th>\n",
              "      <th>region_2</th>\n",
              "      <th>taster_name</th>\n",
              "      <th>taster_twitter_handle</th>\n",
              "      <th>title</th>\n",
              "      <th>variety</th>\n",
              "      <th>winery</th>\n",
              "    </tr>\n",
              "  </thead>\n",
              "  <tbody>\n",
              "    <tr>\n",
              "      <th>0</th>\n",
              "      <td>0</td>\n",
              "      <td>Italy</td>\n",
              "      <td>Aromas include tropical fruit, broom, brimston...</td>\n",
              "      <td>Vulkà Bianco</td>\n",
              "      <td>87</td>\n",
              "      <td>NaN</td>\n",
              "      <td>Sicily &amp; Sardinia</td>\n",
              "      <td>Etna</td>\n",
              "      <td>NaN</td>\n",
              "      <td>Kerin O’Keefe</td>\n",
              "      <td>@kerinokeefe</td>\n",
              "      <td>Nicosia 2013 Vulkà Bianco  (Etna)</td>\n",
              "      <td>White Blend</td>\n",
              "      <td>Nicosia</td>\n",
              "    </tr>\n",
              "    <tr>\n",
              "      <th>1</th>\n",
              "      <td>1</td>\n",
              "      <td>Portugal</td>\n",
              "      <td>This is ripe and fruity, a wine that is smooth...</td>\n",
              "      <td>Avidagos</td>\n",
              "      <td>87</td>\n",
              "      <td>15.0</td>\n",
              "      <td>Douro</td>\n",
              "      <td>NaN</td>\n",
              "      <td>NaN</td>\n",
              "      <td>Roger Voss</td>\n",
              "      <td>@vossroger</td>\n",
              "      <td>Quinta dos Avidagos 2011 Avidagos Red (Douro)</td>\n",
              "      <td>Portuguese Red</td>\n",
              "      <td>Quinta dos Avidagos</td>\n",
              "    </tr>\n",
              "  </tbody>\n",
              "</table>\n",
              "</div>"
            ],
            "text/plain": [
              "   Unnamed: 0   country  ...         variety               winery\n",
              "0           0     Italy  ...     White Blend              Nicosia\n",
              "1           1  Portugal  ...  Portuguese Red  Quinta dos Avidagos\n",
              "\n",
              "[2 rows x 14 columns]"
            ]
          },
          "metadata": {
            "tags": []
          },
          "execution_count": 166
        }
      ]
    },
    {
      "cell_type": "code",
      "metadata": {
        "id": "nmIIbGQ9NlxR",
        "outputId": "f88a7012-9899-45de-c7fc-f11dfaab9e18",
        "colab": {
          "base_uri": "https://localhost:8080/"
        }
      },
      "source": [
        "import nltk\n",
        "nltk.download('punkt')"
      ],
      "execution_count": 34,
      "outputs": [
        {
          "output_type": "stream",
          "text": [
            "[nltk_data] Downloading package punkt to /root/nltk_data...\n",
            "[nltk_data]   Unzipping tokenizers/punkt.zip.\n"
          ],
          "name": "stdout"
        },
        {
          "output_type": "execute_result",
          "data": {
            "text/plain": [
              "True"
            ]
          },
          "metadata": {
            "tags": []
          },
          "execution_count": 34
        }
      ]
    },
    {
      "cell_type": "code",
      "metadata": {
        "id": "8AEKhrdlNOlr"
      },
      "source": [
        "from nltk.tokenize import sent_tokenize # importing useful library"
      ],
      "execution_count": 35,
      "outputs": []
    },
    {
      "cell_type": "code",
      "metadata": {
        "id": "CJtEZTSMNOpH"
      },
      "source": [
        "oversampled_miniority_lst = [] # empty list to store sentences as tokens miniority corpus\n",
        "\n",
        "# creating a function to use sentences as tokens for the miniority classes\n",
        "def over_sample_miniority(row):\n",
        "    doc_list = sent_tokenize(row['description'])\n",
        "    for sent in doc_list:\n",
        "        row['description'] = sent\n",
        "        oversampled_miniority_lst.append(list(row))"
      ],
      "execution_count": 36,
      "outputs": []
    },
    {
      "cell_type": "code",
      "metadata": {
        "id": "l0Kud8nFNOsb"
      },
      "source": [
        "minority_df.apply(over_sample_miniority, axis=1); # over sample the miniority classes"
      ],
      "execution_count": 37,
      "outputs": []
    },
    {
      "cell_type": "code",
      "metadata": {
        "id": "S9crvqOkNOva",
        "outputId": "8210ac9b-3f7f-4ae8-9473-5e9c36134aa6",
        "colab": {
          "base_uri": "https://localhost:8080/"
        }
      },
      "source": [
        "oversampled_miniority_lst[:4]"
      ],
      "execution_count": 38,
      "outputs": [
        {
          "output_type": "execute_result",
          "data": {
            "text/plain": [
              "[[0,\n",
              "  'Italy',\n",
              "  'Aromas include tropical fruit, broom, brimstone and dried herb.',\n",
              "  'Vulkà Bianco',\n",
              "  87,\n",
              "  nan,\n",
              "  'Sicily & Sardinia',\n",
              "  'Etna',\n",
              "  nan,\n",
              "  'Kerin O’Keefe',\n",
              "  '@kerinokeefe',\n",
              "  'Nicosia 2013 Vulkà Bianco  (Etna)',\n",
              "  'White Blend',\n",
              "  'Nicosia'],\n",
              " [0,\n",
              "  'Italy',\n",
              "  \"The palate isn't overly expressive, offering unripened apple, citrus and dried sage alongside brisk acidity.\",\n",
              "  'Vulkà Bianco',\n",
              "  87,\n",
              "  nan,\n",
              "  'Sicily & Sardinia',\n",
              "  'Etna',\n",
              "  nan,\n",
              "  'Kerin O’Keefe',\n",
              "  '@kerinokeefe',\n",
              "  'Nicosia 2013 Vulkà Bianco  (Etna)',\n",
              "  'White Blend',\n",
              "  'Nicosia'],\n",
              " [1,\n",
              "  'Portugal',\n",
              "  'This is ripe and fruity, a wine that is smooth while still structured.',\n",
              "  'Avidagos',\n",
              "  87,\n",
              "  15.0,\n",
              "  'Douro',\n",
              "  nan,\n",
              "  nan,\n",
              "  'Roger Voss',\n",
              "  '@vossroger',\n",
              "  'Quinta dos Avidagos 2011 Avidagos Red (Douro)',\n",
              "  'Portuguese Red',\n",
              "  'Quinta dos Avidagos'],\n",
              " [1,\n",
              "  'Portugal',\n",
              "  'Firm tannins are filled out with juicy red berry fruits and freshened with acidity.',\n",
              "  'Avidagos',\n",
              "  87,\n",
              "  15.0,\n",
              "  'Douro',\n",
              "  nan,\n",
              "  nan,\n",
              "  'Roger Voss',\n",
              "  '@vossroger',\n",
              "  'Quinta dos Avidagos 2011 Avidagos Red (Douro)',\n",
              "  'Portuguese Red',\n",
              "  'Quinta dos Avidagos']]"
            ]
          },
          "metadata": {
            "tags": []
          },
          "execution_count": 38
        }
      ]
    },
    {
      "cell_type": "code",
      "metadata": {
        "id": "Vn2OGOc2NOy4",
        "outputId": "e8c38898-8602-40ad-a041-2ae546d44604",
        "colab": {
          "base_uri": "https://localhost:8080/",
          "height": 252
        }
      },
      "source": [
        "# converts oversampled_miniority_lst to a dataframe\n",
        "oversampled_miniority_df = pd.DataFrame(oversampled_miniority_lst, columns=minority_df.columns)\n",
        "print(oversampled_miniority_df.shape)\n",
        "oversampled_miniority_df.head(2)"
      ],
      "execution_count": 39,
      "outputs": [
        {
          "output_type": "stream",
          "text": [
            "(104101, 14)\n"
          ],
          "name": "stdout"
        },
        {
          "output_type": "execute_result",
          "data": {
            "text/html": [
              "<div>\n",
              "<style scoped>\n",
              "    .dataframe tbody tr th:only-of-type {\n",
              "        vertical-align: middle;\n",
              "    }\n",
              "\n",
              "    .dataframe tbody tr th {\n",
              "        vertical-align: top;\n",
              "    }\n",
              "\n",
              "    .dataframe thead th {\n",
              "        text-align: right;\n",
              "    }\n",
              "</style>\n",
              "<table border=\"1\" class=\"dataframe\">\n",
              "  <thead>\n",
              "    <tr style=\"text-align: right;\">\n",
              "      <th></th>\n",
              "      <th>Unnamed: 0</th>\n",
              "      <th>country</th>\n",
              "      <th>description</th>\n",
              "      <th>designation</th>\n",
              "      <th>points</th>\n",
              "      <th>price</th>\n",
              "      <th>province</th>\n",
              "      <th>region_1</th>\n",
              "      <th>region_2</th>\n",
              "      <th>taster_name</th>\n",
              "      <th>taster_twitter_handle</th>\n",
              "      <th>title</th>\n",
              "      <th>variety</th>\n",
              "      <th>winery</th>\n",
              "    </tr>\n",
              "  </thead>\n",
              "  <tbody>\n",
              "    <tr>\n",
              "      <th>0</th>\n",
              "      <td>0</td>\n",
              "      <td>Italy</td>\n",
              "      <td>Aromas include tropical fruit, broom, brimston...</td>\n",
              "      <td>Vulkà Bianco</td>\n",
              "      <td>87</td>\n",
              "      <td>NaN</td>\n",
              "      <td>Sicily &amp; Sardinia</td>\n",
              "      <td>Etna</td>\n",
              "      <td>NaN</td>\n",
              "      <td>Kerin O’Keefe</td>\n",
              "      <td>@kerinokeefe</td>\n",
              "      <td>Nicosia 2013 Vulkà Bianco  (Etna)</td>\n",
              "      <td>White Blend</td>\n",
              "      <td>Nicosia</td>\n",
              "    </tr>\n",
              "    <tr>\n",
              "      <th>1</th>\n",
              "      <td>0</td>\n",
              "      <td>Italy</td>\n",
              "      <td>The palate isn't overly expressive, offering u...</td>\n",
              "      <td>Vulkà Bianco</td>\n",
              "      <td>87</td>\n",
              "      <td>NaN</td>\n",
              "      <td>Sicily &amp; Sardinia</td>\n",
              "      <td>Etna</td>\n",
              "      <td>NaN</td>\n",
              "      <td>Kerin O’Keefe</td>\n",
              "      <td>@kerinokeefe</td>\n",
              "      <td>Nicosia 2013 Vulkà Bianco  (Etna)</td>\n",
              "      <td>White Blend</td>\n",
              "      <td>Nicosia</td>\n",
              "    </tr>\n",
              "  </tbody>\n",
              "</table>\n",
              "</div>"
            ],
            "text/plain": [
              "   Unnamed: 0 country  ...      variety   winery\n",
              "0           0   Italy  ...  White Blend  Nicosia\n",
              "1           0   Italy  ...  White Blend  Nicosia\n",
              "\n",
              "[2 rows x 14 columns]"
            ]
          },
          "metadata": {
            "tags": []
          },
          "execution_count": 39
        }
      ]
    },
    {
      "cell_type": "code",
      "metadata": {
        "id": "EtjtCLp3NO2E",
        "outputId": "018d0cf7-086a-42fc-85eb-b89769b48e2a",
        "colab": {
          "base_uri": "https://localhost:8080/",
          "height": 304
        }
      },
      "source": [
        "\n",
        "\n",
        "# selecting majority classes as a dataframe to concatenate to oversampled_miniority_lst\n",
        "majority_df = newdf[newdf['variety'].isin(top20df[top20df >= minority_threshold].dropna().index)]\n",
        "\n",
        "# concatenates majority_df to oversampled_miniority_lst\n",
        "balanced_df = pd.concat([majority_df, oversampled_miniority_df]) \n",
        "balanced_df = balanced_df.reset_index().drop('index', axis=1) # resets index\n",
        "print(balanced_df.shape)\n",
        "balanced_df.head(2)\n",
        "\n"
      ],
      "execution_count": 167,
      "outputs": [
        {
          "output_type": "stream",
          "text": [
            "(159648, 14)\n"
          ],
          "name": "stdout"
        },
        {
          "output_type": "execute_result",
          "data": {
            "text/html": [
              "<div>\n",
              "<style scoped>\n",
              "    .dataframe tbody tr th:only-of-type {\n",
              "        vertical-align: middle;\n",
              "    }\n",
              "\n",
              "    .dataframe tbody tr th {\n",
              "        vertical-align: top;\n",
              "    }\n",
              "\n",
              "    .dataframe thead th {\n",
              "        text-align: right;\n",
              "    }\n",
              "</style>\n",
              "<table border=\"1\" class=\"dataframe\">\n",
              "  <thead>\n",
              "    <tr style=\"text-align: right;\">\n",
              "      <th></th>\n",
              "      <th>Unnamed: 0</th>\n",
              "      <th>country</th>\n",
              "      <th>description</th>\n",
              "      <th>designation</th>\n",
              "      <th>points</th>\n",
              "      <th>price</th>\n",
              "      <th>province</th>\n",
              "      <th>region_1</th>\n",
              "      <th>region_2</th>\n",
              "      <th>taster_name</th>\n",
              "      <th>taster_twitter_handle</th>\n",
              "      <th>title</th>\n",
              "      <th>variety</th>\n",
              "      <th>winery</th>\n",
              "    </tr>\n",
              "  </thead>\n",
              "  <tbody>\n",
              "    <tr>\n",
              "      <th>0</th>\n",
              "      <td>3</td>\n",
              "      <td>US</td>\n",
              "      <td>Pineapple rind, lemon pith and orange blossom ...</td>\n",
              "      <td>Reserve Late Harvest</td>\n",
              "      <td>87</td>\n",
              "      <td>13.0</td>\n",
              "      <td>Michigan</td>\n",
              "      <td>Lake Michigan Shore</td>\n",
              "      <td>NaN</td>\n",
              "      <td>Alexander Peartree</td>\n",
              "      <td>NaN</td>\n",
              "      <td>St. Julian 2013 Reserve Late Harvest Riesling ...</td>\n",
              "      <td>Riesling</td>\n",
              "      <td>St. Julian</td>\n",
              "    </tr>\n",
              "    <tr>\n",
              "      <th>1</th>\n",
              "      <td>4</td>\n",
              "      <td>US</td>\n",
              "      <td>Much like the regular bottling from 2012, this...</td>\n",
              "      <td>Vintner's Reserve Wild Child Block</td>\n",
              "      <td>87</td>\n",
              "      <td>65.0</td>\n",
              "      <td>Oregon</td>\n",
              "      <td>Willamette Valley</td>\n",
              "      <td>Willamette Valley</td>\n",
              "      <td>Paul Gregutt</td>\n",
              "      <td>@paulgwine</td>\n",
              "      <td>Sweet Cheeks 2012 Vintner's Reserve Wild Child...</td>\n",
              "      <td>Pinot Noir</td>\n",
              "      <td>Sweet Cheeks</td>\n",
              "    </tr>\n",
              "  </tbody>\n",
              "</table>\n",
              "</div>"
            ],
            "text/plain": [
              "   Unnamed: 0 country  ...     variety        winery\n",
              "0           3      US  ...    Riesling    St. Julian\n",
              "1           4      US  ...  Pinot Noir  Sweet Cheeks\n",
              "\n",
              "[2 rows x 14 columns]"
            ]
          },
          "metadata": {
            "tags": []
          },
          "execution_count": 167
        }
      ]
    },
    {
      "cell_type": "code",
      "metadata": {
        "id": "Dt12oqFuPdNC"
      },
      "source": [
        "balanced_df.drop('Unnamed: 0', inplace=True, axis=1)"
      ],
      "execution_count": 41,
      "outputs": []
    },
    {
      "cell_type": "code",
      "metadata": {
        "id": "ntemhAo23BO5",
        "outputId": "f0f4a263-8f88-4d8d-ccad-3f5e9548e27a",
        "colab": {
          "base_uri": "https://localhost:8080/"
        }
      },
      "source": [
        "balanced_df.isna().sum()"
      ],
      "execution_count": 42,
      "outputs": [
        {
          "output_type": "execute_result",
          "data": {
            "text/plain": [
              "country                     69\n",
              "description                  0\n",
              "designation              43512\n",
              "points                       0\n",
              "price                     9325\n",
              "province                    69\n",
              "region_1                 25858\n",
              "region_2                 95561\n",
              "taster_name              30409\n",
              "taster_twitter_handle    35171\n",
              "title                        0\n",
              "variety                      0\n",
              "winery                       0\n",
              "dtype: int64"
            ]
          },
          "metadata": {
            "tags": []
          },
          "execution_count": 42
        }
      ]
    },
    {
      "cell_type": "code",
      "metadata": {
        "id": "6zb4f_w29EP7"
      },
      "source": [
        "balanced_df['country'].replace({'US':'United States of America'}, inplace=True)"
      ],
      "execution_count": 43,
      "outputs": []
    },
    {
      "cell_type": "code",
      "metadata": {
        "id": "hpD5RXai9gj3",
        "outputId": "8b15d37d-6952-4065-db97-c65a89d358a4",
        "colab": {
          "base_uri": "https://localhost:8080/",
          "height": 449
        }
      },
      "source": [
        "balanced_df.head()"
      ],
      "execution_count": 44,
      "outputs": [
        {
          "output_type": "execute_result",
          "data": {
            "text/html": [
              "<div>\n",
              "<style scoped>\n",
              "    .dataframe tbody tr th:only-of-type {\n",
              "        vertical-align: middle;\n",
              "    }\n",
              "\n",
              "    .dataframe tbody tr th {\n",
              "        vertical-align: top;\n",
              "    }\n",
              "\n",
              "    .dataframe thead th {\n",
              "        text-align: right;\n",
              "    }\n",
              "</style>\n",
              "<table border=\"1\" class=\"dataframe\">\n",
              "  <thead>\n",
              "    <tr style=\"text-align: right;\">\n",
              "      <th></th>\n",
              "      <th>country</th>\n",
              "      <th>description</th>\n",
              "      <th>designation</th>\n",
              "      <th>points</th>\n",
              "      <th>price</th>\n",
              "      <th>province</th>\n",
              "      <th>region_1</th>\n",
              "      <th>region_2</th>\n",
              "      <th>taster_name</th>\n",
              "      <th>taster_twitter_handle</th>\n",
              "      <th>title</th>\n",
              "      <th>variety</th>\n",
              "      <th>winery</th>\n",
              "    </tr>\n",
              "  </thead>\n",
              "  <tbody>\n",
              "    <tr>\n",
              "      <th>0</th>\n",
              "      <td>United States of America</td>\n",
              "      <td>Pineapple rind, lemon pith and orange blossom ...</td>\n",
              "      <td>Reserve Late Harvest</td>\n",
              "      <td>87</td>\n",
              "      <td>13.0</td>\n",
              "      <td>Michigan</td>\n",
              "      <td>Lake Michigan Shore</td>\n",
              "      <td>NaN</td>\n",
              "      <td>Alexander Peartree</td>\n",
              "      <td>NaN</td>\n",
              "      <td>St. Julian 2013 Reserve Late Harvest Riesling ...</td>\n",
              "      <td>Riesling</td>\n",
              "      <td>St. Julian</td>\n",
              "    </tr>\n",
              "    <tr>\n",
              "      <th>1</th>\n",
              "      <td>United States of America</td>\n",
              "      <td>Much like the regular bottling from 2012, this...</td>\n",
              "      <td>Vintner's Reserve Wild Child Block</td>\n",
              "      <td>87</td>\n",
              "      <td>65.0</td>\n",
              "      <td>Oregon</td>\n",
              "      <td>Willamette Valley</td>\n",
              "      <td>Willamette Valley</td>\n",
              "      <td>Paul Gregutt</td>\n",
              "      <td>@paulgwine</td>\n",
              "      <td>Sweet Cheeks 2012 Vintner's Reserve Wild Child...</td>\n",
              "      <td>Pinot Noir</td>\n",
              "      <td>Sweet Cheeks</td>\n",
              "    </tr>\n",
              "    <tr>\n",
              "      <th>2</th>\n",
              "      <td>United States of America</td>\n",
              "      <td>Soft, supple plum envelopes an oaky structure ...</td>\n",
              "      <td>Mountain Cuvée</td>\n",
              "      <td>87</td>\n",
              "      <td>19.0</td>\n",
              "      <td>California</td>\n",
              "      <td>Napa Valley</td>\n",
              "      <td>Napa</td>\n",
              "      <td>Virginie Boone</td>\n",
              "      <td>@vboone</td>\n",
              "      <td>Kirkland Signature 2011 Mountain Cuvée Caberne...</td>\n",
              "      <td>Cabernet Sauvignon</td>\n",
              "      <td>Kirkland Signature</td>\n",
              "    </tr>\n",
              "    <tr>\n",
              "      <th>3</th>\n",
              "      <td>United States of America</td>\n",
              "      <td>Slightly reduced, this wine offers a chalky, t...</td>\n",
              "      <td>NaN</td>\n",
              "      <td>87</td>\n",
              "      <td>34.0</td>\n",
              "      <td>California</td>\n",
              "      <td>Alexander Valley</td>\n",
              "      <td>Sonoma</td>\n",
              "      <td>Virginie Boone</td>\n",
              "      <td>@vboone</td>\n",
              "      <td>Louis M. Martini 2012 Cabernet Sauvignon (Alex...</td>\n",
              "      <td>Cabernet Sauvignon</td>\n",
              "      <td>Louis M. Martini</td>\n",
              "    </tr>\n",
              "    <tr>\n",
              "      <th>4</th>\n",
              "      <td>United States of America</td>\n",
              "      <td>Building on 150 years and six generations of w...</td>\n",
              "      <td>NaN</td>\n",
              "      <td>87</td>\n",
              "      <td>12.0</td>\n",
              "      <td>California</td>\n",
              "      <td>Central Coast</td>\n",
              "      <td>Central Coast</td>\n",
              "      <td>Matt Kettmann</td>\n",
              "      <td>@mattkettmann</td>\n",
              "      <td>Mirassou 2012 Chardonnay (Central Coast)</td>\n",
              "      <td>Chardonnay</td>\n",
              "      <td>Mirassou</td>\n",
              "    </tr>\n",
              "  </tbody>\n",
              "</table>\n",
              "</div>"
            ],
            "text/plain": [
              "                    country  ...              winery\n",
              "0  United States of America  ...          St. Julian\n",
              "1  United States of America  ...        Sweet Cheeks\n",
              "2  United States of America  ...  Kirkland Signature\n",
              "3  United States of America  ...    Louis M. Martini\n",
              "4  United States of America  ...            Mirassou\n",
              "\n",
              "[5 rows x 13 columns]"
            ]
          },
          "metadata": {
            "tags": []
          },
          "execution_count": 44
        }
      ]
    },
    {
      "cell_type": "code",
      "metadata": {
        "id": "Qoa6MN5R-S4l",
        "outputId": "a619d7a2-fe78-4f09-c34f-69b53cecbf8d",
        "colab": {
          "base_uri": "https://localhost:8080/"
        }
      },
      "source": [
        "balanced_variety = balanced_df['variety'].value_counts() # gets a Series of the variety count in balanced_df\n",
        "balanced_variety"
      ],
      "execution_count": 45,
      "outputs": [
        {
          "output_type": "execute_result",
          "data": {
            "text/plain": [
              "Pinot Noir                  13272\n",
              "Sauvignon Blanc             12801\n",
              "Chardonnay                  11753\n",
              "Syrah                       11128\n",
              "Cabernet Sauvignon           9472\n",
              "Rosé                         9207\n",
              "Red Blend                    8946\n",
              "Nebbiolo                     8107\n",
              "Malbec                       8047\n",
              "Merlot                       7874\n",
              "Portuguese Red               7734\n",
              "Sangiovese                   7432\n",
              "Bordeaux-style Red Blend     6915\n",
              "Zinfandel                    6512\n",
              "White Blend                  6034\n",
              "Sparkling Blend              5740\n",
              "Tempranillo                  5552\n",
              "Riesling                     5189\n",
              "Rhône-style Red Blend        3972\n",
              "Pinot Gris                   3961\n",
              "Name: variety, dtype: int64"
            ]
          },
          "metadata": {
            "tags": []
          },
          "execution_count": 45
        }
      ]
    },
    {
      "cell_type": "code",
      "metadata": {
        "id": "7Q6HiVQOAxoB"
      },
      "source": [
        "newdf = balanced_df.copy()"
      ],
      "execution_count": 46,
      "outputs": []
    },
    {
      "cell_type": "code",
      "metadata": {
        "id": "5eKJr97PA2pK"
      },
      "source": [
        "newdf.fillna('', inplace=True)"
      ],
      "execution_count": 47,
      "outputs": []
    },
    {
      "cell_type": "code",
      "metadata": {
        "id": "8WWquNwY3fzM"
      },
      "source": [
        "balanced_df['not vintage'] = newdf['country'] + ' ' + newdf['designation'] + ' ' + newdf['province']\\\n",
        "   + ' ' + newdf['region_1'] + ' ' + newdf['region_2'] + ' ' + newdf['winery']"
      ],
      "execution_count": 48,
      "outputs": []
    },
    {
      "cell_type": "code",
      "metadata": {
        "id": "iIBS8C2r_1Mg"
      },
      "source": [
        "balanced_df['sentences'] = balanced_df['description'] + ' ' + balanced_df['not vintage']"
      ],
      "execution_count": 49,
      "outputs": []
    },
    {
      "cell_type": "code",
      "metadata": {
        "id": "PXU1Icz1boYl",
        "outputId": "67efc28e-2d07-41eb-b989-d0910b722d21",
        "colab": {
          "base_uri": "https://localhost:8080/",
          "height": 375
        }
      },
      "source": [
        "balanced_df.head(2)"
      ],
      "execution_count": 50,
      "outputs": [
        {
          "output_type": "execute_result",
          "data": {
            "text/html": [
              "<div>\n",
              "<style scoped>\n",
              "    .dataframe tbody tr th:only-of-type {\n",
              "        vertical-align: middle;\n",
              "    }\n",
              "\n",
              "    .dataframe tbody tr th {\n",
              "        vertical-align: top;\n",
              "    }\n",
              "\n",
              "    .dataframe thead th {\n",
              "        text-align: right;\n",
              "    }\n",
              "</style>\n",
              "<table border=\"1\" class=\"dataframe\">\n",
              "  <thead>\n",
              "    <tr style=\"text-align: right;\">\n",
              "      <th></th>\n",
              "      <th>country</th>\n",
              "      <th>description</th>\n",
              "      <th>designation</th>\n",
              "      <th>points</th>\n",
              "      <th>price</th>\n",
              "      <th>province</th>\n",
              "      <th>region_1</th>\n",
              "      <th>region_2</th>\n",
              "      <th>taster_name</th>\n",
              "      <th>taster_twitter_handle</th>\n",
              "      <th>title</th>\n",
              "      <th>variety</th>\n",
              "      <th>winery</th>\n",
              "      <th>not vintage</th>\n",
              "      <th>sentences</th>\n",
              "    </tr>\n",
              "  </thead>\n",
              "  <tbody>\n",
              "    <tr>\n",
              "      <th>0</th>\n",
              "      <td>United States of America</td>\n",
              "      <td>Pineapple rind, lemon pith and orange blossom ...</td>\n",
              "      <td>Reserve Late Harvest</td>\n",
              "      <td>87</td>\n",
              "      <td>13.0</td>\n",
              "      <td>Michigan</td>\n",
              "      <td>Lake Michigan Shore</td>\n",
              "      <td>NaN</td>\n",
              "      <td>Alexander Peartree</td>\n",
              "      <td>NaN</td>\n",
              "      <td>St. Julian 2013 Reserve Late Harvest Riesling ...</td>\n",
              "      <td>Riesling</td>\n",
              "      <td>St. Julian</td>\n",
              "      <td>United States of America Reserve Late Harvest ...</td>\n",
              "      <td>Pineapple rind, lemon pith and orange blossom ...</td>\n",
              "    </tr>\n",
              "    <tr>\n",
              "      <th>1</th>\n",
              "      <td>United States of America</td>\n",
              "      <td>Much like the regular bottling from 2012, this...</td>\n",
              "      <td>Vintner's Reserve Wild Child Block</td>\n",
              "      <td>87</td>\n",
              "      <td>65.0</td>\n",
              "      <td>Oregon</td>\n",
              "      <td>Willamette Valley</td>\n",
              "      <td>Willamette Valley</td>\n",
              "      <td>Paul Gregutt</td>\n",
              "      <td>@paulgwine</td>\n",
              "      <td>Sweet Cheeks 2012 Vintner's Reserve Wild Child...</td>\n",
              "      <td>Pinot Noir</td>\n",
              "      <td>Sweet Cheeks</td>\n",
              "      <td>United States of America Vintner's Reserve Wil...</td>\n",
              "      <td>Much like the regular bottling from 2012, this...</td>\n",
              "    </tr>\n",
              "  </tbody>\n",
              "</table>\n",
              "</div>"
            ],
            "text/plain": [
              "                    country  ...                                          sentences\n",
              "0  United States of America  ...  Pineapple rind, lemon pith and orange blossom ...\n",
              "1  United States of America  ...  Much like the regular bottling from 2012, this...\n",
              "\n",
              "[2 rows x 15 columns]"
            ]
          },
          "metadata": {
            "tags": []
          },
          "execution_count": 50
        }
      ]
    },
    {
      "cell_type": "markdown",
      "metadata": {
        "id": "xI_zYydOIVWz"
      },
      "source": [
        "# Loading spacy\n",
        "\n",
        "Text Preparation"
      ]
    },
    {
      "cell_type": "code",
      "metadata": {
        "id": "C9kul1wzcFSO"
      },
      "source": [
        "nlp = spacy.load('en', disable=['tagger', 'parser', 'ner'])\n",
        "spacy_stop_words = spacy.lang.en.STOP_WORDS # getting spacy's stop-words"
      ],
      "execution_count": 51,
      "outputs": []
    },
    {
      "cell_type": "code",
      "metadata": {
        "id": "gKLWxRz3DSTV"
      },
      "source": [
        "#Stopwords list from https://github.com/Yoast/YoastSEO.js/blob/develop/src/config/stopwords.js\n",
        "# Convert it to a Python list and paste it here\n",
        "stopwords = [ \"a\", \"about\", \"above\", \"after\", \"again\", \"against\", \"all\", \"am\", \"an\", \"and\", \"any\", \"are\", \"as\", \"at\", \"be\", \"because\", \"been\", \"before\", \"being\", \"below\", \"between\", \"both\", \"but\", \"by\", \"could\", \"did\", \"do\", \"does\", \"doing\", \"down\", \"during\", \"each\", \"few\", \"for\", \"from\", \"further\", \"had\", \"has\", \"have\", \"having\", \"he\", \"he'd\", \"he'll\", \"he's\", \"her\", \"here\", \"here's\", \"hers\", \"herself\", \"him\", \"himself\", \"his\", \"how\", \"how's\", \"i\", \"i'd\", \"i'll\", \"i'm\", \"i've\", \"if\", \"in\", \"into\", \"is\", \"it\", \"it's\", \"its\", \"itself\", \"let's\", \"me\", \"more\", \"most\", \"my\", \"myself\", \"nor\", \"of\", \"on\", \"once\", \"only\", \"or\", \"other\", \"ought\", \"our\", \"ours\", \"ourselves\", \"out\", \"over\", \"own\", \"same\", \"she\", \"she'd\", \"she'll\", \"she's\", \"should\", \"so\", \"some\", \"such\", \"than\", \"that\", \"that's\", \"the\", \"their\", \"theirs\", \"them\", \"themselves\", \"then\", \"there\", \"there's\", \"these\", \"they\", \"they'd\", \"they'll\", \"they're\", \"they've\", \"this\", \"those\", \"through\", \"to\", \"too\", \"under\", \"until\", \"up\", \"very\", \"was\", \"we\", \"we'd\", \"we'll\", \"we're\", \"we've\", \"were\", \"what\", \"what's\", \"when\", \"when's\", \"where\", \"where's\", \"which\", \"while\", \"who\", \"who's\", \"whom\", \"why\", \"why's\", \"with\", \"would\", \"you\", \"you'd\", \"you'll\", \"you're\", \"you've\", \"your\", \"yours\", \"yourself\", \"yourselves\" ]"
      ],
      "execution_count": 52,
      "outputs": []
    },
    {
      "cell_type": "code",
      "metadata": {
        "id": "pTPuxmA6dLI0",
        "outputId": "e930ec97-8250-48e9-d626-0ab48ccac62a",
        "colab": {
          "base_uri": "https://localhost:8080/"
        }
      },
      "source": [
        "type(spacy_stop_words)"
      ],
      "execution_count": 53,
      "outputs": [
        {
          "output_type": "execute_result",
          "data": {
            "text/plain": [
              "set"
            ]
          },
          "metadata": {
            "tags": []
          },
          "execution_count": 53
        }
      ]
    },
    {
      "cell_type": "code",
      "metadata": {
        "id": "uszi_qnvqbWN"
      },
      "source": [
        "odd_stop = ['-pron-', '10', '12', 'aah', 'aa', 'ab', 'aaa', 'aand', '16', '2', '20', '30', '4', '40', '5', '6', '7', '8', '9']"
      ],
      "execution_count": 54,
      "outputs": []
    },
    {
      "cell_type": "code",
      "metadata": {
        "id": "H7nvWalKTGQx"
      },
      "source": [
        "stop_words = list(set(list(spacy_stop_words) + stopwords + odd_stop))"
      ],
      "execution_count": 55,
      "outputs": []
    },
    {
      "cell_type": "code",
      "metadata": {
        "id": "Pc5Dz9Wu7CF9"
      },
      "source": [
        "# lemmatized stopwords\n",
        "stopwords = list({word.lemma_.lower() for word in nlp(' '.join(stop_words))})"
      ],
      "execution_count": 56,
      "outputs": []
    },
    {
      "cell_type": "code",
      "metadata": {
        "id": "Tzi9LpNz7kH4"
      },
      "source": [
        "# defining tokenzer function to tokenize the lower case lemma of documents in a corpus and \n",
        "# filter out stop-words  \n",
        "def tokenizer_spacy(text):\n",
        "    return [word.lemma_.lower() for word in nlp(text) if word.is_alpha and word.lemma_.lower() not in stopwords]\n",
        "\n"
      ],
      "execution_count": 57,
      "outputs": []
    },
    {
      "cell_type": "code",
      "metadata": {
        "id": "PScQeiUFKXxx"
      },
      "source": [
        "from sklearn.preprocessing import LabelEncoder\n",
        "from sklearn.model_selection import train_test_split, StratifiedKFold, RepeatedStratifiedKFold"
      ],
      "execution_count": 58,
      "outputs": []
    },
    {
      "cell_type": "code",
      "metadata": {
        "id": "NJklv5vBLRuV"
      },
      "source": [
        "sentences = balanced_df['sentences']\n",
        "labels = balanced_df['variety']"
      ],
      "execution_count": 59,
      "outputs": []
    },
    {
      "cell_type": "code",
      "metadata": {
        "id": "ogwCiJ5fKX1t"
      },
      "source": [
        "# Label encoding\n",
        "encode = LabelEncoder()\n",
        "labels = encode.fit_transform(labels)"
      ],
      "execution_count": 60,
      "outputs": []
    },
    {
      "cell_type": "code",
      "metadata": {
        "id": "1RqClFxdBu2a"
      },
      "source": [
        "embedding_dim = 300\n",
        "max_length = 100\n",
        "trunc_type='post'\n",
        "padding_type='post'\n",
        "oov_tok = \"<OOV>\"\n",
        "\n",
        "senten = []\n",
        "\n",
        "for sentence in sentences:\n",
        "  for word in stopwords:\n",
        "    token = \" \" + word + \" \"\n",
        "    sentence = sentence.lower().replace(token, \" \")\n",
        "    sentence = sentence.replace(\"  \", \" \")\n",
        "    sentence = sentence.replace(\"\\xa0\", \" \")\n",
        "  senten.append(sentence)\n",
        "\n",
        "senten = [word for word in senten if word not in stopwords] # stopword filtering"
      ],
      "execution_count": 61,
      "outputs": []
    },
    {
      "cell_type": "markdown",
      "metadata": {
        "id": "kVn_iLv3DyDz"
      },
      "source": [
        "Note the above line of code filters stopwords only, while the code below lemmatizes the text and filters the stopwords"
      ]
    },
    {
      "cell_type": "code",
      "metadata": {
        "id": "HrsoGMCp63WM"
      },
      "source": [
        "# tokenize (lemmatize and filter stop words) corpus \n",
        "senten = [' '.join(tokenizer_spacy(doc)) for doc in senten]"
      ],
      "execution_count": 62,
      "outputs": []
    },
    {
      "cell_type": "code",
      "metadata": {
        "id": "1Ns4hfJKEh9Y",
        "outputId": "d2930ebb-79f0-4f8d-931a-f34873e2de25",
        "colab": {
          "base_uri": "https://localhost:8080/",
          "height": 55
        }
      },
      "source": [
        "# after filtering\n",
        "senten[0]"
      ],
      "execution_count": 63,
      "outputs": [
        {
          "output_type": "execute_result",
          "data": {
            "application/vnd.google.colaboratory.intrinsic+json": {
              "type": "string"
            },
            "text/plain": [
              "'pineapple rind lemon pith orange blossom start aroma palate bite opulent note honey drizzle guava mango way slightly astringent semidry finish unite state america reserve late harvest michigan lake michigan shore st julian'"
            ]
          },
          "metadata": {
            "tags": []
          },
          "execution_count": 63
        }
      ]
    },
    {
      "cell_type": "code",
      "metadata": {
        "id": "_B0bNIuBFnz8",
        "outputId": "451adee6-6f03-47df-b157-addf66d2834c",
        "colab": {
          "base_uri": "https://localhost:8080/",
          "height": 55
        }
      },
      "source": [
        "# before filtering\n",
        "sentences.iloc[0]"
      ],
      "execution_count": 64,
      "outputs": [
        {
          "output_type": "execute_result",
          "data": {
            "application/vnd.google.colaboratory.intrinsic+json": {
              "type": "string"
            },
            "text/plain": [
              "'Pineapple rind, lemon pith and orange blossom start off the aromas. The palate is a bit more opulent, with notes of honey-drizzled guava and mango giving way to a slightly astringent, semidry finish. United States of America Reserve Late Harvest Michigan Lake Michigan Shore  St. Julian'"
            ]
          },
          "metadata": {
            "tags": []
          },
          "execution_count": 64
        }
      ]
    },
    {
      "cell_type": "code",
      "metadata": {
        "id": "DB96K7b-CPME"
      },
      "source": [
        "# word tokenizing\n",
        "tokenizer = Tokenizer(oov_token=oov_tok)\n",
        "tokenizer.fit_on_texts(senten)\n",
        "\n",
        "word_index = tokenizer.word_index"
      ],
      "execution_count": 65,
      "outputs": []
    },
    {
      "cell_type": "code",
      "metadata": {
        "id": "kPs5ghXqClla"
      },
      "source": [
        "vocab_size = len(word_index)"
      ],
      "execution_count": 66,
      "outputs": []
    },
    {
      "cell_type": "code",
      "metadata": {
        "id": "7ZzBZQY-fBPd",
        "outputId": "3ab50689-61d0-4bb9-fc3c-a15438c0eab1",
        "colab": {
          "base_uri": "https://localhost:8080/"
        }
      },
      "source": [
        "vocab_size"
      ],
      "execution_count": 67,
      "outputs": [
        {
          "output_type": "execute_result",
          "data": {
            "text/plain": [
              "37723"
            ]
          },
          "metadata": {
            "tags": []
          },
          "execution_count": 67
        }
      ]
    },
    {
      "cell_type": "code",
      "metadata": {
        "id": "DS_rznf3EU8I"
      },
      "source": [
        "# converting texts to numbers\n",
        "training_sequences = tokenizer.texts_to_sequences(senten)\n",
        "training_padded = pad_sequences(training_sequences, maxlen=max_length, padding=padding_type, truncating=trunc_type)"
      ],
      "execution_count": 68,
      "outputs": []
    },
    {
      "cell_type": "code",
      "metadata": {
        "id": "ysZ4Q1wrakg_"
      },
      "source": [
        "# converting numbers to text, this is for the Word2vec model\n",
        "senten_corpus = tokenizer.sequences_to_texts(training_sequences)"
      ],
      "execution_count": 69,
      "outputs": []
    },
    {
      "cell_type": "code",
      "metadata": {
        "id": "XN4jFUWabF4Y",
        "outputId": "397c3b78-79b3-42b3-f3d3-945a377a6af2",
        "colab": {
          "base_uri": "https://localhost:8080/"
        }
      },
      "source": [
        "# The last 3 sentences\n",
        "senten_corpus[-3:]"
      ],
      "execution_count": 70,
      "outputs": [
        {
          "output_type": "execute_result",
          "data": {
            "text/plain": [
              "['weight solid powerful core spice bake apple flavor france alsace alsace domaine marcel deiss',\n",
              " 'structure develope wine need age france alsace alsace domaine marcel deiss',\n",
              " 'drink france alsace alsace domaine marcel deiss']"
            ]
          },
          "metadata": {
            "tags": []
          },
          "execution_count": 70
        }
      ]
    },
    {
      "cell_type": "code",
      "metadata": {
        "id": "FQL5EwUyhQKu",
        "outputId": "06eb0997-0a02-4b34-e495-e7f72450c627",
        "colab": {
          "base_uri": "https://localhost:8080/"
        }
      },
      "source": [
        "len(senten_corpus)"
      ],
      "execution_count": 71,
      "outputs": [
        {
          "output_type": "execute_result",
          "data": {
            "text/plain": [
              "159648"
            ]
          },
          "metadata": {
            "tags": []
          },
          "execution_count": 71
        }
      ]
    },
    {
      "cell_type": "code",
      "metadata": {
        "id": "FsqocNWshQOo"
      },
      "source": [
        "sent_oversample_corpus = [doc.split() for doc in senten_corpus] # gets corpus as a list of lists"
      ],
      "execution_count": 72,
      "outputs": []
    },
    {
      "cell_type": "code",
      "metadata": {
        "id": "YPTxtB58hQSC",
        "outputId": "a38d58a3-a8e9-4a59-eb0a-4c75de0716a9",
        "colab": {
          "base_uri": "https://localhost:8080/"
        }
      },
      "source": [
        "sent_oversample_corpus[:2]"
      ],
      "execution_count": 73,
      "outputs": [
        {
          "output_type": "execute_result",
          "data": {
            "text/plain": [
              "[['pineapple',\n",
              "  'rind',\n",
              "  'lemon',\n",
              "  'pith',\n",
              "  'orange',\n",
              "  'blossom',\n",
              "  'start',\n",
              "  'aroma',\n",
              "  'palate',\n",
              "  'bite',\n",
              "  'opulent',\n",
              "  'note',\n",
              "  'honey',\n",
              "  'drizzle',\n",
              "  'guava',\n",
              "  'mango',\n",
              "  'way',\n",
              "  'slightly',\n",
              "  'astringent',\n",
              "  'semidry',\n",
              "  'finish',\n",
              "  'unite',\n",
              "  'state',\n",
              "  'america',\n",
              "  'reserve',\n",
              "  'late',\n",
              "  'harvest',\n",
              "  'michigan',\n",
              "  'lake',\n",
              "  'michigan',\n",
              "  'shore',\n",
              "  'st',\n",
              "  'julian'],\n",
              " ['like',\n",
              "  'regular',\n",
              "  'bottle',\n",
              "  'come',\n",
              "  'rough',\n",
              "  'tannic',\n",
              "  'rustic',\n",
              "  'earthy',\n",
              "  'herbal',\n",
              "  'characteristic',\n",
              "  'nonetheless',\n",
              "  'think',\n",
              "  'pleasantly',\n",
              "  'unfussy',\n",
              "  'country',\n",
              "  'wine',\n",
              "  'companion',\n",
              "  'hearty',\n",
              "  'winter',\n",
              "  'stew',\n",
              "  'unite',\n",
              "  'state',\n",
              "  'america',\n",
              "  'vintner',\n",
              "  'reserve',\n",
              "  'wild',\n",
              "  'child',\n",
              "  'block',\n",
              "  'oregon',\n",
              "  'willamette',\n",
              "  'valley',\n",
              "  'willamette',\n",
              "  'valley',\n",
              "  'sweet',\n",
              "  'cheek']]"
            ]
          },
          "metadata": {
            "tags": []
          },
          "execution_count": 73
        }
      ]
    },
    {
      "cell_type": "code",
      "metadata": {
        "id": "sq_sh212iFw1",
        "outputId": "2b197906-3d36-41e8-bbbe-7967529b604a",
        "colab": {
          "base_uri": "https://localhost:8080/"
        }
      },
      "source": [
        "# trains sent_oversample_corpus2 on Word2Vec. For sent_oversample_corpus2, min_count of 5 and iter (epoch) of 10 \n",
        "# seems to be the best\n",
        "sent_w2v_model = Word2Vec(sent_oversample_corpus, size=300, min_count=1, iter=10)\n",
        "\n",
        "print(sent_w2v_model) # sumarizes the word2vec"
      ],
      "execution_count": 74,
      "outputs": [
        {
          "output_type": "stream",
          "text": [
            "Word2Vec(vocab=37722, size=300, alpha=0.025)\n"
          ],
          "name": "stdout"
        }
      ]
    },
    {
      "cell_type": "code",
      "metadata": {
        "id": "3vVPpD8diGAk",
        "outputId": "052e5521-3c16-4a69-c064-b00a29037c41",
        "colab": {
          "base_uri": "https://localhost:8080/"
        }
      },
      "source": [
        "sent_w2v_model.wv.__getitem__('pineapple').shape # confirms the dimension of our embedding"
      ],
      "execution_count": 75,
      "outputs": [
        {
          "output_type": "execute_result",
          "data": {
            "text/plain": [
              "(300,)"
            ]
          },
          "metadata": {
            "tags": []
          },
          "execution_count": 75
        }
      ]
    },
    {
      "cell_type": "code",
      "metadata": {
        "id": "w1TIleJ3jM3-",
        "outputId": "df499c3b-c4dd-4679-e418-7f591de2fc8f",
        "colab": {
          "base_uri": "https://localhost:8080/",
          "height": 36
        }
      },
      "source": [
        "# picking out the odd word\n",
        "sent_w2v_model.wv.doesnt_match(['cherry', 'italy', 'apple', 'pineapple', 'tangerine'])"
      ],
      "execution_count": 76,
      "outputs": [
        {
          "output_type": "execute_result",
          "data": {
            "application/vnd.google.colaboratory.intrinsic+json": {
              "type": "string"
            },
            "text/plain": [
              "'italy'"
            ]
          },
          "metadata": {
            "tags": []
          },
          "execution_count": 76
        }
      ]
    },
    {
      "cell_type": "code",
      "metadata": {
        "id": "pk5Vrv7NjM6w",
        "outputId": "9d17c072-55d5-4148-b601-5e61d624917e",
        "colab": {
          "base_uri": "https://localhost:8080/",
          "height": 36
        }
      },
      "source": [
        "# picking out the odd word\n",
        "sent_w2v_model.wv.doesnt_match(['arizona', 'france', 'michigan', 'texas', 'pennsylvania'])"
      ],
      "execution_count": 77,
      "outputs": [
        {
          "output_type": "execute_result",
          "data": {
            "application/vnd.google.colaboratory.intrinsic+json": {
              "type": "string"
            },
            "text/plain": [
              "'france'"
            ]
          },
          "metadata": {
            "tags": []
          },
          "execution_count": 77
        }
      ]
    },
    {
      "cell_type": "code",
      "metadata": {
        "id": "2NDYaS8HknzU",
        "outputId": "34df47d4-1871-449f-819c-088e06c95b81",
        "colab": {
          "base_uri": "https://localhost:8080/",
          "height": 36
        }
      },
      "source": [
        "# let's see a random province in Portugal\n",
        "balanced_df[balanced_df['country'] == 'Portugal']['province'].unique()[0]"
      ],
      "execution_count": 78,
      "outputs": [
        {
          "output_type": "execute_result",
          "data": {
            "application/vnd.google.colaboratory.intrinsic+json": {
              "type": "string"
            },
            "text/plain": [
              "'Estremadura'"
            ]
          },
          "metadata": {
            "tags": []
          },
          "execution_count": 78
        }
      ]
    },
    {
      "cell_type": "code",
      "metadata": {
        "id": "8mQZ9gdhjM-A",
        "outputId": "25cfe87d-c354-47ff-8c1a-fe8610c23f33",
        "colab": {
          "base_uri": "https://localhost:8080/"
        }
      },
      "source": [
        "# just like king - man + woman = queen, we want to prove that portugal - estremadura + ontario = canada\n",
        "print(sent_w2v_model.wv.most_similar(positive=['portugal', 'ontario'], negative=['estremadura']))"
      ],
      "execution_count": 79,
      "outputs": [
        {
          "output_type": "stream",
          "text": [
            "[('canada', 0.5742923021316528), ('vaïla', 0.4651641249656677), ('reimer', 0.44282543659210205), ('germany', 0.40894263982772827), ('sequeira', 0.40871763229370117), ('austria', 0.4066888093948364), ('fall', 0.39244574308395386), ('lickable', 0.38630008697509766), ('caronne', 0.38553017377853394), ('right', 0.38268715143203735)]\n"
          ],
          "name": "stdout"
        }
      ]
    },
    {
      "cell_type": "code",
      "metadata": {
        "id": "ltAf-getjNBC",
        "outputId": "c63a8049-5231-4a2b-b8b9-8de6836837e8",
        "colab": {
          "base_uri": "https://localhost:8080/"
        }
      },
      "source": [
        "# let's see the most similar words to 'aroma'\n",
        "print(sent_w2v_model.wv.most_similar('aroma'))"
      ],
      "execution_count": 80,
      "outputs": [
        {
          "output_type": "stream",
          "text": [
            "[('scent', 0.8044301271438599), ('bouquet', 0.6817512512207031), ('note', 0.6273495554924011), ('nose', 0.6008849740028381), ('smell', 0.5978485941886902), ('whiff', 0.5714474320411682), ('fragrance', 0.5550646781921387), ('recall', 0.5497757196426392), ('mix', 0.5404179096221924), ('tone', 0.5320971012115479)]\n"
          ],
          "name": "stdout"
        }
      ]
    },
    {
      "cell_type": "code",
      "metadata": {
        "id": "aEPmO6KWkzll",
        "outputId": "13c72ec6-e2b9-4cc2-b2b2-2a0155495579",
        "colab": {
          "base_uri": "https://localhost:8080/"
        }
      },
      "source": [
        "len(sent_w2v_model.wv.vocab)"
      ],
      "execution_count": 81,
      "outputs": [
        {
          "output_type": "execute_result",
          "data": {
            "text/plain": [
              "37722"
            ]
          },
          "metadata": {
            "tags": []
          },
          "execution_count": 81
        }
      ]
    },
    {
      "cell_type": "code",
      "metadata": {
        "id": "ddZtD8h9tRlX",
        "outputId": "fad82c9a-c26f-4dc5-c523-35261609546d",
        "colab": {
          "base_uri": "https://localhost:8080/"
        }
      },
      "source": [
        "def Diff(li1, li2):\n",
        "    return (list(list(set(li1)-set(li2)) + list(set(li2)-set(li1))))\n",
        " \n",
        "# Comparing between the word2vec word index and tokenizer;s word index\n",
        "li1 = list(sent_w2v_model.wv.vocab.keys())\n",
        "li2 = list(word_index.keys())\n",
        "print(Diff(li1, li2))"
      ],
      "execution_count": 82,
      "outputs": [
        {
          "output_type": "stream",
          "text": [
            "['<OOV>']\n"
          ],
          "name": "stdout"
        }
      ]
    },
    {
      "cell_type": "markdown",
      "metadata": {
        "id": "1rCkcQkIojr8"
      },
      "source": [
        "# Modelling\n",
        "\n",
        "Defining a function that creates an embedding matrix"
      ]
    },
    {
      "cell_type": "code",
      "metadata": {
        "id": "8aaQhf4kZyqh"
      },
      "source": [
        "def get_embedding_matrix(model, word_index):\n",
        "    vocab_size = len(word_index) + 1\n",
        "    embedding_dim = model.wv.vector_size\n",
        "    embedding_matrix = np.zeros((vocab_size, embedding_dim))\n",
        "    \n",
        "    for word in model.wv.vocab:\n",
        "        ind = word_index[word]\n",
        "        embedding_matrix[ind] = model[word]\n",
        "        \n",
        "    return embedding_matrix"
      ],
      "execution_count": 83,
      "outputs": []
    },
    {
      "cell_type": "code",
      "metadata": {
        "id": "MKlPnLYXoq2W"
      },
      "source": [
        "embedding_matrix = get_embedding_matrix(sent_w2v_model, word_index)"
      ],
      "execution_count": 84,
      "outputs": []
    },
    {
      "cell_type": "code",
      "metadata": {
        "id": "Fr-kvTfNusE0",
        "outputId": "9542f782-eddf-48c3-9454-27b03adc2483",
        "colab": {
          "base_uri": "https://localhost:8080/"
        }
      },
      "source": [
        "embedding_matrix.shape"
      ],
      "execution_count": 85,
      "outputs": [
        {
          "output_type": "execute_result",
          "data": {
            "text/plain": [
              "(37724, 300)"
            ]
          },
          "metadata": {
            "tags": []
          },
          "execution_count": 85
        }
      ]
    },
    {
      "cell_type": "code",
      "metadata": {
        "id": "ELpXfBfkusIf"
      },
      "source": [
        "def nlp_model():\n",
        "  model = tf.keras.Sequential([\n",
        "    tf.keras.layers.Embedding(vocab_size+1, embedding_dim, input_length=max_length,  mask_zero=True, weights=[embedding_matrix], trainable=False),\n",
        "    tf.keras.layers.Dropout(0.5),\n",
        "    tf.keras.layers.Bidirectional(tf.keras.layers.LSTM(300)),\n",
        "    tf.keras.layers.Dropout(0.5),\n",
        "    tf.keras.layers.Dense(20, activation='softmax')\n",
        "  ])\n",
        "\n",
        "  model.compile(loss='sparse_categorical_crossentropy',optimizer='adam',metrics=['accuracy'])\n",
        "\n",
        "  return model"
      ],
      "execution_count": 86,
      "outputs": []
    },
    {
      "cell_type": "code",
      "metadata": {
        "id": "Dh4CcE6TrkG4",
        "outputId": "c2b3c64b-490d-455d-b11f-28dba84248a0",
        "colab": {
          "base_uri": "https://localhost:8080/"
        }
      },
      "source": [
        "model = nlp_model()\n",
        "model.summary()"
      ],
      "execution_count": 87,
      "outputs": [
        {
          "output_type": "stream",
          "text": [
            "Model: \"sequential\"\n",
            "_________________________________________________________________\n",
            "Layer (type)                 Output Shape              Param #   \n",
            "=================================================================\n",
            "embedding (Embedding)        (None, 100, 300)          11317200  \n",
            "_________________________________________________________________\n",
            "dropout (Dropout)            (None, 100, 300)          0         \n",
            "_________________________________________________________________\n",
            "bidirectional (Bidirectional (None, 600)               1442400   \n",
            "_________________________________________________________________\n",
            "dropout_1 (Dropout)          (None, 600)               0         \n",
            "_________________________________________________________________\n",
            "dense (Dense)                (None, 20)                12020     \n",
            "=================================================================\n",
            "Total params: 12,771,620\n",
            "Trainable params: 1,454,420\n",
            "Non-trainable params: 11,317,200\n",
            "_________________________________________________________________\n"
          ],
          "name": "stdout"
        }
      ]
    },
    {
      "cell_type": "code",
      "metadata": {
        "id": "xb7sjzNKusO8"
      },
      "source": [
        "# creating class weights to reduce class imbalance\n",
        "from sklearn.utils import class_weight\n",
        "class_weights = dict(zip(np.unique(labels), class_weight.compute_class_weight('balanced',\n",
        "                                                 np.unique(labels),\n",
        "                                                 labels))) "
      ],
      "execution_count": 88,
      "outputs": []
    },
    {
      "cell_type": "code",
      "metadata": {
        "id": "-hRdYrBqzEhr",
        "outputId": "fdf58f74-eefa-4143-c03c-5ce209fded1e",
        "colab": {
          "base_uri": "https://localhost:8080/"
        }
      },
      "source": [
        "training_padded = np.array(training_padded)\n",
        "\n",
        "\n",
        "num_epochs = 20\n",
        "\n",
        "# earlystopping callback\n",
        "early_stopping = tf.keras.callbacks.EarlyStopping(monitor='val_loss',\n",
        "                               patience=5,\n",
        "                               verbose=1,\n",
        "                               min_delta=1e-4)\n",
        "\n",
        "# ReduceLROnPlateau callback\n",
        "lrp = tf.keraslrp = tf.keras.callbacks.ReduceLROnPlateau(monitor='val_loss',\n",
        "                                   factor=0.1,\n",
        "                                   patience=2,\n",
        "                                   cooldown=2,\n",
        "                                   verbose=1)\n",
        "\n",
        "# model training\n",
        "history = model.fit(training_padded, labels, epochs=num_epochs, class_weight=class_weights, \n",
        "                    validation_split=0.25,\n",
        "                    batch_size=128, verbose=1,\n",
        "                    callbacks=[early_stopping, lrp])"
      ],
      "execution_count": 89,
      "outputs": [
        {
          "output_type": "stream",
          "text": [
            "Epoch 1/20\n",
            "936/936 [==============================] - 33s 35ms/step - loss: 0.6952 - accuracy: 0.7691 - val_loss: 0.6921 - val_accuracy: 0.7761\n",
            "Epoch 2/20\n",
            "936/936 [==============================] - 30s 32ms/step - loss: 0.4976 - accuracy: 0.8309 - val_loss: 0.6163 - val_accuracy: 0.7981\n",
            "Epoch 3/20\n",
            "936/936 [==============================] - 30s 32ms/step - loss: 0.4413 - accuracy: 0.8463 - val_loss: 0.6005 - val_accuracy: 0.8047\n",
            "Epoch 4/20\n",
            "936/936 [==============================] - 31s 33ms/step - loss: 0.4096 - accuracy: 0.8560 - val_loss: 0.6009 - val_accuracy: 0.8040\n",
            "Epoch 5/20\n",
            "936/936 [==============================] - 31s 33ms/step - loss: 0.3821 - accuracy: 0.8648 - val_loss: 0.5810 - val_accuracy: 0.8134\n",
            "Epoch 6/20\n",
            "936/936 [==============================] - 31s 34ms/step - loss: 0.3609 - accuracy: 0.8710 - val_loss: 0.5746 - val_accuracy: 0.8150\n",
            "Epoch 7/20\n",
            "936/936 [==============================] - 31s 33ms/step - loss: 0.3449 - accuracy: 0.8761 - val_loss: 0.5750 - val_accuracy: 0.8172\n",
            "Epoch 8/20\n",
            "936/936 [==============================] - 31s 33ms/step - loss: 0.3290 - accuracy: 0.8810 - val_loss: 0.5588 - val_accuracy: 0.8238\n",
            "Epoch 9/20\n",
            "936/936 [==============================] - 31s 33ms/step - loss: 0.3156 - accuracy: 0.8854 - val_loss: 0.5797 - val_accuracy: 0.8208\n",
            "Epoch 10/20\n",
            "935/936 [============================>.] - ETA: 0s - loss: 0.3071 - accuracy: 0.8877\n",
            "Epoch 00010: ReduceLROnPlateau reducing learning rate to 0.00010000000474974513.\n",
            "936/936 [==============================] - 31s 34ms/step - loss: 0.3072 - accuracy: 0.8877 - val_loss: 0.5663 - val_accuracy: 0.8280\n",
            "Epoch 11/20\n",
            "936/936 [==============================] - 31s 34ms/step - loss: 0.2700 - accuracy: 0.9000 - val_loss: 0.5493 - val_accuracy: 0.8329\n",
            "Epoch 12/20\n",
            "936/936 [==============================] - 31s 34ms/step - loss: 0.2608 - accuracy: 0.9032 - val_loss: 0.5478 - val_accuracy: 0.8338\n",
            "Epoch 13/20\n",
            "936/936 [==============================] - 31s 34ms/step - loss: 0.2527 - accuracy: 0.9058 - val_loss: 0.5494 - val_accuracy: 0.8332\n",
            "Epoch 14/20\n",
            "935/936 [============================>.] - ETA: 0s - loss: 0.2474 - accuracy: 0.9075\n",
            "Epoch 00014: ReduceLROnPlateau reducing learning rate to 1.0000000474974514e-05.\n",
            "936/936 [==============================] - 31s 34ms/step - loss: 0.2474 - accuracy: 0.9075 - val_loss: 0.5493 - val_accuracy: 0.8348\n",
            "Epoch 15/20\n",
            "936/936 [==============================] - 32s 34ms/step - loss: 0.2432 - accuracy: 0.9088 - val_loss: 0.5502 - val_accuracy: 0.8341\n",
            "Epoch 16/20\n",
            "936/936 [==============================] - 31s 34ms/step - loss: 0.2421 - accuracy: 0.9100 - val_loss: 0.5505 - val_accuracy: 0.8339\n",
            "Epoch 17/20\n",
            "935/936 [============================>.] - ETA: 0s - loss: 0.2405 - accuracy: 0.9107\n",
            "Epoch 00017: ReduceLROnPlateau reducing learning rate to 1.0000000656873453e-06.\n",
            "936/936 [==============================] - 32s 34ms/step - loss: 0.2404 - accuracy: 0.9107 - val_loss: 0.5504 - val_accuracy: 0.8338\n",
            "Epoch 00017: early stopping\n"
          ],
          "name": "stdout"
        }
      ]
    },
    {
      "cell_type": "code",
      "metadata": {
        "id": "tRzYW_dCzEk0",
        "outputId": "27210117-2501-4b1e-d260-55a6f581dab9",
        "colab": {
          "base_uri": "https://localhost:8080/",
          "height": 867
        }
      },
      "source": [
        "def plot_graphs(history, string):\n",
        "  plt.figure(figsize=(12,7))\n",
        "  plt.plot(history.history[string])\n",
        "  plt.plot(history.history['val_'+string])\n",
        "  plt.xlabel(\"Epochs\")\n",
        "  plt.ylabel(string)\n",
        "  plt.legend([string, 'val_'+string])\n",
        "  plt.show()\n",
        "\n",
        "plot_graphs(history, 'accuracy')\n",
        "plot_graphs(history, 'loss')"
      ],
      "execution_count": 90,
      "outputs": [
        {
          "output_type": "display_data",
          "data": {
            "image/png": "[encoded data removed]",
            "text/plain": [
              "<Figure size 864x504 with 1 Axes>"
            ]
          },
          "metadata": {
            "tags": [],
            "needs_background": "light"
          }
        },
        {
          "output_type": "display_data",
          "data": {
            "image/png": "[encoded data removed]",
            "text/plain": [
              "<Figure size 864x504 with 1 Axes>"
            ]
          },
          "metadata": {
            "tags": [],
            "needs_background": "light"
          }
        }
      ]
    },
    {
      "cell_type": "markdown",
      "metadata": {
        "id": "PQfVmJRlh4Re"
      },
      "source": [
        "# Model2\n",
        "2nd model with cross-validation technique"
      ]
    },
    {
      "cell_type": "code",
      "metadata": {
        "id": "1ksZUAliOasT"
      },
      "source": [
        "from tensorflow.keras.wrappers.scikit_learn import KerasClassifier\n",
        "from tensorflow.keras.callbacks import EarlyStopping\n",
        "from sklearn.model_selection import cross_val_score, RepeatedStratifiedKFold"
      ],
      "execution_count": 91,
      "outputs": []
    },
    {
      "cell_type": "code",
      "metadata": {
        "id": "CVdSMqCxzErN"
      },
      "source": [
        "model2 = KerasClassifier(build_fn=nlp_model) # build model"
      ],
      "execution_count": 96,
      "outputs": []
    },
    {
      "cell_type": "code",
      "metadata": {
        "id": "Vgw-ApgAzDaQ"
      },
      "source": [
        "# creating a RepeatedStratifiedKFold object. Since we plan using 25% as our test-size, we will use 4 fold cv.\n",
        "# to have a level plain ground for comparing different models, we will be using random state of 1 through out.\n",
        "cv = RepeatedStratifiedKFold(n_splits=4, n_repeats=3, random_state=1)"
      ],
      "execution_count": 97,
      "outputs": []
    },
    {
      "cell_type": "code",
      "metadata": {
        "id": "NCIlW1TmzDf_",
        "outputId": "e172159f-d116-44f5-dfd6-b4b662379907",
        "colab": {
          "base_uri": "https://localhost:8080/"
        }
      },
      "source": [
        "# getting cross validation scores\n",
        "score = cross_val_score(model2, training_padded, labels, scoring='f1_weighted', cv=cv,\\\n",
        "                        n_jobs=1, verbose=2, fit_params={\\\n",
        "                        'epochs': 10, 'batch_size': 128, 'class_weight': class_weights, 'verbose': 0, \\\n",
        "                                                         })"
      ],
      "execution_count": 98,
      "outputs": [
        {
          "output_type": "stream",
          "text": [
            "[Parallel(n_jobs=1)]: Using backend SequentialBackend with 1 concurrent workers.\n"
          ],
          "name": "stderr"
        },
        {
          "output_type": "stream",
          "text": [
            "[CV]  ................................................................\n",
            "WARNING:tensorflow:From /usr/local/lib/python3.6/dist-packages/tensorflow/python/keras/wrappers/scikit_learn.py:241: Sequential.predict_classes (from tensorflow.python.keras.engine.sequential) is deprecated and will be removed after 2021-01-01.\n",
            "Instructions for updating:\n",
            "Please use instead:* `np.argmax(model.predict(x), axis=-1)`,   if your model does multi-class classification   (e.g. if it uses a `softmax` last-layer activation).* `(model.predict(x) > 0.5).astype(\"int32\")`,   if your model does binary classification   (e.g. if it uses a `sigmoid` last-layer activation).\n"
          ],
          "name": "stdout"
        },
        {
          "output_type": "stream",
          "text": [
            "WARNING:tensorflow:From /usr/local/lib/python3.6/dist-packages/tensorflow/python/keras/wrappers/scikit_learn.py:241: Sequential.predict_classes (from tensorflow.python.keras.engine.sequential) is deprecated and will be removed after 2021-01-01.\n",
            "Instructions for updating:\n",
            "Please use instead:* `np.argmax(model.predict(x), axis=-1)`,   if your model does multi-class classification   (e.g. if it uses a `softmax` last-layer activation).* `(model.predict(x) > 0.5).astype(\"int32\")`,   if your model does binary classification   (e.g. if it uses a `sigmoid` last-layer activation).\n"
          ],
          "name": "stderr"
        },
        {
          "output_type": "stream",
          "text": [
            "[CV] ................................................. , total= 4.5min\n",
            "[CV]  ................................................................\n"
          ],
          "name": "stdout"
        },
        {
          "output_type": "stream",
          "text": [
            "[Parallel(n_jobs=1)]: Done   1 out of   1 | elapsed:  4.5min remaining:    0.0s\n"
          ],
          "name": "stderr"
        },
        {
          "output_type": "stream",
          "text": [
            "[CV] ................................................. , total= 4.4min\n",
            "[CV]  ................................................................\n",
            "[CV] ................................................. , total= 4.5min\n",
            "[CV]  ................................................................\n",
            "[CV] ................................................. , total= 4.4min\n",
            "[CV]  ................................................................\n",
            "[CV] ................................................. , total= 4.5min\n",
            "[CV]  ................................................................\n",
            "[CV] ................................................. , total= 4.5min\n",
            "[CV]  ................................................................\n",
            "[CV] ................................................. , total= 4.4min\n",
            "[CV]  ................................................................\n",
            "[CV] ................................................. , total= 4.5min\n",
            "[CV]  ................................................................\n",
            "[CV] ................................................. , total= 4.5min\n",
            "[CV]  ................................................................\n",
            "[CV] ................................................. , total= 4.5min\n",
            "[CV]  ................................................................\n",
            "[CV] ................................................. , total= 4.5min\n",
            "[CV]  ................................................................\n",
            "[CV] ................................................. , total= 4.5min\n"
          ],
          "name": "stdout"
        },
        {
          "output_type": "stream",
          "text": [
            "[Parallel(n_jobs=1)]: Done  12 out of  12 | elapsed: 53.6min finished\n"
          ],
          "name": "stderr"
        }
      ]
    },
    {
      "cell_type": "code",
      "metadata": {
        "id": "9dpSzeVMzDlJ",
        "outputId": "1736efbf-df24-47b4-8cad-18ef301b5c49",
        "colab": {
          "base_uri": "https://localhost:8080/"
        }
      },
      "source": [
        "print(score)\n",
        "np.mean(score) # reporting the mean score"
      ],
      "execution_count": 99,
      "outputs": [
        {
          "output_type": "stream",
          "text": [
            "[0.87644044 0.87091439 0.87923446 0.87485653 0.87699149 0.87734474\n",
            " 0.87481342 0.87878005 0.87685118 0.87669212 0.87516367 0.87508973]\n"
          ],
          "name": "stdout"
        },
        {
          "output_type": "execute_result",
          "data": {
            "text/plain": [
              "0.8760976845793903"
            ]
          },
          "metadata": {
            "tags": []
          },
          "execution_count": 99
        }
      ]
    },
    {
      "cell_type": "markdown",
      "metadata": {
        "id": "P7crbzji4i1r"
      },
      "source": [
        "## Model 2 Keras classifier fitting"
      ]
    },
    {
      "cell_type": "code",
      "metadata": {
        "id": "ViXpwsOm4rgG"
      },
      "source": [
        "# train-test split\n",
        "X_train, X_test, y_train, y_test = train_test_split(training_padded, labels, \\\n",
        "                                                    test_size=0.25, random_state=1)"
      ],
      "execution_count": 128,
      "outputs": []
    },
    {
      "cell_type": "code",
      "metadata": {
        "id": "4SpQ6Pvo4rsn",
        "outputId": "201745fb-5b24-404d-ba99-6e371c238dd2",
        "colab": {
          "base_uri": "https://localhost:8080/"
        }
      },
      "source": [
        "model2.fit(X_train, y_train,\n",
        "                    epochs=10, # using the best epoch from model1\n",
        "                    verbose=True,\n",
        "                    batch_size=128,\n",
        "                    class_weight=class_weights)"
      ],
      "execution_count": 129,
      "outputs": [
        {
          "output_type": "stream",
          "text": [
            "Epoch 1/10\n",
            "936/936 [==============================] - 28s 30ms/step - loss: 0.7542 - accuracy: 0.7518\n",
            "Epoch 2/10\n",
            "936/936 [==============================] - 28s 30ms/step - loss: 0.5469 - accuracy: 0.8138\n",
            "Epoch 3/10\n",
            "936/936 [==============================] - 28s 30ms/step - loss: 0.4886 - accuracy: 0.8322\n",
            "Epoch 4/10\n",
            "936/936 [==============================] - 28s 30ms/step - loss: 0.4519 - accuracy: 0.8430\n",
            "Epoch 5/10\n",
            "936/936 [==============================] - 28s 29ms/step - loss: 0.4259 - accuracy: 0.8501\n",
            "Epoch 6/10\n",
            "936/936 [==============================] - 28s 30ms/step - loss: 0.4031 - accuracy: 0.8565\n",
            "Epoch 7/10\n",
            "936/936 [==============================] - 28s 30ms/step - loss: 0.3888 - accuracy: 0.8619\n",
            "Epoch 8/10\n",
            "936/936 [==============================] - 28s 30ms/step - loss: 0.3690 - accuracy: 0.8666\n",
            "Epoch 9/10\n",
            "936/936 [==============================] - 28s 30ms/step - loss: 0.3597 - accuracy: 0.8691\n",
            "Epoch 10/10\n",
            "936/936 [==============================] - 28s 30ms/step - loss: 0.3467 - accuracy: 0.8741\n"
          ],
          "name": "stdout"
        },
        {
          "output_type": "execute_result",
          "data": {
            "text/plain": [
              "<tensorflow.python.keras.callbacks.History at 0x7f4f2fb78470>"
            ]
          },
          "metadata": {
            "tags": []
          },
          "execution_count": 129
        }
      ]
    },
    {
      "cell_type": "markdown",
      "metadata": {
        "id": "oczDoTMe6xFI"
      },
      "source": [
        "## Model2 Evaluation"
      ]
    },
    {
      "cell_type": "code",
      "metadata": {
        "id": "ueHzKWXl4rwT"
      },
      "source": [
        "y_predtrain = model2.predict(X_train)\n",
        "y_predtest = model2.predict(X_test)"
      ],
      "execution_count": 131,
      "outputs": []
    },
    {
      "cell_type": "code",
      "metadata": {
        "id": "NfjWtYg_7Fkw",
        "outputId": "ecb2411b-deb4-4e09-b127-4f9e1edaf269",
        "colab": {
          "base_uri": "https://localhost:8080/"
        }
      },
      "source": [
        "y_predtest"
      ],
      "execution_count": 132,
      "outputs": [
        {
          "output_type": "execute_result",
          "data": {
            "text/plain": [
              "array([ 4,  5, 18, ..., 19,  8, 16])"
            ]
          },
          "metadata": {
            "tags": []
          },
          "execution_count": 132
        }
      ]
    },
    {
      "cell_type": "code",
      "metadata": {
        "id": "g3AKDHTV7GFx",
        "outputId": "e637834d-1d80-461a-fb8a-78b2526824cc",
        "colab": {
          "base_uri": "https://localhost:8080/"
        }
      },
      "source": [
        "print('Training F1 score: {:.4f}'.format(\\\n",
        "    f1_score(y_train, y_predtrain, average='weighted')))\n",
        "\n",
        "print('Testing F1 score: {:.4f}'.format(\\\n",
        "    f1_score(y_test, y_predtest, average='weighted')))\n",
        "\n",
        "print('\\n')\n",
        "\n",
        "print('Training precision_score: {:.4f}'.format(\\\n",
        "    precision_score(y_train, y_predtrain, average='weighted')))\n",
        "      \n",
        "print('Testing precision_score: {:.4f}'.format(\\\n",
        "    precision_score(y_test, y_predtest, average='weighted')))"
      ],
      "execution_count": 133,
      "outputs": [
        {
          "output_type": "stream",
          "text": [
            "Training F1 score: 0.9173\n",
            "Testing F1 score: 0.8789\n",
            "\n",
            "\n",
            "Training precision_score: 0.9208\n",
            "Testing precision_score: 0.8831\n"
          ],
          "name": "stdout"
        }
      ]
    },
    {
      "cell_type": "markdown",
      "metadata": {
        "id": "GmKaGpq1FhWY"
      },
      "source": [
        "# Final Model Training and evaluation"
      ]
    },
    {
      "cell_type": "code",
      "metadata": {
        "id": "nDosGZevzDoc"
      },
      "source": [
        "# train-test split\n",
        "X_train, X_test, y_train, y_test = train_test_split(training_padded, labels, \\\n",
        "                                                    test_size=0.25, random_state=1)"
      ],
      "execution_count": 100,
      "outputs": []
    },
    {
      "cell_type": "markdown",
      "metadata": {
        "id": "wg6TXV2pgmjk"
      },
      "source": [
        "Third model"
      ]
    },
    {
      "cell_type": "code",
      "metadata": {
        "id": "2dVw8zz6zDjj"
      },
      "source": [
        "model3 = nlp_model() # builds model"
      ],
      "execution_count": 101,
      "outputs": []
    },
    {
      "cell_type": "code",
      "metadata": {
        "id": "SZNOK-z4usRq",
        "outputId": "7b3bf79f-caf4-496e-e39c-d8aa3c136d59",
        "colab": {
          "base_uri": "https://localhost:8080/"
        }
      },
      "source": [
        "model3.fit(X_train, y_train,\n",
        "                    epochs=10, # using the best epoch from model1\n",
        "                    verbose=True,\n",
        "                    batch_size=128,\n",
        "                    class_weight=class_weights)"
      ],
      "execution_count": 102,
      "outputs": [
        {
          "output_type": "stream",
          "text": [
            "Epoch 1/10\n",
            "936/936 [==============================] - 28s 30ms/step - loss: 0.7590 - accuracy: 0.7505\n",
            "Epoch 2/10\n",
            "936/936 [==============================] - 28s 30ms/step - loss: 0.5451 - accuracy: 0.8152\n",
            "Epoch 3/10\n",
            "936/936 [==============================] - 28s 30ms/step - loss: 0.4904 - accuracy: 0.8307\n",
            "Epoch 4/10\n",
            "936/936 [==============================] - 28s 30ms/step - loss: 0.4541 - accuracy: 0.8411\n",
            "Epoch 5/10\n",
            "936/936 [==============================] - 28s 30ms/step - loss: 0.4259 - accuracy: 0.8503\n",
            "Epoch 6/10\n",
            "936/936 [==============================] - 28s 30ms/step - loss: 0.4034 - accuracy: 0.8556\n",
            "Epoch 7/10\n",
            "936/936 [==============================] - 28s 30ms/step - loss: 0.3864 - accuracy: 0.8626\n",
            "Epoch 8/10\n",
            "936/936 [==============================] - 28s 30ms/step - loss: 0.3716 - accuracy: 0.8659\n",
            "Epoch 9/10\n",
            "936/936 [==============================] - 28s 30ms/step - loss: 0.3573 - accuracy: 0.8710\n",
            "Epoch 10/10\n",
            "936/936 [==============================] - 28s 30ms/step - loss: 0.3445 - accuracy: 0.8754\n"
          ],
          "name": "stdout"
        },
        {
          "output_type": "execute_result",
          "data": {
            "text/plain": [
              "<tensorflow.python.keras.callbacks.History at 0x7f4f18d54fd0>"
            ]
          },
          "metadata": {
            "tags": []
          },
          "execution_count": 102
        }
      ]
    },
    {
      "cell_type": "markdown",
      "metadata": {
        "id": "JpRBPW2yhCY6"
      },
      "source": [
        "## Model3 Evaluation "
      ]
    },
    {
      "cell_type": "code",
      "metadata": {
        "id": "Vd3L9tExGl2w",
        "outputId": "a12c697e-a167-4728-d1fb-c20057aefb9f",
        "colab": {
          "base_uri": "https://localhost:8080/"
        }
      },
      "source": [
        "loss, accuracy = model3.evaluate(X_train, y_train, batch_size=128, verbose=False)\n",
        "print('Training Accuracy: {:.4f}\\nTraining loss: {:.4f}'.format(accuracy, loss))\n",
        "print()\n",
        "loss, accuracy = model3.evaluate(X_test, y_test, batch_size=128, verbose=False)\n",
        "print('Testing Accuracy: {:.4f}\\nTesting loss: {:.4f}'.format(accuracy, loss))"
      ],
      "execution_count": 103,
      "outputs": [
        {
          "output_type": "stream",
          "text": [
            "Training Accuracy: 0.9137\n",
            "Training loss: 0.2474\n",
            "\n",
            "Testing Accuracy: 0.8746\n",
            "Testing loss: 0.3812\n"
          ],
          "name": "stdout"
        }
      ]
    },
    {
      "cell_type": "code",
      "metadata": {
        "id": "-5cmCbJXH0ME"
      },
      "source": [
        "y_pred_train = model3.predict(X_train)\n",
        "y_pred_test = model3.predict(X_test)"
      ],
      "execution_count": 104,
      "outputs": []
    },
    {
      "cell_type": "markdown",
      "metadata": {
        "id": "t1ZHZUNIhoXA"
      },
      "source": [
        "F1 score & Precision score estimation for model3"
      ]
    },
    {
      "cell_type": "code",
      "metadata": {
        "id": "jAvGVeqpeMy6"
      },
      "source": [
        "from sklearn.metrics import f1_score, accuracy_score, precision_score, roc_auc_score"
      ],
      "execution_count": 105,
      "outputs": []
    },
    {
      "cell_type": "code",
      "metadata": {
        "id": "gJTKqmMkJPOk"
      },
      "source": [
        "y_pred_train = [np.argmax(i) for i in y_pred_train]\n",
        "y_pred_test = [np.argmax(i) for i in y_pred_test]"
      ],
      "execution_count": 106,
      "outputs": []
    },
    {
      "cell_type": "code",
      "metadata": {
        "id": "0tjQPCgmIem-",
        "outputId": "56229656-a779-4aa1-c428-4e7101526ed9",
        "colab": {
          "base_uri": "https://localhost:8080/"
        }
      },
      "source": [
        "print('Training F1 score: {:.4f}'.format(\\\n",
        "    f1_score(y_train, y_pred_train, average='weighted')))\n",
        "      \n",
        "print('Testing F1 score: {:.4f}'.format(\\\n",
        "    f1_score(y_test, y_pred_test, average='weighted')))\n",
        "\n",
        "print('\\n')\n",
        "\n",
        "print('Training precision_score: {:.4f}'.format(\\\n",
        "    precision_score(y_train, y_pred_train, average='weighted')))\n",
        "      \n",
        "print('Testing precision_score: {:.4f}'.format(\\\n",
        "    precision_score(y_test, y_pred_test, average='weighted')))"
      ],
      "execution_count": 107,
      "outputs": [
        {
          "output_type": "stream",
          "text": [
            "Training F1 score: 0.9141\n",
            "Testing F1 score: 0.8758\n",
            "\n",
            "\n",
            "Training precision_score: 0.9178\n",
            "Testing precision_score: 0.8804\n"
          ],
          "name": "stdout"
        }
      ]
    },
    {
      "cell_type": "markdown",
      "metadata": {
        "id": "C33M93jG69cs"
      },
      "source": [
        "# Dr Loosen, Blue Slate Riesling Kabinett, Mosel, 2018"
      ]
    },
    {
      "cell_type": "code",
      "metadata": {
        "id": "Qz-jyoHxfYpf"
      },
      "source": [
        "user_input = [\"A classic Mosel ambassador with all the verve, lively acidity and forward fruit one would expect.\\\n",
        " Off-dry in style with loads of apricot, baked apple, snappy citrus and engaging spice.\\\n",
        "  A defined minerality weaves through the mid-palate and carries on in intensity through the long, clean finish.\"]"
      ],
      "execution_count": 108,
      "outputs": []
    },
    {
      "cell_type": "code",
      "metadata": {
        "id": "Y5PZHjdH0Wwg"
      },
      "source": [
        "def top_5_variety(model, model2nd, model3, input):\n",
        "  # tokenize with spacy\n",
        "  user_input = [' '.join(tokenizer_spacy(doc)) for doc in input]\n",
        "\n",
        "  # converting texts to numbers\n",
        "  test1 = tokenizer.texts_to_sequences(user_input)\n",
        "  test1_padded = pad_sequences(test1, maxlen=max_length, padding=padding_type, truncating=trunc_type)\n",
        "\n",
        "  test1pred = model.predict(test1_padded)[0]\n",
        "  top5 = test1pred.argsort()[-5:][::-1]\n",
        "\n",
        "  test2pred = model2nd.predict_proba(test1_padded)[0]\n",
        "  top2nd5 = test2pred.argsort()[-5:][::-1]\n",
        "\n",
        "  test3pred = model3.predict(test1_padded)[0]\n",
        "  top35 = test3pred.argsort()[-5:][::-1]\n",
        "\n",
        "  a = []\n",
        "  b = []\n",
        "  c = []\n",
        "  d = [] \n",
        "  e = []\n",
        "  f = []\n",
        "  for i,j,k in zip(top5,top2nd5, top35):\n",
        "    a.append(encode.inverse_transform([i])[0])\n",
        "    b.append(test1pred[i])\n",
        "    c.append(encode.inverse_transform([j])[0])\n",
        "    d.append(test2pred[j])\n",
        "    e.append(encode.inverse_transform([k])[0])\n",
        "    f.append(test3pred[k])\n",
        "\n",
        "  \n",
        "\n",
        "  df = pd.DataFrame({'variety lstm' : a, 'probability' : b, 'variety keras cl' : c, 'probability 2' : d, 'variety non fold' : e, 'probability 3' : f})\n",
        "  return df"
      ],
      "execution_count": 152,
      "outputs": []
    },
    {
      "cell_type": "code",
      "metadata": {
        "id": "uwP9Y6b32ta2",
        "outputId": "30d146eb-c265-4828-d5ed-6acade2cda98",
        "colab": {
          "base_uri": "https://localhost:8080/",
          "height": 206
        }
      },
      "source": [
        "top_5_variety(model, model2, model3, user_input)"
      ],
      "execution_count": 153,
      "outputs": [
        {
          "output_type": "execute_result",
          "data": {
            "text/html": [
              "<div>\n",
              "<style scoped>\n",
              "    .dataframe tbody tr th:only-of-type {\n",
              "        vertical-align: middle;\n",
              "    }\n",
              "\n",
              "    .dataframe tbody tr th {\n",
              "        vertical-align: top;\n",
              "    }\n",
              "\n",
              "    .dataframe thead th {\n",
              "        text-align: right;\n",
              "    }\n",
              "</style>\n",
              "<table border=\"1\" class=\"dataframe\">\n",
              "  <thead>\n",
              "    <tr style=\"text-align: right;\">\n",
              "      <th></th>\n",
              "      <th>variety lstm</th>\n",
              "      <th>probability</th>\n",
              "      <th>variety keras cl</th>\n",
              "      <th>probability 2</th>\n",
              "      <th>variety non fold</th>\n",
              "      <th>probability 3</th>\n",
              "    </tr>\n",
              "  </thead>\n",
              "  <tbody>\n",
              "    <tr>\n",
              "      <th>0</th>\n",
              "      <td>Riesling</td>\n",
              "      <td>9.998554e-01</td>\n",
              "      <td>Riesling</td>\n",
              "      <td>9.995269e-01</td>\n",
              "      <td>Riesling</td>\n",
              "      <td>9.998560e-01</td>\n",
              "    </tr>\n",
              "    <tr>\n",
              "      <th>1</th>\n",
              "      <td>Chardonnay</td>\n",
              "      <td>1.431538e-04</td>\n",
              "      <td>Chardonnay</td>\n",
              "      <td>4.697534e-04</td>\n",
              "      <td>Chardonnay</td>\n",
              "      <td>1.428054e-04</td>\n",
              "    </tr>\n",
              "    <tr>\n",
              "      <th>2</th>\n",
              "      <td>White Blend</td>\n",
              "      <td>7.849773e-07</td>\n",
              "      <td>Pinot Noir</td>\n",
              "      <td>1.337489e-06</td>\n",
              "      <td>Pinot Noir</td>\n",
              "      <td>4.023419e-07</td>\n",
              "    </tr>\n",
              "    <tr>\n",
              "      <th>3</th>\n",
              "      <td>Pinot Noir</td>\n",
              "      <td>2.919454e-07</td>\n",
              "      <td>Pinot Gris</td>\n",
              "      <td>7.552518e-07</td>\n",
              "      <td>Sauvignon Blanc</td>\n",
              "      <td>2.014786e-07</td>\n",
              "    </tr>\n",
              "    <tr>\n",
              "      <th>4</th>\n",
              "      <td>Red Blend</td>\n",
              "      <td>9.550921e-08</td>\n",
              "      <td>Red Blend</td>\n",
              "      <td>4.806070e-07</td>\n",
              "      <td>Cabernet Sauvignon</td>\n",
              "      <td>1.805333e-07</td>\n",
              "    </tr>\n",
              "  </tbody>\n",
              "</table>\n",
              "</div>"
            ],
            "text/plain": [
              "  variety lstm   probability  ...    variety non fold  probability 3\n",
              "0     Riesling  9.998554e-01  ...            Riesling   9.998560e-01\n",
              "1   Chardonnay  1.431538e-04  ...          Chardonnay   1.428054e-04\n",
              "2  White Blend  7.849773e-07  ...          Pinot Noir   4.023419e-07\n",
              "3   Pinot Noir  2.919454e-07  ...     Sauvignon Blanc   2.014786e-07\n",
              "4    Red Blend  9.550921e-08  ...  Cabernet Sauvignon   1.805333e-07\n",
              "\n",
              "[5 rows x 6 columns]"
            ]
          },
          "metadata": {
            "tags": []
          },
          "execution_count": 153
        }
      ]
    },
    {
      "cell_type": "code",
      "metadata": {
        "id": "5jj3LCz-h2QD"
      },
      "source": [
        "user_input2 = ['A bright, clean character shines forth thanks to neutral barrels and \\\n",
        "stainless steel fermentation. A heady mix of green apple, citrus and stone fruit gives way \\\n",
        "to subtle earth-driven nuances and a crisp, lean body with innate minerality. The finish carries\\\n",
        " silky textures and a touch of herbal spice.']"
      ],
      "execution_count": 154,
      "outputs": []
    },
    {
      "cell_type": "markdown",
      "metadata": {
        "id": "kGg-82T575Ki"
      },
      "source": [
        "# Schug, Chardonnay, Sonoma Coast, California, USA, 2018"
      ]
    },
    {
      "cell_type": "code",
      "metadata": {
        "id": "I-cHYHEr7Ufg",
        "outputId": "ccaeb646-3b61-4c79-ccee-e2a2c34d1aa0",
        "colab": {
          "base_uri": "https://localhost:8080/",
          "height": 206
        }
      },
      "source": [
        "top_5_variety(model, model2, model3, user_input2)"
      ],
      "execution_count": 158,
      "outputs": [
        {
          "output_type": "execute_result",
          "data": {
            "text/html": [
              "<div>\n",
              "<style scoped>\n",
              "    .dataframe tbody tr th:only-of-type {\n",
              "        vertical-align: middle;\n",
              "    }\n",
              "\n",
              "    .dataframe tbody tr th {\n",
              "        vertical-align: top;\n",
              "    }\n",
              "\n",
              "    .dataframe thead th {\n",
              "        text-align: right;\n",
              "    }\n",
              "</style>\n",
              "<table border=\"1\" class=\"dataframe\">\n",
              "  <thead>\n",
              "    <tr style=\"text-align: right;\">\n",
              "      <th></th>\n",
              "      <th>variety lstm</th>\n",
              "      <th>probability</th>\n",
              "      <th>variety keras cl</th>\n",
              "      <th>probability 2</th>\n",
              "      <th>variety non fold</th>\n",
              "      <th>probability 3</th>\n",
              "    </tr>\n",
              "  </thead>\n",
              "  <tbody>\n",
              "    <tr>\n",
              "      <th>0</th>\n",
              "      <td>Chardonnay</td>\n",
              "      <td>0.975723</td>\n",
              "      <td>Chardonnay</td>\n",
              "      <td>0.969012</td>\n",
              "      <td>Chardonnay</td>\n",
              "      <td>0.999020</td>\n",
              "    </tr>\n",
              "    <tr>\n",
              "      <th>1</th>\n",
              "      <td>Riesling</td>\n",
              "      <td>0.014161</td>\n",
              "      <td>Riesling</td>\n",
              "      <td>0.026193</td>\n",
              "      <td>Riesling</td>\n",
              "      <td>0.000860</td>\n",
              "    </tr>\n",
              "    <tr>\n",
              "      <th>2</th>\n",
              "      <td>Pinot Noir</td>\n",
              "      <td>0.010024</td>\n",
              "      <td>Pinot Noir</td>\n",
              "      <td>0.004559</td>\n",
              "      <td>Pinot Noir</td>\n",
              "      <td>0.000064</td>\n",
              "    </tr>\n",
              "    <tr>\n",
              "      <th>3</th>\n",
              "      <td>Red Blend</td>\n",
              "      <td>0.000049</td>\n",
              "      <td>Red Blend</td>\n",
              "      <td>0.000092</td>\n",
              "      <td>Sauvignon Blanc</td>\n",
              "      <td>0.000045</td>\n",
              "    </tr>\n",
              "    <tr>\n",
              "      <th>4</th>\n",
              "      <td>Cabernet Sauvignon</td>\n",
              "      <td>0.000016</td>\n",
              "      <td>Bordeaux-style Red Blend</td>\n",
              "      <td>0.000073</td>\n",
              "      <td>Bordeaux-style Red Blend</td>\n",
              "      <td>0.000004</td>\n",
              "    </tr>\n",
              "  </tbody>\n",
              "</table>\n",
              "</div>"
            ],
            "text/plain": [
              "         variety lstm  probability  ...          variety non fold  probability 3\n",
              "0          Chardonnay     0.975723  ...                Chardonnay       0.999020\n",
              "1            Riesling     0.014161  ...                  Riesling       0.000860\n",
              "2          Pinot Noir     0.010024  ...                Pinot Noir       0.000064\n",
              "3           Red Blend     0.000049  ...           Sauvignon Blanc       0.000045\n",
              "4  Cabernet Sauvignon     0.000016  ...  Bordeaux-style Red Blend       0.000004\n",
              "\n",
              "[5 rows x 6 columns]"
            ]
          },
          "metadata": {
            "tags": []
          },
          "execution_count": 158
        }
      ]
    },
    {
      "cell_type": "markdown",
      "metadata": {
        "id": "8wzJheS18N8N"
      },
      "source": [
        "# La Val 2016 Más Que 2 White (Rías Baixas)"
      ]
    },
    {
      "cell_type": "code",
      "metadata": {
        "id": "_QOukZXt7XQZ"
      },
      "source": [
        "user_input3 = [\" Pinched austere aromas of cat pee and oily sweat are extreme and unusual for\\\n",
        " a Rías Baixas wine. A citric and raw palate tastes like this smells. Fresh acidity is about all \\\n",
        " this underripe, sour and bitter blend of Albariño, Treixadura and Loureira has going for it.\"]"
      ],
      "execution_count": 159,
      "outputs": []
    },
    {
      "cell_type": "code",
      "metadata": {
        "id": "rdNLqP-h7sCT",
        "outputId": "fce42ddd-d261-4945-c3ed-2a28e89c464b",
        "colab": {
          "base_uri": "https://localhost:8080/",
          "height": 206
        }
      },
      "source": [
        "top_5_variety(model, model2, model3, user_input3)"
      ],
      "execution_count": 160,
      "outputs": [
        {
          "output_type": "execute_result",
          "data": {
            "text/html": [
              "<div>\n",
              "<style scoped>\n",
              "    .dataframe tbody tr th:only-of-type {\n",
              "        vertical-align: middle;\n",
              "    }\n",
              "\n",
              "    .dataframe tbody tr th {\n",
              "        vertical-align: top;\n",
              "    }\n",
              "\n",
              "    .dataframe thead th {\n",
              "        text-align: right;\n",
              "    }\n",
              "</style>\n",
              "<table border=\"1\" class=\"dataframe\">\n",
              "  <thead>\n",
              "    <tr style=\"text-align: right;\">\n",
              "      <th></th>\n",
              "      <th>variety lstm</th>\n",
              "      <th>probability</th>\n",
              "      <th>variety keras cl</th>\n",
              "      <th>probability 2</th>\n",
              "      <th>variety non fold</th>\n",
              "      <th>probability 3</th>\n",
              "    </tr>\n",
              "  </thead>\n",
              "  <tbody>\n",
              "    <tr>\n",
              "      <th>0</th>\n",
              "      <td>White Blend</td>\n",
              "      <td>0.933865</td>\n",
              "      <td>Red Blend</td>\n",
              "      <td>0.945570</td>\n",
              "      <td>White Blend</td>\n",
              "      <td>0.901838</td>\n",
              "    </tr>\n",
              "    <tr>\n",
              "      <th>1</th>\n",
              "      <td>Red Blend</td>\n",
              "      <td>0.042091</td>\n",
              "      <td>White Blend</td>\n",
              "      <td>0.044376</td>\n",
              "      <td>Chardonnay</td>\n",
              "      <td>0.092629</td>\n",
              "    </tr>\n",
              "    <tr>\n",
              "      <th>2</th>\n",
              "      <td>Chardonnay</td>\n",
              "      <td>0.023185</td>\n",
              "      <td>Bordeaux-style Red Blend</td>\n",
              "      <td>0.005523</td>\n",
              "      <td>Sauvignon Blanc</td>\n",
              "      <td>0.002929</td>\n",
              "    </tr>\n",
              "    <tr>\n",
              "      <th>3</th>\n",
              "      <td>Bordeaux-style Red Blend</td>\n",
              "      <td>0.000331</td>\n",
              "      <td>Cabernet Sauvignon</td>\n",
              "      <td>0.001986</td>\n",
              "      <td>Riesling</td>\n",
              "      <td>0.001323</td>\n",
              "    </tr>\n",
              "    <tr>\n",
              "      <th>4</th>\n",
              "      <td>Rosé</td>\n",
              "      <td>0.000293</td>\n",
              "      <td>Pinot Noir</td>\n",
              "      <td>0.001740</td>\n",
              "      <td>Red Blend</td>\n",
              "      <td>0.000557</td>\n",
              "    </tr>\n",
              "  </tbody>\n",
              "</table>\n",
              "</div>"
            ],
            "text/plain": [
              "               variety lstm  probability  ... variety non fold  probability 3\n",
              "0               White Blend     0.933865  ...      White Blend       0.901838\n",
              "1                 Red Blend     0.042091  ...       Chardonnay       0.092629\n",
              "2                Chardonnay     0.023185  ...  Sauvignon Blanc       0.002929\n",
              "3  Bordeaux-style Red Blend     0.000331  ...         Riesling       0.001323\n",
              "4                      Rosé     0.000293  ...        Red Blend       0.000557\n",
              "\n",
              "[5 rows x 6 columns]"
            ]
          },
          "metadata": {
            "tags": []
          },
          "execution_count": 160
        }
      ]
    },
    {
      "cell_type": "code",
      "metadata": {
        "id": "KBcn2XL87uK-"
      },
      "source": [
        "user_input4 = ['From nose to finish, this is such a complex, compelling wine.\\\n",
        " Notes of raspberry, rose and freshly tilled earth on the nose augmenting richly \\\n",
        " concentrated flavors of black cherry and berry. It is delicate in tannin but has a\\\n",
        "  thrilling acidic lift on the finish. This is lovely already but should gain earthen \\\n",
        "  complexity through 2040 and hold longer still. ']"
      ],
      "execution_count": 161,
      "outputs": []
    },
    {
      "cell_type": "code",
      "metadata": {
        "id": "MraFYX3o4Wkb",
        "outputId": "7b7bca22-77df-47c2-e273-65c23953df7f",
        "colab": {
          "base_uri": "https://localhost:8080/",
          "height": 206
        }
      },
      "source": [
        "top_5_variety(model, model2, model3, user_input4)"
      ],
      "execution_count": 162,
      "outputs": [
        {
          "output_type": "execute_result",
          "data": {
            "text/html": [
              "<div>\n",
              "<style scoped>\n",
              "    .dataframe tbody tr th:only-of-type {\n",
              "        vertical-align: middle;\n",
              "    }\n",
              "\n",
              "    .dataframe tbody tr th {\n",
              "        vertical-align: top;\n",
              "    }\n",
              "\n",
              "    .dataframe thead th {\n",
              "        text-align: right;\n",
              "    }\n",
              "</style>\n",
              "<table border=\"1\" class=\"dataframe\">\n",
              "  <thead>\n",
              "    <tr style=\"text-align: right;\">\n",
              "      <th></th>\n",
              "      <th>variety lstm</th>\n",
              "      <th>probability</th>\n",
              "      <th>variety keras cl</th>\n",
              "      <th>probability 2</th>\n",
              "      <th>variety non fold</th>\n",
              "      <th>probability 3</th>\n",
              "    </tr>\n",
              "  </thead>\n",
              "  <tbody>\n",
              "    <tr>\n",
              "      <th>0</th>\n",
              "      <td>Pinot Noir</td>\n",
              "      <td>0.885938</td>\n",
              "      <td>Pinot Noir</td>\n",
              "      <td>0.707608</td>\n",
              "      <td>Red Blend</td>\n",
              "      <td>0.698627</td>\n",
              "    </tr>\n",
              "    <tr>\n",
              "      <th>1</th>\n",
              "      <td>Red Blend</td>\n",
              "      <td>0.059785</td>\n",
              "      <td>Cabernet Sauvignon</td>\n",
              "      <td>0.171028</td>\n",
              "      <td>Pinot Noir</td>\n",
              "      <td>0.150409</td>\n",
              "    </tr>\n",
              "    <tr>\n",
              "      <th>2</th>\n",
              "      <td>Bordeaux-style Red Blend</td>\n",
              "      <td>0.029390</td>\n",
              "      <td>Red Blend</td>\n",
              "      <td>0.099330</td>\n",
              "      <td>Bordeaux-style Red Blend</td>\n",
              "      <td>0.100604</td>\n",
              "    </tr>\n",
              "    <tr>\n",
              "      <th>3</th>\n",
              "      <td>Cabernet Sauvignon</td>\n",
              "      <td>0.024776</td>\n",
              "      <td>Bordeaux-style Red Blend</td>\n",
              "      <td>0.020856</td>\n",
              "      <td>Cabernet Sauvignon</td>\n",
              "      <td>0.050063</td>\n",
              "    </tr>\n",
              "    <tr>\n",
              "      <th>4</th>\n",
              "      <td>Nebbiolo</td>\n",
              "      <td>0.000029</td>\n",
              "      <td>Riesling</td>\n",
              "      <td>0.000812</td>\n",
              "      <td>Merlot</td>\n",
              "      <td>0.000068</td>\n",
              "    </tr>\n",
              "  </tbody>\n",
              "</table>\n",
              "</div>"
            ],
            "text/plain": [
              "               variety lstm  ...  probability 3\n",
              "0                Pinot Noir  ...       0.698627\n",
              "1                 Red Blend  ...       0.150409\n",
              "2  Bordeaux-style Red Blend  ...       0.100604\n",
              "3        Cabernet Sauvignon  ...       0.050063\n",
              "4                  Nebbiolo  ...       0.000068\n",
              "\n",
              "[5 rows x 6 columns]"
            ]
          },
          "metadata": {
            "tags": []
          },
          "execution_count": 162
        }
      ]
    }
  ]
}