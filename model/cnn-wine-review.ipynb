{
 "cells": [
  {
   "cell_type": "markdown",
   "metadata": {
    "papermill": {
     "duration": 0.079075,
     "end_time": "2020-11-13T11:57:30.369416",
     "exception": false,
     "start_time": "2020-11-13T11:57:30.290341",
     "status": "completed"
    },
    "tags": []
   },
   "source": [
    "# Modelling with CNN"
   ]
  },
  {
   "cell_type": "code",
   "execution_count": 1,
   "metadata": {
    "execution": {
     "iopub.execute_input": "2020-11-13T11:57:30.530911Z",
     "iopub.status.busy": "2020-11-13T11:57:30.530166Z",
     "iopub.status.idle": "2020-11-13T11:57:35.910576Z",
     "shell.execute_reply": "2020-11-13T11:57:35.911742Z"
    },
    "papermill": {
     "duration": 5.465256,
     "end_time": "2020-11-13T11:57:35.911939",
     "exception": false,
     "start_time": "2020-11-13T11:57:30.446683",
     "status": "completed"
    },
    "tags": []
   },
   "outputs": [],
   "source": [
    "import numpy as np\n",
    "import tensorflow as tf\n",
    "import random as python_random"
   ]
  },
  {
   "cell_type": "code",
   "execution_count": 2,
   "metadata": {
    "execution": {
     "iopub.execute_input": "2020-11-13T11:57:36.183619Z",
     "iopub.status.busy": "2020-11-13T11:57:36.182694Z",
     "iopub.status.idle": "2020-11-13T11:57:36.184504Z",
     "shell.execute_reply": "2020-11-13T11:57:36.185140Z"
    },
    "papermill": {
     "duration": 0.095666,
     "end_time": "2020-11-13T11:57:36.185264",
     "exception": false,
     "start_time": "2020-11-13T11:57:36.089598",
     "status": "completed"
    },
    "tags": []
   },
   "outputs": [],
   "source": [
    "np.random.seed(1)\n",
    "python_random.seed(12)\n",
    "tf.random.set_seed(123)"
   ]
  },
  {
   "cell_type": "code",
   "execution_count": 3,
   "metadata": {
    "execution": {
     "iopub.execute_input": "2020-11-13T11:57:36.366823Z",
     "iopub.status.busy": "2020-11-13T11:57:36.365888Z",
     "iopub.status.idle": "2020-11-13T11:57:37.069309Z",
     "shell.execute_reply": "2020-11-13T11:57:37.068091Z"
    },
    "papermill": {
     "duration": 0.804654,
     "end_time": "2020-11-13T11:57:37.069454",
     "exception": false,
     "start_time": "2020-11-13T11:57:36.264800",
     "status": "completed"
    },
    "tags": []
   },
   "outputs": [],
   "source": [
    "# importing useful libraries\n",
    "import pandas as pd\n",
    "import matplotlib.pyplot as plt\n",
    "import seaborn as sns\n",
    "\n",
    "import requests\n",
    "import re\n",
    "\n",
    "import warnings\n",
    "warnings.filterwarnings('ignore')\n",
    "\n",
    "%matplotlib inline"
   ]
  },
  {
   "cell_type": "markdown",
   "metadata": {
    "papermill": {
     "duration": 0.078451,
     "end_time": "2020-11-13T11:57:37.229117",
     "exception": false,
     "start_time": "2020-11-13T11:57:37.150666",
     "status": "completed"
    },
    "tags": []
   },
   "source": [
    "## Loading in our selected top varieties data "
   ]
  },
  {
   "cell_type": "code",
   "execution_count": 4,
   "metadata": {
    "execution": {
     "iopub.execute_input": "2020-11-13T11:57:37.405849Z",
     "iopub.status.busy": "2020-11-13T11:57:37.404908Z",
     "iopub.status.idle": "2020-11-13T11:57:38.433698Z",
     "shell.execute_reply": "2020-11-13T11:57:38.435045Z"
    },
    "papermill": {
     "duration": 1.128015,
     "end_time": "2020-11-13T11:57:38.435243",
     "exception": false,
     "start_time": "2020-11-13T11:57:37.307228",
     "status": "completed"
    },
    "tags": []
   },
   "outputs": [
    {
     "data": {
      "text/html": [
       "<div>\n",
       "<style scoped>\n",
       "    .dataframe tbody tr th:only-of-type {\n",
       "        vertical-align: middle;\n",
       "    }\n",
       "\n",
       "    .dataframe tbody tr th {\n",
       "        vertical-align: top;\n",
       "    }\n",
       "\n",
       "    .dataframe thead th {\n",
       "        text-align: right;\n",
       "    }\n",
       "</style>\n",
       "<table border=\"1\" class=\"dataframe\">\n",
       "  <thead>\n",
       "    <tr style=\"text-align: right;\">\n",
       "      <th></th>\n",
       "      <th>country</th>\n",
       "      <th>description</th>\n",
       "      <th>designation</th>\n",
       "      <th>points</th>\n",
       "      <th>price</th>\n",
       "      <th>province</th>\n",
       "      <th>region_1</th>\n",
       "      <th>region_2</th>\n",
       "      <th>taster_name</th>\n",
       "      <th>taster_twitter_handle</th>\n",
       "      <th>title</th>\n",
       "      <th>variety</th>\n",
       "      <th>winery</th>\n",
       "      <th>not_vintage</th>\n",
       "      <th>vintage</th>\n",
       "    </tr>\n",
       "  </thead>\n",
       "  <tbody>\n",
       "    <tr>\n",
       "      <th>0</th>\n",
       "      <td>Italy</td>\n",
       "      <td>Aromas include tropical fruit, broom, brimston...</td>\n",
       "      <td>Vulkà Bianco</td>\n",
       "      <td>87</td>\n",
       "      <td>NaN</td>\n",
       "      <td>Sicily &amp; Sardinia</td>\n",
       "      <td>Etna</td>\n",
       "      <td>NaN</td>\n",
       "      <td>Kerin O’Keefe</td>\n",
       "      <td>@kerinokeefe</td>\n",
       "      <td>Nicosia 2013 Vulkà Bianco  (Etna)</td>\n",
       "      <td>White Blend</td>\n",
       "      <td>Nicosia</td>\n",
       "      <td>Italy Vulkà Bianco Sicily &amp; Sardinia Etna Nicosia</td>\n",
       "      <td>2013.0</td>\n",
       "    </tr>\n",
       "    <tr>\n",
       "      <th>1</th>\n",
       "      <td>Portugal</td>\n",
       "      <td>This is ripe and fruity, a wine that is smooth...</td>\n",
       "      <td>Avidagos</td>\n",
       "      <td>87</td>\n",
       "      <td>15.0</td>\n",
       "      <td>Douro</td>\n",
       "      <td>NaN</td>\n",
       "      <td>NaN</td>\n",
       "      <td>Roger Voss</td>\n",
       "      <td>@vossroger</td>\n",
       "      <td>Quinta dos Avidagos 2011 Avidagos Red (Douro)</td>\n",
       "      <td>Portuguese Red</td>\n",
       "      <td>Quinta dos Avidagos</td>\n",
       "      <td>Portugal Avidagos Douro Quinta dos Avidagos</td>\n",
       "      <td>2011.0</td>\n",
       "    </tr>\n",
       "  </tbody>\n",
       "</table>\n",
       "</div>"
      ],
      "text/plain": [
       "    country                                        description   designation  \\\n",
       "0     Italy  Aromas include tropical fruit, broom, brimston...  Vulkà Bianco   \n",
       "1  Portugal  This is ripe and fruity, a wine that is smooth...      Avidagos   \n",
       "\n",
       "   points  price           province region_1 region_2    taster_name  \\\n",
       "0      87    NaN  Sicily & Sardinia     Etna      NaN  Kerin O’Keefe   \n",
       "1      87   15.0              Douro      NaN      NaN     Roger Voss   \n",
       "\n",
       "  taster_twitter_handle                                          title  \\\n",
       "0          @kerinokeefe              Nicosia 2013 Vulkà Bianco  (Etna)   \n",
       "1            @vossroger  Quinta dos Avidagos 2011 Avidagos Red (Douro)   \n",
       "\n",
       "          variety               winery  \\\n",
       "0     White Blend              Nicosia   \n",
       "1  Portuguese Red  Quinta dos Avidagos   \n",
       "\n",
       "                                         not_vintage  vintage  \n",
       "0  Italy Vulkà Bianco Sicily & Sardinia Etna Nicosia   2013.0  \n",
       "1        Portugal Avidagos Douro Quinta dos Avidagos   2011.0  "
      ]
     },
     "execution_count": 4,
     "metadata": {},
     "output_type": "execute_result"
    }
   ],
   "source": [
    "top_varieties_count = pd.read_csv('../input/wine-review-data-top-varieties/top_varieties_count.csv')\n",
    "top_40_varieties = pd.read_csv('../input/wine-review-data-top-varieties/top_40_varieties.csv')\n",
    "top_40_varieties.head(2)"
   ]
  },
  {
   "cell_type": "markdown",
   "metadata": {
    "papermill": {
     "duration": 0.130639,
     "end_time": "2020-11-13T11:57:38.697702",
     "exception": false,
     "start_time": "2020-11-13T11:57:38.567063",
     "status": "completed"
    },
    "tags": []
   },
   "source": [
    "### We know that in our dataset, *'United States of America'* is abrreviated as *'US'* and this will make our model to find it difficult to differentiate between the word *'us'* as a first person plural and as a country (after converting to lower case). We will solve this issue by replacing every occurence of *'US'* in ````country```` and ````not_vintage```` with *'United States of America'*."
   ]
  },
  {
   "cell_type": "code",
   "execution_count": 5,
   "metadata": {
    "execution": {
     "iopub.execute_input": "2020-11-13T11:57:38.984511Z",
     "iopub.status.busy": "2020-11-13T11:57:38.983547Z",
     "iopub.status.idle": "2020-11-13T11:57:39.035099Z",
     "shell.execute_reply": "2020-11-13T11:57:39.034185Z"
    },
    "papermill": {
     "duration": 0.207397,
     "end_time": "2020-11-13T11:57:39.035256",
     "exception": false,
     "start_time": "2020-11-13T11:57:38.827859",
     "status": "completed"
    },
    "tags": []
   },
   "outputs": [
    {
     "data": {
      "text/html": [
       "<div>\n",
       "<style scoped>\n",
       "    .dataframe tbody tr th:only-of-type {\n",
       "        vertical-align: middle;\n",
       "    }\n",
       "\n",
       "    .dataframe tbody tr th {\n",
       "        vertical-align: top;\n",
       "    }\n",
       "\n",
       "    .dataframe thead th {\n",
       "        text-align: right;\n",
       "    }\n",
       "</style>\n",
       "<table border=\"1\" class=\"dataframe\">\n",
       "  <thead>\n",
       "    <tr style=\"text-align: right;\">\n",
       "      <th></th>\n",
       "      <th>country</th>\n",
       "      <th>description</th>\n",
       "      <th>designation</th>\n",
       "      <th>points</th>\n",
       "      <th>price</th>\n",
       "      <th>province</th>\n",
       "      <th>region_1</th>\n",
       "      <th>region_2</th>\n",
       "      <th>taster_name</th>\n",
       "      <th>taster_twitter_handle</th>\n",
       "      <th>title</th>\n",
       "      <th>variety</th>\n",
       "      <th>winery</th>\n",
       "      <th>not_vintage</th>\n",
       "      <th>vintage</th>\n",
       "    </tr>\n",
       "  </thead>\n",
       "  <tbody>\n",
       "    <tr>\n",
       "      <th>2</th>\n",
       "      <td>US</td>\n",
       "      <td>Tart and snappy, the flavors of lime flesh and...</td>\n",
       "      <td>NaN</td>\n",
       "      <td>87</td>\n",
       "      <td>14.0</td>\n",
       "      <td>Oregon</td>\n",
       "      <td>Willamette Valley</td>\n",
       "      <td>Willamette Valley</td>\n",
       "      <td>Paul Gregutt</td>\n",
       "      <td>@paulgwine</td>\n",
       "      <td>Rainstorm 2013 Pinot Gris (Willamette Valley)</td>\n",
       "      <td>Pinot Gris</td>\n",
       "      <td>Rainstorm</td>\n",
       "      <td>US Oregon Willamette Valley Willamette Valley ...</td>\n",
       "      <td>2013.0</td>\n",
       "    </tr>\n",
       "    <tr>\n",
       "      <th>3</th>\n",
       "      <td>US</td>\n",
       "      <td>Pineapple rind, lemon pith and orange blossom ...</td>\n",
       "      <td>Reserve Late Harvest</td>\n",
       "      <td>87</td>\n",
       "      <td>13.0</td>\n",
       "      <td>Michigan</td>\n",
       "      <td>Lake Michigan Shore</td>\n",
       "      <td>NaN</td>\n",
       "      <td>Alexander Peartree</td>\n",
       "      <td>NaN</td>\n",
       "      <td>St. Julian 2013 Reserve Late Harvest Riesling ...</td>\n",
       "      <td>Riesling</td>\n",
       "      <td>St. Julian</td>\n",
       "      <td>US Reserve Late Harvest Michigan Lake Michigan...</td>\n",
       "      <td>2013.0</td>\n",
       "    </tr>\n",
       "  </tbody>\n",
       "</table>\n",
       "</div>"
      ],
      "text/plain": [
       "  country                                        description  \\\n",
       "2      US  Tart and snappy, the flavors of lime flesh and...   \n",
       "3      US  Pineapple rind, lemon pith and orange blossom ...   \n",
       "\n",
       "            designation  points  price  province             region_1  \\\n",
       "2                   NaN      87   14.0    Oregon    Willamette Valley   \n",
       "3  Reserve Late Harvest      87   13.0  Michigan  Lake Michigan Shore   \n",
       "\n",
       "            region_2         taster_name taster_twitter_handle  \\\n",
       "2  Willamette Valley        Paul Gregutt           @paulgwine    \n",
       "3                NaN  Alexander Peartree                   NaN   \n",
       "\n",
       "                                               title     variety      winery  \\\n",
       "2      Rainstorm 2013 Pinot Gris (Willamette Valley)  Pinot Gris   Rainstorm   \n",
       "3  St. Julian 2013 Reserve Late Harvest Riesling ...    Riesling  St. Julian   \n",
       "\n",
       "                                         not_vintage  vintage  \n",
       "2  US Oregon Willamette Valley Willamette Valley ...   2013.0  \n",
       "3  US Reserve Late Harvest Michigan Lake Michigan...   2013.0  "
      ]
     },
     "execution_count": 5,
     "metadata": {},
     "output_type": "execute_result"
    }
   ],
   "source": [
    "top_40_varieties[top_40_varieties['country'] == 'US'].head(2) # a view of wine review data of US"
   ]
  },
  {
   "cell_type": "code",
   "execution_count": 6,
   "metadata": {
    "execution": {
     "iopub.execute_input": "2020-11-13T11:57:39.268323Z",
     "iopub.status.busy": "2020-11-13T11:57:39.267289Z",
     "iopub.status.idle": "2020-11-13T11:57:39.317657Z",
     "shell.execute_reply": "2020-11-13T11:57:39.318262Z"
    },
    "papermill": {
     "duration": 0.154384,
     "end_time": "2020-11-13T11:57:39.318403",
     "exception": false,
     "start_time": "2020-11-13T11:57:39.164019",
     "status": "completed"
    },
    "tags": []
   },
   "outputs": [
    {
     "data": {
      "text/plain": [
       "50734"
      ]
     },
     "execution_count": 6,
     "metadata": {},
     "output_type": "execute_result"
    }
   ],
   "source": [
    "top_40_varieties['not_vintage'].apply(lambda x: 'US' in x).sum() # checks the number of rows with US"
   ]
  },
  {
   "cell_type": "code",
   "execution_count": 7,
   "metadata": {
    "execution": {
     "iopub.execute_input": "2020-11-13T11:57:39.515649Z",
     "iopub.status.busy": "2020-11-13T11:57:39.514452Z",
     "iopub.status.idle": "2020-11-13T11:57:39.585679Z",
     "shell.execute_reply": "2020-11-13T11:57:39.585127Z"
    },
    "papermill": {
     "duration": 0.174306,
     "end_time": "2020-11-13T11:57:39.585798",
     "exception": false,
     "start_time": "2020-11-13T11:57:39.411492",
     "status": "completed"
    },
    "tags": []
   },
   "outputs": [],
   "source": [
    "# replacing every occurence of 'US' in country with 'United States of America'\n",
    "top_40_varieties['country'].replace('US', 'United States of America', inplace=True)\n",
    "\n",
    "# replacing every occurence of 'US' in not_vintage with 'United States of America'\n",
    "top_40_varieties['not_vintage'] = top_40_varieties['not_vintage'].apply(lambda x: x.replace(\\\n",
    "                                                                        'US', 'United States of America'))"
   ]
  },
  {
   "cell_type": "code",
   "execution_count": 8,
   "metadata": {
    "execution": {
     "iopub.execute_input": "2020-11-13T11:57:39.789366Z",
     "iopub.status.busy": "2020-11-13T11:57:39.788289Z",
     "iopub.status.idle": "2020-11-13T11:57:39.820620Z",
     "shell.execute_reply": "2020-11-13T11:57:39.820081Z"
    },
    "papermill": {
     "duration": 0.146159,
     "end_time": "2020-11-13T11:57:39.820735",
     "exception": false,
     "start_time": "2020-11-13T11:57:39.674576",
     "status": "completed"
    },
    "tags": []
   },
   "outputs": [
    {
     "data": {
      "text/html": [
       "<div>\n",
       "<style scoped>\n",
       "    .dataframe tbody tr th:only-of-type {\n",
       "        vertical-align: middle;\n",
       "    }\n",
       "\n",
       "    .dataframe tbody tr th {\n",
       "        vertical-align: top;\n",
       "    }\n",
       "\n",
       "    .dataframe thead th {\n",
       "        text-align: right;\n",
       "    }\n",
       "</style>\n",
       "<table border=\"1\" class=\"dataframe\">\n",
       "  <thead>\n",
       "    <tr style=\"text-align: right;\">\n",
       "      <th></th>\n",
       "      <th>country</th>\n",
       "      <th>description</th>\n",
       "      <th>designation</th>\n",
       "      <th>points</th>\n",
       "      <th>price</th>\n",
       "      <th>province</th>\n",
       "      <th>region_1</th>\n",
       "      <th>region_2</th>\n",
       "      <th>taster_name</th>\n",
       "      <th>taster_twitter_handle</th>\n",
       "      <th>title</th>\n",
       "      <th>variety</th>\n",
       "      <th>winery</th>\n",
       "      <th>not_vintage</th>\n",
       "      <th>vintage</th>\n",
       "    </tr>\n",
       "  </thead>\n",
       "  <tbody>\n",
       "    <tr>\n",
       "      <th>2</th>\n",
       "      <td>United States of America</td>\n",
       "      <td>Tart and snappy, the flavors of lime flesh and...</td>\n",
       "      <td>NaN</td>\n",
       "      <td>87</td>\n",
       "      <td>14.0</td>\n",
       "      <td>Oregon</td>\n",
       "      <td>Willamette Valley</td>\n",
       "      <td>Willamette Valley</td>\n",
       "      <td>Paul Gregutt</td>\n",
       "      <td>@paulgwine</td>\n",
       "      <td>Rainstorm 2013 Pinot Gris (Willamette Valley)</td>\n",
       "      <td>Pinot Gris</td>\n",
       "      <td>Rainstorm</td>\n",
       "      <td>United States of America Oregon Willamette Val...</td>\n",
       "      <td>2013.0</td>\n",
       "    </tr>\n",
       "    <tr>\n",
       "      <th>3</th>\n",
       "      <td>United States of America</td>\n",
       "      <td>Pineapple rind, lemon pith and orange blossom ...</td>\n",
       "      <td>Reserve Late Harvest</td>\n",
       "      <td>87</td>\n",
       "      <td>13.0</td>\n",
       "      <td>Michigan</td>\n",
       "      <td>Lake Michigan Shore</td>\n",
       "      <td>NaN</td>\n",
       "      <td>Alexander Peartree</td>\n",
       "      <td>NaN</td>\n",
       "      <td>St. Julian 2013 Reserve Late Harvest Riesling ...</td>\n",
       "      <td>Riesling</td>\n",
       "      <td>St. Julian</td>\n",
       "      <td>United States of America Reserve Late Harvest ...</td>\n",
       "      <td>2013.0</td>\n",
       "    </tr>\n",
       "  </tbody>\n",
       "</table>\n",
       "</div>"
      ],
      "text/plain": [
       "                    country  \\\n",
       "2  United States of America   \n",
       "3  United States of America   \n",
       "\n",
       "                                         description           designation  \\\n",
       "2  Tart and snappy, the flavors of lime flesh and...                   NaN   \n",
       "3  Pineapple rind, lemon pith and orange blossom ...  Reserve Late Harvest   \n",
       "\n",
       "   points  price  province             region_1           region_2  \\\n",
       "2      87   14.0    Oregon    Willamette Valley  Willamette Valley   \n",
       "3      87   13.0  Michigan  Lake Michigan Shore                NaN   \n",
       "\n",
       "          taster_name taster_twitter_handle  \\\n",
       "2        Paul Gregutt           @paulgwine    \n",
       "3  Alexander Peartree                   NaN   \n",
       "\n",
       "                                               title     variety      winery  \\\n",
       "2      Rainstorm 2013 Pinot Gris (Willamette Valley)  Pinot Gris   Rainstorm   \n",
       "3  St. Julian 2013 Reserve Late Harvest Riesling ...    Riesling  St. Julian   \n",
       "\n",
       "                                         not_vintage  vintage  \n",
       "2  United States of America Oregon Willamette Val...   2013.0  \n",
       "3  United States of America Reserve Late Harvest ...   2013.0  "
      ]
     },
     "execution_count": 8,
     "metadata": {},
     "output_type": "execute_result"
    }
   ],
   "source": [
    "top_40_varieties[top_40_varieties['country'] == 'United States of America'].head(2) # a view of the dataset"
   ]
  },
  {
   "cell_type": "code",
   "execution_count": 9,
   "metadata": {
    "execution": {
     "iopub.execute_input": "2020-11-13T11:57:40.015057Z",
     "iopub.status.busy": "2020-11-13T11:57:40.013028Z",
     "iopub.status.idle": "2020-11-13T11:57:40.074255Z",
     "shell.execute_reply": "2020-11-13T11:57:40.073623Z"
    },
    "papermill": {
     "duration": 0.165465,
     "end_time": "2020-11-13T11:57:40.074372",
     "exception": false,
     "start_time": "2020-11-13T11:57:39.908907",
     "status": "completed"
    },
    "tags": []
   },
   "outputs": [],
   "source": [
    "# asserting that there is no occurence of 'US' in country and not_vintage\n",
    "assert 'US' not in top_40_varieties['country']\n",
    "assert top_40_varieties['not_vintage'].apply(lambda x: 'US' in x).sum() == 0  "
   ]
  },
  {
   "cell_type": "code",
   "execution_count": 10,
   "metadata": {
    "execution": {
     "iopub.execute_input": "2020-11-13T11:57:40.251230Z",
     "iopub.status.busy": "2020-11-13T11:57:40.250000Z",
     "iopub.status.idle": "2020-11-13T11:57:40.254028Z",
     "shell.execute_reply": "2020-11-13T11:57:40.254547Z"
    },
    "papermill": {
     "duration": 0.096162,
     "end_time": "2020-11-13T11:57:40.254714",
     "exception": false,
     "start_time": "2020-11-13T11:57:40.158552",
     "status": "completed"
    },
    "tags": []
   },
   "outputs": [
    {
     "data": {
      "text/plain": [
       "variety\n",
       "Pinot Noir                       13272\n",
       "Chardonnay                       11753\n",
       "Cabernet Sauvignon                9472\n",
       "Red Blend                         8946\n",
       "Bordeaux-style Red Blend          6915\n",
       "Riesling                          5189\n",
       "Sauvignon Blanc                   4967\n",
       "Syrah                             4142\n",
       "Rosé                              3564\n",
       "Merlot                            3102\n",
       "Nebbiolo                          2804\n",
       "Zinfandel                         2714\n",
       "Sangiovese                        2707\n",
       "Malbec                            2652\n",
       "Portuguese Red                    2466\n",
       "White Blend                       2360\n",
       "Sparkling Blend                   2153\n",
       "Tempranillo                       1810\n",
       "Rhône-style Red Blend             1471\n",
       "Pinot Gris                        1455\n",
       "Champagne Blend                   1396\n",
       "Cabernet Franc                    1353\n",
       "Grüner Veltliner                  1345\n",
       "Portuguese White                  1159\n",
       "Bordeaux-style White Blend        1066\n",
       "Pinot Grigio                      1052\n",
       "Gamay                             1025\n",
       "Gewürztraminer                    1012\n",
       "Viognier                           996\n",
       "Shiraz                             836\n",
       "Petite Sirah                       770\n",
       "Sangiovese Grosso                  751\n",
       "Barbera                            721\n",
       "Glera                              709\n",
       "Port                               668\n",
       "Grenache                           651\n",
       "Corvina, Rondinella, Molinara      619\n",
       "Chenin Blanc                       591\n",
       "Tempranillo Blend                  588\n",
       "Carmenère                          575\n",
       "Name: count, dtype: int64"
      ]
     },
     "execution_count": 10,
     "metadata": {},
     "output_type": "execute_result"
    }
   ],
   "source": [
    "# renaming the columns in top_varieties_count\n",
    "top_varieties_count = top_varieties_count.rename(columns={'variety': 'count', 'Unnamed: 0': 'variety'})\n",
    "top_varieties_count = top_varieties_count.set_index('variety') # setting the index\n",
    "top_varieties_count = top_varieties_count['count'] # making it a Series\n",
    "top_varieties_count"
   ]
  },
  {
   "cell_type": "code",
   "execution_count": 11,
   "metadata": {
    "execution": {
     "iopub.execute_input": "2020-11-13T11:57:40.435530Z",
     "iopub.status.busy": "2020-11-13T11:57:40.434519Z",
     "iopub.status.idle": "2020-11-13T11:57:40.490345Z",
     "shell.execute_reply": "2020-11-13T11:57:40.489782Z"
    },
    "papermill": {
     "duration": 0.154749,
     "end_time": "2020-11-13T11:57:40.490492",
     "exception": false,
     "start_time": "2020-11-13T11:57:40.335743",
     "status": "completed"
    },
    "tags": []
   },
   "outputs": [
    {
     "name": "stdout",
     "output_type": "stream",
     "text": [
      "percentage of initial 130k dataframe is 72%\n",
      "20\n"
     ]
    },
    {
     "data": {
      "text/html": [
       "<div>\n",
       "<style scoped>\n",
       "    .dataframe tbody tr th:only-of-type {\n",
       "        vertical-align: middle;\n",
       "    }\n",
       "\n",
       "    .dataframe tbody tr th {\n",
       "        vertical-align: top;\n",
       "    }\n",
       "\n",
       "    .dataframe thead th {\n",
       "        text-align: right;\n",
       "    }\n",
       "</style>\n",
       "<table border=\"1\" class=\"dataframe\">\n",
       "  <thead>\n",
       "    <tr style=\"text-align: right;\">\n",
       "      <th></th>\n",
       "      <th>country</th>\n",
       "      <th>description</th>\n",
       "      <th>designation</th>\n",
       "      <th>points</th>\n",
       "      <th>price</th>\n",
       "      <th>province</th>\n",
       "      <th>region_1</th>\n",
       "      <th>region_2</th>\n",
       "      <th>taster_name</th>\n",
       "      <th>taster_twitter_handle</th>\n",
       "      <th>title</th>\n",
       "      <th>variety</th>\n",
       "      <th>winery</th>\n",
       "      <th>not_vintage</th>\n",
       "      <th>vintage</th>\n",
       "    </tr>\n",
       "  </thead>\n",
       "  <tbody>\n",
       "    <tr>\n",
       "      <th>0</th>\n",
       "      <td>Italy</td>\n",
       "      <td>Aromas include tropical fruit, broom, brimston...</td>\n",
       "      <td>Vulkà Bianco</td>\n",
       "      <td>87</td>\n",
       "      <td>NaN</td>\n",
       "      <td>Sicily &amp; Sardinia</td>\n",
       "      <td>Etna</td>\n",
       "      <td>NaN</td>\n",
       "      <td>Kerin O’Keefe</td>\n",
       "      <td>@kerinokeefe</td>\n",
       "      <td>Nicosia 2013 Vulkà Bianco  (Etna)</td>\n",
       "      <td>White Blend</td>\n",
       "      <td>Nicosia</td>\n",
       "      <td>Italy Vulkà Bianco Sicily &amp; Sardinia Etna Nicosia</td>\n",
       "      <td>2013.0</td>\n",
       "    </tr>\n",
       "    <tr>\n",
       "      <th>1</th>\n",
       "      <td>Portugal</td>\n",
       "      <td>This is ripe and fruity, a wine that is smooth...</td>\n",
       "      <td>Avidagos</td>\n",
       "      <td>87</td>\n",
       "      <td>15.0</td>\n",
       "      <td>Douro</td>\n",
       "      <td>NaN</td>\n",
       "      <td>NaN</td>\n",
       "      <td>Roger Voss</td>\n",
       "      <td>@vossroger</td>\n",
       "      <td>Quinta dos Avidagos 2011 Avidagos Red (Douro)</td>\n",
       "      <td>Portuguese Red</td>\n",
       "      <td>Quinta dos Avidagos</td>\n",
       "      <td>Portugal Avidagos Douro Quinta dos Avidagos</td>\n",
       "      <td>2011.0</td>\n",
       "    </tr>\n",
       "  </tbody>\n",
       "</table>\n",
       "</div>"
      ],
      "text/plain": [
       "    country                                        description   designation  \\\n",
       "0     Italy  Aromas include tropical fruit, broom, brimston...  Vulkà Bianco   \n",
       "1  Portugal  This is ripe and fruity, a wine that is smooth...      Avidagos   \n",
       "\n",
       "   points  price           province region_1 region_2    taster_name  \\\n",
       "0      87    NaN  Sicily & Sardinia     Etna      NaN  Kerin O’Keefe   \n",
       "1      87   15.0              Douro      NaN      NaN     Roger Voss   \n",
       "\n",
       "  taster_twitter_handle                                          title  \\\n",
       "0          @kerinokeefe              Nicosia 2013 Vulkà Bianco  (Etna)   \n",
       "1            @vossroger  Quinta dos Avidagos 2011 Avidagos Red (Douro)   \n",
       "\n",
       "          variety               winery  \\\n",
       "0     White Blend              Nicosia   \n",
       "1  Portuguese Red  Quinta dos Avidagos   \n",
       "\n",
       "                                         not_vintage  vintage  \n",
       "0  Italy Vulkà Bianco Sicily & Sardinia Etna Nicosia   2013.0  \n",
       "1        Portugal Avidagos Douro Quinta dos Avidagos   2011.0  "
      ]
     },
     "execution_count": 11,
     "metadata": {},
     "output_type": "execute_result"
    }
   ],
   "source": [
    "top = 20 # selecting top 20 varities as our working varieties. note 1 < n <= 40\n",
    "\n",
    "# making a datframe of our selecting top n varieties\n",
    "top_df = top_40_varieties[top_40_varieties['variety'].isin(top_varieties_count.iloc[:top].index)]\n",
    "print('percentage of initial 130k dataframe is {}%'.format(72))\n",
    "print(len(top_df['variety'].unique()))\n",
    "top_df.head(2)"
   ]
  },
  {
   "cell_type": "code",
   "execution_count": 12,
   "metadata": {
    "execution": {
     "iopub.execute_input": "2020-11-13T11:57:40.682710Z",
     "iopub.status.busy": "2020-11-13T11:57:40.681927Z",
     "iopub.status.idle": "2020-11-13T11:57:40.743249Z",
     "shell.execute_reply": "2020-11-13T11:57:40.742669Z"
    },
    "papermill": {
     "duration": 0.15996,
     "end_time": "2020-11-13T11:57:40.743376",
     "exception": false,
     "start_time": "2020-11-13T11:57:40.583416",
     "status": "completed"
    },
    "tags": []
   },
   "outputs": [
    {
     "name": "stdout",
     "output_type": "stream",
     "text": [
      "(38367, 15)\n",
      "14\n"
     ]
    },
    {
     "data": {
      "text/html": [
       "<div>\n",
       "<style scoped>\n",
       "    .dataframe tbody tr th:only-of-type {\n",
       "        vertical-align: middle;\n",
       "    }\n",
       "\n",
       "    .dataframe tbody tr th {\n",
       "        vertical-align: top;\n",
       "    }\n",
       "\n",
       "    .dataframe thead th {\n",
       "        text-align: right;\n",
       "    }\n",
       "</style>\n",
       "<table border=\"1\" class=\"dataframe\">\n",
       "  <thead>\n",
       "    <tr style=\"text-align: right;\">\n",
       "      <th></th>\n",
       "      <th>country</th>\n",
       "      <th>description</th>\n",
       "      <th>designation</th>\n",
       "      <th>points</th>\n",
       "      <th>price</th>\n",
       "      <th>province</th>\n",
       "      <th>region_1</th>\n",
       "      <th>region_2</th>\n",
       "      <th>taster_name</th>\n",
       "      <th>taster_twitter_handle</th>\n",
       "      <th>title</th>\n",
       "      <th>variety</th>\n",
       "      <th>winery</th>\n",
       "      <th>not_vintage</th>\n",
       "      <th>vintage</th>\n",
       "    </tr>\n",
       "  </thead>\n",
       "  <tbody>\n",
       "    <tr>\n",
       "      <th>0</th>\n",
       "      <td>Italy</td>\n",
       "      <td>Aromas include tropical fruit, broom, brimston...</td>\n",
       "      <td>Vulkà Bianco</td>\n",
       "      <td>87</td>\n",
       "      <td>NaN</td>\n",
       "      <td>Sicily &amp; Sardinia</td>\n",
       "      <td>Etna</td>\n",
       "      <td>NaN</td>\n",
       "      <td>Kerin O’Keefe</td>\n",
       "      <td>@kerinokeefe</td>\n",
       "      <td>Nicosia 2013 Vulkà Bianco  (Etna)</td>\n",
       "      <td>White Blend</td>\n",
       "      <td>Nicosia</td>\n",
       "      <td>Italy Vulkà Bianco Sicily &amp; Sardinia Etna Nicosia</td>\n",
       "      <td>2013.0</td>\n",
       "    </tr>\n",
       "    <tr>\n",
       "      <th>1</th>\n",
       "      <td>Portugal</td>\n",
       "      <td>This is ripe and fruity, a wine that is smooth...</td>\n",
       "      <td>Avidagos</td>\n",
       "      <td>87</td>\n",
       "      <td>15.0</td>\n",
       "      <td>Douro</td>\n",
       "      <td>NaN</td>\n",
       "      <td>NaN</td>\n",
       "      <td>Roger Voss</td>\n",
       "      <td>@vossroger</td>\n",
       "      <td>Quinta dos Avidagos 2011 Avidagos Red (Douro)</td>\n",
       "      <td>Portuguese Red</td>\n",
       "      <td>Quinta dos Avidagos</td>\n",
       "      <td>Portugal Avidagos Douro Quinta dos Avidagos</td>\n",
       "      <td>2011.0</td>\n",
       "    </tr>\n",
       "  </tbody>\n",
       "</table>\n",
       "</div>"
      ],
      "text/plain": [
       "    country                                        description   designation  \\\n",
       "0     Italy  Aromas include tropical fruit, broom, brimston...  Vulkà Bianco   \n",
       "1  Portugal  This is ripe and fruity, a wine that is smooth...      Avidagos   \n",
       "\n",
       "   points  price           province region_1 region_2    taster_name  \\\n",
       "0      87    NaN  Sicily & Sardinia     Etna      NaN  Kerin O’Keefe   \n",
       "1      87   15.0              Douro      NaN      NaN     Roger Voss   \n",
       "\n",
       "  taster_twitter_handle                                          title  \\\n",
       "0          @kerinokeefe              Nicosia 2013 Vulkà Bianco  (Etna)   \n",
       "1            @vossroger  Quinta dos Avidagos 2011 Avidagos Red (Douro)   \n",
       "\n",
       "          variety               winery  \\\n",
       "0     White Blend              Nicosia   \n",
       "1  Portuguese Red  Quinta dos Avidagos   \n",
       "\n",
       "                                         not_vintage  vintage  \n",
       "0  Italy Vulkà Bianco Sicily & Sardinia Etna Nicosia   2013.0  \n",
       "1        Portugal Avidagos Douro Quinta dos Avidagos   2011.0  "
      ]
     },
     "execution_count": 12,
     "metadata": {},
     "output_type": "execute_result"
    }
   ],
   "source": [
    "# threshold of miniority variety to over sample (use sentences as document instead of the whole description)\n",
    "minority_threshold = 5000 \n",
    "\n",
    "# making a dataframe of the miniority classes\n",
    "minority_df = top_df[top_df['variety'].isin(top_varieties_count[top_varieties_count < \\\n",
    "                                                                      minority_threshold].index)]\n",
    "print(minority_df.shape)\n",
    "print(len(minority_df['variety'].unique()))\n",
    "minority_df.head(2)"
   ]
  },
  {
   "cell_type": "markdown",
   "metadata": {
    "papermill": {
     "duration": 0.084444,
     "end_time": "2020-11-13T11:57:40.921498",
     "exception": false,
     "start_time": "2020-11-13T11:57:40.837054",
     "status": "completed"
    },
    "tags": []
   },
   "source": [
    "### nltk and spacy are the two most popular libraries in NLP. We will just use nltk to tokenize sentences in our miniority class but for our heavy weight preprocessing, we will use spacy because it is mostly used in industries and has wealth of functionalities."
   ]
  },
  {
   "cell_type": "code",
   "execution_count": 13,
   "metadata": {
    "execution": {
     "iopub.execute_input": "2020-11-13T11:57:41.097259Z",
     "iopub.status.busy": "2020-11-13T11:57:41.096422Z",
     "iopub.status.idle": "2020-11-13T11:57:41.668582Z",
     "shell.execute_reply": "2020-11-13T11:57:41.668049Z"
    },
    "papermill": {
     "duration": 0.661224,
     "end_time": "2020-11-13T11:57:41.668694",
     "exception": false,
     "start_time": "2020-11-13T11:57:41.007470",
     "status": "completed"
    },
    "tags": []
   },
   "outputs": [],
   "source": [
    "from nltk.tokenize import sent_tokenize # importing useful library"
   ]
  },
  {
   "cell_type": "code",
   "execution_count": 14,
   "metadata": {
    "execution": {
     "iopub.execute_input": "2020-11-13T11:57:41.850029Z",
     "iopub.status.busy": "2020-11-13T11:57:41.849310Z",
     "iopub.status.idle": "2020-11-13T11:57:41.852217Z",
     "shell.execute_reply": "2020-11-13T11:57:41.852663Z"
    },
    "papermill": {
     "duration": 0.097669,
     "end_time": "2020-11-13T11:57:41.852785",
     "exception": false,
     "start_time": "2020-11-13T11:57:41.755116",
     "status": "completed"
    },
    "tags": []
   },
   "outputs": [],
   "source": [
    "oversampled_miniority_lst = [] # empty list to store sentences as tokens miniority corpus\n",
    "\n",
    "# creating a function to use sentences as tokens for the miniority classes\n",
    "def over_sample_miniority(row):\n",
    "    doc_list = sent_tokenize(row['description'])\n",
    "    for sent in doc_list:\n",
    "        row['description'] = sent\n",
    "        oversampled_miniority_lst.append(list(row))"
   ]
  },
  {
   "cell_type": "code",
   "execution_count": 15,
   "metadata": {
    "execution": {
     "iopub.execute_input": "2020-11-13T11:57:42.051585Z",
     "iopub.status.busy": "2020-11-13T11:57:42.050569Z",
     "iopub.status.idle": "2020-11-13T11:57:51.013165Z",
     "shell.execute_reply": "2020-11-13T11:57:51.012370Z"
    },
    "papermill": {
     "duration": 9.077728,
     "end_time": "2020-11-13T11:57:51.013298",
     "exception": false,
     "start_time": "2020-11-13T11:57:41.935570",
     "status": "completed"
    },
    "tags": []
   },
   "outputs": [],
   "source": [
    "minority_df.apply(over_sample_miniority, axis=1); # over sample the miniority classes"
   ]
  },
  {
   "cell_type": "code",
   "execution_count": 16,
   "metadata": {
    "execution": {
     "iopub.execute_input": "2020-11-13T11:57:51.202087Z",
     "iopub.status.busy": "2020-11-13T11:57:51.201130Z",
     "iopub.status.idle": "2020-11-13T11:57:51.516145Z",
     "shell.execute_reply": "2020-11-13T11:57:51.517362Z"
    },
    "papermill": {
     "duration": 0.421102,
     "end_time": "2020-11-13T11:57:51.517562",
     "exception": false,
     "start_time": "2020-11-13T11:57:51.096460",
     "status": "completed"
    },
    "tags": []
   },
   "outputs": [
    {
     "name": "stdout",
     "output_type": "stream",
     "text": [
      "(104101, 15)\n"
     ]
    },
    {
     "data": {
      "text/html": [
       "<div>\n",
       "<style scoped>\n",
       "    .dataframe tbody tr th:only-of-type {\n",
       "        vertical-align: middle;\n",
       "    }\n",
       "\n",
       "    .dataframe tbody tr th {\n",
       "        vertical-align: top;\n",
       "    }\n",
       "\n",
       "    .dataframe thead th {\n",
       "        text-align: right;\n",
       "    }\n",
       "</style>\n",
       "<table border=\"1\" class=\"dataframe\">\n",
       "  <thead>\n",
       "    <tr style=\"text-align: right;\">\n",
       "      <th></th>\n",
       "      <th>country</th>\n",
       "      <th>description</th>\n",
       "      <th>designation</th>\n",
       "      <th>points</th>\n",
       "      <th>price</th>\n",
       "      <th>province</th>\n",
       "      <th>region_1</th>\n",
       "      <th>region_2</th>\n",
       "      <th>taster_name</th>\n",
       "      <th>taster_twitter_handle</th>\n",
       "      <th>title</th>\n",
       "      <th>variety</th>\n",
       "      <th>winery</th>\n",
       "      <th>not_vintage</th>\n",
       "      <th>vintage</th>\n",
       "    </tr>\n",
       "  </thead>\n",
       "  <tbody>\n",
       "    <tr>\n",
       "      <th>0</th>\n",
       "      <td>Italy</td>\n",
       "      <td>Aromas include tropical fruit, broom, brimston...</td>\n",
       "      <td>Vulkà Bianco</td>\n",
       "      <td>87</td>\n",
       "      <td>NaN</td>\n",
       "      <td>Sicily &amp; Sardinia</td>\n",
       "      <td>Etna</td>\n",
       "      <td>NaN</td>\n",
       "      <td>Kerin O’Keefe</td>\n",
       "      <td>@kerinokeefe</td>\n",
       "      <td>Nicosia 2013 Vulkà Bianco  (Etna)</td>\n",
       "      <td>White Blend</td>\n",
       "      <td>Nicosia</td>\n",
       "      <td>Italy Vulkà Bianco Sicily &amp; Sardinia Etna Nicosia</td>\n",
       "      <td>2013.0</td>\n",
       "    </tr>\n",
       "    <tr>\n",
       "      <th>1</th>\n",
       "      <td>Italy</td>\n",
       "      <td>The palate isn't overly expressive, offering u...</td>\n",
       "      <td>Vulkà Bianco</td>\n",
       "      <td>87</td>\n",
       "      <td>NaN</td>\n",
       "      <td>Sicily &amp; Sardinia</td>\n",
       "      <td>Etna</td>\n",
       "      <td>NaN</td>\n",
       "      <td>Kerin O’Keefe</td>\n",
       "      <td>@kerinokeefe</td>\n",
       "      <td>Nicosia 2013 Vulkà Bianco  (Etna)</td>\n",
       "      <td>White Blend</td>\n",
       "      <td>Nicosia</td>\n",
       "      <td>Italy Vulkà Bianco Sicily &amp; Sardinia Etna Nicosia</td>\n",
       "      <td>2013.0</td>\n",
       "    </tr>\n",
       "  </tbody>\n",
       "</table>\n",
       "</div>"
      ],
      "text/plain": [
       "  country                                        description   designation  \\\n",
       "0   Italy  Aromas include tropical fruit, broom, brimston...  Vulkà Bianco   \n",
       "1   Italy  The palate isn't overly expressive, offering u...  Vulkà Bianco   \n",
       "\n",
       "   points  price           province region_1 region_2    taster_name  \\\n",
       "0      87    NaN  Sicily & Sardinia     Etna      NaN  Kerin O’Keefe   \n",
       "1      87    NaN  Sicily & Sardinia     Etna      NaN  Kerin O’Keefe   \n",
       "\n",
       "  taster_twitter_handle                              title      variety  \\\n",
       "0          @kerinokeefe  Nicosia 2013 Vulkà Bianco  (Etna)  White Blend   \n",
       "1          @kerinokeefe  Nicosia 2013 Vulkà Bianco  (Etna)  White Blend   \n",
       "\n",
       "    winery                                        not_vintage  vintage  \n",
       "0  Nicosia  Italy Vulkà Bianco Sicily & Sardinia Etna Nicosia   2013.0  \n",
       "1  Nicosia  Italy Vulkà Bianco Sicily & Sardinia Etna Nicosia   2013.0  "
      ]
     },
     "execution_count": 16,
     "metadata": {},
     "output_type": "execute_result"
    }
   ],
   "source": [
    "# converts oversampled_miniority_lst to a dataframe\n",
    "oversampled_miniority_df = pd.DataFrame(oversampled_miniority_lst, columns=minority_df.columns)\n",
    "print(oversampled_miniority_df.shape)\n",
    "oversampled_miniority_df.head(2)"
   ]
  },
  {
   "cell_type": "code",
   "execution_count": 17,
   "metadata": {
    "execution": {
     "iopub.execute_input": "2020-11-13T11:57:51.812255Z",
     "iopub.status.busy": "2020-11-13T11:57:51.808928Z",
     "iopub.status.idle": "2020-11-13T11:57:51.816325Z",
     "shell.execute_reply": "2020-11-13T11:57:51.815298Z"
    },
    "papermill": {
     "duration": 0.162553,
     "end_time": "2020-11-13T11:57:51.816484",
     "exception": false,
     "start_time": "2020-11-13T11:57:51.653931",
     "status": "completed"
    },
    "tags": []
   },
   "outputs": [
    {
     "data": {
      "text/plain": [
       "array(['Aromas include tropical fruit, broom, brimstone and dried herb.',\n",
       "       \"The palate isn't overly expressive, offering unripened apple, citrus and dried sage alongside brisk acidity.\",\n",
       "       'This is ripe and fruity, a wine that is smooth while still structured.',\n",
       "       'Firm tannins are filled out with juicy red berry fruits and freshened with acidity.',\n",
       "       \"It's  already drinkable, although it will certainly be better from 2016.\"],\n",
       "      dtype=object)"
      ]
     },
     "execution_count": 17,
     "metadata": {},
     "output_type": "execute_result"
    }
   ],
   "source": [
    "# a view at the new descriptions of the oversampled miniority classes\n",
    "oversampled_miniority_df['description'][:5].values"
   ]
  },
  {
   "cell_type": "markdown",
   "metadata": {
    "papermill": {
     "duration": 0.132003,
     "end_time": "2020-11-13T11:57:52.081294",
     "exception": false,
     "start_time": "2020-11-13T11:57:51.949291",
     "status": "completed"
    },
    "tags": []
   },
   "source": [
    "### we see that sentences are counted as tokens instead of the whole review"
   ]
  },
  {
   "cell_type": "code",
   "execution_count": 18,
   "metadata": {
    "execution": {
     "iopub.execute_input": "2020-11-13T11:57:52.425502Z",
     "iopub.status.busy": "2020-11-13T11:57:52.424495Z",
     "iopub.status.idle": "2020-11-13T11:57:52.700497Z",
     "shell.execute_reply": "2020-11-13T11:57:52.701073Z"
    },
    "papermill": {
     "duration": 0.482971,
     "end_time": "2020-11-13T11:57:52.701222",
     "exception": false,
     "start_time": "2020-11-13T11:57:52.218251",
     "status": "completed"
    },
    "tags": []
   },
   "outputs": [
    {
     "name": "stdout",
     "output_type": "stream",
     "text": [
      "(159648, 15)\n"
     ]
    },
    {
     "data": {
      "text/html": [
       "<div>\n",
       "<style scoped>\n",
       "    .dataframe tbody tr th:only-of-type {\n",
       "        vertical-align: middle;\n",
       "    }\n",
       "\n",
       "    .dataframe tbody tr th {\n",
       "        vertical-align: top;\n",
       "    }\n",
       "\n",
       "    .dataframe thead th {\n",
       "        text-align: right;\n",
       "    }\n",
       "</style>\n",
       "<table border=\"1\" class=\"dataframe\">\n",
       "  <thead>\n",
       "    <tr style=\"text-align: right;\">\n",
       "      <th></th>\n",
       "      <th>country</th>\n",
       "      <th>description</th>\n",
       "      <th>designation</th>\n",
       "      <th>points</th>\n",
       "      <th>price</th>\n",
       "      <th>province</th>\n",
       "      <th>region_1</th>\n",
       "      <th>region_2</th>\n",
       "      <th>taster_name</th>\n",
       "      <th>taster_twitter_handle</th>\n",
       "      <th>title</th>\n",
       "      <th>variety</th>\n",
       "      <th>winery</th>\n",
       "      <th>not_vintage</th>\n",
       "      <th>vintage</th>\n",
       "    </tr>\n",
       "  </thead>\n",
       "  <tbody>\n",
       "    <tr>\n",
       "      <th>0</th>\n",
       "      <td>United States of America</td>\n",
       "      <td>Pineapple rind, lemon pith and orange blossom ...</td>\n",
       "      <td>Reserve Late Harvest</td>\n",
       "      <td>87</td>\n",
       "      <td>13.0</td>\n",
       "      <td>Michigan</td>\n",
       "      <td>Lake Michigan Shore</td>\n",
       "      <td>NaN</td>\n",
       "      <td>Alexander Peartree</td>\n",
       "      <td>NaN</td>\n",
       "      <td>St. Julian 2013 Reserve Late Harvest Riesling ...</td>\n",
       "      <td>Riesling</td>\n",
       "      <td>St. Julian</td>\n",
       "      <td>United States of America Reserve Late Harvest ...</td>\n",
       "      <td>2013.0</td>\n",
       "    </tr>\n",
       "    <tr>\n",
       "      <th>1</th>\n",
       "      <td>United States of America</td>\n",
       "      <td>Much like the regular bottling from 2012, this...</td>\n",
       "      <td>Vintner's Reserve Wild Child Block</td>\n",
       "      <td>87</td>\n",
       "      <td>65.0</td>\n",
       "      <td>Oregon</td>\n",
       "      <td>Willamette Valley</td>\n",
       "      <td>Willamette Valley</td>\n",
       "      <td>Paul Gregutt</td>\n",
       "      <td>@paulgwine</td>\n",
       "      <td>Sweet Cheeks 2012 Vintner's Reserve Wild Child...</td>\n",
       "      <td>Pinot Noir</td>\n",
       "      <td>Sweet Cheeks</td>\n",
       "      <td>United States of America Vintner's Reserve Wil...</td>\n",
       "      <td>2012.0</td>\n",
       "    </tr>\n",
       "  </tbody>\n",
       "</table>\n",
       "</div>"
      ],
      "text/plain": [
       "                    country  \\\n",
       "0  United States of America   \n",
       "1  United States of America   \n",
       "\n",
       "                                         description  \\\n",
       "0  Pineapple rind, lemon pith and orange blossom ...   \n",
       "1  Much like the regular bottling from 2012, this...   \n",
       "\n",
       "                          designation  points  price  province  \\\n",
       "0                Reserve Late Harvest      87   13.0  Michigan   \n",
       "1  Vintner's Reserve Wild Child Block      87   65.0    Oregon   \n",
       "\n",
       "              region_1           region_2         taster_name  \\\n",
       "0  Lake Michigan Shore                NaN  Alexander Peartree   \n",
       "1    Willamette Valley  Willamette Valley        Paul Gregutt   \n",
       "\n",
       "  taster_twitter_handle                                              title  \\\n",
       "0                   NaN  St. Julian 2013 Reserve Late Harvest Riesling ...   \n",
       "1           @paulgwine   Sweet Cheeks 2012 Vintner's Reserve Wild Child...   \n",
       "\n",
       "      variety        winery  \\\n",
       "0    Riesling    St. Julian   \n",
       "1  Pinot Noir  Sweet Cheeks   \n",
       "\n",
       "                                         not_vintage  vintage  \n",
       "0  United States of America Reserve Late Harvest ...   2013.0  \n",
       "1  United States of America Vintner's Reserve Wil...   2012.0  "
      ]
     },
     "execution_count": 18,
     "metadata": {},
     "output_type": "execute_result"
    }
   ],
   "source": [
    "# selecting majority classes as a dataframe to concatenate to oversampled_miniority_lst\n",
    "majority_df = top_df[top_df['variety'].isin(\\\n",
    "                                        top_varieties_count[top_varieties_count >= minority_threshold].index)]\n",
    "\n",
    "# concatenates majority_df to oversampled_miniority_lst\n",
    "balanced_df = pd.concat([majority_df, oversampled_miniority_df]) \n",
    "balanced_df = balanced_df.reset_index().drop('index', axis=1) # resets index\n",
    "print(balanced_df.shape)\n",
    "balanced_df.head(2)"
   ]
  },
  {
   "cell_type": "code",
   "execution_count": 19,
   "metadata": {
    "execution": {
     "iopub.execute_input": "2020-11-13T11:57:52.948081Z",
     "iopub.status.busy": "2020-11-13T11:57:52.946868Z",
     "iopub.status.idle": "2020-11-13T11:57:52.950385Z",
     "shell.execute_reply": "2020-11-13T11:57:52.950898Z"
    },
    "papermill": {
     "duration": 0.150598,
     "end_time": "2020-11-13T11:57:52.951049",
     "exception": false,
     "start_time": "2020-11-13T11:57:52.800451",
     "status": "completed"
    },
    "tags": []
   },
   "outputs": [
    {
     "data": {
      "text/plain": [
       "Pinot Noir                  13272\n",
       "Sauvignon Blanc             12801\n",
       "Chardonnay                  11753\n",
       "Syrah                       11128\n",
       "Cabernet Sauvignon           9472\n",
       "Rosé                         9207\n",
       "Red Blend                    8946\n",
       "Nebbiolo                     8107\n",
       "Malbec                       8047\n",
       "Merlot                       7874\n",
       "Portuguese Red               7734\n",
       "Sangiovese                   7432\n",
       "Bordeaux-style Red Blend     6915\n",
       "Zinfandel                    6512\n",
       "White Blend                  6034\n",
       "Sparkling Blend              5740\n",
       "Tempranillo                  5552\n",
       "Riesling                     5189\n",
       "Rhône-style Red Blend        3972\n",
       "Pinot Gris                   3961\n",
       "Name: variety, dtype: int64"
      ]
     },
     "execution_count": 19,
     "metadata": {},
     "output_type": "execute_result"
    }
   ],
   "source": [
    "balanced_variety = balanced_df['variety'].value_counts() # gets a Series of the variety count in balanced_df\n",
    "balanced_variety"
   ]
  },
  {
   "cell_type": "code",
   "execution_count": 20,
   "metadata": {
    "execution": {
     "iopub.execute_input": "2020-11-13T11:57:53.139629Z",
     "iopub.status.busy": "2020-11-13T11:57:53.138936Z",
     "iopub.status.idle": "2020-11-13T11:57:53.145341Z",
     "shell.execute_reply": "2020-11-13T11:57:53.144571Z"
    },
    "papermill": {
     "duration": 0.10261,
     "end_time": "2020-11-13T11:57:53.145480",
     "exception": false,
     "start_time": "2020-11-13T11:57:53.042870",
     "status": "completed"
    },
    "tags": []
   },
   "outputs": [
    {
     "name": "stdout",
     "output_type": "stream",
     "text": [
      "before sentence oversampling, highest class ratio was 9.507163323782235\n"
     ]
    }
   ],
   "source": [
    "print('before sentence oversampling, highest class ratio was {}'.format(\\\n",
    "                                        top_varieties_count.iloc[0] / top_varieties_count.iloc[top]))"
   ]
  },
  {
   "cell_type": "code",
   "execution_count": 21,
   "metadata": {
    "execution": {
     "iopub.execute_input": "2020-11-13T11:57:53.333484Z",
     "iopub.status.busy": "2020-11-13T11:57:53.332702Z",
     "iopub.status.idle": "2020-11-13T11:57:53.626041Z",
     "shell.execute_reply": "2020-11-13T11:57:53.625439Z"
    },
    "papermill": {
     "duration": 0.390546,
     "end_time": "2020-11-13T11:57:53.626174",
     "exception": false,
     "start_time": "2020-11-13T11:57:53.235628",
     "status": "completed"
    },
    "tags": []
   },
   "outputs": [
    {
     "data": {
      "image/png": "[encoded data removed]",
      "text/plain": [
       "<Figure size 1296x288 with 1 Axes>"
      ]
     },
     "metadata": {
      "needs_background": "light"
     },
     "output_type": "display_data"
    }
   ],
   "source": [
    "fig = plt.figure(figsize=(18, 4))\n",
    "plt.bar(top_varieties_count[:top].index, top_varieties_count[:top].values)\n",
    "plt.xticks(rotation=90)\n",
    "plt.xlabel('variety')\n",
    "plt.ylabel('count')\n",
    "plt.title('Counts of varieties before sentence oversampling')\n",
    "plt.show()"
   ]
  },
  {
   "cell_type": "code",
   "execution_count": 22,
   "metadata": {
    "execution": {
     "iopub.execute_input": "2020-11-13T11:57:53.820816Z",
     "iopub.status.busy": "2020-11-13T11:57:53.820112Z",
     "iopub.status.idle": "2020-11-13T11:57:53.827232Z",
     "shell.execute_reply": "2020-11-13T11:57:53.826501Z"
    },
    "papermill": {
     "duration": 0.100919,
     "end_time": "2020-11-13T11:57:53.827341",
     "exception": false,
     "start_time": "2020-11-13T11:57:53.726422",
     "status": "completed"
    },
    "tags": []
   },
   "outputs": [
    {
     "name": "stdout",
     "output_type": "stream",
     "text": [
      "after sentence oversampling, highest class ratio is 3.3506690229739964\n"
     ]
    }
   ],
   "source": [
    "print('after sentence oversampling, highest class ratio is {}'.format(\\\n",
    "                                                    balanced_variety.iloc[0] / balanced_variety.iloc[-1]))"
   ]
  },
  {
   "cell_type": "code",
   "execution_count": 23,
   "metadata": {
    "execution": {
     "iopub.execute_input": "2020-11-13T11:57:54.011539Z",
     "iopub.status.busy": "2020-11-13T11:57:54.010501Z",
     "iopub.status.idle": "2020-11-13T11:57:54.261452Z",
     "shell.execute_reply": "2020-11-13T11:57:54.262004Z"
    },
    "papermill": {
     "duration": 0.347206,
     "end_time": "2020-11-13T11:57:54.262141",
     "exception": false,
     "start_time": "2020-11-13T11:57:53.914935",
     "status": "completed"
    },
    "tags": []
   },
   "outputs": [
    {
     "data": {
      "image/png": "[encoded data removed]",
      "text/plain": [
       "<Figure size 1296x288 with 1 Axes>"
      ]
     },
     "metadata": {
      "needs_background": "light"
     },
     "output_type": "display_data"
    }
   ],
   "source": [
    "fig = plt.figure(figsize=(18, 4))\n",
    "plt.bar(balanced_variety.index, balanced_variety.values)\n",
    "plt.xticks(rotation=90)\n",
    "plt.xlabel('variety')\n",
    "plt.ylabel('count')\n",
    "plt.title('Counts of varieties after sentence oversampling')\n",
    "plt.show()"
   ]
  },
  {
   "cell_type": "code",
   "execution_count": null,
   "metadata": {
    "papermill": {
     "duration": 0.08936,
     "end_time": "2020-11-13T11:57:54.441003",
     "exception": false,
     "start_time": "2020-11-13T11:57:54.351643",
     "status": "completed"
    },
    "tags": []
   },
   "outputs": [],
   "source": []
  },
  {
   "cell_type": "code",
   "execution_count": 24,
   "metadata": {
    "execution": {
     "iopub.execute_input": "2020-11-13T11:57:54.626656Z",
     "iopub.status.busy": "2020-11-13T11:57:54.625824Z",
     "iopub.status.idle": "2020-11-13T11:57:56.771122Z",
     "shell.execute_reply": "2020-11-13T11:57:56.770304Z"
    },
    "papermill": {
     "duration": 2.24078,
     "end_time": "2020-11-13T11:57:56.771238",
     "exception": false,
     "start_time": "2020-11-13T11:57:54.530458",
     "status": "completed"
    },
    "tags": []
   },
   "outputs": [],
   "source": [
    "# importing useful libraries\n",
    "import spacy\n",
    "from imblearn.over_sampling import SMOTE\n",
    "from imblearn.pipeline import Pipeline\n",
    "from sklearn.tree import DecisionTreeClassifier\n",
    "from sklearn.preprocessing import LabelEncoder, OneHotEncoder\n",
    "from sklearn.model_selection import RepeatedStratifiedKFold, cross_val_score"
   ]
  },
  {
   "cell_type": "markdown",
   "metadata": {
    "papermill": {
     "duration": 0.121258,
     "end_time": "2020-11-13T11:57:56.983726",
     "exception": false,
     "start_time": "2020-11-13T11:57:56.862468",
     "status": "completed"
    },
    "tags": []
   },
   "source": [
    "### Let's check for Nan values"
   ]
  },
  {
   "cell_type": "code",
   "execution_count": 25,
   "metadata": {
    "execution": {
     "iopub.execute_input": "2020-11-13T11:57:57.271095Z",
     "iopub.status.busy": "2020-11-13T11:57:57.270192Z",
     "iopub.status.idle": "2020-11-13T11:57:57.452947Z",
     "shell.execute_reply": "2020-11-13T11:57:57.454221Z"
    },
    "papermill": {
     "duration": 0.330119,
     "end_time": "2020-11-13T11:57:57.454413",
     "exception": false,
     "start_time": "2020-11-13T11:57:57.124294",
     "status": "completed"
    },
    "tags": []
   },
   "outputs": [
    {
     "data": {
      "text/html": [
       "<div>\n",
       "<style scoped>\n",
       "    .dataframe tbody tr th:only-of-type {\n",
       "        vertical-align: middle;\n",
       "    }\n",
       "\n",
       "    .dataframe tbody tr th {\n",
       "        vertical-align: top;\n",
       "    }\n",
       "\n",
       "    .dataframe thead th {\n",
       "        text-align: right;\n",
       "    }\n",
       "</style>\n",
       "<table border=\"1\" class=\"dataframe\">\n",
       "  <thead>\n",
       "    <tr style=\"text-align: right;\">\n",
       "      <th></th>\n",
       "      <th>n_Nan</th>\n",
       "      <th>%missing</th>\n",
       "    </tr>\n",
       "  </thead>\n",
       "  <tbody>\n",
       "    <tr>\n",
       "      <th>country</th>\n",
       "      <td>37</td>\n",
       "      <td>0.039398</td>\n",
       "    </tr>\n",
       "    <tr>\n",
       "      <th>description</th>\n",
       "      <td>0</td>\n",
       "      <td>0.000000</td>\n",
       "    </tr>\n",
       "    <tr>\n",
       "      <th>designation</th>\n",
       "      <td>26985</td>\n",
       "      <td>28.733735</td>\n",
       "    </tr>\n",
       "    <tr>\n",
       "      <th>points</th>\n",
       "      <td>0</td>\n",
       "      <td>0.000000</td>\n",
       "    </tr>\n",
       "    <tr>\n",
       "      <th>price</th>\n",
       "      <td>5691</td>\n",
       "      <td>6.059799</td>\n",
       "    </tr>\n",
       "    <tr>\n",
       "      <th>province</th>\n",
       "      <td>37</td>\n",
       "      <td>0.039398</td>\n",
       "    </tr>\n",
       "    <tr>\n",
       "      <th>region_1</th>\n",
       "      <td>13466</td>\n",
       "      <td>14.338650</td>\n",
       "    </tr>\n",
       "    <tr>\n",
       "      <th>region_2</th>\n",
       "      <td>50804</td>\n",
       "      <td>54.096301</td>\n",
       "    </tr>\n",
       "    <tr>\n",
       "      <th>taster_name</th>\n",
       "      <td>18863</td>\n",
       "      <td>20.085397</td>\n",
       "    </tr>\n",
       "    <tr>\n",
       "      <th>taster_twitter_handle</th>\n",
       "      <td>22626</td>\n",
       "      <td>24.092255</td>\n",
       "    </tr>\n",
       "    <tr>\n",
       "      <th>title</th>\n",
       "      <td>0</td>\n",
       "      <td>0.000000</td>\n",
       "    </tr>\n",
       "    <tr>\n",
       "      <th>variety</th>\n",
       "      <td>0</td>\n",
       "      <td>0.000000</td>\n",
       "    </tr>\n",
       "    <tr>\n",
       "      <th>winery</th>\n",
       "      <td>0</td>\n",
       "      <td>0.000000</td>\n",
       "    </tr>\n",
       "    <tr>\n",
       "      <th>not_vintage</th>\n",
       "      <td>0</td>\n",
       "      <td>0.000000</td>\n",
       "    </tr>\n",
       "    <tr>\n",
       "      <th>vintage</th>\n",
       "      <td>2202</td>\n",
       "      <td>2.344698</td>\n",
       "    </tr>\n",
       "  </tbody>\n",
       "</table>\n",
       "</div>"
      ],
      "text/plain": [
       "                       n_Nan   %missing\n",
       "country                   37   0.039398\n",
       "description                0   0.000000\n",
       "designation            26985  28.733735\n",
       "points                     0   0.000000\n",
       "price                   5691   6.059799\n",
       "province                  37   0.039398\n",
       "region_1               13466  14.338650\n",
       "region_2               50804  54.096301\n",
       "taster_name            18863  20.085397\n",
       "taster_twitter_handle  22626  24.092255\n",
       "title                      0   0.000000\n",
       "variety                    0   0.000000\n",
       "winery                     0   0.000000\n",
       "not_vintage                0   0.000000\n",
       "vintage                 2202   2.344698"
      ]
     },
     "execution_count": 25,
     "metadata": {},
     "output_type": "execute_result"
    }
   ],
   "source": [
    "nan_df = top_df.isnull().sum().to_frame()\n",
    "nan_df.rename(columns={0: 'n_Nan'}, inplace=True)\n",
    "nan_df['%missing'] = 100*nan_df['n_Nan'] / top_df.shape[0]\n",
    "nan_df"
   ]
  },
  {
   "cell_type": "code",
   "execution_count": 26,
   "metadata": {
    "execution": {
     "iopub.execute_input": "2020-11-13T11:57:57.760515Z",
     "iopub.status.busy": "2020-11-13T11:57:57.759406Z",
     "iopub.status.idle": "2020-11-13T11:57:58.951447Z",
     "shell.execute_reply": "2020-11-13T11:57:58.950820Z"
    },
    "papermill": {
     "duration": 1.35002,
     "end_time": "2020-11-13T11:57:58.951591",
     "exception": false,
     "start_time": "2020-11-13T11:57:57.601571",
     "status": "completed"
    },
    "tags": []
   },
   "outputs": [],
   "source": [
    "# creating a spacy pipeline and disabling tagger, parser and ner to speed up tokenizer\n",
    "nlp = spacy.load('en', disable=['tagger', 'parser', 'ner']) "
   ]
  },
  {
   "cell_type": "markdown",
   "metadata": {
    "papermill": {
     "duration": 0.094926,
     "end_time": "2020-11-13T11:57:59.141639",
     "exception": false,
     "start_time": "2020-11-13T11:57:59.046713",
     "status": "completed"
    },
    "tags": []
   },
   "source": [
    "### We will be evaluating six preprocessing approaches to choose the best one.\n",
    "\n",
    "1. sentence oversampling without including 'not_vintage'\n",
    "2. no oversampling without including 'not_vintage'\n",
    "3. SMOTE oversampling without including 'not_vintage'\n",
    "4. sentence oversampling including 'not_vintage'\n",
    "5. no oversampling including 'not_vintage'\n",
    "6. SMOTE oversampling without including 'not_vintage'"
   ]
  },
  {
   "cell_type": "markdown",
   "metadata": {
    "papermill": {
     "duration": 0.092195,
     "end_time": "2020-11-13T11:57:59.328713",
     "exception": false,
     "start_time": "2020-11-13T11:57:59.236518",
     "status": "completed"
    },
    "tags": []
   },
   "source": [
    "- Remeber, ````not_vintage```` is the combination of non-numeric categorical features of ````country, province, region1, region2, winery, and designation````"
   ]
  },
  {
   "cell_type": "markdown",
   "metadata": {
    "papermill": {
     "duration": 0.094741,
     "end_time": "2020-11-13T11:57:59.516670",
     "exception": false,
     "start_time": "2020-11-13T11:57:59.421929",
     "status": "completed"
    },
    "tags": []
   },
   "source": [
    "### First, let's make a corpus where each document is ````description```` plus ````not_vintage````"
   ]
  },
  {
   "cell_type": "code",
   "execution_count": 27,
   "metadata": {
    "execution": {
     "iopub.execute_input": "2020-11-13T11:57:59.737261Z",
     "iopub.status.busy": "2020-11-13T11:57:59.722108Z",
     "iopub.status.idle": "2020-11-13T11:57:59.949064Z",
     "shell.execute_reply": "2020-11-13T11:57:59.948454Z"
    },
    "papermill": {
     "duration": 0.336606,
     "end_time": "2020-11-13T11:57:59.949178",
     "exception": false,
     "start_time": "2020-11-13T11:57:59.612572",
     "status": "completed"
    },
    "tags": []
   },
   "outputs": [],
   "source": [
    "# for sentence oversampling\n",
    "sent_oversample_corpus = [doc1 + ' ' + doc2 for doc1, doc2 in zip(\\\n",
    "                                                        balanced_df['description'], balanced_df['not_vintage'])]\n",
    "\n",
    "# for no oversampling\n",
    "no_oversample_corpus = [doc1 + ' ' + doc2 for doc1, doc2 in zip(\\\n",
    "                                                        top_df['description'], top_df['not_vintage'])]"
   ]
  },
  {
   "cell_type": "markdown",
   "metadata": {
    "papermill": {
     "duration": 0.091717,
     "end_time": "2020-11-13T11:58:00.135318",
     "exception": false,
     "start_time": "2020-11-13T11:58:00.043601",
     "status": "completed"
    },
    "tags": []
   },
   "source": [
    "### let's see how the combination of ````description```` and ````not_vintage```` is like"
   ]
  },
  {
   "cell_type": "code",
   "execution_count": 28,
   "metadata": {
    "execution": {
     "iopub.execute_input": "2020-11-13T11:58:00.326134Z",
     "iopub.status.busy": "2020-11-13T11:58:00.325434Z",
     "iopub.status.idle": "2020-11-13T11:58:00.331117Z",
     "shell.execute_reply": "2020-11-13T11:58:00.330579Z"
    },
    "papermill": {
     "duration": 0.102907,
     "end_time": "2020-11-13T11:58:00.331217",
     "exception": false,
     "start_time": "2020-11-13T11:58:00.228310",
     "status": "completed"
    },
    "tags": []
   },
   "outputs": [
    {
     "data": {
      "text/plain": [
       "['It also has weight and a solid, powerful core of spice and baked apple flavors. France Alsace Alsace Domaine Marcel Deiss',\n",
       " 'With its structure still developing, the wine needs to age. France Alsace Alsace Domaine Marcel Deiss',\n",
       " 'Drink from 2015. France Alsace Alsace Domaine Marcel Deiss']"
      ]
     },
     "execution_count": 28,
     "metadata": {},
     "output_type": "execute_result"
    }
   ],
   "source": [
    "sent_oversample_corpus[-3:]"
   ]
  },
  {
   "cell_type": "code",
   "execution_count": 29,
   "metadata": {
    "execution": {
     "iopub.execute_input": "2020-11-13T11:58:00.518631Z",
     "iopub.status.busy": "2020-11-13T11:58:00.517993Z",
     "iopub.status.idle": "2020-11-13T11:58:00.523836Z",
     "shell.execute_reply": "2020-11-13T11:58:00.524472Z"
    },
    "papermill": {
     "duration": 0.101744,
     "end_time": "2020-11-13T11:58:00.524628",
     "exception": false,
     "start_time": "2020-11-13T11:58:00.422884",
     "status": "completed"
    },
    "tags": []
   },
   "outputs": [
    {
     "data": {
      "text/plain": [
       "[\"Aromas include tropical fruit, broom, brimstone and dried herb. The palate isn't overly expressive, offering unripened apple, citrus and dried sage alongside brisk acidity. Italy Vulkà Bianco Sicily & Sardinia Etna Nicosia\",\n",
       " \"This is ripe and fruity, a wine that is smooth while still structured. Firm tannins are filled out with juicy red berry fruits and freshened with acidity. It's  already drinkable, although it will certainly be better from 2016. Portugal Avidagos Douro Quinta dos Avidagos\",\n",
       " 'Tart and snappy, the flavors of lime flesh and rind dominate. Some green pineapple pokes through, with crisp acidity underscoring the flavors. The wine was all stainless-steel fermented. United States of America Oregon Willamette Valley Willamette Valley Rainstorm']"
      ]
     },
     "execution_count": 29,
     "metadata": {},
     "output_type": "execute_result"
    }
   ],
   "source": [
    "no_oversample_corpus[:3] "
   ]
  },
  {
   "cell_type": "code",
   "execution_count": null,
   "metadata": {
    "papermill": {
     "duration": 0.093502,
     "end_time": "2020-11-13T11:58:00.710895",
     "exception": false,
     "start_time": "2020-11-13T11:58:00.617393",
     "status": "completed"
    },
    "tags": []
   },
   "outputs": [],
   "source": []
  },
  {
   "cell_type": "code",
   "execution_count": 30,
   "metadata": {
    "execution": {
     "iopub.execute_input": "2020-11-13T11:58:00.948933Z",
     "iopub.status.busy": "2020-11-13T11:58:00.947970Z",
     "iopub.status.idle": "2020-11-13T11:58:01.096185Z",
     "shell.execute_reply": "2020-11-13T11:58:01.095619Z"
    },
    "papermill": {
     "duration": 0.291011,
     "end_time": "2020-11-13T11:58:01.096296",
     "exception": false,
     "start_time": "2020-11-13T11:58:00.805285",
     "status": "completed"
    },
    "tags": []
   },
   "outputs": [],
   "source": [
    "sent_oversample_le = LabelEncoder() # initializes a LabelEncoder object\n",
    "# encodes the labels\n",
    "sent_oversample_labels = sent_oversample_le.fit_transform([label for label in balanced_df['variety']])\n",
    "\n",
    "no_oversample_le = LabelEncoder() # initializes a LabelEncoder object\n",
    "# encodes the labels\n",
    "no_oversample_label = no_oversample_le.fit_transform([label for label in top_df['variety']])"
   ]
  },
  {
   "cell_type": "markdown",
   "metadata": {
    "papermill": {
     "duration": 0.092622,
     "end_time": "2020-11-13T11:58:01.285324",
     "exception": false,
     "start_time": "2020-11-13T11:58:01.192702",
     "status": "completed"
    },
    "tags": []
   },
   "source": [
    "### Let's have a view of ````sent_oversample_corpus```` and ````no_oversample_corpus````"
   ]
  },
  {
   "cell_type": "code",
   "execution_count": 31,
   "metadata": {
    "execution": {
     "iopub.execute_input": "2020-11-13T11:58:01.477208Z",
     "iopub.status.busy": "2020-11-13T11:58:01.476419Z",
     "iopub.status.idle": "2020-11-13T11:58:01.480189Z",
     "shell.execute_reply": "2020-11-13T11:58:01.480662Z"
    },
    "papermill": {
     "duration": 0.10287,
     "end_time": "2020-11-13T11:58:01.480780",
     "exception": false,
     "start_time": "2020-11-13T11:58:01.377910",
     "status": "completed"
    },
    "tags": []
   },
   "outputs": [
    {
     "data": {
      "text/plain": [
       "['It also has weight and a solid, powerful core of spice and baked apple flavors. France Alsace Alsace Domaine Marcel Deiss',\n",
       " 'With its structure still developing, the wine needs to age. France Alsace Alsace Domaine Marcel Deiss',\n",
       " 'Drink from 2015. France Alsace Alsace Domaine Marcel Deiss']"
      ]
     },
     "execution_count": 31,
     "metadata": {},
     "output_type": "execute_result"
    }
   ],
   "source": [
    "sent_oversample_corpus[-3:]"
   ]
  },
  {
   "cell_type": "code",
   "execution_count": 32,
   "metadata": {
    "execution": {
     "iopub.execute_input": "2020-11-13T11:58:01.670717Z",
     "iopub.status.busy": "2020-11-13T11:58:01.670136Z",
     "iopub.status.idle": "2020-11-13T11:58:01.676707Z",
     "shell.execute_reply": "2020-11-13T11:58:01.676130Z"
    },
    "papermill": {
     "duration": 0.103291,
     "end_time": "2020-11-13T11:58:01.676820",
     "exception": false,
     "start_time": "2020-11-13T11:58:01.573529",
     "status": "completed"
    },
    "tags": []
   },
   "outputs": [
    {
     "data": {
      "text/plain": [
       "[\"Notes of honeysuckle and cantaloupe sweeten this deliciously feather-light spätlese. It's intensely juicy, quenching the palate with streams of tart tangerine and grapefruit acidity, yet wraps up with a kiss of honey and peach. Germany Brauneberger Juffer-Sonnenuhr Spätlese Mosel Dr. H. Thanisch (Erben Müller-Burggraef)\",\n",
       " 'Citation is given as much as a decade of bottle age prior to release, which means it is pre-cellared and drinking at its peak. Baked cherry, cocoa and coconut flavors combine gracefully, with soft, secondary fruit compote highlights. United States of America Oregon Oregon Oregon Other Citation',\n",
       " 'A dry style of Pinot Gris, this is crisp with some acidity. It also has weight and a solid, powerful core of spice and baked apple flavors. With its structure still developing, the wine needs to age. Drink from 2015. France Alsace Alsace Domaine Marcel Deiss']"
      ]
     },
     "execution_count": 32,
     "metadata": {},
     "output_type": "execute_result"
    }
   ],
   "source": [
    "no_oversample_corpus[-3:]"
   ]
  },
  {
   "cell_type": "code",
   "execution_count": 33,
   "metadata": {
    "execution": {
     "iopub.execute_input": "2020-11-13T11:58:01.872550Z",
     "iopub.status.busy": "2020-11-13T11:58:01.871761Z",
     "iopub.status.idle": "2020-11-13T11:58:01.876316Z",
     "shell.execute_reply": "2020-11-13T11:58:01.875644Z"
    },
    "papermill": {
     "duration": 0.106437,
     "end_time": "2020-11-13T11:58:01.876448",
     "exception": false,
     "start_time": "2020-11-13T11:58:01.770011",
     "status": "completed"
    },
    "tags": []
   },
   "outputs": [],
   "source": [
    "# creating a dictionary to decode the encoded labels (we could also use the inverse_transform method of the \n",
    "# LabelEncoder object)\n",
    "sent_oversample_map = {v: k for k, v in enumerate(sent_oversample_le.classes_)}\n",
    "no_oversample_map = {v: k for k, v in enumerate(no_oversample_le.classes_)}"
   ]
  },
  {
   "cell_type": "code",
   "execution_count": 34,
   "metadata": {
    "execution": {
     "iopub.execute_input": "2020-11-13T11:58:02.075413Z",
     "iopub.status.busy": "2020-11-13T11:58:02.074475Z",
     "iopub.status.idle": "2020-11-13T11:58:02.078763Z",
     "shell.execute_reply": "2020-11-13T11:58:02.078204Z"
    },
    "papermill": {
     "duration": 0.10502,
     "end_time": "2020-11-13T11:58:02.078885",
     "exception": false,
     "start_time": "2020-11-13T11:58:01.973865",
     "status": "completed"
    },
    "tags": []
   },
   "outputs": [
    {
     "data": {
      "text/plain": [
       "array([11,  7,  1])"
      ]
     },
     "execution_count": 34,
     "metadata": {},
     "output_type": "execute_result"
    }
   ],
   "source": [
    "sent_oversample_labels[:3]"
   ]
  },
  {
   "cell_type": "code",
   "execution_count": 35,
   "metadata": {
    "execution": {
     "iopub.execute_input": "2020-11-13T11:58:02.279873Z",
     "iopub.status.busy": "2020-11-13T11:58:02.279077Z",
     "iopub.status.idle": "2020-11-13T11:58:02.324532Z",
     "shell.execute_reply": "2020-11-13T11:58:02.325019Z"
    },
    "papermill": {
     "duration": 0.144787,
     "end_time": "2020-11-13T11:58:02.325169",
     "exception": false,
     "start_time": "2020-11-13T11:58:02.180382",
     "status": "completed"
    },
    "tags": []
   },
   "outputs": [],
   "source": [
    "sent_oversample_one_hot = OneHotEncoder(sparse=False)\n",
    "sent_oversample_labels2 = sent_oversample_one_hot.fit_transform(sent_oversample_labels.reshape(-1, 1))"
   ]
  },
  {
   "cell_type": "code",
   "execution_count": 36,
   "metadata": {
    "execution": {
     "iopub.execute_input": "2020-11-13T11:58:02.525807Z",
     "iopub.status.busy": "2020-11-13T11:58:02.524128Z",
     "iopub.status.idle": "2020-11-13T11:58:02.531905Z",
     "shell.execute_reply": "2020-11-13T11:58:02.531259Z"
    },
    "papermill": {
     "duration": 0.109655,
     "end_time": "2020-11-13T11:58:02.532039",
     "exception": false,
     "start_time": "2020-11-13T11:58:02.422384",
     "status": "completed"
    },
    "tags": []
   },
   "outputs": [
    {
     "data": {
      "text/plain": [
       "array([[0., 0., 0., 0., 0., 0., 0., 0., 0., 0., 0., 1., 0., 0., 0., 0.,\n",
       "        0., 0., 0., 0.],\n",
       "       [0., 0., 0., 0., 0., 0., 0., 1., 0., 0., 0., 0., 0., 0., 0., 0.,\n",
       "        0., 0., 0., 0.],\n",
       "       [0., 1., 0., 0., 0., 0., 0., 0., 0., 0., 0., 0., 0., 0., 0., 0.,\n",
       "        0., 0., 0., 0.]])"
      ]
     },
     "execution_count": 36,
     "metadata": {},
     "output_type": "execute_result"
    }
   ],
   "source": [
    "sent_oversample_labels2[:3]"
   ]
  },
  {
   "cell_type": "code",
   "execution_count": 37,
   "metadata": {
    "execution": {
     "iopub.execute_input": "2020-11-13T11:58:02.756898Z",
     "iopub.status.busy": "2020-11-13T11:58:02.755261Z",
     "iopub.status.idle": "2020-11-13T11:58:02.759701Z",
     "shell.execute_reply": "2020-11-13T11:58:02.758812Z"
    },
    "papermill": {
     "duration": 0.117632,
     "end_time": "2020-11-13T11:58:02.759841",
     "exception": false,
     "start_time": "2020-11-13T11:58:02.642209",
     "status": "completed"
    },
    "tags": []
   },
   "outputs": [
    {
     "name": "stdout",
     "output_type": "stream",
     "text": [
      "['please', 'é', 'do', 'do', 'is', 'runs', 'honey', 'well', 'ran', 'it', 'did', 'doing', 'he', 'fr', 'erben', 'müller', 'burggraef']\n"
     ]
    }
   ],
   "source": [
    "sample_text = \"Please! é don't Do isn't? runs honey-well ran: lo50 it did, 0.5 doiNg he 100 #fr @h... +234 \" + \\\n",
    "                \"me3 (Erben Müller-Burggraef).\"\n",
    "lst = []\n",
    "for p in nlp(sample_text):\n",
    "    if p.is_alpha:\n",
    "        lst.append(p.lower_)\n",
    "print(lst)"
   ]
  },
  {
   "cell_type": "markdown",
   "metadata": {
    "papermill": {
     "duration": 0.099689,
     "end_time": "2020-11-13T11:58:02.955894",
     "exception": false,
     "start_time": "2020-11-13T11:58:02.856205",
     "status": "completed"
    },
    "tags": []
   },
   "source": [
    "### we will encapsulate the above code in a list comprehension, and that will be our tokenizer function."
   ]
  },
  {
   "cell_type": "code",
   "execution_count": 38,
   "metadata": {
    "execution": {
     "iopub.execute_input": "2020-11-13T11:58:03.152800Z",
     "iopub.status.busy": "2020-11-13T11:58:03.151806Z",
     "iopub.status.idle": "2020-11-13T11:58:03.155050Z",
     "shell.execute_reply": "2020-11-13T11:58:03.154537Z"
    },
    "papermill": {
     "duration": 0.103074,
     "end_time": "2020-11-13T11:58:03.155153",
     "exception": false,
     "start_time": "2020-11-13T11:58:03.052079",
     "status": "completed"
    },
    "tags": []
   },
   "outputs": [],
   "source": [
    "spacy_stop_words = spacy.lang.en.STOP_WORDS # getting spacy's stop-words"
   ]
  },
  {
   "cell_type": "code",
   "execution_count": 39,
   "metadata": {
    "execution": {
     "iopub.execute_input": "2020-11-13T11:58:03.349765Z",
     "iopub.status.busy": "2020-11-13T11:58:03.348923Z",
     "iopub.status.idle": "2020-11-13T11:58:03.624093Z",
     "shell.execute_reply": "2020-11-13T11:58:03.622809Z"
    },
    "papermill": {
     "duration": 0.374296,
     "end_time": "2020-11-13T11:58:03.624219",
     "exception": false,
     "start_time": "2020-11-13T11:58:03.249923",
     "status": "completed"
    },
    "tags": []
   },
   "outputs": [],
   "source": [
    "response = requests.get('https://raw.github.com/Yoast/YoastSEO.js/develop/src/config/stopwords.js')\n",
    "yoast_stop_words = response.content.decode()"
   ]
  },
  {
   "cell_type": "code",
   "execution_count": 40,
   "metadata": {
    "execution": {
     "iopub.execute_input": "2020-11-13T11:58:03.831036Z",
     "iopub.status.busy": "2020-11-13T11:58:03.830212Z",
     "iopub.status.idle": "2020-11-13T11:58:03.835793Z",
     "shell.execute_reply": "2020-11-13T11:58:03.836538Z"
    },
    "papermill": {
     "duration": 0.113626,
     "end_time": "2020-11-13T11:58:03.836698",
     "exception": false,
     "start_time": "2020-11-13T11:58:03.723072",
     "status": "completed"
    },
    "tags": []
   },
   "outputs": [
    {
     "name": "stdout",
     "output_type": "stream",
     "text": [
      "length of yoast_stop_words is 153\n",
      "\n",
      "{\"it's\", 'during', 'the', 'he', 'but', 'ought', 'we', \"we'd\", \"what's\", \"you've\", 'has', 'through', 'these', 'above', 'more', 'were', 'or', 'as', \"here's\", 'about', 'very', 'hers', \"he'd\", \"he'll\", 'she', 'does', 'be', 'than', \"that's\", 'do', 'further', \"i'll\", 'why', 'have', 'those', 'myself', 'for', 'having', 'again', 'its', 'ours', \"you'll\", 'that', 'him', 'been', 'such', \"we've\", 'most', 'between', 'are', 'under', 'my', 'same', \"he's\", \"she's\", 'which', 'yours', 'own', 'below', 'her', 'and', \"she'd\", 'whom', 'on', 'too', 'against', 'had', 'each', 'themselves', \"we're\", 'this', 'when', 'out', 'itself', 'into', 'at', 'both', 'yourself', 'our', 'while', \"she'll\", 'other', 'doing', \"they'll\", \"i'm\", 'if', 'herself', 'your', 'then', 'being', 'could', 'how', \"i've\", 'am', 'here', 'to', 'theirs', 'ourselves', \"they'd\", 'yourselves', 'is', 'their', 'from', 'until', 'they', 'before', 'in', \"let's\", 'with', \"you'd\", \"they're\", \"where's\", 'who', 'nor', \"you're\", 'i', \"there's\", 'an', \"why's\", 'a', 'where', 'what', \"how's\", 'there', 'any', 'you', 'only', 'by', 'once', 'because', \"they've\", 'me', 'his', \"who's\", 'down', 'himself', 'of', 'should', 'some', \"we'll\", \"i'd\", 'so', 'over', 'all', 'did', 'was', 'after', 'up', 'would', \"when's\", 'it', 'few', 'them'}\n"
     ]
    }
   ],
   "source": [
    "pattern = r'\\[.+\\]'\n",
    "match = re.search(pattern, yoast_stop_words)\n",
    "yoast_stop_words = set(match.group()[1:-1].replace('\"', '').replace(',', '').split())\n",
    "print(f'length of yoast_stop_words is {len(yoast_stop_words)}\\n')\n",
    "print(yoast_stop_words)"
   ]
  },
  {
   "cell_type": "code",
   "execution_count": 41,
   "metadata": {
    "execution": {
     "iopub.execute_input": "2020-11-13T11:58:04.055734Z",
     "iopub.status.busy": "2020-11-13T11:58:04.040823Z",
     "iopub.status.idle": "2020-11-13T11:58:04.059485Z",
     "shell.execute_reply": "2020-11-13T11:58:04.058782Z"
    },
    "papermill": {
     "duration": 0.123653,
     "end_time": "2020-11-13T11:58:04.059597",
     "exception": false,
     "start_time": "2020-11-13T11:58:03.935944",
     "status": "completed"
    },
    "tags": []
   },
   "outputs": [],
   "source": [
    "stop_words_lemma = {word.lemma_.lower() for word in nlp(' '.join(spacy_stop_words | yoast_stop_words))} | \\\n",
    "{'-pron-', '10', '12', 'aah', 'aa', 'ab', 'aaa', 'aand', '16', '2', '20', '30', '4', '40', '5', '6', '7', \\\n",
    " '8', '9'}"
   ]
  },
  {
   "cell_type": "code",
   "execution_count": null,
   "metadata": {
    "papermill": {
     "duration": 0.099381,
     "end_time": "2020-11-13T11:58:04.260409",
     "exception": false,
     "start_time": "2020-11-13T11:58:04.161028",
     "status": "completed"
    },
    "tags": []
   },
   "outputs": [],
   "source": []
  },
  {
   "cell_type": "markdown",
   "metadata": {
    "papermill": {
     "duration": 0.099011,
     "end_time": "2020-11-13T11:58:04.459219",
     "exception": false,
     "start_time": "2020-11-13T11:58:04.360208",
     "status": "completed"
    },
    "tags": []
   },
   "source": [
    "### After tokenizer, there is a weird word '-pron-' that appears probably because spacy lemmatizers some pronouns as '-pron-'. So numbers strangely still appeared after tokenizing (and double tokenizing)...it may be due to a bug in spacy. We wil include these to our stop-words. and lemmatize our stop words since we are lemmatizing our tokens."
   ]
  },
  {
   "cell_type": "code",
   "execution_count": 42,
   "metadata": {
    "execution": {
     "iopub.execute_input": "2020-11-13T11:58:04.663580Z",
     "iopub.status.busy": "2020-11-13T11:58:04.662843Z",
     "iopub.status.idle": "2020-11-13T11:58:04.666786Z",
     "shell.execute_reply": "2020-11-13T11:58:04.666213Z"
    },
    "papermill": {
     "duration": 0.108077,
     "end_time": "2020-11-13T11:58:04.666887",
     "exception": false,
     "start_time": "2020-11-13T11:58:04.558810",
     "status": "completed"
    },
    "tags": []
   },
   "outputs": [],
   "source": [
    "# defining tokenzer function to tokenize the lower case lemma of documents in a corpus and \n",
    "# filter out stop-words  \n",
    "def tokenizer(text):\n",
    "    return [word.lemma_.lower() for word in nlp(text) if word.is_alpha and word.lemma_.lower() \\\n",
    "                not in stop_words_lemma]"
   ]
  },
  {
   "cell_type": "markdown",
   "metadata": {
    "papermill": {
     "duration": 0.102525,
     "end_time": "2020-11-13T11:58:04.866194",
     "exception": false,
     "start_time": "2020-11-13T11:58:04.763669",
     "status": "completed"
    },
    "tags": []
   },
   "source": [
    "## Word2vec"
   ]
  },
  {
   "cell_type": "markdown",
   "metadata": {
    "papermill": {
     "duration": 0.095499,
     "end_time": "2020-11-13T11:58:05.058893",
     "exception": false,
     "start_time": "2020-11-13T11:58:04.963394",
     "status": "completed"
    },
    "tags": []
   },
   "source": [
    "### Word2vec converts each word to an n-dimensional vector by using neural network to encode the context usage of words in a sentence. It is advantageous than Tfidf because it takes context into consideration. For this notebook, we will encoding into a 300 dimensional vector with the continuous bag of words (CBOW) strategy (default) on a window size of 5 (default) which seems to be the best for our data."
   ]
  },
  {
   "cell_type": "code",
   "execution_count": 43,
   "metadata": {
    "execution": {
     "iopub.execute_input": "2020-11-13T11:58:05.260406Z",
     "iopub.status.busy": "2020-11-13T11:58:05.259655Z",
     "iopub.status.idle": "2020-11-13T11:58:05.418290Z",
     "shell.execute_reply": "2020-11-13T11:58:05.417689Z"
    },
    "papermill": {
     "duration": 0.260807,
     "end_time": "2020-11-13T11:58:05.418414",
     "exception": false,
     "start_time": "2020-11-13T11:58:05.157607",
     "status": "completed"
    },
    "tags": []
   },
   "outputs": [],
   "source": [
    "from gensim.models import Word2Vec # importing Word2Vec"
   ]
  },
  {
   "cell_type": "code",
   "execution_count": 44,
   "metadata": {
    "execution": {
     "iopub.execute_input": "2020-11-13T11:58:05.621645Z",
     "iopub.status.busy": "2020-11-13T11:58:05.619692Z",
     "iopub.status.idle": "2020-11-13T11:58:05.622376Z",
     "shell.execute_reply": "2020-11-13T11:58:05.622866Z"
    },
    "papermill": {
     "duration": 0.106545,
     "end_time": "2020-11-13T11:58:05.623002",
     "exception": false,
     "start_time": "2020-11-13T11:58:05.516457",
     "status": "completed"
    },
    "tags": []
   },
   "outputs": [],
   "source": [
    "# defining a function to return the mean word2vec vectors of words in a review (document) as the document vector \n",
    "def get_doc_vector(model, doc):\n",
    "    return np.mean([model[word] for word in doc if word in model.wv.vocab], axis=0)"
   ]
  },
  {
   "cell_type": "markdown",
   "metadata": {
    "papermill": {
     "duration": 0.097371,
     "end_time": "2020-11-13T11:58:05.817879",
     "exception": false,
     "start_time": "2020-11-13T11:58:05.720508",
     "status": "completed"
    },
    "tags": []
   },
   "source": [
    "### First, let's make a corpus where each document is ````description```` plus ````not_vintage````"
   ]
  },
  {
   "cell_type": "markdown",
   "metadata": {
    "papermill": {
     "duration": 0.094809,
     "end_time": "2020-11-13T11:58:06.010322",
     "exception": false,
     "start_time": "2020-11-13T11:58:05.915513",
     "status": "completed"
    },
    "tags": []
   },
   "source": [
    "## Step 4"
   ]
  },
  {
   "cell_type": "code",
   "execution_count": 45,
   "metadata": {
    "execution": {
     "iopub.execute_input": "2020-11-13T11:58:06.215499Z",
     "iopub.status.busy": "2020-11-13T11:58:06.214562Z",
     "iopub.status.idle": "2020-11-13T11:58:06.217487Z",
     "shell.execute_reply": "2020-11-13T11:58:06.216998Z"
    },
    "papermill": {
     "duration": 0.109737,
     "end_time": "2020-11-13T11:58:06.217590",
     "exception": false,
     "start_time": "2020-11-13T11:58:06.107853",
     "status": "completed"
    },
    "tags": []
   },
   "outputs": [],
   "source": [
    "from tensorflow.keras.preprocessing.text import Tokenizer"
   ]
  },
  {
   "cell_type": "code",
   "execution_count": 46,
   "metadata": {
    "execution": {
     "iopub.execute_input": "2020-11-13T11:58:06.455658Z",
     "iopub.status.busy": "2020-11-13T11:58:06.450507Z",
     "iopub.status.idle": "2020-11-13T11:59:10.444474Z",
     "shell.execute_reply": "2020-11-13T11:59:10.445128Z"
    },
    "papermill": {
     "duration": 64.131181,
     "end_time": "2020-11-13T11:59:10.445280",
     "exception": false,
     "start_time": "2020-11-13T11:58:06.314099",
     "status": "completed"
    },
    "tags": []
   },
   "outputs": [
    {
     "name": "stdout",
     "output_type": "stream",
     "text": [
      "['weight solid powerful core spice bake apple flavor france alsace alsace domaine marcel deiss', 'structure develope wine need age france alsace alsace domaine marcel deiss', 'drink france alsace alsace domaine marcel deiss']\n"
     ]
    }
   ],
   "source": [
    "# tokenize (lemmatize and filter stop words) corpus \n",
    "sent_oversample_corpus1 = [' '.join(tokenizer(doc)) for doc in sent_oversample_corpus] \n",
    "print(sent_oversample_corpus1[-3:])"
   ]
  },
  {
   "cell_type": "code",
   "execution_count": 47,
   "metadata": {
    "execution": {
     "iopub.execute_input": "2020-11-13T11:59:10.668459Z",
     "iopub.status.busy": "2020-11-13T11:59:10.658158Z",
     "iopub.status.idle": "2020-11-13T11:59:16.186051Z",
     "shell.execute_reply": "2020-11-13T11:59:16.187654Z"
    },
    "papermill": {
     "duration": 5.648592,
     "end_time": "2020-11-13T11:59:16.187873",
     "exception": false,
     "start_time": "2020-11-13T11:59:10.539281",
     "status": "completed"
    },
    "tags": []
   },
   "outputs": [
    {
     "name": "stdout",
     "output_type": "stream",
     "text": [
      "vocab size (number of unique words + 1) is 39563\n"
     ]
    }
   ],
   "source": [
    "sequence_tokenizer = Tokenizer()\n",
    "sequence_tokenizer.fit_on_texts(sent_oversample_corpus1)\n",
    "\n",
    "words_indices = sequence_tokenizer.word_index\n",
    "\n",
    "print('vocab size (number of unique words + 1) is {}'.format(len(words_indices) + 1))  \n",
    "# Adding 1 because of reserved 0 index"
   ]
  },
  {
   "cell_type": "code",
   "execution_count": null,
   "metadata": {
    "papermill": {
     "duration": 0.10455,
     "end_time": "2020-11-13T11:59:16.390593",
     "exception": false,
     "start_time": "2020-11-13T11:59:16.286043",
     "status": "completed"
    },
    "tags": []
   },
   "outputs": [],
   "source": []
  },
  {
   "cell_type": "code",
   "execution_count": 48,
   "metadata": {
    "execution": {
     "iopub.execute_input": "2020-11-13T11:59:16.605596Z",
     "iopub.status.busy": "2020-11-13T11:59:16.595327Z",
     "iopub.status.idle": "2020-11-13T11:59:21.301309Z",
     "shell.execute_reply": "2020-11-13T11:59:21.302257Z"
    },
    "papermill": {
     "duration": 4.813041,
     "end_time": "2020-11-13T11:59:21.302438",
     "exception": false,
     "start_time": "2020-11-13T11:59:16.489397",
     "status": "completed"
    },
    "tags": []
   },
   "outputs": [
    {
     "name": "stdout",
     "output_type": "stream",
     "text": [
      "weight solid powerful core spice bake apple flavor france alsace alsace domaine marcel deiss\n",
      "\n",
      "[211, 209, 280, 212, 30, 133, 52, 7, 9, 99, 99, 80, 4049, 7437]\n"
     ]
    }
   ],
   "source": [
    "sent_oversample_corpus2 = sequence_tokenizer.texts_to_sequences(sent_oversample_corpus1)\n",
    "print(sent_oversample_corpus1[-3])\n",
    "print()\n",
    "print(sent_oversample_corpus2[-3])"
   ]
  },
  {
   "cell_type": "markdown",
   "metadata": {
    "papermill": {
     "duration": 0.095408,
     "end_time": "2020-11-13T11:59:21.494818",
     "exception": false,
     "start_time": "2020-11-13T11:59:21.399410",
     "status": "completed"
    },
    "tags": []
   },
   "source": [
    "## Padding: All wine review won't have the same number of words, for this reason, we will use a sequence length equal to the number of words the review with the maximum number of words has. For review word count lesser than this, we will fill (pad) with zeros."
   ]
  },
  {
   "cell_type": "code",
   "execution_count": 49,
   "metadata": {
    "execution": {
     "iopub.execute_input": "2020-11-13T11:59:21.697441Z",
     "iopub.status.busy": "2020-11-13T11:59:21.696703Z",
     "iopub.status.idle": "2020-11-13T11:59:21.746457Z",
     "shell.execute_reply": "2020-11-13T11:59:21.745926Z"
    },
    "papermill": {
     "duration": 0.153346,
     "end_time": "2020-11-13T11:59:21.746562",
     "exception": false,
     "start_time": "2020-11-13T11:59:21.593216",
     "status": "completed"
    },
    "tags": []
   },
   "outputs": [],
   "source": [
    "from keras.preprocessing.sequence import pad_sequences"
   ]
  },
  {
   "cell_type": "code",
   "execution_count": 50,
   "metadata": {
    "execution": {
     "iopub.execute_input": "2020-11-13T11:59:21.955300Z",
     "iopub.status.busy": "2020-11-13T11:59:21.950186Z",
     "iopub.status.idle": "2020-11-13T11:59:23.599558Z",
     "shell.execute_reply": "2020-11-13T11:59:23.599037Z"
    },
    "papermill": {
     "duration": 1.757806,
     "end_time": "2020-11-13T11:59:23.599668",
     "exception": false,
     "start_time": "2020-11-13T11:59:21.841862",
     "status": "completed"
    },
    "tags": []
   },
   "outputs": [
    {
     "data": {
      "text/plain": [
       "array([ 211,  209,  280,  212,   30,  133,   52,    7,    9,   99,   99,\n",
       "         80, 4049, 7437,    0,    0,    0,    0,    0,    0,    0,    0,\n",
       "          0,    0,    0,    0,    0,    0,    0,    0,    0,    0,    0,\n",
       "          0,    0,    0,    0,    0,    0,    0,    0,    0,    0,    0,\n",
       "          0,    0,    0,    0,    0,    0,    0,    0,    0,    0,    0,\n",
       "          0,    0,    0,    0,    0,    0,    0,    0,    0,    0,    0,\n",
       "          0,    0,    0,    0,    0,    0,    0,    0,    0,    0,    0,\n",
       "          0,    0,    0,    0,    0,    0,    0,    0,    0,    0],\n",
       "      dtype=int32)"
      ]
     },
     "execution_count": 50,
     "metadata": {},
     "output_type": "execute_result"
    }
   ],
   "source": [
    "sent_oversample_corpus3 = pad_sequences(sent_oversample_corpus2, padding='post')\n",
    "sent_oversample_corpus3[-3]"
   ]
  },
  {
   "cell_type": "markdown",
   "metadata": {
    "papermill": {
     "duration": 0.096179,
     "end_time": "2020-11-13T11:59:23.792018",
     "exception": false,
     "start_time": "2020-11-13T11:59:23.695839",
     "status": "completed"
    },
    "tags": []
   },
   "source": [
    "## Training word2vec"
   ]
  },
  {
   "cell_type": "code",
   "execution_count": 51,
   "metadata": {
    "execution": {
     "iopub.execute_input": "2020-11-13T11:59:24.026594Z",
     "iopub.status.busy": "2020-11-13T11:59:24.016484Z",
     "iopub.status.idle": "2020-11-13T12:00:26.452409Z",
     "shell.execute_reply": "2020-11-13T12:00:26.453169Z"
    },
    "papermill": {
     "duration": 62.563913,
     "end_time": "2020-11-13T12:00:26.453356",
     "exception": false,
     "start_time": "2020-11-13T11:59:23.889443",
     "status": "completed"
    },
    "tags": []
   },
   "outputs": [
    {
     "name": "stdout",
     "output_type": "stream",
     "text": [
      "[['pineapple', 'rind', 'lemon', 'pith', 'orange', 'blossom', 'start', 'aroma', 'palate', 'bite', 'opulent', 'note', 'honey', 'drizzle', 'guava', 'mango', 'way', 'slightly', 'astringent', 'semidry', 'finish', 'united', 'states', 'america', 'reserve', 'late', 'harvest', 'michigan', 'lake', 'michigan', 'shore', 'julian'], ['like', 'regular', 'bottle', 'come', 'rough', 'tannic', 'rustic', 'earthy', 'herbal', 'characteristic', 'nonetheless', 'think', 'pleasantly', 'unfussy', 'country', 'wine', 'companion', 'hearty', 'winter', 'stew', 'united', 'states', 'america', 'vintner', 'reserve', 'wild', 'child', 'block', 'oregon', 'willamette', 'valley', 'willamette', 'valley', 'sweet', 'cheeks']]\n"
     ]
    }
   ],
   "source": [
    "sent_oversample_corpus4 = [tokenizer(doc) for doc in sent_oversample_corpus] # gets corpus as a list of lists\n",
    "print(sent_oversample_corpus4[:2])"
   ]
  },
  {
   "cell_type": "code",
   "execution_count": 52,
   "metadata": {
    "execution": {
     "iopub.execute_input": "2020-11-13T12:00:26.701633Z",
     "iopub.status.busy": "2020-11-13T12:00:26.681127Z",
     "iopub.status.idle": "2020-11-13T12:02:02.362819Z",
     "shell.execute_reply": "2020-11-13T12:02:02.363569Z"
    },
    "papermill": {
     "duration": 95.814296,
     "end_time": "2020-11-13T12:02:02.363754",
     "exception": false,
     "start_time": "2020-11-13T12:00:26.549458",
     "status": "completed"
    },
    "tags": []
   },
   "outputs": [
    {
     "name": "stdout",
     "output_type": "stream",
     "text": [
      "Word2Vec(vocab=39562, size=300, alpha=0.025)\n"
     ]
    }
   ],
   "source": [
    "# trains sent_oversample_corpus2 on Word2Vec. For sent_oversample_corpus2, min_count of 5 and iter (epoch) of 10 \n",
    "# seems to be the best\n",
    "sent_w2v_model = Word2Vec(sent_oversample_corpus4, size=300, min_count=1, iter=10)\n",
    "\n",
    "print(sent_w2v_model) # sumarizes the word2vec"
   ]
  },
  {
   "cell_type": "code",
   "execution_count": 53,
   "metadata": {
    "execution": {
     "iopub.execute_input": "2020-11-13T12:02:02.562176Z",
     "iopub.status.busy": "2020-11-13T12:02:02.561040Z",
     "iopub.status.idle": "2020-11-13T12:02:02.562944Z",
     "shell.execute_reply": "2020-11-13T12:02:02.563472Z"
    },
    "papermill": {
     "duration": 0.103608,
     "end_time": "2020-11-13T12:02:02.563594",
     "exception": false,
     "start_time": "2020-11-13T12:02:02.459986",
     "status": "completed"
    },
    "tags": []
   },
   "outputs": [],
   "source": [
    "# getting the word2vec embeddings (vectors) of the corpus as input array\n",
    "#words_vectors = np.array([get_doc_vector(sent_w2v_model, doc) for doc in sent_oversample_corpus2])"
   ]
  },
  {
   "cell_type": "code",
   "execution_count": 54,
   "metadata": {
    "execution": {
     "iopub.execute_input": "2020-11-13T12:02:02.763911Z",
     "iopub.status.busy": "2020-11-13T12:02:02.763312Z",
     "iopub.status.idle": "2020-11-13T12:02:02.768386Z",
     "shell.execute_reply": "2020-11-13T12:02:02.768978Z"
    },
    "papermill": {
     "duration": 0.10761,
     "end_time": "2020-11-13T12:02:02.769097",
     "exception": false,
     "start_time": "2020-11-13T12:02:02.661487",
     "status": "completed"
    },
    "tags": []
   },
   "outputs": [
    {
     "data": {
      "text/plain": [
       "(300,)"
      ]
     },
     "execution_count": 54,
     "metadata": {},
     "output_type": "execute_result"
    }
   ],
   "source": [
    "sent_w2v_model['pineapple'].shape # confirms the dimension of our embedding"
   ]
  },
  {
   "cell_type": "markdown",
   "metadata": {
    "papermill": {
     "duration": 0.103989,
     "end_time": "2020-11-13T12:02:02.971233",
     "exception": false,
     "start_time": "2020-11-13T12:02:02.867244",
     "status": "completed"
    },
    "tags": []
   },
   "source": [
    "### Let's see some Word2Vec magic to boost our confidence in our trained word2vec model"
   ]
  },
  {
   "cell_type": "code",
   "execution_count": 55,
   "metadata": {
    "execution": {
     "iopub.execute_input": "2020-11-13T12:02:03.174283Z",
     "iopub.status.busy": "2020-11-13T12:02:03.172866Z",
     "iopub.status.idle": "2020-11-13T12:02:03.235399Z",
     "shell.execute_reply": "2020-11-13T12:02:03.235886Z"
    },
    "papermill": {
     "duration": 0.166973,
     "end_time": "2020-11-13T12:02:03.236031",
     "exception": false,
     "start_time": "2020-11-13T12:02:03.069058",
     "status": "completed"
    },
    "tags": []
   },
   "outputs": [
    {
     "data": {
      "text/plain": [
       "'italy'"
      ]
     },
     "execution_count": 55,
     "metadata": {},
     "output_type": "execute_result"
    }
   ],
   "source": [
    "# picking out the odd word\n",
    "sent_w2v_model.wv.doesnt_match(['cherry', 'italy', 'apple', 'pineapple', 'tangerine'])"
   ]
  },
  {
   "cell_type": "code",
   "execution_count": 56,
   "metadata": {
    "execution": {
     "iopub.execute_input": "2020-11-13T12:02:03.452100Z",
     "iopub.status.busy": "2020-11-13T12:02:03.451347Z",
     "iopub.status.idle": "2020-11-13T12:02:03.455365Z",
     "shell.execute_reply": "2020-11-13T12:02:03.455854Z"
    },
    "papermill": {
     "duration": 0.118307,
     "end_time": "2020-11-13T12:02:03.455987",
     "exception": false,
     "start_time": "2020-11-13T12:02:03.337680",
     "status": "completed"
    },
    "tags": []
   },
   "outputs": [
    {
     "data": {
      "text/plain": [
       "'france'"
      ]
     },
     "execution_count": 56,
     "metadata": {},
     "output_type": "execute_result"
    }
   ],
   "source": [
    "# picking out the odd word\n",
    "sent_w2v_model.wv.doesnt_match(['arizona', 'france', 'michigan', 'texas', 'pennsylvania'])"
   ]
  },
  {
   "cell_type": "code",
   "execution_count": 57,
   "metadata": {
    "execution": {
     "iopub.execute_input": "2020-11-13T12:02:03.697366Z",
     "iopub.status.busy": "2020-11-13T12:02:03.696482Z",
     "iopub.status.idle": "2020-11-13T12:02:03.707140Z",
     "shell.execute_reply": "2020-11-13T12:02:03.706644Z"
    },
    "papermill": {
     "duration": 0.145581,
     "end_time": "2020-11-13T12:02:03.707246",
     "exception": false,
     "start_time": "2020-11-13T12:02:03.561665",
     "status": "completed"
    },
    "tags": []
   },
   "outputs": [
    {
     "data": {
      "text/plain": [
       "'Estremadura'"
      ]
     },
     "execution_count": 57,
     "metadata": {},
     "output_type": "execute_result"
    }
   ],
   "source": [
    "# let's see a random province in Portugal\n",
    "balanced_df[balanced_df['country'] == 'Portugal']['province'].unique()[0]"
   ]
  },
  {
   "cell_type": "code",
   "execution_count": 58,
   "metadata": {
    "execution": {
     "iopub.execute_input": "2020-11-13T12:02:03.933669Z",
     "iopub.status.busy": "2020-11-13T12:02:03.932767Z",
     "iopub.status.idle": "2020-11-13T12:02:03.938522Z",
     "shell.execute_reply": "2020-11-13T12:02:03.939122Z"
    },
    "papermill": {
     "duration": 0.133359,
     "end_time": "2020-11-13T12:02:03.939247",
     "exception": false,
     "start_time": "2020-11-13T12:02:03.805888",
     "status": "completed"
    },
    "tags": []
   },
   "outputs": [
    {
     "data": {
      "text/plain": [
       "array(['British Columbia', 'Ontario'], dtype=object)"
      ]
     },
     "execution_count": 58,
     "metadata": {},
     "output_type": "execute_result"
    }
   ],
   "source": [
    "#provinces in Canada\n",
    "balanced_df[balanced_df['country'] == 'Canada']['province'].unique()"
   ]
  },
  {
   "cell_type": "code",
   "execution_count": 59,
   "metadata": {
    "execution": {
     "iopub.execute_input": "2020-11-13T12:02:04.145732Z",
     "iopub.status.busy": "2020-11-13T12:02:04.144334Z",
     "iopub.status.idle": "2020-11-13T12:02:04.154143Z",
     "shell.execute_reply": "2020-11-13T12:02:04.154702Z"
    },
    "papermill": {
     "duration": 0.115986,
     "end_time": "2020-11-13T12:02:04.154830",
     "exception": false,
     "start_time": "2020-11-13T12:02:04.038844",
     "status": "completed"
    },
    "tags": []
   },
   "outputs": [
    {
     "name": "stdout",
     "output_type": "stream",
     "text": [
      "[('canada', 0.5529643893241882), ('germany', 0.4322347640991211), ('emphasize', 0.4089052677154541), ('lip', 0.361308753490448), ('austria', 0.35200411081314087), ('balanced', 0.3435593843460083), ('stylish', 0.3405321538448334), ('reverberate', 0.3393785059452057), ('capture', 0.33905303478240967), ('hedgerow', 0.3382529318332672)]\n"
     ]
    }
   ],
   "source": [
    "# just like king - man + woman = queen, we want to prove that portugal - estremadura + ontario = canada\n",
    "print(sent_w2v_model.wv.most_similar(positive=['portugal', 'ontario'], negative=['estremadura']))"
   ]
  },
  {
   "cell_type": "markdown",
   "metadata": {
    "papermill": {
     "duration": 0.099134,
     "end_time": "2020-11-13T12:02:04.354149",
     "exception": false,
     "start_time": "2020-11-13T12:02:04.255015",
     "status": "completed"
    },
    "tags": []
   },
   "source": [
    "### From the result above, 'Canada' is our model's best answer"
   ]
  },
  {
   "cell_type": "code",
   "execution_count": 60,
   "metadata": {
    "execution": {
     "iopub.execute_input": "2020-11-13T12:02:04.560902Z",
     "iopub.status.busy": "2020-11-13T12:02:04.559628Z",
     "iopub.status.idle": "2020-11-13T12:02:04.569491Z",
     "shell.execute_reply": "2020-11-13T12:02:04.569014Z"
    },
    "papermill": {
     "duration": 0.115346,
     "end_time": "2020-11-13T12:02:04.569591",
     "exception": false,
     "start_time": "2020-11-13T12:02:04.454245",
     "status": "completed"
    },
    "tags": []
   },
   "outputs": [
    {
     "name": "stdout",
     "output_type": "stream",
     "text": [
      "[('scent', 0.7862091064453125), ('aromas', 0.7494959831237793), ('bouquet', 0.6748150587081909), ('note', 0.6163897514343262), ('nose', 0.5877629518508911), ('smell', 0.5817331075668335), ('flavors', 0.5766676068305969), ('fragrance', 0.558698832988739), ('whiff', 0.551872730255127), ('tone', 0.5374629497528076)]\n"
     ]
    }
   ],
   "source": [
    "# let's see the most similar words to 'aroma'\n",
    "print(sent_w2v_model.wv.most_similar('aroma'))"
   ]
  },
  {
   "cell_type": "code",
   "execution_count": 61,
   "metadata": {
    "execution": {
     "iopub.execute_input": "2020-11-13T12:02:04.777207Z",
     "iopub.status.busy": "2020-11-13T12:02:04.775920Z",
     "iopub.status.idle": "2020-11-13T12:02:04.785888Z",
     "shell.execute_reply": "2020-11-13T12:02:04.786534Z"
    },
    "papermill": {
     "duration": 0.115287,
     "end_time": "2020-11-13T12:02:04.786717",
     "exception": false,
     "start_time": "2020-11-13T12:02:04.671430",
     "status": "completed"
    },
    "tags": []
   },
   "outputs": [
    {
     "name": "stdout",
     "output_type": "stream",
     "text": [
      "[('tangerine', 0.6658437252044678), ('nasturtium', 0.5994797945022583), ('lemon', 0.5969231724739075), ('citrus', 0.5962605476379395), ('watermelon', 0.5245403051376343), ('nectarine', 0.5225023031234741), ('santella', 0.5199488401412964), ('grapefruit', 0.4952017664909363), ('lime', 0.4873845875263214), ('lemongrass', 0.48141592741012573)]\n"
     ]
    }
   ],
   "source": [
    "# let's see the most similar words to 'orange'\n",
    "print(sent_w2v_model.wv.most_similar('orange'))"
   ]
  },
  {
   "cell_type": "markdown",
   "metadata": {
    "papermill": {
     "duration": 0.100282,
     "end_time": "2020-11-13T12:02:04.996041",
     "exception": false,
     "start_time": "2020-11-13T12:02:04.895759",
     "status": "completed"
    },
    "tags": []
   },
   "source": [
    "### Word2Vec is powerful in capturing contexual semantics of words. Our Word2Vec model is doing that just right to a large extent."
   ]
  },
  {
   "cell_type": "code",
   "execution_count": null,
   "metadata": {
    "papermill": {
     "duration": 0.103698,
     "end_time": "2020-11-13T12:02:05.200064",
     "exception": false,
     "start_time": "2020-11-13T12:02:05.096366",
     "status": "completed"
    },
    "tags": []
   },
   "outputs": [],
   "source": []
  },
  {
   "cell_type": "code",
   "execution_count": 62,
   "metadata": {
    "execution": {
     "iopub.execute_input": "2020-11-13T12:02:05.408141Z",
     "iopub.status.busy": "2020-11-13T12:02:05.407236Z",
     "iopub.status.idle": "2020-11-13T12:02:05.409707Z",
     "shell.execute_reply": "2020-11-13T12:02:05.410163Z"
    },
    "papermill": {
     "duration": 0.10966,
     "end_time": "2020-11-13T12:02:05.410289",
     "exception": false,
     "start_time": "2020-11-13T12:02:05.300629",
     "status": "completed"
    },
    "tags": []
   },
   "outputs": [],
   "source": [
    "assert len(words_indices) == len(sent_w2v_model.wv.vocab)"
   ]
  },
  {
   "cell_type": "markdown",
   "metadata": {
    "papermill": {
     "duration": 0.100601,
     "end_time": "2020-11-13T12:02:05.612294",
     "exception": false,
     "start_time": "2020-11-13T12:02:05.511693",
     "status": "completed"
    },
    "tags": []
   },
   "source": [
    "## Modelling"
   ]
  },
  {
   "cell_type": "markdown",
   "metadata": {
    "papermill": {
     "duration": 0.100466,
     "end_time": "2020-11-13T12:02:05.814554",
     "exception": false,
     "start_time": "2020-11-13T12:02:05.714088",
     "status": "completed"
    },
    "tags": []
   },
   "source": [
    "### Defining a function that creates an embedding matrix"
   ]
  },
  {
   "cell_type": "code",
   "execution_count": 63,
   "metadata": {
    "execution": {
     "iopub.execute_input": "2020-11-13T12:02:06.023217Z",
     "iopub.status.busy": "2020-11-13T12:02:06.022323Z",
     "iopub.status.idle": "2020-11-13T12:02:06.024710Z",
     "shell.execute_reply": "2020-11-13T12:02:06.025246Z"
    },
    "papermill": {
     "duration": 0.109789,
     "end_time": "2020-11-13T12:02:06.025367",
     "exception": false,
     "start_time": "2020-11-13T12:02:05.915578",
     "status": "completed"
    },
    "tags": []
   },
   "outputs": [],
   "source": [
    "def get_embedding_matrix(model, word_index):\n",
    "    vocab_size = len(word_index) + 1\n",
    "    embedding_dim = model.wv.vector_size\n",
    "    embedding_matrix = np.zeros((vocab_size, embedding_dim))\n",
    "    \n",
    "    for word in model.wv.vocab:\n",
    "        ind = word_index[word]\n",
    "        embedding_matrix[ind] = model[word]\n",
    "        \n",
    "    return embedding_matrix"
   ]
  },
  {
   "cell_type": "code",
   "execution_count": 64,
   "metadata": {
    "execution": {
     "iopub.execute_input": "2020-11-13T12:02:06.233332Z",
     "iopub.status.busy": "2020-11-13T12:02:06.232248Z",
     "iopub.status.idle": "2020-11-13T12:02:06.603735Z",
     "shell.execute_reply": "2020-11-13T12:02:06.604218Z"
    },
    "papermill": {
     "duration": 0.478378,
     "end_time": "2020-11-13T12:02:06.604362",
     "exception": false,
     "start_time": "2020-11-13T12:02:06.125984",
     "status": "completed"
    },
    "tags": []
   },
   "outputs": [],
   "source": [
    "embedding_matrix = get_embedding_matrix(sent_w2v_model, words_indices)"
   ]
  },
  {
   "cell_type": "code",
   "execution_count": 65,
   "metadata": {
    "execution": {
     "iopub.execute_input": "2020-11-13T12:02:06.812523Z",
     "iopub.status.busy": "2020-11-13T12:02:06.811690Z",
     "iopub.status.idle": "2020-11-13T12:02:06.815006Z",
     "shell.execute_reply": "2020-11-13T12:02:06.815567Z"
    },
    "papermill": {
     "duration": 0.109655,
     "end_time": "2020-11-13T12:02:06.815694",
     "exception": false,
     "start_time": "2020-11-13T12:02:06.706039",
     "status": "completed"
    },
    "tags": []
   },
   "outputs": [
    {
     "data": {
      "text/plain": [
       "(39563, 300)"
      ]
     },
     "execution_count": 65,
     "metadata": {},
     "output_type": "execute_result"
    }
   ],
   "source": [
    "embedding_matrix.shape"
   ]
  },
  {
   "cell_type": "markdown",
   "metadata": {
    "papermill": {
     "duration": 0.100975,
     "end_time": "2020-11-13T12:02:07.018062",
     "exception": false,
     "start_time": "2020-11-13T12:02:06.917087",
     "status": "completed"
    },
    "tags": []
   },
   "source": [
    "### defining custom fbeta function"
   ]
  },
  {
   "cell_type": "code",
   "execution_count": 66,
   "metadata": {
    "execution": {
     "iopub.execute_input": "2020-11-13T12:02:07.236169Z",
     "iopub.status.busy": "2020-11-13T12:02:07.235220Z",
     "iopub.status.idle": "2020-11-13T12:02:07.238495Z",
     "shell.execute_reply": "2020-11-13T12:02:07.237702Z"
    },
    "papermill": {
     "duration": 0.118851,
     "end_time": "2020-11-13T12:02:07.238616",
     "exception": false,
     "start_time": "2020-11-13T12:02:07.119765",
     "status": "completed"
    },
    "tags": []
   },
   "outputs": [],
   "source": [
    "def multi_class_fbeta(ytrue , ypred, beta=1, weighted=True, raw=False, epsilon=1e-7):\n",
    "    beta_squared = beta**2\n",
    "\n",
    "    ytrue = tf.cast(ytrue, tf.float32)\n",
    "    ypred= tf.cast(ypred, tf.float32)\n",
    "    \n",
    "    max_prob = tf.reduce_max(ypred, axis=-1, keepdims=True)\n",
    "    ypred = tf.cast(tf.equal(ypred, max_prob), tf.float32)\n",
    "        \n",
    "    tp = tf.reduce_sum(ytrue*ypred, axis=0)\n",
    "    predicted_positive = tf.reduce_sum(ypred, axis=0)\n",
    "    actual_positive = tf.reduce_sum(ytrue, axis=0)\n",
    "    \n",
    "    precision = tp/(predicted_positive+epsilon)\n",
    "    recall = tp/(actual_positive+epsilon)\n",
    "\n",
    "    fb = (1+beta_squared)*precision*recall / (beta_squared*precision + recall + epsilon)\n",
    "    \n",
    "    if raw:\n",
    "        return fb\n",
    "    \n",
    "    if weighted:\n",
    "        supports = tf.reduce_sum(ytrue, axis=0)\n",
    "        return tf.reduce_sum(fb*supports / tf.reduce_sum(supports))\n",
    "\n",
    "    return tf.reduce_mean(fb)"
   ]
  },
  {
   "cell_type": "markdown",
   "metadata": {
    "papermill": {
     "duration": 0.102194,
     "end_time": "2020-11-13T12:02:07.443417",
     "exception": false,
     "start_time": "2020-11-13T12:02:07.341223",
     "status": "completed"
    },
    "tags": []
   },
   "source": [
    "### setting class weights"
   ]
  },
  {
   "cell_type": "code",
   "execution_count": 67,
   "metadata": {
    "execution": {
     "iopub.execute_input": "2020-11-13T12:02:07.657839Z",
     "iopub.status.busy": "2020-11-13T12:02:07.656914Z",
     "iopub.status.idle": "2020-11-13T12:02:07.659899Z",
     "shell.execute_reply": "2020-11-13T12:02:07.659426Z"
    },
    "papermill": {
     "duration": 0.109543,
     "end_time": "2020-11-13T12:02:07.660017",
     "exception": false,
     "start_time": "2020-11-13T12:02:07.550474",
     "status": "completed"
    },
    "tags": []
   },
   "outputs": [],
   "source": [
    "from sklearn.utils import class_weight"
   ]
  },
  {
   "cell_type": "code",
   "execution_count": 68,
   "metadata": {
    "execution": {
     "iopub.execute_input": "2020-11-13T12:02:07.915899Z",
     "iopub.status.busy": "2020-11-13T12:02:07.914981Z",
     "iopub.status.idle": "2020-11-13T12:02:07.928497Z",
     "shell.execute_reply": "2020-11-13T12:02:07.928025Z"
    },
    "papermill": {
     "duration": 0.16513,
     "end_time": "2020-11-13T12:02:07.928598",
     "exception": false,
     "start_time": "2020-11-13T12:02:07.763468",
     "status": "completed"
    },
    "tags": []
   },
   "outputs": [],
   "source": [
    "class_weights = class_weight.compute_class_weight('balanced', np.arange(20), sent_oversample_labels)\n",
    "class_weights = {k: v for k, v in enumerate(class_weights)}"
   ]
  },
  {
   "cell_type": "code",
   "execution_count": 69,
   "metadata": {
    "execution": {
     "iopub.execute_input": "2020-11-13T12:02:08.137899Z",
     "iopub.status.busy": "2020-11-13T12:02:08.137233Z",
     "iopub.status.idle": "2020-11-13T12:02:08.140207Z",
     "shell.execute_reply": "2020-11-13T12:02:08.141169Z"
    },
    "papermill": {
     "duration": 0.110219,
     "end_time": "2020-11-13T12:02:08.141343",
     "exception": false,
     "start_time": "2020-11-13T12:02:08.031124",
     "status": "completed"
    },
    "tags": []
   },
   "outputs": [
    {
     "name": "stdout",
     "output_type": "stream",
     "text": [
      "{0: 1.1543600867678958, 1: 0.8427364864864865, 2: 0.6791797838849656, 3: 0.9919721635392071, 4: 1.013766827533655, 5: 0.9846305661773775, 6: 2.015248674577127, 7: 0.6014466546112116, 8: 1.0321179208688906, 9: 0.8922870556673373, 10: 2.009667673716012, 11: 1.5383310849874734, 12: 0.8669925057021831, 13: 1.0740581270182992, 14: 0.6235762831028826, 15: 1.3906620209059233, 16: 0.7173256649892163, 17: 1.4377521613832853, 18: 1.3229035465694399, 19: 1.2257985257985258}\n"
     ]
    }
   ],
   "source": [
    "print(class_weights)"
   ]
  },
  {
   "cell_type": "code",
   "execution_count": 70,
   "metadata": {
    "execution": {
     "iopub.execute_input": "2020-11-13T12:02:08.371097Z",
     "iopub.status.busy": "2020-11-13T12:02:08.370252Z",
     "iopub.status.idle": "2020-11-13T12:02:08.372912Z",
     "shell.execute_reply": "2020-11-13T12:02:08.373374Z"
    },
    "papermill": {
     "duration": 0.112863,
     "end_time": "2020-11-13T12:02:08.373497",
     "exception": false,
     "start_time": "2020-11-13T12:02:08.260634",
     "status": "completed"
    },
    "tags": []
   },
   "outputs": [],
   "source": [
    "# importing deep learning libraries\n",
    "from tensorflow.keras.layers import Embedding, Dense, GlobalMaxPool1D, GlobalAvgPool1D, Conv1D, Dropout\n",
    "from tensorflow.keras.models import Sequential\n",
    "from tensorflow.keras.wrappers.scikit_learn import KerasClassifier\n",
    "from tensorflow.keras.callbacks import EarlyStopping\n",
    "from sklearn.model_selection import cross_val_score, RepeatedStratifiedKFold"
   ]
  },
  {
   "cell_type": "markdown",
   "metadata": {
    "papermill": {
     "duration": 0.103657,
     "end_time": "2020-11-13T12:02:08.580192",
     "exception": false,
     "start_time": "2020-11-13T12:02:08.476535",
     "status": "completed"
    },
    "tags": []
   },
   "source": [
    "### Defining a function to build a neural network"
   ]
  },
  {
   "cell_type": "code",
   "execution_count": 71,
   "metadata": {
    "execution": {
     "iopub.execute_input": "2020-11-13T12:02:08.790831Z",
     "iopub.status.busy": "2020-11-13T12:02:08.790017Z",
     "iopub.status.idle": "2020-11-13T12:02:08.793912Z",
     "shell.execute_reply": "2020-11-13T12:02:08.793451Z"
    },
    "papermill": {
     "duration": 0.110868,
     "end_time": "2020-11-13T12:02:08.794035",
     "exception": false,
     "start_time": "2020-11-13T12:02:08.683167",
     "status": "completed"
    },
    "tags": []
   },
   "outputs": [
    {
     "data": {
      "text/plain": [
       "(159648, 87)"
      ]
     },
     "execution_count": 71,
     "metadata": {},
     "output_type": "execute_result"
    }
   ],
   "source": [
    "sent_oversample_corpus3.shape"
   ]
  },
  {
   "cell_type": "code",
   "execution_count": 72,
   "metadata": {
    "execution": {
     "iopub.execute_input": "2020-11-13T12:02:09.013173Z",
     "iopub.status.busy": "2020-11-13T12:02:09.012285Z",
     "iopub.status.idle": "2020-11-13T12:02:09.014789Z",
     "shell.execute_reply": "2020-11-13T12:02:09.015356Z"
    },
    "papermill": {
     "duration": 0.116399,
     "end_time": "2020-11-13T12:02:09.015484",
     "exception": false,
     "start_time": "2020-11-13T12:02:08.899085",
     "status": "completed"
    },
    "tags": []
   },
   "outputs": [],
   "source": [
    "def build_cnn_model():\n",
    "    model = Sequential()\n",
    "    model.add(Embedding(embedding_matrix.shape[0], embedding_matrix.shape[1], \n",
    "                           weights=[embedding_matrix], \n",
    "                           input_length=sent_oversample_corpus3.shape[1],\n",
    "                           mask_zero=True,\n",
    "                           trainable=False))\n",
    "    \n",
    "    model.add(Conv1D(128, 3, activation='relu'))\n",
    "    model.add(Conv1D(128, 3, activation='relu'))\n",
    "    \n",
    "    model.add(GlobalMaxPool1D())\n",
    "    \n",
    "    model.add(Dropout(0.2))\n",
    "    \n",
    "    model.add(Dense(20, activation='softmax'))\n",
    "\n",
    "    model.compile(optimizer='adam',\n",
    "              loss='categorical_crossentropy',\n",
    "              metrics=['accuracy', multi_class_fbeta])\n",
    "\n",
    "    return model"
   ]
  },
  {
   "cell_type": "code",
   "execution_count": 73,
   "metadata": {
    "execution": {
     "iopub.execute_input": "2020-11-13T12:02:09.227439Z",
     "iopub.status.busy": "2020-11-13T12:02:09.226840Z",
     "iopub.status.idle": "2020-11-13T12:02:11.969909Z",
     "shell.execute_reply": "2020-11-13T12:02:11.970558Z"
    },
    "papermill": {
     "duration": 2.851451,
     "end_time": "2020-11-13T12:02:11.970737",
     "exception": false,
     "start_time": "2020-11-13T12:02:09.119286",
     "status": "completed"
    },
    "tags": []
   },
   "outputs": [
    {
     "name": "stdout",
     "output_type": "stream",
     "text": [
      "Model: \"sequential\"\n",
      "_________________________________________________________________\n",
      "Layer (type)                 Output Shape              Param #   \n",
      "=================================================================\n",
      "embedding (Embedding)        (None, 87, 300)           11868900  \n",
      "_________________________________________________________________\n",
      "conv1d (Conv1D)              (None, 85, 128)           115328    \n",
      "_________________________________________________________________\n",
      "conv1d_1 (Conv1D)            (None, 83, 128)           49280     \n",
      "_________________________________________________________________\n",
      "global_max_pooling1d (Global (None, 128)               0         \n",
      "_________________________________________________________________\n",
      "dropout (Dropout)            (None, 128)               0         \n",
      "_________________________________________________________________\n",
      "dense (Dense)                (None, 20)                2580      \n",
      "=================================================================\n",
      "Total params: 12,036,088\n",
      "Trainable params: 167,188\n",
      "Non-trainable params: 11,868,900\n",
      "_________________________________________________________________\n"
     ]
    }
   ],
   "source": [
    "model = build_cnn_model() # builds model\n",
    "\n",
    "model.summary()"
   ]
  },
  {
   "cell_type": "code",
   "execution_count": 74,
   "metadata": {
    "execution": {
     "iopub.execute_input": "2020-11-13T12:02:12.280249Z",
     "iopub.status.busy": "2020-11-13T12:02:12.279402Z",
     "iopub.status.idle": "2020-11-13T12:05:12.405519Z",
     "shell.execute_reply": "2020-11-13T12:05:12.404930Z"
    },
    "papermill": {
     "duration": 180.285748,
     "end_time": "2020-11-13T12:05:12.405626",
     "exception": false,
     "start_time": "2020-11-13T12:02:12.119878",
     "status": "completed"
    },
    "tags": []
   },
   "outputs": [
    {
     "name": "stdout",
     "output_type": "stream",
     "text": [
      "Epoch 1/20\n",
      "936/936 [==============================] - 9s 10ms/step - loss: 0.8329 - accuracy: 0.7344 - multi_class_fbeta: 0.7326 - val_loss: 0.7832 - val_accuracy: 0.7484 - val_multi_class_fbeta: 0.7616\n",
      "Epoch 2/20\n",
      "936/936 [==============================] - 9s 9ms/step - loss: 0.5760 - accuracy: 0.8087 - multi_class_fbeta: 0.8091 - val_loss: 0.7247 - val_accuracy: 0.7678 - val_multi_class_fbeta: 0.7803\n",
      "Epoch 3/20\n",
      "936/936 [==============================] - 9s 10ms/step - loss: 0.5166 - accuracy: 0.8235 - multi_class_fbeta: 0.8242 - val_loss: 0.7620 - val_accuracy: 0.7535 - val_multi_class_fbeta: 0.7742\n",
      "Epoch 4/20\n",
      "936/936 [==============================] - 9s 10ms/step - loss: 0.4744 - accuracy: 0.8358 - multi_class_fbeta: 0.8364 - val_loss: 0.6861 - val_accuracy: 0.7814 - val_multi_class_fbeta: 0.7937\n",
      "Epoch 5/20\n",
      "936/936 [==============================] - 9s 9ms/step - loss: 0.4449 - accuracy: 0.8442 - multi_class_fbeta: 0.8453 - val_loss: 0.7388 - val_accuracy: 0.7660 - val_multi_class_fbeta: 0.7857\n",
      "Epoch 6/20\n",
      "936/936 [==============================] - 9s 9ms/step - loss: 0.4174 - accuracy: 0.8523 - multi_class_fbeta: 0.8531 - val_loss: 0.7196 - val_accuracy: 0.7730 - val_multi_class_fbeta: 0.7922\n",
      "Epoch 7/20\n",
      "936/936 [==============================] - 9s 9ms/step - loss: 0.3957 - accuracy: 0.8590 - multi_class_fbeta: 0.8596 - val_loss: 0.6704 - val_accuracy: 0.7945 - val_multi_class_fbeta: 0.8043\n",
      "Epoch 8/20\n",
      "936/936 [==============================] - 8s 9ms/step - loss: 0.3774 - accuracy: 0.8641 - multi_class_fbeta: 0.8649 - val_loss: 0.7083 - val_accuracy: 0.7866 - val_multi_class_fbeta: 0.7993\n",
      "Epoch 9/20\n",
      "936/936 [==============================] - 9s 9ms/step - loss: 0.3606 - accuracy: 0.8701 - multi_class_fbeta: 0.8711 - val_loss: 0.7496 - val_accuracy: 0.7756 - val_multi_class_fbeta: 0.7912\n",
      "Epoch 10/20\n",
      "936/936 [==============================] - 9s 10ms/step - loss: 0.3443 - accuracy: 0.8745 - multi_class_fbeta: 0.8754 - val_loss: 0.7284 - val_accuracy: 0.7827 - val_multi_class_fbeta: 0.7996\n",
      "Epoch 11/20\n",
      "936/936 [==============================] - 9s 10ms/step - loss: 0.3308 - accuracy: 0.8797 - multi_class_fbeta: 0.8804 - val_loss: 0.7121 - val_accuracy: 0.7920 - val_multi_class_fbeta: 0.8050\n",
      "Epoch 12/20\n",
      "936/936 [==============================] - 9s 9ms/step - loss: 0.3172 - accuracy: 0.8826 - multi_class_fbeta: 0.8832 - val_loss: 0.7425 - val_accuracy: 0.7862 - val_multi_class_fbeta: 0.8022\n",
      "Epoch 13/20\n",
      "936/936 [==============================] - 8s 9ms/step - loss: 0.3062 - accuracy: 0.8865 - multi_class_fbeta: 0.8873 - val_loss: 0.7778 - val_accuracy: 0.7825 - val_multi_class_fbeta: 0.7988\n",
      "Epoch 14/20\n",
      "936/936 [==============================] - 9s 9ms/step - loss: 0.2929 - accuracy: 0.8918 - multi_class_fbeta: 0.8926 - val_loss: 0.7867 - val_accuracy: 0.7828 - val_multi_class_fbeta: 0.8012\n",
      "Epoch 15/20\n",
      "936/936 [==============================] - 9s 10ms/step - loss: 0.2882 - accuracy: 0.8919 - multi_class_fbeta: 0.8926 - val_loss: 0.7653 - val_accuracy: 0.7869 - val_multi_class_fbeta: 0.8014\n",
      "Epoch 16/20\n",
      "936/936 [==============================] - 9s 10ms/step - loss: 0.2760 - accuracy: 0.8962 - multi_class_fbeta: 0.8970 - val_loss: 0.7752 - val_accuracy: 0.7907 - val_multi_class_fbeta: 0.8046\n",
      "Epoch 17/20\n",
      "936/936 [==============================] - 9s 10ms/step - loss: 0.2691 - accuracy: 0.8987 - multi_class_fbeta: 0.8991 - val_loss: 0.7978 - val_accuracy: 0.7873 - val_multi_class_fbeta: 0.8015\n",
      "Epoch 18/20\n",
      "936/936 [==============================] - 9s 9ms/step - loss: 0.2615 - accuracy: 0.9013 - multi_class_fbeta: 0.9017 - val_loss: 0.8171 - val_accuracy: 0.7838 - val_multi_class_fbeta: 0.7990\n",
      "Epoch 19/20\n",
      "936/936 [==============================] - 9s 9ms/step - loss: 0.2532 - accuracy: 0.9037 - multi_class_fbeta: 0.9042 - val_loss: 0.8372 - val_accuracy: 0.7864 - val_multi_class_fbeta: 0.8021\n",
      "Epoch 20/20\n",
      "936/936 [==============================] - 9s 9ms/step - loss: 0.2488 - accuracy: 0.9063 - multi_class_fbeta: 0.9069 - val_loss: 0.8601 - val_accuracy: 0.7854 - val_multi_class_fbeta: 0.7991\n"
     ]
    }
   ],
   "source": [
    "history = model.fit(sent_oversample_corpus3, sent_oversample_labels2,\n",
    "                    epochs=20,\n",
    "                    verbose=True,\n",
    "                    validation_split=0.25,\n",
    "                    batch_size=128,\n",
    "                    class_weight=class_weights)"
   ]
  },
  {
   "cell_type": "markdown",
   "metadata": {
    "papermill": {
     "duration": 1.045503,
     "end_time": "2020-11-13T12:05:14.510710",
     "exception": false,
     "start_time": "2020-11-13T12:05:13.465207",
     "status": "completed"
    },
    "tags": []
   },
   "source": [
    "### defining a function to plot learning curves"
   ]
  },
  {
   "cell_type": "code",
   "execution_count": 75,
   "metadata": {
    "execution": {
     "iopub.execute_input": "2020-11-13T12:05:16.605217Z",
     "iopub.status.busy": "2020-11-13T12:05:16.604454Z",
     "iopub.status.idle": "2020-11-13T12:05:16.607754Z",
     "shell.execute_reply": "2020-11-13T12:05:16.607270Z"
    },
    "papermill": {
     "duration": 1.0526,
     "end_time": "2020-11-13T12:05:16.607855",
     "exception": false,
     "start_time": "2020-11-13T12:05:15.555255",
     "status": "completed"
    },
    "tags": []
   },
   "outputs": [],
   "source": [
    "plt.style.use('ggplot')\n",
    "\n",
    "def plot_history(history):\n",
    "    acc = history.history['accuracy']\n",
    "    val_acc = history.history['val_accuracy']\n",
    "    fbeta = history.history['multi_class_fbeta']\n",
    "    val_fbeta = history.history['val_multi_class_fbeta']\n",
    "    loss = history.history['loss']\n",
    "    val_loss = history.history['val_loss']\n",
    "    epochs = range(1, len(acc)+1)\n",
    "\n",
    "    metrics = {'loss': (loss, val_loss), 'accuracy': (acc, val_acc), 'fbeta': (fbeta, val_fbeta)}\n",
    "    \n",
    "    plt.figure(figsize=(18, 5))\n",
    "    \n",
    "    for i, metric in zip(range(1, 4), list(metrics.keys())):\n",
    "        plt.subplot(1, 3, i)\n",
    "        plt.plot(epochs, metrics[metric][0], 'b', label='Training ' + metric)\n",
    "        plt.plot(epochs, metrics[metric][1], 'r', label='Validation ' + metric)\n",
    "        plt.title('Training and validation ' + metric)\n",
    "        plt.legend()"
   ]
  },
  {
   "cell_type": "code",
   "execution_count": 76,
   "metadata": {
    "execution": {
     "iopub.execute_input": "2020-11-13T12:05:18.906756Z",
     "iopub.status.busy": "2020-11-13T12:05:18.905171Z",
     "iopub.status.idle": "2020-11-13T12:05:19.368793Z",
     "shell.execute_reply": "2020-11-13T12:05:19.369296Z"
    },
    "papermill": {
     "duration": 1.519972,
     "end_time": "2020-11-13T12:05:19.369429",
     "exception": false,
     "start_time": "2020-11-13T12:05:17.849457",
     "status": "completed"
    },
    "tags": []
   },
   "outputs": [
    {
     "data": {
      "image/png": "[encoded data removed]",
      "text/plain": [
       "<Figure size 1296x360 with 3 Axes>"
      ]
     },
     "metadata": {},
     "output_type": "display_data"
    }
   ],
   "source": [
    "plot_history(history)"
   ]
  },
  {
   "cell_type": "code",
   "execution_count": null,
   "metadata": {
    "papermill": {
     "duration": 1.035596,
     "end_time": "2020-11-13T12:05:21.484466",
     "exception": false,
     "start_time": "2020-11-13T12:05:20.448870",
     "status": "completed"
    },
    "tags": []
   },
   "outputs": [],
   "source": []
  },
  {
   "cell_type": "markdown",
   "metadata": {
    "papermill": {
     "duration": 1.052031,
     "end_time": "2020-11-13T12:05:23.572690",
     "exception": false,
     "start_time": "2020-11-13T12:05:22.520659",
     "status": "completed"
    },
    "tags": []
   },
   "source": [
    "### cross validation score (important score to report that is less affected by overfitting)"
   ]
  },
  {
   "cell_type": "code",
   "execution_count": 77,
   "metadata": {
    "execution": {
     "iopub.execute_input": "2020-11-13T12:05:25.649937Z",
     "iopub.status.busy": "2020-11-13T12:05:25.649060Z",
     "iopub.status.idle": "2020-11-13T12:05:25.651705Z",
     "shell.execute_reply": "2020-11-13T12:05:25.651235Z"
    },
    "papermill": {
     "duration": 1.047303,
     "end_time": "2020-11-13T12:05:25.651807",
     "exception": false,
     "start_time": "2020-11-13T12:05:24.604504",
     "status": "completed"
    },
    "tags": []
   },
   "outputs": [],
   "source": [
    "model2 = KerasClassifier(build_fn=build_cnn_model) # build model\n",
    "early_stop = EarlyStopping(monitor='val_loss', min_delta=0, patience=5, verbose=0, mode='min',\\\n",
    "    restore_best_weights=True)"
   ]
  },
  {
   "cell_type": "code",
   "execution_count": 78,
   "metadata": {
    "execution": {
     "iopub.execute_input": "2020-11-13T12:05:27.737456Z",
     "iopub.status.busy": "2020-11-13T12:05:27.736787Z",
     "iopub.status.idle": "2020-11-13T12:05:27.740280Z",
     "shell.execute_reply": "2020-11-13T12:05:27.740892Z"
    },
    "papermill": {
     "duration": 1.043887,
     "end_time": "2020-11-13T12:05:27.741035",
     "exception": false,
     "start_time": "2020-11-13T12:05:26.697148",
     "status": "completed"
    },
    "tags": []
   },
   "outputs": [],
   "source": [
    "# creating a RepeatedStratifiedKFold object. Since we plan using 25% as our test-size, we will use 4 fold cv.\n",
    "# to have a level plain ground for comparing different models, we will be using random state of 1 through out.\n",
    "cv = RepeatedStratifiedKFold(n_splits=4, n_repeats=3, random_state=1)"
   ]
  },
  {
   "cell_type": "markdown",
   "metadata": {
    "papermill": {
     "duration": 1.404417,
     "end_time": "2020-11-13T12:05:30.399721",
     "exception": false,
     "start_time": "2020-11-13T12:05:28.995304",
     "status": "completed"
    },
    "tags": []
   },
   "source": [
    "### setting n_jobs greater than 1 always throw error. After looking up keras and sklearn's related issues in their github repo, it seems it is a bug that needs to be fixed. We have no option but to use njobs=1, although, it will run for long."
   ]
  },
  {
   "cell_type": "code",
   "execution_count": 79,
   "metadata": {
    "execution": {
     "iopub.execute_input": "2020-11-13T12:05:32.539296Z",
     "iopub.status.busy": "2020-11-13T12:05:32.538641Z",
     "iopub.status.idle": "2020-11-13T12:28:53.028094Z",
     "shell.execute_reply": "2020-11-13T12:28:53.028671Z"
    },
    "papermill": {
     "duration": 1401.549489,
     "end_time": "2020-11-13T12:28:53.028818",
     "exception": false,
     "start_time": "2020-11-13T12:05:31.479329",
     "status": "completed"
    },
    "tags": []
   },
   "outputs": [
    {
     "name": "stderr",
     "output_type": "stream",
     "text": [
      "[Parallel(n_jobs=1)]: Using backend SequentialBackend with 1 concurrent workers.\n",
      "[Parallel(n_jobs=1)]: Done  12 out of  12 | elapsed: 23.3min finished\n"
     ]
    }
   ],
   "source": [
    "# getting cross validation scores\n",
    "score = cross_val_score(model2, sent_oversample_corpus3, sent_oversample_labels, scoring='f1_weighted', cv=cv,\\\n",
    "                        n_jobs=1, verbose=1, fit_params={\\\n",
    "                        'epochs': 20, 'batch_size': 128, 'class_weight': class_weights, 'verbose': 0, \\\n",
    "                                                         'callbacks': [early_stop]})"
   ]
  },
  {
   "cell_type": "code",
   "execution_count": 80,
   "metadata": {
    "execution": {
     "iopub.execute_input": "2020-11-13T12:28:55.112008Z",
     "iopub.status.busy": "2020-11-13T12:28:55.111176Z",
     "iopub.status.idle": "2020-11-13T12:28:55.117239Z",
     "shell.execute_reply": "2020-11-13T12:28:55.116619Z"
    },
    "papermill": {
     "duration": 1.05158,
     "end_time": "2020-11-13T12:28:55.117356",
     "exception": false,
     "start_time": "2020-11-13T12:28:54.065776",
     "status": "completed"
    },
    "tags": []
   },
   "outputs": [
    {
     "name": "stdout",
     "output_type": "stream",
     "text": [
      "[0.84971502 0.85129847 0.8525017  0.85044475 0.85335614 0.85502505\n",
      " 0.85022352 0.84982055 0.84995484 0.85566338 0.85080444 0.85052362]\n"
     ]
    },
    {
     "data": {
      "text/plain": [
       "0.851610956258059"
      ]
     },
     "execution_count": 80,
     "metadata": {},
     "output_type": "execute_result"
    }
   ],
   "source": [
    "print(score)\n",
    "np.mean(score) # reporting the mean score"
   ]
  },
  {
   "cell_type": "code",
   "execution_count": null,
   "metadata": {
    "papermill": {
     "duration": 1.103411,
     "end_time": "2020-11-13T12:28:57.443528",
     "exception": false,
     "start_time": "2020-11-13T12:28:56.340117",
     "status": "completed"
    },
    "tags": []
   },
   "outputs": [],
   "source": []
  },
  {
   "cell_type": "markdown",
   "metadata": {
    "papermill": {
     "duration": 1.045634,
     "end_time": "2020-11-13T12:28:59.531621",
     "exception": false,
     "start_time": "2020-11-13T12:28:58.485987",
     "status": "completed"
    },
    "tags": []
   },
   "source": [
    "## Reporting other useful results."
   ]
  },
  {
   "cell_type": "code",
   "execution_count": 81,
   "metadata": {
    "execution": {
     "iopub.execute_input": "2020-11-13T12:29:01.614664Z",
     "iopub.status.busy": "2020-11-13T12:29:01.612930Z",
     "iopub.status.idle": "2020-11-13T12:29:01.615495Z",
     "shell.execute_reply": "2020-11-13T12:29:01.615991Z"
    },
    "papermill": {
     "duration": 1.046144,
     "end_time": "2020-11-13T12:29:01.616120",
     "exception": false,
     "start_time": "2020-11-13T12:29:00.569976",
     "status": "completed"
    },
    "tags": []
   },
   "outputs": [],
   "source": [
    "from sklearn.model_selection import train_test_split\n",
    "from sklearn.metrics import roc_auc_score"
   ]
  },
  {
   "cell_type": "code",
   "execution_count": 82,
   "metadata": {
    "execution": {
     "iopub.execute_input": "2020-11-13T12:29:03.704461Z",
     "iopub.status.busy": "2020-11-13T12:29:03.703191Z",
     "iopub.status.idle": "2020-11-13T12:29:07.724419Z",
     "shell.execute_reply": "2020-11-13T12:29:07.723762Z"
    },
    "papermill": {
     "duration": 5.071176,
     "end_time": "2020-11-13T12:29:07.724524",
     "exception": false,
     "start_time": "2020-11-13T12:29:02.653348",
     "status": "completed"
    },
    "tags": []
   },
   "outputs": [],
   "source": [
    "# train-test split\n",
    "X_train, X_test, y_train, y_test = train_test_split(sent_oversample_corpus3, sent_oversample_labels2, \\\n",
    "                                        test_size=0.25, random_state=1, stratify=sent_oversample_labels2)"
   ]
  },
  {
   "cell_type": "markdown",
   "metadata": {
    "papermill": {
     "duration": 1.159864,
     "end_time": "2020-11-13T12:29:10.202076",
     "exception": false,
     "start_time": "2020-11-13T12:29:09.042212",
     "status": "completed"
    },
    "tags": []
   },
   "source": [
    "### We don't want to use either model 1 or model 2 to predict the test set because both must have somehow be trained on the test set. So we need to rebuild another model that won't see the test set."
   ]
  },
  {
   "cell_type": "code",
   "execution_count": 83,
   "metadata": {
    "execution": {
     "iopub.execute_input": "2020-11-13T12:29:12.316624Z",
     "iopub.status.busy": "2020-11-13T12:29:12.315821Z",
     "iopub.status.idle": "2020-11-13T12:29:12.319444Z",
     "shell.execute_reply": "2020-11-13T12:29:12.319900Z"
    },
    "papermill": {
     "duration": 1.083115,
     "end_time": "2020-11-13T12:29:12.320047",
     "exception": false,
     "start_time": "2020-11-13T12:29:11.236932",
     "status": "completed"
    },
    "tags": []
   },
   "outputs": [
    {
     "data": {
      "text/plain": [
       "7"
      ]
     },
     "execution_count": 83,
     "metadata": {},
     "output_type": "execute_result"
    }
   ],
   "source": [
    "val_loss = history.history['val_loss']\n",
    "best_epoch = np.argmin(val_loss) + 1\n",
    "best_epoch"
   ]
  },
  {
   "cell_type": "code",
   "execution_count": 84,
   "metadata": {
    "execution": {
     "iopub.execute_input": "2020-11-13T12:29:14.401111Z",
     "iopub.status.busy": "2020-11-13T12:29:14.399835Z",
     "iopub.status.idle": "2020-11-13T12:29:14.625657Z",
     "shell.execute_reply": "2020-11-13T12:29:14.624632Z"
    },
    "papermill": {
     "duration": 1.264134,
     "end_time": "2020-11-13T12:29:14.625780",
     "exception": false,
     "start_time": "2020-11-13T12:29:13.361646",
     "status": "completed"
    },
    "tags": []
   },
   "outputs": [],
   "source": [
    "model3 = build_cnn_model() # builds model"
   ]
  },
  {
   "cell_type": "code",
   "execution_count": 85,
   "metadata": {
    "execution": {
     "iopub.execute_input": "2020-11-13T12:29:16.703608Z",
     "iopub.status.busy": "2020-11-13T12:29:16.702593Z",
     "iopub.status.idle": "2020-11-13T12:30:09.695647Z",
     "shell.execute_reply": "2020-11-13T12:30:09.695054Z"
    },
    "papermill": {
     "duration": 54.034309,
     "end_time": "2020-11-13T12:30:09.695763",
     "exception": false,
     "start_time": "2020-11-13T12:29:15.661454",
     "status": "completed"
    },
    "tags": []
   },
   "outputs": [
    {
     "name": "stdout",
     "output_type": "stream",
     "text": [
      "Epoch 1/7\n",
      "936/936 [==============================] - 7s 8ms/step - loss: 0.8728 - accuracy: 0.7206 - multi_class_fbeta: 0.7210\n",
      "Epoch 2/7\n",
      "936/936 [==============================] - 7s 8ms/step - loss: 0.6211 - accuracy: 0.7939 - multi_class_fbeta: 0.7953\n",
      "Epoch 3/7\n",
      "936/936 [==============================] - 8s 8ms/step - loss: 0.5570 - accuracy: 0.8118 - multi_class_fbeta: 0.8129\n",
      "Epoch 4/7\n",
      "936/936 [==============================] - 8s 8ms/step - loss: 0.5169 - accuracy: 0.8235 - multi_class_fbeta: 0.8248\n",
      "Epoch 5/7\n",
      "936/936 [==============================] - 8s 8ms/step - loss: 0.4834 - accuracy: 0.8329 - multi_class_fbeta: 0.8341\n",
      "Epoch 6/7\n",
      "936/936 [==============================] - 7s 8ms/step - loss: 0.4549 - accuracy: 0.8405 - multi_class_fbeta: 0.8414\n",
      "Epoch 7/7\n",
      "936/936 [==============================] - 7s 8ms/step - loss: 0.4343 - accuracy: 0.8474 - multi_class_fbeta: 0.8483\n"
     ]
    },
    {
     "data": {
      "text/plain": [
       "<tensorflow.python.keras.callbacks.History at 0x7feea0135210>"
      ]
     },
     "execution_count": 85,
     "metadata": {},
     "output_type": "execute_result"
    }
   ],
   "source": [
    "model3.fit(X_train, y_train,\n",
    "                    epochs=best_epoch, # using the best epoch from model1\n",
    "                    verbose=True,\n",
    "                    batch_size=128,\n",
    "                    class_weight=class_weights)"
   ]
  },
  {
   "cell_type": "code",
   "execution_count": null,
   "metadata": {
    "papermill": {
     "duration": 1.394211,
     "end_time": "2020-11-13T12:30:12.498992",
     "exception": false,
     "start_time": "2020-11-13T12:30:11.104781",
     "status": "completed"
    },
    "tags": []
   },
   "outputs": [],
   "source": []
  },
  {
   "cell_type": "code",
   "execution_count": 86,
   "metadata": {
    "execution": {
     "iopub.execute_input": "2020-11-13T12:30:15.880735Z",
     "iopub.status.busy": "2020-11-13T12:30:15.879683Z",
     "iopub.status.idle": "2020-11-13T12:30:21.962598Z",
     "shell.execute_reply": "2020-11-13T12:30:21.961830Z"
    },
    "papermill": {
     "duration": 7.85284,
     "end_time": "2020-11-13T12:30:21.962713",
     "exception": false,
     "start_time": "2020-11-13T12:30:14.109873",
     "status": "completed"
    },
    "tags": []
   },
   "outputs": [
    {
     "name": "stdout",
     "output_type": "stream",
     "text": [
      "Training Accuracy: 0.8769\n",
      "Training Fbeta: 0.8780\n",
      "\n",
      "Testing Accuracy: 0.8342\n",
      "Testing Fbeta: 0.8353\n"
     ]
    }
   ],
   "source": [
    "loss, accuracy, fbeta = model3.evaluate(X_train, y_train, batch_size=128, verbose=False)\n",
    "print('Training Accuracy: {:.4f}\\nTraining Fbeta: {:.4f}'.format(accuracy, fbeta))\n",
    "print()\n",
    "loss, accuracy, fbeta = model3.evaluate(X_test, y_test, batch_size=128, verbose=False)\n",
    "print('Testing Accuracy: {:.4f}\\nTesting Fbeta: {:.4f}'.format(accuracy, fbeta))\n"
   ]
  },
  {
   "cell_type": "code",
   "execution_count": 87,
   "metadata": {
    "execution": {
     "iopub.execute_input": "2020-11-13T12:30:24.960932Z",
     "iopub.status.busy": "2020-11-13T12:30:24.959926Z",
     "iopub.status.idle": "2020-11-13T12:30:33.030843Z",
     "shell.execute_reply": "2020-11-13T12:30:33.029696Z"
    },
    "papermill": {
     "duration": 9.660701,
     "end_time": "2020-11-13T12:30:33.031001",
     "exception": false,
     "start_time": "2020-11-13T12:30:23.370300",
     "status": "completed"
    },
    "tags": []
   },
   "outputs": [],
   "source": [
    "y_pred_train = model3.predict(X_train)\n",
    "y_pred_test = model3.predict(X_test)"
   ]
  },
  {
   "cell_type": "code",
   "execution_count": 88,
   "metadata": {
    "execution": {
     "iopub.execute_input": "2020-11-13T12:30:36.284714Z",
     "iopub.status.busy": "2020-11-13T12:30:36.283043Z",
     "iopub.status.idle": "2020-11-13T12:30:37.075836Z",
     "shell.execute_reply": "2020-11-13T12:30:37.076350Z"
    },
    "papermill": {
     "duration": 2.436289,
     "end_time": "2020-11-13T12:30:37.076484",
     "exception": false,
     "start_time": "2020-11-13T12:30:34.640195",
     "status": "completed"
    },
    "tags": []
   },
   "outputs": [
    {
     "name": "stdout",
     "output_type": "stream",
     "text": [
      "Training AUC: 0.9950\n",
      "Testing AUC: 0.9906\n"
     ]
    }
   ],
   "source": [
    "print('Training AUC: {:.4f}'.format(\\\n",
    "    roc_auc_score(y_train, y_pred_train, average='weighted', multi_class='ovr')))\n",
    "      \n",
    "print('Testing AUC: {:.4f}'.format(\\\n",
    "    roc_auc_score(y_test, y_pred_test, average='weighted', multi_class='ovr')))"
   ]
  },
  {
   "cell_type": "code",
   "execution_count": 89,
   "metadata": {
    "_cell_guid": "79c7e3d0-c299-4dcb-8224-4455121ee9b0",
    "_uuid": "d629ff2d2480ee46fbb7e2d37f6b5fab8052498a",
    "execution": {
     "iopub.execute_input": "2020-11-13T12:30:40.090463Z",
     "iopub.status.busy": "2020-11-13T12:30:40.089234Z",
     "iopub.status.idle": "2020-11-13T12:30:40.105727Z",
     "shell.execute_reply": "2020-11-13T12:30:40.104919Z"
    },
    "papermill": {
     "duration": 1.628904,
     "end_time": "2020-11-13T12:30:40.105833",
     "exception": false,
     "start_time": "2020-11-13T12:30:38.476929",
     "status": "completed"
    },
    "tags": []
   },
   "outputs": [
    {
     "data": {
      "text/plain": [
       "<tf.Tensor: shape=(20,), dtype=float32, numpy=\n",
       "array([0.92104745, 0.87125313, 0.93643177, 0.87066853, 0.6729136 ,\n",
       "       0.9911387 , 0.8678187 , 0.9524494 , 0.96940416, 0.8943138 ,\n",
       "       0.81513476, 0.9393498 , 0.86350095, 0.920891  , 0.8617314 ,\n",
       "       0.96824837, 0.70033157, 0.9005363 , 0.8238794 , 0.803033  ],\n",
       "      dtype=float32)>"
      ]
     },
     "execution_count": 89,
     "metadata": {},
     "output_type": "execute_result"
    }
   ],
   "source": [
    "multi_class_fbeta(y_train, y_pred_train, raw=True)"
   ]
  },
  {
   "cell_type": "code",
   "execution_count": 90,
   "metadata": {
    "execution": {
     "iopub.execute_input": "2020-11-13T12:30:42.959899Z",
     "iopub.status.busy": "2020-11-13T12:30:42.958528Z",
     "iopub.status.idle": "2020-11-13T12:30:42.968845Z",
     "shell.execute_reply": "2020-11-13T12:30:42.968363Z"
    },
    "papermill": {
     "duration": 1.472367,
     "end_time": "2020-11-13T12:30:42.968948",
     "exception": false,
     "start_time": "2020-11-13T12:30:41.496581",
     "status": "completed"
    },
    "tags": []
   },
   "outputs": [
    {
     "data": {
      "text/plain": [
       "<tf.Tensor: shape=(20,), dtype=float32, numpy=\n",
       "array([0.8889539 , 0.82175344, 0.9025915 , 0.8289578 , 0.5736211 ,\n",
       "       0.9887864 , 0.7759103 , 0.9295168 , 0.9698518 , 0.85467815,\n",
       "       0.75078017, 0.8903133 , 0.8165443 , 0.9070282 , 0.8175298 ,\n",
       "       0.94399434, 0.62461215, 0.86287373, 0.76055497, 0.7485852 ],\n",
       "      dtype=float32)>"
      ]
     },
     "execution_count": 90,
     "metadata": {},
     "output_type": "execute_result"
    }
   ],
   "source": [
    "multi_class_fbeta(y_test, y_pred_test, raw=True)"
   ]
  },
  {
   "cell_type": "code",
   "execution_count": null,
   "metadata": {
    "papermill": {
     "duration": 1.445273,
     "end_time": "2020-11-13T12:30:45.827486",
     "exception": false,
     "start_time": "2020-11-13T12:30:44.382213",
     "status": "completed"
    },
    "tags": []
   },
   "outputs": [],
   "source": []
  }
 ],
 "metadata": {
  "kernelspec": {
   "display_name": "Python 3",
   "language": "python",
   "name": "python3"
  },
  "language_info": {
   "codemirror_mode": {
    "name": "ipython",
    "version": 3
   },
   "file_extension": ".py",
   "mimetype": "text/x-python",
   "name": "python",
   "nbconvert_exporter": "python",
   "pygments_lexer": "ipython3",
   "version": "3.7.6"
  },
  "papermill": {
   "duration": 2002.547265,
   "end_time": "2020-11-13T12:30:48.758768",
   "environment_variables": {},
   "exception": null,
   "input_path": "__notebook__.ipynb",
   "output_path": "__notebook__.ipynb",
   "parameters": {},
   "start_time": "2020-11-13T11:57:26.211503",
   "version": "2.1.0"
  }
 },
 "nbformat": 4,
 "nbformat_minor": 4
}
