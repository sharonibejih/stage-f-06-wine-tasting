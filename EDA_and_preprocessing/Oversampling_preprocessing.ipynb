{
 "cells": [
  {
   "cell_type": "markdown",
   "metadata": {
    "papermill": {
     "duration": 0.062875,
     "end_time": "2020-10-31T13:52:27.209411",
     "exception": false,
     "start_time": "2020-10-31T13:52:27.146536",
     "status": "completed"
    },
    "tags": []
   },
   "source": [
    "# Data Preprocessing (Over-sampling)"
   ]
  },
  {
   "cell_type": "code",
   "execution_count": 1,
   "metadata": {
    "execution": {
     "iopub.execute_input": "2020-10-31T13:52:27.340332Z",
     "iopub.status.busy": "2020-10-31T13:52:27.339442Z",
     "iopub.status.idle": "2020-10-31T13:52:28.458821Z",
     "shell.execute_reply": "2020-10-31T13:52:28.458094Z"
    },
    "papermill": {
     "duration": 1.187655,
     "end_time": "2020-10-31T13:52:28.458950",
     "exception": false,
     "start_time": "2020-10-31T13:52:27.271295",
     "status": "completed"
    },
    "tags": []
   },
   "outputs": [],
   "source": [
    "# importing useful libraries\n",
    "import numpy as np\n",
    "import pandas as pd\n",
    "import matplotlib.pyplot as plt\n",
    "import seaborn as sns\n",
    "\n",
    "import warnings\n",
    "warnings.filterwarnings('ignore')\n",
    "\n",
    "%matplotlib inline"
   ]
  },
  {
   "cell_type": "markdown",
   "metadata": {
    "papermill": {
     "duration": 0.058606,
     "end_time": "2020-10-31T13:52:28.577056",
     "exception": false,
     "start_time": "2020-10-31T13:52:28.518450",
     "status": "completed"
    },
    "tags": []
   },
   "source": [
    "## Loading in our selected top varieties data "
   ]
  },
  {
   "cell_type": "code",
   "execution_count": 2,
   "metadata": {
    "execution": {
     "iopub.execute_input": "2020-10-31T13:52:28.705081Z",
     "iopub.status.busy": "2020-10-31T13:52:28.704226Z",
     "iopub.status.idle": "2020-10-31T13:52:31.003153Z",
     "shell.execute_reply": "2020-10-31T13:52:31.003862Z"
    },
    "papermill": {
     "duration": 2.367861,
     "end_time": "2020-10-31T13:52:31.004036",
     "exception": false,
     "start_time": "2020-10-31T13:52:28.636175",
     "status": "completed"
    },
    "tags": []
   },
   "outputs": [
    {
     "data": {
      "text/html": [
       "<div>\n",
       "<style scoped>\n",
       "    .dataframe tbody tr th:only-of-type {\n",
       "        vertical-align: middle;\n",
       "    }\n",
       "\n",
       "    .dataframe tbody tr th {\n",
       "        vertical-align: top;\n",
       "    }\n",
       "\n",
       "    .dataframe thead th {\n",
       "        text-align: right;\n",
       "    }\n",
       "</style>\n",
       "<table border=\"1\" class=\"dataframe\">\n",
       "  <thead>\n",
       "    <tr style=\"text-align: right;\">\n",
       "      <th></th>\n",
       "      <th>country</th>\n",
       "      <th>description</th>\n",
       "      <th>designation</th>\n",
       "      <th>points</th>\n",
       "      <th>price</th>\n",
       "      <th>province</th>\n",
       "      <th>region_1</th>\n",
       "      <th>region_2</th>\n",
       "      <th>taster_name</th>\n",
       "      <th>taster_twitter_handle</th>\n",
       "      <th>title</th>\n",
       "      <th>variety</th>\n",
       "      <th>winery</th>\n",
       "      <th>not_vintage</th>\n",
       "      <th>vintage</th>\n",
       "    </tr>\n",
       "  </thead>\n",
       "  <tbody>\n",
       "    <tr>\n",
       "      <th>0</th>\n",
       "      <td>Italy</td>\n",
       "      <td>Aromas include tropical fruit, broom, brimston...</td>\n",
       "      <td>Vulkà Bianco</td>\n",
       "      <td>87</td>\n",
       "      <td>NaN</td>\n",
       "      <td>Sicily &amp; Sardinia</td>\n",
       "      <td>Etna</td>\n",
       "      <td>NaN</td>\n",
       "      <td>Kerin O’Keefe</td>\n",
       "      <td>@kerinokeefe</td>\n",
       "      <td>Nicosia 2013 Vulkà Bianco  (Etna)</td>\n",
       "      <td>White Blend</td>\n",
       "      <td>Nicosia</td>\n",
       "      <td>Italy Vulkà Bianco Sicily &amp; Sardinia Etna Nicosia</td>\n",
       "      <td>2013.0</td>\n",
       "    </tr>\n",
       "    <tr>\n",
       "      <th>1</th>\n",
       "      <td>Portugal</td>\n",
       "      <td>This is ripe and fruity, a wine that is smooth...</td>\n",
       "      <td>Avidagos</td>\n",
       "      <td>87</td>\n",
       "      <td>15.0</td>\n",
       "      <td>Douro</td>\n",
       "      <td>NaN</td>\n",
       "      <td>NaN</td>\n",
       "      <td>Roger Voss</td>\n",
       "      <td>@vossroger</td>\n",
       "      <td>Quinta dos Avidagos 2011 Avidagos Red (Douro)</td>\n",
       "      <td>Portuguese Red</td>\n",
       "      <td>Quinta dos Avidagos</td>\n",
       "      <td>Portugal Avidagos Douro Quinta dos Avidagos</td>\n",
       "      <td>2011.0</td>\n",
       "    </tr>\n",
       "  </tbody>\n",
       "</table>\n",
       "</div>"
      ],
      "text/plain": [
       "    country                                        description   designation  \\\n",
       "0     Italy  Aromas include tropical fruit, broom, brimston...  Vulkà Bianco   \n",
       "1  Portugal  This is ripe and fruity, a wine that is smooth...      Avidagos   \n",
       "\n",
       "   points  price           province region_1 region_2    taster_name  \\\n",
       "0      87    NaN  Sicily & Sardinia     Etna      NaN  Kerin O’Keefe   \n",
       "1      87   15.0              Douro      NaN      NaN     Roger Voss   \n",
       "\n",
       "  taster_twitter_handle                                          title  \\\n",
       "0          @kerinokeefe              Nicosia 2013 Vulkà Bianco  (Etna)   \n",
       "1            @vossroger  Quinta dos Avidagos 2011 Avidagos Red (Douro)   \n",
       "\n",
       "          variety               winery  \\\n",
       "0     White Blend              Nicosia   \n",
       "1  Portuguese Red  Quinta dos Avidagos   \n",
       "\n",
       "                                         not_vintage  vintage  \n",
       "0  Italy Vulkà Bianco Sicily & Sardinia Etna Nicosia   2013.0  \n",
       "1        Portugal Avidagos Douro Quinta dos Avidagos   2011.0  "
      ]
     },
     "execution_count": 2,
     "metadata": {},
     "output_type": "execute_result"
    }
   ],
   "source": [
    "df2 = pd.read_csv('../input/wine-reviews/winemag-data-130k-v2.csv')\n",
    "top_varieties_count = pd.read_csv('../input/wine-review-data-top-varieties/top_varieties_count.csv')\n",
    "top_40_varieties = pd.read_csv('../input/wine-review-data-top-varieties/top_40_varieties.csv')\n",
    "top_40_varieties.head(2)"
   ]
  },
  {
   "cell_type": "code",
   "execution_count": 3,
   "metadata": {
    "execution": {
     "iopub.execute_input": "2020-10-31T13:52:31.139064Z",
     "iopub.status.busy": "2020-10-31T13:52:31.137906Z",
     "iopub.status.idle": "2020-10-31T13:52:31.141928Z",
     "shell.execute_reply": "2020-10-31T13:52:31.142493Z"
    },
    "papermill": {
     "duration": 0.077116,
     "end_time": "2020-10-31T13:52:31.142655",
     "exception": false,
     "start_time": "2020-10-31T13:52:31.065539",
     "status": "completed"
    },
    "tags": []
   },
   "outputs": [
    {
     "data": {
      "text/plain": [
       "variety\n",
       "Pinot Noir                       13272\n",
       "Chardonnay                       11753\n",
       "Cabernet Sauvignon                9472\n",
       "Red Blend                         8946\n",
       "Bordeaux-style Red Blend          6915\n",
       "Riesling                          5189\n",
       "Sauvignon Blanc                   4967\n",
       "Syrah                             4142\n",
       "Rosé                              3564\n",
       "Merlot                            3102\n",
       "Nebbiolo                          2804\n",
       "Zinfandel                         2714\n",
       "Sangiovese                        2707\n",
       "Malbec                            2652\n",
       "Portuguese Red                    2466\n",
       "White Blend                       2360\n",
       "Sparkling Blend                   2153\n",
       "Tempranillo                       1810\n",
       "Rhône-style Red Blend             1471\n",
       "Pinot Gris                        1455\n",
       "Champagne Blend                   1396\n",
       "Cabernet Franc                    1353\n",
       "Grüner Veltliner                  1345\n",
       "Portuguese White                  1159\n",
       "Bordeaux-style White Blend        1066\n",
       "Pinot Grigio                      1052\n",
       "Gamay                             1025\n",
       "Gewürztraminer                    1012\n",
       "Viognier                           996\n",
       "Shiraz                             836\n",
       "Petite Sirah                       770\n",
       "Sangiovese Grosso                  751\n",
       "Barbera                            721\n",
       "Glera                              709\n",
       "Port                               668\n",
       "Grenache                           651\n",
       "Corvina, Rondinella, Molinara      619\n",
       "Chenin Blanc                       591\n",
       "Tempranillo Blend                  588\n",
       "Carmenère                          575\n",
       "Name: count, dtype: int64"
      ]
     },
     "execution_count": 3,
     "metadata": {},
     "output_type": "execute_result"
    }
   ],
   "source": [
    "# renaming the columns in top_varieties_count\n",
    "top_varieties_count = top_varieties_count.rename(columns={'variety': 'count', 'Unnamed: 0': 'variety'})\n",
    "top_varieties_count = top_varieties_count.set_index('variety') # setting the index\n",
    "top_varieties_count = top_varieties_count['count'] # making it a Series\n",
    "top_varieties_count"
   ]
  },
  {
   "cell_type": "markdown",
   "metadata": {},
   "source": [
    "## We will be selecting the top 20 varireties as our working varieties"
   ]
  },
  {
   "cell_type": "code",
   "execution_count": 4,
   "metadata": {
    "execution": {
     "iopub.execute_input": "2020-10-31T13:52:31.286120Z",
     "iopub.status.busy": "2020-10-31T13:52:31.285162Z",
     "iopub.status.idle": "2020-10-31T13:52:31.358083Z",
     "shell.execute_reply": "2020-10-31T13:52:31.358661Z"
    },
    "papermill": {
     "duration": 0.155056,
     "end_time": "2020-10-31T13:52:31.358824",
     "exception": false,
     "start_time": "2020-10-31T13:52:31.203768",
     "status": "completed"
    },
    "tags": []
   },
   "outputs": [
    {
     "name": "stdout",
     "output_type": "stream",
     "text": [
      "percentage of initial 130k dataframe is 72%\n",
      "20\n"
     ]
    },
    {
     "data": {
      "text/html": [
       "<div>\n",
       "<style scoped>\n",
       "    .dataframe tbody tr th:only-of-type {\n",
       "        vertical-align: middle;\n",
       "    }\n",
       "\n",
       "    .dataframe tbody tr th {\n",
       "        vertical-align: top;\n",
       "    }\n",
       "\n",
       "    .dataframe thead th {\n",
       "        text-align: right;\n",
       "    }\n",
       "</style>\n",
       "<table border=\"1\" class=\"dataframe\">\n",
       "  <thead>\n",
       "    <tr style=\"text-align: right;\">\n",
       "      <th></th>\n",
       "      <th>country</th>\n",
       "      <th>description</th>\n",
       "      <th>designation</th>\n",
       "      <th>points</th>\n",
       "      <th>price</th>\n",
       "      <th>province</th>\n",
       "      <th>region_1</th>\n",
       "      <th>region_2</th>\n",
       "      <th>taster_name</th>\n",
       "      <th>taster_twitter_handle</th>\n",
       "      <th>title</th>\n",
       "      <th>variety</th>\n",
       "      <th>winery</th>\n",
       "      <th>not_vintage</th>\n",
       "      <th>vintage</th>\n",
       "    </tr>\n",
       "  </thead>\n",
       "  <tbody>\n",
       "    <tr>\n",
       "      <th>0</th>\n",
       "      <td>Italy</td>\n",
       "      <td>Aromas include tropical fruit, broom, brimston...</td>\n",
       "      <td>Vulkà Bianco</td>\n",
       "      <td>87</td>\n",
       "      <td>NaN</td>\n",
       "      <td>Sicily &amp; Sardinia</td>\n",
       "      <td>Etna</td>\n",
       "      <td>NaN</td>\n",
       "      <td>Kerin O’Keefe</td>\n",
       "      <td>@kerinokeefe</td>\n",
       "      <td>Nicosia 2013 Vulkà Bianco  (Etna)</td>\n",
       "      <td>White Blend</td>\n",
       "      <td>Nicosia</td>\n",
       "      <td>Italy Vulkà Bianco Sicily &amp; Sardinia Etna Nicosia</td>\n",
       "      <td>2013.0</td>\n",
       "    </tr>\n",
       "    <tr>\n",
       "      <th>1</th>\n",
       "      <td>Portugal</td>\n",
       "      <td>This is ripe and fruity, a wine that is smooth...</td>\n",
       "      <td>Avidagos</td>\n",
       "      <td>87</td>\n",
       "      <td>15.0</td>\n",
       "      <td>Douro</td>\n",
       "      <td>NaN</td>\n",
       "      <td>NaN</td>\n",
       "      <td>Roger Voss</td>\n",
       "      <td>@vossroger</td>\n",
       "      <td>Quinta dos Avidagos 2011 Avidagos Red (Douro)</td>\n",
       "      <td>Portuguese Red</td>\n",
       "      <td>Quinta dos Avidagos</td>\n",
       "      <td>Portugal Avidagos Douro Quinta dos Avidagos</td>\n",
       "      <td>2011.0</td>\n",
       "    </tr>\n",
       "  </tbody>\n",
       "</table>\n",
       "</div>"
      ],
      "text/plain": [
       "    country                                        description   designation  \\\n",
       "0     Italy  Aromas include tropical fruit, broom, brimston...  Vulkà Bianco   \n",
       "1  Portugal  This is ripe and fruity, a wine that is smooth...      Avidagos   \n",
       "\n",
       "   points  price           province region_1 region_2    taster_name  \\\n",
       "0      87    NaN  Sicily & Sardinia     Etna      NaN  Kerin O’Keefe   \n",
       "1      87   15.0              Douro      NaN      NaN     Roger Voss   \n",
       "\n",
       "  taster_twitter_handle                                          title  \\\n",
       "0          @kerinokeefe              Nicosia 2013 Vulkà Bianco  (Etna)   \n",
       "1            @vossroger  Quinta dos Avidagos 2011 Avidagos Red (Douro)   \n",
       "\n",
       "          variety               winery  \\\n",
       "0     White Blend              Nicosia   \n",
       "1  Portuguese Red  Quinta dos Avidagos   \n",
       "\n",
       "                                         not_vintage  vintage  \n",
       "0  Italy Vulkà Bianco Sicily & Sardinia Etna Nicosia   2013.0  \n",
       "1        Portugal Avidagos Douro Quinta dos Avidagos   2011.0  "
      ]
     },
     "execution_count": 4,
     "metadata": {},
     "output_type": "execute_result"
    }
   ],
   "source": [
    "top = 20 # selecting top n varities as our working varieties. note 1 < n <= 40\n",
    "\n",
    "# making a datframe of our selecting top n varieties\n",
    "top_df = top_40_varieties[top_40_varieties['variety'].isin(top_varieties_count.iloc[:top].index)]\n",
    "print('percentage of initial 130k dataframe is {}%'.format(round(100*top_df.shape[0] / df2.shape[0]), 3))\n",
    "print(len(top_df['variety'].unique()))\n",
    "top_df.head(2)"
   ]
  },
  {
   "cell_type": "code",
   "execution_count": 5,
   "metadata": {
    "execution": {
     "iopub.execute_input": "2020-10-31T13:52:31.510709Z",
     "iopub.status.busy": "2020-10-31T13:52:31.509798Z",
     "iopub.status.idle": "2020-10-31T13:52:31.578505Z",
     "shell.execute_reply": "2020-10-31T13:52:31.577691Z"
    },
    "papermill": {
     "duration": 0.141268,
     "end_time": "2020-10-31T13:52:31.578634",
     "exception": false,
     "start_time": "2020-10-31T13:52:31.437366",
     "status": "completed"
    },
    "tags": []
   },
   "outputs": [
    {
     "name": "stdout",
     "output_type": "stream",
     "text": [
      "(38367, 15)\n",
      "14\n"
     ]
    },
    {
     "data": {
      "text/html": [
       "<div>\n",
       "<style scoped>\n",
       "    .dataframe tbody tr th:only-of-type {\n",
       "        vertical-align: middle;\n",
       "    }\n",
       "\n",
       "    .dataframe tbody tr th {\n",
       "        vertical-align: top;\n",
       "    }\n",
       "\n",
       "    .dataframe thead th {\n",
       "        text-align: right;\n",
       "    }\n",
       "</style>\n",
       "<table border=\"1\" class=\"dataframe\">\n",
       "  <thead>\n",
       "    <tr style=\"text-align: right;\">\n",
       "      <th></th>\n",
       "      <th>country</th>\n",
       "      <th>description</th>\n",
       "      <th>designation</th>\n",
       "      <th>points</th>\n",
       "      <th>price</th>\n",
       "      <th>province</th>\n",
       "      <th>region_1</th>\n",
       "      <th>region_2</th>\n",
       "      <th>taster_name</th>\n",
       "      <th>taster_twitter_handle</th>\n",
       "      <th>title</th>\n",
       "      <th>variety</th>\n",
       "      <th>winery</th>\n",
       "      <th>not_vintage</th>\n",
       "      <th>vintage</th>\n",
       "    </tr>\n",
       "  </thead>\n",
       "  <tbody>\n",
       "    <tr>\n",
       "      <th>0</th>\n",
       "      <td>Italy</td>\n",
       "      <td>Aromas include tropical fruit, broom, brimston...</td>\n",
       "      <td>Vulkà Bianco</td>\n",
       "      <td>87</td>\n",
       "      <td>NaN</td>\n",
       "      <td>Sicily &amp; Sardinia</td>\n",
       "      <td>Etna</td>\n",
       "      <td>NaN</td>\n",
       "      <td>Kerin O’Keefe</td>\n",
       "      <td>@kerinokeefe</td>\n",
       "      <td>Nicosia 2013 Vulkà Bianco  (Etna)</td>\n",
       "      <td>White Blend</td>\n",
       "      <td>Nicosia</td>\n",
       "      <td>Italy Vulkà Bianco Sicily &amp; Sardinia Etna Nicosia</td>\n",
       "      <td>2013.0</td>\n",
       "    </tr>\n",
       "    <tr>\n",
       "      <th>1</th>\n",
       "      <td>Portugal</td>\n",
       "      <td>This is ripe and fruity, a wine that is smooth...</td>\n",
       "      <td>Avidagos</td>\n",
       "      <td>87</td>\n",
       "      <td>15.0</td>\n",
       "      <td>Douro</td>\n",
       "      <td>NaN</td>\n",
       "      <td>NaN</td>\n",
       "      <td>Roger Voss</td>\n",
       "      <td>@vossroger</td>\n",
       "      <td>Quinta dos Avidagos 2011 Avidagos Red (Douro)</td>\n",
       "      <td>Portuguese Red</td>\n",
       "      <td>Quinta dos Avidagos</td>\n",
       "      <td>Portugal Avidagos Douro Quinta dos Avidagos</td>\n",
       "      <td>2011.0</td>\n",
       "    </tr>\n",
       "  </tbody>\n",
       "</table>\n",
       "</div>"
      ],
      "text/plain": [
       "    country                                        description   designation  \\\n",
       "0     Italy  Aromas include tropical fruit, broom, brimston...  Vulkà Bianco   \n",
       "1  Portugal  This is ripe and fruity, a wine that is smooth...      Avidagos   \n",
       "\n",
       "   points  price           province region_1 region_2    taster_name  \\\n",
       "0      87    NaN  Sicily & Sardinia     Etna      NaN  Kerin O’Keefe   \n",
       "1      87   15.0              Douro      NaN      NaN     Roger Voss   \n",
       "\n",
       "  taster_twitter_handle                                          title  \\\n",
       "0          @kerinokeefe              Nicosia 2013 Vulkà Bianco  (Etna)   \n",
       "1            @vossroger  Quinta dos Avidagos 2011 Avidagos Red (Douro)   \n",
       "\n",
       "          variety               winery  \\\n",
       "0     White Blend              Nicosia   \n",
       "1  Portuguese Red  Quinta dos Avidagos   \n",
       "\n",
       "                                         not_vintage  vintage  \n",
       "0  Italy Vulkà Bianco Sicily & Sardinia Etna Nicosia   2013.0  \n",
       "1        Portugal Avidagos Douro Quinta dos Avidagos   2011.0  "
      ]
     },
     "execution_count": 5,
     "metadata": {},
     "output_type": "execute_result"
    }
   ],
   "source": [
    "# threshold of miniority variety to over sample (use sentences as document instead of the whole description)\n",
    "minority_threshold = 5000 \n",
    "\n",
    "# making a dataframe of the miniority classes\n",
    "minority_df = top_df[top_df['variety'].isin(top_varieties_count[top_varieties_count < \\\n",
    "                                                                      minority_threshold].index)]\n",
    "print(minority_df.shape)\n",
    "print(len(minority_df['variety'].unique()))\n",
    "minority_df.head(2)"
   ]
  },
  {
   "cell_type": "markdown",
   "metadata": {
    "papermill": {
     "duration": 0.063634,
     "end_time": "2020-10-31T13:52:31.706969",
     "exception": false,
     "start_time": "2020-10-31T13:52:31.643335",
     "status": "completed"
    },
    "tags": []
   },
   "source": [
    "### nltk and spacy are the two most popular libraries in NLP. We will just use nltk to tokenize sentences in our miniority class but for our heavy weight preprocessing, we will use spacy because it is mostly used in industries and has wealth of functionalities."
   ]
  },
  {
   "cell_type": "code",
   "execution_count": 6,
   "metadata": {
    "execution": {
     "iopub.execute_input": "2020-10-31T13:52:31.852541Z",
     "iopub.status.busy": "2020-10-31T13:52:31.851391Z",
     "iopub.status.idle": "2020-10-31T13:52:32.757109Z",
     "shell.execute_reply": "2020-10-31T13:52:32.756247Z"
    },
    "papermill": {
     "duration": 0.986512,
     "end_time": "2020-10-31T13:52:32.757243",
     "exception": false,
     "start_time": "2020-10-31T13:52:31.770731",
     "status": "completed"
    },
    "tags": []
   },
   "outputs": [],
   "source": [
    "from nltk.tokenize import sent_tokenize # importing useful library"
   ]
  },
  {
   "cell_type": "code",
   "execution_count": 7,
   "metadata": {
    "execution": {
     "iopub.execute_input": "2020-10-31T13:52:32.899398Z",
     "iopub.status.busy": "2020-10-31T13:52:32.894934Z",
     "iopub.status.idle": "2020-10-31T13:52:32.903288Z",
     "shell.execute_reply": "2020-10-31T13:52:32.902463Z"
    },
    "papermill": {
     "duration": 0.082209,
     "end_time": "2020-10-31T13:52:32.903415",
     "exception": false,
     "start_time": "2020-10-31T13:52:32.821206",
     "status": "completed"
    },
    "tags": []
   },
   "outputs": [],
   "source": [
    "oversampled_miniority_lst = [] # empty list to store sentences as tokens miniority corpus\n",
    "\n",
    "# creating a function to use sentences as tokens for the miniority classes\n",
    "def over_sample_miniority(row):\n",
    "    doc_list = sent_tokenize(row['description'])\n",
    "    for sent in doc_list:\n",
    "        row['description'] = sent\n",
    "        oversampled_miniority_lst.append(list(row))"
   ]
  },
  {
   "cell_type": "code",
   "execution_count": 8,
   "metadata": {
    "execution": {
     "iopub.execute_input": "2020-10-31T13:52:33.037784Z",
     "iopub.status.busy": "2020-10-31T13:52:33.037011Z",
     "iopub.status.idle": "2020-10-31T13:52:42.882266Z",
     "shell.execute_reply": "2020-10-31T13:52:42.881549Z"
    },
    "papermill": {
     "duration": 9.91369,
     "end_time": "2020-10-31T13:52:42.882401",
     "exception": false,
     "start_time": "2020-10-31T13:52:32.968711",
     "status": "completed"
    },
    "tags": []
   },
   "outputs": [],
   "source": [
    "minority_df.apply(over_sample_miniority, axis=1); # over sample the miniority classes"
   ]
  },
  {
   "cell_type": "code",
   "execution_count": 9,
   "metadata": {
    "execution": {
     "iopub.execute_input": "2020-10-31T13:52:43.018357Z",
     "iopub.status.busy": "2020-10-31T13:52:43.017435Z",
     "iopub.status.idle": "2020-10-31T13:52:43.284808Z",
     "shell.execute_reply": "2020-10-31T13:52:43.284148Z"
    },
    "papermill": {
     "duration": 0.338343,
     "end_time": "2020-10-31T13:52:43.284933",
     "exception": false,
     "start_time": "2020-10-31T13:52:42.946590",
     "status": "completed"
    },
    "tags": []
   },
   "outputs": [
    {
     "name": "stdout",
     "output_type": "stream",
     "text": [
      "(104101, 15)\n"
     ]
    },
    {
     "data": {
      "text/html": [
       "<div>\n",
       "<style scoped>\n",
       "    .dataframe tbody tr th:only-of-type {\n",
       "        vertical-align: middle;\n",
       "    }\n",
       "\n",
       "    .dataframe tbody tr th {\n",
       "        vertical-align: top;\n",
       "    }\n",
       "\n",
       "    .dataframe thead th {\n",
       "        text-align: right;\n",
       "    }\n",
       "</style>\n",
       "<table border=\"1\" class=\"dataframe\">\n",
       "  <thead>\n",
       "    <tr style=\"text-align: right;\">\n",
       "      <th></th>\n",
       "      <th>country</th>\n",
       "      <th>description</th>\n",
       "      <th>designation</th>\n",
       "      <th>points</th>\n",
       "      <th>price</th>\n",
       "      <th>province</th>\n",
       "      <th>region_1</th>\n",
       "      <th>region_2</th>\n",
       "      <th>taster_name</th>\n",
       "      <th>taster_twitter_handle</th>\n",
       "      <th>title</th>\n",
       "      <th>variety</th>\n",
       "      <th>winery</th>\n",
       "      <th>not_vintage</th>\n",
       "      <th>vintage</th>\n",
       "    </tr>\n",
       "  </thead>\n",
       "  <tbody>\n",
       "    <tr>\n",
       "      <th>0</th>\n",
       "      <td>Italy</td>\n",
       "      <td>Aromas include tropical fruit, broom, brimston...</td>\n",
       "      <td>Vulkà Bianco</td>\n",
       "      <td>87</td>\n",
       "      <td>NaN</td>\n",
       "      <td>Sicily &amp; Sardinia</td>\n",
       "      <td>Etna</td>\n",
       "      <td>NaN</td>\n",
       "      <td>Kerin O’Keefe</td>\n",
       "      <td>@kerinokeefe</td>\n",
       "      <td>Nicosia 2013 Vulkà Bianco  (Etna)</td>\n",
       "      <td>White Blend</td>\n",
       "      <td>Nicosia</td>\n",
       "      <td>Italy Vulkà Bianco Sicily &amp; Sardinia Etna Nicosia</td>\n",
       "      <td>2013.0</td>\n",
       "    </tr>\n",
       "    <tr>\n",
       "      <th>1</th>\n",
       "      <td>Italy</td>\n",
       "      <td>The palate isn't overly expressive, offering u...</td>\n",
       "      <td>Vulkà Bianco</td>\n",
       "      <td>87</td>\n",
       "      <td>NaN</td>\n",
       "      <td>Sicily &amp; Sardinia</td>\n",
       "      <td>Etna</td>\n",
       "      <td>NaN</td>\n",
       "      <td>Kerin O’Keefe</td>\n",
       "      <td>@kerinokeefe</td>\n",
       "      <td>Nicosia 2013 Vulkà Bianco  (Etna)</td>\n",
       "      <td>White Blend</td>\n",
       "      <td>Nicosia</td>\n",
       "      <td>Italy Vulkà Bianco Sicily &amp; Sardinia Etna Nicosia</td>\n",
       "      <td>2013.0</td>\n",
       "    </tr>\n",
       "  </tbody>\n",
       "</table>\n",
       "</div>"
      ],
      "text/plain": [
       "  country                                        description   designation  \\\n",
       "0   Italy  Aromas include tropical fruit, broom, brimston...  Vulkà Bianco   \n",
       "1   Italy  The palate isn't overly expressive, offering u...  Vulkà Bianco   \n",
       "\n",
       "   points  price           province region_1 region_2    taster_name  \\\n",
       "0      87    NaN  Sicily & Sardinia     Etna      NaN  Kerin O’Keefe   \n",
       "1      87    NaN  Sicily & Sardinia     Etna      NaN  Kerin O’Keefe   \n",
       "\n",
       "  taster_twitter_handle                              title      variety  \\\n",
       "0          @kerinokeefe  Nicosia 2013 Vulkà Bianco  (Etna)  White Blend   \n",
       "1          @kerinokeefe  Nicosia 2013 Vulkà Bianco  (Etna)  White Blend   \n",
       "\n",
       "    winery                                        not_vintage  vintage  \n",
       "0  Nicosia  Italy Vulkà Bianco Sicily & Sardinia Etna Nicosia   2013.0  \n",
       "1  Nicosia  Italy Vulkà Bianco Sicily & Sardinia Etna Nicosia   2013.0  "
      ]
     },
     "execution_count": 9,
     "metadata": {},
     "output_type": "execute_result"
    }
   ],
   "source": [
    "# converts oversampled_miniority_lst to a dataframe\n",
    "oversampled_miniority_df = pd.DataFrame(oversampled_miniority_lst, columns=minority_df.columns)\n",
    "print(oversampled_miniority_df.shape)\n",
    "oversampled_miniority_df.head(2)"
   ]
  },
  {
   "cell_type": "code",
   "execution_count": 10,
   "metadata": {
    "execution": {
     "iopub.execute_input": "2020-10-31T13:52:43.423625Z",
     "iopub.status.busy": "2020-10-31T13:52:43.422592Z",
     "iopub.status.idle": "2020-10-31T13:52:43.428236Z",
     "shell.execute_reply": "2020-10-31T13:52:43.427637Z"
    },
    "papermill": {
     "duration": 0.077599,
     "end_time": "2020-10-31T13:52:43.428366",
     "exception": false,
     "start_time": "2020-10-31T13:52:43.350767",
     "status": "completed"
    },
    "tags": []
   },
   "outputs": [
    {
     "data": {
      "text/plain": [
       "array(['Aromas include tropical fruit, broom, brimstone and dried herb.',\n",
       "       \"The palate isn't overly expressive, offering unripened apple, citrus and dried sage alongside brisk acidity.\",\n",
       "       'This is ripe and fruity, a wine that is smooth while still structured.',\n",
       "       'Firm tannins are filled out with juicy red berry fruits and freshened with acidity.',\n",
       "       \"It's  already drinkable, although it will certainly be better from 2016.\"],\n",
       "      dtype=object)"
      ]
     },
     "execution_count": 10,
     "metadata": {},
     "output_type": "execute_result"
    }
   ],
   "source": [
    "# a view at the new descriptions of the oversampled miniority classes\n",
    "oversampled_miniority_df['description'][:5].values"
   ]
  },
  {
   "cell_type": "markdown",
   "metadata": {
    "papermill": {
     "duration": 0.065462,
     "end_time": "2020-10-31T13:52:43.559970",
     "exception": false,
     "start_time": "2020-10-31T13:52:43.494508",
     "status": "completed"
    },
    "tags": []
   },
   "source": [
    "### we see that sentences are counted as tokens instead of the whole review"
   ]
  },
  {
   "cell_type": "code",
   "execution_count": 11,
   "metadata": {
    "execution": {
     "iopub.execute_input": "2020-10-31T13:52:43.710953Z",
     "iopub.status.busy": "2020-10-31T13:52:43.710148Z",
     "iopub.status.idle": "2020-10-31T13:52:44.015228Z",
     "shell.execute_reply": "2020-10-31T13:52:44.016215Z"
    },
    "papermill": {
     "duration": 0.390808,
     "end_time": "2020-10-31T13:52:44.016424",
     "exception": false,
     "start_time": "2020-10-31T13:52:43.625616",
     "status": "completed"
    },
    "tags": []
   },
   "outputs": [
    {
     "name": "stdout",
     "output_type": "stream",
     "text": [
      "(159648, 15)\n"
     ]
    },
    {
     "data": {
      "text/html": [
       "<div>\n",
       "<style scoped>\n",
       "    .dataframe tbody tr th:only-of-type {\n",
       "        vertical-align: middle;\n",
       "    }\n",
       "\n",
       "    .dataframe tbody tr th {\n",
       "        vertical-align: top;\n",
       "    }\n",
       "\n",
       "    .dataframe thead th {\n",
       "        text-align: right;\n",
       "    }\n",
       "</style>\n",
       "<table border=\"1\" class=\"dataframe\">\n",
       "  <thead>\n",
       "    <tr style=\"text-align: right;\">\n",
       "      <th></th>\n",
       "      <th>country</th>\n",
       "      <th>description</th>\n",
       "      <th>designation</th>\n",
       "      <th>points</th>\n",
       "      <th>price</th>\n",
       "      <th>province</th>\n",
       "      <th>region_1</th>\n",
       "      <th>region_2</th>\n",
       "      <th>taster_name</th>\n",
       "      <th>taster_twitter_handle</th>\n",
       "      <th>title</th>\n",
       "      <th>variety</th>\n",
       "      <th>winery</th>\n",
       "      <th>not_vintage</th>\n",
       "      <th>vintage</th>\n",
       "    </tr>\n",
       "  </thead>\n",
       "  <tbody>\n",
       "    <tr>\n",
       "      <th>0</th>\n",
       "      <td>US</td>\n",
       "      <td>Pineapple rind, lemon pith and orange blossom ...</td>\n",
       "      <td>Reserve Late Harvest</td>\n",
       "      <td>87</td>\n",
       "      <td>13.0</td>\n",
       "      <td>Michigan</td>\n",
       "      <td>Lake Michigan Shore</td>\n",
       "      <td>NaN</td>\n",
       "      <td>Alexander Peartree</td>\n",
       "      <td>NaN</td>\n",
       "      <td>St. Julian 2013 Reserve Late Harvest Riesling ...</td>\n",
       "      <td>Riesling</td>\n",
       "      <td>St. Julian</td>\n",
       "      <td>US Reserve Late Harvest Michigan Lake Michigan...</td>\n",
       "      <td>2013.0</td>\n",
       "    </tr>\n",
       "    <tr>\n",
       "      <th>1</th>\n",
       "      <td>US</td>\n",
       "      <td>Much like the regular bottling from 2012, this...</td>\n",
       "      <td>Vintner's Reserve Wild Child Block</td>\n",
       "      <td>87</td>\n",
       "      <td>65.0</td>\n",
       "      <td>Oregon</td>\n",
       "      <td>Willamette Valley</td>\n",
       "      <td>Willamette Valley</td>\n",
       "      <td>Paul Gregutt</td>\n",
       "      <td>@paulgwine</td>\n",
       "      <td>Sweet Cheeks 2012 Vintner's Reserve Wild Child...</td>\n",
       "      <td>Pinot Noir</td>\n",
       "      <td>Sweet Cheeks</td>\n",
       "      <td>US Vintner's Reserve Wild Child Block Oregon W...</td>\n",
       "      <td>2012.0</td>\n",
       "    </tr>\n",
       "  </tbody>\n",
       "</table>\n",
       "</div>"
      ],
      "text/plain": [
       "  country                                        description  \\\n",
       "0      US  Pineapple rind, lemon pith and orange blossom ...   \n",
       "1      US  Much like the regular bottling from 2012, this...   \n",
       "\n",
       "                          designation  points  price  province  \\\n",
       "0                Reserve Late Harvest      87   13.0  Michigan   \n",
       "1  Vintner's Reserve Wild Child Block      87   65.0    Oregon   \n",
       "\n",
       "              region_1           region_2         taster_name  \\\n",
       "0  Lake Michigan Shore                NaN  Alexander Peartree   \n",
       "1    Willamette Valley  Willamette Valley        Paul Gregutt   \n",
       "\n",
       "  taster_twitter_handle                                              title  \\\n",
       "0                   NaN  St. Julian 2013 Reserve Late Harvest Riesling ...   \n",
       "1           @paulgwine   Sweet Cheeks 2012 Vintner's Reserve Wild Child...   \n",
       "\n",
       "      variety        winery  \\\n",
       "0    Riesling    St. Julian   \n",
       "1  Pinot Noir  Sweet Cheeks   \n",
       "\n",
       "                                         not_vintage  vintage  \n",
       "0  US Reserve Late Harvest Michigan Lake Michigan...   2013.0  \n",
       "1  US Vintner's Reserve Wild Child Block Oregon W...   2012.0  "
      ]
     },
     "execution_count": 11,
     "metadata": {},
     "output_type": "execute_result"
    }
   ],
   "source": [
    "# selecting majority classes as a dataframe to concatenate to oversampled_miniority_lst\n",
    "majority_df = top_df[top_df['variety'].isin(\\\n",
    "                                        top_varieties_count[top_varieties_count >= minority_threshold].index)]\n",
    "\n",
    "# concatenates majority_df to oversampled_miniority_lst\n",
    "balanced_df = pd.concat([majority_df, oversampled_miniority_df]) \n",
    "balanced_df = balanced_df.reset_index().drop('index', axis=1) # resets index\n",
    "print(balanced_df.shape)\n",
    "balanced_df.head(2)"
   ]
  },
  {
   "cell_type": "code",
   "execution_count": 12,
   "metadata": {
    "execution": {
     "iopub.execute_input": "2020-10-31T13:52:44.202763Z",
     "iopub.status.busy": "2020-10-31T13:52:44.181969Z",
     "iopub.status.idle": "2020-10-31T13:52:44.207568Z",
     "shell.execute_reply": "2020-10-31T13:52:44.206913Z"
    },
    "papermill": {
     "duration": 0.122398,
     "end_time": "2020-10-31T13:52:44.207727",
     "exception": false,
     "start_time": "2020-10-31T13:52:44.085329",
     "status": "completed"
    },
    "tags": []
   },
   "outputs": [
    {
     "data": {
      "text/plain": [
       "Pinot Noir                  13272\n",
       "Sauvignon Blanc             12801\n",
       "Chardonnay                  11753\n",
       "Syrah                       11128\n",
       "Cabernet Sauvignon           9472\n",
       "Rosé                         9207\n",
       "Red Blend                    8946\n",
       "Nebbiolo                     8107\n",
       "Malbec                       8047\n",
       "Merlot                       7874\n",
       "Portuguese Red               7734\n",
       "Sangiovese                   7432\n",
       "Bordeaux-style Red Blend     6915\n",
       "Zinfandel                    6512\n",
       "White Blend                  6034\n",
       "Sparkling Blend              5740\n",
       "Tempranillo                  5552\n",
       "Riesling                     5189\n",
       "Rhône-style Red Blend        3972\n",
       "Pinot Gris                   3961\n",
       "Name: variety, dtype: int64"
      ]
     },
     "execution_count": 12,
     "metadata": {},
     "output_type": "execute_result"
    }
   ],
   "source": [
    "balanced_variety = balanced_df['variety'].value_counts() # gets a Series of the variety count in balanced_df\n",
    "balanced_variety"
   ]
  },
  {
   "cell_type": "code",
   "execution_count": 13,
   "metadata": {
    "execution": {
     "iopub.execute_input": "2020-10-31T13:52:44.349706Z",
     "iopub.status.busy": "2020-10-31T13:52:44.348917Z",
     "iopub.status.idle": "2020-10-31T13:52:44.353867Z",
     "shell.execute_reply": "2020-10-31T13:52:44.353089Z"
    },
    "papermill": {
     "duration": 0.077945,
     "end_time": "2020-10-31T13:52:44.354029",
     "exception": false,
     "start_time": "2020-10-31T13:52:44.276084",
     "status": "completed"
    },
    "tags": []
   },
   "outputs": [
    {
     "name": "stdout",
     "output_type": "stream",
     "text": [
      "before sentence oversampling, highest class ratio was 9.507163323782235\n"
     ]
    }
   ],
   "source": [
    "print('before sentence oversampling, highest class ratio was {}'.format(\\\n",
    "                                        top_varieties_count.iloc[0] / top_varieties_count.iloc[top]))"
   ]
  },
  {
   "cell_type": "code",
   "execution_count": 14,
   "metadata": {
    "execution": {
     "iopub.execute_input": "2020-10-31T13:52:44.500904Z",
     "iopub.status.busy": "2020-10-31T13:52:44.500144Z",
     "iopub.status.idle": "2020-10-31T13:52:44.822892Z",
     "shell.execute_reply": "2020-10-31T13:52:44.822299Z"
    },
    "papermill": {
     "duration": 0.399033,
     "end_time": "2020-10-31T13:52:44.823021",
     "exception": false,
     "start_time": "2020-10-31T13:52:44.423988",
     "status": "completed"
    },
    "tags": []
   },
   "outputs": [
    {
     "data": {
      "image/png": "[encoded data removed]",
      "text/plain": [
       "<Figure size 1296x288 with 1 Axes>"
      ]
     },
     "metadata": {
      "needs_background": "light"
     },
     "output_type": "display_data"
    }
   ],
   "source": [
    "fig = plt.figure(figsize=(18, 4))\n",
    "plt.bar(top_varieties_count[:top].index, top_varieties_count[:top].values)\n",
    "plt.xticks(rotation=90)\n",
    "plt.xlabel('variety')\n",
    "plt.ylabel('count')\n",
    "plt.title('Counts of varieties before sentence oversampling')\n",
    "plt.show()"
   ]
  },
  {
   "cell_type": "code",
   "execution_count": 15,
   "metadata": {
    "execution": {
     "iopub.execute_input": "2020-10-31T13:52:44.970903Z",
     "iopub.status.busy": "2020-10-31T13:52:44.969919Z",
     "iopub.status.idle": "2020-10-31T13:52:44.973821Z",
     "shell.execute_reply": "2020-10-31T13:52:44.974594Z"
    },
    "papermill": {
     "duration": 0.080207,
     "end_time": "2020-10-31T13:52:44.974759",
     "exception": false,
     "start_time": "2020-10-31T13:52:44.894552",
     "status": "completed"
    },
    "tags": []
   },
   "outputs": [
    {
     "name": "stdout",
     "output_type": "stream",
     "text": [
      "after sentence oversampling, highest class ratio is 3.3506690229739964\n"
     ]
    }
   ],
   "source": [
    "print('after sentence oversampling, highest class ratio is {}'.format(\\\n",
    "                                                    balanced_variety.iloc[0] / balanced_variety.iloc[-1]))"
   ]
  },
  {
   "cell_type": "code",
   "execution_count": 16,
   "metadata": {
    "execution": {
     "iopub.execute_input": "2020-10-31T13:52:45.132865Z",
     "iopub.status.busy": "2020-10-31T13:52:45.126675Z",
     "iopub.status.idle": "2020-10-31T13:52:45.399162Z",
     "shell.execute_reply": "2020-10-31T13:52:45.398414Z"
    },
    "papermill": {
     "duration": 0.351356,
     "end_time": "2020-10-31T13:52:45.399294",
     "exception": false,
     "start_time": "2020-10-31T13:52:45.047938",
     "status": "completed"
    },
    "tags": []
   },
   "outputs": [
    {
     "data": {
      "image/png": "[encoded data removed]",
      "text/plain": [
       "<Figure size 1296x288 with 1 Axes>"
      ]
     },
     "metadata": {
      "needs_background": "light"
     },
     "output_type": "display_data"
    }
   ],
   "source": [
    "fig = plt.figure(figsize=(18, 4))\n",
    "plt.bar(balanced_variety.index, balanced_variety.values)\n",
    "plt.xticks(rotation=90)\n",
    "plt.xlabel('variety')\n",
    "plt.ylabel('count')\n",
    "plt.title('Counts of varieties after sentence oversampling')\n",
    "plt.show()"
   ]
  },
  {
   "cell_type": "markdown",
   "metadata": {
    "papermill": {
     "duration": 0.072985,
     "end_time": "2020-10-31T13:52:45.544297",
     "exception": false,
     "start_time": "2020-10-31T13:52:45.471312",
     "status": "completed"
    },
    "tags": []
   },
   "source": [
    "## Let's find if any variety is unique to a particular country"
   ]
  },
  {
   "cell_type": "code",
   "execution_count": 17,
   "metadata": {
    "execution": {
     "iopub.execute_input": "2020-10-31T13:52:45.693242Z",
     "iopub.status.busy": "2020-10-31T13:52:45.692486Z",
     "iopub.status.idle": "2020-10-31T13:52:45.696543Z",
     "shell.execute_reply": "2020-10-31T13:52:45.695889Z"
    },
    "papermill": {
     "duration": 0.080734,
     "end_time": "2020-10-31T13:52:45.696676",
     "exception": false,
     "start_time": "2020-10-31T13:52:45.615942",
     "status": "completed"
    },
    "tags": []
   },
   "outputs": [],
   "source": [
    "by_variety = top_df.groupby('variety') # groupby variety"
   ]
  },
  {
   "cell_type": "code",
   "execution_count": 18,
   "metadata": {
    "execution": {
     "iopub.execute_input": "2020-10-31T13:52:45.852644Z",
     "iopub.status.busy": "2020-10-31T13:52:45.851826Z",
     "iopub.status.idle": "2020-10-31T13:52:45.890956Z",
     "shell.execute_reply": "2020-10-31T13:52:45.890164Z"
    },
    "papermill": {
     "duration": 0.12313,
     "end_time": "2020-10-31T13:52:45.891102",
     "exception": false,
     "start_time": "2020-10-31T13:52:45.767972",
     "status": "completed"
    },
    "tags": []
   },
   "outputs": [],
   "source": [
    "by_variety_dict = {variety: df for variety, df in by_variety} # make a dict of the groups"
   ]
  },
  {
   "cell_type": "code",
   "execution_count": 19,
   "metadata": {
    "execution": {
     "iopub.execute_input": "2020-10-31T13:52:46.040994Z",
     "iopub.status.busy": "2020-10-31T13:52:46.040182Z",
     "iopub.status.idle": "2020-10-31T13:52:46.045443Z",
     "shell.execute_reply": "2020-10-31T13:52:46.044272Z"
    },
    "papermill": {
     "duration": 0.082773,
     "end_time": "2020-10-31T13:52:46.045697",
     "exception": false,
     "start_time": "2020-10-31T13:52:45.962924",
     "status": "completed"
    },
    "tags": []
   },
   "outputs": [
    {
     "name": "stdout",
     "output_type": "stream",
     "text": [
      "['Bordeaux-style Red Blend', 'Cabernet Sauvignon', 'Chardonnay', 'Malbec', 'Merlot', 'Nebbiolo', 'Pinot Gris', 'Pinot Noir', 'Portuguese Red', 'Red Blend', 'Rhône-style Red Blend', 'Riesling', 'Rosé', 'Sangiovese', 'Sauvignon Blanc', 'Sparkling Blend', 'Syrah', 'Tempranillo', 'White Blend', 'Zinfandel']\n"
     ]
    }
   ],
   "source": [
    "print(list(by_variety_dict.keys())) # prints the varieties"
   ]
  },
  {
   "cell_type": "code",
   "execution_count": 20,
   "metadata": {
    "execution": {
     "iopub.execute_input": "2020-10-31T13:52:46.202254Z",
     "iopub.status.busy": "2020-10-31T13:52:46.201352Z",
     "iopub.status.idle": "2020-10-31T13:52:46.204806Z",
     "shell.execute_reply": "2020-10-31T13:52:46.204189Z"
    },
    "papermill": {
     "duration": 0.084976,
     "end_time": "2020-10-31T13:52:46.204927",
     "exception": false,
     "start_time": "2020-10-31T13:52:46.119951",
     "status": "completed"
    },
    "tags": []
   },
   "outputs": [],
   "source": [
    "def unique_variety_to_country(dict_):\n",
    "    res = []\n",
    "    for variety in dict_:\n",
    "        if dict_[variety]['country'].value_counts().shape[0] == 1:\n",
    "            res.append(variety)\n",
    "    return res"
   ]
  },
  {
   "cell_type": "code",
   "execution_count": 21,
   "metadata": {
    "execution": {
     "iopub.execute_input": "2020-10-31T13:52:46.402174Z",
     "iopub.status.busy": "2020-10-31T13:52:46.368540Z",
     "iopub.status.idle": "2020-10-31T13:52:46.407178Z",
     "shell.execute_reply": "2020-10-31T13:52:46.407819Z"
    },
    "papermill": {
     "duration": 0.129483,
     "end_time": "2020-10-31T13:52:46.407997",
     "exception": false,
     "start_time": "2020-10-31T13:52:46.278514",
     "status": "completed"
    },
    "tags": []
   },
   "outputs": [
    {
     "data": {
      "text/plain": [
       "['Portuguese Red']"
      ]
     },
     "execution_count": 21,
     "metadata": {},
     "output_type": "execute_result"
    }
   ],
   "source": [
    "res = unique_variety_to_country(by_variety_dict)\n",
    "res"
   ]
  },
  {
   "cell_type": "markdown",
   "metadata": {
    "papermill": {
     "duration": 0.073485,
     "end_time": "2020-10-31T13:52:46.555643",
     "exception": false,
     "start_time": "2020-10-31T13:52:46.482158",
     "status": "completed"
    },
    "tags": []
   },
   "source": [
    "### We see that 'Portuguese Red' is a variety that is unique to a particular country. Let's check out the country."
   ]
  },
  {
   "cell_type": "code",
   "execution_count": 22,
   "metadata": {
    "execution": {
     "iopub.execute_input": "2020-10-31T13:52:46.725850Z",
     "iopub.status.busy": "2020-10-31T13:52:46.724945Z",
     "iopub.status.idle": "2020-10-31T13:52:46.730387Z",
     "shell.execute_reply": "2020-10-31T13:52:46.729793Z"
    },
    "papermill": {
     "duration": 0.101195,
     "end_time": "2020-10-31T13:52:46.730510",
     "exception": false,
     "start_time": "2020-10-31T13:52:46.629315",
     "status": "completed"
    },
    "tags": []
   },
   "outputs": [
    {
     "data": {
      "text/html": [
       "<div>\n",
       "<style scoped>\n",
       "    .dataframe tbody tr th:only-of-type {\n",
       "        vertical-align: middle;\n",
       "    }\n",
       "\n",
       "    .dataframe tbody tr th {\n",
       "        vertical-align: top;\n",
       "    }\n",
       "\n",
       "    .dataframe thead th {\n",
       "        text-align: right;\n",
       "    }\n",
       "</style>\n",
       "<table border=\"1\" class=\"dataframe\">\n",
       "  <thead>\n",
       "    <tr style=\"text-align: right;\">\n",
       "      <th></th>\n",
       "      <th>country</th>\n",
       "      <th>description</th>\n",
       "      <th>designation</th>\n",
       "      <th>points</th>\n",
       "      <th>price</th>\n",
       "      <th>province</th>\n",
       "      <th>region_1</th>\n",
       "      <th>region_2</th>\n",
       "      <th>taster_name</th>\n",
       "      <th>taster_twitter_handle</th>\n",
       "      <th>title</th>\n",
       "      <th>variety</th>\n",
       "      <th>winery</th>\n",
       "      <th>not_vintage</th>\n",
       "      <th>vintage</th>\n",
       "    </tr>\n",
       "  </thead>\n",
       "  <tbody>\n",
       "    <tr>\n",
       "      <th>1</th>\n",
       "      <td>Portugal</td>\n",
       "      <td>This is ripe and fruity, a wine that is smooth...</td>\n",
       "      <td>Avidagos</td>\n",
       "      <td>87</td>\n",
       "      <td>15.0</td>\n",
       "      <td>Douro</td>\n",
       "      <td>NaN</td>\n",
       "      <td>NaN</td>\n",
       "      <td>Roger Voss</td>\n",
       "      <td>@vossroger</td>\n",
       "      <td>Quinta dos Avidagos 2011 Avidagos Red (Douro)</td>\n",
       "      <td>Portuguese Red</td>\n",
       "      <td>Quinta dos Avidagos</td>\n",
       "      <td>Portugal Avidagos Douro Quinta dos Avidagos</td>\n",
       "      <td>2011.0</td>\n",
       "    </tr>\n",
       "    <tr>\n",
       "      <th>128</th>\n",
       "      <td>Portugal</td>\n",
       "      <td>From an estate in the south of the Alentejo, t...</td>\n",
       "      <td>Grande Reserva Tinto</td>\n",
       "      <td>91</td>\n",
       "      <td>26.0</td>\n",
       "      <td>Alentejano</td>\n",
       "      <td>NaN</td>\n",
       "      <td>NaN</td>\n",
       "      <td>Roger Voss</td>\n",
       "      <td>@vossroger</td>\n",
       "      <td>Casa Santa Vitória 2013 Grande Reserva Tinto R...</td>\n",
       "      <td>Portuguese Red</td>\n",
       "      <td>Casa Santa Vitória</td>\n",
       "      <td>Portugal Grande Reserva Tinto Alentejano Casa ...</td>\n",
       "      <td>2013.0</td>\n",
       "    </tr>\n",
       "    <tr>\n",
       "      <th>169</th>\n",
       "      <td>Portugal</td>\n",
       "      <td>A year in wood and 30 months in bottle before ...</td>\n",
       "      <td>Montes Claros Garrafeira</td>\n",
       "      <td>90</td>\n",
       "      <td>28.0</td>\n",
       "      <td>Alentejo</td>\n",
       "      <td>NaN</td>\n",
       "      <td>NaN</td>\n",
       "      <td>Roger Voss</td>\n",
       "      <td>@vossroger</td>\n",
       "      <td>Adega Cooperativa de Borba 2012 Montes Claros ...</td>\n",
       "      <td>Portuguese Red</td>\n",
       "      <td>Adega Cooperativa de Borba</td>\n",
       "      <td>Portugal Montes Claros Garrafeira Alentejo Ade...</td>\n",
       "      <td>2012.0</td>\n",
       "    </tr>\n",
       "  </tbody>\n",
       "</table>\n",
       "</div>"
      ],
      "text/plain": [
       "      country                                        description  \\\n",
       "1    Portugal  This is ripe and fruity, a wine that is smooth...   \n",
       "128  Portugal  From an estate in the south of the Alentejo, t...   \n",
       "169  Portugal  A year in wood and 30 months in bottle before ...   \n",
       "\n",
       "                  designation  points  price    province region_1 region_2  \\\n",
       "1                    Avidagos      87   15.0       Douro      NaN      NaN   \n",
       "128      Grande Reserva Tinto      91   26.0  Alentejano      NaN      NaN   \n",
       "169  Montes Claros Garrafeira      90   28.0    Alentejo      NaN      NaN   \n",
       "\n",
       "    taster_name taster_twitter_handle  \\\n",
       "1    Roger Voss            @vossroger   \n",
       "128  Roger Voss            @vossroger   \n",
       "169  Roger Voss            @vossroger   \n",
       "\n",
       "                                                 title         variety  \\\n",
       "1        Quinta dos Avidagos 2011 Avidagos Red (Douro)  Portuguese Red   \n",
       "128  Casa Santa Vitória 2013 Grande Reserva Tinto R...  Portuguese Red   \n",
       "169  Adega Cooperativa de Borba 2012 Montes Claros ...  Portuguese Red   \n",
       "\n",
       "                         winery  \\\n",
       "1           Quinta dos Avidagos   \n",
       "128          Casa Santa Vitória   \n",
       "169  Adega Cooperativa de Borba   \n",
       "\n",
       "                                           not_vintage  vintage  \n",
       "1          Portugal Avidagos Douro Quinta dos Avidagos   2011.0  \n",
       "128  Portugal Grande Reserva Tinto Alentejano Casa ...   2013.0  \n",
       "169  Portugal Montes Claros Garrafeira Alentejo Ade...   2012.0  "
      ]
     },
     "execution_count": 22,
     "metadata": {},
     "output_type": "execute_result"
    }
   ],
   "source": [
    "by_variety_dict[res[0]].head(3)"
   ]
  },
  {
   "cell_type": "markdown",
   "metadata": {
    "papermill": {
     "duration": 0.074454,
     "end_time": "2020-10-31T13:52:46.879812",
     "exception": false,
     "start_time": "2020-10-31T13:52:46.805358",
     "status": "completed"
    },
    "tags": []
   },
   "source": [
    "*****And of course, Portugal is the country*****"
   ]
  },
  {
   "cell_type": "code",
   "execution_count": 23,
   "metadata": {
    "execution": {
     "iopub.execute_input": "2020-10-31T13:52:47.036894Z",
     "iopub.status.busy": "2020-10-31T13:52:47.035879Z",
     "iopub.status.idle": "2020-10-31T13:52:47.987279Z",
     "shell.execute_reply": "2020-10-31T13:52:47.986461Z"
    },
    "papermill": {
     "duration": 1.033187,
     "end_time": "2020-10-31T13:52:47.987402",
     "exception": false,
     "start_time": "2020-10-31T13:52:46.954215",
     "status": "completed"
    },
    "tags": []
   },
   "outputs": [],
   "source": [
    "# importing useful libraries\n",
    "import spacy\n",
    "from sklearn.feature_extraction.text import HashingVectorizer, CountVectorizer, TfidfTransformer, TfidfVectorizer\n",
    "from imblearn.over_sampling import SMOTE\n",
    "from imblearn.pipeline import Pipeline\n",
    "from sklearn.tree import DecisionTreeClassifier\n",
    "from sklearn.preprocessing import LabelEncoder\n",
    "from sklearn.model_selection import RepeatedStratifiedKFold, cross_val_score"
   ]
  },
  {
   "cell_type": "markdown",
   "metadata": {
    "papermill": {
     "duration": 0.075243,
     "end_time": "2020-10-31T13:52:48.138737",
     "exception": false,
     "start_time": "2020-10-31T13:52:48.063494",
     "status": "completed"
    },
    "tags": []
   },
   "source": [
    "### Let's check for Nan values"
   ]
  },
  {
   "cell_type": "code",
   "execution_count": 24,
   "metadata": {
    "execution": {
     "iopub.execute_input": "2020-10-31T13:52:48.416870Z",
     "iopub.status.busy": "2020-10-31T13:52:48.415737Z",
     "iopub.status.idle": "2020-10-31T13:52:48.435351Z",
     "shell.execute_reply": "2020-10-31T13:52:48.434730Z"
    },
    "papermill": {
     "duration": 0.220743,
     "end_time": "2020-10-31T13:52:48.435502",
     "exception": false,
     "start_time": "2020-10-31T13:52:48.214759",
     "status": "completed"
    },
    "tags": []
   },
   "outputs": [
    {
     "data": {
      "text/html": [
       "<div>\n",
       "<style scoped>\n",
       "    .dataframe tbody tr th:only-of-type {\n",
       "        vertical-align: middle;\n",
       "    }\n",
       "\n",
       "    .dataframe tbody tr th {\n",
       "        vertical-align: top;\n",
       "    }\n",
       "\n",
       "    .dataframe thead th {\n",
       "        text-align: right;\n",
       "    }\n",
       "</style>\n",
       "<table border=\"1\" class=\"dataframe\">\n",
       "  <thead>\n",
       "    <tr style=\"text-align: right;\">\n",
       "      <th></th>\n",
       "      <th>n_Nan</th>\n",
       "      <th>%missing</th>\n",
       "    </tr>\n",
       "  </thead>\n",
       "  <tbody>\n",
       "    <tr>\n",
       "      <th>country</th>\n",
       "      <td>37</td>\n",
       "      <td>0.039398</td>\n",
       "    </tr>\n",
       "    <tr>\n",
       "      <th>description</th>\n",
       "      <td>0</td>\n",
       "      <td>0.000000</td>\n",
       "    </tr>\n",
       "    <tr>\n",
       "      <th>designation</th>\n",
       "      <td>26985</td>\n",
       "      <td>28.733735</td>\n",
       "    </tr>\n",
       "    <tr>\n",
       "      <th>points</th>\n",
       "      <td>0</td>\n",
       "      <td>0.000000</td>\n",
       "    </tr>\n",
       "    <tr>\n",
       "      <th>price</th>\n",
       "      <td>5691</td>\n",
       "      <td>6.059799</td>\n",
       "    </tr>\n",
       "    <tr>\n",
       "      <th>province</th>\n",
       "      <td>37</td>\n",
       "      <td>0.039398</td>\n",
       "    </tr>\n",
       "    <tr>\n",
       "      <th>region_1</th>\n",
       "      <td>13466</td>\n",
       "      <td>14.338650</td>\n",
       "    </tr>\n",
       "    <tr>\n",
       "      <th>region_2</th>\n",
       "      <td>50804</td>\n",
       "      <td>54.096301</td>\n",
       "    </tr>\n",
       "    <tr>\n",
       "      <th>taster_name</th>\n",
       "      <td>18863</td>\n",
       "      <td>20.085397</td>\n",
       "    </tr>\n",
       "    <tr>\n",
       "      <th>taster_twitter_handle</th>\n",
       "      <td>22626</td>\n",
       "      <td>24.092255</td>\n",
       "    </tr>\n",
       "    <tr>\n",
       "      <th>title</th>\n",
       "      <td>0</td>\n",
       "      <td>0.000000</td>\n",
       "    </tr>\n",
       "    <tr>\n",
       "      <th>variety</th>\n",
       "      <td>0</td>\n",
       "      <td>0.000000</td>\n",
       "    </tr>\n",
       "    <tr>\n",
       "      <th>winery</th>\n",
       "      <td>0</td>\n",
       "      <td>0.000000</td>\n",
       "    </tr>\n",
       "    <tr>\n",
       "      <th>not_vintage</th>\n",
       "      <td>0</td>\n",
       "      <td>0.000000</td>\n",
       "    </tr>\n",
       "    <tr>\n",
       "      <th>vintage</th>\n",
       "      <td>2202</td>\n",
       "      <td>2.344698</td>\n",
       "    </tr>\n",
       "  </tbody>\n",
       "</table>\n",
       "</div>"
      ],
      "text/plain": [
       "                       n_Nan   %missing\n",
       "country                   37   0.039398\n",
       "description                0   0.000000\n",
       "designation            26985  28.733735\n",
       "points                     0   0.000000\n",
       "price                   5691   6.059799\n",
       "province                  37   0.039398\n",
       "region_1               13466  14.338650\n",
       "region_2               50804  54.096301\n",
       "taster_name            18863  20.085397\n",
       "taster_twitter_handle  22626  24.092255\n",
       "title                      0   0.000000\n",
       "variety                    0   0.000000\n",
       "winery                     0   0.000000\n",
       "not_vintage                0   0.000000\n",
       "vintage                 2202   2.344698"
      ]
     },
     "execution_count": 24,
     "metadata": {},
     "output_type": "execute_result"
    }
   ],
   "source": [
    "nan_df = top_df.isnull().sum().to_frame()\n",
    "nan_df.rename(columns={0: 'n_Nan'}, inplace=True)\n",
    "nan_df['%missing'] = 100*nan_df['n_Nan'] / top_df.shape[0]\n",
    "nan_df"
   ]
  },
  {
   "cell_type": "code",
   "execution_count": 25,
   "metadata": {
    "execution": {
     "iopub.execute_input": "2020-10-31T13:52:48.592787Z",
     "iopub.status.busy": "2020-10-31T13:52:48.591872Z",
     "iopub.status.idle": "2020-10-31T13:52:49.796422Z",
     "shell.execute_reply": "2020-10-31T13:52:49.795762Z"
    },
    "papermill": {
     "duration": 1.285446,
     "end_time": "2020-10-31T13:52:49.796571",
     "exception": false,
     "start_time": "2020-10-31T13:52:48.511125",
     "status": "completed"
    },
    "tags": []
   },
   "outputs": [],
   "source": [
    "# creating a spacy pipeline and disabling tagger, parser and ner to speed up tokenizer\n",
    "nlp = spacy.load('en', disable=['tagger', 'parser', 'ner']) "
   ]
  },
  {
   "cell_type": "markdown",
   "metadata": {
    "papermill": {
     "duration": 0.074866,
     "end_time": "2020-10-31T13:52:49.947829",
     "exception": false,
     "start_time": "2020-10-31T13:52:49.872963",
     "status": "completed"
    },
    "tags": []
   },
   "source": [
    "### We will be evaluating six preprocessing approaches (methods) to choose the best one.\n",
    "\n",
    "1. sentence oversampling without including 'not_vintage'\n",
    "2. no oversampling without including 'not_vintage'\n",
    "3. SMOTE oversampling without including 'not_vintage'\n",
    "4. sentence oversampling including 'not_vintage'\n",
    "5. no oversampling including 'not_vintage'\n",
    "6. SMOTE oversampling without including 'not_vintage'"
   ]
  },
  {
   "cell_type": "markdown",
   "metadata": {
    "papermill": {
     "duration": 0.076564,
     "end_time": "2020-10-31T13:52:50.099706",
     "exception": false,
     "start_time": "2020-10-31T13:52:50.023142",
     "status": "completed"
    },
    "tags": []
   },
   "source": [
    "- Remeber, ````not_vintage```` is the combination of non-numeric categorical features of ````country, province, region1, region2, winery, and designation````"
   ]
  },
  {
   "cell_type": "code",
   "execution_count": 26,
   "metadata": {
    "execution": {
     "iopub.execute_input": "2020-10-31T13:52:50.318994Z",
     "iopub.status.busy": "2020-10-31T13:52:50.313788Z",
     "iopub.status.idle": "2020-10-31T13:52:50.607183Z",
     "shell.execute_reply": "2020-10-31T13:52:50.607823Z"
    },
    "papermill": {
     "duration": 0.430962,
     "end_time": "2020-10-31T13:52:50.607984",
     "exception": false,
     "start_time": "2020-10-31T13:52:50.177022",
     "status": "completed"
    },
    "tags": []
   },
   "outputs": [],
   "source": [
    "# getting corpus of sentence oversampling\n",
    "sent_oversample_corpus = [doc for doc in balanced_df['description']]\n",
    "sent_oversample_le = LabelEncoder() # initializes a LabelEncoder object\n",
    "# encodes the labels\n",
    "sent_oversample_labels = sent_oversample_le.fit_transform([label for label in balanced_df['variety']])\n",
    "\n",
    "# getting corpus of no oversampling\n",
    "no_oversample_corpus = [doc for doc in top_df['description']]\n",
    "no_oversample_le = LabelEncoder() # initializes a LabelEncoder object\n",
    "# encodes the labels\n",
    "no_oversample_label = no_oversample_le.fit_transform([label for label in top_df['variety']])"
   ]
  },
  {
   "cell_type": "markdown",
   "metadata": {
    "papermill": {
     "duration": 0.075311,
     "end_time": "2020-10-31T13:52:50.759189",
     "exception": false,
     "start_time": "2020-10-31T13:52:50.683878",
     "status": "completed"
    },
    "tags": []
   },
   "source": [
    "### Let's have a view of ````sent_oversample_corpus```` and ````no_oversample_corpus````"
   ]
  },
  {
   "cell_type": "code",
   "execution_count": 27,
   "metadata": {
    "execution": {
     "iopub.execute_input": "2020-10-31T13:52:50.917528Z",
     "iopub.status.busy": "2020-10-31T13:52:50.916449Z",
     "iopub.status.idle": "2020-10-31T13:52:50.920653Z",
     "shell.execute_reply": "2020-10-31T13:52:50.919923Z"
    },
    "papermill": {
     "duration": 0.0861,
     "end_time": "2020-10-31T13:52:50.920775",
     "exception": false,
     "start_time": "2020-10-31T13:52:50.834675",
     "status": "completed"
    },
    "tags": []
   },
   "outputs": [
    {
     "data": {
      "text/plain": [
       "['It also has weight and a solid, powerful core of spice and baked apple flavors.',\n",
       " 'With its structure still developing, the wine needs to age.',\n",
       " 'Drink from 2015.']"
      ]
     },
     "execution_count": 27,
     "metadata": {},
     "output_type": "execute_result"
    }
   ],
   "source": [
    "sent_oversample_corpus[-3:]"
   ]
  },
  {
   "cell_type": "code",
   "execution_count": 28,
   "metadata": {
    "execution": {
     "iopub.execute_input": "2020-10-31T13:52:51.081297Z",
     "iopub.status.busy": "2020-10-31T13:52:51.080394Z",
     "iopub.status.idle": "2020-10-31T13:52:51.084861Z",
     "shell.execute_reply": "2020-10-31T13:52:51.084192Z"
    },
    "papermill": {
     "duration": 0.088031,
     "end_time": "2020-10-31T13:52:51.084987",
     "exception": false,
     "start_time": "2020-10-31T13:52:50.996956",
     "status": "completed"
    },
    "tags": []
   },
   "outputs": [
    {
     "data": {
      "text/plain": [
       "[\"Notes of honeysuckle and cantaloupe sweeten this deliciously feather-light spätlese. It's intensely juicy, quenching the palate with streams of tart tangerine and grapefruit acidity, yet wraps up with a kiss of honey and peach.\",\n",
       " 'Citation is given as much as a decade of bottle age prior to release, which means it is pre-cellared and drinking at its peak. Baked cherry, cocoa and coconut flavors combine gracefully, with soft, secondary fruit compote highlights.',\n",
       " 'A dry style of Pinot Gris, this is crisp with some acidity. It also has weight and a solid, powerful core of spice and baked apple flavors. With its structure still developing, the wine needs to age. Drink from 2015.']"
      ]
     },
     "execution_count": 28,
     "metadata": {},
     "output_type": "execute_result"
    }
   ],
   "source": [
    "no_oversample_corpus[-3:]"
   ]
  },
  {
   "cell_type": "code",
   "execution_count": 29,
   "metadata": {
    "execution": {
     "iopub.execute_input": "2020-10-31T13:52:51.252200Z",
     "iopub.status.busy": "2020-10-31T13:52:51.251218Z",
     "iopub.status.idle": "2020-10-31T13:52:51.254621Z",
     "shell.execute_reply": "2020-10-31T13:52:51.253961Z"
    },
    "papermill": {
     "duration": 0.089826,
     "end_time": "2020-10-31T13:52:51.254755",
     "exception": false,
     "start_time": "2020-10-31T13:52:51.164929",
     "status": "completed"
    },
    "tags": []
   },
   "outputs": [],
   "source": [
    "# creating a dictionary to decode the encoded labels (we could also use the inverse_transform method of the \n",
    "# LabelEncoder object)\n",
    "sent_oversample_map = {v: k for k, v in enumerate(sent_oversample_le.classes_)}\n",
    "no_oversample_map = {v: k for k, v in enumerate(no_oversample_le.classes_)}"
   ]
  },
  {
   "cell_type": "code",
   "execution_count": 30,
   "metadata": {
    "execution": {
     "iopub.execute_input": "2020-10-31T13:52:51.415687Z",
     "iopub.status.busy": "2020-10-31T13:52:51.414696Z",
     "iopub.status.idle": "2020-10-31T13:52:51.419837Z",
     "shell.execute_reply": "2020-10-31T13:52:51.418782Z"
    },
    "papermill": {
     "duration": 0.088312,
     "end_time": "2020-10-31T13:52:51.419977",
     "exception": false,
     "start_time": "2020-10-31T13:52:51.331665",
     "status": "completed"
    },
    "tags": []
   },
   "outputs": [
    {
     "name": "stdout",
     "output_type": "stream",
     "text": [
      "is 'become' in stop_words?  True\n",
      "is 'became' in stop_words?  True\n"
     ]
    }
   ],
   "source": [
    "stop_words = spacy.lang.en.STOP_WORDS # getting spacy's stop-words\n",
    "print(\"is 'become' in stop_words? \", \"become\" in stop_words)\n",
    "print(\"is 'became' in stop_words? \", \"became\" in stop_words)"
   ]
  },
  {
   "cell_type": "markdown",
   "metadata": {
    "papermill": {
     "duration": 0.078058,
     "end_time": "2020-10-31T13:52:51.576543",
     "exception": false,
     "start_time": "2020-10-31T13:52:51.498485",
     "status": "completed"
    },
    "tags": []
   },
   "source": [
    "### from the above, if we are lemmatizing our corpus (which we would do), we need to lemmatize the stop-words also. First let's see a sample of how our tokenizer would clean up a messy document. We want to remove digits, alpha-numeric, special characters, and punctuations. We also want to lemmatize words and use a common case. We will choose to work with lower case so words like 'Please' and 'please' wouldn't be counted as seperate words."
   ]
  },
  {
   "cell_type": "code",
   "execution_count": 31,
   "metadata": {
    "execution": {
     "iopub.execute_input": "2020-10-31T13:52:51.741349Z",
     "iopub.status.busy": "2020-10-31T13:52:51.740365Z",
     "iopub.status.idle": "2020-10-31T13:52:51.743960Z",
     "shell.execute_reply": "2020-10-31T13:52:51.744957Z"
    },
    "papermill": {
     "duration": 0.090751,
     "end_time": "2020-10-31T13:52:51.745173",
     "exception": false,
     "start_time": "2020-10-31T13:52:51.654422",
     "status": "completed"
    },
    "tags": []
   },
   "outputs": [
    {
     "name": "stdout",
     "output_type": "stream",
     "text": [
      "['please', 'é', 'do', 'do', 'be', 'run', 'honey', 'good', 'run', 'it', 'do', 'doing', 'he', 'fr']\n"
     ]
    }
   ],
   "source": [
    "sample_text = \"Please! é don't Do isn't? runs honey-well ran: lo50 it did, 0.5 doiNg he 100 #fr @h... +234 me3.\"\n",
    "lst = []\n",
    "for p in nlp(sample_text):\n",
    "    if p.is_alpha:\n",
    "        lst.append(p.lemma_.lower())\n",
    "print(lst)"
   ]
  },
  {
   "cell_type": "markdown",
   "metadata": {
    "papermill": {
     "duration": 0.078955,
     "end_time": "2020-10-31T13:52:51.902596",
     "exception": false,
     "start_time": "2020-10-31T13:52:51.823641",
     "status": "completed"
    },
    "tags": []
   },
   "source": [
    "### we will encapsulate the above code in a list comprehension, and that will be our tokenizer function."
   ]
  },
  {
   "cell_type": "code",
   "execution_count": 32,
   "metadata": {
    "execution": {
     "iopub.execute_input": "2020-10-31T13:52:52.067720Z",
     "iopub.status.busy": "2020-10-31T13:52:52.066883Z",
     "iopub.status.idle": "2020-10-31T13:52:52.070663Z",
     "shell.execute_reply": "2020-10-31T13:52:52.069942Z"
    },
    "papermill": {
     "duration": 0.089102,
     "end_time": "2020-10-31T13:52:52.070796",
     "exception": false,
     "start_time": "2020-10-31T13:52:51.981694",
     "status": "completed"
    },
    "tags": []
   },
   "outputs": [],
   "source": [
    "def tokenizer(text):\n",
    "    return [word.lemma_.lower() for word in nlp(text) if word.is_alpha]"
   ]
  },
  {
   "cell_type": "markdown",
   "metadata": {
    "papermill": {
     "duration": 0.081975,
     "end_time": "2020-10-31T13:52:52.231809",
     "exception": false,
     "start_time": "2020-10-31T13:52:52.149834",
     "status": "completed"
    },
    "tags": []
   },
   "source": [
    "### After tokenizer, there is a weird word '-pron-' that appears probably because spacy lemmatizes some pronouns as '-pron-'. Some numbers strangely still appeared after tokenizing (and double tokenizing)...it may be due to a bug in spacy. We wil include these to our stop-words. We will also lemmatize our stop words since we are lemmatizing our tokens. The word 'wine' as expected have a high count in our data, so we will include it to stop words too."
   ]
  },
  {
   "cell_type": "code",
   "execution_count": 33,
   "metadata": {
    "execution": {
     "iopub.execute_input": "2020-10-31T13:52:52.419585Z",
     "iopub.status.busy": "2020-10-31T13:52:52.418524Z",
     "iopub.status.idle": "2020-10-31T13:52:52.422288Z",
     "shell.execute_reply": "2020-10-31T13:52:52.422981Z"
    },
    "papermill": {
     "duration": 0.110084,
     "end_time": "2020-10-31T13:52:52.423186",
     "exception": false,
     "start_time": "2020-10-31T13:52:52.313102",
     "status": "completed"
    },
    "tags": []
   },
   "outputs": [
    {
     "name": "stdout",
     "output_type": "stream",
     "text": [
      "is 'become' in stop_words after lemmatizing stop words?  True\n",
      "is 'became' in stop_words after lemmatizing stop words?  False\n",
      "is '-pron-' in stop_words?  True\n",
      "is 'wine' in stop_words?  True\n"
     ]
    }
   ],
   "source": [
    "stop_words_lemma = {word.lemma_.lower() for word in nlp(' '.join(stop_words))} | {'-pron-', 'wine', '10', '12', \\\n",
    "                        'aah', 'aa', 'ab', 'aaa', 'aand', '16', '2', '20', '30', '4', '40', '5', '6', '7', '8', '9'}\n",
    "\n",
    "print(\"is 'become' in stop_words after lemmatizing stop words? \", \"become\" in stop_words_lemma)\n",
    "print(\"is 'became' in stop_words after lemmatizing stop words? \", \"became\" in stop_words_lemma) \n",
    "print(\"is '-pron-' in stop_words? \", \"-pron-\" in stop_words_lemma)\n",
    "print(\"is 'wine' in stop_words? \", \"wine\" in stop_words_lemma)"
   ]
  },
  {
   "cell_type": "code",
   "execution_count": 34,
   "metadata": {
    "execution": {
     "iopub.execute_input": "2020-10-31T13:52:52.588811Z",
     "iopub.status.busy": "2020-10-31T13:52:52.588004Z",
     "iopub.status.idle": "2020-10-31T13:52:52.591474Z",
     "shell.execute_reply": "2020-10-31T13:52:52.590685Z"
    },
    "papermill": {
     "duration": 0.08811,
     "end_time": "2020-10-31T13:52:52.591616",
     "exception": false,
     "start_time": "2020-10-31T13:52:52.503506",
     "status": "completed"
    },
    "tags": []
   },
   "outputs": [],
   "source": [
    "# creating a RepeatedStratifiedKFold object. Since we plan using 25% as our test-size, we will use 4 fold cv.\n",
    "# to have a level plain ground for comparing different models, we will be using random state of 1 through out.\n",
    "cv = RepeatedStratifiedKFold(n_splits=4, n_repeats=3, random_state=1)"
   ]
  },
  {
   "cell_type": "markdown",
   "metadata": {
    "papermill": {
     "duration": 0.079005,
     "end_time": "2020-10-31T13:52:52.753983",
     "exception": false,
     "start_time": "2020-10-31T13:52:52.674978",
     "status": "completed"
    },
    "tags": []
   },
   "source": [
    "## Methods 1 - 3 ( ````Description```` only)"
   ]
  },
  {
   "cell_type": "markdown",
   "metadata": {
    "papermill": {
     "duration": 0.078714,
     "end_time": "2020-10-31T13:52:52.911893",
     "exception": false,
     "start_time": "2020-10-31T13:52:52.833179",
     "status": "completed"
    },
    "tags": []
   },
   "source": [
    "### Method 1"
   ]
  },
  {
   "cell_type": "code",
   "execution_count": 35,
   "metadata": {
    "execution": {
     "iopub.execute_input": "2020-10-31T13:52:53.085599Z",
     "iopub.status.busy": "2020-10-31T13:52:53.080098Z",
     "iopub.status.idle": "2020-10-31T13:53:27.499933Z",
     "shell.execute_reply": "2020-10-31T13:53:27.499226Z"
    },
    "papermill": {
     "duration": 34.509327,
     "end_time": "2020-10-31T13:53:27.500100",
     "exception": false,
     "start_time": "2020-10-31T13:52:52.990773",
     "status": "completed"
    },
    "tags": []
   },
   "outputs": [],
   "source": [
    "# initializes a TfidfVectorizer object\n",
    "sent_tfidf_vec = TfidfVectorizer(stop_words=stop_words_lemma, tokenizer=tokenizer)\n",
    "\n",
    "# fit and transform the corpus\n",
    "sent_x = sent_tfidf_vec.fit_transform(sent_oversample_corpus)"
   ]
  },
  {
   "cell_type": "code",
   "execution_count": 36,
   "metadata": {
    "execution": {
     "iopub.execute_input": "2020-10-31T13:53:27.670674Z",
     "iopub.status.busy": "2020-10-31T13:53:27.669754Z",
     "iopub.status.idle": "2020-10-31T13:54:01.337023Z",
     "shell.execute_reply": "2020-10-31T13:54:01.337706Z"
    },
    "papermill": {
     "duration": 33.75571,
     "end_time": "2020-10-31T13:54:01.337867",
     "exception": false,
     "start_time": "2020-10-31T13:53:27.582157",
     "status": "completed"
    },
    "tags": []
   },
   "outputs": [
    {
     "name": "stderr",
     "output_type": "stream",
     "text": [
      "[Parallel(n_jobs=4)]: Using backend LokyBackend with 4 concurrent workers.\n",
      "[Parallel(n_jobs=4)]: Done  12 out of  12 | elapsed:   33.6s finished\n"
     ]
    }
   ],
   "source": [
    "# initializing a baseline classifier object\n",
    "sent_oversample_model = DecisionTreeClassifier(class_weight='balanced', max_depth=10, random_state=1)\n",
    "\n",
    "# getting cross validation scores\n",
    "sent_scores = cross_val_score(sent_oversample_model, sent_x, sent_oversample_labels, \\\n",
    "                         scoring='f1_weighted', cv=cv, n_jobs=4, verbose=True)"
   ]
  },
  {
   "cell_type": "code",
   "execution_count": 37,
   "metadata": {
    "execution": {
     "iopub.execute_input": "2020-10-31T13:54:01.507771Z",
     "iopub.status.busy": "2020-10-31T13:54:01.506707Z",
     "iopub.status.idle": "2020-10-31T13:54:01.511749Z",
     "shell.execute_reply": "2020-10-31T13:54:01.510975Z"
    },
    "papermill": {
     "duration": 0.092978,
     "end_time": "2020-10-31T13:54:01.511876",
     "exception": false,
     "start_time": "2020-10-31T13:54:01.418898",
     "status": "completed"
    },
    "tags": []
   },
   "outputs": [
    {
     "data": {
      "text/plain": [
       "0.2840761827166403"
      ]
     },
     "execution_count": 37,
     "metadata": {},
     "output_type": "execute_result"
    }
   ],
   "source": [
    "np.mean(sent_scores) # mean of the scores"
   ]
  },
  {
   "cell_type": "markdown",
   "metadata": {
    "papermill": {
     "duration": 0.081488,
     "end_time": "2020-10-31T13:54:01.675496",
     "exception": false,
     "start_time": "2020-10-31T13:54:01.594008",
     "status": "completed"
    },
    "tags": []
   },
   "source": [
    "## Method 2"
   ]
  },
  {
   "cell_type": "code",
   "execution_count": 38,
   "metadata": {
    "execution": {
     "iopub.execute_input": "2020-10-31T13:54:01.915569Z",
     "iopub.status.busy": "2020-10-31T13:54:01.879236Z",
     "iopub.status.idle": "2020-10-31T13:54:33.318649Z",
     "shell.execute_reply": "2020-10-31T13:54:33.317226Z"
    },
    "papermill": {
     "duration": 31.561462,
     "end_time": "2020-10-31T13:54:33.318854",
     "exception": false,
     "start_time": "2020-10-31T13:54:01.757392",
     "status": "completed"
    },
    "tags": []
   },
   "outputs": [],
   "source": [
    "# initializes a TfidfVectorizer object\n",
    "no_over_tfidf_vec = TfidfVectorizer(stop_words=stop_words_lemma, tokenizer=tokenizer)\n",
    "\n",
    "# fits and transforms the corpus\n",
    "no_over_x = no_over_tfidf_vec.fit_transform(no_oversample_corpus)"
   ]
  },
  {
   "cell_type": "code",
   "execution_count": 39,
   "metadata": {
    "execution": {
     "iopub.execute_input": "2020-10-31T13:54:33.496133Z",
     "iopub.status.busy": "2020-10-31T13:54:33.495291Z",
     "iopub.status.idle": "2020-10-31T13:54:58.938457Z",
     "shell.execute_reply": "2020-10-31T13:54:58.937293Z"
    },
    "papermill": {
     "duration": 25.531757,
     "end_time": "2020-10-31T13:54:58.938603",
     "exception": false,
     "start_time": "2020-10-31T13:54:33.406846",
     "status": "completed"
    },
    "tags": []
   },
   "outputs": [
    {
     "name": "stderr",
     "output_type": "stream",
     "text": [
      "[Parallel(n_jobs=4)]: Using backend LokyBackend with 4 concurrent workers.\n",
      "[Parallel(n_jobs=4)]: Done  12 out of  12 | elapsed:   25.4s finished\n"
     ]
    }
   ],
   "source": [
    "# initializing a baseline classifier object\n",
    "no_oversample_model = DecisionTreeClassifier(class_weight='balanced', max_depth=10, random_state=1)\n",
    "\n",
    "# getting the cross validation scores\n",
    "no_over_scores = cross_val_score(no_oversample_model, no_over_x, no_oversample_label, \\\n",
    "                         scoring='f1_weighted', cv=cv, n_jobs=4, verbose=True)"
   ]
  },
  {
   "cell_type": "code",
   "execution_count": 40,
   "metadata": {
    "execution": {
     "iopub.execute_input": "2020-10-31T13:54:59.112504Z",
     "iopub.status.busy": "2020-10-31T13:54:59.111330Z",
     "iopub.status.idle": "2020-10-31T13:54:59.115987Z",
     "shell.execute_reply": "2020-10-31T13:54:59.115351Z"
    },
    "papermill": {
     "duration": 0.094658,
     "end_time": "2020-10-31T13:54:59.116130",
     "exception": false,
     "start_time": "2020-10-31T13:54:59.021472",
     "status": "completed"
    },
    "tags": []
   },
   "outputs": [
    {
     "data": {
      "text/plain": [
       "0.29027328442049144"
      ]
     },
     "execution_count": 40,
     "metadata": {},
     "output_type": "execute_result"
    }
   ],
   "source": [
    "np.mean(no_over_scores)"
   ]
  },
  {
   "cell_type": "markdown",
   "metadata": {
    "papermill": {
     "duration": 0.085357,
     "end_time": "2020-10-31T13:54:59.284528",
     "exception": false,
     "start_time": "2020-10-31T13:54:59.199171",
     "status": "completed"
    },
    "tags": []
   },
   "source": [
    "## Method 3"
   ]
  },
  {
   "cell_type": "code",
   "execution_count": 41,
   "metadata": {
    "execution": {
     "iopub.execute_input": "2020-10-31T13:54:59.488285Z",
     "iopub.status.busy": "2020-10-31T13:54:59.467451Z",
     "iopub.status.idle": "2020-10-31T13:55:30.720637Z",
     "shell.execute_reply": "2020-10-31T13:55:30.719980Z"
    },
    "papermill": {
     "duration": 31.349827,
     "end_time": "2020-10-31T13:55:30.720777",
     "exception": false,
     "start_time": "2020-10-31T13:54:59.370950",
     "status": "completed"
    },
    "tags": []
   },
   "outputs": [],
   "source": [
    "# initializes a TfidfVectorizer object\n",
    "smote_tfidf_vec = TfidfVectorizer(stop_words=stop_words_lemma, tokenizer=tokenizer)\n",
    "\n",
    "# fits and transforms the corpus\n",
    "smote_x = smote_tfidf_vec.fit_transform(no_oversample_corpus)"
   ]
  },
  {
   "cell_type": "markdown",
   "metadata": {
    "papermill": {
     "duration": 0.085621,
     "end_time": "2020-10-31T13:55:30.890486",
     "exception": false,
     "start_time": "2020-10-31T13:55:30.804865",
     "status": "completed"
    },
    "tags": []
   },
   "source": [
    "### When using SMOTE for train and testing, it is important that we apply SMOTE to only the training set and not the pre-splitted data so that our test set will not have a copy of an observation in the training set else, our model will give false metric results. Since we are doing cross validation, we will use Imblearn pipeline instead of sklearn's pipeline. With Imblearn's pipeline, we are sure that SMOTE will be apply only after splitting for a particular cross validation. "
   ]
  },
  {
   "cell_type": "code",
   "execution_count": 42,
   "metadata": {
    "execution": {
     "iopub.execute_input": "2020-10-31T13:55:31.074097Z",
     "iopub.status.busy": "2020-10-31T13:55:31.072730Z",
     "iopub.status.idle": "2020-10-31T13:58:23.212274Z",
     "shell.execute_reply": "2020-10-31T13:58:23.212992Z"
    },
    "papermill": {
     "duration": 172.23665,
     "end_time": "2020-10-31T13:58:23.213208",
     "exception": false,
     "start_time": "2020-10-31T13:55:30.976558",
     "status": "completed"
    },
    "tags": []
   },
   "outputs": [
    {
     "name": "stderr",
     "output_type": "stream",
     "text": [
      "[Parallel(n_jobs=4)]: Using backend LokyBackend with 4 concurrent workers.\n",
      "[Parallel(n_jobs=4)]: Done  12 out of  12 | elapsed:  2.9min finished\n"
     ]
    }
   ],
   "source": [
    "smote = SMOTE(random_state=1, n_jobs=4) # initializes a SMOTE object\n",
    "\n",
    "# initializes a classifier object\n",
    "smote_oversample_model = DecisionTreeClassifier(max_depth=10, random_state=1)\n",
    "\n",
    "# creates a smote pipeline\n",
    "smote_pipe = Pipeline([('smote', smote), ('model', smote_oversample_model)], verbose=True)\n",
    "\n",
    "# getting the cross validation scores\n",
    "smote_scores = cross_val_score(smote_pipe, smote_x, no_oversample_label, \\\n",
    "                         scoring='f1_weighted', cv=cv, n_jobs=4, verbose=True)"
   ]
  },
  {
   "cell_type": "code",
   "execution_count": 43,
   "metadata": {
    "_cell_guid": "79c7e3d0-c299-4dcb-8224-4455121ee9b0",
    "_uuid": "d629ff2d2480ee46fbb7e2d37f6b5fab8052498a",
    "execution": {
     "iopub.execute_input": "2020-10-31T13:58:23.413828Z",
     "iopub.status.busy": "2020-10-31T13:58:23.412671Z",
     "iopub.status.idle": "2020-10-31T13:58:23.421798Z",
     "shell.execute_reply": "2020-10-31T13:58:23.421142Z"
    },
    "papermill": {
     "duration": 0.120811,
     "end_time": "2020-10-31T13:58:23.421919",
     "exception": false,
     "start_time": "2020-10-31T13:58:23.301108",
     "status": "completed"
    },
    "tags": []
   },
   "outputs": [
    {
     "data": {
      "text/plain": [
       "0.3322810767141489"
      ]
     },
     "execution_count": 43,
     "metadata": {},
     "output_type": "execute_result"
    }
   ],
   "source": [
    "np.mean(smote_scores)"
   ]
  },
  {
   "cell_type": "markdown",
   "metadata": {
    "papermill": {
     "duration": 0.087116,
     "end_time": "2020-10-31T13:58:23.599787",
     "exception": false,
     "start_time": "2020-10-31T13:58:23.512671",
     "status": "completed"
    },
    "tags": []
   },
   "source": [
    "## Methods 4 - 6 (````description```` plus ````not_vintage````)"
   ]
  },
  {
   "cell_type": "markdown",
   "metadata": {
    "papermill": {
     "duration": 0.085341,
     "end_time": "2020-10-31T13:58:23.770408",
     "exception": false,
     "start_time": "2020-10-31T13:58:23.685067",
     "status": "completed"
    },
    "tags": []
   },
   "source": [
    "### First, let's make a corpus where each document is ````description```` plus ````not_vintage````"
   ]
  },
  {
   "cell_type": "code",
   "execution_count": 44,
   "metadata": {
    "execution": {
     "iopub.execute_input": "2020-10-31T13:58:23.960544Z",
     "iopub.status.busy": "2020-10-31T13:58:23.955069Z",
     "iopub.status.idle": "2020-10-31T13:58:24.234413Z",
     "shell.execute_reply": "2020-10-31T13:58:24.233552Z"
    },
    "papermill": {
     "duration": 0.378153,
     "end_time": "2020-10-31T13:58:24.234543",
     "exception": false,
     "start_time": "2020-10-31T13:58:23.856390",
     "status": "completed"
    },
    "tags": []
   },
   "outputs": [],
   "source": [
    "# for sentence oversampling\n",
    "sent_oversample_corpus2 = [doc1 + ' ' + doc2 for doc1, doc2 in zip(\\\n",
    "                                                        balanced_df['description'], balanced_df['not_vintage'])]\n",
    "\n",
    "# for no oversampling\n",
    "no_oversample_corpus2 = [doc1 + ' ' + doc2 for doc1, doc2 in zip(\\\n",
    "                                                        top_df['description'], top_df['not_vintage'])]"
   ]
  },
  {
   "cell_type": "markdown",
   "metadata": {
    "papermill": {
     "duration": 0.08487,
     "end_time": "2020-10-31T13:58:24.405534",
     "exception": false,
     "start_time": "2020-10-31T13:58:24.320664",
     "status": "completed"
    },
    "tags": []
   },
   "source": [
    "### let's see how the combination of ````description```` and ````not_vintage```` looks like"
   ]
  },
  {
   "cell_type": "code",
   "execution_count": 45,
   "metadata": {
    "execution": {
     "iopub.execute_input": "2020-10-31T13:58:24.585747Z",
     "iopub.status.busy": "2020-10-31T13:58:24.584678Z",
     "iopub.status.idle": "2020-10-31T13:58:24.589552Z",
     "shell.execute_reply": "2020-10-31T13:58:24.588913Z"
    },
    "papermill": {
     "duration": 0.098,
     "end_time": "2020-10-31T13:58:24.589677",
     "exception": false,
     "start_time": "2020-10-31T13:58:24.491677",
     "status": "completed"
    },
    "tags": []
   },
   "outputs": [
    {
     "data": {
      "text/plain": [
       "['It also has weight and a solid, powerful core of spice and baked apple flavors. France Alsace Alsace Domaine Marcel Deiss',\n",
       " 'With its structure still developing, the wine needs to age. France Alsace Alsace Domaine Marcel Deiss',\n",
       " 'Drink from 2015. France Alsace Alsace Domaine Marcel Deiss']"
      ]
     },
     "execution_count": 45,
     "metadata": {},
     "output_type": "execute_result"
    }
   ],
   "source": [
    "sent_oversample_corpus2[-3:]"
   ]
  },
  {
   "cell_type": "code",
   "execution_count": 46,
   "metadata": {
    "execution": {
     "iopub.execute_input": "2020-10-31T13:58:24.766970Z",
     "iopub.status.busy": "2020-10-31T13:58:24.765995Z",
     "iopub.status.idle": "2020-10-31T13:58:24.770101Z",
     "shell.execute_reply": "2020-10-31T13:58:24.770703Z"
    },
    "papermill": {
     "duration": 0.095609,
     "end_time": "2020-10-31T13:58:24.770855",
     "exception": false,
     "start_time": "2020-10-31T13:58:24.675246",
     "status": "completed"
    },
    "tags": []
   },
   "outputs": [
    {
     "data": {
      "text/plain": [
       "[\"Aromas include tropical fruit, broom, brimstone and dried herb. The palate isn't overly expressive, offering unripened apple, citrus and dried sage alongside brisk acidity. Italy Vulkà Bianco Sicily & Sardinia Etna Nicosia\",\n",
       " \"This is ripe and fruity, a wine that is smooth while still structured. Firm tannins are filled out with juicy red berry fruits and freshened with acidity. It's  already drinkable, although it will certainly be better from 2016. Portugal Avidagos Douro Quinta dos Avidagos\",\n",
       " 'Tart and snappy, the flavors of lime flesh and rind dominate. Some green pineapple pokes through, with crisp acidity underscoring the flavors. The wine was all stainless-steel fermented. US Oregon Willamette Valley Willamette Valley Rainstorm']"
      ]
     },
     "execution_count": 46,
     "metadata": {},
     "output_type": "execute_result"
    }
   ],
   "source": [
    "no_oversample_corpus2[:3] "
   ]
  },
  {
   "cell_type": "markdown",
   "metadata": {
    "papermill": {
     "duration": 0.085966,
     "end_time": "2020-10-31T13:58:24.943572",
     "exception": false,
     "start_time": "2020-10-31T13:58:24.857606",
     "status": "completed"
    },
    "tags": []
   },
   "source": [
    "## Method 4"
   ]
  },
  {
   "cell_type": "code",
   "execution_count": 47,
   "metadata": {
    "execution": {
     "iopub.execute_input": "2020-10-31T13:58:25.129014Z",
     "iopub.status.busy": "2020-10-31T13:58:25.128235Z",
     "iopub.status.idle": "2020-10-31T13:59:30.406583Z",
     "shell.execute_reply": "2020-10-31T13:59:30.405697Z"
    },
    "papermill": {
     "duration": 65.376148,
     "end_time": "2020-10-31T13:59:30.406720",
     "exception": false,
     "start_time": "2020-10-31T13:58:25.030572",
     "status": "completed"
    },
    "tags": []
   },
   "outputs": [],
   "source": [
    "# initializes a Tfidfvectorizer object\n",
    "sent_tfidf_vec2 = TfidfVectorizer(stop_words=stop_words_lemma, tokenizer=tokenizer)\n",
    "\n",
    "# fits and transform the corpus\n",
    "sent_x2 = sent_tfidf_vec2.fit_transform(sent_oversample_corpus2)"
   ]
  },
  {
   "cell_type": "code",
   "execution_count": 48,
   "metadata": {
    "execution": {
     "iopub.execute_input": "2020-10-31T13:59:30.594541Z",
     "iopub.status.busy": "2020-10-31T13:59:30.593712Z",
     "iopub.status.idle": "2020-10-31T14:00:09.988817Z",
     "shell.execute_reply": "2020-10-31T14:00:09.989532Z"
    },
    "papermill": {
     "duration": 39.493147,
     "end_time": "2020-10-31T14:00:09.989694",
     "exception": false,
     "start_time": "2020-10-31T13:59:30.496547",
     "status": "completed"
    },
    "tags": []
   },
   "outputs": [
    {
     "name": "stderr",
     "output_type": "stream",
     "text": [
      "[Parallel(n_jobs=4)]: Using backend LokyBackend with 4 concurrent workers.\n",
      "[Parallel(n_jobs=4)]: Done  12 out of  12 | elapsed:   39.3s finished\n"
     ]
    }
   ],
   "source": [
    "# initializes a classifier object\n",
    "sent_oversample_model2 = DecisionTreeClassifier(class_weight='balanced', max_depth=10, random_state=1)\n",
    "\n",
    "# getting the cross validation scores\n",
    "sent_scores2 = cross_val_score(sent_oversample_model2, sent_x2, sent_oversample_labels, \\\n",
    "                         scoring='f1_weighted', cv=cv, n_jobs=4, verbose=True)"
   ]
  },
  {
   "cell_type": "code",
   "execution_count": 49,
   "metadata": {
    "execution": {
     "iopub.execute_input": "2020-10-31T14:00:10.176856Z",
     "iopub.status.busy": "2020-10-31T14:00:10.175770Z",
     "iopub.status.idle": "2020-10-31T14:00:10.180309Z",
     "shell.execute_reply": "2020-10-31T14:00:10.179530Z"
    },
    "papermill": {
     "duration": 0.099501,
     "end_time": "2020-10-31T14:00:10.180443",
     "exception": false,
     "start_time": "2020-10-31T14:00:10.080942",
     "status": "completed"
    },
    "tags": []
   },
   "outputs": [
    {
     "data": {
      "text/plain": [
       "0.33331975276360404"
      ]
     },
     "execution_count": 49,
     "metadata": {},
     "output_type": "execute_result"
    }
   ],
   "source": [
    "np.mean(sent_scores2)"
   ]
  },
  {
   "cell_type": "markdown",
   "metadata": {
    "papermill": {
     "duration": 0.08918,
     "end_time": "2020-10-31T14:00:10.361548",
     "exception": false,
     "start_time": "2020-10-31T14:00:10.272368",
     "status": "completed"
    },
    "tags": []
   },
   "source": [
    "### Method 5"
   ]
  },
  {
   "cell_type": "code",
   "execution_count": 50,
   "metadata": {
    "execution": {
     "iopub.execute_input": "2020-10-31T14:00:10.603632Z",
     "iopub.status.busy": "2020-10-31T14:00:10.567516Z",
     "iopub.status.idle": "2020-10-31T14:01:01.639981Z",
     "shell.execute_reply": "2020-10-31T14:01:01.638998Z"
    },
    "papermill": {
     "duration": 51.190548,
     "end_time": "2020-10-31T14:01:01.640166",
     "exception": false,
     "start_time": "2020-10-31T14:00:10.449618",
     "status": "completed"
    },
    "tags": []
   },
   "outputs": [],
   "source": [
    "# initializes a tfidfvectorizer object\n",
    "no_over_tfidf_vec2 = TfidfVectorizer(stop_words=stop_words_lemma, tokenizer=tokenizer)\n",
    "\n",
    "# fits and transforms the corpus\n",
    "no_over_x2 = no_over_tfidf_vec2.fit_transform(no_oversample_corpus2)"
   ]
  },
  {
   "cell_type": "code",
   "execution_count": 51,
   "metadata": {
    "execution": {
     "iopub.execute_input": "2020-10-31T14:01:01.830268Z",
     "iopub.status.busy": "2020-10-31T14:01:01.829184Z",
     "iopub.status.idle": "2020-10-31T14:01:35.224764Z",
     "shell.execute_reply": "2020-10-31T14:01:35.225908Z"
    },
    "papermill": {
     "duration": 33.495053,
     "end_time": "2020-10-31T14:01:35.226171",
     "exception": false,
     "start_time": "2020-10-31T14:01:01.731118",
     "status": "completed"
    },
    "tags": []
   },
   "outputs": [
    {
     "name": "stderr",
     "output_type": "stream",
     "text": [
      "[Parallel(n_jobs=4)]: Using backend LokyBackend with 4 concurrent workers.\n",
      "[Parallel(n_jobs=4)]: Done  12 out of  12 | elapsed:   33.3s finished\n"
     ]
    }
   ],
   "source": [
    "# initializes a classifier object\n",
    "no_oversample_model2 = DecisionTreeClassifier(class_weight='balanced', max_depth=10, random_state=1)\n",
    "\n",
    "# getting cross validation scores\n",
    "no_over_scores2 = cross_val_score(no_oversample_model2, no_over_x2, no_oversample_label, \\\n",
    "                         scoring='f1_weighted', cv=cv, n_jobs=4, verbose=True)"
   ]
  },
  {
   "cell_type": "code",
   "execution_count": 52,
   "metadata": {
    "execution": {
     "iopub.execute_input": "2020-10-31T14:01:35.420250Z",
     "iopub.status.busy": "2020-10-31T14:01:35.419318Z",
     "iopub.status.idle": "2020-10-31T14:01:35.424452Z",
     "shell.execute_reply": "2020-10-31T14:01:35.423703Z"
    },
    "papermill": {
     "duration": 0.102758,
     "end_time": "2020-10-31T14:01:35.424574",
     "exception": false,
     "start_time": "2020-10-31T14:01:35.321816",
     "status": "completed"
    },
    "tags": []
   },
   "outputs": [
    {
     "data": {
      "text/plain": [
       "0.291548912125046"
      ]
     },
     "execution_count": 52,
     "metadata": {},
     "output_type": "execute_result"
    }
   ],
   "source": [
    "np.mean(no_over_scores2)"
   ]
  },
  {
   "cell_type": "markdown",
   "metadata": {
    "papermill": {
     "duration": 0.089658,
     "end_time": "2020-10-31T14:01:35.604640",
     "exception": false,
     "start_time": "2020-10-31T14:01:35.514982",
     "status": "completed"
    },
    "tags": []
   },
   "source": [
    "## Method 6"
   ]
  },
  {
   "cell_type": "code",
   "execution_count": 53,
   "metadata": {
    "execution": {
     "iopub.execute_input": "2020-10-31T14:01:35.824257Z",
     "iopub.status.busy": "2020-10-31T14:01:35.803412Z",
     "iopub.status.idle": "2020-10-31T14:02:25.737573Z",
     "shell.execute_reply": "2020-10-31T14:02:25.736805Z"
    },
    "papermill": {
     "duration": 50.043131,
     "end_time": "2020-10-31T14:02:25.737704",
     "exception": false,
     "start_time": "2020-10-31T14:01:35.694573",
     "status": "completed"
    },
    "tags": []
   },
   "outputs": [],
   "source": [
    "# initializes a tfidfvectorixer object\n",
    "smote_tfidf_vec2 = TfidfVectorizer(stop_words=stop_words_lemma, tokenizer=tokenizer)\n",
    "\n",
    "# fits and transforms the corpus\n",
    "smote_x2 = smote_tfidf_vec2.fit_transform(no_oversample_corpus2)"
   ]
  },
  {
   "cell_type": "code",
   "execution_count": 54,
   "metadata": {
    "execution": {
     "iopub.execute_input": "2020-10-31T14:02:25.936275Z",
     "iopub.status.busy": "2020-10-31T14:02:25.935307Z",
     "iopub.status.idle": "2020-10-31T14:05:44.701545Z",
     "shell.execute_reply": "2020-10-31T14:05:44.702241Z"
    },
    "papermill": {
     "duration": 198.874289,
     "end_time": "2020-10-31T14:05:44.702425",
     "exception": false,
     "start_time": "2020-10-31T14:02:25.828136",
     "status": "completed"
    },
    "tags": []
   },
   "outputs": [
    {
     "name": "stderr",
     "output_type": "stream",
     "text": [
      "[Parallel(n_jobs=4)]: Using backend LokyBackend with 4 concurrent workers.\n",
      "[Parallel(n_jobs=4)]: Done  12 out of  12 | elapsed:  3.3min finished\n"
     ]
    }
   ],
   "source": [
    "# initializes a SMOTE object\n",
    "smote2 = SMOTE(random_state=1, n_jobs=4)\n",
    "\n",
    "# initializes a classifier\n",
    "smote_oversample_model2 = DecisionTreeClassifier(max_depth=10, random_state=1)\n",
    "\n",
    "# creating a pipeline\n",
    "smote_pipe2 = Pipeline([('smote', smote2), ('model', smote_oversample_model2)], verbose=True)\n",
    "\n",
    "# getting the scores\n",
    "smote_scores2 = cross_val_score(smote_pipe2, smote_x2, no_oversample_label, \\\n",
    "                         scoring='f1_weighted', cv=cv, n_jobs=4, verbose=True)"
   ]
  },
  {
   "cell_type": "code",
   "execution_count": 55,
   "metadata": {
    "_cell_guid": "79c7e3d0-c299-4dcb-8224-4455121ee9b0",
    "_uuid": "d629ff2d2480ee46fbb7e2d37f6b5fab8052498a",
    "execution": {
     "iopub.execute_input": "2020-10-31T14:05:44.893705Z",
     "iopub.status.busy": "2020-10-31T14:05:44.892835Z",
     "iopub.status.idle": "2020-10-31T14:05:44.897544Z",
     "shell.execute_reply": "2020-10-31T14:05:44.896875Z"
    },
    "papermill": {
     "duration": 0.104276,
     "end_time": "2020-10-31T14:05:44.897683",
     "exception": false,
     "start_time": "2020-10-31T14:05:44.793407",
     "status": "completed"
    },
    "tags": []
   },
   "outputs": [
    {
     "data": {
      "text/plain": [
       "0.2872408779340944"
      ]
     },
     "execution_count": 55,
     "metadata": {},
     "output_type": "execute_result"
    }
   ],
   "source": [
    "np.mean(smote_scores2)"
   ]
  },
  {
   "cell_type": "markdown",
   "metadata": {
    "papermill": {
     "duration": 0.09207,
     "end_time": "2020-10-31T14:05:45.081401",
     "exception": false,
     "start_time": "2020-10-31T14:05:44.989331",
     "status": "completed"
    },
    "tags": []
   },
   "source": [
    "# sent_oversampling of the combination of ````description```` and ````not_vintage```` (method 4) seems to be the best approach. Our next task is to build and tune more sophisticated models using method 4 and method 3 each (since their scores are close). We will also try other embeddings like word2vec etc. "
   ]
  },
  {
   "cell_type": "markdown",
   "metadata": {
    "papermill": {
     "duration": 0.092488,
     "end_time": "2020-10-31T14:05:45.266265",
     "exception": false,
     "start_time": "2020-10-31T14:05:45.173777",
     "status": "completed"
    },
    "tags": []
   },
   "source": [
    "## Let's see some of the words of the top 20 and lowest 20 idf scores from the best approach (method 4)"
   ]
  },
  {
   "cell_type": "code",
   "execution_count": 56,
   "metadata": {
    "execution": {
     "iopub.execute_input": "2020-10-31T14:05:45.499817Z",
     "iopub.status.busy": "2020-10-31T14:05:45.498916Z",
     "iopub.status.idle": "2020-10-31T14:05:45.528910Z",
     "shell.execute_reply": "2020-10-31T14:05:45.528083Z"
    },
    "papermill": {
     "duration": 0.17034,
     "end_time": "2020-10-31T14:05:45.529109",
     "exception": false,
     "start_time": "2020-10-31T14:05:45.358769",
     "status": "completed"
    },
    "tags": []
   },
   "outputs": [
    {
     "name": "stdout",
     "output_type": "stream",
     "text": [
      "9.889690481063147 aarde\n",
      "10.147519590365247 aaron\n",
      "11.03482278536615 aatto\n",
      "8.253345115709124 abacela\n",
      "10.901291392741628 abad\n",
      "10.582837661623092 abadal\n",
      "9.546745729936317 abadia\n",
      "10.495826284633463 abadía\n",
      "11.03482278536615 abandon\n",
      "11.594438573301572 abandonado\n",
      "10.582837661623092 abanico\n",
      "11.03482278536615 abarbanel\n",
      "10.272682733319254 abarca\n",
      "10.147519590365247 abascal\n",
      "11.882120645753353 abat\n",
      "9.985000660867472 abate\n",
      "9.64852842424626 abbadia\n",
      "12.287585753861517 abbassi\n",
      "10.090361176525299 abbaye\n",
      "9.985000660867472 abbazia\n"
     ]
    }
   ],
   "source": [
    "# let's see just the first 20 alphabetically sorted words in our vocabulary with their corresponding idf scores\n",
    "ind_to_word = sent_tfidf_vec2.get_feature_names()\n",
    "\n",
    "for ind in range(20):\n",
    "    print(sent_tfidf_vec2.idf_[ind], ind_to_word[ind])"
   ]
  },
  {
   "cell_type": "code",
   "execution_count": 57,
   "metadata": {
    "execution": {
     "iopub.execute_input": "2020-10-31T14:05:45.723113Z",
     "iopub.status.busy": "2020-10-31T14:05:45.722346Z",
     "iopub.status.idle": "2020-10-31T14:05:45.785875Z",
     "shell.execute_reply": "2020-10-31T14:05:45.785244Z"
    },
    "papermill": {
     "duration": 0.162897,
     "end_time": "2020-10-31T14:05:45.786008",
     "exception": false,
     "start_time": "2020-10-31T14:05:45.623111",
     "status": "completed"
    },
    "tags": []
   },
   "outputs": [
    {
     "name": "stdout",
     "output_type": "stream",
     "text": [
      "2.1512221646668 valley\n",
      "2.1688658612825162 flavor\n",
      "2.2454020440887996 california\n",
      "2.3336189882120992 fruit\n",
      "2.707372909702559 finish\n",
      "2.753677477744245 aroma\n",
      "2.796210352155348 palate\n",
      "2.8025345737147194 france\n",
      "2.8178084748738566 tannin\n",
      "2.8351623207517314 cherry\n",
      "2.868403615281985 drink\n",
      "2.9083468454235213 vineyard\n",
      "2.921267800430982 acidity\n",
      "2.9805271030088982 italy\n",
      "3.036199412449334 dry\n",
      "3.041781717609766 black\n",
      "3.114583867540703 ripe\n",
      "3.1780606871241517 de\n",
      "3.228940745137529 central\n",
      "3.2355965380407103 red\n"
     ]
    }
   ],
   "source": [
    "# let's see words of the bottom 20 idf scores in our vocabulary with their corresponding idf scores\n",
    "bottom_idf_indices = sent_tfidf_vec2.idf_.argsort()[:20]\n",
    "ind_to_word = sent_tfidf_vec2.get_feature_names()\n",
    "\n",
    "for ind in bottom_idf_indices:\n",
    "    print(sent_tfidf_vec2.idf_[ind], ind_to_word[ind])"
   ]
  },
  {
   "cell_type": "code",
   "execution_count": 58,
   "metadata": {
    "execution": {
     "iopub.execute_input": "2020-10-31T14:05:45.980242Z",
     "iopub.status.busy": "2020-10-31T14:05:45.979427Z",
     "iopub.status.idle": "2020-10-31T14:05:46.050355Z",
     "shell.execute_reply": "2020-10-31T14:05:46.048943Z"
    },
    "papermill": {
     "duration": 0.170805,
     "end_time": "2020-10-31T14:05:46.050537",
     "exception": false,
     "start_time": "2020-10-31T14:05:45.879732",
     "status": "completed"
    },
    "tags": []
   },
   "outputs": [
    {
     "name": "stdout",
     "output_type": "stream",
     "text": [
      "12.287585753861517 compute\n",
      "12.287585753861517 limitless\n",
      "12.287585753861517 sinton\n",
      "12.287585753861517 sintilation\n",
      "12.287585753861517 arquata\n",
      "12.287585753861517 limmer\n",
      "12.287585753861517 limosin\n",
      "12.287585753861517 limousin\n",
      "12.287585753861517 singulière\n",
      "12.287585753861517 limít\n",
      "12.287585753861517 arras\n",
      "12.287585753861517 singh\n",
      "12.287585753861517 linearly\n",
      "12.287585753861517 liner\n",
      "12.287585753861517 arrayán\n",
      "12.287585753861517 burmtt\n",
      "12.287585753861517 sinful\n",
      "12.287585753861517 sinuoso\n",
      "12.287585753861517 sinuously\n"
     ]
    }
   ],
   "source": [
    "# let's see words of the top 20 idf scores in our vocabulary with their corresponding idf scores\n",
    "top_idf_indices = sent_tfidf_vec2.idf_.argsort()[:-20:-1]\n",
    "ind_to_word = sent_tfidf_vec2.get_feature_names()\n",
    "\n",
    "for ind in top_idf_indices:\n",
    "    print(sent_tfidf_vec2.idf_[ind], ind_to_word[ind])"
   ]
  },
  {
   "cell_type": "code",
   "execution_count": 59,
   "metadata": {
    "execution": {
     "iopub.execute_input": "2020-10-31T14:05:46.247894Z",
     "iopub.status.busy": "2020-10-31T14:05:46.247094Z",
     "iopub.status.idle": "2020-10-31T14:05:46.253325Z",
     "shell.execute_reply": "2020-10-31T14:05:46.252692Z"
    },
    "papermill": {
     "duration": 0.105723,
     "end_time": "2020-10-31T14:05:46.253470",
     "exception": false,
     "start_time": "2020-10-31T14:05:46.147747",
     "status": "completed"
    },
    "tags": []
   },
   "outputs": [
    {
     "data": {
      "text/plain": [
       "37723"
      ]
     },
     "execution_count": 59,
     "metadata": {},
     "output_type": "execute_result"
    }
   ],
   "source": [
    "len(sent_tfidf_vec2.idf_) # checking the length of our vocabulary"
   ]
  },
  {
   "cell_type": "code",
   "execution_count": 60,
   "metadata": {
    "execution": {
     "iopub.execute_input": "2020-10-31T14:05:46.450004Z",
     "iopub.status.busy": "2020-10-31T14:05:46.448807Z",
     "iopub.status.idle": "2020-10-31T14:05:46.453872Z",
     "shell.execute_reply": "2020-10-31T14:05:46.453212Z"
    },
    "papermill": {
     "duration": 0.105102,
     "end_time": "2020-10-31T14:05:46.453993",
     "exception": false,
     "start_time": "2020-10-31T14:05:46.348891",
     "status": "completed"
    },
    "tags": []
   },
   "outputs": [
    {
     "data": {
      "text/plain": [
       "159648"
      ]
     },
     "execution_count": 60,
     "metadata": {},
     "output_type": "execute_result"
    }
   ],
   "source": [
    "len(sent_oversample_corpus2) # checking the length of our corpus"
   ]
  },
  {
   "cell_type": "code",
   "execution_count": null,
   "metadata": {
    "papermill": {
     "duration": 0.095486,
     "end_time": "2020-10-31T14:05:46.647566",
     "exception": false,
     "start_time": "2020-10-31T14:05:46.552080",
     "status": "completed"
    },
    "tags": []
   },
   "outputs": [],
   "source": []
  }
 ],
 "metadata": {
  "kernelspec": {
   "display_name": "Python 3",
   "language": "python",
   "name": "python3"
  },
  "language_info": {
   "codemirror_mode": {
    "name": "ipython",
    "version": 3
   },
   "file_extension": ".py",
   "mimetype": "text/x-python",
   "name": "python",
   "nbconvert_exporter": "python",
   "pygments_lexer": "ipython3",
   "version": "3.7.7"
  },
  "papermill": {
   "duration": 804.867881,
   "end_time": "2020-10-31T14:05:46.855213",
   "environment_variables": {},
   "exception": null,
   "input_path": "__notebook__.ipynb",
   "output_path": "__notebook__.ipynb",
   "parameters": {},
   "start_time": "2020-10-31T13:52:21.987332",
   "version": "2.1.0"
  }
 },
 "nbformat": 4,
 "nbformat_minor": 4
}
