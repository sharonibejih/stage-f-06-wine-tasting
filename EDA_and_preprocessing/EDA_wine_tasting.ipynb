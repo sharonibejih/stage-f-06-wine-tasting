{
 "cells": [
  {
   "cell_type": "markdown",
   "metadata": {
    "papermill": {
     "duration": 0.091323,
     "end_time": "2020-10-31T15:04:07.071363",
     "exception": false,
     "start_time": "2020-10-31T15:04:06.980040",
     "status": "completed"
    },
    "tags": []
   },
   "source": [
    "# EDA"
   ]
  },
  {
   "cell_type": "code",
   "execution_count": 1,
   "metadata": {
    "_cell_guid": "79c7e3d0-c299-4dcb-8224-4455121ee9b0",
    "_uuid": "d629ff2d2480ee46fbb7e2d37f6b5fab8052498a",
    "execution": {
     "iopub.execute_input": "2020-10-31T15:04:07.259051Z",
     "iopub.status.busy": "2020-10-31T15:04:07.258265Z",
     "iopub.status.idle": "2020-10-31T15:04:08.172516Z",
     "shell.execute_reply": "2020-10-31T15:04:08.171704Z"
    },
    "papermill": {
     "duration": 1.01164,
     "end_time": "2020-10-31T15:04:08.172649",
     "exception": false,
     "start_time": "2020-10-31T15:04:07.161009",
     "status": "completed"
    },
    "tags": []
   },
   "outputs": [],
   "source": [
    "# importing useful libraries\n",
    "import numpy as np\n",
    "import pandas as pd\n",
    "import matplotlib.pyplot as plt\n",
    "import seaborn as sns\n",
    "\n",
    "import warnings\n",
    "warnings.filterwarnings('ignore')\n",
    "\n",
    "%matplotlib inline"
   ]
  },
  {
   "cell_type": "code",
   "execution_count": 2,
   "metadata": {
    "execution": {
     "iopub.execute_input": "2020-10-31T15:04:08.360957Z",
     "iopub.status.busy": "2020-10-31T15:04:08.360160Z",
     "iopub.status.idle": "2020-10-31T15:04:09.503652Z",
     "shell.execute_reply": "2020-10-31T15:04:09.503042Z"
    },
    "papermill": {
     "duration": 1.24119,
     "end_time": "2020-10-31T15:04:09.503773",
     "exception": false,
     "start_time": "2020-10-31T15:04:08.262583",
     "status": "completed"
    },
    "tags": []
   },
   "outputs": [
    {
     "name": "stdout",
     "output_type": "stream",
     "text": [
      "(129971, 14)\n"
     ]
    },
    {
     "data": {
      "text/html": [
       "<div>\n",
       "<style scoped>\n",
       "    .dataframe tbody tr th:only-of-type {\n",
       "        vertical-align: middle;\n",
       "    }\n",
       "\n",
       "    .dataframe tbody tr th {\n",
       "        vertical-align: top;\n",
       "    }\n",
       "\n",
       "    .dataframe thead th {\n",
       "        text-align: right;\n",
       "    }\n",
       "</style>\n",
       "<table border=\"1\" class=\"dataframe\">\n",
       "  <thead>\n",
       "    <tr style=\"text-align: right;\">\n",
       "      <th></th>\n",
       "      <th>Unnamed: 0</th>\n",
       "      <th>country</th>\n",
       "      <th>description</th>\n",
       "      <th>designation</th>\n",
       "      <th>points</th>\n",
       "      <th>price</th>\n",
       "      <th>province</th>\n",
       "      <th>region_1</th>\n",
       "      <th>region_2</th>\n",
       "      <th>taster_name</th>\n",
       "      <th>taster_twitter_handle</th>\n",
       "      <th>title</th>\n",
       "      <th>variety</th>\n",
       "      <th>winery</th>\n",
       "    </tr>\n",
       "  </thead>\n",
       "  <tbody>\n",
       "    <tr>\n",
       "      <th>0</th>\n",
       "      <td>0</td>\n",
       "      <td>Italy</td>\n",
       "      <td>Aromas include tropical fruit, broom, brimston...</td>\n",
       "      <td>Vulkà Bianco</td>\n",
       "      <td>87</td>\n",
       "      <td>NaN</td>\n",
       "      <td>Sicily &amp; Sardinia</td>\n",
       "      <td>Etna</td>\n",
       "      <td>NaN</td>\n",
       "      <td>Kerin O’Keefe</td>\n",
       "      <td>@kerinokeefe</td>\n",
       "      <td>Nicosia 2013 Vulkà Bianco  (Etna)</td>\n",
       "      <td>White Blend</td>\n",
       "      <td>Nicosia</td>\n",
       "    </tr>\n",
       "    <tr>\n",
       "      <th>1</th>\n",
       "      <td>1</td>\n",
       "      <td>Portugal</td>\n",
       "      <td>This is ripe and fruity, a wine that is smooth...</td>\n",
       "      <td>Avidagos</td>\n",
       "      <td>87</td>\n",
       "      <td>15.0</td>\n",
       "      <td>Douro</td>\n",
       "      <td>NaN</td>\n",
       "      <td>NaN</td>\n",
       "      <td>Roger Voss</td>\n",
       "      <td>@vossroger</td>\n",
       "      <td>Quinta dos Avidagos 2011 Avidagos Red (Douro)</td>\n",
       "      <td>Portuguese Red</td>\n",
       "      <td>Quinta dos Avidagos</td>\n",
       "    </tr>\n",
       "    <tr>\n",
       "      <th>2</th>\n",
       "      <td>2</td>\n",
       "      <td>US</td>\n",
       "      <td>Tart and snappy, the flavors of lime flesh and...</td>\n",
       "      <td>NaN</td>\n",
       "      <td>87</td>\n",
       "      <td>14.0</td>\n",
       "      <td>Oregon</td>\n",
       "      <td>Willamette Valley</td>\n",
       "      <td>Willamette Valley</td>\n",
       "      <td>Paul Gregutt</td>\n",
       "      <td>@paulgwine</td>\n",
       "      <td>Rainstorm 2013 Pinot Gris (Willamette Valley)</td>\n",
       "      <td>Pinot Gris</td>\n",
       "      <td>Rainstorm</td>\n",
       "    </tr>\n",
       "  </tbody>\n",
       "</table>\n",
       "</div>"
      ],
      "text/plain": [
       "   Unnamed: 0   country                                        description  \\\n",
       "0           0     Italy  Aromas include tropical fruit, broom, brimston...   \n",
       "1           1  Portugal  This is ripe and fruity, a wine that is smooth...   \n",
       "2           2        US  Tart and snappy, the flavors of lime flesh and...   \n",
       "\n",
       "    designation  points  price           province           region_1  \\\n",
       "0  Vulkà Bianco      87    NaN  Sicily & Sardinia               Etna   \n",
       "1      Avidagos      87   15.0              Douro                NaN   \n",
       "2           NaN      87   14.0             Oregon  Willamette Valley   \n",
       "\n",
       "            region_2    taster_name taster_twitter_handle  \\\n",
       "0                NaN  Kerin O’Keefe          @kerinokeefe   \n",
       "1                NaN     Roger Voss            @vossroger   \n",
       "2  Willamette Valley   Paul Gregutt           @paulgwine    \n",
       "\n",
       "                                           title         variety  \\\n",
       "0              Nicosia 2013 Vulkà Bianco  (Etna)     White Blend   \n",
       "1  Quinta dos Avidagos 2011 Avidagos Red (Douro)  Portuguese Red   \n",
       "2  Rainstorm 2013 Pinot Gris (Willamette Valley)      Pinot Gris   \n",
       "\n",
       "                winery  \n",
       "0              Nicosia  \n",
       "1  Quinta dos Avidagos  \n",
       "2            Rainstorm  "
      ]
     },
     "execution_count": 2,
     "metadata": {},
     "output_type": "execute_result"
    }
   ],
   "source": [
    "# loading in our working data \n",
    "df2 = pd.read_csv('../input/wine-reviews/winemag-data-130k-v2.csv')\n",
    "print(df2.shape)\n",
    "df2.head(3)"
   ]
  },
  {
   "cell_type": "code",
   "execution_count": 3,
   "metadata": {
    "execution": {
     "iopub.execute_input": "2020-10-31T15:04:09.693451Z",
     "iopub.status.busy": "2020-10-31T15:04:09.692418Z",
     "iopub.status.idle": "2020-10-31T15:04:09.696318Z",
     "shell.execute_reply": "2020-10-31T15:04:09.696888Z"
    },
    "papermill": {
     "duration": 0.101747,
     "end_time": "2020-10-31T15:04:09.697043",
     "exception": false,
     "start_time": "2020-10-31T15:04:09.595296",
     "status": "completed"
    },
    "tags": []
   },
   "outputs": [
    {
     "data": {
      "text/plain": [
       "\"Arcane's Cab is stylistically apart from either California or Washington. It defines its own space. There's plenty of new oak, but the fruit, acid and tannins stand up to it. This is sharp and tangy; cranberry and raspberry, strawberry and citric acids all playing their part. Still young, give it some time in a decanter or in your cellar to come together and show its best.\""
      ]
     },
     "execution_count": 3,
     "metadata": {},
     "output_type": "execute_result"
    }
   ],
   "source": [
    "df2['description'][1000] # a view of a sample description"
   ]
  },
  {
   "cell_type": "markdown",
   "metadata": {
    "papermill": {
     "duration": 0.091048,
     "end_time": "2020-10-31T15:04:09.880869",
     "exception": false,
     "start_time": "2020-10-31T15:04:09.789821",
     "status": "completed"
    },
    "tags": []
   },
   "source": [
    "## Checking for repetition in descriptions"
   ]
  },
  {
   "cell_type": "code",
   "execution_count": 4,
   "metadata": {
    "execution": {
     "iopub.execute_input": "2020-10-31T15:04:10.082218Z",
     "iopub.status.busy": "2020-10-31T15:04:10.081420Z",
     "iopub.status.idle": "2020-10-31T15:04:11.546765Z",
     "shell.execute_reply": "2020-10-31T15:04:11.546007Z"
    },
    "papermill": {
     "duration": 1.574454,
     "end_time": "2020-10-31T15:04:11.546900",
     "exception": false,
     "start_time": "2020-10-31T15:04:09.972446",
     "status": "completed"
    },
    "tags": []
   },
   "outputs": [
    {
     "data": {
      "text/plain": [
       "description\n",
       "\"Chremisa,\" the ancient name of Krems, is commemorated in this wine that comes from Krems vineyards. It has tight, tangy apple-driven acidity, with a bright, light, citrusy character. Not for aging.    1\n",
       "dtype: int64"
      ]
     },
     "execution_count": 4,
     "metadata": {},
     "output_type": "execute_result"
    }
   ],
   "source": [
    "groups = df2.groupby('description')\n",
    "count = groups.apply(lambda x: x.shape[0]) # groups by description to check for repeated descriptions\n",
    "count.head(1)"
   ]
  },
  {
   "cell_type": "code",
   "execution_count": 5,
   "metadata": {
    "execution": {
     "iopub.execute_input": "2020-10-31T15:04:11.737082Z",
     "iopub.status.busy": "2020-10-31T15:04:11.736257Z",
     "iopub.status.idle": "2020-10-31T15:04:11.762911Z",
     "shell.execute_reply": "2020-10-31T15:04:11.762164Z"
    },
    "papermill": {
     "duration": 0.123984,
     "end_time": "2020-10-31T15:04:11.763034",
     "exception": false,
     "start_time": "2020-10-31T15:04:11.639050",
     "status": "completed"
    },
    "tags": []
   },
   "outputs": [
    {
     "name": "stdout",
     "output_type": "stream",
     "text": [
      "1\n",
      "3\n"
     ]
    },
    {
     "data": {
      "text/plain": [
       "10010"
      ]
     },
     "execution_count": 5,
     "metadata": {},
     "output_type": "execute_result"
    }
   ],
   "source": [
    "print(count.min())\n",
    "print(count.max())\n",
    "count[count > 1].shape[0] # checks the number of description with rrepeatitions"
   ]
  },
  {
   "cell_type": "code",
   "execution_count": 6,
   "metadata": {
    "execution": {
     "iopub.execute_input": "2020-10-31T15:04:11.954519Z",
     "iopub.status.busy": "2020-10-31T15:04:11.953778Z",
     "iopub.status.idle": "2020-10-31T15:04:19.231118Z",
     "shell.execute_reply": "2020-10-31T15:04:19.230337Z"
    },
    "papermill": {
     "duration": 7.375295,
     "end_time": "2020-10-31T15:04:19.231258",
     "exception": false,
     "start_time": "2020-10-31T15:04:11.855963",
     "status": "completed"
    },
    "tags": []
   },
   "outputs": [],
   "source": [
    "groups_dict = {k: v for k, v in groups} # making a dictionary of the groups"
   ]
  },
  {
   "cell_type": "code",
   "execution_count": 7,
   "metadata": {
    "execution": {
     "iopub.execute_input": "2020-10-31T15:04:19.429888Z",
     "iopub.status.busy": "2020-10-31T15:04:19.429088Z",
     "iopub.status.idle": "2020-10-31T15:04:19.447667Z",
     "shell.execute_reply": "2020-10-31T15:04:19.448187Z"
    },
    "papermill": {
     "duration": 0.118345,
     "end_time": "2020-10-31T15:04:19.448347",
     "exception": false,
     "start_time": "2020-10-31T15:04:19.330002",
     "status": "completed"
    },
    "tags": []
   },
   "outputs": [
    {
     "data": {
      "text/html": [
       "<div>\n",
       "<style scoped>\n",
       "    .dataframe tbody tr th:only-of-type {\n",
       "        vertical-align: middle;\n",
       "    }\n",
       "\n",
       "    .dataframe tbody tr th {\n",
       "        vertical-align: top;\n",
       "    }\n",
       "\n",
       "    .dataframe thead th {\n",
       "        text-align: right;\n",
       "    }\n",
       "</style>\n",
       "<table border=\"1\" class=\"dataframe\">\n",
       "  <thead>\n",
       "    <tr style=\"text-align: right;\">\n",
       "      <th></th>\n",
       "      <th>Unnamed: 0</th>\n",
       "      <th>country</th>\n",
       "      <th>description</th>\n",
       "      <th>designation</th>\n",
       "      <th>points</th>\n",
       "      <th>price</th>\n",
       "      <th>province</th>\n",
       "      <th>region_1</th>\n",
       "      <th>region_2</th>\n",
       "      <th>taster_name</th>\n",
       "      <th>taster_twitter_handle</th>\n",
       "      <th>title</th>\n",
       "      <th>variety</th>\n",
       "      <th>winery</th>\n",
       "    </tr>\n",
       "  </thead>\n",
       "  <tbody>\n",
       "    <tr>\n",
       "      <th>46540</th>\n",
       "      <td>46540</td>\n",
       "      <td>US</td>\n",
       "      <td>100% Malbec, it's redolent with dark plums, wi...</td>\n",
       "      <td>NaN</td>\n",
       "      <td>87</td>\n",
       "      <td>20.0</td>\n",
       "      <td>Washington</td>\n",
       "      <td>Rattlesnake Hills</td>\n",
       "      <td>Columbia Valley</td>\n",
       "      <td>Sean P. Sullivan</td>\n",
       "      <td>@wawinereport</td>\n",
       "      <td>Roza Ridge 2010 Malbec (Rattlesnake Hills)</td>\n",
       "      <td>Malbec</td>\n",
       "      <td>Roza Ridge</td>\n",
       "    </tr>\n",
       "    <tr>\n",
       "      <th>67614</th>\n",
       "      <td>67614</td>\n",
       "      <td>US</td>\n",
       "      <td>100% Malbec, it's redolent with dark plums, wi...</td>\n",
       "      <td>NaN</td>\n",
       "      <td>87</td>\n",
       "      <td>20.0</td>\n",
       "      <td>Washington</td>\n",
       "      <td>Rattlesnake Hills</td>\n",
       "      <td>Columbia Valley</td>\n",
       "      <td>Sean P. Sullivan</td>\n",
       "      <td>@wawinereport</td>\n",
       "      <td>Roza Ridge 2010 Malbec (Rattlesnake Hills)</td>\n",
       "      <td>Malbec</td>\n",
       "      <td>Roza Ridge</td>\n",
       "    </tr>\n",
       "  </tbody>\n",
       "</table>\n",
       "</div>"
      ],
      "text/plain": [
       "       Unnamed: 0 country                                        description  \\\n",
       "46540       46540      US  100% Malbec, it's redolent with dark plums, wi...   \n",
       "67614       67614      US  100% Malbec, it's redolent with dark plums, wi...   \n",
       "\n",
       "      designation  points  price    province           region_1  \\\n",
       "46540         NaN      87   20.0  Washington  Rattlesnake Hills   \n",
       "67614         NaN      87   20.0  Washington  Rattlesnake Hills   \n",
       "\n",
       "              region_2       taster_name taster_twitter_handle  \\\n",
       "46540  Columbia Valley  Sean P. Sullivan         @wawinereport   \n",
       "67614  Columbia Valley  Sean P. Sullivan         @wawinereport   \n",
       "\n",
       "                                            title variety      winery  \n",
       "46540  Roza Ridge 2010 Malbec (Rattlesnake Hills)  Malbec  Roza Ridge  \n",
       "67614  Roza Ridge 2010 Malbec (Rattlesnake Hills)  Malbec  Roza Ridge  "
      ]
     },
     "execution_count": 7,
     "metadata": {},
     "output_type": "execute_result"
    }
   ],
   "source": [
    "groups_dict[count[count > 1].index[0]] # a view of a sample repeated description"
   ]
  },
  {
   "cell_type": "code",
   "execution_count": 8,
   "metadata": {
    "execution": {
     "iopub.execute_input": "2020-10-31T15:04:19.658270Z",
     "iopub.status.busy": "2020-10-31T15:04:19.641935Z",
     "iopub.status.idle": "2020-10-31T15:04:19.662442Z",
     "shell.execute_reply": "2020-10-31T15:04:19.663008Z"
    },
    "papermill": {
     "duration": 0.120375,
     "end_time": "2020-10-31T15:04:19.663171",
     "exception": false,
     "start_time": "2020-10-31T15:04:19.542796",
     "status": "completed"
    },
    "tags": []
   },
   "outputs": [
    {
     "data": {
      "text/html": [
       "<div>\n",
       "<style scoped>\n",
       "    .dataframe tbody tr th:only-of-type {\n",
       "        vertical-align: middle;\n",
       "    }\n",
       "\n",
       "    .dataframe tbody tr th {\n",
       "        vertical-align: top;\n",
       "    }\n",
       "\n",
       "    .dataframe thead th {\n",
       "        text-align: right;\n",
       "    }\n",
       "</style>\n",
       "<table border=\"1\" class=\"dataframe\">\n",
       "  <thead>\n",
       "    <tr style=\"text-align: right;\">\n",
       "      <th></th>\n",
       "      <th>Unnamed: 0</th>\n",
       "      <th>country</th>\n",
       "      <th>description</th>\n",
       "      <th>designation</th>\n",
       "      <th>points</th>\n",
       "      <th>price</th>\n",
       "      <th>province</th>\n",
       "      <th>region_1</th>\n",
       "      <th>region_2</th>\n",
       "      <th>taster_name</th>\n",
       "      <th>taster_twitter_handle</th>\n",
       "      <th>title</th>\n",
       "      <th>variety</th>\n",
       "      <th>winery</th>\n",
       "    </tr>\n",
       "  </thead>\n",
       "  <tbody>\n",
       "    <tr>\n",
       "      <th>13143</th>\n",
       "      <td>13143</td>\n",
       "      <td>US</td>\n",
       "      <td>Cigar box, café au lait, and dried tobacco aro...</td>\n",
       "      <td>Estate Grown</td>\n",
       "      <td>88</td>\n",
       "      <td>30.0</td>\n",
       "      <td>Washington</td>\n",
       "      <td>Red Mountain</td>\n",
       "      <td>Columbia Valley</td>\n",
       "      <td>Sean P. Sullivan</td>\n",
       "      <td>@wawinereport</td>\n",
       "      <td>Ambassador Vineyard 2013 Estate Grown Syrah (R...</td>\n",
       "      <td>Syrah</td>\n",
       "      <td>Ambassador Vineyard</td>\n",
       "    </tr>\n",
       "    <tr>\n",
       "      <th>25181</th>\n",
       "      <td>25181</td>\n",
       "      <td>US</td>\n",
       "      <td>Cigar box, café au lait, and dried tobacco aro...</td>\n",
       "      <td>Estate Grown</td>\n",
       "      <td>88</td>\n",
       "      <td>30.0</td>\n",
       "      <td>Washington</td>\n",
       "      <td>Red Mountain</td>\n",
       "      <td>Columbia Valley</td>\n",
       "      <td>Sean P. Sullivan</td>\n",
       "      <td>@wawinereport</td>\n",
       "      <td>Ambassador Vineyard 2013 Estate Grown Syrah (R...</td>\n",
       "      <td>Syrah</td>\n",
       "      <td>Ambassador Vineyard</td>\n",
       "    </tr>\n",
       "    <tr>\n",
       "      <th>25182</th>\n",
       "      <td>25182</td>\n",
       "      <td>US</td>\n",
       "      <td>Cigar box, café au lait, and dried tobacco aro...</td>\n",
       "      <td>Estate</td>\n",
       "      <td>88</td>\n",
       "      <td>30.0</td>\n",
       "      <td>Washington</td>\n",
       "      <td>Red Mountain</td>\n",
       "      <td>Columbia Valley</td>\n",
       "      <td>Sean P. Sullivan</td>\n",
       "      <td>@wawinereport</td>\n",
       "      <td>Ambassador Vineyard 2013 Estate Syrah (Red Mou...</td>\n",
       "      <td>Syrah</td>\n",
       "      <td>Ambassador Vineyard</td>\n",
       "    </tr>\n",
       "  </tbody>\n",
       "</table>\n",
       "</div>"
      ],
      "text/plain": [
       "       Unnamed: 0 country                                        description  \\\n",
       "13143       13143      US  Cigar box, café au lait, and dried tobacco aro...   \n",
       "25181       25181      US  Cigar box, café au lait, and dried tobacco aro...   \n",
       "25182       25182      US  Cigar box, café au lait, and dried tobacco aro...   \n",
       "\n",
       "        designation  points  price    province      region_1         region_2  \\\n",
       "13143  Estate Grown      88   30.0  Washington  Red Mountain  Columbia Valley   \n",
       "25181  Estate Grown      88   30.0  Washington  Red Mountain  Columbia Valley   \n",
       "25182        Estate      88   30.0  Washington  Red Mountain  Columbia Valley   \n",
       "\n",
       "            taster_name taster_twitter_handle  \\\n",
       "13143  Sean P. Sullivan         @wawinereport   \n",
       "25181  Sean P. Sullivan         @wawinereport   \n",
       "25182  Sean P. Sullivan         @wawinereport   \n",
       "\n",
       "                                                   title variety  \\\n",
       "13143  Ambassador Vineyard 2013 Estate Grown Syrah (R...   Syrah   \n",
       "25181  Ambassador Vineyard 2013 Estate Grown Syrah (R...   Syrah   \n",
       "25182  Ambassador Vineyard 2013 Estate Syrah (Red Mou...   Syrah   \n",
       "\n",
       "                    winery  \n",
       "13143  Ambassador Vineyard  \n",
       "25181  Ambassador Vineyard  \n",
       "25182  Ambassador Vineyard  "
      ]
     },
     "execution_count": 8,
     "metadata": {},
     "output_type": "execute_result"
    }
   ],
   "source": [
    "groups_dict[count[count > 2].index[0]] # a view of a sample repeated description greayer than two"
   ]
  },
  {
   "cell_type": "markdown",
   "metadata": {
    "papermill": {
     "duration": 0.094978,
     "end_time": "2020-10-31T15:04:19.853690",
     "exception": false,
     "start_time": "2020-10-31T15:04:19.758712",
     "status": "completed"
    },
    "tags": []
   },
   "source": [
    "## we clearly see some repeatitions. Let's check if any repeated ````description```` have different ````variety```` associated with it. We will call such varieties ````strange_varieties```` because they will tend to confuse our model."
   ]
  },
  {
   "cell_type": "code",
   "execution_count": 9,
   "metadata": {
    "execution": {
     "iopub.execute_input": "2020-10-31T15:04:20.053220Z",
     "iopub.status.busy": "2020-10-31T15:04:20.052170Z",
     "iopub.status.idle": "2020-10-31T15:04:21.472934Z",
     "shell.execute_reply": "2020-10-31T15:04:21.472174Z"
    },
    "papermill": {
     "duration": 1.524143,
     "end_time": "2020-10-31T15:04:21.473060",
     "exception": false,
     "start_time": "2020-10-31T15:04:19.948917",
     "status": "completed"
    },
    "tags": []
   },
   "outputs": [],
   "source": [
    "strange_varieties = []\n",
    "for i in count[count > 1].index:\n",
    "    if len(groups_dict[i]['variety'].unique()) > 1:\n",
    "        strange_varieties.append(i)"
   ]
  },
  {
   "cell_type": "code",
   "execution_count": 10,
   "metadata": {
    "execution": {
     "iopub.execute_input": "2020-10-31T15:04:21.669090Z",
     "iopub.status.busy": "2020-10-31T15:04:21.667995Z",
     "iopub.status.idle": "2020-10-31T15:04:21.672789Z",
     "shell.execute_reply": "2020-10-31T15:04:21.672082Z"
    },
    "papermill": {
     "duration": 0.104942,
     "end_time": "2020-10-31T15:04:21.672923",
     "exception": false,
     "start_time": "2020-10-31T15:04:21.567981",
     "status": "completed"
    },
    "tags": []
   },
   "outputs": [
    {
     "data": {
      "text/plain": [
       "10"
      ]
     },
     "execution_count": 10,
     "metadata": {},
     "output_type": "execute_result"
    }
   ],
   "source": [
    "len(strange_varieties)"
   ]
  },
  {
   "cell_type": "code",
   "execution_count": 11,
   "metadata": {
    "execution": {
     "iopub.execute_input": "2020-10-31T15:04:21.881832Z",
     "iopub.status.busy": "2020-10-31T15:04:21.874521Z",
     "iopub.status.idle": "2020-10-31T15:04:21.886355Z",
     "shell.execute_reply": "2020-10-31T15:04:21.886920Z"
    },
    "papermill": {
     "duration": 0.118678,
     "end_time": "2020-10-31T15:04:21.887073",
     "exception": false,
     "start_time": "2020-10-31T15:04:21.768395",
     "status": "completed"
    },
    "tags": []
   },
   "outputs": [
    {
     "data": {
      "text/html": [
       "<div>\n",
       "<style scoped>\n",
       "    .dataframe tbody tr th:only-of-type {\n",
       "        vertical-align: middle;\n",
       "    }\n",
       "\n",
       "    .dataframe tbody tr th {\n",
       "        vertical-align: top;\n",
       "    }\n",
       "\n",
       "    .dataframe thead th {\n",
       "        text-align: right;\n",
       "    }\n",
       "</style>\n",
       "<table border=\"1\" class=\"dataframe\">\n",
       "  <thead>\n",
       "    <tr style=\"text-align: right;\">\n",
       "      <th></th>\n",
       "      <th>Unnamed: 0</th>\n",
       "      <th>country</th>\n",
       "      <th>description</th>\n",
       "      <th>designation</th>\n",
       "      <th>points</th>\n",
       "      <th>price</th>\n",
       "      <th>province</th>\n",
       "      <th>region_1</th>\n",
       "      <th>region_2</th>\n",
       "      <th>taster_name</th>\n",
       "      <th>taster_twitter_handle</th>\n",
       "      <th>title</th>\n",
       "      <th>variety</th>\n",
       "      <th>winery</th>\n",
       "    </tr>\n",
       "  </thead>\n",
       "  <tbody>\n",
       "    <tr>\n",
       "      <th>33463</th>\n",
       "      <td>33463</td>\n",
       "      <td>Greece</td>\n",
       "      <td>Aromas of citrus, melon and orange blossom sta...</td>\n",
       "      <td>NaN</td>\n",
       "      <td>88</td>\n",
       "      <td>15.0</td>\n",
       "      <td>Atalanti Valley</td>\n",
       "      <td>NaN</td>\n",
       "      <td>NaN</td>\n",
       "      <td>Susan Kostrzewa</td>\n",
       "      <td>@suskostrzewa</td>\n",
       "      <td>Hatzimichalis 2015 Chardonnay (Atalanti Valley)</td>\n",
       "      <td>Chardonnay</td>\n",
       "      <td>Hatzimichalis</td>\n",
       "    </tr>\n",
       "    <tr>\n",
       "      <th>124931</th>\n",
       "      <td>124931</td>\n",
       "      <td>Greece</td>\n",
       "      <td>Aromas of citrus, melon and orange blossom sta...</td>\n",
       "      <td>NaN</td>\n",
       "      <td>89</td>\n",
       "      <td>22.0</td>\n",
       "      <td>Cephalonia</td>\n",
       "      <td>NaN</td>\n",
       "      <td>NaN</td>\n",
       "      <td>Susan Kostrzewa</td>\n",
       "      <td>@suskostrzewa</td>\n",
       "      <td>Gentilini 2015 Robola (Cephalonia)</td>\n",
       "      <td>Robola</td>\n",
       "      <td>Gentilini</td>\n",
       "    </tr>\n",
       "  </tbody>\n",
       "</table>\n",
       "</div>"
      ],
      "text/plain": [
       "        Unnamed: 0 country                                        description  \\\n",
       "33463        33463  Greece  Aromas of citrus, melon and orange blossom sta...   \n",
       "124931      124931  Greece  Aromas of citrus, melon and orange blossom sta...   \n",
       "\n",
       "       designation  points  price         province region_1 region_2  \\\n",
       "33463          NaN      88   15.0  Atalanti Valley      NaN      NaN   \n",
       "124931         NaN      89   22.0       Cephalonia      NaN      NaN   \n",
       "\n",
       "            taster_name taster_twitter_handle  \\\n",
       "33463   Susan Kostrzewa         @suskostrzewa   \n",
       "124931  Susan Kostrzewa         @suskostrzewa   \n",
       "\n",
       "                                                  title     variety  \\\n",
       "33463   Hatzimichalis 2015 Chardonnay (Atalanti Valley)  Chardonnay   \n",
       "124931               Gentilini 2015 Robola (Cephalonia)      Robola   \n",
       "\n",
       "               winery  \n",
       "33463   Hatzimichalis  \n",
       "124931      Gentilini  "
      ]
     },
     "execution_count": 11,
     "metadata": {},
     "output_type": "execute_result"
    }
   ],
   "source": [
    "groups_dict[strange_varieties[0]] # let's see an example"
   ]
  },
  {
   "cell_type": "markdown",
   "metadata": {
    "papermill": {
     "duration": 0.117042,
     "end_time": "2020-10-31T15:04:22.101720",
     "exception": false,
     "start_time": "2020-10-31T15:04:21.984678",
     "status": "completed"
    },
    "tags": []
   },
   "source": [
    "## Checking for class imbalance"
   ]
  },
  {
   "cell_type": "code",
   "execution_count": 12,
   "metadata": {
    "execution": {
     "iopub.execute_input": "2020-10-31T15:04:22.324407Z",
     "iopub.status.busy": "2020-10-31T15:04:22.323291Z",
     "iopub.status.idle": "2020-10-31T15:04:22.327398Z",
     "shell.execute_reply": "2020-10-31T15:04:22.328023Z"
    },
    "papermill": {
     "duration": 0.123671,
     "end_time": "2020-10-31T15:04:22.328182",
     "exception": false,
     "start_time": "2020-10-31T15:04:22.204511",
     "status": "completed"
    },
    "tags": []
   },
   "outputs": [
    {
     "data": {
      "text/plain": [
       "708"
      ]
     },
     "execution_count": 12,
     "metadata": {},
     "output_type": "execute_result"
    }
   ],
   "source": [
    "len(df2['variety'].unique()) # checking total classes in our data"
   ]
  },
  {
   "cell_type": "code",
   "execution_count": 13,
   "metadata": {
    "execution": {
     "iopub.execute_input": "2020-10-31T15:04:22.565933Z",
     "iopub.status.busy": "2020-10-31T15:04:22.562125Z",
     "iopub.status.idle": "2020-10-31T15:04:22.570718Z",
     "shell.execute_reply": "2020-10-31T15:04:22.570136Z"
    },
    "papermill": {
     "duration": 0.145173,
     "end_time": "2020-10-31T15:04:22.570845",
     "exception": false,
     "start_time": "2020-10-31T15:04:22.425672",
     "status": "completed"
    },
    "tags": []
   },
   "outputs": [
    {
     "data": {
      "text/plain": [
       "Pinot Noir                   13272\n",
       "Chardonnay                   11753\n",
       "Cabernet Sauvignon            9472\n",
       "Red Blend                     8946\n",
       "Bordeaux-style Red Blend      6915\n",
       "                             ...  \n",
       "Tsapournakos                     1\n",
       "Xinisteri                        1\n",
       "Folle Blanche                    1\n",
       "Sauvignon Blanc-Assyrtiko        1\n",
       "Shiraz-Roussanne                 1\n",
       "Name: variety, Length: 707, dtype: int64"
      ]
     },
     "execution_count": 13,
     "metadata": {},
     "output_type": "execute_result"
    }
   ],
   "source": [
    "variety_counts = df2['variety'].value_counts() # making a Series of the value counts of the classes\n",
    "variety_counts"
   ]
  },
  {
   "cell_type": "markdown",
   "metadata": {
    "papermill": {
     "duration": 0.097671,
     "end_time": "2020-10-31T15:04:22.766467",
     "exception": false,
     "start_time": "2020-10-31T15:04:22.668796",
     "status": "completed"
    },
    "tags": []
   },
   "source": [
    "### we see that some classes have just one observation"
   ]
  },
  {
   "cell_type": "code",
   "execution_count": 14,
   "metadata": {
    "execution": {
     "iopub.execute_input": "2020-10-31T15:04:23.017796Z",
     "iopub.status.busy": "2020-10-31T15:04:23.016692Z",
     "iopub.status.idle": "2020-10-31T15:04:23.021131Z",
     "shell.execute_reply": "2020-10-31T15:04:23.020560Z"
    },
    "papermill": {
     "duration": 0.157223,
     "end_time": "2020-10-31T15:04:23.021264",
     "exception": false,
     "start_time": "2020-10-31T15:04:22.864041",
     "status": "completed"
    },
    "tags": []
   },
   "outputs": [
    {
     "data": {
      "text/plain": [
       "Pinot Noir                    13272\n",
       "Chardonnay                    25025\n",
       "Cabernet Sauvignon            34497\n",
       "Red Blend                     43443\n",
       "Bordeaux-style Red Blend      50358\n",
       "                              ...  \n",
       "Tsapournakos                 129966\n",
       "Xinisteri                    129967\n",
       "Folle Blanche                129968\n",
       "Sauvignon Blanc-Assyrtiko    129969\n",
       "Shiraz-Roussanne             129970\n",
       "Name: variety, Length: 707, dtype: int64"
      ]
     },
     "execution_count": 14,
     "metadata": {},
     "output_type": "execute_result"
    }
   ],
   "source": [
    "variety_cumsum = variety_counts.cumsum() # making a Series of the cummulatiove sum of variety_counts\n",
    "variety_cumsum"
   ]
  },
  {
   "cell_type": "code",
   "execution_count": 15,
   "metadata": {
    "execution": {
     "iopub.execute_input": "2020-10-31T15:04:23.230880Z",
     "iopub.status.busy": "2020-10-31T15:04:23.229832Z",
     "iopub.status.idle": "2020-10-31T15:04:23.233512Z",
     "shell.execute_reply": "2020-10-31T15:04:23.234104Z"
    },
    "papermill": {
     "duration": 0.109209,
     "end_time": "2020-10-31T15:04:23.234255",
     "exception": false,
     "start_time": "2020-10-31T15:04:23.125046",
     "status": "completed"
    },
    "tags": []
   },
   "outputs": [
    {
     "data": {
      "text/plain": [
       "28"
      ]
     },
     "execution_count": 15,
     "metadata": {},
     "output_type": "execute_result"
    }
   ],
   "source": [
    "variety_counts[variety_counts > 1000].shape[0] # let's see how many classes have more than 1000 observations"
   ]
  },
  {
   "cell_type": "code",
   "execution_count": 16,
   "metadata": {
    "execution": {
     "iopub.execute_input": "2020-10-31T15:04:23.456312Z",
     "iopub.status.busy": "2020-10-31T15:04:23.455568Z",
     "iopub.status.idle": "2020-10-31T15:04:23.458333Z",
     "shell.execute_reply": "2020-10-31T15:04:23.458942Z"
    },
    "papermill": {
     "duration": 0.124993,
     "end_time": "2020-10-31T15:04:23.459108",
     "exception": false,
     "start_time": "2020-10-31T15:04:23.334115",
     "status": "completed"
    },
    "tags": []
   },
   "outputs": [],
   "source": [
    "# let's key the classes (varieties) with numbers so we can properly plot their count. This will make the x-axis\n",
    "# to be concise\n",
    "variety_dict = {k: v for k, v in zip(range(len(df2['variety'].unique())), variety_counts.index)}"
   ]
  },
  {
   "cell_type": "code",
   "execution_count": 17,
   "metadata": {
    "execution": {
     "iopub.execute_input": "2020-10-31T15:04:23.666982Z",
     "iopub.status.busy": "2020-10-31T15:04:23.666166Z",
     "iopub.status.idle": "2020-10-31T15:04:23.669002Z",
     "shell.execute_reply": "2020-10-31T15:04:23.668220Z"
    },
    "papermill": {
     "duration": 0.109174,
     "end_time": "2020-10-31T15:04:23.669127",
     "exception": false,
     "start_time": "2020-10-31T15:04:23.559953",
     "status": "completed"
    },
    "tags": []
   },
   "outputs": [],
   "source": [
    "import matplotlib.pyplot as plt\n",
    "import seaborn as sns"
   ]
  },
  {
   "cell_type": "code",
   "execution_count": 18,
   "metadata": {
    "execution": {
     "iopub.execute_input": "2020-10-31T15:04:23.877773Z",
     "iopub.status.busy": "2020-10-31T15:04:23.876959Z",
     "iopub.status.idle": "2020-10-31T15:04:25.520645Z",
     "shell.execute_reply": "2020-10-31T15:04:25.520005Z"
    },
    "papermill": {
     "duration": 1.750564,
     "end_time": "2020-10-31T15:04:25.520766",
     "exception": false,
     "start_time": "2020-10-31T15:04:23.770202",
     "status": "completed"
    },
    "tags": []
   },
   "outputs": [
    {
     "data": {
      "image/png": "[encoded data removed]",
      "text/plain": [
       "<Figure size 1296x288 with 1 Axes>"
      ]
     },
     "metadata": {
      "needs_background": "light"
     },
     "output_type": "display_data"
    }
   ],
   "source": [
    "fig = plt.figure(figsize=(18, 4))\n",
    "plt.bar(list(variety_dict.keys()), list(variety_counts.values))\n",
    "plt.xlabel('variety')\n",
    "plt.ylabel('counts')\n",
    "plt.title('bar chart of variety count')\n",
    "plt.show()"
   ]
  },
  {
   "cell_type": "code",
   "execution_count": 19,
   "metadata": {
    "execution": {
     "iopub.execute_input": "2020-10-31T15:04:25.734897Z",
     "iopub.status.busy": "2020-10-31T15:04:25.729227Z",
     "iopub.status.idle": "2020-10-31T15:04:27.919479Z",
     "shell.execute_reply": "2020-10-31T15:04:27.920025Z"
    },
    "papermill": {
     "duration": 2.298761,
     "end_time": "2020-10-31T15:04:27.920186",
     "exception": false,
     "start_time": "2020-10-31T15:04:25.621425",
     "status": "completed"
    },
    "tags": []
   },
   "outputs": [
    {
     "data": {
      "image/png": "[encoded data removed]",
      "text/plain": [
       "<Figure size 1296x288 with 1 Axes>"
      ]
     },
     "metadata": {
      "needs_background": "light"
     },
     "output_type": "display_data"
    }
   ],
   "source": [
    "fig = plt.figure(figsize=(18, 4))\n",
    "plt.bar(list(variety_dict.keys()), list(variety_cumsum.values))\n",
    "plt.xlabel('variety')\n",
    "plt.ylabel('cummuative counts')\n",
    "plt.title('bar chart of cummulative variety count')\n",
    "plt.show()"
   ]
  },
  {
   "cell_type": "markdown",
   "metadata": {
    "papermill": {
     "duration": 0.102159,
     "end_time": "2020-10-31T15:04:28.126504",
     "exception": false,
     "start_time": "2020-10-31T15:04:28.024345",
     "status": "completed"
    },
    "tags": []
   },
   "source": [
    "### from the chart above, most of the classes have just one observation. We obviously need to drop them."
   ]
  },
  {
   "cell_type": "code",
   "execution_count": 20,
   "metadata": {
    "execution": {
     "iopub.execute_input": "2020-10-31T15:04:28.338988Z",
     "iopub.status.busy": "2020-10-31T15:04:28.338208Z",
     "iopub.status.idle": "2020-10-31T15:04:28.347389Z",
     "shell.execute_reply": "2020-10-31T15:04:28.346648Z"
    },
    "papermill": {
     "duration": 0.118288,
     "end_time": "2020-10-31T15:04:28.347521",
     "exception": false,
     "start_time": "2020-10-31T15:04:28.229233",
     "status": "completed"
    },
    "tags": []
   },
   "outputs": [
    {
     "data": {
      "text/plain": [
       "count      707.000000\n",
       "mean       183.833098\n",
       "std        976.188990\n",
       "min          1.000000\n",
       "25%          2.000000\n",
       "50%          6.000000\n",
       "75%         28.500000\n",
       "max      13272.000000\n",
       "Name: variety, dtype: float64"
      ]
     },
     "execution_count": 20,
     "metadata": {},
     "output_type": "execute_result"
    }
   ],
   "source": [
    "variety_counts.describe()"
   ]
  },
  {
   "cell_type": "markdown",
   "metadata": {
    "papermill": {
     "duration": 0.119152,
     "end_time": "2020-10-31T15:04:28.569968",
     "exception": false,
     "start_time": "2020-10-31T15:04:28.450816",
     "status": "completed"
    },
    "tags": []
   },
   "source": [
    "### we see that half of the wine varieties have value counts less than 7"
   ]
  },
  {
   "cell_type": "code",
   "execution_count": 21,
   "metadata": {
    "execution": {
     "iopub.execute_input": "2020-10-31T15:04:28.817542Z",
     "iopub.status.busy": "2020-10-31T15:04:28.816580Z",
     "iopub.status.idle": "2020-10-31T15:04:28.821023Z",
     "shell.execute_reply": "2020-10-31T15:04:28.820395Z"
    },
    "papermill": {
     "duration": 0.120546,
     "end_time": "2020-10-31T15:04:28.821147",
     "exception": false,
     "start_time": "2020-10-31T15:04:28.700601",
     "status": "completed"
    },
    "tags": []
   },
   "outputs": [
    {
     "name": "stdout",
     "output_type": "stream",
     "text": [
      "highest class (miniority to majority) ratio is 1:13272.0\n"
     ]
    }
   ],
   "source": [
    "print('highest class (miniority to majority) ratio is 1:{}'.format(round(\\\n",
    "                                                    variety_counts.iloc[0] / variety_counts.iloc[-1], 3)))"
   ]
  },
  {
   "cell_type": "code",
   "execution_count": 22,
   "metadata": {
    "execution": {
     "iopub.execute_input": "2020-10-31T15:04:29.045212Z",
     "iopub.status.busy": "2020-10-31T15:04:29.044415Z",
     "iopub.status.idle": "2020-10-31T15:04:29.047648Z",
     "shell.execute_reply": "2020-10-31T15:04:29.047063Z"
    },
    "papermill": {
     "duration": 0.122428,
     "end_time": "2020-10-31T15:04:29.047771",
     "exception": false,
     "start_time": "2020-10-31T15:04:28.925343",
     "status": "completed"
    },
    "tags": []
   },
   "outputs": [],
   "source": [
    "# creating a function to summary stats. for every top n varieties we will take as our working varieties\n",
    "def summarize_n(n, get_results=False):\n",
    "    largest_value = variety_cumsum.iloc[0]\n",
    "    value = variety_counts.iloc[n-1]\n",
    "    cum_value = variety_cumsum.iloc[n-1]\n",
    "    \n",
    "    if get_results:\n",
    "        return round(largest_value / value, 3), round(cum_value / df2.shape[0], 3)\n",
    "    \n",
    "    print('If you take the first {} varieties with the highest value count, the smallest value count'.format(n) + \n",
    "    ' will be {}, the percentage of the data covered will be {}% and the highest class ratio will be 1:{}'.format(\n",
    "    value, round(100*cum_value / df2.shape[0], 3), round(largest_value / value, 3)))"
   ]
  },
  {
   "cell_type": "code",
   "execution_count": 23,
   "metadata": {
    "execution": {
     "iopub.execute_input": "2020-10-31T15:04:29.262403Z",
     "iopub.status.busy": "2020-10-31T15:04:29.261635Z",
     "iopub.status.idle": "2020-10-31T15:04:29.265655Z",
     "shell.execute_reply": "2020-10-31T15:04:29.264916Z"
    },
    "papermill": {
     "duration": 0.113807,
     "end_time": "2020-10-31T15:04:29.265779",
     "exception": false,
     "start_time": "2020-10-31T15:04:29.151972",
     "status": "completed"
    },
    "tags": []
   },
   "outputs": [
    {
     "name": "stdout",
     "output_type": "stream",
     "text": [
      "If you take the first 50 varieties with the highest value count, the smallest value count will be 280, the percentage of the data covered will be 88.819% and the highest class ratio will be 1:47.4\n"
     ]
    }
   ],
   "source": [
    "summarize_n(50)"
   ]
  },
  {
   "cell_type": "code",
   "execution_count": 24,
   "metadata": {
    "execution": {
     "iopub.execute_input": "2020-10-31T15:04:29.479243Z",
     "iopub.status.busy": "2020-10-31T15:04:29.478305Z",
     "iopub.status.idle": "2020-10-31T15:04:29.481650Z",
     "shell.execute_reply": "2020-10-31T15:04:29.482221Z"
    },
    "papermill": {
     "duration": 0.112655,
     "end_time": "2020-10-31T15:04:29.482366",
     "exception": false,
     "start_time": "2020-10-31T15:04:29.369711",
     "status": "completed"
    },
    "tags": []
   },
   "outputs": [
    {
     "name": "stdout",
     "output_type": "stream",
     "text": [
      "If you take the first 100 varieties with the highest value count, the smallest value count will be 80, the percentage of the data covered will be 94.717% and the highest class ratio will be 1:165.9\n"
     ]
    }
   ],
   "source": [
    "summarize_n(100)"
   ]
  },
  {
   "cell_type": "code",
   "execution_count": 25,
   "metadata": {
    "execution": {
     "iopub.execute_input": "2020-10-31T15:04:29.702326Z",
     "iopub.status.busy": "2020-10-31T15:04:29.701471Z",
     "iopub.status.idle": "2020-10-31T15:04:29.704904Z",
     "shell.execute_reply": "2020-10-31T15:04:29.705515Z"
    },
    "papermill": {
     "duration": 0.113334,
     "end_time": "2020-10-31T15:04:29.705659",
     "exception": false,
     "start_time": "2020-10-31T15:04:29.592325",
     "status": "completed"
    },
    "tags": []
   },
   "outputs": [
    {
     "name": "stdout",
     "output_type": "stream",
     "text": [
      "If you take the first 200 varieties with the highest value count, the smallest value count will be 23, the percentage of the data covered will be 97.914% and the highest class ratio will be 1:577.043\n"
     ]
    }
   ],
   "source": [
    "summarize_n(200)"
   ]
  },
  {
   "cell_type": "markdown",
   "metadata": {
    "papermill": {
     "duration": 0.108185,
     "end_time": "2020-10-31T15:04:29.920219",
     "exception": false,
     "start_time": "2020-10-31T15:04:29.812034",
     "status": "completed"
    },
    "tags": []
   },
   "source": [
    "### we need a balanced trade-off between percentage of dataset covered and highest class ratio. Let's see a plot of this trade-off"
   ]
  },
  {
   "cell_type": "code",
   "execution_count": 26,
   "metadata": {
    "execution": {
     "iopub.execute_input": "2020-10-31T15:04:30.155547Z",
     "iopub.status.busy": "2020-10-31T15:04:30.145286Z",
     "iopub.status.idle": "2020-10-31T15:04:30.183348Z",
     "shell.execute_reply": "2020-10-31T15:04:30.182590Z"
    },
    "papermill": {
     "duration": 0.157572,
     "end_time": "2020-10-31T15:04:30.183488",
     "exception": false,
     "start_time": "2020-10-31T15:04:30.025916",
     "status": "completed"
    },
    "tags": []
   },
   "outputs": [],
   "source": [
    "x = []\n",
    "y = []\n",
    "for i in range(len(variety_counts)):\n",
    "    res = summarize_n(i+1, get_results=True)\n",
    "    x.append(res[0])\n",
    "    y.append(res[1]*100)"
   ]
  },
  {
   "cell_type": "code",
   "execution_count": 27,
   "metadata": {
    "execution": {
     "iopub.execute_input": "2020-10-31T15:04:30.408280Z",
     "iopub.status.busy": "2020-10-31T15:04:30.407541Z",
     "iopub.status.idle": "2020-10-31T15:04:30.579095Z",
     "shell.execute_reply": "2020-10-31T15:04:30.579824Z"
    },
    "papermill": {
     "duration": 0.292033,
     "end_time": "2020-10-31T15:04:30.579988",
     "exception": false,
     "start_time": "2020-10-31T15:04:30.287955",
     "status": "completed"
    },
    "tags": []
   },
   "outputs": [
    {
     "data": {
      "image/png": "[encoded data removed]",
      "text/plain": [
       "<Figure size 432x288 with 1 Axes>"
      ]
     },
     "metadata": {
      "needs_background": "light"
     },
     "output_type": "display_data"
    }
   ],
   "source": [
    "plt.plot(x, y)\n",
    "plt.xlim((0, 100)) # show only the fist 100 class ratio because of the size of the possible highest class ratio\n",
    "plt.ylabel('% of dataset covered')\n",
    "plt.xlabel('highest class ratio')\n",
    "plt.axvline(x=25, ls='--', color='y')\n",
    "plt.axvline(x=20, ls='--', color='g')\n",
    "plt.axvline(x=9, ls='--', color='r')\n",
    "plt.title('% of dataset covered vs highest class ratio')\n",
    "plt.show()"
   ]
  },
  {
   "cell_type": "markdown",
   "metadata": {
    "papermill": {
     "duration": 0.105644,
     "end_time": "2020-10-31T15:04:30.791834",
     "exception": false,
     "start_time": "2020-10-31T15:04:30.686190",
     "status": "completed"
    },
    "tags": []
   },
   "source": [
    "### The plot above is an elbow plot. A highest class ratio of about 1:9 seems to be the best. Let's see the number of top class corresponding to it."
   ]
  },
  {
   "cell_type": "code",
   "execution_count": 28,
   "metadata": {
    "execution": {
     "iopub.execute_input": "2020-10-31T15:04:31.014802Z",
     "iopub.status.busy": "2020-10-31T15:04:31.013719Z",
     "iopub.status.idle": "2020-10-31T15:04:31.018814Z",
     "shell.execute_reply": "2020-10-31T15:04:31.018187Z"
    },
    "papermill": {
     "duration": 0.120765,
     "end_time": "2020-10-31T15:04:31.018935",
     "exception": false,
     "start_time": "2020-10-31T15:04:30.898170",
     "status": "completed"
    },
    "tags": []
   },
   "outputs": [
    {
     "data": {
      "text/plain": [
       "18"
      ]
     },
     "execution_count": 28,
     "metadata": {},
     "output_type": "execute_result"
    }
   ],
   "source": [
    "variety_counts[variety_counts >= variety_cumsum.iloc[0] // 9].shape[0]"
   ]
  },
  {
   "cell_type": "markdown",
   "metadata": {
    "papermill": {
     "duration": 0.107011,
     "end_time": "2020-10-31T15:04:31.234006",
     "exception": false,
     "start_time": "2020-10-31T15:04:31.126995",
     "status": "completed"
    },
    "tags": []
   },
   "source": [
    "### we will aproximate this to the top 20 classes. These should be similar to the top 20 wine varieties. Let's check the summary of top 20"
   ]
  },
  {
   "cell_type": "code",
   "execution_count": 29,
   "metadata": {
    "execution": {
     "iopub.execute_input": "2020-10-31T15:04:31.453906Z",
     "iopub.status.busy": "2020-10-31T15:04:31.453122Z",
     "iopub.status.idle": "2020-10-31T15:04:31.457544Z",
     "shell.execute_reply": "2020-10-31T15:04:31.456963Z"
    },
    "papermill": {
     "duration": 0.116826,
     "end_time": "2020-10-31T15:04:31.457672",
     "exception": false,
     "start_time": "2020-10-31T15:04:31.340846",
     "status": "completed"
    },
    "tags": []
   },
   "outputs": [
    {
     "name": "stdout",
     "output_type": "stream",
     "text": [
      "If you take the first 20 varieties with the highest value count, the smallest value count will be 1455, the percentage of the data covered will be 72.258% and the highest class ratio will be 1:9.122\n"
     ]
    }
   ],
   "source": [
    "summarize_n(20)"
   ]
  },
  {
   "cell_type": "markdown",
   "metadata": {
    "papermill": {
     "duration": 0.111131,
     "end_time": "2020-10-31T15:04:31.676159",
     "exception": false,
     "start_time": "2020-10-31T15:04:31.565028",
     "status": "completed"
    },
    "tags": []
   },
   "source": [
    "### Just so we have pretty more than enough classes to work with in case we want to fall down to top lower classes, we will save the top 40 varieties as a csv file. We will extract the top 20 from it and have a chance to increase the number if need be."
   ]
  },
  {
   "cell_type": "code",
   "execution_count": 30,
   "metadata": {
    "execution": {
     "iopub.execute_input": "2020-10-31T15:04:31.896691Z",
     "iopub.status.busy": "2020-10-31T15:04:31.895775Z",
     "iopub.status.idle": "2020-10-31T15:04:31.899277Z",
     "shell.execute_reply": "2020-10-31T15:04:31.899849Z"
    },
    "papermill": {
     "duration": 0.117219,
     "end_time": "2020-10-31T15:04:31.900008",
     "exception": false,
     "start_time": "2020-10-31T15:04:31.782789",
     "status": "completed"
    },
    "tags": []
   },
   "outputs": [
    {
     "name": "stdout",
     "output_type": "stream",
     "text": [
      "If you take the first 40 varieties with the highest value count, the smallest value count will be 575, the percentage of the data covered will be 86.017% and the highest class ratio will be 1:23.082\n"
     ]
    }
   ],
   "source": [
    "summarize_n(40)"
   ]
  },
  {
   "cell_type": "code",
   "execution_count": 31,
   "metadata": {
    "execution": {
     "iopub.execute_input": "2020-10-31T15:04:32.131998Z",
     "iopub.status.busy": "2020-10-31T15:04:32.130936Z",
     "iopub.status.idle": "2020-10-31T15:04:32.136200Z",
     "shell.execute_reply": "2020-10-31T15:04:32.136991Z"
    },
    "papermill": {
     "duration": 0.128474,
     "end_time": "2020-10-31T15:04:32.137190",
     "exception": false,
     "start_time": "2020-10-31T15:04:32.008716",
     "status": "completed"
    },
    "tags": []
   },
   "outputs": [
    {
     "name": "stdout",
     "output_type": "stream",
     "text": [
      "40\n"
     ]
    },
    {
     "data": {
      "text/plain": [
       "Pinot Noir                       13272\n",
       "Chardonnay                       11753\n",
       "Cabernet Sauvignon                9472\n",
       "Red Blend                         8946\n",
       "Bordeaux-style Red Blend          6915\n",
       "Riesling                          5189\n",
       "Sauvignon Blanc                   4967\n",
       "Syrah                             4142\n",
       "Rosé                              3564\n",
       "Merlot                            3102\n",
       "Nebbiolo                          2804\n",
       "Zinfandel                         2714\n",
       "Sangiovese                        2707\n",
       "Malbec                            2652\n",
       "Portuguese Red                    2466\n",
       "White Blend                       2360\n",
       "Sparkling Blend                   2153\n",
       "Tempranillo                       1810\n",
       "Rhône-style Red Blend             1471\n",
       "Pinot Gris                        1455\n",
       "Champagne Blend                   1396\n",
       "Cabernet Franc                    1353\n",
       "Grüner Veltliner                  1345\n",
       "Portuguese White                  1159\n",
       "Bordeaux-style White Blend        1066\n",
       "Pinot Grigio                      1052\n",
       "Gamay                             1025\n",
       "Gewürztraminer                    1012\n",
       "Viognier                           996\n",
       "Shiraz                             836\n",
       "Petite Sirah                       770\n",
       "Sangiovese Grosso                  751\n",
       "Barbera                            721\n",
       "Glera                              709\n",
       "Port                               668\n",
       "Grenache                           651\n",
       "Corvina, Rondinella, Molinara      619\n",
       "Chenin Blanc                       591\n",
       "Tempranillo Blend                  588\n",
       "Carmenère                          575\n",
       "Name: variety, dtype: int64"
      ]
     },
     "execution_count": 31,
     "metadata": {},
     "output_type": "execute_result"
    }
   ],
   "source": [
    "top_varieties = variety_counts[(variety_counts.iloc[0] / variety_counts ) <=25]\n",
    "print(top_varieties.shape[0])\n",
    "top_varieties"
   ]
  },
  {
   "cell_type": "markdown",
   "metadata": {
    "papermill": {
     "duration": 0.108158,
     "end_time": "2020-10-31T15:04:32.358836",
     "exception": false,
     "start_time": "2020-10-31T15:04:32.250678",
     "status": "completed"
    },
    "tags": []
   },
   "source": [
    "## Checking for Nan values"
   ]
  },
  {
   "cell_type": "code",
   "execution_count": 32,
   "metadata": {
    "execution": {
     "iopub.execute_input": "2020-10-31T15:04:32.734394Z",
     "iopub.status.busy": "2020-10-31T15:04:32.733091Z",
     "iopub.status.idle": "2020-10-31T15:04:32.752791Z",
     "shell.execute_reply": "2020-10-31T15:04:32.752189Z"
    },
    "papermill": {
     "duration": 0.284729,
     "end_time": "2020-10-31T15:04:32.752917",
     "exception": false,
     "start_time": "2020-10-31T15:04:32.468188",
     "status": "completed"
    },
    "tags": []
   },
   "outputs": [
    {
     "data": {
      "text/html": [
       "<div>\n",
       "<style scoped>\n",
       "    .dataframe tbody tr th:only-of-type {\n",
       "        vertical-align: middle;\n",
       "    }\n",
       "\n",
       "    .dataframe tbody tr th {\n",
       "        vertical-align: top;\n",
       "    }\n",
       "\n",
       "    .dataframe thead th {\n",
       "        text-align: right;\n",
       "    }\n",
       "</style>\n",
       "<table border=\"1\" class=\"dataframe\">\n",
       "  <thead>\n",
       "    <tr style=\"text-align: right;\">\n",
       "      <th></th>\n",
       "      <th>n_Nan</th>\n",
       "      <th>%missing</th>\n",
       "    </tr>\n",
       "  </thead>\n",
       "  <tbody>\n",
       "    <tr>\n",
       "      <th>Unnamed: 0</th>\n",
       "      <td>0</td>\n",
       "      <td>0.000000</td>\n",
       "    </tr>\n",
       "    <tr>\n",
       "      <th>country</th>\n",
       "      <td>63</td>\n",
       "      <td>0.048472</td>\n",
       "    </tr>\n",
       "    <tr>\n",
       "      <th>description</th>\n",
       "      <td>0</td>\n",
       "      <td>0.000000</td>\n",
       "    </tr>\n",
       "    <tr>\n",
       "      <th>designation</th>\n",
       "      <td>37465</td>\n",
       "      <td>28.825661</td>\n",
       "    </tr>\n",
       "    <tr>\n",
       "      <th>points</th>\n",
       "      <td>0</td>\n",
       "      <td>0.000000</td>\n",
       "    </tr>\n",
       "    <tr>\n",
       "      <th>price</th>\n",
       "      <td>8996</td>\n",
       "      <td>6.921544</td>\n",
       "    </tr>\n",
       "    <tr>\n",
       "      <th>province</th>\n",
       "      <td>63</td>\n",
       "      <td>0.048472</td>\n",
       "    </tr>\n",
       "    <tr>\n",
       "      <th>region_1</th>\n",
       "      <td>21247</td>\n",
       "      <td>16.347493</td>\n",
       "    </tr>\n",
       "    <tr>\n",
       "      <th>region_2</th>\n",
       "      <td>79460</td>\n",
       "      <td>61.136715</td>\n",
       "    </tr>\n",
       "    <tr>\n",
       "      <th>taster_name</th>\n",
       "      <td>26244</td>\n",
       "      <td>20.192197</td>\n",
       "    </tr>\n",
       "    <tr>\n",
       "      <th>taster_twitter_handle</th>\n",
       "      <td>31213</td>\n",
       "      <td>24.015357</td>\n",
       "    </tr>\n",
       "    <tr>\n",
       "      <th>title</th>\n",
       "      <td>0</td>\n",
       "      <td>0.000000</td>\n",
       "    </tr>\n",
       "    <tr>\n",
       "      <th>variety</th>\n",
       "      <td>1</td>\n",
       "      <td>0.000769</td>\n",
       "    </tr>\n",
       "    <tr>\n",
       "      <th>winery</th>\n",
       "      <td>0</td>\n",
       "      <td>0.000000</td>\n",
       "    </tr>\n",
       "  </tbody>\n",
       "</table>\n",
       "</div>"
      ],
      "text/plain": [
       "                       n_Nan   %missing\n",
       "Unnamed: 0                 0   0.000000\n",
       "country                   63   0.048472\n",
       "description                0   0.000000\n",
       "designation            37465  28.825661\n",
       "points                     0   0.000000\n",
       "price                   8996   6.921544\n",
       "province                  63   0.048472\n",
       "region_1               21247  16.347493\n",
       "region_2               79460  61.136715\n",
       "taster_name            26244  20.192197\n",
       "taster_twitter_handle  31213  24.015357\n",
       "title                      0   0.000000\n",
       "variety                    1   0.000769\n",
       "winery                     0   0.000000"
      ]
     },
     "execution_count": 32,
     "metadata": {},
     "output_type": "execute_result"
    }
   ],
   "source": [
    "nan_df = df2.isnull().sum().to_frame()\n",
    "nan_df.rename(columns={0: 'n_Nan'}, inplace=True)\n",
    "nan_df['%missing'] = 100*nan_df['n_Nan'] / df2.shape[0]\n",
    "nan_df"
   ]
  },
  {
   "cell_type": "markdown",
   "metadata": {
    "papermill": {
     "duration": 0.109155,
     "end_time": "2020-10-31T15:04:32.971322",
     "exception": false,
     "start_time": "2020-10-31T15:04:32.862167",
     "status": "completed"
    },
    "tags": []
   },
   "source": [
    "## Now, we will check if the distribution of some features in the actual dataset is different from that in the top varieties. This will give us a clue on any feature that are affected or perculiar to either the top varieties or the bottom varieties. "
   ]
  },
  {
   "cell_type": "markdown",
   "metadata": {
    "papermill": {
     "duration": 0.110162,
     "end_time": "2020-10-31T15:04:33.192434",
     "exception": false,
     "start_time": "2020-10-31T15:04:33.082272",
     "status": "completed"
    },
    "tags": []
   },
   "source": [
    "## By Country"
   ]
  },
  {
   "cell_type": "code",
   "execution_count": 33,
   "metadata": {
    "execution": {
     "iopub.execute_input": "2020-10-31T15:04:33.446257Z",
     "iopub.status.busy": "2020-10-31T15:04:33.445164Z",
     "iopub.status.idle": "2020-10-31T15:04:33.467746Z",
     "shell.execute_reply": "2020-10-31T15:04:33.467092Z"
    },
    "papermill": {
     "duration": 0.153918,
     "end_time": "2020-10-31T15:04:33.467868",
     "exception": false,
     "start_time": "2020-10-31T15:04:33.313950",
     "status": "completed"
    },
    "tags": []
   },
   "outputs": [
    {
     "data": {
      "text/plain": [
       "43"
      ]
     },
     "execution_count": 33,
     "metadata": {},
     "output_type": "execute_result"
    }
   ],
   "source": [
    "len(df2['country'].dropna().unique()) # checks the number of unique countries"
   ]
  },
  {
   "cell_type": "code",
   "execution_count": 34,
   "metadata": {
    "execution": {
     "iopub.execute_input": "2020-10-31T15:04:33.762313Z",
     "iopub.status.busy": "2020-10-31T15:04:33.761265Z",
     "iopub.status.idle": "2020-10-31T15:04:34.192492Z",
     "shell.execute_reply": "2020-10-31T15:04:34.191842Z"
    },
    "papermill": {
     "duration": 0.609945,
     "end_time": "2020-10-31T15:04:34.192614",
     "exception": false,
     "start_time": "2020-10-31T15:04:33.582669",
     "status": "completed"
    },
    "tags": []
   },
   "outputs": [
    {
     "data": {
      "image/png": "[encoded data removed]",
      "text/plain": [
       "<Figure size 1296x288 with 1 Axes>"
      ]
     },
     "metadata": {
      "needs_background": "light"
     },
     "output_type": "display_data"
    }
   ],
   "source": [
    "by_country = df2['country'].dropna().value_counts()\n",
    "fig = plt.figure(figsize=(18, 4))\n",
    "plt.bar(by_country.index, by_country.values)\n",
    "plt.xticks(rotation=90)\n",
    "plt.show()"
   ]
  },
  {
   "cell_type": "code",
   "execution_count": 35,
   "metadata": {
    "execution": {
     "iopub.execute_input": "2020-10-31T15:04:34.424838Z",
     "iopub.status.busy": "2020-10-31T15:04:34.423903Z",
     "iopub.status.idle": "2020-10-31T15:04:34.428761Z",
     "shell.execute_reply": "2020-10-31T15:04:34.428137Z"
    },
    "papermill": {
     "duration": 0.124868,
     "end_time": "2020-10-31T15:04:34.428889",
     "exception": false,
     "start_time": "2020-10-31T15:04:34.304021",
     "status": "completed"
    },
    "tags": []
   },
   "outputs": [
    {
     "data": {
      "text/plain": [
       "US                        54504\n",
       "France                    22093\n",
       "Italy                     19540\n",
       "Spain                      6645\n",
       "Portugal                   5691\n",
       "Chile                      4472\n",
       "Argentina                  3800\n",
       "Austria                    3345\n",
       "Australia                  2329\n",
       "Germany                    2165\n",
       "New Zealand                1419\n",
       "South Africa               1401\n",
       "Israel                      505\n",
       "Greece                      466\n",
       "Canada                      257\n",
       "Hungary                     146\n",
       "Bulgaria                    141\n",
       "Romania                     120\n",
       "Uruguay                     109\n",
       "Turkey                       90\n",
       "Slovenia                     87\n",
       "Georgia                      86\n",
       "England                      74\n",
       "Croatia                      73\n",
       "Mexico                       70\n",
       "Moldova                      59\n",
       "Brazil                       52\n",
       "Lebanon                      35\n",
       "Morocco                      28\n",
       "Peru                         16\n",
       "Ukraine                      14\n",
       "Macedonia                    12\n",
       "Czech Republic               12\n",
       "Serbia                       12\n",
       "Cyprus                       11\n",
       "India                         9\n",
       "Switzerland                   7\n",
       "Luxembourg                    6\n",
       "Bosnia and Herzegovina        2\n",
       "Armenia                       2\n",
       "Egypt                         1\n",
       "Slovakia                      1\n",
       "China                         1\n",
       "Name: country, dtype: int64"
      ]
     },
     "execution_count": 35,
     "metadata": {},
     "output_type": "execute_result"
    }
   ],
   "source": [
    "by_country"
   ]
  },
  {
   "cell_type": "code",
   "execution_count": 36,
   "metadata": {
    "execution": {
     "iopub.execute_input": "2020-10-31T15:04:34.674852Z",
     "iopub.status.busy": "2020-10-31T15:04:34.674079Z",
     "iopub.status.idle": "2020-10-31T15:04:34.709743Z",
     "shell.execute_reply": "2020-10-31T15:04:34.709125Z"
    },
    "papermill": {
     "duration": 0.168335,
     "end_time": "2020-10-31T15:04:34.709889",
     "exception": false,
     "start_time": "2020-10-31T15:04:34.541554",
     "status": "completed"
    },
    "tags": []
   },
   "outputs": [
    {
     "name": "stdout",
     "output_type": "stream",
     "text": [
      "(41,)\n"
     ]
    },
    {
     "data": {
      "text/plain": [
       "array(['Italy', 'Portugal', 'US', 'France', 'Germany', 'Argentina',\n",
       "       'Spain', 'Chile', 'Australia', 'Austria', 'South Africa',\n",
       "       'New Zealand', 'Israel', 'Romania', 'Greece', 'Mexico', 'Hungary',\n",
       "       'Slovenia', 'Luxembourg', 'England', 'Uruguay', 'Lebanon',\n",
       "       'Canada', 'Brazil', 'Morocco', 'Czech Republic', 'India',\n",
       "       'Bulgaria', 'Cyprus', 'Turkey', 'Moldova', 'Croatia', 'Peru',\n",
       "       'Georgia', 'Ukraine', 'Switzerland', 'Slovakia', 'Serbia',\n",
       "       'Macedonia', 'Armenia', 'Egypt'], dtype=object)"
      ]
     },
     "execution_count": 36,
     "metadata": {},
     "output_type": "execute_result"
    }
   ],
   "source": [
    "countries_with_top_varieties = df2['country'].dropna()[df2['variety'].isin(top_varieties.index)].unique()\n",
    "print(countries_with_top_varieties.shape)\n",
    "countries_with_top_varieties"
   ]
  },
  {
   "cell_type": "code",
   "execution_count": 37,
   "metadata": {
    "execution": {
     "iopub.execute_input": "2020-10-31T15:04:34.958048Z",
     "iopub.status.busy": "2020-10-31T15:04:34.957040Z",
     "iopub.status.idle": "2020-10-31T15:04:34.983856Z",
     "shell.execute_reply": "2020-10-31T15:04:34.983237Z"
    },
    "papermill": {
     "duration": 0.159968,
     "end_time": "2020-10-31T15:04:34.983989",
     "exception": false,
     "start_time": "2020-10-31T15:04:34.824021",
     "status": "completed"
    },
    "tags": []
   },
   "outputs": [
    {
     "data": {
      "text/plain": [
       "{'Bosnia and Herzegovina', 'China'}"
      ]
     },
     "execution_count": 37,
     "metadata": {},
     "output_type": "execute_result"
    }
   ],
   "source": [
    " # checking for countries not in countries_with_top_varieties\n",
    "set(df2['country'].dropna()) - set(countries_with_top_varieties)"
   ]
  },
  {
   "cell_type": "code",
   "execution_count": 38,
   "metadata": {
    "execution": {
     "iopub.execute_input": "2020-10-31T15:04:35.245430Z",
     "iopub.status.busy": "2020-10-31T15:04:35.229210Z",
     "iopub.status.idle": "2020-10-31T15:04:35.250501Z",
     "shell.execute_reply": "2020-10-31T15:04:35.249784Z"
    },
    "papermill": {
     "duration": 0.150548,
     "end_time": "2020-10-31T15:04:35.250622",
     "exception": false,
     "start_time": "2020-10-31T15:04:35.100074",
     "status": "completed"
    },
    "tags": []
   },
   "outputs": [
    {
     "data": {
      "text/html": [
       "<div>\n",
       "<style scoped>\n",
       "    .dataframe tbody tr th:only-of-type {\n",
       "        vertical-align: middle;\n",
       "    }\n",
       "\n",
       "    .dataframe tbody tr th {\n",
       "        vertical-align: top;\n",
       "    }\n",
       "\n",
       "    .dataframe thead th {\n",
       "        text-align: right;\n",
       "    }\n",
       "</style>\n",
       "<table border=\"1\" class=\"dataframe\">\n",
       "  <thead>\n",
       "    <tr style=\"text-align: right;\">\n",
       "      <th></th>\n",
       "      <th>Unnamed: 0</th>\n",
       "      <th>country</th>\n",
       "      <th>description</th>\n",
       "      <th>designation</th>\n",
       "      <th>points</th>\n",
       "      <th>price</th>\n",
       "      <th>province</th>\n",
       "      <th>region_1</th>\n",
       "      <th>region_2</th>\n",
       "      <th>taster_name</th>\n",
       "      <th>taster_twitter_handle</th>\n",
       "      <th>title</th>\n",
       "      <th>variety</th>\n",
       "      <th>winery</th>\n",
       "    </tr>\n",
       "  </thead>\n",
       "  <tbody>\n",
       "    <tr>\n",
       "      <th>16467</th>\n",
       "      <td>16467</td>\n",
       "      <td>Bosnia and Herzegovina</td>\n",
       "      <td>Toasted oak and cedar notes meld into lush, ri...</td>\n",
       "      <td>Vranac</td>\n",
       "      <td>85</td>\n",
       "      <td>13.0</td>\n",
       "      <td>Mostar</td>\n",
       "      <td>NaN</td>\n",
       "      <td>NaN</td>\n",
       "      <td>Anna Lee C. Iijima</td>\n",
       "      <td>NaN</td>\n",
       "      <td>Winery Čitluk 2007 Vranac Vranec (Mostar)</td>\n",
       "      <td>Vranec</td>\n",
       "      <td>Winery Čitluk</td>\n",
       "    </tr>\n",
       "    <tr>\n",
       "      <th>96759</th>\n",
       "      <td>96759</td>\n",
       "      <td>Bosnia and Herzegovina</td>\n",
       "      <td>A mix of red and black fruits pervade on the n...</td>\n",
       "      <td>NaN</td>\n",
       "      <td>88</td>\n",
       "      <td>12.0</td>\n",
       "      <td>Mostar</td>\n",
       "      <td>NaN</td>\n",
       "      <td>NaN</td>\n",
       "      <td>Jeff Jenssen</td>\n",
       "      <td>@worldwineguys</td>\n",
       "      <td>Winery Čitluk 2011 Blatina (Mostar)</td>\n",
       "      <td>Blatina</td>\n",
       "      <td>Winery Čitluk</td>\n",
       "    </tr>\n",
       "    <tr>\n",
       "      <th>109989</th>\n",
       "      <td>109989</td>\n",
       "      <td>China</td>\n",
       "      <td>This deep ruby-colored wine features a bouquet...</td>\n",
       "      <td>Noble Dragon</td>\n",
       "      <td>89</td>\n",
       "      <td>18.0</td>\n",
       "      <td>China</td>\n",
       "      <td>NaN</td>\n",
       "      <td>NaN</td>\n",
       "      <td>Mike DeSimone</td>\n",
       "      <td>@worldwineguys</td>\n",
       "      <td>Chateau Changyu-Castel 2009 Noble Dragon Red (...</td>\n",
       "      <td>Cabernet Blend</td>\n",
       "      <td>Chateau Changyu-Castel</td>\n",
       "    </tr>\n",
       "  </tbody>\n",
       "</table>\n",
       "</div>"
      ],
      "text/plain": [
       "        Unnamed: 0                 country  \\\n",
       "16467        16467  Bosnia and Herzegovina   \n",
       "96759        96759  Bosnia and Herzegovina   \n",
       "109989      109989                   China   \n",
       "\n",
       "                                              description   designation  \\\n",
       "16467   Toasted oak and cedar notes meld into lush, ri...        Vranac   \n",
       "96759   A mix of red and black fruits pervade on the n...           NaN   \n",
       "109989  This deep ruby-colored wine features a bouquet...  Noble Dragon   \n",
       "\n",
       "        points  price province region_1 region_2         taster_name  \\\n",
       "16467       85   13.0   Mostar      NaN      NaN  Anna Lee C. Iijima   \n",
       "96759       88   12.0   Mostar      NaN      NaN        Jeff Jenssen   \n",
       "109989      89   18.0    China      NaN      NaN       Mike DeSimone   \n",
       "\n",
       "       taster_twitter_handle  \\\n",
       "16467                    NaN   \n",
       "96759         @worldwineguys   \n",
       "109989        @worldwineguys   \n",
       "\n",
       "                                                    title         variety  \\\n",
       "16467           Winery Čitluk 2007 Vranac Vranec (Mostar)          Vranec   \n",
       "96759                 Winery Čitluk 2011 Blatina (Mostar)         Blatina   \n",
       "109989  Chateau Changyu-Castel 2009 Noble Dragon Red (...  Cabernet Blend   \n",
       "\n",
       "                        winery  \n",
       "16467            Winery Čitluk  \n",
       "96759            Winery Čitluk  \n",
       "109989  Chateau Changyu-Castel  "
      ]
     },
     "execution_count": 38,
     "metadata": {},
     "output_type": "execute_result"
    }
   ],
   "source": [
    "df2[df2['country'].isin({'Bosnia and Herzegovina', 'China'})] # checking out the df associated with them"
   ]
  },
  {
   "cell_type": "markdown",
   "metadata": {
    "papermill": {
     "duration": 0.114765,
     "end_time": "2020-10-31T15:04:35.480000",
     "exception": false,
     "start_time": "2020-10-31T15:04:35.365235",
     "status": "completed"
    },
    "tags": []
   },
   "source": [
    "### We see that there is no significant difference between the distribution of ````country````  in the actual dataset and in the top varieties."
   ]
  },
  {
   "cell_type": "markdown",
   "metadata": {
    "papermill": {
     "duration": 0.115542,
     "end_time": "2020-10-31T15:04:35.713124",
     "exception": false,
     "start_time": "2020-10-31T15:04:35.597582",
     "status": "completed"
    },
    "tags": []
   },
   "source": [
    "## By Price"
   ]
  },
  {
   "cell_type": "code",
   "execution_count": 39,
   "metadata": {
    "execution": {
     "iopub.execute_input": "2020-10-31T15:04:35.948920Z",
     "iopub.status.busy": "2020-10-31T15:04:35.948142Z",
     "iopub.status.idle": "2020-10-31T15:04:35.955833Z",
     "shell.execute_reply": "2020-10-31T15:04:35.955190Z"
    },
    "papermill": {
     "duration": 0.127404,
     "end_time": "2020-10-31T15:04:35.955962",
     "exception": false,
     "start_time": "2020-10-31T15:04:35.828558",
     "status": "completed"
    },
    "tags": []
   },
   "outputs": [
    {
     "data": {
      "text/plain": [
       "391"
      ]
     },
     "execution_count": 39,
     "metadata": {},
     "output_type": "execute_result"
    }
   ],
   "source": [
    "df2['price'].unique().shape[0]"
   ]
  },
  {
   "cell_type": "code",
   "execution_count": 40,
   "metadata": {
    "execution": {
     "iopub.execute_input": "2020-10-31T15:04:36.201540Z",
     "iopub.status.busy": "2020-10-31T15:04:36.195749Z",
     "iopub.status.idle": "2020-10-31T15:04:36.375925Z",
     "shell.execute_reply": "2020-10-31T15:04:36.375248Z"
    },
    "papermill": {
     "duration": 0.302318,
     "end_time": "2020-10-31T15:04:36.376051",
     "exception": false,
     "start_time": "2020-10-31T15:04:36.073733",
     "status": "completed"
    },
    "tags": []
   },
   "outputs": [
    {
     "data": {
      "image/png": "[encoded data removed]",
      "text/plain": [
       "<Figure size 432x288 with 1 Axes>"
      ]
     },
     "metadata": {
      "needs_background": "light"
     },
     "output_type": "display_data"
    }
   ],
   "source": [
    "plt.hist(df2['price'])\n",
    "plt.show()"
   ]
  },
  {
   "cell_type": "code",
   "execution_count": 41,
   "metadata": {
    "execution": {
     "iopub.execute_input": "2020-10-31T15:04:36.617089Z",
     "iopub.status.busy": "2020-10-31T15:04:36.616303Z",
     "iopub.status.idle": "2020-10-31T15:04:36.629606Z",
     "shell.execute_reply": "2020-10-31T15:04:36.630153Z"
    },
    "papermill": {
     "duration": 0.137053,
     "end_time": "2020-10-31T15:04:36.630315",
     "exception": false,
     "start_time": "2020-10-31T15:04:36.493262",
     "status": "completed"
    },
    "tags": []
   },
   "outputs": [
    {
     "data": {
      "text/plain": [
       "count    120975.000000\n",
       "mean         35.363389\n",
       "std          41.022218\n",
       "min           4.000000\n",
       "25%          17.000000\n",
       "50%          25.000000\n",
       "75%          42.000000\n",
       "max        3300.000000\n",
       "Name: price, dtype: float64"
      ]
     },
     "execution_count": 41,
     "metadata": {},
     "output_type": "execute_result"
    }
   ],
   "source": [
    "df2['price'].describe()"
   ]
  },
  {
   "cell_type": "code",
   "execution_count": 42,
   "metadata": {
    "execution": {
     "iopub.execute_input": "2020-10-31T15:04:36.882142Z",
     "iopub.status.busy": "2020-10-31T15:04:36.880888Z",
     "iopub.status.idle": "2020-10-31T15:04:37.061124Z",
     "shell.execute_reply": "2020-10-31T15:04:37.060541Z"
    },
    "papermill": {
     "duration": 0.313659,
     "end_time": "2020-10-31T15:04:37.061257",
     "exception": false,
     "start_time": "2020-10-31T15:04:36.747598",
     "status": "completed"
    },
    "tags": []
   },
   "outputs": [
    {
     "data": {
      "image/png": "[encoded data removed]",
      "text/plain": [
       "<Figure size 432x288 with 1 Axes>"
      ]
     },
     "metadata": {
      "needs_background": "light"
     },
     "output_type": "display_data"
    }
   ],
   "source": [
    "prices_of_top_varieties = df2['price'][df2['variety'].isin(top_varieties.index)].dropna()\n",
    "plt.hist(prices_of_top_varieties)\n",
    "plt.show()"
   ]
  },
  {
   "cell_type": "code",
   "execution_count": 43,
   "metadata": {
    "execution": {
     "iopub.execute_input": "2020-10-31T15:04:37.304046Z",
     "iopub.status.busy": "2020-10-31T15:04:37.302876Z",
     "iopub.status.idle": "2020-10-31T15:04:37.315112Z",
     "shell.execute_reply": "2020-10-31T15:04:37.315646Z"
    },
    "papermill": {
     "duration": 0.135673,
     "end_time": "2020-10-31T15:04:37.315840",
     "exception": false,
     "start_time": "2020-10-31T15:04:37.180167",
     "status": "completed"
    },
    "tags": []
   },
   "outputs": [
    {
     "data": {
      "text/plain": [
       "count    104070.000000\n",
       "mean         36.704122\n",
       "std          42.957282\n",
       "min           4.000000\n",
       "25%          18.000000\n",
       "50%          27.000000\n",
       "75%          45.000000\n",
       "max        3300.000000\n",
       "Name: price, dtype: float64"
      ]
     },
     "execution_count": 43,
     "metadata": {},
     "output_type": "execute_result"
    }
   ],
   "source": [
    "prices_of_top_varieties.describe()"
   ]
  },
  {
   "cell_type": "markdown",
   "metadata": {
    "papermill": {
     "duration": 0.117587,
     "end_time": "2020-10-31T15:04:37.552160",
     "exception": false,
     "start_time": "2020-10-31T15:04:37.434573",
     "status": "completed"
    },
    "tags": []
   },
   "source": [
    "### We see that there is no significant difference between the distribution of ````prices````  in the actual dataset and in the top varieties."
   ]
  },
  {
   "cell_type": "markdown",
   "metadata": {
    "papermill": {
     "duration": 0.117547,
     "end_time": "2020-10-31T15:04:37.794079",
     "exception": false,
     "start_time": "2020-10-31T15:04:37.676532",
     "status": "completed"
    },
    "tags": []
   },
   "source": [
    "## By Points"
   ]
  },
  {
   "cell_type": "code",
   "execution_count": 44,
   "metadata": {
    "execution": {
     "iopub.execute_input": "2020-10-31T15:04:38.036366Z",
     "iopub.status.busy": "2020-10-31T15:04:38.035366Z",
     "iopub.status.idle": "2020-10-31T15:04:38.041875Z",
     "shell.execute_reply": "2020-10-31T15:04:38.041213Z"
    },
    "papermill": {
     "duration": 0.129858,
     "end_time": "2020-10-31T15:04:38.042013",
     "exception": false,
     "start_time": "2020-10-31T15:04:37.912155",
     "status": "completed"
    },
    "tags": []
   },
   "outputs": [
    {
     "data": {
      "text/plain": [
       "(21,)"
      ]
     },
     "execution_count": 44,
     "metadata": {},
     "output_type": "execute_result"
    }
   ],
   "source": [
    "df2['points'].unique().shape"
   ]
  },
  {
   "cell_type": "code",
   "execution_count": 45,
   "metadata": {
    "execution": {
     "iopub.execute_input": "2020-10-31T15:04:38.298994Z",
     "iopub.status.busy": "2020-10-31T15:04:38.294814Z",
     "iopub.status.idle": "2020-10-31T15:04:38.482243Z",
     "shell.execute_reply": "2020-10-31T15:04:38.481522Z"
    },
    "papermill": {
     "duration": 0.312708,
     "end_time": "2020-10-31T15:04:38.482392",
     "exception": false,
     "start_time": "2020-10-31T15:04:38.169684",
     "status": "completed"
    },
    "tags": []
   },
   "outputs": [
    {
     "data": {
      "image/png": "[encoded data removed]",
      "text/plain": [
       "<Figure size 432x288 with 1 Axes>"
      ]
     },
     "metadata": {
      "needs_background": "light"
     },
     "output_type": "display_data"
    }
   ],
   "source": [
    "plt.hist(df2['points'])\n",
    "plt.show()"
   ]
  },
  {
   "cell_type": "code",
   "execution_count": 46,
   "metadata": {
    "execution": {
     "iopub.execute_input": "2020-10-31T15:04:38.729753Z",
     "iopub.status.busy": "2020-10-31T15:04:38.729017Z",
     "iopub.status.idle": "2020-10-31T15:04:38.739551Z",
     "shell.execute_reply": "2020-10-31T15:04:38.740117Z"
    },
    "papermill": {
     "duration": 0.136474,
     "end_time": "2020-10-31T15:04:38.740266",
     "exception": false,
     "start_time": "2020-10-31T15:04:38.603792",
     "status": "completed"
    },
    "tags": []
   },
   "outputs": [
    {
     "data": {
      "text/plain": [
       "count    129971.000000\n",
       "mean         88.447138\n",
       "std           3.039730\n",
       "min          80.000000\n",
       "25%          86.000000\n",
       "50%          88.000000\n",
       "75%          91.000000\n",
       "max         100.000000\n",
       "Name: points, dtype: float64"
      ]
     },
     "execution_count": 46,
     "metadata": {},
     "output_type": "execute_result"
    }
   ],
   "source": [
    "df2['points'].describe()"
   ]
  },
  {
   "cell_type": "code",
   "execution_count": 47,
   "metadata": {
    "execution": {
     "iopub.execute_input": "2020-10-31T15:04:38.999945Z",
     "iopub.status.busy": "2020-10-31T15:04:38.998837Z",
     "iopub.status.idle": "2020-10-31T15:04:39.191217Z",
     "shell.execute_reply": "2020-10-31T15:04:39.190623Z"
    },
    "papermill": {
     "duration": 0.331088,
     "end_time": "2020-10-31T15:04:39.191346",
     "exception": false,
     "start_time": "2020-10-31T15:04:38.860258",
     "status": "completed"
    },
    "tags": []
   },
   "outputs": [
    {
     "data": {
      "image/png": "[encoded data removed]",
      "text/plain": [
       "<Figure size 432x288 with 1 Axes>"
      ]
     },
     "metadata": {
      "needs_background": "light"
     },
     "output_type": "display_data"
    }
   ],
   "source": [
    "points_of_top_varieties = df2['points'][df2['variety'].isin(top_varieties.index)].dropna()\n",
    "plt.hist(points_of_top_varieties)\n",
    "plt.show()"
   ]
  },
  {
   "cell_type": "code",
   "execution_count": 48,
   "metadata": {
    "execution": {
     "iopub.execute_input": "2020-10-31T15:04:39.439351Z",
     "iopub.status.busy": "2020-10-31T15:04:39.438640Z",
     "iopub.status.idle": "2020-10-31T15:04:39.450052Z",
     "shell.execute_reply": "2020-10-31T15:04:39.449276Z"
    },
    "papermill": {
     "duration": 0.137706,
     "end_time": "2020-10-31T15:04:39.450181",
     "exception": false,
     "start_time": "2020-10-31T15:04:39.312475",
     "status": "completed"
    },
    "tags": []
   },
   "outputs": [
    {
     "data": {
      "text/plain": [
       "count    111797.000000\n",
       "mean         88.532179\n",
       "std           3.080003\n",
       "min          80.000000\n",
       "25%          86.000000\n",
       "50%          88.000000\n",
       "75%          91.000000\n",
       "max         100.000000\n",
       "Name: points, dtype: float64"
      ]
     },
     "execution_count": 48,
     "metadata": {},
     "output_type": "execute_result"
    }
   ],
   "source": [
    "points_of_top_varieties.describe()"
   ]
  },
  {
   "cell_type": "markdown",
   "metadata": {
    "papermill": {
     "duration": 0.121664,
     "end_time": "2020-10-31T15:04:39.693937",
     "exception": false,
     "start_time": "2020-10-31T15:04:39.572273",
     "status": "completed"
    },
    "tags": []
   },
   "source": [
    "### We see that there is no significant difference between the distribution of ````points````  in the actual dataset and in the top varieties."
   ]
  },
  {
   "cell_type": "markdown",
   "metadata": {
    "papermill": {
     "duration": 0.122186,
     "end_time": "2020-10-31T15:04:39.938951",
     "exception": false,
     "start_time": "2020-10-31T15:04:39.816765",
     "status": "completed"
    },
    "tags": []
   },
   "source": [
    "## By Designation"
   ]
  },
  {
   "cell_type": "code",
   "execution_count": 49,
   "metadata": {
    "execution": {
     "iopub.execute_input": "2020-10-31T15:04:40.205270Z",
     "iopub.status.busy": "2020-10-31T15:04:40.204327Z",
     "iopub.status.idle": "2020-10-31T15:04:40.229499Z",
     "shell.execute_reply": "2020-10-31T15:04:40.228913Z"
    },
    "papermill": {
     "duration": 0.166046,
     "end_time": "2020-10-31T15:04:40.229622",
     "exception": false,
     "start_time": "2020-10-31T15:04:40.063576",
     "status": "completed"
    },
    "tags": []
   },
   "outputs": [
    {
     "data": {
      "text/plain": [
       "37979"
      ]
     },
     "execution_count": 49,
     "metadata": {},
     "output_type": "execute_result"
    }
   ],
   "source": [
    "len(df2['designation'].dropna().unique())"
   ]
  },
  {
   "cell_type": "code",
   "execution_count": 50,
   "metadata": {
    "execution": {
     "iopub.execute_input": "2020-10-31T15:04:40.494366Z",
     "iopub.status.busy": "2020-10-31T15:04:40.492957Z",
     "iopub.status.idle": "2020-10-31T15:04:40.548570Z",
     "shell.execute_reply": "2020-10-31T15:04:40.547857Z"
    },
    "papermill": {
     "duration": 0.196609,
     "end_time": "2020-10-31T15:04:40.548697",
     "exception": false,
     "start_time": "2020-10-31T15:04:40.352088",
     "status": "completed"
    },
    "tags": []
   },
   "outputs": [],
   "source": [
    "by_designation = df2['designation'].dropna().value_counts()\n",
    "\n",
    "# NOTE: WE AVIOD PLOTTING THE CHART BEACUSE IT WILL BE TOO MESSY DUE TO THE LARGE NUMBER OF UNIQUE DESIGNATION\n",
    "# WE WILL USE JUST THE SUMMARY STATISTICS AS OUR CLUE\n",
    "\n",
    "\n",
    "#fig = plt.figure(figsize=(18, 4))\n",
    "#plt.bar(by_designation.index, by_designation.values)\n",
    "#plt.xticks(rotation=90)\n",
    "#plt.show()"
   ]
  },
  {
   "cell_type": "code",
   "execution_count": 51,
   "metadata": {
    "execution": {
     "iopub.execute_input": "2020-10-31T15:04:40.809977Z",
     "iopub.status.busy": "2020-10-31T15:04:40.808839Z",
     "iopub.status.idle": "2020-10-31T15:04:40.812439Z",
     "shell.execute_reply": "2020-10-31T15:04:40.812987Z"
    },
    "papermill": {
     "duration": 0.141205,
     "end_time": "2020-10-31T15:04:40.813145",
     "exception": false,
     "start_time": "2020-10-31T15:04:40.671940",
     "status": "completed"
    },
    "tags": []
   },
   "outputs": [
    {
     "data": {
      "text/plain": [
       "Reserve                                                           2009\n",
       "Estate                                                            1322\n",
       "Reserva                                                           1259\n",
       "Riserva                                                            698\n",
       "Estate Grown                                                       621\n",
       "                                                                  ... \n",
       "Tilting at Windmills                                                 1\n",
       "Single Vineyard Selection Sebes Alba Transylvania                    1\n",
       "High Elevation Collection Sustainably Farmed Vineyards               1\n",
       "Duque de Medina Reserva Old Vine                                     1\n",
       "Almancenista José Luis González Obregón Amontillado del Puerto       1\n",
       "Name: designation, Length: 37979, dtype: int64"
      ]
     },
     "execution_count": 51,
     "metadata": {},
     "output_type": "execute_result"
    }
   ],
   "source": [
    "by_designation"
   ]
  },
  {
   "cell_type": "code",
   "execution_count": 52,
   "metadata": {
    "execution": {
     "iopub.execute_input": "2020-10-31T15:04:41.068637Z",
     "iopub.status.busy": "2020-10-31T15:04:41.067558Z",
     "iopub.status.idle": "2020-10-31T15:04:41.077180Z",
     "shell.execute_reply": "2020-10-31T15:04:41.076472Z"
    },
    "papermill": {
     "duration": 0.140836,
     "end_time": "2020-10-31T15:04:41.077304",
     "exception": false,
     "start_time": "2020-10-31T15:04:40.936468",
     "status": "completed"
    },
    "tags": []
   },
   "outputs": [
    {
     "data": {
      "text/plain": [
       "count    37979.000000\n",
       "mean         2.435714\n",
       "std         16.303071\n",
       "min          1.000000\n",
       "25%          1.000000\n",
       "50%          1.000000\n",
       "75%          2.000000\n",
       "max       2009.000000\n",
       "Name: designation, dtype: float64"
      ]
     },
     "execution_count": 52,
     "metadata": {},
     "output_type": "execute_result"
    }
   ],
   "source": [
    "by_designation.describe()"
   ]
  },
  {
   "cell_type": "code",
   "execution_count": 53,
   "metadata": {
    "execution": {
     "iopub.execute_input": "2020-10-31T15:04:41.345665Z",
     "iopub.status.busy": "2020-10-31T15:04:41.344903Z",
     "iopub.status.idle": "2020-10-31T15:04:41.381661Z",
     "shell.execute_reply": "2020-10-31T15:04:41.380781Z"
    },
    "papermill": {
     "duration": 0.179122,
     "end_time": "2020-10-31T15:04:41.381829",
     "exception": false,
     "start_time": "2020-10-31T15:04:41.202707",
     "status": "completed"
    },
    "tags": []
   },
   "outputs": [
    {
     "name": "stdout",
     "output_type": "stream",
     "text": [
      "32506\n"
     ]
    }
   ],
   "source": [
    "designation_with_top_varieties = df2['designation'].dropna()[df2['variety'].isin(top_varieties.index)]\n",
    "print(designation_with_top_varieties.unique().shape[0])\n",
    "#designation_with_top_varieties"
   ]
  },
  {
   "cell_type": "code",
   "execution_count": 54,
   "metadata": {
    "execution": {
     "iopub.execute_input": "2020-10-31T15:04:41.651934Z",
     "iopub.status.busy": "2020-10-31T15:04:41.651147Z",
     "iopub.status.idle": "2020-10-31T15:04:41.698190Z",
     "shell.execute_reply": "2020-10-31T15:04:41.697481Z"
    },
    "papermill": {
     "duration": 0.190292,
     "end_time": "2020-10-31T15:04:41.698313",
     "exception": false,
     "start_time": "2020-10-31T15:04:41.508021",
     "status": "completed"
    },
    "tags": []
   },
   "outputs": [
    {
     "data": {
      "text/plain": [
       "5473"
      ]
     },
     "execution_count": 54,
     "metadata": {},
     "output_type": "execute_result"
    }
   ],
   "source": [
    "len(set(df2['designation'].dropna()) - set(designation_with_top_varieties.unique()))"
   ]
  },
  {
   "cell_type": "code",
   "execution_count": 55,
   "metadata": {
    "execution": {
     "iopub.execute_input": "2020-10-31T15:04:41.990896Z",
     "iopub.status.busy": "2020-10-31T15:04:41.988758Z",
     "iopub.status.idle": "2020-10-31T15:04:42.005893Z",
     "shell.execute_reply": "2020-10-31T15:04:42.006444Z"
    },
    "papermill": {
     "duration": 0.183398,
     "end_time": "2020-10-31T15:04:42.006612",
     "exception": false,
     "start_time": "2020-10-31T15:04:41.823214",
     "status": "completed"
    },
    "tags": []
   },
   "outputs": [
    {
     "data": {
      "text/plain": [
       "Reserve                                1863\n",
       "Estate                                 1205\n",
       "Reserva                                1155\n",
       "Riserva                                 628\n",
       "Estate Grown                            579\n",
       "                                       ... \n",
       "Block 216 Clone 5 Pommard                 1\n",
       "McGinley Vineyard Homage Collection       1\n",
       "El Anejón                                 1\n",
       "Château de Saint-Amour                    1\n",
       "Château Terrebonne Coeur de Cuvée         1\n",
       "Name: designation, Length: 32506, dtype: int64"
      ]
     },
     "execution_count": 55,
     "metadata": {},
     "output_type": "execute_result"
    }
   ],
   "source": [
    "designation_with_top_varieties.value_counts()"
   ]
  },
  {
   "cell_type": "code",
   "execution_count": 56,
   "metadata": {
    "execution": {
     "iopub.execute_input": "2020-10-31T15:04:42.302917Z",
     "iopub.status.busy": "2020-10-31T15:04:42.301286Z",
     "iopub.status.idle": "2020-10-31T15:04:42.317597Z",
     "shell.execute_reply": "2020-10-31T15:04:42.318185Z"
    },
    "papermill": {
     "duration": 0.185084,
     "end_time": "2020-10-31T15:04:42.318337",
     "exception": false,
     "start_time": "2020-10-31T15:04:42.133253",
     "status": "completed"
    },
    "tags": []
   },
   "outputs": [
    {
     "data": {
      "text/plain": [
       "count    32506.000000\n",
       "mean         2.453301\n",
       "std         16.187132\n",
       "min          1.000000\n",
       "25%          1.000000\n",
       "50%          1.000000\n",
       "75%          2.000000\n",
       "max       1863.000000\n",
       "Name: designation, dtype: float64"
      ]
     },
     "execution_count": 56,
     "metadata": {},
     "output_type": "execute_result"
    }
   ],
   "source": [
    "designation_with_top_varieties.value_counts().describe()"
   ]
  },
  {
   "cell_type": "markdown",
   "metadata": {
    "papermill": {
     "duration": 0.126614,
     "end_time": "2020-10-31T15:04:42.571279",
     "exception": false,
     "start_time": "2020-10-31T15:04:42.444665",
     "status": "completed"
    },
    "tags": []
   },
   "source": [
    "### We see that there is no significant difference between the distribution of ````designation````  in the actual dataset and in the top varieties."
   ]
  },
  {
   "cell_type": "markdown",
   "metadata": {
    "papermill": {
     "duration": 0.126172,
     "end_time": "2020-10-31T15:04:42.823492",
     "exception": false,
     "start_time": "2020-10-31T15:04:42.697320",
     "status": "completed"
    },
    "tags": []
   },
   "source": [
    "## By Province"
   ]
  },
  {
   "cell_type": "code",
   "execution_count": 57,
   "metadata": {
    "execution": {
     "iopub.execute_input": "2020-10-31T15:04:43.100611Z",
     "iopub.status.busy": "2020-10-31T15:04:43.099833Z",
     "iopub.status.idle": "2020-10-31T15:04:43.121252Z",
     "shell.execute_reply": "2020-10-31T15:04:43.120658Z"
    },
    "papermill": {
     "duration": 0.170771,
     "end_time": "2020-10-31T15:04:43.121419",
     "exception": false,
     "start_time": "2020-10-31T15:04:42.950648",
     "status": "completed"
    },
    "tags": []
   },
   "outputs": [
    {
     "data": {
      "text/plain": [
       "425"
      ]
     },
     "execution_count": 57,
     "metadata": {},
     "output_type": "execute_result"
    }
   ],
   "source": [
    "len(df2['province'].dropna().unique())"
   ]
  },
  {
   "cell_type": "code",
   "execution_count": 58,
   "metadata": {
    "execution": {
     "iopub.execute_input": "2020-10-31T15:04:43.395508Z",
     "iopub.status.busy": "2020-10-31T15:04:43.394739Z",
     "iopub.status.idle": "2020-10-31T15:04:43.434337Z",
     "shell.execute_reply": "2020-10-31T15:04:43.433686Z"
    },
    "papermill": {
     "duration": 0.18543,
     "end_time": "2020-10-31T15:04:43.434492",
     "exception": false,
     "start_time": "2020-10-31T15:04:43.249062",
     "status": "completed"
    },
    "tags": []
   },
   "outputs": [],
   "source": [
    "by_province = df2['province'].dropna().value_counts()\n",
    "\n",
    "# NOTE: WE AVIOD PLOTTING THE CHART BEACUSE IT WILL BE TOO MESSY DUE TO THE LARGE NUMBER OF UNIQUE PROVINCE\n",
    "# WE WILL USE JUST THE SUMMARY STATISTICS AS OUR CLUE\n",
    "\n",
    "\n",
    "#fig = plt.figure(figsize=(18, 4))\n",
    "#plt.bar(by_province.index, by_province.values)\n",
    "#plt.xticks(rotation=90)\n",
    "#plt.show()"
   ]
  },
  {
   "cell_type": "code",
   "execution_count": 59,
   "metadata": {
    "execution": {
     "iopub.execute_input": "2020-10-31T15:04:43.697885Z",
     "iopub.status.busy": "2020-10-31T15:04:43.696815Z",
     "iopub.status.idle": "2020-10-31T15:04:43.701020Z",
     "shell.execute_reply": "2020-10-31T15:04:43.700350Z"
    },
    "papermill": {
     "duration": 0.138494,
     "end_time": "2020-10-31T15:04:43.701140",
     "exception": false,
     "start_time": "2020-10-31T15:04:43.562646",
     "status": "completed"
    },
    "tags": []
   },
   "outputs": [
    {
     "data": {
      "text/plain": [
       "California                   36247\n",
       "Washington                    8639\n",
       "Bordeaux                      5941\n",
       "Tuscany                       5897\n",
       "Oregon                        5373\n",
       "                             ...  \n",
       "Hawaii                           1\n",
       "Alenteo                          1\n",
       "Vlootenburg                      1\n",
       "Mavrodaphne de Cephalonie        1\n",
       "Serra do Sudeste                 1\n",
       "Name: province, Length: 425, dtype: int64"
      ]
     },
     "execution_count": 59,
     "metadata": {},
     "output_type": "execute_result"
    }
   ],
   "source": [
    "by_province"
   ]
  },
  {
   "cell_type": "code",
   "execution_count": 60,
   "metadata": {
    "execution": {
     "iopub.execute_input": "2020-10-31T15:04:43.967307Z",
     "iopub.status.busy": "2020-10-31T15:04:43.963994Z",
     "iopub.status.idle": "2020-10-31T15:04:43.971954Z",
     "shell.execute_reply": "2020-10-31T15:04:43.971216Z"
    },
    "papermill": {
     "duration": 0.142359,
     "end_time": "2020-10-31T15:04:43.972075",
     "exception": false,
     "start_time": "2020-10-31T15:04:43.829716",
     "status": "completed"
    },
    "tags": []
   },
   "outputs": [
    {
     "data": {
      "text/plain": [
       "count      425.000000\n",
       "mean       305.665882\n",
       "std       1920.003074\n",
       "min          1.000000\n",
       "25%          3.000000\n",
       "50%         12.000000\n",
       "75%         53.000000\n",
       "max      36247.000000\n",
       "Name: province, dtype: float64"
      ]
     },
     "execution_count": 60,
     "metadata": {},
     "output_type": "execute_result"
    }
   ],
   "source": [
    "by_province.describe()"
   ]
  },
  {
   "cell_type": "code",
   "execution_count": 61,
   "metadata": {
    "execution": {
     "iopub.execute_input": "2020-10-31T15:04:44.279120Z",
     "iopub.status.busy": "2020-10-31T15:04:44.278340Z",
     "iopub.status.idle": "2020-10-31T15:04:44.311817Z",
     "shell.execute_reply": "2020-10-31T15:04:44.311194Z"
    },
    "papermill": {
     "duration": 0.182925,
     "end_time": "2020-10-31T15:04:44.311952",
     "exception": false,
     "start_time": "2020-10-31T15:04:44.129027",
     "status": "completed"
    },
    "tags": []
   },
   "outputs": [
    {
     "name": "stdout",
     "output_type": "stream",
     "text": [
      "376\n"
     ]
    }
   ],
   "source": [
    "province_with_top_varieties = df2['province'].dropna()[df2['variety'].isin(top_varieties.index)]\n",
    "print(province_with_top_varieties.unique().shape[0])"
   ]
  },
  {
   "cell_type": "code",
   "execution_count": 62,
   "metadata": {
    "execution": {
     "iopub.execute_input": "2020-10-31T15:04:44.591430Z",
     "iopub.status.busy": "2020-10-31T15:04:44.590611Z",
     "iopub.status.idle": "2020-10-31T15:04:44.628268Z",
     "shell.execute_reply": "2020-10-31T15:04:44.627539Z"
    },
    "papermill": {
     "duration": 0.187263,
     "end_time": "2020-10-31T15:04:44.628411",
     "exception": false,
     "start_time": "2020-10-31T15:04:44.441148",
     "status": "completed"
    },
    "tags": []
   },
   "outputs": [
    {
     "data": {
      "text/plain": [
       "49"
      ]
     },
     "execution_count": 62,
     "metadata": {},
     "output_type": "execute_result"
    }
   ],
   "source": [
    "len(set(df2['province'].dropna()) - set(province_with_top_varieties.unique()))"
   ]
  },
  {
   "cell_type": "code",
   "execution_count": 63,
   "metadata": {
    "execution": {
     "iopub.execute_input": "2020-10-31T15:04:44.923630Z",
     "iopub.status.busy": "2020-10-31T15:04:44.920907Z",
     "iopub.status.idle": "2020-10-31T15:04:44.931256Z",
     "shell.execute_reply": "2020-10-31T15:04:44.930649Z"
    },
    "papermill": {
     "duration": 0.17361,
     "end_time": "2020-10-31T15:04:44.931393",
     "exception": false,
     "start_time": "2020-10-31T15:04:44.757783",
     "status": "completed"
    },
    "tags": []
   },
   "outputs": [
    {
     "data": {
      "text/plain": [
       "count      376.000000\n",
       "mean       297.226064\n",
       "std       1898.970291\n",
       "min          1.000000\n",
       "25%          3.000000\n",
       "50%          9.000000\n",
       "75%         56.000000\n",
       "max      33940.000000\n",
       "Name: province, dtype: float64"
      ]
     },
     "execution_count": 63,
     "metadata": {},
     "output_type": "execute_result"
    }
   ],
   "source": [
    "province_with_top_varieties.value_counts().describe()"
   ]
  },
  {
   "cell_type": "markdown",
   "metadata": {
    "papermill": {
     "duration": 0.13106,
     "end_time": "2020-10-31T15:04:45.194847",
     "exception": false,
     "start_time": "2020-10-31T15:04:45.063787",
     "status": "completed"
    },
    "tags": []
   },
   "source": [
    "### We see that there is no significant difference between the distribution of ````province````  in the actual dataset and in the top varieties."
   ]
  },
  {
   "cell_type": "markdown",
   "metadata": {
    "papermill": {
     "duration": 0.12932,
     "end_time": "2020-10-31T15:04:45.454139",
     "exception": false,
     "start_time": "2020-10-31T15:04:45.324819",
     "status": "completed"
    },
    "tags": []
   },
   "source": [
    "## By Region 1"
   ]
  },
  {
   "cell_type": "code",
   "execution_count": 64,
   "metadata": {
    "execution": {
     "iopub.execute_input": "2020-10-31T15:04:45.733405Z",
     "iopub.status.busy": "2020-10-31T15:04:45.732636Z",
     "iopub.status.idle": "2020-10-31T15:04:45.752828Z",
     "shell.execute_reply": "2020-10-31T15:04:45.752093Z"
    },
    "papermill": {
     "duration": 0.168388,
     "end_time": "2020-10-31T15:04:45.752950",
     "exception": false,
     "start_time": "2020-10-31T15:04:45.584562",
     "status": "completed"
    },
    "tags": []
   },
   "outputs": [
    {
     "data": {
      "text/plain": [
       "1229"
      ]
     },
     "execution_count": 64,
     "metadata": {},
     "output_type": "execute_result"
    }
   ],
   "source": [
    "len(df2['region_1'].dropna().unique())"
   ]
  },
  {
   "cell_type": "code",
   "execution_count": 65,
   "metadata": {
    "execution": {
     "iopub.execute_input": "2020-10-31T15:04:46.035254Z",
     "iopub.status.busy": "2020-10-31T15:04:46.034170Z",
     "iopub.status.idle": "2020-10-31T15:04:46.069505Z",
     "shell.execute_reply": "2020-10-31T15:04:46.068725Z"
    },
    "papermill": {
     "duration": 0.186333,
     "end_time": "2020-10-31T15:04:46.069633",
     "exception": false,
     "start_time": "2020-10-31T15:04:45.883300",
     "status": "completed"
    },
    "tags": []
   },
   "outputs": [],
   "source": [
    "by_region1 = df2['region_1'].dropna().value_counts()\n",
    "\n",
    "# NOTE: WE AVIOD PLOTTING THE CHART BEACUSE IT WILL BE TOO MESSY DUE TO THE LARGE NUMBER OF UNIQUE REGION1\n",
    "# WE WILL USE JUST THE SUMMARY STATISTICS AS OUR CLUE\n",
    "\n",
    "\n",
    "#fig = plt.figure(figsize=(18, 4))\n",
    "#plt.bar(by_region1.index, by_region1.values)\n",
    "#plt.xticks(rotation=90)\n",
    "#plt.show()"
   ]
  },
  {
   "cell_type": "code",
   "execution_count": 66,
   "metadata": {
    "execution": {
     "iopub.execute_input": "2020-10-31T15:04:46.342983Z",
     "iopub.status.busy": "2020-10-31T15:04:46.339495Z",
     "iopub.status.idle": "2020-10-31T15:04:46.347204Z",
     "shell.execute_reply": "2020-10-31T15:04:46.346511Z"
    },
    "papermill": {
     "duration": 0.144846,
     "end_time": "2020-10-31T15:04:46.347324",
     "exception": false,
     "start_time": "2020-10-31T15:04:46.202478",
     "status": "completed"
    },
    "tags": []
   },
   "outputs": [
    {
     "data": {
      "text/plain": [
       "count    1229.000000\n",
       "mean       88.465419\n",
       "std       298.154276\n",
       "min         1.000000\n",
       "25%         3.000000\n",
       "50%        11.000000\n",
       "75%        51.000000\n",
       "max      4480.000000\n",
       "Name: region_1, dtype: float64"
      ]
     },
     "execution_count": 66,
     "metadata": {},
     "output_type": "execute_result"
    }
   ],
   "source": [
    "by_region1.describe()"
   ]
  },
  {
   "cell_type": "code",
   "execution_count": 67,
   "metadata": {
    "execution": {
     "iopub.execute_input": "2020-10-31T15:04:46.630960Z",
     "iopub.status.busy": "2020-10-31T15:04:46.629892Z",
     "iopub.status.idle": "2020-10-31T15:04:46.662393Z",
     "shell.execute_reply": "2020-10-31T15:04:46.661634Z"
    },
    "papermill": {
     "duration": 0.183683,
     "end_time": "2020-10-31T15:04:46.662528",
     "exception": false,
     "start_time": "2020-10-31T15:04:46.478845",
     "status": "completed"
    },
    "tags": []
   },
   "outputs": [
    {
     "name": "stdout",
     "output_type": "stream",
     "text": [
      "1095\n"
     ]
    }
   ],
   "source": [
    "region1_with_top_varieties = df2['region_1'].dropna()[df2['variety'].isin(top_varieties.index)]\n",
    "print(region1_with_top_varieties.unique().shape[0])"
   ]
  },
  {
   "cell_type": "code",
   "execution_count": 68,
   "metadata": {
    "execution": {
     "iopub.execute_input": "2020-10-31T15:04:46.945535Z",
     "iopub.status.busy": "2020-10-31T15:04:46.944776Z",
     "iopub.status.idle": "2020-10-31T15:04:46.980558Z",
     "shell.execute_reply": "2020-10-31T15:04:46.979881Z"
    },
    "papermill": {
     "duration": 0.186061,
     "end_time": "2020-10-31T15:04:46.980686",
     "exception": false,
     "start_time": "2020-10-31T15:04:46.794625",
     "status": "completed"
    },
    "tags": []
   },
   "outputs": [
    {
     "data": {
      "text/plain": [
       "134"
      ]
     },
     "execution_count": 68,
     "metadata": {},
     "output_type": "execute_result"
    }
   ],
   "source": [
    "len(set(df2['region_1'].dropna()) - set(region1_with_top_varieties.unique()))"
   ]
  },
  {
   "cell_type": "code",
   "execution_count": 69,
   "metadata": {
    "execution": {
     "iopub.execute_input": "2020-10-31T15:04:47.282238Z",
     "iopub.status.busy": "2020-10-31T15:04:47.280317Z",
     "iopub.status.idle": "2020-10-31T15:04:47.290095Z",
     "shell.execute_reply": "2020-10-31T15:04:47.289528Z"
    },
    "papermill": {
     "duration": 0.17509,
     "end_time": "2020-10-31T15:04:47.290217",
     "exception": false,
     "start_time": "2020-10-31T15:04:47.115127",
     "status": "completed"
    },
    "tags": []
   },
   "outputs": [
    {
     "data": {
      "text/plain": [
       "count    1095.000000\n",
       "mean       85.950685\n",
       "std       293.772250\n",
       "min         1.000000\n",
       "25%         3.000000\n",
       "50%        10.000000\n",
       "75%        46.500000\n",
       "max      4273.000000\n",
       "Name: region_1, dtype: float64"
      ]
     },
     "execution_count": 69,
     "metadata": {},
     "output_type": "execute_result"
    }
   ],
   "source": [
    "region1_with_top_varieties.value_counts().describe()"
   ]
  },
  {
   "cell_type": "markdown",
   "metadata": {
    "papermill": {
     "duration": 0.133805,
     "end_time": "2020-10-31T15:04:47.556913",
     "exception": false,
     "start_time": "2020-10-31T15:04:47.423108",
     "status": "completed"
    },
    "tags": []
   },
   "source": [
    "### We see that there is no significant difference between the distribution of ````region1````  in the actual dataset and in the top varieties."
   ]
  },
  {
   "cell_type": "markdown",
   "metadata": {
    "papermill": {
     "duration": 0.132912,
     "end_time": "2020-10-31T15:04:47.822960",
     "exception": false,
     "start_time": "2020-10-31T15:04:47.690048",
     "status": "completed"
    },
    "tags": []
   },
   "source": [
    "## By Region 2"
   ]
  },
  {
   "cell_type": "code",
   "execution_count": 70,
   "metadata": {
    "execution": {
     "iopub.execute_input": "2020-10-31T15:04:48.107290Z",
     "iopub.status.busy": "2020-10-31T15:04:48.106549Z",
     "iopub.status.idle": "2020-10-31T15:04:48.119719Z",
     "shell.execute_reply": "2020-10-31T15:04:48.118972Z"
    },
    "papermill": {
     "duration": 0.163759,
     "end_time": "2020-10-31T15:04:48.119851",
     "exception": false,
     "start_time": "2020-10-31T15:04:47.956092",
     "status": "completed"
    },
    "tags": []
   },
   "outputs": [
    {
     "data": {
      "text/plain": [
       "17"
      ]
     },
     "execution_count": 70,
     "metadata": {},
     "output_type": "execute_result"
    }
   ],
   "source": [
    "len(df2['region_2'].dropna().unique())"
   ]
  },
  {
   "cell_type": "code",
   "execution_count": 71,
   "metadata": {
    "execution": {
     "iopub.execute_input": "2020-10-31T15:04:48.407707Z",
     "iopub.status.busy": "2020-10-31T15:04:48.406668Z",
     "iopub.status.idle": "2020-10-31T15:04:48.652696Z",
     "shell.execute_reply": "2020-10-31T15:04:48.651955Z"
    },
    "papermill": {
     "duration": 0.397659,
     "end_time": "2020-10-31T15:04:48.652827",
     "exception": false,
     "start_time": "2020-10-31T15:04:48.255168",
     "status": "completed"
    },
    "tags": []
   },
   "outputs": [
    {
     "data": {
      "image/png": "[encoded data removed]",
      "text/plain": [
       "<Figure size 1296x288 with 1 Axes>"
      ]
     },
     "metadata": {
      "needs_background": "light"
     },
     "output_type": "display_data"
    }
   ],
   "source": [
    "by_region2 = df2['region_2'].dropna().value_counts()\n",
    "fig = plt.figure(figsize=(18, 4))\n",
    "plt.bar(by_region2.index, by_region2.values)\n",
    "plt.xticks(rotation=90)\n",
    "plt.show()"
   ]
  },
  {
   "cell_type": "code",
   "execution_count": 72,
   "metadata": {
    "execution": {
     "iopub.execute_input": "2020-10-31T15:04:48.935027Z",
     "iopub.status.busy": "2020-10-31T15:04:48.934205Z",
     "iopub.status.idle": "2020-10-31T15:04:48.938505Z",
     "shell.execute_reply": "2020-10-31T15:04:48.937796Z"
    },
    "papermill": {
     "duration": 0.149696,
     "end_time": "2020-10-31T15:04:48.938629",
     "exception": false,
     "start_time": "2020-10-31T15:04:48.788933",
     "status": "completed"
    },
    "tags": []
   },
   "outputs": [
    {
     "data": {
      "text/plain": [
       "count       17.000000\n",
       "mean      2971.235294\n",
       "std       3492.237813\n",
       "min        231.000000\n",
       "25%        680.000000\n",
       "50%       1169.000000\n",
       "75%       3423.000000\n",
       "max      11065.000000\n",
       "Name: region_2, dtype: float64"
      ]
     },
     "execution_count": 72,
     "metadata": {},
     "output_type": "execute_result"
    }
   ],
   "source": [
    "by_region2.describe()"
   ]
  },
  {
   "cell_type": "code",
   "execution_count": 73,
   "metadata": {
    "execution": {
     "iopub.execute_input": "2020-10-31T15:04:49.243731Z",
     "iopub.status.busy": "2020-10-31T15:04:49.242535Z",
     "iopub.status.idle": "2020-10-31T15:04:49.267405Z",
     "shell.execute_reply": "2020-10-31T15:04:49.266758Z"
    },
    "papermill": {
     "duration": 0.184662,
     "end_time": "2020-10-31T15:04:49.267533",
     "exception": false,
     "start_time": "2020-10-31T15:04:49.082871",
     "status": "completed"
    },
    "tags": []
   },
   "outputs": [
    {
     "name": "stdout",
     "output_type": "stream",
     "text": [
      "17\n"
     ]
    }
   ],
   "source": [
    "region2_with_top_varieties = df2['region_2'].dropna()[df2['variety'].isin(top_varieties.index)]\n",
    "print(region2_with_top_varieties.unique().shape[0])"
   ]
  },
  {
   "cell_type": "code",
   "execution_count": 74,
   "metadata": {
    "execution": {
     "iopub.execute_input": "2020-10-31T15:04:49.559416Z",
     "iopub.status.busy": "2020-10-31T15:04:49.558597Z",
     "iopub.status.idle": "2020-10-31T15:04:49.579500Z",
     "shell.execute_reply": "2020-10-31T15:04:49.578729Z"
    },
    "papermill": {
     "duration": 0.174513,
     "end_time": "2020-10-31T15:04:49.579627",
     "exception": false,
     "start_time": "2020-10-31T15:04:49.405114",
     "status": "completed"
    },
    "tags": []
   },
   "outputs": [
    {
     "data": {
      "text/plain": [
       "0"
      ]
     },
     "execution_count": 74,
     "metadata": {},
     "output_type": "execute_result"
    }
   ],
   "source": [
    "len(set(df2['region_2'].dropna()) - set(region2_with_top_varieties.unique()))"
   ]
  },
  {
   "cell_type": "code",
   "execution_count": 75,
   "metadata": {
    "execution": {
     "iopub.execute_input": "2020-10-31T15:04:49.880450Z",
     "iopub.status.busy": "2020-10-31T15:04:49.879269Z",
     "iopub.status.idle": "2020-10-31T15:04:49.882926Z",
     "shell.execute_reply": "2020-10-31T15:04:49.883630Z"
    },
    "papermill": {
     "duration": 0.165628,
     "end_time": "2020-10-31T15:04:49.883798",
     "exception": false,
     "start_time": "2020-10-31T15:04:49.718170",
     "status": "completed"
    },
    "tags": []
   },
   "outputs": [
    {
     "data": {
      "text/plain": [
       "count       17.000000\n",
       "mean      2775.235294\n",
       "std       3276.633496\n",
       "min        195.000000\n",
       "25%        631.000000\n",
       "50%       1134.000000\n",
       "75%       3286.000000\n",
       "max      10093.000000\n",
       "Name: region_2, dtype: float64"
      ]
     },
     "execution_count": 75,
     "metadata": {},
     "output_type": "execute_result"
    }
   ],
   "source": [
    "region2_with_top_varieties.value_counts().describe()"
   ]
  },
  {
   "cell_type": "markdown",
   "metadata": {
    "papermill": {
     "duration": 0.138376,
     "end_time": "2020-10-31T15:04:50.161228",
     "exception": false,
     "start_time": "2020-10-31T15:04:50.022852",
     "status": "completed"
    },
    "tags": []
   },
   "source": [
    "### We see that all bottom 667 varieties seem not to have any value for ````region2```` ."
   ]
  },
  {
   "cell_type": "markdown",
   "metadata": {
    "papermill": {
     "duration": 0.150859,
     "end_time": "2020-10-31T15:04:50.462835",
     "exception": false,
     "start_time": "2020-10-31T15:04:50.311976",
     "status": "completed"
    },
    "tags": []
   },
   "source": [
    "## By Winery"
   ]
  },
  {
   "cell_type": "code",
   "execution_count": 76,
   "metadata": {
    "execution": {
     "iopub.execute_input": "2020-10-31T15:04:50.772257Z",
     "iopub.status.busy": "2020-10-31T15:04:50.771232Z",
     "iopub.status.idle": "2020-10-31T15:04:50.798929Z",
     "shell.execute_reply": "2020-10-31T15:04:50.798123Z"
    },
    "papermill": {
     "duration": 0.188393,
     "end_time": "2020-10-31T15:04:50.799091",
     "exception": false,
     "start_time": "2020-10-31T15:04:50.610698",
     "status": "completed"
    },
    "tags": []
   },
   "outputs": [
    {
     "data": {
      "text/plain": [
       "16757"
      ]
     },
     "execution_count": 76,
     "metadata": {},
     "output_type": "execute_result"
    }
   ],
   "source": [
    "len(df2['winery'].dropna().unique())"
   ]
  },
  {
   "cell_type": "code",
   "execution_count": 77,
   "metadata": {
    "execution": {
     "iopub.execute_input": "2020-10-31T15:04:51.115703Z",
     "iopub.status.busy": "2020-10-31T15:04:51.114851Z",
     "iopub.status.idle": "2020-10-31T15:04:51.169561Z",
     "shell.execute_reply": "2020-10-31T15:04:51.168855Z"
    },
    "papermill": {
     "duration": 0.220523,
     "end_time": "2020-10-31T15:04:51.169713",
     "exception": false,
     "start_time": "2020-10-31T15:04:50.949190",
     "status": "completed"
    },
    "tags": []
   },
   "outputs": [],
   "source": [
    "by_winery = df2['winery'].dropna().value_counts()\n",
    "\n",
    "# NOTE: WE AVIOD PLOTTING THE CHART BEACUSE IT WILL BE TOO MESSY DUE TO THE LARGE NUMBER OF UNIQUE WINERY\n",
    "# WE WILL USE JUST THE SUMMARY STATISTICS AS OUR CLUE\n",
    "\n",
    "\n",
    "#fig = plt.figure(figsize=(18, 4))\n",
    "#plt.bar(by_region1.index, by_region1.values)\n",
    "#plt.xticks(rotation=90)\n",
    "#plt.show()"
   ]
  },
  {
   "cell_type": "code",
   "execution_count": 78,
   "metadata": {
    "execution": {
     "iopub.execute_input": "2020-10-31T15:04:51.461585Z",
     "iopub.status.busy": "2020-10-31T15:04:51.460836Z",
     "iopub.status.idle": "2020-10-31T15:04:51.471476Z",
     "shell.execute_reply": "2020-10-31T15:04:51.470759Z"
    },
    "papermill": {
     "duration": 0.158763,
     "end_time": "2020-10-31T15:04:51.471597",
     "exception": false,
     "start_time": "2020-10-31T15:04:51.312834",
     "status": "completed"
    },
    "tags": []
   },
   "outputs": [
    {
     "data": {
      "text/plain": [
       "count    16757.000000\n",
       "mean         7.756221\n",
       "std         12.762010\n",
       "min          1.000000\n",
       "25%          1.000000\n",
       "50%          3.000000\n",
       "75%          8.000000\n",
       "max        222.000000\n",
       "Name: winery, dtype: float64"
      ]
     },
     "execution_count": 78,
     "metadata": {},
     "output_type": "execute_result"
    }
   ],
   "source": [
    "by_winery.describe()"
   ]
  },
  {
   "cell_type": "code",
   "execution_count": 79,
   "metadata": {
    "execution": {
     "iopub.execute_input": "2020-10-31T15:04:51.778183Z",
     "iopub.status.busy": "2020-10-31T15:04:51.777444Z",
     "iopub.status.idle": "2020-10-31T15:04:51.811483Z",
     "shell.execute_reply": "2020-10-31T15:04:51.810749Z"
    },
    "papermill": {
     "duration": 0.196621,
     "end_time": "2020-10-31T15:04:51.811604",
     "exception": false,
     "start_time": "2020-10-31T15:04:51.614983",
     "status": "completed"
    },
    "tags": []
   },
   "outputs": [
    {
     "name": "stdout",
     "output_type": "stream",
     "text": [
      "15354\n"
     ]
    }
   ],
   "source": [
    "winery_of_top_varieties = df2['winery'].dropna()[df2['variety'].isin(top_varieties.index)]\n",
    "print(winery_of_top_varieties.unique().shape[0])\n"
   ]
  },
  {
   "cell_type": "code",
   "execution_count": 80,
   "metadata": {
    "execution": {
     "iopub.execute_input": "2020-10-31T15:04:52.112476Z",
     "iopub.status.busy": "2020-10-31T15:04:52.111257Z",
     "iopub.status.idle": "2020-10-31T15:04:52.160506Z",
     "shell.execute_reply": "2020-10-31T15:04:52.159884Z"
    },
    "papermill": {
     "duration": 0.209453,
     "end_time": "2020-10-31T15:04:52.160637",
     "exception": false,
     "start_time": "2020-10-31T15:04:51.951184",
     "status": "completed"
    },
    "tags": []
   },
   "outputs": [
    {
     "data": {
      "text/plain": [
       "1403"
      ]
     },
     "execution_count": 80,
     "metadata": {},
     "output_type": "execute_result"
    }
   ],
   "source": [
    "len(set(df2['winery'].dropna()) - set(winery_of_top_varieties.unique()))"
   ]
  },
  {
   "cell_type": "code",
   "execution_count": 81,
   "metadata": {
    "execution": {
     "iopub.execute_input": "2020-10-31T15:04:52.483977Z",
     "iopub.status.busy": "2020-10-31T15:04:52.468771Z",
     "iopub.status.idle": "2020-10-31T15:04:52.497321Z",
     "shell.execute_reply": "2020-10-31T15:04:52.496735Z"
    },
    "papermill": {
     "duration": 0.1959,
     "end_time": "2020-10-31T15:04:52.497464",
     "exception": false,
     "start_time": "2020-10-31T15:04:52.301564",
     "status": "completed"
    },
    "tags": []
   },
   "outputs": [
    {
     "data": {
      "text/plain": [
       "count    15354.000000\n",
       "mean         7.281295\n",
       "std         12.094350\n",
       "min          1.000000\n",
       "25%          1.000000\n",
       "50%          3.000000\n",
       "75%          8.000000\n",
       "max        217.000000\n",
       "Name: winery, dtype: float64"
      ]
     },
     "execution_count": 81,
     "metadata": {},
     "output_type": "execute_result"
    }
   ],
   "source": [
    "winery_of_top_varieties.value_counts().describe()"
   ]
  },
  {
   "cell_type": "markdown",
   "metadata": {
    "papermill": {
     "duration": 0.178131,
     "end_time": "2020-10-31T15:04:52.817112",
     "exception": false,
     "start_time": "2020-10-31T15:04:52.638981",
     "status": "completed"
    },
    "tags": []
   },
   "source": [
    "### We see that there is no significant difference between the distribution of ````winery````  in the actual dataset and in the top varieties."
   ]
  },
  {
   "cell_type": "markdown",
   "metadata": {
    "papermill": {
     "duration": 0.142089,
     "end_time": "2020-10-31T15:04:53.099599",
     "exception": false,
     "start_time": "2020-10-31T15:04:52.957510",
     "status": "completed"
    },
    "tags": []
   },
   "source": [
    "## By Vintage"
   ]
  },
  {
   "cell_type": "markdown",
   "metadata": {
    "papermill": {
     "duration": 0.140975,
     "end_time": "2020-10-31T15:04:53.383254",
     "exception": false,
     "start_time": "2020-10-31T15:04:53.242279",
     "status": "completed"
    },
    "tags": []
   },
   "source": [
    "### ````vintage```` is the year in which a set of wine grapes were harvested. We will obtain it from the ````title```` column by removing all of ````country````, ````designation````, ````province````, ````region_1````, ````region_2````, and ````winery```` from ````title````"
   ]
  },
  {
   "cell_type": "code",
   "execution_count": 82,
   "metadata": {
    "execution": {
     "iopub.execute_input": "2020-10-31T15:04:53.675659Z",
     "iopub.status.busy": "2020-10-31T15:04:53.674774Z",
     "iopub.status.idle": "2020-10-31T15:04:53.678212Z",
     "shell.execute_reply": "2020-10-31T15:04:53.677492Z"
    },
    "papermill": {
     "duration": 0.150366,
     "end_time": "2020-10-31T15:04:53.678337",
     "exception": false,
     "start_time": "2020-10-31T15:04:53.527971",
     "status": "completed"
    },
    "tags": []
   },
   "outputs": [],
   "source": [
    "title_list = ['country', 'designation', 'province', 'region_1', 'region_2', 'winery']"
   ]
  },
  {
   "cell_type": "code",
   "execution_count": 83,
   "metadata": {
    "execution": {
     "iopub.execute_input": "2020-10-31T15:04:53.970497Z",
     "iopub.status.busy": "2020-10-31T15:04:53.969441Z",
     "iopub.status.idle": "2020-10-31T15:04:53.973051Z",
     "shell.execute_reply": "2020-10-31T15:04:53.972329Z"
    },
    "papermill": {
     "duration": 0.15312,
     "end_time": "2020-10-31T15:04:53.973169",
     "exception": false,
     "start_time": "2020-10-31T15:04:53.820049",
     "status": "completed"
    },
    "tags": []
   },
   "outputs": [],
   "source": [
    "def get_vintage(row):\n",
    "    title = row['title']\n",
    "    for bracket in ['(', ')']:\n",
    "        title = ''.join(title.split(bracket))\n",
    "    \n",
    "    not_vintage = row['not_vintage']\n",
    "    vintage = set(title.split()) - set(not_vintage.split())\n",
    "    return ' '.join(vintage)"
   ]
  },
  {
   "cell_type": "markdown",
   "metadata": {
    "papermill": {
     "duration": 0.142018,
     "end_time": "2020-10-31T15:04:54.259305",
     "exception": false,
     "start_time": "2020-10-31T15:04:54.117287",
     "status": "completed"
    },
    "tags": []
   },
   "source": [
    "### we will name the combination of ````country````, ````designation````, ````province````, ````region_1````, ````region_2````, and ````winery```` as ````not_vintage````"
   ]
  },
  {
   "cell_type": "code",
   "execution_count": 84,
   "metadata": {
    "execution": {
     "iopub.execute_input": "2020-10-31T15:04:54.550953Z",
     "iopub.status.busy": "2020-10-31T15:04:54.550147Z",
     "iopub.status.idle": "2020-10-31T15:05:01.139472Z",
     "shell.execute_reply": "2020-10-31T15:05:01.138782Z"
    },
    "papermill": {
     "duration": 6.738738,
     "end_time": "2020-10-31T15:05:01.139599",
     "exception": false,
     "start_time": "2020-10-31T15:04:54.400861",
     "status": "completed"
    },
    "tags": []
   },
   "outputs": [
    {
     "data": {
      "text/html": [
       "<div>\n",
       "<style scoped>\n",
       "    .dataframe tbody tr th:only-of-type {\n",
       "        vertical-align: middle;\n",
       "    }\n",
       "\n",
       "    .dataframe tbody tr th {\n",
       "        vertical-align: top;\n",
       "    }\n",
       "\n",
       "    .dataframe thead th {\n",
       "        text-align: right;\n",
       "    }\n",
       "</style>\n",
       "<table border=\"1\" class=\"dataframe\">\n",
       "  <thead>\n",
       "    <tr style=\"text-align: right;\">\n",
       "      <th></th>\n",
       "      <th>Unnamed: 0</th>\n",
       "      <th>country</th>\n",
       "      <th>description</th>\n",
       "      <th>designation</th>\n",
       "      <th>points</th>\n",
       "      <th>price</th>\n",
       "      <th>province</th>\n",
       "      <th>region_1</th>\n",
       "      <th>region_2</th>\n",
       "      <th>taster_name</th>\n",
       "      <th>taster_twitter_handle</th>\n",
       "      <th>title</th>\n",
       "      <th>variety</th>\n",
       "      <th>winery</th>\n",
       "      <th>not_vintage</th>\n",
       "      <th>vintage</th>\n",
       "    </tr>\n",
       "  </thead>\n",
       "  <tbody>\n",
       "    <tr>\n",
       "      <th>0</th>\n",
       "      <td>0</td>\n",
       "      <td>Italy</td>\n",
       "      <td>Aromas include tropical fruit, broom, brimston...</td>\n",
       "      <td>Vulkà Bianco</td>\n",
       "      <td>87</td>\n",
       "      <td>NaN</td>\n",
       "      <td>Sicily &amp; Sardinia</td>\n",
       "      <td>Etna</td>\n",
       "      <td>NaN</td>\n",
       "      <td>Kerin O’Keefe</td>\n",
       "      <td>@kerinokeefe</td>\n",
       "      <td>Nicosia 2013 Vulkà Bianco  (Etna)</td>\n",
       "      <td>White Blend</td>\n",
       "      <td>Nicosia</td>\n",
       "      <td>Italy Vulkà Bianco Sicily &amp; Sardinia Etna Nicosia</td>\n",
       "      <td>2013</td>\n",
       "    </tr>\n",
       "    <tr>\n",
       "      <th>1</th>\n",
       "      <td>1</td>\n",
       "      <td>Portugal</td>\n",
       "      <td>This is ripe and fruity, a wine that is smooth...</td>\n",
       "      <td>Avidagos</td>\n",
       "      <td>87</td>\n",
       "      <td>15.0</td>\n",
       "      <td>Douro</td>\n",
       "      <td>NaN</td>\n",
       "      <td>NaN</td>\n",
       "      <td>Roger Voss</td>\n",
       "      <td>@vossroger</td>\n",
       "      <td>Quinta dos Avidagos 2011 Avidagos Red (Douro)</td>\n",
       "      <td>Portuguese Red</td>\n",
       "      <td>Quinta dos Avidagos</td>\n",
       "      <td>Portugal Avidagos Douro Quinta dos Avidagos</td>\n",
       "      <td>Red 2011</td>\n",
       "    </tr>\n",
       "    <tr>\n",
       "      <th>2</th>\n",
       "      <td>2</td>\n",
       "      <td>US</td>\n",
       "      <td>Tart and snappy, the flavors of lime flesh and...</td>\n",
       "      <td>NaN</td>\n",
       "      <td>87</td>\n",
       "      <td>14.0</td>\n",
       "      <td>Oregon</td>\n",
       "      <td>Willamette Valley</td>\n",
       "      <td>Willamette Valley</td>\n",
       "      <td>Paul Gregutt</td>\n",
       "      <td>@paulgwine</td>\n",
       "      <td>Rainstorm 2013 Pinot Gris (Willamette Valley)</td>\n",
       "      <td>Pinot Gris</td>\n",
       "      <td>Rainstorm</td>\n",
       "      <td>US Oregon Willamette Valley Willamette Valley ...</td>\n",
       "      <td>Pinot Gris 2013</td>\n",
       "    </tr>\n",
       "  </tbody>\n",
       "</table>\n",
       "</div>"
      ],
      "text/plain": [
       "   Unnamed: 0   country                                        description  \\\n",
       "0           0     Italy  Aromas include tropical fruit, broom, brimston...   \n",
       "1           1  Portugal  This is ripe and fruity, a wine that is smooth...   \n",
       "2           2        US  Tart and snappy, the flavors of lime flesh and...   \n",
       "\n",
       "    designation  points  price           province           region_1  \\\n",
       "0  Vulkà Bianco      87    NaN  Sicily & Sardinia               Etna   \n",
       "1      Avidagos      87   15.0              Douro                NaN   \n",
       "2           NaN      87   14.0             Oregon  Willamette Valley   \n",
       "\n",
       "            region_2    taster_name taster_twitter_handle  \\\n",
       "0                NaN  Kerin O’Keefe          @kerinokeefe   \n",
       "1                NaN     Roger Voss            @vossroger   \n",
       "2  Willamette Valley   Paul Gregutt           @paulgwine    \n",
       "\n",
       "                                           title         variety  \\\n",
       "0              Nicosia 2013 Vulkà Bianco  (Etna)     White Blend   \n",
       "1  Quinta dos Avidagos 2011 Avidagos Red (Douro)  Portuguese Red   \n",
       "2  Rainstorm 2013 Pinot Gris (Willamette Valley)      Pinot Gris   \n",
       "\n",
       "                winery                                        not_vintage  \\\n",
       "0              Nicosia  Italy Vulkà Bianco Sicily & Sardinia Etna Nicosia   \n",
       "1  Quinta dos Avidagos        Portugal Avidagos Douro Quinta dos Avidagos   \n",
       "2            Rainstorm  US Oregon Willamette Valley Willamette Valley ...   \n",
       "\n",
       "           vintage  \n",
       "0             2013  \n",
       "1         Red 2011  \n",
       "2  Pinot Gris 2013  "
      ]
     },
     "execution_count": 84,
     "metadata": {},
     "output_type": "execute_result"
    }
   ],
   "source": [
    "df2['not_vintage'] = df2[title_list].apply(lambda x: ' '.join([str(i) for i in x if pd.notna(i)]), axis=1)\n",
    "df2['vintage'] = df2.apply(get_vintage, axis=1)\n",
    "df2.head(3)"
   ]
  },
  {
   "cell_type": "code",
   "execution_count": 85,
   "metadata": {
    "execution": {
     "iopub.execute_input": "2020-10-31T15:05:01.458937Z",
     "iopub.status.busy": "2020-10-31T15:05:01.431802Z",
     "iopub.status.idle": "2020-10-31T15:05:01.641437Z",
     "shell.execute_reply": "2020-10-31T15:05:01.640838Z"
    },
    "papermill": {
     "duration": 0.358846,
     "end_time": "2020-10-31T15:05:01.641560",
     "exception": false,
     "start_time": "2020-10-31T15:05:01.282714",
     "status": "completed"
    },
    "tags": []
   },
   "outputs": [
    {
     "name": "stdout",
     "output_type": "stream",
     "text": [
      "129971\n"
     ]
    },
    {
     "data": {
      "text/plain": [
       "0    [2013]\n",
       "1    [2011]\n",
       "2    [2013]\n",
       "3    [2013]\n",
       "4    [2012]\n",
       "Name: vintage, dtype: object"
      ]
     },
     "execution_count": 85,
     "metadata": {},
     "output_type": "execute_result"
    }
   ],
   "source": [
    "# making a Series of lists of numeric characters in vintage as our new vintage\n",
    "vintage = df2['vintage'].apply(lambda x: [int(i) for i in x.split() if i.isnumeric()])\n",
    "print(vintage.shape[0])\n",
    "vintage.head()"
   ]
  },
  {
   "cell_type": "code",
   "execution_count": 86,
   "metadata": {
    "execution": {
     "iopub.execute_input": "2020-10-31T15:05:01.934806Z",
     "iopub.status.busy": "2020-10-31T15:05:01.934057Z",
     "iopub.status.idle": "2020-10-31T15:05:02.034562Z",
     "shell.execute_reply": "2020-10-31T15:05:02.035134Z"
    },
    "papermill": {
     "duration": 0.251228,
     "end_time": "2020-10-31T15:05:02.035338",
     "exception": false,
     "start_time": "2020-10-31T15:05:01.784110",
     "status": "completed"
    },
    "tags": []
   },
   "outputs": [],
   "source": [
    "len_vintage = vintage.apply(lambda x: len(x)) # confirms that no vintage list has more than 1 value"
   ]
  },
  {
   "cell_type": "code",
   "execution_count": 87,
   "metadata": {
    "execution": {
     "iopub.execute_input": "2020-10-31T15:05:02.329729Z",
     "iopub.status.busy": "2020-10-31T15:05:02.328880Z",
     "iopub.status.idle": "2020-10-31T15:05:02.336879Z",
     "shell.execute_reply": "2020-10-31T15:05:02.336285Z"
    },
    "papermill": {
     "duration": 0.157122,
     "end_time": "2020-10-31T15:05:02.337005",
     "exception": false,
     "start_time": "2020-10-31T15:05:02.179883",
     "status": "completed"
    },
    "tags": []
   },
   "outputs": [
    {
     "name": "stdout",
     "output_type": "stream",
     "text": [
      "0\n",
      "4634\n",
      "125337\n"
     ]
    }
   ],
   "source": [
    "print((len_vintage > 1).sum())\n",
    "print((len_vintage == 0).sum())\n",
    "print((len_vintage == 1).sum())"
   ]
  },
  {
   "cell_type": "markdown",
   "metadata": {
    "papermill": {
     "duration": 0.146615,
     "end_time": "2020-10-31T15:05:02.629286",
     "exception": false,
     "start_time": "2020-10-31T15:05:02.482671",
     "status": "completed"
    },
    "tags": []
   },
   "source": [
    "### confirmed! Where ````len_vintage```` == 0 means that the vintage is missing for that observation"
   ]
  },
  {
   "cell_type": "code",
   "execution_count": 88,
   "metadata": {
    "execution": {
     "iopub.execute_input": "2020-10-31T15:05:02.924459Z",
     "iopub.status.busy": "2020-10-31T15:05:02.923363Z",
     "iopub.status.idle": "2020-10-31T15:05:02.928978Z",
     "shell.execute_reply": "2020-10-31T15:05:02.928402Z"
    },
    "papermill": {
     "duration": 0.155226,
     "end_time": "2020-10-31T15:05:02.929101",
     "exception": false,
     "start_time": "2020-10-31T15:05:02.773875",
     "status": "completed"
    },
    "tags": []
   },
   "outputs": [
    {
     "data": {
      "text/plain": [
       "4634"
      ]
     },
     "execution_count": 88,
     "metadata": {},
     "output_type": "execute_result"
    }
   ],
   "source": [
    " vintage.shape[0] - len_vintage.sum()"
   ]
  },
  {
   "cell_type": "code",
   "execution_count": 89,
   "metadata": {
    "execution": {
     "iopub.execute_input": "2020-10-31T15:05:03.226917Z",
     "iopub.status.busy": "2020-10-31T15:05:03.226169Z",
     "iopub.status.idle": "2020-10-31T15:05:03.316325Z",
     "shell.execute_reply": "2020-10-31T15:05:03.315666Z"
    },
    "papermill": {
     "duration": 0.241937,
     "end_time": "2020-10-31T15:05:03.316466",
     "exception": false,
     "start_time": "2020-10-31T15:05:03.074529",
     "status": "completed"
    },
    "tags": []
   },
   "outputs": [
    {
     "data": {
      "text/html": [
       "<div>\n",
       "<style scoped>\n",
       "    .dataframe tbody tr th:only-of-type {\n",
       "        vertical-align: middle;\n",
       "    }\n",
       "\n",
       "    .dataframe tbody tr th {\n",
       "        vertical-align: top;\n",
       "    }\n",
       "\n",
       "    .dataframe thead th {\n",
       "        text-align: right;\n",
       "    }\n",
       "</style>\n",
       "<table border=\"1\" class=\"dataframe\">\n",
       "  <thead>\n",
       "    <tr style=\"text-align: right;\">\n",
       "      <th></th>\n",
       "      <th>Unnamed: 0</th>\n",
       "      <th>country</th>\n",
       "      <th>description</th>\n",
       "      <th>designation</th>\n",
       "      <th>points</th>\n",
       "      <th>price</th>\n",
       "      <th>province</th>\n",
       "      <th>region_1</th>\n",
       "      <th>region_2</th>\n",
       "      <th>taster_name</th>\n",
       "      <th>taster_twitter_handle</th>\n",
       "      <th>title</th>\n",
       "      <th>variety</th>\n",
       "      <th>winery</th>\n",
       "      <th>not_vintage</th>\n",
       "      <th>vintage</th>\n",
       "    </tr>\n",
       "  </thead>\n",
       "  <tbody>\n",
       "    <tr>\n",
       "      <th>63</th>\n",
       "      <td>63</td>\n",
       "      <td>France</td>\n",
       "      <td>This fat, yeasty Champagne is comprised predom...</td>\n",
       "      <td>Brut Rosé</td>\n",
       "      <td>86</td>\n",
       "      <td>58.0</td>\n",
       "      <td>Champagne</td>\n",
       "      <td>Champagne</td>\n",
       "      <td>NaN</td>\n",
       "      <td>Roger Voss</td>\n",
       "      <td>@vossroger</td>\n",
       "      <td>Roland Champion NV Brut Rosé  (Champagne)</td>\n",
       "      <td>Champagne Blend</td>\n",
       "      <td>Roland Champion</td>\n",
       "      <td>France Brut Rosé Champagne Champagne Roland Ch...</td>\n",
       "      <td>NV</td>\n",
       "    </tr>\n",
       "    <tr>\n",
       "      <th>69</th>\n",
       "      <td>69</td>\n",
       "      <td>France</td>\n",
       "      <td>This cooperative, based in Aÿ, has benefited f...</td>\n",
       "      <td>Brut Rosé</td>\n",
       "      <td>86</td>\n",
       "      <td>55.0</td>\n",
       "      <td>Champagne</td>\n",
       "      <td>Champagne</td>\n",
       "      <td>NaN</td>\n",
       "      <td>Roger Voss</td>\n",
       "      <td>@vossroger</td>\n",
       "      <td>Collet NV Brut Rosé  (Champagne)</td>\n",
       "      <td>Champagne Blend</td>\n",
       "      <td>Collet</td>\n",
       "      <td>France Brut Rosé Champagne Champagne Collet</td>\n",
       "      <td>NV</td>\n",
       "    </tr>\n",
       "    <tr>\n",
       "      <th>237</th>\n",
       "      <td>237</td>\n",
       "      <td>Italy</td>\n",
       "      <td>The wine boasts a beautiful appearance thanks ...</td>\n",
       "      <td>NaN</td>\n",
       "      <td>85</td>\n",
       "      <td>18.0</td>\n",
       "      <td>Central Italy</td>\n",
       "      <td>San Marino</td>\n",
       "      <td>NaN</td>\n",
       "      <td>NaN</td>\n",
       "      <td>NaN</td>\n",
       "      <td>Consorzio Vini Tipici di San Marino NV Moscato...</td>\n",
       "      <td>Moscato</td>\n",
       "      <td>Consorzio Vini Tipici di San Marino</td>\n",
       "      <td>Italy Central Italy San Marino Consorzio Vini ...</td>\n",
       "      <td>Moscato NV</td>\n",
       "    </tr>\n",
       "  </tbody>\n",
       "</table>\n",
       "</div>"
      ],
      "text/plain": [
       "     Unnamed: 0 country                                        description  \\\n",
       "63           63  France  This fat, yeasty Champagne is comprised predom...   \n",
       "69           69  France  This cooperative, based in Aÿ, has benefited f...   \n",
       "237         237   Italy  The wine boasts a beautiful appearance thanks ...   \n",
       "\n",
       "    designation  points  price       province    region_1 region_2  \\\n",
       "63    Brut Rosé      86   58.0      Champagne   Champagne      NaN   \n",
       "69    Brut Rosé      86   55.0      Champagne   Champagne      NaN   \n",
       "237         NaN      85   18.0  Central Italy  San Marino      NaN   \n",
       "\n",
       "    taster_name taster_twitter_handle  \\\n",
       "63   Roger Voss            @vossroger   \n",
       "69   Roger Voss            @vossroger   \n",
       "237         NaN                   NaN   \n",
       "\n",
       "                                                 title          variety  \\\n",
       "63           Roland Champion NV Brut Rosé  (Champagne)  Champagne Blend   \n",
       "69                    Collet NV Brut Rosé  (Champagne)  Champagne Blend   \n",
       "237  Consorzio Vini Tipici di San Marino NV Moscato...          Moscato   \n",
       "\n",
       "                                  winery  \\\n",
       "63                       Roland Champion   \n",
       "69                                Collet   \n",
       "237  Consorzio Vini Tipici di San Marino   \n",
       "\n",
       "                                           not_vintage     vintage  \n",
       "63   France Brut Rosé Champagne Champagne Roland Ch...          NV  \n",
       "69         France Brut Rosé Champagne Champagne Collet          NV  \n",
       "237  Italy Central Italy San Marino Consorzio Vini ...  Moscato NV  "
      ]
     },
     "execution_count": 89,
     "metadata": {},
     "output_type": "execute_result"
    }
   ],
   "source": [
    "df2[len_vintage == 0].head(3) # checking the dataframe for where len_vintage == 0 "
   ]
  },
  {
   "cell_type": "code",
   "execution_count": 90,
   "metadata": {
    "execution": {
     "iopub.execute_input": "2020-10-31T15:05:03.613793Z",
     "iopub.status.busy": "2020-10-31T15:05:03.613088Z",
     "iopub.status.idle": "2020-10-31T15:05:03.615688Z",
     "shell.execute_reply": "2020-10-31T15:05:03.616205Z"
    },
    "papermill": {
     "duration": 0.154359,
     "end_time": "2020-10-31T15:05:03.616360",
     "exception": false,
     "start_time": "2020-10-31T15:05:03.462001",
     "status": "completed"
    },
    "tags": []
   },
   "outputs": [],
   "source": [
    "# creating a function to fill where there is no vintage with Nan value\n",
    "def get_year(row):\n",
    "    if len(row) == 0:\n",
    "        return np.nan\n",
    "    return row[0]"
   ]
  },
  {
   "cell_type": "code",
   "execution_count": 91,
   "metadata": {
    "execution": {
     "iopub.execute_input": "2020-10-31T15:05:03.912670Z",
     "iopub.status.busy": "2020-10-31T15:05:03.911335Z",
     "iopub.status.idle": "2020-10-31T15:05:04.077881Z",
     "shell.execute_reply": "2020-10-31T15:05:04.077137Z"
    },
    "papermill": {
     "duration": 0.316586,
     "end_time": "2020-10-31T15:05:04.078001",
     "exception": false,
     "start_time": "2020-10-31T15:05:03.761415",
     "status": "completed"
    },
    "tags": []
   },
   "outputs": [
    {
     "data": {
      "text/html": [
       "<div>\n",
       "<style scoped>\n",
       "    .dataframe tbody tr th:only-of-type {\n",
       "        vertical-align: middle;\n",
       "    }\n",
       "\n",
       "    .dataframe tbody tr th {\n",
       "        vertical-align: top;\n",
       "    }\n",
       "\n",
       "    .dataframe thead th {\n",
       "        text-align: right;\n",
       "    }\n",
       "</style>\n",
       "<table border=\"1\" class=\"dataframe\">\n",
       "  <thead>\n",
       "    <tr style=\"text-align: right;\">\n",
       "      <th></th>\n",
       "      <th>Unnamed: 0</th>\n",
       "      <th>country</th>\n",
       "      <th>description</th>\n",
       "      <th>designation</th>\n",
       "      <th>points</th>\n",
       "      <th>price</th>\n",
       "      <th>province</th>\n",
       "      <th>region_1</th>\n",
       "      <th>region_2</th>\n",
       "      <th>taster_name</th>\n",
       "      <th>taster_twitter_handle</th>\n",
       "      <th>title</th>\n",
       "      <th>variety</th>\n",
       "      <th>winery</th>\n",
       "      <th>not_vintage</th>\n",
       "      <th>vintage</th>\n",
       "    </tr>\n",
       "  </thead>\n",
       "  <tbody>\n",
       "    <tr>\n",
       "      <th>0</th>\n",
       "      <td>0</td>\n",
       "      <td>Italy</td>\n",
       "      <td>Aromas include tropical fruit, broom, brimston...</td>\n",
       "      <td>Vulkà Bianco</td>\n",
       "      <td>87</td>\n",
       "      <td>NaN</td>\n",
       "      <td>Sicily &amp; Sardinia</td>\n",
       "      <td>Etna</td>\n",
       "      <td>NaN</td>\n",
       "      <td>Kerin O’Keefe</td>\n",
       "      <td>@kerinokeefe</td>\n",
       "      <td>Nicosia 2013 Vulkà Bianco  (Etna)</td>\n",
       "      <td>White Blend</td>\n",
       "      <td>Nicosia</td>\n",
       "      <td>Italy Vulkà Bianco Sicily &amp; Sardinia Etna Nicosia</td>\n",
       "      <td>2013.0</td>\n",
       "    </tr>\n",
       "    <tr>\n",
       "      <th>1</th>\n",
       "      <td>1</td>\n",
       "      <td>Portugal</td>\n",
       "      <td>This is ripe and fruity, a wine that is smooth...</td>\n",
       "      <td>Avidagos</td>\n",
       "      <td>87</td>\n",
       "      <td>15.0</td>\n",
       "      <td>Douro</td>\n",
       "      <td>NaN</td>\n",
       "      <td>NaN</td>\n",
       "      <td>Roger Voss</td>\n",
       "      <td>@vossroger</td>\n",
       "      <td>Quinta dos Avidagos 2011 Avidagos Red (Douro)</td>\n",
       "      <td>Portuguese Red</td>\n",
       "      <td>Quinta dos Avidagos</td>\n",
       "      <td>Portugal Avidagos Douro Quinta dos Avidagos</td>\n",
       "      <td>2011.0</td>\n",
       "    </tr>\n",
       "    <tr>\n",
       "      <th>2</th>\n",
       "      <td>2</td>\n",
       "      <td>US</td>\n",
       "      <td>Tart and snappy, the flavors of lime flesh and...</td>\n",
       "      <td>NaN</td>\n",
       "      <td>87</td>\n",
       "      <td>14.0</td>\n",
       "      <td>Oregon</td>\n",
       "      <td>Willamette Valley</td>\n",
       "      <td>Willamette Valley</td>\n",
       "      <td>Paul Gregutt</td>\n",
       "      <td>@paulgwine</td>\n",
       "      <td>Rainstorm 2013 Pinot Gris (Willamette Valley)</td>\n",
       "      <td>Pinot Gris</td>\n",
       "      <td>Rainstorm</td>\n",
       "      <td>US Oregon Willamette Valley Willamette Valley ...</td>\n",
       "      <td>2013.0</td>\n",
       "    </tr>\n",
       "  </tbody>\n",
       "</table>\n",
       "</div>"
      ],
      "text/plain": [
       "   Unnamed: 0   country                                        description  \\\n",
       "0           0     Italy  Aromas include tropical fruit, broom, brimston...   \n",
       "1           1  Portugal  This is ripe and fruity, a wine that is smooth...   \n",
       "2           2        US  Tart and snappy, the flavors of lime flesh and...   \n",
       "\n",
       "    designation  points  price           province           region_1  \\\n",
       "0  Vulkà Bianco      87    NaN  Sicily & Sardinia               Etna   \n",
       "1      Avidagos      87   15.0              Douro                NaN   \n",
       "2           NaN      87   14.0             Oregon  Willamette Valley   \n",
       "\n",
       "            region_2    taster_name taster_twitter_handle  \\\n",
       "0                NaN  Kerin O’Keefe          @kerinokeefe   \n",
       "1                NaN     Roger Voss            @vossroger   \n",
       "2  Willamette Valley   Paul Gregutt           @paulgwine    \n",
       "\n",
       "                                           title         variety  \\\n",
       "0              Nicosia 2013 Vulkà Bianco  (Etna)     White Blend   \n",
       "1  Quinta dos Avidagos 2011 Avidagos Red (Douro)  Portuguese Red   \n",
       "2  Rainstorm 2013 Pinot Gris (Willamette Valley)      Pinot Gris   \n",
       "\n",
       "                winery                                        not_vintage  \\\n",
       "0              Nicosia  Italy Vulkà Bianco Sicily & Sardinia Etna Nicosia   \n",
       "1  Quinta dos Avidagos        Portugal Avidagos Douro Quinta dos Avidagos   \n",
       "2            Rainstorm  US Oregon Willamette Valley Willamette Valley ...   \n",
       "\n",
       "   vintage  \n",
       "0   2013.0  \n",
       "1   2011.0  \n",
       "2   2013.0  "
      ]
     },
     "execution_count": 91,
     "metadata": {},
     "output_type": "execute_result"
    }
   ],
   "source": [
    "df2['vintage'] = vintage.apply(get_year) # checking the dataframe for the new vintage column\n",
    "df2.head(3)"
   ]
  },
  {
   "cell_type": "code",
   "execution_count": 92,
   "metadata": {
    "execution": {
     "iopub.execute_input": "2020-10-31T15:05:04.379577Z",
     "iopub.status.busy": "2020-10-31T15:05:04.378515Z",
     "iopub.status.idle": "2020-10-31T15:05:04.384759Z",
     "shell.execute_reply": "2020-10-31T15:05:04.383992Z"
    },
    "papermill": {
     "duration": 0.157626,
     "end_time": "2020-10-31T15:05:04.384885",
     "exception": false,
     "start_time": "2020-10-31T15:05:04.227259",
     "status": "completed"
    },
    "tags": []
   },
   "outputs": [
    {
     "data": {
      "text/plain": [
       "57"
      ]
     },
     "execution_count": 92,
     "metadata": {},
     "output_type": "execute_result"
    }
   ],
   "source": [
    "df2['vintage'].unique().shape[0]"
   ]
  },
  {
   "cell_type": "code",
   "execution_count": 93,
   "metadata": {
    "execution": {
     "iopub.execute_input": "2020-10-31T15:05:04.684569Z",
     "iopub.status.busy": "2020-10-31T15:05:04.683549Z",
     "iopub.status.idle": "2020-10-31T15:05:04.688822Z",
     "shell.execute_reply": "2020-10-31T15:05:04.689348Z"
    },
    "papermill": {
     "duration": 0.158,
     "end_time": "2020-10-31T15:05:04.689518",
     "exception": false,
     "start_time": "2020-10-31T15:05:04.531518",
     "status": "completed"
    },
    "tags": []
   },
   "outputs": [
    {
     "data": {
      "text/plain": [
       "4634"
      ]
     },
     "execution_count": 93,
     "metadata": {},
     "output_type": "execute_result"
    }
   ],
   "source": [
    "df2['vintage'].isnull().sum()"
   ]
  },
  {
   "cell_type": "code",
   "execution_count": 94,
   "metadata": {
    "execution": {
     "iopub.execute_input": "2020-10-31T15:05:04.995870Z",
     "iopub.status.busy": "2020-10-31T15:05:04.990153Z",
     "iopub.status.idle": "2020-10-31T15:05:05.159509Z",
     "shell.execute_reply": "2020-10-31T15:05:05.160080Z"
    },
    "papermill": {
     "duration": 0.323752,
     "end_time": "2020-10-31T15:05:05.160232",
     "exception": false,
     "start_time": "2020-10-31T15:05:04.836480",
     "status": "completed"
    },
    "tags": []
   },
   "outputs": [
    {
     "data": {
      "image/png": "[encoded data removed]",
      "text/plain": [
       "<Figure size 432x288 with 1 Axes>"
      ]
     },
     "metadata": {
      "needs_background": "light"
     },
     "output_type": "display_data"
    }
   ],
   "source": [
    "plt.hist(df2['vintage'])\n",
    "plt.show()"
   ]
  },
  {
   "cell_type": "code",
   "execution_count": 95,
   "metadata": {
    "execution": {
     "iopub.execute_input": "2020-10-31T15:05:05.462699Z",
     "iopub.status.busy": "2020-10-31T15:05:05.461597Z",
     "iopub.status.idle": "2020-10-31T15:05:05.474150Z",
     "shell.execute_reply": "2020-10-31T15:05:05.474734Z"
    },
    "papermill": {
     "duration": 0.165887,
     "end_time": "2020-10-31T15:05:05.474909",
     "exception": false,
     "start_time": "2020-10-31T15:05:05.309022",
     "status": "completed"
    },
    "tags": []
   },
   "outputs": [
    {
     "data": {
      "text/plain": [
       "count    125337.000000\n",
       "mean       2010.684762\n",
       "std           3.634751\n",
       "min        1934.000000\n",
       "25%        2009.000000\n",
       "50%        2011.000000\n",
       "75%        2013.000000\n",
       "max        2017.000000\n",
       "Name: vintage, dtype: float64"
      ]
     },
     "execution_count": 95,
     "metadata": {},
     "output_type": "execute_result"
    }
   ],
   "source": [
    "df2['vintage'].describe()"
   ]
  },
  {
   "cell_type": "code",
   "execution_count": 96,
   "metadata": {
    "execution": {
     "iopub.execute_input": "2020-10-31T15:05:05.793741Z",
     "iopub.status.busy": "2020-10-31T15:05:05.792519Z",
     "iopub.status.idle": "2020-10-31T15:05:05.978665Z",
     "shell.execute_reply": "2020-10-31T15:05:05.977914Z"
    },
    "papermill": {
     "duration": 0.352857,
     "end_time": "2020-10-31T15:05:05.978789",
     "exception": false,
     "start_time": "2020-10-31T15:05:05.625932",
     "status": "completed"
    },
    "tags": []
   },
   "outputs": [
    {
     "data": {
      "image/png": "[encoded data removed]",
      "text/plain": [
       "<Figure size 432x288 with 1 Axes>"
      ]
     },
     "metadata": {
      "needs_background": "light"
     },
     "output_type": "display_data"
    }
   ],
   "source": [
    "vintage_of_top_varieties = df2['vintage'][df2['variety'].isin(top_varieties.index)].dropna()\n",
    "plt.hist(vintage_of_top_varieties)\n",
    "plt.show()"
   ]
  },
  {
   "cell_type": "code",
   "execution_count": 97,
   "metadata": {
    "execution": {
     "iopub.execute_input": "2020-10-31T15:05:06.316333Z",
     "iopub.status.busy": "2020-10-31T15:05:06.315605Z",
     "iopub.status.idle": "2020-10-31T15:05:06.328090Z",
     "shell.execute_reply": "2020-10-31T15:05:06.328830Z"
    },
    "papermill": {
     "duration": 0.170373,
     "end_time": "2020-10-31T15:05:06.328982",
     "exception": false,
     "start_time": "2020-10-31T15:05:06.158609",
     "status": "completed"
    },
    "tags": []
   },
   "outputs": [
    {
     "data": {
      "text/plain": [
       "count    107923.000000\n",
       "mean       2010.627716\n",
       "std           3.649707\n",
       "min        1935.000000\n",
       "25%        2009.000000\n",
       "50%        2011.000000\n",
       "75%        2013.000000\n",
       "max        2017.000000\n",
       "Name: vintage, dtype: float64"
      ]
     },
     "execution_count": 97,
     "metadata": {},
     "output_type": "execute_result"
    }
   ],
   "source": [
    "vintage_of_top_varieties.describe()"
   ]
  },
  {
   "cell_type": "markdown",
   "metadata": {
    "papermill": {
     "duration": 0.150621,
     "end_time": "2020-10-31T15:05:06.630398",
     "exception": false,
     "start_time": "2020-10-31T15:05:06.479777",
     "status": "completed"
    },
    "tags": []
   },
   "source": [
    "### We see that there is no significant difference between the distribution of ````vintage````  in the actual dataset and in the top varieties."
   ]
  },
  {
   "cell_type": "markdown",
   "metadata": {
    "papermill": {
     "duration": 0.150026,
     "end_time": "2020-10-31T15:05:06.930988",
     "exception": false,
     "start_time": "2020-10-31T15:05:06.780962",
     "status": "completed"
    },
    "tags": []
   },
   "source": [
    "## Getting top 40 varieties df"
   ]
  },
  {
   "cell_type": "code",
   "execution_count": 98,
   "metadata": {
    "execution": {
     "iopub.execute_input": "2020-10-31T15:05:07.253592Z",
     "iopub.status.busy": "2020-10-31T15:05:07.252350Z",
     "iopub.status.idle": "2020-10-31T15:05:07.348521Z",
     "shell.execute_reply": "2020-10-31T15:05:07.347545Z"
    },
    "papermill": {
     "duration": 0.265019,
     "end_time": "2020-10-31T15:05:07.348682",
     "exception": false,
     "start_time": "2020-10-31T15:05:07.083663",
     "status": "completed"
    },
    "tags": []
   },
   "outputs": [
    {
     "name": "stdout",
     "output_type": "stream",
     "text": [
      "(111797, 15)\n",
      "40\n"
     ]
    },
    {
     "data": {
      "text/html": [
       "<div>\n",
       "<style scoped>\n",
       "    .dataframe tbody tr th:only-of-type {\n",
       "        vertical-align: middle;\n",
       "    }\n",
       "\n",
       "    .dataframe tbody tr th {\n",
       "        vertical-align: top;\n",
       "    }\n",
       "\n",
       "    .dataframe thead th {\n",
       "        text-align: right;\n",
       "    }\n",
       "</style>\n",
       "<table border=\"1\" class=\"dataframe\">\n",
       "  <thead>\n",
       "    <tr style=\"text-align: right;\">\n",
       "      <th></th>\n",
       "      <th>country</th>\n",
       "      <th>description</th>\n",
       "      <th>designation</th>\n",
       "      <th>points</th>\n",
       "      <th>price</th>\n",
       "      <th>province</th>\n",
       "      <th>region_1</th>\n",
       "      <th>region_2</th>\n",
       "      <th>taster_name</th>\n",
       "      <th>taster_twitter_handle</th>\n",
       "      <th>title</th>\n",
       "      <th>variety</th>\n",
       "      <th>winery</th>\n",
       "      <th>not_vintage</th>\n",
       "      <th>vintage</th>\n",
       "    </tr>\n",
       "  </thead>\n",
       "  <tbody>\n",
       "    <tr>\n",
       "      <th>0</th>\n",
       "      <td>Italy</td>\n",
       "      <td>Aromas include tropical fruit, broom, brimston...</td>\n",
       "      <td>Vulkà Bianco</td>\n",
       "      <td>87</td>\n",
       "      <td>NaN</td>\n",
       "      <td>Sicily &amp; Sardinia</td>\n",
       "      <td>Etna</td>\n",
       "      <td>NaN</td>\n",
       "      <td>Kerin O’Keefe</td>\n",
       "      <td>@kerinokeefe</td>\n",
       "      <td>Nicosia 2013 Vulkà Bianco  (Etna)</td>\n",
       "      <td>White Blend</td>\n",
       "      <td>Nicosia</td>\n",
       "      <td>Italy Vulkà Bianco Sicily &amp; Sardinia Etna Nicosia</td>\n",
       "      <td>2013.0</td>\n",
       "    </tr>\n",
       "    <tr>\n",
       "      <th>1</th>\n",
       "      <td>Portugal</td>\n",
       "      <td>This is ripe and fruity, a wine that is smooth...</td>\n",
       "      <td>Avidagos</td>\n",
       "      <td>87</td>\n",
       "      <td>15.0</td>\n",
       "      <td>Douro</td>\n",
       "      <td>NaN</td>\n",
       "      <td>NaN</td>\n",
       "      <td>Roger Voss</td>\n",
       "      <td>@vossroger</td>\n",
       "      <td>Quinta dos Avidagos 2011 Avidagos Red (Douro)</td>\n",
       "      <td>Portuguese Red</td>\n",
       "      <td>Quinta dos Avidagos</td>\n",
       "      <td>Portugal Avidagos Douro Quinta dos Avidagos</td>\n",
       "      <td>2011.0</td>\n",
       "    </tr>\n",
       "    <tr>\n",
       "      <th>2</th>\n",
       "      <td>US</td>\n",
       "      <td>Tart and snappy, the flavors of lime flesh and...</td>\n",
       "      <td>NaN</td>\n",
       "      <td>87</td>\n",
       "      <td>14.0</td>\n",
       "      <td>Oregon</td>\n",
       "      <td>Willamette Valley</td>\n",
       "      <td>Willamette Valley</td>\n",
       "      <td>Paul Gregutt</td>\n",
       "      <td>@paulgwine</td>\n",
       "      <td>Rainstorm 2013 Pinot Gris (Willamette Valley)</td>\n",
       "      <td>Pinot Gris</td>\n",
       "      <td>Rainstorm</td>\n",
       "      <td>US Oregon Willamette Valley Willamette Valley ...</td>\n",
       "      <td>2013.0</td>\n",
       "    </tr>\n",
       "  </tbody>\n",
       "</table>\n",
       "</div>"
      ],
      "text/plain": [
       "    country                                        description   designation  \\\n",
       "0     Italy  Aromas include tropical fruit, broom, brimston...  Vulkà Bianco   \n",
       "1  Portugal  This is ripe and fruity, a wine that is smooth...      Avidagos   \n",
       "2        US  Tart and snappy, the flavors of lime flesh and...           NaN   \n",
       "\n",
       "   points  price           province           region_1           region_2  \\\n",
       "0      87    NaN  Sicily & Sardinia               Etna                NaN   \n",
       "1      87   15.0              Douro                NaN                NaN   \n",
       "2      87   14.0             Oregon  Willamette Valley  Willamette Valley   \n",
       "\n",
       "     taster_name taster_twitter_handle  \\\n",
       "0  Kerin O’Keefe          @kerinokeefe   \n",
       "1     Roger Voss            @vossroger   \n",
       "2   Paul Gregutt           @paulgwine    \n",
       "\n",
       "                                           title         variety  \\\n",
       "0              Nicosia 2013 Vulkà Bianco  (Etna)     White Blend   \n",
       "1  Quinta dos Avidagos 2011 Avidagos Red (Douro)  Portuguese Red   \n",
       "2  Rainstorm 2013 Pinot Gris (Willamette Valley)      Pinot Gris   \n",
       "\n",
       "                winery                                        not_vintage  \\\n",
       "0              Nicosia  Italy Vulkà Bianco Sicily & Sardinia Etna Nicosia   \n",
       "1  Quinta dos Avidagos        Portugal Avidagos Douro Quinta dos Avidagos   \n",
       "2            Rainstorm  US Oregon Willamette Valley Willamette Valley ...   \n",
       "\n",
       "   vintage  \n",
       "0   2013.0  \n",
       "1   2011.0  \n",
       "2   2013.0  "
      ]
     },
     "execution_count": 98,
     "metadata": {},
     "output_type": "execute_result"
    }
   ],
   "source": [
    "top_40_df = df2[df2['variety'].isin(top_varieties.index)]\n",
    "top_40_df = top_40_df.drop('Unnamed: 0', axis=1)\n",
    "print(top_40_df.shape)\n",
    "print(len(top_40_df['variety'].unique()))\n",
    "top_40_df.head(3)"
   ]
  },
  {
   "cell_type": "code",
   "execution_count": 99,
   "metadata": {
    "execution": {
     "iopub.execute_input": "2020-10-31T15:05:07.659998Z",
     "iopub.status.busy": "2020-10-31T15:05:07.658973Z",
     "iopub.status.idle": "2020-10-31T15:05:10.970349Z",
     "shell.execute_reply": "2020-10-31T15:05:10.969572Z"
    },
    "papermill": {
     "duration": 3.469688,
     "end_time": "2020-10-31T15:05:10.970524",
     "exception": false,
     "start_time": "2020-10-31T15:05:07.500836",
     "status": "completed"
    },
    "tags": []
   },
   "outputs": [],
   "source": [
    "# saving top_varieties_count and top_40_df as csv file for cleaning and modeling\n",
    "top_varieties_count = top_varieties.to_frame()\n",
    "top_40_df.to_csv('top_40_varieties.csv', index=False)\n",
    "top_varieties_count.to_csv('top_varieties_count.csv')"
   ]
  },
  {
   "cell_type": "code",
   "execution_count": null,
   "metadata": {
    "papermill": {
     "duration": 0.152613,
     "end_time": "2020-10-31T15:05:11.276842",
     "exception": false,
     "start_time": "2020-10-31T15:05:11.124229",
     "status": "completed"
    },
    "tags": []
   },
   "outputs": [],
   "source": []
  }
 ],
 "metadata": {
  "kernelspec": {
   "display_name": "Python 3",
   "language": "python",
   "name": "python3"
  },
  "language_info": {
   "codemirror_mode": {
    "name": "ipython",
    "version": 3
   },
   "file_extension": ".py",
   "mimetype": "text/x-python",
   "name": "python",
   "nbconvert_exporter": "python",
   "pygments_lexer": "ipython3",
   "version": "3.7.7"
  },
  "papermill": {
   "duration": 69.146207,
   "end_time": "2020-10-31T15:05:11.537691",
   "environment_variables": {},
   "exception": null,
   "input_path": "__notebook__.ipynb",
   "output_path": "__notebook__.ipynb",
   "parameters": {},
   "start_time": "2020-10-31T15:04:02.391484",
   "version": "2.1.0"
  }
 },
 "nbformat": 4,
 "nbformat_minor": 4
}
